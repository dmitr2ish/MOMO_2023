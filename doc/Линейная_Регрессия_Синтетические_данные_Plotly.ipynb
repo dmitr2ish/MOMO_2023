{
  "cells": [
    {
      "cell_type": "markdown",
      "metadata": {
        "id": "view-in-github",
        "colab_type": "text"
      },
      "source": [
        "<a href=\"https://colab.research.google.com/github/dmitr2ish/MOMO_2023/blob/main/%D0%9B%D0%B8%D0%BD%D0%B5%D0%B9%D0%BD%D0%B0%D1%8F_%D0%A0%D0%B5%D0%B3%D1%80%D0%B5%D1%81%D1%81%D0%B8%D1%8F_%D0%A1%D0%B8%D0%BD%D1%82%D0%B5%D1%82%D0%B8%D1%87%D0%B5%D1%81%D0%BA%D0%B8%D0%B5_%D0%B4%D0%B0%D0%BD%D0%BD%D1%8B%D0%B5_Plotly.ipynb\" target=\"_parent\"><img src=\"https://colab.research.google.com/assets/colab-badge.svg\" alt=\"Open In Colab\"/></a>"
      ]
    },
    {
      "cell_type": "markdown",
      "metadata": {
        "id": "-suDQpE8bNaH"
      },
      "source": [
        "# Импорт"
      ]
    },
    {
      "cell_type": "code",
      "execution_count": null,
      "metadata": {
        "id": "vfMEHa6PbNaN"
      },
      "outputs": [],
      "source": [
        "import numpy as np # библиотека Numpy для операций линейной алгебры и прочего\n",
        "import matplotlib.pyplot as plt # библиотека Matplotlib для визуализации\n",
        "import pandas as pd # Библиотека Pandas для работы с табличными данными\n",
        "\n",
        "import plotly.graph_objects as go # Библиотека Plotly. Модуль \"Graph Objects\"\n",
        "import plotly.express as px # Библиотека Plotly. Модуль \"Express\""
      ]
    },
    {
      "cell_type": "markdown",
      "source": [
        "Этого нам будет достаточно чтобы написать алгоритм линейной регрессии \"своими руками\""
      ],
      "metadata": {
        "id": "SNvBgfYNirxt"
      }
    },
    {
      "cell_type": "markdown",
      "source": [
        "если **не** хотите рисунки на темном фоне **не** выполняйте следующую ячейку"
      ],
      "metadata": {
        "id": "baTTDbseVYsQ"
      }
    },
    {
      "cell_type": "code",
      "source": [
        "plt.style.use('dark_background')"
      ],
      "metadata": {
        "id": "oiU0twowQmbT"
      },
      "execution_count": null,
      "outputs": []
    },
    {
      "cell_type": "markdown",
      "source": [
        "[полный перечень стилей Matplotlib](https://matplotlib.org/stable/gallery/style_sheets/style_sheets_reference.html)"
      ],
      "metadata": {
        "id": "l_ih1NzhizFC"
      }
    },
    {
      "cell_type": "markdown",
      "source": [
        "# Генерация Данных"
      ],
      "metadata": {
        "id": "-7qUW1w9Vh3O"
      }
    },
    {
      "cell_type": "markdown",
      "metadata": {
        "id": "3qEw_a7mbNaO"
      },
      "source": [
        "Создание одномерных данных, которые могут быть функциями некоторыми функциями от входных данных `X`.\n",
        "\n",
        "В учебных целях (чтобы не иметь всегда `100%` точности) мы также добавим  шумы к данным.\n",
        "\n",
        "Т.о. есть мы будем иметь как истинный вариант зависимости, так и зашумленный."
      ]
    },
    {
      "cell_type": "markdown",
      "source": [
        "Созданные данные могут быть как линейными, `f= None`, так и  гармоническими (`np.sin, np.cos`) или экспонециальными `np.exp` (или можно задать свои функции)"
      ],
      "metadata": {
        "id": "VYxYxjoum1rx"
      }
    },
    {
      "cell_type": "code",
      "execution_count": null,
      "metadata": {
        "id": "P1wmly4jbNaO"
      },
      "outputs": [],
      "source": [
        "def true_fun(x, a=np.pi, b = 0, f=np.sin):\n",
        "    \"\"\"Генерация произвольной зависимости\n",
        "    Входные переменные:\n",
        "    ===========\n",
        "    x: массив данных из которых будет генерироваться зависимость\n",
        "    a: коэффициент на который входные данные будут умножаться\n",
        "    если а - список, то это коэффициенты в полиномиальной зависимости\n",
        "    так, а = [1,2,3] позволит сгенерировать зависимость вида 1*x+ 2*x^2 +3*x^3\n",
        "    b: коэффициент который будет добавлен к данным (постоянная прибавочка)\n",
        "    f: функция которая будет применена к зависимости. Можно задать списком. Тогда это будут разные колонки\n",
        "    \"\"\"\n",
        "    x = np.atleast_1d(x)[:] # убеждаемся что данные - одномерный массив\n",
        "    a = np.atleast_1d(a)\n",
        "\n",
        "    if f is None: f = lambda x:x # если функция не задана (None) то ничего не происходит\n",
        "    x = np.sum([ai*np.power(x, i+1) for i,ai in enumerate(a)],axis=0) # домнажаем входные данные на коэффициенты (и если надо возводим в степень)\n",
        "\n",
        "    return f(x+ b)\n",
        "\n",
        "def noises(shape , noise_power):\n",
        "    \"\"\"Генерация случайного шума\n",
        "    Входные переменные:\n",
        "    ===========\n",
        "    shape: размерность массива данных\n",
        "    noise_power: коэффициент ~ сила шума\n",
        "    \"\"\"\n",
        "    return np.random.randn(*shape) *noise_power # библиотека numpy может генерировать случайные числа.\n",
        "                                                # в данном случае - нормальное распределение (среднее = 0, стандартное отклонение = 1 )\n",
        "\n",
        "def dataset(a, b, f = None,  N = 250, x_max =1, noise_power = 0, random_x = True,  seed = 42):\n",
        "    \"\"\"Генерация набора данных\n",
        "    Входные переменные:\n",
        "    ===========\n",
        "    a: коэффициент на который входные данные будут умножаться\n",
        "    если а - список, то это коэффициенты в полиномиальной зависимости\n",
        "    так, а = [1,2,3] позволит сгенерировать зависимость вида 1*x+ 2*x^2 +3*x^3\n",
        "    b: коэффициент который будет добавлен к данным (постоянная прибавочка)\n",
        "    f: функция которая будет применена к зависимости. Можно задать списком. Тогда это будут разные колонки\n",
        "    N: количество точек данных\n",
        "    x_max: максимальное значение данных\n",
        "    noise_power: коэффициент ~ сила шума\n",
        "    random_x: как будут распределены данные (линейно, или случайно)\n",
        "    seed: фиксированный сид случайных чисел (для повторяемости)\n",
        "    \"\"\"\n",
        "\n",
        "    np.random.seed(seed) # фиксируем случайный seed\n",
        "\n",
        "    if random_x:# если мы хотим случайно распределить данные\n",
        "        x = np.sort(np.random.rand(N))*x_max # то x будет N случайных числе из диапазона от 0 до x_max\n",
        "    else: # иначе\n",
        "        x = np.linspace(0,x_max,N) # х это равномерно распределенные N чисел из диапазона от 0 до x_max\n",
        "\n",
        "    y_true = np.array([]) # создаем пустой массив который будет \"наполнять\" зависимостями\n",
        "\n",
        "    for f_ in np.append([], f): # если f - задана списком, то мы учтем все варианты\n",
        "        y_true=np.append(y_true, true_fun(x, a, b, f_)) # применяем описанную выше функцию true_fun\n",
        "\n",
        "    y_true = y_true.reshape(-1,N).T\n",
        "    y = y_true + noises(y_true.shape , noise_power) # добавляем шум\n",
        "\n",
        "    return y, y_true, np.atleast_2d(x).T # возвращаем зашумленные значения зависимостей, зависимости без шума, и массив входных данных"
      ]
    },
    {
      "cell_type": "markdown",
      "metadata": {
        "id": "l1TM6h99bNaP"
      },
      "source": [
        "\n",
        "\n",
        "Попробуем визуализировать получившиеся данные"
      ]
    },
    {
      "cell_type": "code",
      "source": [
        "def vis_data(y, y_true,x, title):\n",
        "    \"\"\"Визуализация полученного набора данных\n",
        "    Входные переменные:\n",
        "    ===========\n",
        "    y: зашумленные значения зависимостей\n",
        "    y_true: зависимости без шума\n",
        "    x: массив входных данных\n",
        "    title: общий заголовок\n",
        "    \"\"\"\n",
        "    fig  = plt.figure(figsize=(14,8))# создаем \"полотно\", на котором будем \"рисовать\" график\n",
        "    # рисуем с помощью библиотеки matplotlib\n",
        "    plt.scatter(x[:,0], # какую переменную используем для горизонтальной оси - массив данных х\n",
        "                y, # какую переменную используем для вертикальной оси - зашумленные значения зависимостей\n",
        "                edgecolor='b', #  цвет маркера\n",
        "                label=\"Зашумленные данные\", # название зависимости, которое будет отображено в легенде\n",
        "                s=196, # квадрат радиуса\n",
        "                alpha = 0.6) # прозрачность\n",
        "    plt.scatter(x[:,0], y_true,label=\"Реальные данные\", s=81,c='g', alpha = 0.8) # аналогично вышеописанному, только для зависимости без шума\n",
        "                                                                                # и с другими параметрами маркеров (цвет, размер, прозрачность, название)\n",
        "    plt.grid() # чтобы была сетка\n",
        "    plt.xlabel('x',fontsize=35) # название горизонтальной оси\n",
        "    plt.ylabel('y',fontsize=35) # название вертикальной оси\n",
        "    plt.legend(fontsize=25) # чтобы была легенда\n",
        "    plt.title(title, fontsize=25 ) # заголовок\n",
        "    plt.xticks(fontsize = 25) # чтобы промежуточные значения горизонтальной оси были не маленькими\n",
        "    plt.yticks(fontsize = 25);# чтобы промежуточные значения вертикальной оси были не маленькими\n",
        "    plt.tight_layout() # чтобы полотно было без пустого пространство\n"
      ],
      "metadata": {
        "id": "qsTjy9n2kyBh"
      },
      "execution_count": null,
      "outputs": []
    },
    {
      "cell_type": "code",
      "source": [
        "def vis_data_plotly(y, y_true,x, title):\n",
        "    \"\"\"Визуализация полученного набора данных с помощью библиотеки plotly\n",
        "    Входные переменные:\n",
        "    ===========\n",
        "    y: зашумленные значения зависимостей\n",
        "    y_true: зависимости без шума\n",
        "    x: массив входных данных\n",
        "    title: общий заголовок\n",
        "    \"\"\"\n",
        "    fig = go.Figure()\n",
        "    # рисуем с помощью библиотеки plotly\n",
        "    fig.add_trace(\n",
        "        go.Scatter(\n",
        "        x=x[:,0],\n",
        "        y=y_true[:,0],\n",
        "        mode='lines+markers',\n",
        "        name='Реальные данные',\n",
        "        marker=dict(size = 10,\n",
        "                    color='Green')\n",
        "        )\n",
        "    )\n",
        "    fig.add_trace(\n",
        "        go.Scatter(\n",
        "        x=x[:,0],\n",
        "        y=y[:,0],\n",
        "        mode='markers',\n",
        "        name='Зашумленные данные',\n",
        "        opacity=0.5,\n",
        "        marker=dict(size = 15,\n",
        "                    color='LightSkyBlue',\n",
        "                    line=dict(\n",
        "                        color='Blue',\n",
        "                        width=3\n",
        "            )),\n",
        "\n",
        "        )\n",
        "    )\n",
        "    fig.update_layout(\n",
        "            title=title,\n",
        "            width=1200,\n",
        "            height=600,\n",
        "        template = \"plotly_dark\"\n",
        "            )\n",
        "\n",
        "    fig.show()\n"
      ],
      "metadata": {
        "id": "_GK0VDqMAao1"
      },
      "execution_count": null,
      "outputs": []
    },
    {
      "cell_type": "markdown",
      "source": [
        "**Линейная зависимость**"
      ],
      "metadata": {
        "id": "9c3BW3nxRzDm"
      }
    },
    {
      "cell_type": "markdown",
      "source": [
        "Приминяем описанные выше функции для генерации линейной зависимости вида\n",
        "\n",
        "`y = 2*x+2`, где `х` изменяется в диапазоне от `0` до `1`, в `х` - `100` точек, \"мощность\" шума `0.1`\n",
        "\n",
        "для этого запускаем функцию `dataset` с нужными параметрами\n",
        "\n",
        "*   `a = 2` (на это число умножится `х`)\n",
        "*  ` b = 2 `(это число добавится к `a*х`)\n",
        "*   `f = None` (чтобы не было никаких других зависимостей)\n",
        "*   `N = 100` (число точек)\n",
        "*   `x_max =1` (максимальное значение `х`)\n",
        "*   `noise_power = 0.1` (мощность шума)\n",
        "*   `seed = 42` (фиксированный сид случайных чисел)\n",
        "                       \n",
        "\n",
        "а потом визуализируем данные с помощью функции `vis_data`\n",
        "\n"
      ],
      "metadata": {
        "id": "0KRd36kZsAQN"
      }
    },
    {
      "cell_type": "code",
      "source": [
        "y, y_true, x = dataset(a = 2, b = 2,\n",
        "                       f = None,  N = 100,\n",
        "                       x_max =1,\n",
        "                       noise_power = 0.1,\n",
        "                       seed = 42)\n",
        "vis_data(y, y_true,x, 'Линейная зависимость')\n",
        "\n"
      ],
      "metadata": {
        "colab": {
          "base_uri": "https://localhost:8080/",
          "height": 757
        },
        "id": "aKEbAxZRiH0g",
        "outputId": "db77b25a-cf6a-4f9a-9351-57e87e7852fa"
      },
      "execution_count": null,
      "outputs": [
        {
          "output_type": "display_data",
          "data": {
            "text/plain": [
              "<Figure size 1400x800 with 1 Axes>"
            ],
            "image/png": "[encoded data removed]"
          },
          "metadata": {}
        }
      ]
    },
    {
      "cell_type": "markdown",
      "source": [
        "Интерактивный вариант визуализации"
      ],
      "metadata": {
        "id": "UOj2PmMlGMXe"
      }
    },
    {
      "cell_type": "code",
      "source": [
        "vis_data_plotly(y, y_true,x, 'Линейная зависимость')"
      ],
      "metadata": {
        "colab": {
          "base_uri": "https://localhost:8080/",
          "height": 617
        },
        "id": "K0hLDvvnBCzE",
        "outputId": "871bda6a-6bd8-4bb0-a8be-ffded25542fc"
      },
      "execution_count": null,
      "outputs": [
        {
          "output_type": "display_data",
          "data": {
            "text/html": [
              "<html>\n",
              "<head><meta charset=\"utf-8\" /></head>\n",
              "<body>\n",
              "    <div>            <script src=\"https://cdnjs.cloudflare.com/ajax/libs/mathjax/2.7.5/MathJax.js?config=TeX-AMS-MML_SVG\"></script><script type=\"text/javascript\">if (window.MathJax && window.MathJax.Hub && window.MathJax.Hub.Config) {window.MathJax.Hub.Config({SVG: {font: \"STIX-Web\"}});}</script>                <script type=\"text/javascript\">window.PlotlyConfig = {MathJaxConfig: 'local'};</script>\n",
              "        <script charset=\"utf-8\" src=\"https://cdn.plot.ly/plotly-2.24.1.min.js\"></script>                <div id=\"52fe368d-ccca-495e-bb0c-338c9ae2a28c\" class=\"plotly-graph-div\" style=\"height:600px; width:1200px;\"></div>            <script type=\"text/javascript\">                                    window.PLOTLYENV=window.PLOTLYENV || {};                                    if (document.getElementById(\"52fe368d-ccca-495e-bb0c-338c9ae2a28c\")) {                    Plotly.newPlot(                        \"52fe368d-ccca-495e-bb0c-338c9ae2a28c\",                        [{\"marker\":{\"color\":\"Green\",\"size\":10},\"mode\":\"lines+markers\",\"name\":\"\\u0420\\u0435\\u0430\\u043b\\u044c\\u043d\\u044b\\u0435 \\u0434\\u0430\\u043d\\u043d\\u044b\\u0435\",\"x\":[0.005522117123602399,0.020584494295802447,0.02541912674409519,0.034388521115218396,0.045227288910538066,0.046450412719997725,0.05808361216819946,0.06355835028602363,0.06505159298527952,0.07404465173409036,0.07455064367977082,0.0884925020519195,0.09767211400638387,0.10789142699330445,0.11586905952512971,0.1195942459383017,0.12203823484477883,0.13949386065204183,0.14092422497476265,0.15599452033620265,0.15601864044243652,0.17052412368729153,0.18182496720710062,0.18340450985343382,0.18485445552552704,0.1959828624191452,0.1987156815341724,0.19967378215835974,0.21233911067827616,0.2587799816000169,0.2713490317738959,0.28093450968738076,0.2912291401980419,0.29214464853521815,0.3042422429595377,0.3046137691733707,0.3109823217156622,0.31171107608941095,0.32518332202674705,0.32533033076326434,0.3308980248526492,0.3567533266935893,0.3584657285442726,0.3663618432936917,0.3745401188473625,0.388677289689482,0.42754101835854963,0.43194501864211576,0.4401524937396013,0.45606998421703593,0.4722149251619493,0.49379559636439074,0.4951769101112702,0.5142344384136116,0.5200680211778108,0.5227328293819941,0.5247564316322378,0.5426960831582485,0.5467102793432796,0.5612771975694962,0.5924145688620425,0.5978999788110851,0.5986584841970366,0.6011150117432088,0.6075448519014384,0.6118528947223795,0.6232981268275579,0.6375574713552131,0.662522284353982,0.6842330265121569,0.7068573438476171,0.7080725777960455,0.713244787222995,0.7290071680409873,0.7296061783380641,0.7319939418114051,0.7607850486168974,0.770967179954561,0.7712703466859457,0.7722447692966574,0.7751328233611146,0.7851759613930136,0.8021969807540397,0.8083973481164611,0.8154614284548342,0.8287375091519293,0.8324426408004217,0.8631034258755935,0.8661761457749352,0.8872127425763265,0.8948273504276488,0.9093204020787821,0.9218742350231168,0.9394989415641891,0.9488855372533332,0.9507143064099162,0.9656320330745594,0.9695846277645586,0.9699098521619943,0.9868869366005173],\"y\":[2.011044234247205,2.041168988591605,2.05083825348819,2.068777042230437,2.090454577821076,2.0929008254399957,2.116167224336399,2.1271167005720475,2.130103185970559,2.148089303468181,2.1491012873595414,2.176985004103839,2.1953442280127677,2.215782853986609,2.2317381190502594,2.2391884918766034,2.2440764696895577,2.278987721304084,2.2818484499495253,2.3119890406724055,2.312037280884873,2.341048247374583,2.3636499344142012,2.3668090197068676,2.3697089110510543,2.3919657248382906,2.397431363068345,2.3993475643167193,2.4246782213565523,2.517559963200034,2.5426980635477916,2.5618690193747615,2.582458280396084,2.5842892970704363,2.6084844859190754,2.609227538346741,2.6219646434313244,2.623422152178822,2.650366644053494,2.650660661526529,2.6617960497052984,2.713506653387179,2.7169314570885454,2.7327236865873834,2.749080237694725,2.7773545793789642,2.855082036717099,2.8638900372842313,2.8803049874792026,2.912139968434072,2.944429850323899,2.9875911927287815,2.9903538202225404,3.0284688768272234,3.0401360423556216,3.0454656587639883,3.049512863264476,3.085392166316497,3.0934205586865593,3.1225543951389927,3.184829137724085,3.19579995762217,3.197316968394073,3.2022300234864174,3.2150897038028767,3.223705789444759,3.246596253655116,3.2751149427104265,3.325044568707964,3.3684660530243136,3.4137146876952342,3.416145155592091,3.42648957444599,3.4580143360819746,3.459212356676128,3.46398788362281,3.521570097233795,3.541934359909122,3.5425406933718913,3.544489538593315,3.550265646722229,3.570351922786027,3.6043939615080793,3.6167946962329225,3.6309228569096685,3.6574750183038587,3.6648852816008435,3.7262068517511873,3.73235229154987,3.774425485152653,3.789654700855298,3.818640804157564,3.8437484700462337,3.8789978831283785,3.8977710745066663,3.9014286128198323,3.9312640661491187,3.939169255529117,3.9398197043239884,3.9737738732010346],\"type\":\"scatter\"},{\"marker\":{\"color\":\"LightSkyBlue\",\"line\":{\"color\":\"Blue\",\"width\":3},\"size\":15},\"mode\":\"markers\",\"name\":\"\\u0417\\u0430\\u0448\\u0443\\u043c\\u043b\\u0435\\u043d\\u043d\\u044b\\u0435 \\u0434\\u0430\\u043d\\u043d\\u044b\\u0435\",\"opacity\":0.5,\"x\":[0.005522117123602399,0.020584494295802447,0.02541912674409519,0.034388521115218396,0.045227288910538066,0.046450412719997725,0.05808361216819946,0.06355835028602363,0.06505159298527952,0.07404465173409036,0.07455064367977082,0.0884925020519195,0.09767211400638387,0.10789142699330445,0.11586905952512971,0.1195942459383017,0.12203823484477883,0.13949386065204183,0.14092422497476265,0.15599452033620265,0.15601864044243652,0.17052412368729153,0.18182496720710062,0.18340450985343382,0.18485445552552704,0.1959828624191452,0.1987156815341724,0.19967378215835974,0.21233911067827616,0.2587799816000169,0.2713490317738959,0.28093450968738076,0.2912291401980419,0.29214464853521815,0.3042422429595377,0.3046137691733707,0.3109823217156622,0.31171107608941095,0.32518332202674705,0.32533033076326434,0.3308980248526492,0.3567533266935893,0.3584657285442726,0.3663618432936917,0.3745401188473625,0.388677289689482,0.42754101835854963,0.43194501864211576,0.4401524937396013,0.45606998421703593,0.4722149251619493,0.49379559636439074,0.4951769101112702,0.5142344384136116,0.5200680211778108,0.5227328293819941,0.5247564316322378,0.5426960831582485,0.5467102793432796,0.5612771975694962,0.5924145688620425,0.5978999788110851,0.5986584841970366,0.6011150117432088,0.6075448519014384,0.6118528947223795,0.6232981268275579,0.6375574713552131,0.662522284353982,0.6842330265121569,0.7068573438476171,0.7080725777960455,0.713244787222995,0.7290071680409873,0.7296061783380641,0.7319939418114051,0.7607850486168974,0.770967179954561,0.7712703466859457,0.7722447692966574,0.7751328233611146,0.7851759613930136,0.8021969807540397,0.8083973481164611,0.8154614284548342,0.8287375091519293,0.8324426408004217,0.8631034258755935,0.8661761457749352,0.8872127425763265,0.8948273504276488,0.9093204020787821,0.9218742350231168,0.9394989415641891,0.9488855372533332,0.9507143064099162,0.9656320330745594,0.9695846277645586,0.9699098521619943,0.9868869366005173],\"y\":[2.019748941071022,2.011268253545018,2.0600143311417405,1.8700201507703476,2.0684873890373248,2.1286120825911703,2.2639566288105506,2.075289678744683,2.04925382568124,2.0979135991097273,2.2406414991297487,2.209860115069808,2.1423682076360637,2.2671095972979445,2.2414458739850636,2.3360529909298924,2.1738711603018226,2.246221506644307,2.2426376346363095,2.1656375458591937,2.3416493085913306,2.367153774592572,2.3641612800784473,2.343350306369353,2.228171836846013,2.3499011925617546,2.363159911415668,2.3191198373945574,2.4085496501899515,2.5579650488814876,2.7313166536688445,2.5793268006579453,2.6082133194683603,2.5768447054938197,2.4166073643891712,2.6065761508018195,2.627987664425427,2.8697463634273506,2.6311305475753817,2.68081539575989,2.658324872734774,2.5966388496252257,2.8312137385400473,2.8079169898560608,2.8281834323990296,2.68641583389949,2.9953614678107088,2.7237049310050034,2.9389906968592294,3.1311855310150696,2.84537621781083,2.9309614197685043,3.0003189567313044,2.9781213114156033,2.8850696992490086,3.052321956244591,2.9432824918918654,3.1327514093800155,3.001478135263179,3.2775478356407466,3.1065038084904613,3.1635938060016024,3.27866869013104,3.079143591843022,3.23783569726329,3.354420064873002,3.085847930198993,3.293578328563657,3.351032848132806,3.4466483402020445,3.290019616607426,3.284099494283663,3.47868373100768,3.487712803405293,3.4842616417107157,3.4986327045725076,3.4535676250759457,3.5651597296252224,3.5718479407017596,3.473054396790678,3.736843097836705,3.617735214877206,3.4852636117878144,3.6824500570963057,3.5334546898869363,3.736183478678104,3.7807448395015837,3.644138619916016,3.8286899044743024,3.815703577846303,3.871860716854747,4.008320102422958,3.8192096584459465,3.8036242666926294,3.808819631544114,3.8198475843232886,3.9235538952077085,3.9732844530107814,3.9674887842569904,4.056492198104637],\"type\":\"scatter\"}],                        {\"template\":{\"data\":{\"barpolar\":[{\"marker\":{\"line\":{\"color\":\"rgb(17,17,17)\",\"width\":0.5},\"pattern\":{\"fillmode\":\"overlay\",\"size\":10,\"solidity\":0.2}},\"type\":\"barpolar\"}],\"bar\":[{\"error_x\":{\"color\":\"#f2f5fa\"},\"error_y\":{\"color\":\"#f2f5fa\"},\"marker\":{\"line\":{\"color\":\"rgb(17,17,17)\",\"width\":0.5},\"pattern\":{\"fillmode\":\"overlay\",\"size\":10,\"solidity\":0.2}},\"type\":\"bar\"}],\"carpet\":[{\"aaxis\":{\"endlinecolor\":\"#A2B1C6\",\"gridcolor\":\"#506784\",\"linecolor\":\"#506784\",\"minorgridcolor\":\"#506784\",\"startlinecolor\":\"#A2B1C6\"},\"baxis\":{\"endlinecolor\":\"#A2B1C6\",\"gridcolor\":\"#506784\",\"linecolor\":\"#506784\",\"minorgridcolor\":\"#506784\",\"startlinecolor\":\"#A2B1C6\"},\"type\":\"carpet\"}],\"choropleth\":[{\"colorbar\":{\"outlinewidth\":0,\"ticks\":\"\"},\"type\":\"choropleth\"}],\"contourcarpet\":[{\"colorbar\":{\"outlinewidth\":0,\"ticks\":\"\"},\"type\":\"contourcarpet\"}],\"contour\":[{\"colorbar\":{\"outlinewidth\":0,\"ticks\":\"\"},\"colorscale\":[[0.0,\"#0d0887\"],[0.1111111111111111,\"#46039f\"],[0.2222222222222222,\"#7201a8\"],[0.3333333333333333,\"#9c179e\"],[0.4444444444444444,\"#bd3786\"],[0.5555555555555556,\"#d8576b\"],[0.6666666666666666,\"#ed7953\"],[0.7777777777777778,\"#fb9f3a\"],[0.8888888888888888,\"#fdca26\"],[1.0,\"#f0f921\"]],\"type\":\"contour\"}],\"heatmapgl\":[{\"colorbar\":{\"outlinewidth\":0,\"ticks\":\"\"},\"colorscale\":[[0.0,\"#0d0887\"],[0.1111111111111111,\"#46039f\"],[0.2222222222222222,\"#7201a8\"],[0.3333333333333333,\"#9c179e\"],[0.4444444444444444,\"#bd3786\"],[0.5555555555555556,\"#d8576b\"],[0.6666666666666666,\"#ed7953\"],[0.7777777777777778,\"#fb9f3a\"],[0.8888888888888888,\"#fdca26\"],[1.0,\"#f0f921\"]],\"type\":\"heatmapgl\"}],\"heatmap\":[{\"colorbar\":{\"outlinewidth\":0,\"ticks\":\"\"},\"colorscale\":[[0.0,\"#0d0887\"],[0.1111111111111111,\"#46039f\"],[0.2222222222222222,\"#7201a8\"],[0.3333333333333333,\"#9c179e\"],[0.4444444444444444,\"#bd3786\"],[0.5555555555555556,\"#d8576b\"],[0.6666666666666666,\"#ed7953\"],[0.7777777777777778,\"#fb9f3a\"],[0.8888888888888888,\"#fdca26\"],[1.0,\"#f0f921\"]],\"type\":\"heatmap\"}],\"histogram2dcontour\":[{\"colorbar\":{\"outlinewidth\":0,\"ticks\":\"\"},\"colorscale\":[[0.0,\"#0d0887\"],[0.1111111111111111,\"#46039f\"],[0.2222222222222222,\"#7201a8\"],[0.3333333333333333,\"#9c179e\"],[0.4444444444444444,\"#bd3786\"],[0.5555555555555556,\"#d8576b\"],[0.6666666666666666,\"#ed7953\"],[0.7777777777777778,\"#fb9f3a\"],[0.8888888888888888,\"#fdca26\"],[1.0,\"#f0f921\"]],\"type\":\"histogram2dcontour\"}],\"histogram2d\":[{\"colorbar\":{\"outlinewidth\":0,\"ticks\":\"\"},\"colorscale\":[[0.0,\"#0d0887\"],[0.1111111111111111,\"#46039f\"],[0.2222222222222222,\"#7201a8\"],[0.3333333333333333,\"#9c179e\"],[0.4444444444444444,\"#bd3786\"],[0.5555555555555556,\"#d8576b\"],[0.6666666666666666,\"#ed7953\"],[0.7777777777777778,\"#fb9f3a\"],[0.8888888888888888,\"#fdca26\"],[1.0,\"#f0f921\"]],\"type\":\"histogram2d\"}],\"histogram\":[{\"marker\":{\"pattern\":{\"fillmode\":\"overlay\",\"size\":10,\"solidity\":0.2}},\"type\":\"histogram\"}],\"mesh3d\":[{\"colorbar\":{\"outlinewidth\":0,\"ticks\":\"\"},\"type\":\"mesh3d\"}],\"parcoords\":[{\"line\":{\"colorbar\":{\"outlinewidth\":0,\"ticks\":\"\"}},\"type\":\"parcoords\"}],\"pie\":[{\"automargin\":true,\"type\":\"pie\"}],\"scatter3d\":[{\"line\":{\"colorbar\":{\"outlinewidth\":0,\"ticks\":\"\"}},\"marker\":{\"colorbar\":{\"outlinewidth\":0,\"ticks\":\"\"}},\"type\":\"scatter3d\"}],\"scattercarpet\":[{\"marker\":{\"colorbar\":{\"outlinewidth\":0,\"ticks\":\"\"}},\"type\":\"scattercarpet\"}],\"scattergeo\":[{\"marker\":{\"colorbar\":{\"outlinewidth\":0,\"ticks\":\"\"}},\"type\":\"scattergeo\"}],\"scattergl\":[{\"marker\":{\"line\":{\"color\":\"#283442\"}},\"type\":\"scattergl\"}],\"scattermapbox\":[{\"marker\":{\"colorbar\":{\"outlinewidth\":0,\"ticks\":\"\"}},\"type\":\"scattermapbox\"}],\"scatterpolargl\":[{\"marker\":{\"colorbar\":{\"outlinewidth\":0,\"ticks\":\"\"}},\"type\":\"scatterpolargl\"}],\"scatterpolar\":[{\"marker\":{\"colorbar\":{\"outlinewidth\":0,\"ticks\":\"\"}},\"type\":\"scatterpolar\"}],\"scatter\":[{\"marker\":{\"line\":{\"color\":\"#283442\"}},\"type\":\"scatter\"}],\"scatterternary\":[{\"marker\":{\"colorbar\":{\"outlinewidth\":0,\"ticks\":\"\"}},\"type\":\"scatterternary\"}],\"surface\":[{\"colorbar\":{\"outlinewidth\":0,\"ticks\":\"\"},\"colorscale\":[[0.0,\"#0d0887\"],[0.1111111111111111,\"#46039f\"],[0.2222222222222222,\"#7201a8\"],[0.3333333333333333,\"#9c179e\"],[0.4444444444444444,\"#bd3786\"],[0.5555555555555556,\"#d8576b\"],[0.6666666666666666,\"#ed7953\"],[0.7777777777777778,\"#fb9f3a\"],[0.8888888888888888,\"#fdca26\"],[1.0,\"#f0f921\"]],\"type\":\"surface\"}],\"table\":[{\"cells\":{\"fill\":{\"color\":\"#506784\"},\"line\":{\"color\":\"rgb(17,17,17)\"}},\"header\":{\"fill\":{\"color\":\"#2a3f5f\"},\"line\":{\"color\":\"rgb(17,17,17)\"}},\"type\":\"table\"}]},\"layout\":{\"annotationdefaults\":{\"arrowcolor\":\"#f2f5fa\",\"arrowhead\":0,\"arrowwidth\":1},\"autotypenumbers\":\"strict\",\"coloraxis\":{\"colorbar\":{\"outlinewidth\":0,\"ticks\":\"\"}},\"colorscale\":{\"diverging\":[[0,\"#8e0152\"],[0.1,\"#c51b7d\"],[0.2,\"#de77ae\"],[0.3,\"#f1b6da\"],[0.4,\"#fde0ef\"],[0.5,\"#f7f7f7\"],[0.6,\"#e6f5d0\"],[0.7,\"#b8e186\"],[0.8,\"#7fbc41\"],[0.9,\"#4d9221\"],[1,\"#276419\"]],\"sequential\":[[0.0,\"#0d0887\"],[0.1111111111111111,\"#46039f\"],[0.2222222222222222,\"#7201a8\"],[0.3333333333333333,\"#9c179e\"],[0.4444444444444444,\"#bd3786\"],[0.5555555555555556,\"#d8576b\"],[0.6666666666666666,\"#ed7953\"],[0.7777777777777778,\"#fb9f3a\"],[0.8888888888888888,\"#fdca26\"],[1.0,\"#f0f921\"]],\"sequentialminus\":[[0.0,\"#0d0887\"],[0.1111111111111111,\"#46039f\"],[0.2222222222222222,\"#7201a8\"],[0.3333333333333333,\"#9c179e\"],[0.4444444444444444,\"#bd3786\"],[0.5555555555555556,\"#d8576b\"],[0.6666666666666666,\"#ed7953\"],[0.7777777777777778,\"#fb9f3a\"],[0.8888888888888888,\"#fdca26\"],[1.0,\"#f0f921\"]]},\"colorway\":[\"#636efa\",\"#EF553B\",\"#00cc96\",\"#ab63fa\",\"#FFA15A\",\"#19d3f3\",\"#FF6692\",\"#B6E880\",\"#FF97FF\",\"#FECB52\"],\"font\":{\"color\":\"#f2f5fa\"},\"geo\":{\"bgcolor\":\"rgb(17,17,17)\",\"lakecolor\":\"rgb(17,17,17)\",\"landcolor\":\"rgb(17,17,17)\",\"showlakes\":true,\"showland\":true,\"subunitcolor\":\"#506784\"},\"hoverlabel\":{\"align\":\"left\"},\"hovermode\":\"closest\",\"mapbox\":{\"style\":\"dark\"},\"paper_bgcolor\":\"rgb(17,17,17)\",\"plot_bgcolor\":\"rgb(17,17,17)\",\"polar\":{\"angularaxis\":{\"gridcolor\":\"#506784\",\"linecolor\":\"#506784\",\"ticks\":\"\"},\"bgcolor\":\"rgb(17,17,17)\",\"radialaxis\":{\"gridcolor\":\"#506784\",\"linecolor\":\"#506784\",\"ticks\":\"\"}},\"scene\":{\"xaxis\":{\"backgroundcolor\":\"rgb(17,17,17)\",\"gridcolor\":\"#506784\",\"gridwidth\":2,\"linecolor\":\"#506784\",\"showbackground\":true,\"ticks\":\"\",\"zerolinecolor\":\"#C8D4E3\"},\"yaxis\":{\"backgroundcolor\":\"rgb(17,17,17)\",\"gridcolor\":\"#506784\",\"gridwidth\":2,\"linecolor\":\"#506784\",\"showbackground\":true,\"ticks\":\"\",\"zerolinecolor\":\"#C8D4E3\"},\"zaxis\":{\"backgroundcolor\":\"rgb(17,17,17)\",\"gridcolor\":\"#506784\",\"gridwidth\":2,\"linecolor\":\"#506784\",\"showbackground\":true,\"ticks\":\"\",\"zerolinecolor\":\"#C8D4E3\"}},\"shapedefaults\":{\"line\":{\"color\":\"#f2f5fa\"}},\"sliderdefaults\":{\"bgcolor\":\"#C8D4E3\",\"bordercolor\":\"rgb(17,17,17)\",\"borderwidth\":1,\"tickwidth\":0},\"ternary\":{\"aaxis\":{\"gridcolor\":\"#506784\",\"linecolor\":\"#506784\",\"ticks\":\"\"},\"baxis\":{\"gridcolor\":\"#506784\",\"linecolor\":\"#506784\",\"ticks\":\"\"},\"bgcolor\":\"rgb(17,17,17)\",\"caxis\":{\"gridcolor\":\"#506784\",\"linecolor\":\"#506784\",\"ticks\":\"\"}},\"title\":{\"x\":0.05},\"updatemenudefaults\":{\"bgcolor\":\"#506784\",\"borderwidth\":0},\"xaxis\":{\"automargin\":true,\"gridcolor\":\"#283442\",\"linecolor\":\"#506784\",\"ticks\":\"\",\"title\":{\"standoff\":15},\"zerolinecolor\":\"#283442\",\"zerolinewidth\":2},\"yaxis\":{\"automargin\":true,\"gridcolor\":\"#283442\",\"linecolor\":\"#506784\",\"ticks\":\"\",\"title\":{\"standoff\":15},\"zerolinecolor\":\"#283442\",\"zerolinewidth\":2}}},\"title\":{\"text\":\"\\u041b\\u0438\\u043d\\u0435\\u0439\\u043d\\u0430\\u044f \\u0437\\u0430\\u0432\\u0438\\u0441\\u0438\\u043c\\u043e\\u0441\\u0442\\u044c\"},\"width\":1200,\"height\":600},                        {\"responsive\": true}                    ).then(function(){\n",
              "                            \n",
              "var gd = document.getElementById('52fe368d-ccca-495e-bb0c-338c9ae2a28c');\n",
              "var x = new MutationObserver(function (mutations, observer) {{\n",
              "        var display = window.getComputedStyle(gd).display;\n",
              "        if (!display || display === 'none') {{\n",
              "            console.log([gd, 'removed!']);\n",
              "            Plotly.purge(gd);\n",
              "            observer.disconnect();\n",
              "        }}\n",
              "}});\n",
              "\n",
              "// Listen for the removal of the full notebook cells\n",
              "var notebookContainer = gd.closest('#notebook-container');\n",
              "if (notebookContainer) {{\n",
              "    x.observe(notebookContainer, {childList: true});\n",
              "}}\n",
              "\n",
              "// Listen for the clearing of the current output cell\n",
              "var outputEl = gd.closest('.output');\n",
              "if (outputEl) {{\n",
              "    x.observe(outputEl, {childList: true});\n",
              "}}\n",
              "\n",
              "                        })                };                            </script>        </div>\n",
              "</body>\n",
              "</html>"
            ]
          },
          "metadata": {}
        }
      ]
    },
    {
      "cell_type": "markdown",
      "source": [
        "### Мини-задание"
      ],
      "metadata": {
        "id": "wwWIcNyoALzK"
      }
    },
    {
      "cell_type": "markdown",
      "source": [
        "1. Протестируйте генерацию данных с другими значениями параметров функций\n",
        "* используйте другие названия переменных для получившихся данных (не `x`, `y`, `y_true`, а например `x1`, `y1`, `y1_true`)\n",
        "* В частности попробуйте подставить в качестве параметра `f` разные функции (подойдут математические функции numpy такие как `np.cos`, `np.sin`, `np.exp`)\n",
        "\n",
        "2. Выполните Визуализацию понравившим вам способом"
      ],
      "metadata": {
        "id": "sGKcSTEXAM6P"
      }
    },
    {
      "cell_type": "code",
      "source": [],
      "metadata": {
        "id": "nj6u1QCQAMel"
      },
      "execution_count": null,
      "outputs": []
    },
    {
      "cell_type": "markdown",
      "metadata": {
        "id": "YpX2Z9AvbNaQ"
      },
      "source": [
        "# Линейная регрессия своими руками"
      ]
    },
    {
      "cell_type": "markdown",
      "source": [
        "## Немного теории"
      ],
      "metadata": {
        "id": "MZDqK7ajKdGH"
      }
    },
    {
      "cell_type": "markdown",
      "metadata": {
        "id": "KgIvVCv0bNaR"
      },
      "source": [
        "Проведем линейную регрессию. То есть оценим коэффициенты аппроксимации зашумленных данных функцией вида\n",
        "$$ \\hat{y}_i = \\hat{a}x + \\hat{b},$$\n",
        "где $\\hat{y}_i$ - это наши оценки значений $y_i$; $\\hat{a}$ и $\\hat{b}$ - оценинные коэффициенты модели.\n",
        "\n",
        "В самом простом случае ( для нашего набора данных) мы могли бы найти коэффициенты $\\hat{a}$ и $\\hat{b}$ аналитически. Если бы не было шумов (была бы чистая линия), коэффициенты можно найти классическим решением линейной системы из 2 независимых уравнений. В случае шумов 2 уравнений может быть недостаточно. Оценки коэффициентов по каждым двум уравнениям могут различаться. Поэтому желательно иметь переопределенную систему (когда число уравнений больше числа переменных). Такую систему можно решать по-разному. Известно (теорема Гаусса-Маркова), что если шум в системе имеет нормальное распределение, то оптимальным будет решение методом наименьших квадратов. Для поиска такого решения предположим, что мы производим такие оценки коэффициентов $\\hat{a}$ и $\\hat{b}$, которые дают результат $\\hat{y}$ c ошибкой $e$. Ошибку определим как $e_i = y_i- \\hat{y}_i$. Теперь наша задача минимизация ошибки $\\hat{y}$ для каждого значения $x$. В случае метода наименьших квадратов задача сводиться к минимизации одного значения среднего квадратов ошибки.  <br> Для линейной регрессии такую задачу можно решить аналитически. Однако как можно будет увидеть ниже такое решение не всегда рационально."
      ]
    },
    {
      "cell_type": "markdown",
      "metadata": {
        "id": "OUPIOes0bNaR"
      },
      "source": [
        "В более общем случае, допустим, что мы не знаем как лучше всего аппроксимировать зависимость, какую функцию использовать. Такая ситуация характерна для зависимостей, более сложных чем линейная. В таких случаях можно предположить, что выше указанной модели недостаточно. В более общем случае можно ввести модель целевой переменной как\n",
        " $$ \\begin{align*}\n",
        "   &y_i = \\sum_{j=0}^{m}x_{ij}w_j +\\epsilon_i \\\\\n",
        "   \\text{или так }& y_i = 1\\cdot w_0 + x_{i1}\\cdot w_1 + x_{i2}\\cdot w_2 + x_{i3}\\cdot w_3 + x_{i4m}\\cdot w_4 + \\epsilon_i \\\\\n",
        "   \\text{или так }& y_i = X_i W^T + \\epsilon_i ,\n",
        "   \\end{align*}\n",
        "   $$\n",
        "где\n",
        "<ul>\n",
        "    <li> $y_i$ - целевой показаль предсказания для $i$ записи в наборе данных;</li>\n",
        "    <li> $X_i  = \\{x_{ij}\\}_{j=1}^{m}$ - набор входных параметров для $i$ результата ;</li>\n",
        "    <li> $W = \\{w_{j}\\}_{j=1}^{m}$ - набор весовых параметров, которые мы должны подобрать в моделе;</li>\n",
        "    <li> $\\epsilon_i$ - некоторый набор случайных (не объясняемых нашей моделью, остаточных) значений, мы будем считать их случайных шумом.</li>     \n",
        "\n",
        "Данная модель соответствует как линейной регресии одной или нескольких переменных, так и полиномиальной или любой другой, где состовляющие ($x_{ij}$) можно считать независимыми составляющими.      \n",
        "В качестве примера регрессионная модель одной переменных будет иметь вид\n",
        "         \\begin{align*}\n",
        "   &\\hat{y}_i = \\sum_{j=0}^{1}x_{ij}w_j  \\\\\n",
        "   \\text{или так }& \\hat{y}_i = 1\\cdot w_0 + x_{i1}\\cdot w_1  \\\\\n",
        "   \\text{или так }& \\hat{y}_i = X_i W^T,\n",
        "   \\end{align*}\n",
        "   \n",
        "где <ul>\n",
        "    <li> $\\hat{y}_i $ - результат предсказания для $i$ записи в наборе данных.   </ul>   \n",
        "        \n",
        "Теперь рассмотрим решение для обозначенной модели одной переменной."
      ]
    },
    {
      "cell_type": "markdown",
      "metadata": {
        "id": "ITEaugs_bNaS"
      },
      "source": [
        "Введем функцию потрерь регрессии `loss_func` как квадрат разности между целевыми значениями и их предсказаниями\n",
        "$$ L(\\hat{y}_i,y_i)=L_i= (\\hat{y}_i-y_i)^2 = \\left(\\sum_{j=0}^{2}x_{ij}w_j-y_i\\right)^2 = \\left(X_i W^T-y_i\\right)^2 , $$\n",
        "где  $L_i$ - функция потерь для результата (предсказания) с номером $i$. <br>\n",
        "Также введем функцию расчета (предсказания) значений `forward`.\n",
        "\n",
        "Отметим, что для нашего случая одной переменной (в выше приведенных обозначения) решение могло бы быть найдено как\n",
        "$$L = \\sum_{i=0}^{N-1}(y_i - \\hat{y_i})^2 = \\sum_{i=0}^{N-1}(y_i - (a\\cdot x_i+b))^2 \\to 0$$\n",
        "тогда минимум $L$  будет соответствовать нулям ее производных по `a` и `b`:\n",
        "$$ \\begin{cases}\n",
        "\\frac{\\partial{L}}{\\partial{a}} = 2\\sum_{i=0}^{N-1}(y_i - (a\\cdot x_i+b))x_i = 0 \\\\\n",
        "\\frac{\\partial{L}}{\\partial{b}} = 2\\sum_{i=0}^{N-1}(y_i - (a\\cdot x_i+b)) = 0\n",
        "\\end{cases}\n",
        "$$\n",
        "Отсюда решение системы уравнений выглядит как\n",
        "$$\n",
        "\\begin{cases}\n",
        "a = \\frac{N\\sum xy - \\sum x \\sum y}{N\\sum {x^2} -( \\sum x)^2} \\\\\n",
        "b = \\frac{\\sum y - a \\sum x}{N}\n",
        "\\end{cases}\n",
        "$$\n",
        "В более общем случае мы могли бы записать уравнение как\n",
        "$$ L =  \\sum_{i=0}^{N-1}(y_i - W^TX_i)^2 =0 \\text{ или } (y - W^TX)^2 =0$$\n",
        "тогда\n",
        "$$\\frac{\\partial{L}}{\\partial{W}} = 2(y - W^TX)X = 0$$\n",
        "или\n",
        "$$W=(X^T X)^{-1} X^T y=X^+ y$$\n",
        "Однако, если массивы $X$ и $y$ достаточно большие, то такое решение оказывается весьма вычислительно сложным. Для больших массивов данных чаще используют численные методы оптимизации. Среди таких методов наиболее зарекомендовал себя метод градиентного спуска.\n",
        "\n",
        "Метод градиентного спуска  позволяет итерционно решить задачу оптимизации. В дискурсе данного курса мы будем называть такой процесс оптимизации `обучение`. Каждую итерацию принято называть `эпоха`. Ниже будет показ принцип обучения методом градиентного спуска и его реализация.\n",
        "\n",
        "Важно отметить, что особенносью итеративных методов обучения является потенциальная ситуация переобучения/недообучения в ходе оптимизации. Проще всего это представить как ситуацию в которой мы ошибемся в выбранных значениях коэффициентов. Такое явление может происходить если, например, наша модель будет воспренимать все шумы, помехи и искажения входных данных как важные для точного ответа. Другими словами для данных, участвующих  в обучении (`обучающая выборка`) наша ошибка будет стремится к нулю. Однако, для данных, отличных от обучающей выборке точность будет не высокой. Чтобы недопустить этого на каждом шаге обучения мы будем проверять полученные коэффициенты модели. Для такой проверки мы будем использовать т.н. `валидационную` выборку. Как правило валидационная и тренировочная выборки выбирается из одних и тех же данных. В некоторых случаях, кроме данных выборок также может быть и третия выборка, независимая от двух указанных. Такая выборка будет необходима для проверки итоговой точности модели. Выборку можно назвать `тестовая выборка`. По существу, тестова выборка характеризует т.н. `обобщающую способность` то есть разность между точностью на тренировочных данных и данных в которых модель должна работать. Разность значенй точности должна быть как можно меньше."
      ]
    },
    {
      "cell_type": "markdown",
      "source": [
        "## Тренировочная и тестовая выборка"
      ],
      "metadata": {
        "id": "_-8V2dp_JBgv"
      }
    },
    {
      "cell_type": "markdown",
      "metadata": {
        "id": "V6ayCdw7bNaS"
      },
      "source": [
        "Для того, чтобы выделить из входных данных тренировочную и тестовую выборку запишем следующую функцию. Функция будет иметь входные аргументы:\n",
        "* `x,y` - входные данные и метки;\n",
        "* `train_size` - размер тренировочной части;\n",
        "* `test_size`  - размер тестовой части;\n",
        "* `random_state` - состояние генератора случайных чисел;\n",
        "* `shuffle` - необходимость перемешивания данных."
      ]
    },
    {
      "cell_type": "code",
      "execution_count": null,
      "metadata": {
        "colab": {
          "base_uri": "https://localhost:8080/"
        },
        "id": "IsbMpC20bNaS",
        "outputId": "21241af1-2c4c-4ddc-df29-fb777c5d52e8"
      },
      "outputs": [
        {
          "output_type": "stream",
          "name": "stdout",
          "text": [
            "(50, 1) (50,) (20, 1) (20,) (30, 1) (30,)\n",
            "(70, 1) (70,) (30, 1) (30,)\n"
          ]
        }
      ],
      "source": [
        "def train_test_split(x,y, train_size=None, test_size=None, random_state=42, shuffle=True,):\n",
        "    \"\"\"Разбиение данных на тренировочную-валидационную-тестовую\n",
        "    Входные переменные:\n",
        "    ===========\n",
        "    x: матрица признаков\n",
        "    y: вектор целевых меток\n",
        "    train_size: размер тренировочной выборки (в долях или в штуках)\n",
        "    test_size: размер тестовой выборки (в долях или в штуках)\n",
        "    random_state: фиксированный сид случайных чисел (для повторяемости)\n",
        "    shuffle: перемешиваем ли мы выборку или нет\n",
        "    \"\"\"\n",
        "    if random_state: np.random.seed(random_state) # фиксируем случайный seed\n",
        "\n",
        "    size = y.shape[0] # считаем сколько у нас точек\n",
        "    idxs = np.arange(size) # массив индексов от 0 до количества точек\n",
        "    if shuffle: np.random.shuffle(idxs) # если перемешиваем - то перемешиваем\n",
        "\n",
        "    # если задаем test_size, но не задаем train_size\n",
        "    if test_size and train_size is None:\n",
        "        # тогда нам надо посчитать train_size\n",
        "        # если размер задали в долях\n",
        "        if (test_size<= 1):  train_size = 1 - test_size\n",
        "        # если размер задали в штуках\n",
        "        else:  train_size = size - test_size\n",
        "        test_size = None    # обнулим переменную, чтобы потом не сломалось\n",
        "\n",
        "\n",
        "    # если задаем train_size, но не задаем test_size, или мы некорректно задали размер  train_size\n",
        "    if train_size is None or train_size > size: train_size = size\n",
        "\n",
        "    # если задаем train_size\n",
        "    if (train_size<= 1): train_size *= size\n",
        "\n",
        "    # если test_size не обнулилось\n",
        "    if test_size is not None:\n",
        "        # если размер задали в долях\n",
        "        if test_size<= 1: test_size *= size\n",
        "        # если размер задали в штуках\n",
        "        if test_size>size: test_size = size-train_size\n",
        "    else: test_size = 0 # если обнулилось - то обнулилось)\n",
        "\n",
        "    # разбиваем выборку на тренировочную и валидационную.\n",
        "    # в тренировочную берем индексы от 0 до train_size\n",
        "    x_train, y_train = x[idxs[:int(train_size)]], y[idxs[:int(train_size)]]\n",
        "    # в валидационную берем индексы от train_size до size - test_size\n",
        "    x_val,   y_val   = x[idxs[int(train_size):size - int(test_size)]], y[idxs[int(train_size):size - int(test_size)]]\n",
        "\n",
        "    # если test_size всё еще не обнулилось\n",
        "    if test_size > 0:\n",
        "        # в тестовую берем индексы от size - test_size до конца\n",
        "        x_test, y_test = x[idxs[size - int(test_size):]], y[idxs[size - int(test_size):]]\n",
        "        # возвращаем тренировочную, валидационную и тестовую часть (сначала признаки, потом целевые метки)\n",
        "        return x_train,  x_val, x_test, y_train.squeeze(), y_val.squeeze(), y_test.squeeze()\n",
        "    # возвращаем тренировочную и валидационную  (сначала признаки, потом целевые метки)\n",
        "    return x_train, x_val, y_train.squeeze(), y_val.squeeze()\n",
        "\n",
        "# пример использования, если хотим разбить на 3 части\n",
        "x_train, x_val, x_test, y_train, y_val, y_test = train_test_split(x, y, train_size = 0.5, test_size=0.3, )\n",
        "print(x_train.shape, y_train.shape, x_val.shape, y_val.shape,  x_test.shape, y_test.shape )\n",
        "\n",
        "# пример использования, если хотим разбить на 2 части\n",
        "x_train, x_test, y_train, y_test = train_test_split(x, y,  test_size=0.3, )\n",
        "print(x_train.shape, y_train.shape,  x_test.shape, y_test.shape )\n",
        "\n"
      ]
    },
    {
      "cell_type": "code",
      "source": [
        "x_train, x_test, y_train, y_test = train_test_split(x, y,  test_size=0.3, shuffle = True)\n",
        "print(x_train.shape, y_train.shape,  x_test.shape, y_test.shape )"
      ],
      "metadata": {
        "colab": {
          "base_uri": "https://localhost:8080/"
        },
        "id": "m-OZHonzxGVg",
        "outputId": "d0bc9739-29d5-445c-c6a3-9f39e936de06"
      },
      "execution_count": null,
      "outputs": [
        {
          "output_type": "stream",
          "name": "stdout",
          "text": [
            "(70, 1) (70,) (30, 1) (30,)\n"
          ]
        }
      ]
    },
    {
      "cell_type": "code",
      "source": [
        "def plot_train_test_data(x_train, y_train, x_test, y_test):\n",
        "    \"\"\"Отрисовка тестовых и тренеровочных данных.\n",
        "    Входные переменные:\n",
        "    ===========\n",
        "    x_train: признаки на которых тренировались\n",
        "    y_train: тренировочные целевые значения\n",
        "    x_test: тестовые признаки\n",
        "    y_test: тестовые целевые значения\n",
        "    \"\"\"\n",
        "\n",
        "    fig = go.Figure()\n",
        "    # рисуем с помощью библиотеки plotly\n",
        "    fig.add_trace(\n",
        "        go.Scatter(\n",
        "        x=x_train[:,0],\n",
        "        y=y_train,\n",
        "        mode='markers',\n",
        "        name='Тренировочные данные',\n",
        "        marker=dict(size = 10,\n",
        "                    color='Green')\n",
        "        )\n",
        "    )\n",
        "    fig.add_trace(\n",
        "        go.Scatter(\n",
        "        x=x_test[:,0],\n",
        "        y=y_test,\n",
        "        mode='markers',\n",
        "        name='Тестовые данные',\n",
        "        marker=dict(size = 15,\n",
        "                    color='LightSkyBlue',\n",
        "                    line=dict(\n",
        "                        color='Red',\n",
        "                        width=3\n",
        "            )),\n",
        "\n",
        "        )\n",
        "    )\n",
        "    fig.update_layout(\n",
        "            title='Тренировочные и тестовые данные',\n",
        "            width=1200,\n",
        "            height=600,\n",
        "        template = \"plotly_dark\"\n",
        "            )\n",
        "\n",
        "    fig.show()"
      ],
      "metadata": {
        "id": "Y3dJMn93KJpU"
      },
      "execution_count": null,
      "outputs": []
    },
    {
      "cell_type": "code",
      "source": [
        "\n",
        "plot_train_test_data(x_train, y_train, x_test, y_test)"
      ],
      "metadata": {
        "colab": {
          "base_uri": "https://localhost:8080/",
          "height": 634
        },
        "id": "ruCaqOGwKCr9",
        "outputId": "d6e81e82-d759-441b-b26e-24c911ac2076"
      },
      "execution_count": null,
      "outputs": [
        {
          "output_type": "display_data",
          "data": {
            "text/html": [
              "<html>\n",
              "<head><meta charset=\"utf-8\" /></head>\n",
              "<body>\n",
              "    <div>            <script src=\"https://cdnjs.cloudflare.com/ajax/libs/mathjax/2.7.5/MathJax.js?config=TeX-AMS-MML_SVG\"></script><script type=\"text/javascript\">if (window.MathJax && window.MathJax.Hub && window.MathJax.Hub.Config) {window.MathJax.Hub.Config({SVG: {font: \"STIX-Web\"}});}</script>                <script type=\"text/javascript\">window.PlotlyConfig = {MathJaxConfig: 'local'};</script>\n",
              "        <script charset=\"utf-8\" src=\"https://cdn.plot.ly/plotly-2.24.1.min.js\"></script>                <div id=\"035435c5-6be8-476e-9bb0-e2f952600d45\" class=\"plotly-graph-div\" style=\"height:600px; width:1200px;\"></div>            <script type=\"text/javascript\">                                    window.PLOTLYENV=window.PLOTLYENV || {};                                    if (document.getElementById(\"035435c5-6be8-476e-9bb0-e2f952600d45\")) {                    Plotly.newPlot(                        \"035435c5-6be8-476e-9bb0-e2f952600d45\",                        [{\"marker\":{\"color\":\"Green\",\"size\":10},\"mode\":\"markers\",\"name\":\"\\u0422\\u0440\\u0435\\u043d\\u0438\\u0440\\u043e\\u0432\\u043e\\u0447\\u043d\\u044b\\u0435 \\u0434\\u0430\\u043d\\u043d\\u044b\\u0435\",\"x\":[0.8083973481164611,0.5142344384136116,0.7068573438476171,0.388677289689482,0.3745401188473625,0.32533033076326434,0.18182496720710062,0.7751328233611146,0.07455064367977082,0.005522117123602399,0.14092422497476265,0.2713490317738959,0.7290071680409873,0.29214464853521815,0.8948273504276488,0.045227288910538066,0.7607850486168974,0.770967179954561,0.09767211400638387,0.28093450968738076,0.5227328293819941,0.8661761457749352,0.1987156815341724,0.3584657285442726,0.6842330265121569,0.1195942459383017,0.3308980248526492,0.9656320330745594,0.07404465173409036,0.713244787222995,0.0884925020519195,0.43194501864211576,0.8287375091519293,0.21233911067827616,0.9394989415641891,0.046450412719997725,0.6232981268275579,0.6118528947223795,0.3046137691733707,0.12203823484477883,0.45606998421703593,0.3042422429595377,0.06355835028602363,0.9507143064099162,0.19967378215835974,0.15599452033620265,0.7851759613930136,0.1959828624191452,0.5986584841970366,0.10789142699330445,0.18485445552552704,0.034388521115218396,0.13949386065204183,0.32518332202674705,0.06505159298527952,0.7712703466859457,0.05808361216819946,0.6075448519014384,0.3109823217156622,0.8872127425763265,0.5247564316322378,0.9868869366005173,0.5200680211778108,0.3663618432936917,0.4722149251619493,0.6375574713552131,0.42754101835854963,0.662522284353982,0.5978999788110851,0.9695846277645586],\"y\":[3.6824500570963057,2.9781213114156033,3.290019616607426,2.68641583389949,2.8281834323990296,2.68081539575989,2.3641612800784473,3.736843097836705,2.2406414991297487,2.019748941071022,2.2426376346363095,2.7313166536688445,3.487712803405293,2.5768447054938197,3.871860716854747,2.0684873890373248,3.4535676250759457,3.5651597296252224,2.1423682076360637,2.5793268006579453,3.052321956244591,3.8286899044743024,2.363159911415668,2.8312137385400473,3.4466483402020445,2.3360529909298924,2.658324872734774,3.9235538952077085,2.0979135991097273,3.47868373100768,2.209860115069808,2.7237049310050034,3.736183478678104,2.4085496501899515,3.8036242666926294,2.1286120825911703,3.085847930198993,3.354420064873002,2.6065761508018195,2.1738711603018226,3.1311855310150696,2.4166073643891712,2.075289678744683,3.8198475843232886,2.3191198373945574,2.1656375458591937,3.617735214877206,2.3499011925617546,3.27866869013104,2.2671095972979445,2.228171836846013,1.8700201507703476,2.246221506644307,2.6311305475753817,2.04925382568124,3.5718479407017596,2.2639566288105506,3.23783569726329,2.627987664425427,3.815703577846303,2.9432824918918654,4.056492198104637,2.8850696992490086,2.8079169898560608,2.84537621781083,3.293578328563657,2.9953614678107088,3.351032848132806,3.1635938060016024,3.9732844530107814],\"type\":\"scatter\"},{\"marker\":{\"color\":\"LightSkyBlue\",\"line\":{\"color\":\"Red\",\"width\":3},\"size\":15},\"mode\":\"markers\",\"name\":\"\\u0422\\u0435\\u0441\\u0442\\u043e\\u0432\\u044b\\u0435 \\u0434\\u0430\\u043d\\u043d\\u044b\\u0435\",\"x\":[0.7722447692966574,0.3567533266935893,0.5467102793432796,0.4401524937396013,0.9699098521619943,0.5426960831582485,0.7319939418114051,0.2912291401980419,0.9488855372533332,0.5612771975694962,0.6011150117432088,0.8154614284548342,0.31171107608941095,0.2587799816000169,0.020584494295802447,0.4951769101112702,0.17052412368729153,0.02541912674409519,0.18340450985343382,0.8631034258755935,0.9093204020787821,0.7296061783380641,0.8324426408004217,0.8021969807540397,0.15601864044243652,0.5924145688620425,0.7080725777960455,0.11586905952512971,0.9218742350231168,0.49379559636439074],\"y\":[3.473054396790678,2.5966388496252257,3.001478135263179,2.9389906968592294,3.9674887842569904,3.1327514093800155,3.4986327045725076,2.6082133194683603,3.808819631544114,3.2775478356407466,3.079143591843022,3.5334546898869363,2.8697463634273506,2.5579650488814876,2.011268253545018,3.0003189567313044,2.367153774592572,2.0600143311417405,2.343350306369353,3.644138619916016,4.008320102422958,3.4842616417107157,3.7807448395015837,3.4852636117878144,2.3416493085913306,3.1065038084904613,3.284099494283663,2.2414458739850636,3.8192096584459465,2.9309614197685043],\"type\":\"scatter\"}],                        {\"template\":{\"data\":{\"barpolar\":[{\"marker\":{\"line\":{\"color\":\"rgb(17,17,17)\",\"width\":0.5},\"pattern\":{\"fillmode\":\"overlay\",\"size\":10,\"solidity\":0.2}},\"type\":\"barpolar\"}],\"bar\":[{\"error_x\":{\"color\":\"#f2f5fa\"},\"error_y\":{\"color\":\"#f2f5fa\"},\"marker\":{\"line\":{\"color\":\"rgb(17,17,17)\",\"width\":0.5},\"pattern\":{\"fillmode\":\"overlay\",\"size\":10,\"solidity\":0.2}},\"type\":\"bar\"}],\"carpet\":[{\"aaxis\":{\"endlinecolor\":\"#A2B1C6\",\"gridcolor\":\"#506784\",\"linecolor\":\"#506784\",\"minorgridcolor\":\"#506784\",\"startlinecolor\":\"#A2B1C6\"},\"baxis\":{\"endlinecolor\":\"#A2B1C6\",\"gridcolor\":\"#506784\",\"linecolor\":\"#506784\",\"minorgridcolor\":\"#506784\",\"startlinecolor\":\"#A2B1C6\"},\"type\":\"carpet\"}],\"choropleth\":[{\"colorbar\":{\"outlinewidth\":0,\"ticks\":\"\"},\"type\":\"choropleth\"}],\"contourcarpet\":[{\"colorbar\":{\"outlinewidth\":0,\"ticks\":\"\"},\"type\":\"contourcarpet\"}],\"contour\":[{\"colorbar\":{\"outlinewidth\":0,\"ticks\":\"\"},\"colorscale\":[[0.0,\"#0d0887\"],[0.1111111111111111,\"#46039f\"],[0.2222222222222222,\"#7201a8\"],[0.3333333333333333,\"#9c179e\"],[0.4444444444444444,\"#bd3786\"],[0.5555555555555556,\"#d8576b\"],[0.6666666666666666,\"#ed7953\"],[0.7777777777777778,\"#fb9f3a\"],[0.8888888888888888,\"#fdca26\"],[1.0,\"#f0f921\"]],\"type\":\"contour\"}],\"heatmapgl\":[{\"colorbar\":{\"outlinewidth\":0,\"ticks\":\"\"},\"colorscale\":[[0.0,\"#0d0887\"],[0.1111111111111111,\"#46039f\"],[0.2222222222222222,\"#7201a8\"],[0.3333333333333333,\"#9c179e\"],[0.4444444444444444,\"#bd3786\"],[0.5555555555555556,\"#d8576b\"],[0.6666666666666666,\"#ed7953\"],[0.7777777777777778,\"#fb9f3a\"],[0.8888888888888888,\"#fdca26\"],[1.0,\"#f0f921\"]],\"type\":\"heatmapgl\"}],\"heatmap\":[{\"colorbar\":{\"outlinewidth\":0,\"ticks\":\"\"},\"colorscale\":[[0.0,\"#0d0887\"],[0.1111111111111111,\"#46039f\"],[0.2222222222222222,\"#7201a8\"],[0.3333333333333333,\"#9c179e\"],[0.4444444444444444,\"#bd3786\"],[0.5555555555555556,\"#d8576b\"],[0.6666666666666666,\"#ed7953\"],[0.7777777777777778,\"#fb9f3a\"],[0.8888888888888888,\"#fdca26\"],[1.0,\"#f0f921\"]],\"type\":\"heatmap\"}],\"histogram2dcontour\":[{\"colorbar\":{\"outlinewidth\":0,\"ticks\":\"\"},\"colorscale\":[[0.0,\"#0d0887\"],[0.1111111111111111,\"#46039f\"],[0.2222222222222222,\"#7201a8\"],[0.3333333333333333,\"#9c179e\"],[0.4444444444444444,\"#bd3786\"],[0.5555555555555556,\"#d8576b\"],[0.6666666666666666,\"#ed7953\"],[0.7777777777777778,\"#fb9f3a\"],[0.8888888888888888,\"#fdca26\"],[1.0,\"#f0f921\"]],\"type\":\"histogram2dcontour\"}],\"histogram2d\":[{\"colorbar\":{\"outlinewidth\":0,\"ticks\":\"\"},\"colorscale\":[[0.0,\"#0d0887\"],[0.1111111111111111,\"#46039f\"],[0.2222222222222222,\"#7201a8\"],[0.3333333333333333,\"#9c179e\"],[0.4444444444444444,\"#bd3786\"],[0.5555555555555556,\"#d8576b\"],[0.6666666666666666,\"#ed7953\"],[0.7777777777777778,\"#fb9f3a\"],[0.8888888888888888,\"#fdca26\"],[1.0,\"#f0f921\"]],\"type\":\"histogram2d\"}],\"histogram\":[{\"marker\":{\"pattern\":{\"fillmode\":\"overlay\",\"size\":10,\"solidity\":0.2}},\"type\":\"histogram\"}],\"mesh3d\":[{\"colorbar\":{\"outlinewidth\":0,\"ticks\":\"\"},\"type\":\"mesh3d\"}],\"parcoords\":[{\"line\":{\"colorbar\":{\"outlinewidth\":0,\"ticks\":\"\"}},\"type\":\"parcoords\"}],\"pie\":[{\"automargin\":true,\"type\":\"pie\"}],\"scatter3d\":[{\"line\":{\"colorbar\":{\"outlinewidth\":0,\"ticks\":\"\"}},\"marker\":{\"colorbar\":{\"outlinewidth\":0,\"ticks\":\"\"}},\"type\":\"scatter3d\"}],\"scattercarpet\":[{\"marker\":{\"colorbar\":{\"outlinewidth\":0,\"ticks\":\"\"}},\"type\":\"scattercarpet\"}],\"scattergeo\":[{\"marker\":{\"colorbar\":{\"outlinewidth\":0,\"ticks\":\"\"}},\"type\":\"scattergeo\"}],\"scattergl\":[{\"marker\":{\"line\":{\"color\":\"#283442\"}},\"type\":\"scattergl\"}],\"scattermapbox\":[{\"marker\":{\"colorbar\":{\"outlinewidth\":0,\"ticks\":\"\"}},\"type\":\"scattermapbox\"}],\"scatterpolargl\":[{\"marker\":{\"colorbar\":{\"outlinewidth\":0,\"ticks\":\"\"}},\"type\":\"scatterpolargl\"}],\"scatterpolar\":[{\"marker\":{\"colorbar\":{\"outlinewidth\":0,\"ticks\":\"\"}},\"type\":\"scatterpolar\"}],\"scatter\":[{\"marker\":{\"line\":{\"color\":\"#283442\"}},\"type\":\"scatter\"}],\"scatterternary\":[{\"marker\":{\"colorbar\":{\"outlinewidth\":0,\"ticks\":\"\"}},\"type\":\"scatterternary\"}],\"surface\":[{\"colorbar\":{\"outlinewidth\":0,\"ticks\":\"\"},\"colorscale\":[[0.0,\"#0d0887\"],[0.1111111111111111,\"#46039f\"],[0.2222222222222222,\"#7201a8\"],[0.3333333333333333,\"#9c179e\"],[0.4444444444444444,\"#bd3786\"],[0.5555555555555556,\"#d8576b\"],[0.6666666666666666,\"#ed7953\"],[0.7777777777777778,\"#fb9f3a\"],[0.8888888888888888,\"#fdca26\"],[1.0,\"#f0f921\"]],\"type\":\"surface\"}],\"table\":[{\"cells\":{\"fill\":{\"color\":\"#506784\"},\"line\":{\"color\":\"rgb(17,17,17)\"}},\"header\":{\"fill\":{\"color\":\"#2a3f5f\"},\"line\":{\"color\":\"rgb(17,17,17)\"}},\"type\":\"table\"}]},\"layout\":{\"annotationdefaults\":{\"arrowcolor\":\"#f2f5fa\",\"arrowhead\":0,\"arrowwidth\":1},\"autotypenumbers\":\"strict\",\"coloraxis\":{\"colorbar\":{\"outlinewidth\":0,\"ticks\":\"\"}},\"colorscale\":{\"diverging\":[[0,\"#8e0152\"],[0.1,\"#c51b7d\"],[0.2,\"#de77ae\"],[0.3,\"#f1b6da\"],[0.4,\"#fde0ef\"],[0.5,\"#f7f7f7\"],[0.6,\"#e6f5d0\"],[0.7,\"#b8e186\"],[0.8,\"#7fbc41\"],[0.9,\"#4d9221\"],[1,\"#276419\"]],\"sequential\":[[0.0,\"#0d0887\"],[0.1111111111111111,\"#46039f\"],[0.2222222222222222,\"#7201a8\"],[0.3333333333333333,\"#9c179e\"],[0.4444444444444444,\"#bd3786\"],[0.5555555555555556,\"#d8576b\"],[0.6666666666666666,\"#ed7953\"],[0.7777777777777778,\"#fb9f3a\"],[0.8888888888888888,\"#fdca26\"],[1.0,\"#f0f921\"]],\"sequentialminus\":[[0.0,\"#0d0887\"],[0.1111111111111111,\"#46039f\"],[0.2222222222222222,\"#7201a8\"],[0.3333333333333333,\"#9c179e\"],[0.4444444444444444,\"#bd3786\"],[0.5555555555555556,\"#d8576b\"],[0.6666666666666666,\"#ed7953\"],[0.7777777777777778,\"#fb9f3a\"],[0.8888888888888888,\"#fdca26\"],[1.0,\"#f0f921\"]]},\"colorway\":[\"#636efa\",\"#EF553B\",\"#00cc96\",\"#ab63fa\",\"#FFA15A\",\"#19d3f3\",\"#FF6692\",\"#B6E880\",\"#FF97FF\",\"#FECB52\"],\"font\":{\"color\":\"#f2f5fa\"},\"geo\":{\"bgcolor\":\"rgb(17,17,17)\",\"lakecolor\":\"rgb(17,17,17)\",\"landcolor\":\"rgb(17,17,17)\",\"showlakes\":true,\"showland\":true,\"subunitcolor\":\"#506784\"},\"hoverlabel\":{\"align\":\"left\"},\"hovermode\":\"closest\",\"mapbox\":{\"style\":\"dark\"},\"paper_bgcolor\":\"rgb(17,17,17)\",\"plot_bgcolor\":\"rgb(17,17,17)\",\"polar\":{\"angularaxis\":{\"gridcolor\":\"#506784\",\"linecolor\":\"#506784\",\"ticks\":\"\"},\"bgcolor\":\"rgb(17,17,17)\",\"radialaxis\":{\"gridcolor\":\"#506784\",\"linecolor\":\"#506784\",\"ticks\":\"\"}},\"scene\":{\"xaxis\":{\"backgroundcolor\":\"rgb(17,17,17)\",\"gridcolor\":\"#506784\",\"gridwidth\":2,\"linecolor\":\"#506784\",\"showbackground\":true,\"ticks\":\"\",\"zerolinecolor\":\"#C8D4E3\"},\"yaxis\":{\"backgroundcolor\":\"rgb(17,17,17)\",\"gridcolor\":\"#506784\",\"gridwidth\":2,\"linecolor\":\"#506784\",\"showbackground\":true,\"ticks\":\"\",\"zerolinecolor\":\"#C8D4E3\"},\"zaxis\":{\"backgroundcolor\":\"rgb(17,17,17)\",\"gridcolor\":\"#506784\",\"gridwidth\":2,\"linecolor\":\"#506784\",\"showbackground\":true,\"ticks\":\"\",\"zerolinecolor\":\"#C8D4E3\"}},\"shapedefaults\":{\"line\":{\"color\":\"#f2f5fa\"}},\"sliderdefaults\":{\"bgcolor\":\"#C8D4E3\",\"bordercolor\":\"rgb(17,17,17)\",\"borderwidth\":1,\"tickwidth\":0},\"ternary\":{\"aaxis\":{\"gridcolor\":\"#506784\",\"linecolor\":\"#506784\",\"ticks\":\"\"},\"baxis\":{\"gridcolor\":\"#506784\",\"linecolor\":\"#506784\",\"ticks\":\"\"},\"bgcolor\":\"rgb(17,17,17)\",\"caxis\":{\"gridcolor\":\"#506784\",\"linecolor\":\"#506784\",\"ticks\":\"\"}},\"title\":{\"x\":0.05},\"updatemenudefaults\":{\"bgcolor\":\"#506784\",\"borderwidth\":0},\"xaxis\":{\"automargin\":true,\"gridcolor\":\"#283442\",\"linecolor\":\"#506784\",\"ticks\":\"\",\"title\":{\"standoff\":15},\"zerolinecolor\":\"#283442\",\"zerolinewidth\":2},\"yaxis\":{\"automargin\":true,\"gridcolor\":\"#283442\",\"linecolor\":\"#506784\",\"ticks\":\"\",\"title\":{\"standoff\":15},\"zerolinecolor\":\"#283442\",\"zerolinewidth\":2}}},\"title\":{\"text\":\"\\u0422\\u0440\\u0435\\u043d\\u0438\\u0440\\u043e\\u0432\\u043e\\u0447\\u043d\\u044b\\u0435 \\u0438 \\u0442\\u0435\\u0441\\u0442\\u043e\\u0432\\u044b\\u0435 \\u0434\\u0430\\u043d\\u043d\\u044b\\u0435\"},\"width\":1200,\"height\":600},                        {\"responsive\": true}                    ).then(function(){\n",
              "                            \n",
              "var gd = document.getElementById('035435c5-6be8-476e-9bb0-e2f952600d45');\n",
              "var x = new MutationObserver(function (mutations, observer) {{\n",
              "        var display = window.getComputedStyle(gd).display;\n",
              "        if (!display || display === 'none') {{\n",
              "            console.log([gd, 'removed!']);\n",
              "            Plotly.purge(gd);\n",
              "            observer.disconnect();\n",
              "        }}\n",
              "}});\n",
              "\n",
              "// Listen for the removal of the full notebook cells\n",
              "var notebookContainer = gd.closest('#notebook-container');\n",
              "if (notebookContainer) {{\n",
              "    x.observe(notebookContainer, {childList: true});\n",
              "}}\n",
              "\n",
              "// Listen for the clearing of the current output cell\n",
              "var outputEl = gd.closest('.output');\n",
              "if (outputEl) {{\n",
              "    x.observe(outputEl, {childList: true});\n",
              "}}\n",
              "\n",
              "                        })                };                            </script>        </div>\n",
              "</body>\n",
              "</html>"
            ]
          },
          "metadata": {}
        },
        {
          "output_type": "display_data",
          "data": {
            "text/plain": [
              "<Figure size 1500x1000 with 0 Axes>"
            ]
          },
          "metadata": {}
        }
      ]
    },
    {
      "cell_type": "markdown",
      "source": [
        "### Мини задание"
      ],
      "metadata": {
        "id": "2gcQz7kjLcs2"
      }
    },
    {
      "cell_type": "markdown",
      "source": [
        "1. Выполните разбиение данных на тренировочную и тестовую разными способами\n",
        "* сравните результат разбиения с  `shuffle = True` и `shuffle = False`\n",
        "2. Выполните визуализацию\n",
        "\n",
        "Вопрос на подумать - какой из типов разбиения выглядит наиболее предпочтительно?\n"
      ],
      "metadata": {
        "id": "v4srJTdfL_nE"
      }
    },
    {
      "cell_type": "code",
      "source": [],
      "metadata": {
        "id": "BF1gWHhBLkIH"
      },
      "execution_count": null,
      "outputs": []
    },
    {
      "cell_type": "markdown",
      "source": [
        "## Инициализация весов"
      ],
      "metadata": {
        "id": "YdUw8MDKJH1f"
      }
    },
    {
      "cell_type": "markdown",
      "metadata": {
        "id": "3g5keZ2hbNaT"
      },
      "source": [
        "Перед началом процедуры обучения модли запишем функцию инициализации весовых параметров (коэффициентов модели). Данная функция будет создавать случайный массив весовых параметров с нормальным распределением, имеющим `0` среднее разброс  значений $1/\\sqrt{weight.size}$.\n",
        "\n",
        " Также мы будем иметь возможность создавать набор весов с учетом смещения.\n",
        "\n",
        "То есть, если `add_bias = True`, то  размер выходного массива на `1` больше, чем размер признаков входных данных (в нашем случае входные данные имеет `1` признак- значения, а число параметров будет `2`: коэффициент при значении и смещение). Значения смещния проинициализируем нулями."
      ]
    },
    {
      "cell_type": "code",
      "execution_count": null,
      "metadata": {
        "id": "hX6Nj1_ebNaT"
      },
      "outputs": [],
      "source": [
        "def init_weights(W_shape, add_bias = True, random_state = 42):\n",
        "    \"\"\"Генерация весов\n",
        "    Входные переменные:\n",
        "    ===========\n",
        "    W_shape: сколько весов надо (количество признаков)\n",
        "    add_bias: учитываем смещение или нет\n",
        "    random_state: фиксированный сид случайных чисел (для повторяемости)\n",
        "    \"\"\"\n",
        "    W_shape = np.atleast_1d(W_shape) # убеждаемся что данные - одномерный массив\n",
        "    if random_state:  # фиксируем случайный seed\n",
        "        np.random.seed(random_state)\n",
        "    W = np.random.randn(*list(W_shape))/np.sqrt(np.sum(W_shape))   # генерируем случайные числа с нулевым средним и дисперсией как корень из размерности весов\n",
        "    if add_bias: # если учитываем смещение\n",
        "        W = np.hstack((0,W )) # добавляем 0 в наш вектор весов\n",
        "    return W.squeeze()"
      ]
    },
    {
      "cell_type": "markdown",
      "source": [
        "Запустим функцию для разных значений длин вектора весов"
      ],
      "metadata": {
        "id": "K43VQOoJQCx7"
      }
    },
    {
      "cell_type": "code",
      "source": [
        "init_weights(2)"
      ],
      "metadata": {
        "colab": {
          "base_uri": "https://localhost:8080/"
        },
        "id": "De3WTXLQOc3R",
        "outputId": "138efed2-e40f-423b-d731-f3bfef7b8ac7"
      },
      "execution_count": null,
      "outputs": [
        {
          "output_type": "execute_result",
          "data": {
            "text/plain": [
              "array([ 0.        ,  0.35122995, -0.09776762])"
            ]
          },
          "metadata": {},
          "execution_count": 32
        }
      ]
    },
    {
      "cell_type": "code",
      "source": [
        "init_weights(1)"
      ],
      "metadata": {
        "colab": {
          "base_uri": "https://localhost:8080/"
        },
        "id": "CkBS-9ftP_UJ",
        "outputId": "7365baff-56bb-43a5-a00f-34ad118fbe0e"
      },
      "execution_count": null,
      "outputs": [
        {
          "output_type": "execute_result",
          "data": {
            "text/plain": [
              "array([0.        , 0.49671415])"
            ]
          },
          "metadata": {},
          "execution_count": 33
        }
      ]
    },
    {
      "cell_type": "code",
      "source": [
        "init_weights(10)"
      ],
      "metadata": {
        "colab": {
          "base_uri": "https://localhost:8080/"
        },
        "id": "J-8JeNThQBRZ",
        "outputId": "b36fdc14-1a37-4773-b2a2-e779845c9e4c"
      },
      "execution_count": null,
      "outputs": [
        {
          "output_type": "execute_result",
          "data": {
            "text/plain": [
              "array([ 0.        ,  0.15707481, -0.04372301,  0.2048171 ,  0.48162433,\n",
              "       -0.0740458 , -0.07404061,  0.49939094,  0.24268417, -0.14846084,\n",
              "        0.17157255])"
            ]
          },
          "metadata": {},
          "execution_count": 34
        }
      ]
    },
    {
      "cell_type": "markdown",
      "source": [
        "### Мини-задание\n",
        "\n",
        "\n",
        "\n"
      ],
      "metadata": {
        "id": "gaF3cYc5QXIp"
      }
    },
    {
      "cell_type": "markdown",
      "source": [
        "* визуализируйте гистограмму распределения весов для большого числа весов\n",
        "* объясните получившееся распределение"
      ],
      "metadata": {
        "id": "HC4h3I7qTdGo"
      }
    },
    {
      "cell_type": "code",
      "source": [],
      "metadata": {
        "id": "sM2sLfzvQk6a"
      },
      "execution_count": null,
      "outputs": []
    },
    {
      "cell_type": "markdown",
      "source": [
        "## Предсказание"
      ],
      "metadata": {
        "id": "pM0rZeaPJMuv"
      }
    },
    {
      "cell_type": "markdown",
      "metadata": {
        "id": "YLl-ce1qbNaT"
      },
      "source": [
        "\n",
        "Запишем функции предсказания и расчета значений функции потерь.\n",
        "\n",
        " Отметим, что для учета смещения мы будем добавлять единичный столбец к входным данным."
      ]
    },
    {
      "cell_type": "code",
      "execution_count": null,
      "metadata": {
        "id": "vENVJXPabNaT"
      },
      "outputs": [],
      "source": [
        "def predict( X, W, add_bias = True):\n",
        "    \"\"\"Предсказание линейной модели\n",
        "    Входные переменные:\n",
        "    ===========\n",
        "    X: признаки\n",
        "    W: вектор весов\n",
        "    add_bias: учитываем смещение или нет\n",
        "    \"\"\"\n",
        "    if add_bias: # если учитываем смещение\n",
        "        X_full = np.column_stack((np.ones(X.shape[0]),X)) # добавляем единички по количеству точек данных\n",
        "    else:\n",
        "        X_full = X # иначе ничего не делаем\n",
        "    return  np.dot(X_full,W) # предсказание как матричное перемножение признаков на веса\n"
      ]
    },
    {
      "cell_type": "markdown",
      "source": [
        "Проверим правильно ли работает функция на примере из презентации\n",
        "\n",
        "Зададим веса и значение признака"
      ],
      "metadata": {
        "id": "A-AbRc4bRd3f"
      }
    },
    {
      "cell_type": "code",
      "source": [
        "w = np.array([-5, 2])\n",
        "x_ = np.array([0,1,2,5])"
      ],
      "metadata": {
        "id": "Y-3Mlvz6RA0d"
      },
      "execution_count": null,
      "outputs": []
    },
    {
      "cell_type": "markdown",
      "source": [
        "Выполним предсказание"
      ],
      "metadata": {
        "id": "xxQS7fIGRsVM"
      }
    },
    {
      "cell_type": "code",
      "source": [
        "predict(x_, w )"
      ],
      "metadata": {
        "colab": {
          "base_uri": "https://localhost:8080/"
        },
        "id": "S_GDMqK9OaW7",
        "outputId": "14f7e859-5b3b-4da0-c0bd-70e04a63f4ed"
      },
      "execution_count": null,
      "outputs": [
        {
          "output_type": "execute_result",
          "data": {
            "text/plain": [
              "array([-5., -3., -1.,  5.])"
            ]
          },
          "metadata": {},
          "execution_count": 38
        }
      ]
    },
    {
      "cell_type": "markdown",
      "source": [
        "Проверим что всё будет работать корректно на двумерном массиве\n",
        "для этого мы\n",
        "1. добавим еще 1 значение в вектор весов\n",
        "2. по другому определим признаки"
      ],
      "metadata": {
        "id": "2xfObulMRwFE"
      }
    },
    {
      "cell_type": "code",
      "source": [
        "w = init_weights(2)\n",
        "w"
      ],
      "metadata": {
        "colab": {
          "base_uri": "https://localhost:8080/"
        },
        "id": "GkVP4iLqS_k-",
        "outputId": "220af0a7-5b97-44e7-c26f-02a56c01dd6b"
      },
      "execution_count": null,
      "outputs": [
        {
          "output_type": "execute_result",
          "data": {
            "text/plain": [
              "array([ 0.        ,  0.35122995, -0.09776762])"
            ]
          },
          "metadata": {},
          "execution_count": 39
        }
      ]
    },
    {
      "cell_type": "code",
      "source": [
        "x_ = np.random.randn(5,2)\n",
        "x_"
      ],
      "metadata": {
        "colab": {
          "base_uri": "https://localhost:8080/"
        },
        "id": "m6cjTzA8RyBk",
        "outputId": "63b2a457-12ea-4725-9e58-9bd63d92390c"
      },
      "execution_count": null,
      "outputs": [
        {
          "output_type": "execute_result",
          "data": {
            "text/plain": [
              "array([[ 0.64768854,  1.52302986],\n",
              "       [-0.23415337, -0.23413696],\n",
              "       [ 1.57921282,  0.76743473],\n",
              "       [-0.46947439,  0.54256004],\n",
              "       [-0.46341769, -0.46572975]])"
            ]
          },
          "metadata": {},
          "execution_count": 40
        }
      ]
    },
    {
      "cell_type": "code",
      "source": [
        "predict( x_, w )"
      ],
      "metadata": {
        "colab": {
          "base_uri": "https://localhost:8080/"
        },
        "id": "LxckShNLSZh5",
        "outputId": "7b5b7359-cb31-4a59-85ac-a07663978296"
      },
      "execution_count": null,
      "outputs": [
        {
          "output_type": "execute_result",
          "data": {
            "text/plain": [
              "array([ 0.0785846 , -0.05935066,  0.47963656, -0.21793827, -0.11723288])"
            ]
          },
          "metadata": {},
          "execution_count": 41
        }
      ]
    },
    {
      "cell_type": "markdown",
      "source": [
        "### Мини-задание"
      ],
      "metadata": {
        "id": "m8mYsVy4TQ6f"
      }
    },
    {
      "cell_type": "markdown",
      "source": [
        "* реализуйте предсказание модели на 3-х или 4-х мерных массивах\n"
      ],
      "metadata": {
        "id": "RADAf6cXTgu9"
      }
    },
    {
      "cell_type": "code",
      "source": [],
      "metadata": {
        "id": "6ZhTQEBLTvM_"
      },
      "execution_count": null,
      "outputs": []
    },
    {
      "cell_type": "markdown",
      "source": [
        "## Функция потерь"
      ],
      "metadata": {
        "id": "w4SPl0WfNETk"
      }
    },
    {
      "cell_type": "code",
      "source": [
        "def loss_func(yhat, y):\n",
        "    \"\"\"функция потерь\n",
        "    Входные переменные:\n",
        "    ===========\n",
        "    yhat: предсказание модели\n",
        "    y: реальные значения\n",
        "    \"\"\"\n",
        "    return np.square(yhat - y)  # функция потерь как квадрат разности предсказаний и реальных значений"
      ],
      "metadata": {
        "id": "QmqBlOtQNFXt"
      },
      "execution_count": null,
      "outputs": []
    },
    {
      "cell_type": "markdown",
      "metadata": {
        "id": "dT_uGMJpbNaU"
      },
      "source": [
        "Проверим функцию потерь на большом диапазоне данных\n",
        "\n",
        "Посмотрим на график того как меняется функция потерь в зависимости от отклонения (мультипликативного) оценки результата от его истинного значения."
      ]
    },
    {
      "cell_type": "code",
      "execution_count": null,
      "metadata": {
        "scrolled": true,
        "id": "bkQpOBdXbNaU",
        "outputId": "d9eaf2c3-db23-4c45-cb9b-2a7aa0e9618a",
        "colab": {
          "base_uri": "https://localhost:8080/",
          "height": 430
        }
      },
      "outputs": [
        {
          "output_type": "display_data",
          "data": {
            "text/plain": [
              "<Figure size 640x480 with 1 Axes>"
            ],
            "image/png": "[encoded data removed]"
          },
          "metadata": {}
        }
      ],
      "source": [
        "decline = np.linspace(start = 0.5, stop = 1.5,num = 25) # созданим вектор \"пропорций\" от 50% до 150%\n",
        "yhat = decline* 1 # на примере 1 точке\n",
        "loss = loss_func(yhat, 1) # посчитаем функцию потерь\n",
        "plt.plot(decline,loss,'-o', mfc = 'none'); plt.grid();  # визуализируем"
      ]
    },
    {
      "cell_type": "markdown",
      "source": [
        "Получается действительно парабола и чем дальше от исходной точки - том больше"
      ],
      "metadata": {
        "id": "RjyRkSmejYvZ"
      }
    },
    {
      "cell_type": "markdown",
      "source": [
        "## Градиент функции потерь"
      ],
      "metadata": {
        "id": "Z1rT1JrdVQOD"
      }
    },
    {
      "cell_type": "markdown",
      "metadata": {
        "id": "Z2DhBQMTbNaV"
      },
      "source": [
        "Сразу отметим, что нам потребуется не только сама фунция потерь, но и ее производная по набору оптимизируемых параметров $\\{w_j\\}$.   \n",
        "$$\\frac{\\partial L_i}{\\partial w_j} = 2\\left(\\sum_{j=0}^{m}x_{ij}w_j-y_i\\right)x_{ij} = 2(\\hat{y}_i - y_i)x_{ij},$$\n",
        "где  $\\frac{\\partial L_i}{\\partial w_j}$ - частная производная функции $L_i$ по параметру $w_j$  <br>   \n",
        "тогда по набору всех переменных мы получим производную вида:\n",
        "$$\\nabla_{W}L_i  = 2(\\hat{y}_i-y_i)\\odot X_i,  $$\n",
        " где <ul>\n",
        "    <li> $\\nabla_{W}L_i$ - градиент, то есть набор частных производных функции $L_i$ по набору \\{$w_j$\\}.  \n",
        "    <li> $\\odot$ - операция поэлементного умножения (умножение Адамара)    "
      ]
    },
    {
      "cell_type": "code",
      "execution_count": null,
      "metadata": {
        "id": "7SAb7hp0bNaV"
      },
      "outputs": [],
      "source": [
        "def grad_loss(y_hat, y, X, add_bias = True):\n",
        "    \"\"\"Оценим градиент функции потерь\n",
        "    Входные переменные:\n",
        "    ===========\n",
        "    yhat: предсказание модели\n",
        "    y: реальные значения\n",
        "    X: признаки\n",
        "    add_bias: учитываем смещение или нет\n",
        "    \"\"\"\n",
        "    if add_bias: # если учитываем смещение\n",
        "        X_full = np.column_stack((np.ones(X.shape[0]),X)) # добавляем единички по количеству точек данных\n",
        "    else:\n",
        "        X_full = X # иначе ничего не делаем\n",
        "\n",
        "    return 2*np.dot(X_full.T, (y_hat - y)) / y.size  # градиент функции потерь как среднее от матричного умножения признаков на разницу предсказание-реальное"
      ]
    },
    {
      "cell_type": "markdown",
      "metadata": {
        "id": "OREgnQ5BbNaV"
      },
      "source": [
        "Проведем расчет градиента ошибки"
      ]
    },
    {
      "cell_type": "markdown",
      "source": [
        "Если \"недобор\" (предсказание меньше реального значения) то градиент будет отрицательный\n"
      ],
      "metadata": {
        "id": "S9JZXYGCYXxl"
      }
    },
    {
      "cell_type": "code",
      "source": [
        "grad_loss(np.array([1]), # предсказание\n",
        "          np.array([2]), # реальное значение\n",
        "          np.array([2])  # признак\n",
        "          )"
      ],
      "metadata": {
        "colab": {
          "base_uri": "https://localhost:8080/"
        },
        "id": "KBRwa_uzXax9",
        "outputId": "49e6a74c-d452-4d8b-8f12-32d29fd11a52"
      },
      "execution_count": null,
      "outputs": [
        {
          "output_type": "execute_result",
          "data": {
            "text/plain": [
              "array([-2., -4.])"
            ]
          },
          "metadata": {},
          "execution_count": 48
        }
      ]
    },
    {
      "cell_type": "markdown",
      "source": [
        "Если \"перебор\" (предсказание меньше реального значения) то градиент будет положительный"
      ],
      "metadata": {
        "id": "HoaedSJGYjIi"
      }
    },
    {
      "cell_type": "code",
      "source": [
        "grad_loss(np.array([2]), # предсказание\n",
        "          np.array([1]), # реальное значение\n",
        "          np.array([2])  # признак\n",
        "          )"
      ],
      "metadata": {
        "colab": {
          "base_uri": "https://localhost:8080/"
        },
        "id": "iV3pKi2VYU-f",
        "outputId": "1ac548ca-56e6-453b-d133-acb30be0116a"
      },
      "execution_count": null,
      "outputs": [
        {
          "output_type": "execute_result",
          "data": {
            "text/plain": [
              "array([2., 4.])"
            ]
          },
          "metadata": {},
          "execution_count": 49
        }
      ]
    },
    {
      "cell_type": "markdown",
      "source": [
        "Если \"где-то больше, где-то меньше\" - то зависит от того каких отклонений больше"
      ],
      "metadata": {
        "id": "l4wvI2qAbWot"
      }
    },
    {
      "cell_type": "code",
      "source": [
        "grad_loss(np.array([2, 1.5]),# предсказание\n",
        "          np.array([1, 2]),  # реальное значение\n",
        "          np.array([0.5, 3])   # признак\n",
        "          )"
      ],
      "metadata": {
        "colab": {
          "base_uri": "https://localhost:8080/"
        },
        "id": "lJUptzxza7LT",
        "outputId": "78c52df5-e447-4add-e1a0-6c7775222994"
      },
      "execution_count": null,
      "outputs": [
        {
          "output_type": "execute_result",
          "data": {
            "text/plain": [
              "array([ 0.5, -1. ])"
            ]
          },
          "metadata": {},
          "execution_count": 51
        }
      ]
    },
    {
      "cell_type": "code",
      "source": [],
      "metadata": {
        "id": "cn1jfsMxcadU"
      },
      "execution_count": null,
      "outputs": []
    },
    {
      "cell_type": "markdown",
      "source": [
        "## Обновление весов"
      ],
      "metadata": {
        "id": "12ssMDpqVabF"
      }
    },
    {
      "cell_type": "markdown",
      "metadata": {
        "id": "uZYZJ6UPbNaW"
      },
      "source": [
        "Опимизацию мы будем проводить методом граидентного спуска. <br>\n",
        "По сути этот метод сводится к последовательному (итерационному) пересчету значений весовых параметров обратно значеням градиента ошибки (то есть в направлении, обратном направлению роста ошибки).\n",
        "<br> Обозначим номер итерации как  $t$, тогда выражение для обновления весовых параметров можно записать как:\n",
        "\n",
        "$$ W^t = W^{t-1}-\\eta\\nabla_{W}L(\\hat{y}_i,y_i)=W^{t-1} - 2\\eta (\\hat{y}_i-y_i)\\odot X_i^T  $$\n",
        "\n",
        "где <ul>\n",
        "<li> $\\eta$ - коэффициент с которым изменяются значения весовых параметров - т.н. скорость обучения;\n",
        "\n"
      ]
    },
    {
      "cell_type": "code",
      "execution_count": null,
      "metadata": {
        "id": "sUyyHcz-bNaW"
      },
      "outputs": [],
      "source": [
        "def update_weights(grad, W, learning_rate):\n",
        "    \"\"\"Обновим веса\n",
        "    Входные переменные:\n",
        "    ===========\n",
        "    grad: значение градиента\n",
        "    W: веса\n",
        "    learning_rate: скорость обучения\n",
        "    \"\"\"\n",
        "    return W - learning_rate*grad # просто из старых весов вычитаем градиент помноженный на скорость обучения"
      ]
    },
    {
      "cell_type": "markdown",
      "source": [
        "Протестируем"
      ],
      "metadata": {
        "id": "s-Lb37jGa00E"
      }
    },
    {
      "cell_type": "code",
      "source": [
        "update_weights(np.array([5]), # градиент\n",
        "               np.array([10]), # текущие веса\n",
        "               0.5)"
      ],
      "metadata": {
        "colab": {
          "base_uri": "https://localhost:8080/"
        },
        "id": "ROfr3svua1ZQ",
        "outputId": "c95b5bba-f078-40df-af41-93ac3bd1a638"
      },
      "execution_count": null,
      "outputs": [
        {
          "output_type": "execute_result",
          "data": {
            "text/plain": [
              "array([7.5])"
            ]
          },
          "metadata": {},
          "execution_count": 54
        }
      ]
    },
    {
      "cell_type": "markdown",
      "source": [
        "В зависимости от знака градиента будут или увеличиваться, или уменьшаться веса"
      ],
      "metadata": {
        "id": "FvlwT8J9e-Fl"
      }
    },
    {
      "cell_type": "code",
      "source": [
        "update_weights(np.array([5, -5]), # градиент\n",
        "               np.array([10, 10]), # текущие веса\n",
        "               0.1)"
      ],
      "metadata": {
        "colab": {
          "base_uri": "https://localhost:8080/"
        },
        "id": "nZ2rzWlzew0i",
        "outputId": "4624fcf0-9a44-4a0b-c120-7efbae250698"
      },
      "execution_count": null,
      "outputs": [
        {
          "output_type": "execute_result",
          "data": {
            "text/plain": [
              "array([ 9.5, 10.5])"
            ]
          },
          "metadata": {},
          "execution_count": 55
        }
      ]
    },
    {
      "cell_type": "markdown",
      "metadata": {
        "id": "ytsRzxtfbNaU"
      },
      "source": [
        "Протестируем функции вместе на \"реальных\" данных"
      ]
    },
    {
      "cell_type": "code",
      "execution_count": null,
      "metadata": {
        "colab": {
          "base_uri": "https://localhost:8080/"
        },
        "id": "vh9RQ2f0bNaU",
        "outputId": "a1e494e0-0eed-416d-e98f-2933e014d3de"
      },
      "outputs": [
        {
          "output_type": "stream",
          "name": "stdout",
          "text": [
            "Веса [0.         0.49671415]\n",
            "Первая точка-признак [0.80839735],\n",
            " Предсказание [0.4015424],\n",
            " Реальное значение 3.6824500570963057,\n",
            " Функция потерь: [10.76435503]\n",
            "Градиент [-6.56181531 -5.30455409]\n",
            "После обновления\n",
            "Веса [0.65618153 1.02716956]\n",
            "Первая точка-признак [0.80839735],\n",
            " Предсказание [1.48654268],\n",
            " Реальное значение 3.6824500570963057,\n",
            " Функция потерь: [4.82200921]\n"
          ]
        }
      ],
      "source": [
        "weights = init_weights(x_train.shape[1]) # генерируем веса\n",
        "yhat = predict( x_train[0],weights) # делаем предсказание на 1 точке\n",
        "loss = loss_func(yhat, y_train[0]) # посчитаем функцию потерь\n",
        "\n",
        "print(f'Веса {weights}')\n",
        "\n",
        "print(f'Первая точка-признак {x_train[0]},\\n Предсказание {yhat},\\n Реальное значение {y_train[0]},\\n Функция потерь: {loss}')\n",
        "\n",
        "grad = grad_loss(yhat, y_train[0], x_train[0]) # делаем оценку градиента функции потерь\n",
        "\n",
        "print(f'Градиент {grad}')\n",
        "\n",
        "# теперь проведем обновление весовых параметров\n",
        "laerning_rate = 0.1\n",
        "weights = update_weights(grad, weights, laerning_rate)\n",
        "\n",
        "print('После обновления')\n",
        "\n",
        "yhat = predict( x_train[0],weights)\n",
        "loss = loss_func(yhat, y_train[0])\n",
        "\n",
        "print(f'Веса {weights}')\n",
        "\n",
        "print(f'Первая точка-признак {x_train[0]},\\n Предсказание {yhat},\\n Реальное значение {y_train[0]},\\n Функция потерь: {loss}')"
      ]
    },
    {
      "cell_type": "markdown",
      "source": [
        "Функция потерь уменьшается - теория в целом пока работает\n",
        "\n",
        "Но не запускать нам это всё вручную\n",
        "\n",
        "Опять подготовим функцию"
      ],
      "metadata": {
        "id": "HkQ60Xx3ySTi"
      }
    },
    {
      "cell_type": "markdown",
      "source": [
        "## Собирем градиентный спуск для регрессии в одну функцию"
      ],
      "metadata": {
        "id": "fSkM9AhPVsU5"
      }
    },
    {
      "cell_type": "markdown",
      "metadata": {
        "id": "OruvKK8LbNaX"
      },
      "source": [
        "Создадим процедуру обучения как функцию `fit`.\n",
        "\n",
        "Процедура будет повторять порцесс пересчета весов методом градиентного спуска заданое число раз (`epochs`).<br>\n",
        "Функция будет требовать на вход <ul>\n",
        "    <li> `X` - набор входных значений (т.н. батч ) в формате: $\\textrm{число записей}\\times\\textrm{значения в записи}$;\n",
        "    <li> `y` - набор целевых переменных (labels);   \n",
        "    <li> `weights` - начальные значения весовых параметров;\n",
        "    <li> `learning_rate` - скорость обучения ($\\eta$);    \n",
        "    <li> `epochs`   -  число эпох обучения.\n",
        "        </ul>\n",
        "Функция дает на выходе:<ul>\n",
        "    <li> `weights` - набор обученных весовых параметров;\n",
        "    <li> `cost`    - график функции потерь.\n",
        " </ul>\n",
        "Также отметим, что на практике мы можем обновлять весовые параметры не для кажого отдельного значения $i$, а для целого набора таких значений, тогда более верное выражение будет выглядеть как\n",
        "\n",
        "$$ W^t = W^{t-1}-\\eta\\frac{1}{n}\\sum_{i=0}^{n-1}\\nabla_{W}L(\\hat{y}_i,y_i),  $$\n",
        "где $n$ - объем выборки.        "
      ]
    },
    {
      "cell_type": "code",
      "execution_count": null,
      "metadata": {
        "id": "kPuYzZCybNaX"
      },
      "outputs": [],
      "source": [
        "def fit(X, y, learning_rate, weights = None,  epochs=30):\n",
        "    \"\"\"Обучение модели.\n",
        "    Входные переменные:\n",
        "    ===========\n",
        "    X: признаки\n",
        "    y: реальные значения\n",
        "    learning_rate: скорость обучения\n",
        "    weights: веса\n",
        "    epochs: количество эпох обучения\n",
        "    \"\"\"\n",
        "\n",
        "    if weights is None: weights = init_weights(X.shape[1]) # если веса не заданы - генерируем веса случайно\n",
        "    # это если хотим продолжать обучение\n",
        "\n",
        "    cost    = np.zeros(epochs) # создадим массив из нулей\n",
        "\n",
        "    for i in range(epochs): # цикл по количеству эпох\n",
        "    # на каждом шаге\n",
        "        yhat    = predict(X,weights) # делаем предсказание\n",
        "        grad    = grad_loss(yhat,  y, X)  # считаем производную функции потерь\n",
        "        weights = update_weights(grad, weights, learning_rate)  # обновляем веса\n",
        "        cost[i] = loss_func(yhat,  y).mean() # фиксируем среднее значение функции потерь. на память. потому что можем\n",
        "\n",
        "    return weights, cost # возвращаем итоговые веса (после epochs шагов обновлений) и график функции потерь. потому что нам интересно"
      ]
    },
    {
      "cell_type": "markdown",
      "metadata": {
        "id": "Cvn_Wm-AbNaX"
      },
      "source": [
        "Протестируем обучение"
      ]
    },
    {
      "cell_type": "code",
      "execution_count": null,
      "metadata": {
        "id": "kVCNZlaVbNaX"
      },
      "outputs": [],
      "source": [
        "weights, cost = fit(x_train, y_train, learning_rate=0.1, epochs=10)"
      ]
    },
    {
      "cell_type": "code",
      "source": [
        "def plot_cost(cost):\n",
        "    \"\"\"Отрисовка функции потерь.\n",
        "    Входные переменные:\n",
        "    ===========\n",
        "    cost: функция потерь\n",
        "    \"\"\"\n",
        "    fig = go.Figure()\n",
        "        # рисуем с помощью библиотеки plotly\n",
        "    fig.add_trace(\n",
        "            go.Scatter(\n",
        "            y=cost,\n",
        "            mode='lines+markers',\n",
        "            name='Реальные данные',\n",
        "\n",
        "            )\n",
        "        )\n",
        "    fig.update_layout(\n",
        "                title=\"Кривая обучения\",\n",
        "                width=1200,\n",
        "                height=600,\n",
        "            template = \"plotly_dark\"\n",
        "                )\n",
        "\n",
        "    fig.show()"
      ],
      "metadata": {
        "id": "HD_1i3YvFC15"
      },
      "execution_count": null,
      "outputs": []
    },
    {
      "cell_type": "code",
      "source": [
        "plot_cost(cost);"
      ],
      "metadata": {
        "colab": {
          "base_uri": "https://localhost:8080/",
          "height": 617
        },
        "id": "zAMYaslOEbPR",
        "outputId": "303d07d1-f580-4f70-daff-b13384acfcbd"
      },
      "execution_count": null,
      "outputs": [
        {
          "output_type": "display_data",
          "data": {
            "text/html": [
              "<html>\n",
              "<head><meta charset=\"utf-8\" /></head>\n",
              "<body>\n",
              "    <div>            <script src=\"https://cdnjs.cloudflare.com/ajax/libs/mathjax/2.7.5/MathJax.js?config=TeX-AMS-MML_SVG\"></script><script type=\"text/javascript\">if (window.MathJax && window.MathJax.Hub && window.MathJax.Hub.Config) {window.MathJax.Hub.Config({SVG: {font: \"STIX-Web\"}});}</script>                <script type=\"text/javascript\">window.PlotlyConfig = {MathJaxConfig: 'local'};</script>\n",
              "        <script charset=\"utf-8\" src=\"https://cdn.plot.ly/plotly-2.24.1.min.js\"></script>                <div id=\"1bbc6de8-7e8a-4ab7-a9b2-9f3148f9865a\" class=\"plotly-graph-div\" style=\"height:600px; width:1200px;\"></div>            <script type=\"text/javascript\">                                    window.PLOTLYENV=window.PLOTLYENV || {};                                    if (document.getElementById(\"1bbc6de8-7e8a-4ab7-a9b2-9f3148f9865a\")) {                    Plotly.newPlot(                        \"1bbc6de8-7e8a-4ab7-a9b2-9f3148f9865a\",                        [{\"mode\":\"lines+markers\",\"name\":\"\\u0420\\u0435\\u0430\\u043b\\u044c\\u043d\\u044b\\u0435 \\u0434\\u0430\\u043d\\u043d\\u044b\\u0435\",\"y\":[7.313476270350603,4.216174431770024,2.4355708365891617,1.411820406345132,0.8231206981926532,0.484497578648571,0.2896266349035826,0.1773917805679205,0.11266294590675653,0.07524698126316927],\"type\":\"scatter\"}],                        {\"template\":{\"data\":{\"barpolar\":[{\"marker\":{\"line\":{\"color\":\"rgb(17,17,17)\",\"width\":0.5},\"pattern\":{\"fillmode\":\"overlay\",\"size\":10,\"solidity\":0.2}},\"type\":\"barpolar\"}],\"bar\":[{\"error_x\":{\"color\":\"#f2f5fa\"},\"error_y\":{\"color\":\"#f2f5fa\"},\"marker\":{\"line\":{\"color\":\"rgb(17,17,17)\",\"width\":0.5},\"pattern\":{\"fillmode\":\"overlay\",\"size\":10,\"solidity\":0.2}},\"type\":\"bar\"}],\"carpet\":[{\"aaxis\":{\"endlinecolor\":\"#A2B1C6\",\"gridcolor\":\"#506784\",\"linecolor\":\"#506784\",\"minorgridcolor\":\"#506784\",\"startlinecolor\":\"#A2B1C6\"},\"baxis\":{\"endlinecolor\":\"#A2B1C6\",\"gridcolor\":\"#506784\",\"linecolor\":\"#506784\",\"minorgridcolor\":\"#506784\",\"startlinecolor\":\"#A2B1C6\"},\"type\":\"carpet\"}],\"choropleth\":[{\"colorbar\":{\"outlinewidth\":0,\"ticks\":\"\"},\"type\":\"choropleth\"}],\"contourcarpet\":[{\"colorbar\":{\"outlinewidth\":0,\"ticks\":\"\"},\"type\":\"contourcarpet\"}],\"contour\":[{\"colorbar\":{\"outlinewidth\":0,\"ticks\":\"\"},\"colorscale\":[[0.0,\"#0d0887\"],[0.1111111111111111,\"#46039f\"],[0.2222222222222222,\"#7201a8\"],[0.3333333333333333,\"#9c179e\"],[0.4444444444444444,\"#bd3786\"],[0.5555555555555556,\"#d8576b\"],[0.6666666666666666,\"#ed7953\"],[0.7777777777777778,\"#fb9f3a\"],[0.8888888888888888,\"#fdca26\"],[1.0,\"#f0f921\"]],\"type\":\"contour\"}],\"heatmapgl\":[{\"colorbar\":{\"outlinewidth\":0,\"ticks\":\"\"},\"colorscale\":[[0.0,\"#0d0887\"],[0.1111111111111111,\"#46039f\"],[0.2222222222222222,\"#7201a8\"],[0.3333333333333333,\"#9c179e\"],[0.4444444444444444,\"#bd3786\"],[0.5555555555555556,\"#d8576b\"],[0.6666666666666666,\"#ed7953\"],[0.7777777777777778,\"#fb9f3a\"],[0.8888888888888888,\"#fdca26\"],[1.0,\"#f0f921\"]],\"type\":\"heatmapgl\"}],\"heatmap\":[{\"colorbar\":{\"outlinewidth\":0,\"ticks\":\"\"},\"colorscale\":[[0.0,\"#0d0887\"],[0.1111111111111111,\"#46039f\"],[0.2222222222222222,\"#7201a8\"],[0.3333333333333333,\"#9c179e\"],[0.4444444444444444,\"#bd3786\"],[0.5555555555555556,\"#d8576b\"],[0.6666666666666666,\"#ed7953\"],[0.7777777777777778,\"#fb9f3a\"],[0.8888888888888888,\"#fdca26\"],[1.0,\"#f0f921\"]],\"type\":\"heatmap\"}],\"histogram2dcontour\":[{\"colorbar\":{\"outlinewidth\":0,\"ticks\":\"\"},\"colorscale\":[[0.0,\"#0d0887\"],[0.1111111111111111,\"#46039f\"],[0.2222222222222222,\"#7201a8\"],[0.3333333333333333,\"#9c179e\"],[0.4444444444444444,\"#bd3786\"],[0.5555555555555556,\"#d8576b\"],[0.6666666666666666,\"#ed7953\"],[0.7777777777777778,\"#fb9f3a\"],[0.8888888888888888,\"#fdca26\"],[1.0,\"#f0f921\"]],\"type\":\"histogram2dcontour\"}],\"histogram2d\":[{\"colorbar\":{\"outlinewidth\":0,\"ticks\":\"\"},\"colorscale\":[[0.0,\"#0d0887\"],[0.1111111111111111,\"#46039f\"],[0.2222222222222222,\"#7201a8\"],[0.3333333333333333,\"#9c179e\"],[0.4444444444444444,\"#bd3786\"],[0.5555555555555556,\"#d8576b\"],[0.6666666666666666,\"#ed7953\"],[0.7777777777777778,\"#fb9f3a\"],[0.8888888888888888,\"#fdca26\"],[1.0,\"#f0f921\"]],\"type\":\"histogram2d\"}],\"histogram\":[{\"marker\":{\"pattern\":{\"fillmode\":\"overlay\",\"size\":10,\"solidity\":0.2}},\"type\":\"histogram\"}],\"mesh3d\":[{\"colorbar\":{\"outlinewidth\":0,\"ticks\":\"\"},\"type\":\"mesh3d\"}],\"parcoords\":[{\"line\":{\"colorbar\":{\"outlinewidth\":0,\"ticks\":\"\"}},\"type\":\"parcoords\"}],\"pie\":[{\"automargin\":true,\"type\":\"pie\"}],\"scatter3d\":[{\"line\":{\"colorbar\":{\"outlinewidth\":0,\"ticks\":\"\"}},\"marker\":{\"colorbar\":{\"outlinewidth\":0,\"ticks\":\"\"}},\"type\":\"scatter3d\"}],\"scattercarpet\":[{\"marker\":{\"colorbar\":{\"outlinewidth\":0,\"ticks\":\"\"}},\"type\":\"scattercarpet\"}],\"scattergeo\":[{\"marker\":{\"colorbar\":{\"outlinewidth\":0,\"ticks\":\"\"}},\"type\":\"scattergeo\"}],\"scattergl\":[{\"marker\":{\"line\":{\"color\":\"#283442\"}},\"type\":\"scattergl\"}],\"scattermapbox\":[{\"marker\":{\"colorbar\":{\"outlinewidth\":0,\"ticks\":\"\"}},\"type\":\"scattermapbox\"}],\"scatterpolargl\":[{\"marker\":{\"colorbar\":{\"outlinewidth\":0,\"ticks\":\"\"}},\"type\":\"scatterpolargl\"}],\"scatterpolar\":[{\"marker\":{\"colorbar\":{\"outlinewidth\":0,\"ticks\":\"\"}},\"type\":\"scatterpolar\"}],\"scatter\":[{\"marker\":{\"line\":{\"color\":\"#283442\"}},\"type\":\"scatter\"}],\"scatterternary\":[{\"marker\":{\"colorbar\":{\"outlinewidth\":0,\"ticks\":\"\"}},\"type\":\"scatterternary\"}],\"surface\":[{\"colorbar\":{\"outlinewidth\":0,\"ticks\":\"\"},\"colorscale\":[[0.0,\"#0d0887\"],[0.1111111111111111,\"#46039f\"],[0.2222222222222222,\"#7201a8\"],[0.3333333333333333,\"#9c179e\"],[0.4444444444444444,\"#bd3786\"],[0.5555555555555556,\"#d8576b\"],[0.6666666666666666,\"#ed7953\"],[0.7777777777777778,\"#fb9f3a\"],[0.8888888888888888,\"#fdca26\"],[1.0,\"#f0f921\"]],\"type\":\"surface\"}],\"table\":[{\"cells\":{\"fill\":{\"color\":\"#506784\"},\"line\":{\"color\":\"rgb(17,17,17)\"}},\"header\":{\"fill\":{\"color\":\"#2a3f5f\"},\"line\":{\"color\":\"rgb(17,17,17)\"}},\"type\":\"table\"}]},\"layout\":{\"annotationdefaults\":{\"arrowcolor\":\"#f2f5fa\",\"arrowhead\":0,\"arrowwidth\":1},\"autotypenumbers\":\"strict\",\"coloraxis\":{\"colorbar\":{\"outlinewidth\":0,\"ticks\":\"\"}},\"colorscale\":{\"diverging\":[[0,\"#8e0152\"],[0.1,\"#c51b7d\"],[0.2,\"#de77ae\"],[0.3,\"#f1b6da\"],[0.4,\"#fde0ef\"],[0.5,\"#f7f7f7\"],[0.6,\"#e6f5d0\"],[0.7,\"#b8e186\"],[0.8,\"#7fbc41\"],[0.9,\"#4d9221\"],[1,\"#276419\"]],\"sequential\":[[0.0,\"#0d0887\"],[0.1111111111111111,\"#46039f\"],[0.2222222222222222,\"#7201a8\"],[0.3333333333333333,\"#9c179e\"],[0.4444444444444444,\"#bd3786\"],[0.5555555555555556,\"#d8576b\"],[0.6666666666666666,\"#ed7953\"],[0.7777777777777778,\"#fb9f3a\"],[0.8888888888888888,\"#fdca26\"],[1.0,\"#f0f921\"]],\"sequentialminus\":[[0.0,\"#0d0887\"],[0.1111111111111111,\"#46039f\"],[0.2222222222222222,\"#7201a8\"],[0.3333333333333333,\"#9c179e\"],[0.4444444444444444,\"#bd3786\"],[0.5555555555555556,\"#d8576b\"],[0.6666666666666666,\"#ed7953\"],[0.7777777777777778,\"#fb9f3a\"],[0.8888888888888888,\"#fdca26\"],[1.0,\"#f0f921\"]]},\"colorway\":[\"#636efa\",\"#EF553B\",\"#00cc96\",\"#ab63fa\",\"#FFA15A\",\"#19d3f3\",\"#FF6692\",\"#B6E880\",\"#FF97FF\",\"#FECB52\"],\"font\":{\"color\":\"#f2f5fa\"},\"geo\":{\"bgcolor\":\"rgb(17,17,17)\",\"lakecolor\":\"rgb(17,17,17)\",\"landcolor\":\"rgb(17,17,17)\",\"showlakes\":true,\"showland\":true,\"subunitcolor\":\"#506784\"},\"hoverlabel\":{\"align\":\"left\"},\"hovermode\":\"closest\",\"mapbox\":{\"style\":\"dark\"},\"paper_bgcolor\":\"rgb(17,17,17)\",\"plot_bgcolor\":\"rgb(17,17,17)\",\"polar\":{\"angularaxis\":{\"gridcolor\":\"#506784\",\"linecolor\":\"#506784\",\"ticks\":\"\"},\"bgcolor\":\"rgb(17,17,17)\",\"radialaxis\":{\"gridcolor\":\"#506784\",\"linecolor\":\"#506784\",\"ticks\":\"\"}},\"scene\":{\"xaxis\":{\"backgroundcolor\":\"rgb(17,17,17)\",\"gridcolor\":\"#506784\",\"gridwidth\":2,\"linecolor\":\"#506784\",\"showbackground\":true,\"ticks\":\"\",\"zerolinecolor\":\"#C8D4E3\"},\"yaxis\":{\"backgroundcolor\":\"rgb(17,17,17)\",\"gridcolor\":\"#506784\",\"gridwidth\":2,\"linecolor\":\"#506784\",\"showbackground\":true,\"ticks\":\"\",\"zerolinecolor\":\"#C8D4E3\"},\"zaxis\":{\"backgroundcolor\":\"rgb(17,17,17)\",\"gridcolor\":\"#506784\",\"gridwidth\":2,\"linecolor\":\"#506784\",\"showbackground\":true,\"ticks\":\"\",\"zerolinecolor\":\"#C8D4E3\"}},\"shapedefaults\":{\"line\":{\"color\":\"#f2f5fa\"}},\"sliderdefaults\":{\"bgcolor\":\"#C8D4E3\",\"bordercolor\":\"rgb(17,17,17)\",\"borderwidth\":1,\"tickwidth\":0},\"ternary\":{\"aaxis\":{\"gridcolor\":\"#506784\",\"linecolor\":\"#506784\",\"ticks\":\"\"},\"baxis\":{\"gridcolor\":\"#506784\",\"linecolor\":\"#506784\",\"ticks\":\"\"},\"bgcolor\":\"rgb(17,17,17)\",\"caxis\":{\"gridcolor\":\"#506784\",\"linecolor\":\"#506784\",\"ticks\":\"\"}},\"title\":{\"x\":0.05},\"updatemenudefaults\":{\"bgcolor\":\"#506784\",\"borderwidth\":0},\"xaxis\":{\"automargin\":true,\"gridcolor\":\"#283442\",\"linecolor\":\"#506784\",\"ticks\":\"\",\"title\":{\"standoff\":15},\"zerolinecolor\":\"#283442\",\"zerolinewidth\":2},\"yaxis\":{\"automargin\":true,\"gridcolor\":\"#283442\",\"linecolor\":\"#506784\",\"ticks\":\"\",\"title\":{\"standoff\":15},\"zerolinecolor\":\"#283442\",\"zerolinewidth\":2}}},\"title\":{\"text\":\"\\u041a\\u0440\\u0438\\u0432\\u0430\\u044f \\u043e\\u0431\\u0443\\u0447\\u0435\\u043d\\u0438\\u044f\"},\"width\":1200,\"height\":600},                        {\"responsive\": true}                    ).then(function(){\n",
              "                            \n",
              "var gd = document.getElementById('1bbc6de8-7e8a-4ab7-a9b2-9f3148f9865a');\n",
              "var x = new MutationObserver(function (mutations, observer) {{\n",
              "        var display = window.getComputedStyle(gd).display;\n",
              "        if (!display || display === 'none') {{\n",
              "            console.log([gd, 'removed!']);\n",
              "            Plotly.purge(gd);\n",
              "            observer.disconnect();\n",
              "        }}\n",
              "}});\n",
              "\n",
              "// Listen for the removal of the full notebook cells\n",
              "var notebookContainer = gd.closest('#notebook-container');\n",
              "if (notebookContainer) {{\n",
              "    x.observe(notebookContainer, {childList: true});\n",
              "}}\n",
              "\n",
              "// Listen for the clearing of the current output cell\n",
              "var outputEl = gd.closest('.output');\n",
              "if (outputEl) {{\n",
              "    x.observe(outputEl, {childList: true});\n",
              "}}\n",
              "\n",
              "                        })                };                            </script>        </div>\n",
              "</body>\n",
              "</html>"
            ]
          },
          "metadata": {}
        }
      ]
    },
    {
      "cell_type": "markdown",
      "source": [
        "## Коэффициент детерминации"
      ],
      "metadata": {
        "id": "R3ATQFz9fSxo"
      }
    },
    {
      "cell_type": "markdown",
      "metadata": {
        "id": "ydfuhnN8bNaY"
      },
      "source": [
        "Теперь проверим как точно предсказывает наша функция, для этого мы можем воспользоваться метрикой $R^2$, метрика соотвествует относительной среднеквадратичной ошибке, она может быть расчитана как:\n",
        "$$\n",
        "R^2 = 1-\\frac{\\sum_{i=0}^{n-1}(y_i - \\hat{y}_i)^2}{\\sum_{i=0}^{n-1}(y_i - \\mathrm{ev}(y))^2} = 1 - \\frac{SS_{\\rm res}}{SS_{\\rm tot}},\n",
        "$$\n",
        "где\n",
        "<ul>\n",
        "    <li>$SS_{\\rm res} = \\sum_{i=0}^{n-1}L_i = \\sum_{i=0}^{n-1}(y_i - \\hat{y}_i)^2$ сумма квадратов остатков, величина, характеризующая степень того на сколько наша модель не соответствует нашим данным - то есть то, на сколько мы не можем объяснить нашей моделью наши данные;</li>\n",
        "    <li>$SS_{\\rm tot}$ - дисперсия данных - то есть сумма квадратов разностей значений данных и их среднего значения;</li>\n",
        "    <li>$\\mathrm{ev}(y) = \\frac{1}{n}\\sum_{i=0}^{n-1}y_i$ - среднее значение.</li>  \n",
        "</ul>  \n",
        "\n",
        "Отметим, важное обстоятельство. Для расчета градиента мы использовали функцию потерь. Однако, для оценки качества модели мы пользуемся другой функцией метрикой. Дело в том, что значения функции потерь, сколь небольшими бы они нибыли, очень сложно интерпретировать. Более того, можно ожидать, что для другого метода оптимизации значения могли быть и другими. Таким образом значения функции потерь не подходят для оценки качества модели.  Качество работы модели как правило определяется по некоторым метрикам. Такие метрики должны быть интерпретируемыми и едиными для всех сравниваемых оценщиков. В нашем случае метрика соответствует среднему квадрату ошибки в $%$. Тогда результат работы метрики мы можем интерпретировать как средняя ошибка предсказания для нашей модели. Чем ниже эта ошибки (для разных моделей), тем лучше."
      ]
    },
    {
      "cell_type": "code",
      "execution_count": null,
      "metadata": {
        "id": "d1NfJJYSbNaY"
      },
      "outputs": [],
      "source": [
        "def r2_score(yhat, y):\n",
        "    \"\"\"Расчет коэффициента детерминации.\n",
        "    Входные переменные:\n",
        "    ===========\n",
        "    yhat: предсказание модели\n",
        "    y: реальные значения\n",
        "    \"\"\"\n",
        "    return 1-(np.square(y-yhat)).sum(axis=0)/(np.square(y-np.mean(y, axis=0))).sum(axis=0)"
      ]
    },
    {
      "cell_type": "code",
      "execution_count": null,
      "metadata": {
        "scrolled": false,
        "colab": {
          "base_uri": "https://localhost:8080/"
        },
        "id": "c6XAwledbNaY",
        "outputId": "64932966-fc34-405b-cbe2-1f387554e9f9"
      },
      "outputs": [
        {
          "output_type": "execute_result",
          "data": {
            "text/plain": [
              "(0.818294732486739, 0.8570755941810686)"
            ]
          },
          "metadata": {},
          "execution_count": 62
        }
      ],
      "source": [
        "predicts = predict( x_test,weights,)\n",
        "\n",
        "r2_score(predicts, y_test), r2_score(predict(x_train,weights, ), y_train)"
      ]
    },
    {
      "cell_type": "markdown",
      "metadata": {
        "id": "lSypeKwWbNaY"
      },
      "source": [
        "Посмотрим на то, какая интерпретация может быть у предсказанных и заданных данных."
      ]
    },
    {
      "cell_type": "code",
      "source": [
        "def plot_model_weights(x_train, y_train, x_test, x, y, weights):\n",
        "    \"\"\"Отрисовка модели.\n",
        "    Входные переменные:\n",
        "    ===========\n",
        "    x_train: признаки на которых тренировались\n",
        "    y_train: тренировочные целевые значения\n",
        "    x_test: тестовые признаки\n",
        "    x: полные признаки\n",
        "    y: реальные целевые значения (без шума)\n",
        "    weights: веса\n",
        "    \"\"\"\n",
        "    fig = go.Figure()\n",
        "    # рисуем с помощью библиотеки plotly\n",
        "    fig.add_trace(\n",
        "        go.Scatter(\n",
        "        x=x_test[:,0],\n",
        "        y=predict(x_test,weights, ),\n",
        "        mode='markers',\n",
        "        name='Предсказание на x_test',\n",
        "        marker=dict(size = 10,\n",
        "                    color='Blue')\n",
        "        )\n",
        "    )\n",
        "    fig.add_trace(\n",
        "        go.Scatter(\n",
        "        x=x_train[:,0],\n",
        "        y=predict(x_train,weights, ),\n",
        "        mode='markers',\n",
        "        name='Предсказание на x_train',\n",
        "        marker=dict(size = 15,\n",
        "                    color='LightSkyBlue',\n",
        "                    ),\n",
        "\n",
        "        )\n",
        "    )\n",
        "\n",
        "    fig.add_trace(\n",
        "        go.Scatter(\n",
        "        x=x_train[:,0],\n",
        "        y=y_train,\n",
        "        mode='markers',\n",
        "        name='Тренировочные данные',\n",
        "        marker=dict(size = 5,\n",
        "                    color='Red')\n",
        "        )\n",
        "    )\n",
        "\n",
        "    fig.add_trace(\n",
        "        go.Scatter(\n",
        "        x=x[:,0],\n",
        "        y=y[:,0],\n",
        "        mode='lines+markers',\n",
        "        name='Истинные значения',\n",
        "        opacity = 0.7,\n",
        "        marker=dict(size = 15,\n",
        "                    color='green',),\n",
        "\n",
        "        )\n",
        "    )\n",
        "\n",
        "    fig.update_layout(\n",
        "            title='Тренировочные и тестовые данные',\n",
        "            width=1200,\n",
        "            height=600,\n",
        "        template = \"plotly_dark\"\n",
        "            )\n",
        "\n",
        "    fig.show()"
      ],
      "metadata": {
        "id": "Ifcmx5p2FMTg"
      },
      "execution_count": null,
      "outputs": []
    },
    {
      "cell_type": "code",
      "execution_count": null,
      "metadata": {
        "colab": {
          "base_uri": "https://localhost:8080/",
          "height": 617
        },
        "id": "F4gf1EElbNaZ",
        "outputId": "3845e5ac-d729-4026-9819-7e038b408075"
      },
      "outputs": [
        {
          "output_type": "display_data",
          "data": {
            "text/html": [
              "<html>\n",
              "<head><meta charset=\"utf-8\" /></head>\n",
              "<body>\n",
              "    <div>            <script src=\"https://cdnjs.cloudflare.com/ajax/libs/mathjax/2.7.5/MathJax.js?config=TeX-AMS-MML_SVG\"></script><script type=\"text/javascript\">if (window.MathJax && window.MathJax.Hub && window.MathJax.Hub.Config) {window.MathJax.Hub.Config({SVG: {font: \"STIX-Web\"}});}</script>                <script type=\"text/javascript\">window.PlotlyConfig = {MathJaxConfig: 'local'};</script>\n",
              "        <script charset=\"utf-8\" src=\"https://cdn.plot.ly/plotly-2.24.1.min.js\"></script>                <div id=\"d8935f93-ccbd-41bb-8ba0-712d10a9e215\" class=\"plotly-graph-div\" style=\"height:600px; width:1200px;\"></div>            <script type=\"text/javascript\">                                    window.PLOTLYENV=window.PLOTLYENV || {};                                    if (document.getElementById(\"d8935f93-ccbd-41bb-8ba0-712d10a9e215\")) {                    Plotly.newPlot(                        \"d8935f93-ccbd-41bb-8ba0-712d10a9e215\",                        [{\"marker\":{\"color\":\"Blue\",\"size\":10},\"mode\":\"markers\",\"name\":\"\\u041f\\u0440\\u0435\\u0434\\u0441\\u043a\\u0430\\u0437\\u0430\\u043d\\u0438\\u0435 \\u043d\\u0430 x_test\",\"x\":[0.7722447692966574,0.3567533266935893,0.5467102793432796,0.4401524937396013,0.9699098521619943,0.5426960831582485,0.7319939418114051,0.2912291401980419,0.9488855372533332,0.5612771975694962,0.6011150117432088,0.8154614284548342,0.31171107608941095,0.2587799816000169,0.020584494295802447,0.4951769101112702,0.17052412368729153,0.02541912674409519,0.18340450985343382,0.8631034258755935,0.9093204020787821,0.7296061783380641,0.8324426408004217,0.8021969807540397,0.15601864044243652,0.5924145688620425,0.7080725777960455,0.11586905952512971,0.9218742350231168,0.49379559636439074],\"y\":[3.2435900095375363,2.5989722119166325,2.8936825715155465,2.728362572035258,3.550259214527478,2.8874547120732403,3.1811425145821475,2.4973141452064302,3.5176408590494406,2.9162825429765187,2.9780892648521906,3.310638869731971,2.5290910220599927,2.4469706170243266,2.077420164992594,2.813730679437571,2.3100453017917952,2.084920897382171,2.330028688479394,3.3845534593062494,3.4562571873689683,3.1774379982585823,3.3369845187171006,3.290059627449688,2.287540644164807,2.964590887380812,3.144029507173231,2.2252502290742573,3.475733940231984,2.8115876282600105],\"type\":\"scatter\"},{\"marker\":{\"color\":\"LightSkyBlue\",\"size\":15},\"mode\":\"markers\",\"name\":\"\\u041f\\u0440\\u0435\\u0434\\u0441\\u043a\\u0430\\u0437\\u0430\\u043d\\u0438\\u0435 \\u043d\\u0430 x_train\",\"x\":[0.8083973481164611,0.5142344384136116,0.7068573438476171,0.388677289689482,0.3745401188473625,0.32533033076326434,0.18182496720710062,0.7751328233611146,0.07455064367977082,0.005522117123602399,0.14092422497476265,0.2713490317738959,0.7290071680409873,0.29214464853521815,0.8948273504276488,0.045227288910538066,0.7607850486168974,0.770967179954561,0.09767211400638387,0.28093450968738076,0.5227328293819941,0.8661761457749352,0.1987156815341724,0.3584657285442726,0.6842330265121569,0.1195942459383017,0.3308980248526492,0.9656320330745594,0.07404465173409036,0.713244787222995,0.0884925020519195,0.43194501864211576,0.8287375091519293,0.21233911067827616,0.9394989415641891,0.046450412719997725,0.6232981268275579,0.6118528947223795,0.3046137691733707,0.12203823484477883,0.45606998421703593,0.3042422429595377,0.06355835028602363,0.9507143064099162,0.19967378215835974,0.15599452033620265,0.7851759613930136,0.1959828624191452,0.5986584841970366,0.10789142699330445,0.18485445552552704,0.034388521115218396,0.13949386065204183,0.32518332202674705,0.06505159298527952,0.7712703466859457,0.05808361216819946,0.6075448519014384,0.3109823217156622,0.8872127425763265,0.5247564316322378,0.9868869366005173,0.5200680211778108,0.3663618432936917,0.4722149251619493,0.6375574713552131,0.42754101835854963,0.662522284353982,0.5978999788110851,0.9695846277645586],\"y\":[3.2996792411018108,2.843297646798893,3.142144121937563,2.648500920832554,2.6265676846731187,2.5502207326939725,2.3275780933587136,3.2480707060322147,2.1611464149101116,2.0540515094582013,2.2641222825393856,2.4664709787899306,3.1765086585445443,2.498734518546292,3.4337718168457423,2.1156524421539573,3.225810726624615,3.241607882486239,2.1970184203269287,2.4813424515283895,2.8564825490800057,3.389320657210038,2.353783338409121,2.601628932600731,3.107043428835219,2.231029701802605,2.5588587799164153,3.543622355049731,2.160361389323074,3.1520539762904436,2.1827766318462105,2.7156290137019665,3.33123616012713,2.37491952556113,3.5030779438606565,2.117550068182864,3.012505450900347,2.994748646411961,2.5180798437681013,2.234821449561435,2.753057900514064,2.517503436205484,2.1440923261089386,3.520478118798253,2.3552697919216015,2.2875032228170618,3.263652219525647,2.349543482521384,2.9742780639121955,2.21287326198036,2.3322782192518186,2.098836541972306,2.2619031314210587,2.54999265471631,2.1464090304291945,3.2420782331376814,2.13559849623376,2.988064896061067,2.5279603897743566,3.421958067536938,2.859622084319626,3.576598459235436,2.852348209309009,2.613879428225006,2.7781061089908192,3.0346282344824775,2.708796389314498,3.073360109855078,2.9731012741609737,3.5497546423189767],\"type\":\"scatter\"},{\"marker\":{\"color\":\"Red\",\"size\":5},\"mode\":\"markers\",\"name\":\"\\u0422\\u0440\\u0435\\u043d\\u0438\\u0440\\u043e\\u0432\\u043e\\u0447\\u043d\\u044b\\u0435 \\u0434\\u0430\\u043d\\u043d\\u044b\\u0435\",\"x\":[0.8083973481164611,0.5142344384136116,0.7068573438476171,0.388677289689482,0.3745401188473625,0.32533033076326434,0.18182496720710062,0.7751328233611146,0.07455064367977082,0.005522117123602399,0.14092422497476265,0.2713490317738959,0.7290071680409873,0.29214464853521815,0.8948273504276488,0.045227288910538066,0.7607850486168974,0.770967179954561,0.09767211400638387,0.28093450968738076,0.5227328293819941,0.8661761457749352,0.1987156815341724,0.3584657285442726,0.6842330265121569,0.1195942459383017,0.3308980248526492,0.9656320330745594,0.07404465173409036,0.713244787222995,0.0884925020519195,0.43194501864211576,0.8287375091519293,0.21233911067827616,0.9394989415641891,0.046450412719997725,0.6232981268275579,0.6118528947223795,0.3046137691733707,0.12203823484477883,0.45606998421703593,0.3042422429595377,0.06355835028602363,0.9507143064099162,0.19967378215835974,0.15599452033620265,0.7851759613930136,0.1959828624191452,0.5986584841970366,0.10789142699330445,0.18485445552552704,0.034388521115218396,0.13949386065204183,0.32518332202674705,0.06505159298527952,0.7712703466859457,0.05808361216819946,0.6075448519014384,0.3109823217156622,0.8872127425763265,0.5247564316322378,0.9868869366005173,0.5200680211778108,0.3663618432936917,0.4722149251619493,0.6375574713552131,0.42754101835854963,0.662522284353982,0.5978999788110851,0.9695846277645586],\"y\":[3.6824500570963057,2.9781213114156033,3.290019616607426,2.68641583389949,2.8281834323990296,2.68081539575989,2.3641612800784473,3.736843097836705,2.2406414991297487,2.019748941071022,2.2426376346363095,2.7313166536688445,3.487712803405293,2.5768447054938197,3.871860716854747,2.0684873890373248,3.4535676250759457,3.5651597296252224,2.1423682076360637,2.5793268006579453,3.052321956244591,3.8286899044743024,2.363159911415668,2.8312137385400473,3.4466483402020445,2.3360529909298924,2.658324872734774,3.9235538952077085,2.0979135991097273,3.47868373100768,2.209860115069808,2.7237049310050034,3.736183478678104,2.4085496501899515,3.8036242666926294,2.1286120825911703,3.085847930198993,3.354420064873002,2.6065761508018195,2.1738711603018226,3.1311855310150696,2.4166073643891712,2.075289678744683,3.8198475843232886,2.3191198373945574,2.1656375458591937,3.617735214877206,2.3499011925617546,3.27866869013104,2.2671095972979445,2.228171836846013,1.8700201507703476,2.246221506644307,2.6311305475753817,2.04925382568124,3.5718479407017596,2.2639566288105506,3.23783569726329,2.627987664425427,3.815703577846303,2.9432824918918654,4.056492198104637,2.8850696992490086,2.8079169898560608,2.84537621781083,3.293578328563657,2.9953614678107088,3.351032848132806,3.1635938060016024,3.9732844530107814],\"type\":\"scatter\"},{\"marker\":{\"color\":\"green\",\"size\":15},\"mode\":\"lines+markers\",\"name\":\"\\u0418\\u0441\\u0442\\u0438\\u043d\\u043d\\u044b\\u0435 \\u0437\\u043d\\u0430\\u0447\\u0435\\u043d\\u0438\\u044f\",\"opacity\":0.7,\"x\":[0.005522117123602399,0.020584494295802447,0.02541912674409519,0.034388521115218396,0.045227288910538066,0.046450412719997725,0.05808361216819946,0.06355835028602363,0.06505159298527952,0.07404465173409036,0.07455064367977082,0.0884925020519195,0.09767211400638387,0.10789142699330445,0.11586905952512971,0.1195942459383017,0.12203823484477883,0.13949386065204183,0.14092422497476265,0.15599452033620265,0.15601864044243652,0.17052412368729153,0.18182496720710062,0.18340450985343382,0.18485445552552704,0.1959828624191452,0.1987156815341724,0.19967378215835974,0.21233911067827616,0.2587799816000169,0.2713490317738959,0.28093450968738076,0.2912291401980419,0.29214464853521815,0.3042422429595377,0.3046137691733707,0.3109823217156622,0.31171107608941095,0.32518332202674705,0.32533033076326434,0.3308980248526492,0.3567533266935893,0.3584657285442726,0.3663618432936917,0.3745401188473625,0.388677289689482,0.42754101835854963,0.43194501864211576,0.4401524937396013,0.45606998421703593,0.4722149251619493,0.49379559636439074,0.4951769101112702,0.5142344384136116,0.5200680211778108,0.5227328293819941,0.5247564316322378,0.5426960831582485,0.5467102793432796,0.5612771975694962,0.5924145688620425,0.5978999788110851,0.5986584841970366,0.6011150117432088,0.6075448519014384,0.6118528947223795,0.6232981268275579,0.6375574713552131,0.662522284353982,0.6842330265121569,0.7068573438476171,0.7080725777960455,0.713244787222995,0.7290071680409873,0.7296061783380641,0.7319939418114051,0.7607850486168974,0.770967179954561,0.7712703466859457,0.7722447692966574,0.7751328233611146,0.7851759613930136,0.8021969807540397,0.8083973481164611,0.8154614284548342,0.8287375091519293,0.8324426408004217,0.8631034258755935,0.8661761457749352,0.8872127425763265,0.8948273504276488,0.9093204020787821,0.9218742350231168,0.9394989415641891,0.9488855372533332,0.9507143064099162,0.9656320330745594,0.9695846277645586,0.9699098521619943,0.9868869366005173],\"y\":[2.011044234247205,2.041168988591605,2.05083825348819,2.068777042230437,2.090454577821076,2.0929008254399957,2.116167224336399,2.1271167005720475,2.130103185970559,2.148089303468181,2.1491012873595414,2.176985004103839,2.1953442280127677,2.215782853986609,2.2317381190502594,2.2391884918766034,2.2440764696895577,2.278987721304084,2.2818484499495253,2.3119890406724055,2.312037280884873,2.341048247374583,2.3636499344142012,2.3668090197068676,2.3697089110510543,2.3919657248382906,2.397431363068345,2.3993475643167193,2.4246782213565523,2.517559963200034,2.5426980635477916,2.5618690193747615,2.582458280396084,2.5842892970704363,2.6084844859190754,2.609227538346741,2.6219646434313244,2.623422152178822,2.650366644053494,2.650660661526529,2.6617960497052984,2.713506653387179,2.7169314570885454,2.7327236865873834,2.749080237694725,2.7773545793789642,2.855082036717099,2.8638900372842313,2.8803049874792026,2.912139968434072,2.944429850323899,2.9875911927287815,2.9903538202225404,3.0284688768272234,3.0401360423556216,3.0454656587639883,3.049512863264476,3.085392166316497,3.0934205586865593,3.1225543951389927,3.184829137724085,3.19579995762217,3.197316968394073,3.2022300234864174,3.2150897038028767,3.223705789444759,3.246596253655116,3.2751149427104265,3.325044568707964,3.3684660530243136,3.4137146876952342,3.416145155592091,3.42648957444599,3.4580143360819746,3.459212356676128,3.46398788362281,3.521570097233795,3.541934359909122,3.5425406933718913,3.544489538593315,3.550265646722229,3.570351922786027,3.6043939615080793,3.6167946962329225,3.6309228569096685,3.6574750183038587,3.6648852816008435,3.7262068517511873,3.73235229154987,3.774425485152653,3.789654700855298,3.818640804157564,3.8437484700462337,3.8789978831283785,3.8977710745066663,3.9014286128198323,3.9312640661491187,3.939169255529117,3.9398197043239884,3.9737738732010346],\"type\":\"scatter\"}],                        {\"template\":{\"data\":{\"barpolar\":[{\"marker\":{\"line\":{\"color\":\"rgb(17,17,17)\",\"width\":0.5},\"pattern\":{\"fillmode\":\"overlay\",\"size\":10,\"solidity\":0.2}},\"type\":\"barpolar\"}],\"bar\":[{\"error_x\":{\"color\":\"#f2f5fa\"},\"error_y\":{\"color\":\"#f2f5fa\"},\"marker\":{\"line\":{\"color\":\"rgb(17,17,17)\",\"width\":0.5},\"pattern\":{\"fillmode\":\"overlay\",\"size\":10,\"solidity\":0.2}},\"type\":\"bar\"}],\"carpet\":[{\"aaxis\":{\"endlinecolor\":\"#A2B1C6\",\"gridcolor\":\"#506784\",\"linecolor\":\"#506784\",\"minorgridcolor\":\"#506784\",\"startlinecolor\":\"#A2B1C6\"},\"baxis\":{\"endlinecolor\":\"#A2B1C6\",\"gridcolor\":\"#506784\",\"linecolor\":\"#506784\",\"minorgridcolor\":\"#506784\",\"startlinecolor\":\"#A2B1C6\"},\"type\":\"carpet\"}],\"choropleth\":[{\"colorbar\":{\"outlinewidth\":0,\"ticks\":\"\"},\"type\":\"choropleth\"}],\"contourcarpet\":[{\"colorbar\":{\"outlinewidth\":0,\"ticks\":\"\"},\"type\":\"contourcarpet\"}],\"contour\":[{\"colorbar\":{\"outlinewidth\":0,\"ticks\":\"\"},\"colorscale\":[[0.0,\"#0d0887\"],[0.1111111111111111,\"#46039f\"],[0.2222222222222222,\"#7201a8\"],[0.3333333333333333,\"#9c179e\"],[0.4444444444444444,\"#bd3786\"],[0.5555555555555556,\"#d8576b\"],[0.6666666666666666,\"#ed7953\"],[0.7777777777777778,\"#fb9f3a\"],[0.8888888888888888,\"#fdca26\"],[1.0,\"#f0f921\"]],\"type\":\"contour\"}],\"heatmapgl\":[{\"colorbar\":{\"outlinewidth\":0,\"ticks\":\"\"},\"colorscale\":[[0.0,\"#0d0887\"],[0.1111111111111111,\"#46039f\"],[0.2222222222222222,\"#7201a8\"],[0.3333333333333333,\"#9c179e\"],[0.4444444444444444,\"#bd3786\"],[0.5555555555555556,\"#d8576b\"],[0.6666666666666666,\"#ed7953\"],[0.7777777777777778,\"#fb9f3a\"],[0.8888888888888888,\"#fdca26\"],[1.0,\"#f0f921\"]],\"type\":\"heatmapgl\"}],\"heatmap\":[{\"colorbar\":{\"outlinewidth\":0,\"ticks\":\"\"},\"colorscale\":[[0.0,\"#0d0887\"],[0.1111111111111111,\"#46039f\"],[0.2222222222222222,\"#7201a8\"],[0.3333333333333333,\"#9c179e\"],[0.4444444444444444,\"#bd3786\"],[0.5555555555555556,\"#d8576b\"],[0.6666666666666666,\"#ed7953\"],[0.7777777777777778,\"#fb9f3a\"],[0.8888888888888888,\"#fdca26\"],[1.0,\"#f0f921\"]],\"type\":\"heatmap\"}],\"histogram2dcontour\":[{\"colorbar\":{\"outlinewidth\":0,\"ticks\":\"\"},\"colorscale\":[[0.0,\"#0d0887\"],[0.1111111111111111,\"#46039f\"],[0.2222222222222222,\"#7201a8\"],[0.3333333333333333,\"#9c179e\"],[0.4444444444444444,\"#bd3786\"],[0.5555555555555556,\"#d8576b\"],[0.6666666666666666,\"#ed7953\"],[0.7777777777777778,\"#fb9f3a\"],[0.8888888888888888,\"#fdca26\"],[1.0,\"#f0f921\"]],\"type\":\"histogram2dcontour\"}],\"histogram2d\":[{\"colorbar\":{\"outlinewidth\":0,\"ticks\":\"\"},\"colorscale\":[[0.0,\"#0d0887\"],[0.1111111111111111,\"#46039f\"],[0.2222222222222222,\"#7201a8\"],[0.3333333333333333,\"#9c179e\"],[0.4444444444444444,\"#bd3786\"],[0.5555555555555556,\"#d8576b\"],[0.6666666666666666,\"#ed7953\"],[0.7777777777777778,\"#fb9f3a\"],[0.8888888888888888,\"#fdca26\"],[1.0,\"#f0f921\"]],\"type\":\"histogram2d\"}],\"histogram\":[{\"marker\":{\"pattern\":{\"fillmode\":\"overlay\",\"size\":10,\"solidity\":0.2}},\"type\":\"histogram\"}],\"mesh3d\":[{\"colorbar\":{\"outlinewidth\":0,\"ticks\":\"\"},\"type\":\"mesh3d\"}],\"parcoords\":[{\"line\":{\"colorbar\":{\"outlinewidth\":0,\"ticks\":\"\"}},\"type\":\"parcoords\"}],\"pie\":[{\"automargin\":true,\"type\":\"pie\"}],\"scatter3d\":[{\"line\":{\"colorbar\":{\"outlinewidth\":0,\"ticks\":\"\"}},\"marker\":{\"colorbar\":{\"outlinewidth\":0,\"ticks\":\"\"}},\"type\":\"scatter3d\"}],\"scattercarpet\":[{\"marker\":{\"colorbar\":{\"outlinewidth\":0,\"ticks\":\"\"}},\"type\":\"scattercarpet\"}],\"scattergeo\":[{\"marker\":{\"colorbar\":{\"outlinewidth\":0,\"ticks\":\"\"}},\"type\":\"scattergeo\"}],\"scattergl\":[{\"marker\":{\"line\":{\"color\":\"#283442\"}},\"type\":\"scattergl\"}],\"scattermapbox\":[{\"marker\":{\"colorbar\":{\"outlinewidth\":0,\"ticks\":\"\"}},\"type\":\"scattermapbox\"}],\"scatterpolargl\":[{\"marker\":{\"colorbar\":{\"outlinewidth\":0,\"ticks\":\"\"}},\"type\":\"scatterpolargl\"}],\"scatterpolar\":[{\"marker\":{\"colorbar\":{\"outlinewidth\":0,\"ticks\":\"\"}},\"type\":\"scatterpolar\"}],\"scatter\":[{\"marker\":{\"line\":{\"color\":\"#283442\"}},\"type\":\"scatter\"}],\"scatterternary\":[{\"marker\":{\"colorbar\":{\"outlinewidth\":0,\"ticks\":\"\"}},\"type\":\"scatterternary\"}],\"surface\":[{\"colorbar\":{\"outlinewidth\":0,\"ticks\":\"\"},\"colorscale\":[[0.0,\"#0d0887\"],[0.1111111111111111,\"#46039f\"],[0.2222222222222222,\"#7201a8\"],[0.3333333333333333,\"#9c179e\"],[0.4444444444444444,\"#bd3786\"],[0.5555555555555556,\"#d8576b\"],[0.6666666666666666,\"#ed7953\"],[0.7777777777777778,\"#fb9f3a\"],[0.8888888888888888,\"#fdca26\"],[1.0,\"#f0f921\"]],\"type\":\"surface\"}],\"table\":[{\"cells\":{\"fill\":{\"color\":\"#506784\"},\"line\":{\"color\":\"rgb(17,17,17)\"}},\"header\":{\"fill\":{\"color\":\"#2a3f5f\"},\"line\":{\"color\":\"rgb(17,17,17)\"}},\"type\":\"table\"}]},\"layout\":{\"annotationdefaults\":{\"arrowcolor\":\"#f2f5fa\",\"arrowhead\":0,\"arrowwidth\":1},\"autotypenumbers\":\"strict\",\"coloraxis\":{\"colorbar\":{\"outlinewidth\":0,\"ticks\":\"\"}},\"colorscale\":{\"diverging\":[[0,\"#8e0152\"],[0.1,\"#c51b7d\"],[0.2,\"#de77ae\"],[0.3,\"#f1b6da\"],[0.4,\"#fde0ef\"],[0.5,\"#f7f7f7\"],[0.6,\"#e6f5d0\"],[0.7,\"#b8e186\"],[0.8,\"#7fbc41\"],[0.9,\"#4d9221\"],[1,\"#276419\"]],\"sequential\":[[0.0,\"#0d0887\"],[0.1111111111111111,\"#46039f\"],[0.2222222222222222,\"#7201a8\"],[0.3333333333333333,\"#9c179e\"],[0.4444444444444444,\"#bd3786\"],[0.5555555555555556,\"#d8576b\"],[0.6666666666666666,\"#ed7953\"],[0.7777777777777778,\"#fb9f3a\"],[0.8888888888888888,\"#fdca26\"],[1.0,\"#f0f921\"]],\"sequentialminus\":[[0.0,\"#0d0887\"],[0.1111111111111111,\"#46039f\"],[0.2222222222222222,\"#7201a8\"],[0.3333333333333333,\"#9c179e\"],[0.4444444444444444,\"#bd3786\"],[0.5555555555555556,\"#d8576b\"],[0.6666666666666666,\"#ed7953\"],[0.7777777777777778,\"#fb9f3a\"],[0.8888888888888888,\"#fdca26\"],[1.0,\"#f0f921\"]]},\"colorway\":[\"#636efa\",\"#EF553B\",\"#00cc96\",\"#ab63fa\",\"#FFA15A\",\"#19d3f3\",\"#FF6692\",\"#B6E880\",\"#FF97FF\",\"#FECB52\"],\"font\":{\"color\":\"#f2f5fa\"},\"geo\":{\"bgcolor\":\"rgb(17,17,17)\",\"lakecolor\":\"rgb(17,17,17)\",\"landcolor\":\"rgb(17,17,17)\",\"showlakes\":true,\"showland\":true,\"subunitcolor\":\"#506784\"},\"hoverlabel\":{\"align\":\"left\"},\"hovermode\":\"closest\",\"mapbox\":{\"style\":\"dark\"},\"paper_bgcolor\":\"rgb(17,17,17)\",\"plot_bgcolor\":\"rgb(17,17,17)\",\"polar\":{\"angularaxis\":{\"gridcolor\":\"#506784\",\"linecolor\":\"#506784\",\"ticks\":\"\"},\"bgcolor\":\"rgb(17,17,17)\",\"radialaxis\":{\"gridcolor\":\"#506784\",\"linecolor\":\"#506784\",\"ticks\":\"\"}},\"scene\":{\"xaxis\":{\"backgroundcolor\":\"rgb(17,17,17)\",\"gridcolor\":\"#506784\",\"gridwidth\":2,\"linecolor\":\"#506784\",\"showbackground\":true,\"ticks\":\"\",\"zerolinecolor\":\"#C8D4E3\"},\"yaxis\":{\"backgroundcolor\":\"rgb(17,17,17)\",\"gridcolor\":\"#506784\",\"gridwidth\":2,\"linecolor\":\"#506784\",\"showbackground\":true,\"ticks\":\"\",\"zerolinecolor\":\"#C8D4E3\"},\"zaxis\":{\"backgroundcolor\":\"rgb(17,17,17)\",\"gridcolor\":\"#506784\",\"gridwidth\":2,\"linecolor\":\"#506784\",\"showbackground\":true,\"ticks\":\"\",\"zerolinecolor\":\"#C8D4E3\"}},\"shapedefaults\":{\"line\":{\"color\":\"#f2f5fa\"}},\"sliderdefaults\":{\"bgcolor\":\"#C8D4E3\",\"bordercolor\":\"rgb(17,17,17)\",\"borderwidth\":1,\"tickwidth\":0},\"ternary\":{\"aaxis\":{\"gridcolor\":\"#506784\",\"linecolor\":\"#506784\",\"ticks\":\"\"},\"baxis\":{\"gridcolor\":\"#506784\",\"linecolor\":\"#506784\",\"ticks\":\"\"},\"bgcolor\":\"rgb(17,17,17)\",\"caxis\":{\"gridcolor\":\"#506784\",\"linecolor\":\"#506784\",\"ticks\":\"\"}},\"title\":{\"x\":0.05},\"updatemenudefaults\":{\"bgcolor\":\"#506784\",\"borderwidth\":0},\"xaxis\":{\"automargin\":true,\"gridcolor\":\"#283442\",\"linecolor\":\"#506784\",\"ticks\":\"\",\"title\":{\"standoff\":15},\"zerolinecolor\":\"#283442\",\"zerolinewidth\":2},\"yaxis\":{\"automargin\":true,\"gridcolor\":\"#283442\",\"linecolor\":\"#506784\",\"ticks\":\"\",\"title\":{\"standoff\":15},\"zerolinecolor\":\"#283442\",\"zerolinewidth\":2}}},\"title\":{\"text\":\"\\u0422\\u0440\\u0435\\u043d\\u0438\\u0440\\u043e\\u0432\\u043e\\u0447\\u043d\\u044b\\u0435 \\u0438 \\u0442\\u0435\\u0441\\u0442\\u043e\\u0432\\u044b\\u0435 \\u0434\\u0430\\u043d\\u043d\\u044b\\u0435\"},\"width\":1200,\"height\":600},                        {\"responsive\": true}                    ).then(function(){\n",
              "                            \n",
              "var gd = document.getElementById('d8935f93-ccbd-41bb-8ba0-712d10a9e215');\n",
              "var x = new MutationObserver(function (mutations, observer) {{\n",
              "        var display = window.getComputedStyle(gd).display;\n",
              "        if (!display || display === 'none') {{\n",
              "            console.log([gd, 'removed!']);\n",
              "            Plotly.purge(gd);\n",
              "            observer.disconnect();\n",
              "        }}\n",
              "}});\n",
              "\n",
              "// Listen for the removal of the full notebook cells\n",
              "var notebookContainer = gd.closest('#notebook-container');\n",
              "if (notebookContainer) {{\n",
              "    x.observe(notebookContainer, {childList: true});\n",
              "}}\n",
              "\n",
              "// Listen for the clearing of the current output cell\n",
              "var outputEl = gd.closest('.output');\n",
              "if (outputEl) {{\n",
              "    x.observe(outputEl, {childList: true});\n",
              "}}\n",
              "\n",
              "                        })                };                            </script>        </div>\n",
              "</body>\n",
              "</html>"
            ]
          },
          "metadata": {}
        }
      ],
      "source": [
        "plot_model_weights(x_train, y_train, x_test, x, y_true, weights);"
      ]
    },
    {
      "cell_type": "markdown",
      "source": [
        "Неплохо, но \"еще бы чуть-чуть\" дообучить\n",
        "\n",
        "Варианты\n",
        "* просто добавить эпох\n",
        "* добавить эпох и уменьшить скорость обучения\n"
      ],
      "metadata": {
        "id": "GEleo7NeffkY"
      }
    },
    {
      "cell_type": "markdown",
      "source": [
        "### Мини-задание"
      ],
      "metadata": {
        "id": "368tyjpZyxRt"
      }
    },
    {
      "cell_type": "markdown",
      "source": [
        "Дообучите предыдущую модель, добавив на вход функции `fit` значения весов `weight` после предыдущей процедуры обучения\n",
        "* сравните результаты с изменением скорости обучения и без"
      ],
      "metadata": {
        "id": "tkr650Dly34p"
      }
    },
    {
      "cell_type": "code",
      "source": [],
      "metadata": {
        "id": "LDRLD69Xyzvz"
      },
      "execution_count": null,
      "outputs": []
    },
    {
      "cell_type": "markdown",
      "source": [
        "### Анализ весов модели"
      ],
      "metadata": {
        "id": "xGVs6h3Yy1Zp"
      }
    },
    {
      "cell_type": "code",
      "source": [
        "weights"
      ],
      "metadata": {
        "colab": {
          "base_uri": "https://localhost:8080/"
        },
        "id": "_UE-GHBHP0X4",
        "outputId": "2e2c4788-0ccf-426e-f541-10498cbea69b"
      },
      "execution_count": null,
      "outputs": [
        {
          "output_type": "execute_result",
          "data": {
            "text/plain": [
              "array([2.04548417, 1.55145866])"
            ]
          },
          "metadata": {},
          "execution_count": 65
        }
      ]
    },
    {
      "cell_type": "code",
      "source": [
        "def vis_weigths(weights):\n",
        "    \"\"\"Отрисовка весов.\n",
        "    Входные переменные:\n",
        "    ===========\n",
        "    weights: веса\n",
        "    \"\"\"\n",
        "    numbers = np.arange(0,len(weights)) # создаем массив от 0 до количество весов-1\n",
        "    tick_labels = np.array(['w'+str(num) for num in numbers]) # создаем \"названия\" весов\n",
        "\n",
        "\n",
        "    fig = go.Figure()\n",
        "    fig.add_trace(go.Bar(x=numbers[weights<0], y=weights[weights<0],\n",
        "                    marker_color='red',\n",
        "                    name='отрицательные веса'))\n",
        "    fig.add_trace(go.Bar(x=numbers[weights>=0], y=weights[weights>=0],\n",
        "                    marker_color='blue',\n",
        "                    name='положительные веса'\n",
        "                    ))\n",
        "\n",
        "    fig.update_layout(\n",
        "                title=\"Веса модели\",\n",
        "                width=1200,\n",
        "                height=600,\n",
        "                template = \"plotly_dark\",\n",
        "                xaxis = dict(\n",
        "                                         tickmode = 'array',\n",
        "                                         tickvals = numbers,\n",
        "                                         ticktext = tick_labels,\n",
        "                                         )\n",
        "                )\n",
        "\n",
        "    fig.show()"
      ],
      "metadata": {
        "id": "XlDwMXTxOzPm"
      },
      "execution_count": null,
      "outputs": []
    },
    {
      "cell_type": "code",
      "source": [
        "vis_weigths(weights)"
      ],
      "metadata": {
        "colab": {
          "base_uri": "https://localhost:8080/",
          "height": 617
        },
        "id": "F-OVTOjzPXRh",
        "outputId": "71b1ba84-1f6b-41c4-b7c2-bb1be2f70624"
      },
      "execution_count": null,
      "outputs": [
        {
          "output_type": "display_data",
          "data": {
            "text/html": [
              "<html>\n",
              "<head><meta charset=\"utf-8\" /></head>\n",
              "<body>\n",
              "    <div>            <script src=\"https://cdnjs.cloudflare.com/ajax/libs/mathjax/2.7.5/MathJax.js?config=TeX-AMS-MML_SVG\"></script><script type=\"text/javascript\">if (window.MathJax && window.MathJax.Hub && window.MathJax.Hub.Config) {window.MathJax.Hub.Config({SVG: {font: \"STIX-Web\"}});}</script>                <script type=\"text/javascript\">window.PlotlyConfig = {MathJaxConfig: 'local'};</script>\n",
              "        <script charset=\"utf-8\" src=\"https://cdn.plot.ly/plotly-2.24.1.min.js\"></script>                <div id=\"78388cb9-0076-485e-bd2d-e5c1fa2c235c\" class=\"plotly-graph-div\" style=\"height:600px; width:1200px;\"></div>            <script type=\"text/javascript\">                                    window.PLOTLYENV=window.PLOTLYENV || {};                                    if (document.getElementById(\"78388cb9-0076-485e-bd2d-e5c1fa2c235c\")) {                    Plotly.newPlot(                        \"78388cb9-0076-485e-bd2d-e5c1fa2c235c\",                        [{\"marker\":{\"color\":\"red\"},\"name\":\"\\u043e\\u0442\\u0440\\u0438\\u0446\\u0430\\u0442\\u0435\\u043b\\u044c\\u043d\\u044b\\u0435 \\u0432\\u0435\\u0441\\u0430\",\"x\":[],\"y\":[],\"type\":\"bar\"},{\"marker\":{\"color\":\"blue\"},\"name\":\"\\u043f\\u043e\\u043b\\u043e\\u0436\\u0438\\u0442\\u0435\\u043b\\u044c\\u043d\\u044b\\u0435 \\u0432\\u0435\\u0441\\u0430\",\"x\":[0,1],\"y\":[2.0454841730141102,1.551458662018045],\"type\":\"bar\"}],                        {\"template\":{\"data\":{\"barpolar\":[{\"marker\":{\"line\":{\"color\":\"rgb(17,17,17)\",\"width\":0.5},\"pattern\":{\"fillmode\":\"overlay\",\"size\":10,\"solidity\":0.2}},\"type\":\"barpolar\"}],\"bar\":[{\"error_x\":{\"color\":\"#f2f5fa\"},\"error_y\":{\"color\":\"#f2f5fa\"},\"marker\":{\"line\":{\"color\":\"rgb(17,17,17)\",\"width\":0.5},\"pattern\":{\"fillmode\":\"overlay\",\"size\":10,\"solidity\":0.2}},\"type\":\"bar\"}],\"carpet\":[{\"aaxis\":{\"endlinecolor\":\"#A2B1C6\",\"gridcolor\":\"#506784\",\"linecolor\":\"#506784\",\"minorgridcolor\":\"#506784\",\"startlinecolor\":\"#A2B1C6\"},\"baxis\":{\"endlinecolor\":\"#A2B1C6\",\"gridcolor\":\"#506784\",\"linecolor\":\"#506784\",\"minorgridcolor\":\"#506784\",\"startlinecolor\":\"#A2B1C6\"},\"type\":\"carpet\"}],\"choropleth\":[{\"colorbar\":{\"outlinewidth\":0,\"ticks\":\"\"},\"type\":\"choropleth\"}],\"contourcarpet\":[{\"colorbar\":{\"outlinewidth\":0,\"ticks\":\"\"},\"type\":\"contourcarpet\"}],\"contour\":[{\"colorbar\":{\"outlinewidth\":0,\"ticks\":\"\"},\"colorscale\":[[0.0,\"#0d0887\"],[0.1111111111111111,\"#46039f\"],[0.2222222222222222,\"#7201a8\"],[0.3333333333333333,\"#9c179e\"],[0.4444444444444444,\"#bd3786\"],[0.5555555555555556,\"#d8576b\"],[0.6666666666666666,\"#ed7953\"],[0.7777777777777778,\"#fb9f3a\"],[0.8888888888888888,\"#fdca26\"],[1.0,\"#f0f921\"]],\"type\":\"contour\"}],\"heatmapgl\":[{\"colorbar\":{\"outlinewidth\":0,\"ticks\":\"\"},\"colorscale\":[[0.0,\"#0d0887\"],[0.1111111111111111,\"#46039f\"],[0.2222222222222222,\"#7201a8\"],[0.3333333333333333,\"#9c179e\"],[0.4444444444444444,\"#bd3786\"],[0.5555555555555556,\"#d8576b\"],[0.6666666666666666,\"#ed7953\"],[0.7777777777777778,\"#fb9f3a\"],[0.8888888888888888,\"#fdca26\"],[1.0,\"#f0f921\"]],\"type\":\"heatmapgl\"}],\"heatmap\":[{\"colorbar\":{\"outlinewidth\":0,\"ticks\":\"\"},\"colorscale\":[[0.0,\"#0d0887\"],[0.1111111111111111,\"#46039f\"],[0.2222222222222222,\"#7201a8\"],[0.3333333333333333,\"#9c179e\"],[0.4444444444444444,\"#bd3786\"],[0.5555555555555556,\"#d8576b\"],[0.6666666666666666,\"#ed7953\"],[0.7777777777777778,\"#fb9f3a\"],[0.8888888888888888,\"#fdca26\"],[1.0,\"#f0f921\"]],\"type\":\"heatmap\"}],\"histogram2dcontour\":[{\"colorbar\":{\"outlinewidth\":0,\"ticks\":\"\"},\"colorscale\":[[0.0,\"#0d0887\"],[0.1111111111111111,\"#46039f\"],[0.2222222222222222,\"#7201a8\"],[0.3333333333333333,\"#9c179e\"],[0.4444444444444444,\"#bd3786\"],[0.5555555555555556,\"#d8576b\"],[0.6666666666666666,\"#ed7953\"],[0.7777777777777778,\"#fb9f3a\"],[0.8888888888888888,\"#fdca26\"],[1.0,\"#f0f921\"]],\"type\":\"histogram2dcontour\"}],\"histogram2d\":[{\"colorbar\":{\"outlinewidth\":0,\"ticks\":\"\"},\"colorscale\":[[0.0,\"#0d0887\"],[0.1111111111111111,\"#46039f\"],[0.2222222222222222,\"#7201a8\"],[0.3333333333333333,\"#9c179e\"],[0.4444444444444444,\"#bd3786\"],[0.5555555555555556,\"#d8576b\"],[0.6666666666666666,\"#ed7953\"],[0.7777777777777778,\"#fb9f3a\"],[0.8888888888888888,\"#fdca26\"],[1.0,\"#f0f921\"]],\"type\":\"histogram2d\"}],\"histogram\":[{\"marker\":{\"pattern\":{\"fillmode\":\"overlay\",\"size\":10,\"solidity\":0.2}},\"type\":\"histogram\"}],\"mesh3d\":[{\"colorbar\":{\"outlinewidth\":0,\"ticks\":\"\"},\"type\":\"mesh3d\"}],\"parcoords\":[{\"line\":{\"colorbar\":{\"outlinewidth\":0,\"ticks\":\"\"}},\"type\":\"parcoords\"}],\"pie\":[{\"automargin\":true,\"type\":\"pie\"}],\"scatter3d\":[{\"line\":{\"colorbar\":{\"outlinewidth\":0,\"ticks\":\"\"}},\"marker\":{\"colorbar\":{\"outlinewidth\":0,\"ticks\":\"\"}},\"type\":\"scatter3d\"}],\"scattercarpet\":[{\"marker\":{\"colorbar\":{\"outlinewidth\":0,\"ticks\":\"\"}},\"type\":\"scattercarpet\"}],\"scattergeo\":[{\"marker\":{\"colorbar\":{\"outlinewidth\":0,\"ticks\":\"\"}},\"type\":\"scattergeo\"}],\"scattergl\":[{\"marker\":{\"line\":{\"color\":\"#283442\"}},\"type\":\"scattergl\"}],\"scattermapbox\":[{\"marker\":{\"colorbar\":{\"outlinewidth\":0,\"ticks\":\"\"}},\"type\":\"scattermapbox\"}],\"scatterpolargl\":[{\"marker\":{\"colorbar\":{\"outlinewidth\":0,\"ticks\":\"\"}},\"type\":\"scatterpolargl\"}],\"scatterpolar\":[{\"marker\":{\"colorbar\":{\"outlinewidth\":0,\"ticks\":\"\"}},\"type\":\"scatterpolar\"}],\"scatter\":[{\"marker\":{\"line\":{\"color\":\"#283442\"}},\"type\":\"scatter\"}],\"scatterternary\":[{\"marker\":{\"colorbar\":{\"outlinewidth\":0,\"ticks\":\"\"}},\"type\":\"scatterternary\"}],\"surface\":[{\"colorbar\":{\"outlinewidth\":0,\"ticks\":\"\"},\"colorscale\":[[0.0,\"#0d0887\"],[0.1111111111111111,\"#46039f\"],[0.2222222222222222,\"#7201a8\"],[0.3333333333333333,\"#9c179e\"],[0.4444444444444444,\"#bd3786\"],[0.5555555555555556,\"#d8576b\"],[0.6666666666666666,\"#ed7953\"],[0.7777777777777778,\"#fb9f3a\"],[0.8888888888888888,\"#fdca26\"],[1.0,\"#f0f921\"]],\"type\":\"surface\"}],\"table\":[{\"cells\":{\"fill\":{\"color\":\"#506784\"},\"line\":{\"color\":\"rgb(17,17,17)\"}},\"header\":{\"fill\":{\"color\":\"#2a3f5f\"},\"line\":{\"color\":\"rgb(17,17,17)\"}},\"type\":\"table\"}]},\"layout\":{\"annotationdefaults\":{\"arrowcolor\":\"#f2f5fa\",\"arrowhead\":0,\"arrowwidth\":1},\"autotypenumbers\":\"strict\",\"coloraxis\":{\"colorbar\":{\"outlinewidth\":0,\"ticks\":\"\"}},\"colorscale\":{\"diverging\":[[0,\"#8e0152\"],[0.1,\"#c51b7d\"],[0.2,\"#de77ae\"],[0.3,\"#f1b6da\"],[0.4,\"#fde0ef\"],[0.5,\"#f7f7f7\"],[0.6,\"#e6f5d0\"],[0.7,\"#b8e186\"],[0.8,\"#7fbc41\"],[0.9,\"#4d9221\"],[1,\"#276419\"]],\"sequential\":[[0.0,\"#0d0887\"],[0.1111111111111111,\"#46039f\"],[0.2222222222222222,\"#7201a8\"],[0.3333333333333333,\"#9c179e\"],[0.4444444444444444,\"#bd3786\"],[0.5555555555555556,\"#d8576b\"],[0.6666666666666666,\"#ed7953\"],[0.7777777777777778,\"#fb9f3a\"],[0.8888888888888888,\"#fdca26\"],[1.0,\"#f0f921\"]],\"sequentialminus\":[[0.0,\"#0d0887\"],[0.1111111111111111,\"#46039f\"],[0.2222222222222222,\"#7201a8\"],[0.3333333333333333,\"#9c179e\"],[0.4444444444444444,\"#bd3786\"],[0.5555555555555556,\"#d8576b\"],[0.6666666666666666,\"#ed7953\"],[0.7777777777777778,\"#fb9f3a\"],[0.8888888888888888,\"#fdca26\"],[1.0,\"#f0f921\"]]},\"colorway\":[\"#636efa\",\"#EF553B\",\"#00cc96\",\"#ab63fa\",\"#FFA15A\",\"#19d3f3\",\"#FF6692\",\"#B6E880\",\"#FF97FF\",\"#FECB52\"],\"font\":{\"color\":\"#f2f5fa\"},\"geo\":{\"bgcolor\":\"rgb(17,17,17)\",\"lakecolor\":\"rgb(17,17,17)\",\"landcolor\":\"rgb(17,17,17)\",\"showlakes\":true,\"showland\":true,\"subunitcolor\":\"#506784\"},\"hoverlabel\":{\"align\":\"left\"},\"hovermode\":\"closest\",\"mapbox\":{\"style\":\"dark\"},\"paper_bgcolor\":\"rgb(17,17,17)\",\"plot_bgcolor\":\"rgb(17,17,17)\",\"polar\":{\"angularaxis\":{\"gridcolor\":\"#506784\",\"linecolor\":\"#506784\",\"ticks\":\"\"},\"bgcolor\":\"rgb(17,17,17)\",\"radialaxis\":{\"gridcolor\":\"#506784\",\"linecolor\":\"#506784\",\"ticks\":\"\"}},\"scene\":{\"xaxis\":{\"backgroundcolor\":\"rgb(17,17,17)\",\"gridcolor\":\"#506784\",\"gridwidth\":2,\"linecolor\":\"#506784\",\"showbackground\":true,\"ticks\":\"\",\"zerolinecolor\":\"#C8D4E3\"},\"yaxis\":{\"backgroundcolor\":\"rgb(17,17,17)\",\"gridcolor\":\"#506784\",\"gridwidth\":2,\"linecolor\":\"#506784\",\"showbackground\":true,\"ticks\":\"\",\"zerolinecolor\":\"#C8D4E3\"},\"zaxis\":{\"backgroundcolor\":\"rgb(17,17,17)\",\"gridcolor\":\"#506784\",\"gridwidth\":2,\"linecolor\":\"#506784\",\"showbackground\":true,\"ticks\":\"\",\"zerolinecolor\":\"#C8D4E3\"}},\"shapedefaults\":{\"line\":{\"color\":\"#f2f5fa\"}},\"sliderdefaults\":{\"bgcolor\":\"#C8D4E3\",\"bordercolor\":\"rgb(17,17,17)\",\"borderwidth\":1,\"tickwidth\":0},\"ternary\":{\"aaxis\":{\"gridcolor\":\"#506784\",\"linecolor\":\"#506784\",\"ticks\":\"\"},\"baxis\":{\"gridcolor\":\"#506784\",\"linecolor\":\"#506784\",\"ticks\":\"\"},\"bgcolor\":\"rgb(17,17,17)\",\"caxis\":{\"gridcolor\":\"#506784\",\"linecolor\":\"#506784\",\"ticks\":\"\"}},\"title\":{\"x\":0.05},\"updatemenudefaults\":{\"bgcolor\":\"#506784\",\"borderwidth\":0},\"xaxis\":{\"automargin\":true,\"gridcolor\":\"#283442\",\"linecolor\":\"#506784\",\"ticks\":\"\",\"title\":{\"standoff\":15},\"zerolinecolor\":\"#283442\",\"zerolinewidth\":2},\"yaxis\":{\"automargin\":true,\"gridcolor\":\"#283442\",\"linecolor\":\"#506784\",\"ticks\":\"\",\"title\":{\"standoff\":15},\"zerolinecolor\":\"#283442\",\"zerolinewidth\":2}}},\"xaxis\":{\"tickmode\":\"array\",\"tickvals\":[0,1],\"ticktext\":[\"w0\",\"w1\"]},\"title\":{\"text\":\"\\u0412\\u0435\\u0441\\u0430 \\u043c\\u043e\\u0434\\u0435\\u043b\\u0438\"},\"width\":1200,\"height\":600},                        {\"responsive\": true}                    ).then(function(){\n",
              "                            \n",
              "var gd = document.getElementById('78388cb9-0076-485e-bd2d-e5c1fa2c235c');\n",
              "var x = new MutationObserver(function (mutations, observer) {{\n",
              "        var display = window.getComputedStyle(gd).display;\n",
              "        if (!display || display === 'none') {{\n",
              "            console.log([gd, 'removed!']);\n",
              "            Plotly.purge(gd);\n",
              "            observer.disconnect();\n",
              "        }}\n",
              "}});\n",
              "\n",
              "// Listen for the removal of the full notebook cells\n",
              "var notebookContainer = gd.closest('#notebook-container');\n",
              "if (notebookContainer) {{\n",
              "    x.observe(notebookContainer, {childList: true});\n",
              "}}\n",
              "\n",
              "// Listen for the clearing of the current output cell\n",
              "var outputEl = gd.closest('.output');\n",
              "if (outputEl) {{\n",
              "    x.observe(outputEl, {childList: true});\n",
              "}}\n",
              "\n",
              "                        })                };                            </script>        </div>\n",
              "</body>\n",
              "</html>"
            ]
          },
          "metadata": {}
        }
      ]
    },
    {
      "cell_type": "markdown",
      "source": [
        "## Про батчи"
      ],
      "metadata": {
        "id": "0kVe097ZgKOP"
      }
    },
    {
      "cell_type": "markdown",
      "metadata": {
        "id": "p4EBHGq1bNaZ"
      },
      "source": [
        "На практике как правило, на каждой эпохе рассматривается не вся выборка, а только некоторая ее часть - т.н. батч (мини пакет).\n",
        "Запишем функцию для генерации минибатчей заданного размера."
      ]
    },
    {
      "cell_type": "code",
      "execution_count": null,
      "metadata": {
        "id": "ltFx0w91bNaZ"
      },
      "outputs": [],
      "source": [
        "def load_batch(X,y, batch_size = 100):\n",
        "    \"\"\"загрузка батча.\n",
        "    Входные переменные:\n",
        "    ===========\n",
        "    X: признаки\n",
        "    y: целевые переменные\n",
        "    batch_size: размер батча\n",
        "    \"\"\"\n",
        "    idxs = np.arange(y.size) # массив всех индексов\n",
        "    np.random.shuffle(idxs) # перемешиваем индексы\n",
        "\n",
        "    for i_batch in range(0,y.size,batch_size): # берем столько батчей, сколько \"влезет\" в размерность данных\n",
        "        idx_batch = idxs[i_batch:i_batch+batch_size] # индексы текущего батча\n",
        "        x_batch   = np.take(X, idx_batch,axis=0) # признаки в текущем батче\n",
        "        y_batch   = np.take(y, idx_batch) # целевые переменные в текущем батче\n",
        "        yield  x_batch, y_batch # возвращаем текущий батч\n",
        "        # использование yield вместо return позволит на следущем вызове функции не запускать всё заново, а продолжить итерировать в цикле"
      ]
    },
    {
      "cell_type": "markdown",
      "metadata": {
        "id": "UPQkCM1qbNaZ"
      },
      "source": [
        "Также запишем функцию оптимизации методом стохастического градиентного спуска."
      ]
    },
    {
      "cell_type": "code",
      "execution_count": null,
      "metadata": {
        "id": "CgUUhr3sbNaZ"
      },
      "outputs": [],
      "source": [
        "BATCH = 10\n",
        "\n",
        "def fit_SGD(X, y, learning_rate, weights = None,  epochs=30, batch_size = 100, random_state = 42):\n",
        "    \"\"\"Обучение модели с разбиением данных на батчи.\n",
        "    Входные переменные:\n",
        "    ===========\n",
        "    X: признаки\n",
        "    y: реальные значения\n",
        "    learning_rate: скорость обучения\n",
        "    weights: веса\n",
        "    epochs: количество эпох обучения\n",
        "    batch_size: размер батча\n",
        "    random_state: фиксированный сид случайных чисел (для повторяемости)\n",
        "    \"\"\"\n",
        "\n",
        "    if random_state: np.random.seed(random_state)# фиксируем случайный seed\n",
        "\n",
        "    if weights is None: weights = init_weights(X.shape[1])# если веса не заданы - генерируем веса случайно\n",
        "    # это если хотим продолжать обучение\n",
        "\n",
        "\n",
        "    if batch_size is None or batch_size>y.size : batch_size = y.size  # \"чиним\" если размер батча не задан, или он больше количества данных\n",
        "    n_batches = y.size//batch_size # считаем сколько батчей \"влезет\" в нашу выборку\n",
        "\n",
        "    cost    = np.zeros(epochs) # создадим массив из нулей\n",
        "\n",
        "    for i in range(epochs): # цикл по количеству эпох\n",
        "    # на каждом шаге\n",
        "        loss = 0 #считаем функцию потерь в рамках отдельной эпохи\n",
        "        for cnt,(x_batch, y_batch) in enumerate(load_batch(X,y, batch_size)): # перебираем данные по батчам\n",
        "\n",
        "            yhat    = predict(x_batch, weights) # делаем предсказание в рамках текущего батча\n",
        "            grad    = grad_loss(yhat,  y_batch, x_batch) # считаем производную функции потерь в рамках текущего батча\n",
        "            weights = update_weights(grad, weights, learning_rate) # обновляем веса\n",
        "            loss   += loss_func(yhat,  y_batch).mean()# фиксируем среднее значение функции потерь в рамках текущего батча\n",
        "\n",
        "            if cnt>= n_batches: # неполные батчи не учитываем)\n",
        "                break\n",
        "        cost[i] = loss/n_batches # функция потерь как среднее от функций потерь на всех батчах в рамках эпохи\n",
        "\n",
        "    return weights, cost #возвращаем итоговые веса (после epochs шагов обновлений) и график функции потерь."
      ]
    },
    {
      "cell_type": "markdown",
      "source": [
        "Запустим Обучение модели с разбиением данных на батчи"
      ],
      "metadata": {
        "id": "fNAl1j6b6g1l"
      }
    },
    {
      "cell_type": "code",
      "execution_count": null,
      "metadata": {
        "id": "2PD2HbycbNaa",
        "outputId": "6f0ed1a5-4ac8-4e5d-c57c-4ffa7ac910ac",
        "colab": {
          "base_uri": "https://localhost:8080/"
        }
      },
      "outputs": [
        {
          "output_type": "execute_result",
          "data": {
            "text/plain": [
              "(0.9713449130365535, 0.9682541600832693)"
            ]
          },
          "metadata": {},
          "execution_count": 70
        }
      ],
      "source": [
        "weights = init_weights(x_train.shape[1], random_state=42)\n",
        "\n",
        "weights, cost = fit_SGD(x_train, y_train, learning_rate=0.1, weights= weights,  batch_size = 10,  epochs=10)\n",
        "\n",
        "predicts = predict(x_test, weights, )\n",
        "r2_score(predicts, y_test), r2_score(predict(x_train,weights, ), y_train)"
      ]
    },
    {
      "cell_type": "markdown",
      "source": [
        "Какие при этом получились веса"
      ],
      "metadata": {
        "id": "ocs_EJJ16sDd"
      }
    },
    {
      "cell_type": "code",
      "source": [
        "weights"
      ],
      "metadata": {
        "colab": {
          "base_uri": "https://localhost:8080/"
        },
        "id": "QBNTrsNJP8wC",
        "outputId": "9d2fddde-952d-4520-c4ac-be848ffe1c86"
      },
      "execution_count": null,
      "outputs": [
        {
          "output_type": "execute_result",
          "data": {
            "text/plain": [
              "array([2.08099055, 1.84530316])"
            ]
          },
          "metadata": {},
          "execution_count": 72
        }
      ]
    },
    {
      "cell_type": "code",
      "source": [
        "vis_weigths(weights)"
      ],
      "metadata": {
        "colab": {
          "base_uri": "https://localhost:8080/",
          "height": 617
        },
        "id": "WpEyxPJnPlii",
        "outputId": "ab00847c-314d-4ccf-877f-70a319d248fb"
      },
      "execution_count": null,
      "outputs": [
        {
          "output_type": "display_data",
          "data": {
            "text/html": [
              "<html>\n",
              "<head><meta charset=\"utf-8\" /></head>\n",
              "<body>\n",
              "    <div>            <script src=\"https://cdnjs.cloudflare.com/ajax/libs/mathjax/2.7.5/MathJax.js?config=TeX-AMS-MML_SVG\"></script><script type=\"text/javascript\">if (window.MathJax && window.MathJax.Hub && window.MathJax.Hub.Config) {window.MathJax.Hub.Config({SVG: {font: \"STIX-Web\"}});}</script>                <script type=\"text/javascript\">window.PlotlyConfig = {MathJaxConfig: 'local'};</script>\n",
              "        <script charset=\"utf-8\" src=\"https://cdn.plot.ly/plotly-2.24.1.min.js\"></script>                <div id=\"f25e55a4-033f-4a68-97d7-a815a7a4d843\" class=\"plotly-graph-div\" style=\"height:600px; width:1200px;\"></div>            <script type=\"text/javascript\">                                    window.PLOTLYENV=window.PLOTLYENV || {};                                    if (document.getElementById(\"f25e55a4-033f-4a68-97d7-a815a7a4d843\")) {                    Plotly.newPlot(                        \"f25e55a4-033f-4a68-97d7-a815a7a4d843\",                        [{\"marker\":{\"color\":\"red\"},\"name\":\"\\u043e\\u0442\\u0440\\u0438\\u0446\\u0430\\u0442\\u0435\\u043b\\u044c\\u043d\\u044b\\u0435 \\u0432\\u0435\\u0441\\u0430\",\"x\":[],\"y\":[],\"type\":\"bar\"},{\"marker\":{\"color\":\"blue\"},\"name\":\"\\u043f\\u043e\\u043b\\u043e\\u0436\\u0438\\u0442\\u0435\\u043b\\u044c\\u043d\\u044b\\u0435 \\u0432\\u0435\\u0441\\u0430\",\"x\":[0,1],\"y\":[2.0809905535293756,1.8453031598460794],\"type\":\"bar\"}],                        {\"template\":{\"data\":{\"barpolar\":[{\"marker\":{\"line\":{\"color\":\"rgb(17,17,17)\",\"width\":0.5},\"pattern\":{\"fillmode\":\"overlay\",\"size\":10,\"solidity\":0.2}},\"type\":\"barpolar\"}],\"bar\":[{\"error_x\":{\"color\":\"#f2f5fa\"},\"error_y\":{\"color\":\"#f2f5fa\"},\"marker\":{\"line\":{\"color\":\"rgb(17,17,17)\",\"width\":0.5},\"pattern\":{\"fillmode\":\"overlay\",\"size\":10,\"solidity\":0.2}},\"type\":\"bar\"}],\"carpet\":[{\"aaxis\":{\"endlinecolor\":\"#A2B1C6\",\"gridcolor\":\"#506784\",\"linecolor\":\"#506784\",\"minorgridcolor\":\"#506784\",\"startlinecolor\":\"#A2B1C6\"},\"baxis\":{\"endlinecolor\":\"#A2B1C6\",\"gridcolor\":\"#506784\",\"linecolor\":\"#506784\",\"minorgridcolor\":\"#506784\",\"startlinecolor\":\"#A2B1C6\"},\"type\":\"carpet\"}],\"choropleth\":[{\"colorbar\":{\"outlinewidth\":0,\"ticks\":\"\"},\"type\":\"choropleth\"}],\"contourcarpet\":[{\"colorbar\":{\"outlinewidth\":0,\"ticks\":\"\"},\"type\":\"contourcarpet\"}],\"contour\":[{\"colorbar\":{\"outlinewidth\":0,\"ticks\":\"\"},\"colorscale\":[[0.0,\"#0d0887\"],[0.1111111111111111,\"#46039f\"],[0.2222222222222222,\"#7201a8\"],[0.3333333333333333,\"#9c179e\"],[0.4444444444444444,\"#bd3786\"],[0.5555555555555556,\"#d8576b\"],[0.6666666666666666,\"#ed7953\"],[0.7777777777777778,\"#fb9f3a\"],[0.8888888888888888,\"#fdca26\"],[1.0,\"#f0f921\"]],\"type\":\"contour\"}],\"heatmapgl\":[{\"colorbar\":{\"outlinewidth\":0,\"ticks\":\"\"},\"colorscale\":[[0.0,\"#0d0887\"],[0.1111111111111111,\"#46039f\"],[0.2222222222222222,\"#7201a8\"],[0.3333333333333333,\"#9c179e\"],[0.4444444444444444,\"#bd3786\"],[0.5555555555555556,\"#d8576b\"],[0.6666666666666666,\"#ed7953\"],[0.7777777777777778,\"#fb9f3a\"],[0.8888888888888888,\"#fdca26\"],[1.0,\"#f0f921\"]],\"type\":\"heatmapgl\"}],\"heatmap\":[{\"colorbar\":{\"outlinewidth\":0,\"ticks\":\"\"},\"colorscale\":[[0.0,\"#0d0887\"],[0.1111111111111111,\"#46039f\"],[0.2222222222222222,\"#7201a8\"],[0.3333333333333333,\"#9c179e\"],[0.4444444444444444,\"#bd3786\"],[0.5555555555555556,\"#d8576b\"],[0.6666666666666666,\"#ed7953\"],[0.7777777777777778,\"#fb9f3a\"],[0.8888888888888888,\"#fdca26\"],[1.0,\"#f0f921\"]],\"type\":\"heatmap\"}],\"histogram2dcontour\":[{\"colorbar\":{\"outlinewidth\":0,\"ticks\":\"\"},\"colorscale\":[[0.0,\"#0d0887\"],[0.1111111111111111,\"#46039f\"],[0.2222222222222222,\"#7201a8\"],[0.3333333333333333,\"#9c179e\"],[0.4444444444444444,\"#bd3786\"],[0.5555555555555556,\"#d8576b\"],[0.6666666666666666,\"#ed7953\"],[0.7777777777777778,\"#fb9f3a\"],[0.8888888888888888,\"#fdca26\"],[1.0,\"#f0f921\"]],\"type\":\"histogram2dcontour\"}],\"histogram2d\":[{\"colorbar\":{\"outlinewidth\":0,\"ticks\":\"\"},\"colorscale\":[[0.0,\"#0d0887\"],[0.1111111111111111,\"#46039f\"],[0.2222222222222222,\"#7201a8\"],[0.3333333333333333,\"#9c179e\"],[0.4444444444444444,\"#bd3786\"],[0.5555555555555556,\"#d8576b\"],[0.6666666666666666,\"#ed7953\"],[0.7777777777777778,\"#fb9f3a\"],[0.8888888888888888,\"#fdca26\"],[1.0,\"#f0f921\"]],\"type\":\"histogram2d\"}],\"histogram\":[{\"marker\":{\"pattern\":{\"fillmode\":\"overlay\",\"size\":10,\"solidity\":0.2}},\"type\":\"histogram\"}],\"mesh3d\":[{\"colorbar\":{\"outlinewidth\":0,\"ticks\":\"\"},\"type\":\"mesh3d\"}],\"parcoords\":[{\"line\":{\"colorbar\":{\"outlinewidth\":0,\"ticks\":\"\"}},\"type\":\"parcoords\"}],\"pie\":[{\"automargin\":true,\"type\":\"pie\"}],\"scatter3d\":[{\"line\":{\"colorbar\":{\"outlinewidth\":0,\"ticks\":\"\"}},\"marker\":{\"colorbar\":{\"outlinewidth\":0,\"ticks\":\"\"}},\"type\":\"scatter3d\"}],\"scattercarpet\":[{\"marker\":{\"colorbar\":{\"outlinewidth\":0,\"ticks\":\"\"}},\"type\":\"scattercarpet\"}],\"scattergeo\":[{\"marker\":{\"colorbar\":{\"outlinewidth\":0,\"ticks\":\"\"}},\"type\":\"scattergeo\"}],\"scattergl\":[{\"marker\":{\"line\":{\"color\":\"#283442\"}},\"type\":\"scattergl\"}],\"scattermapbox\":[{\"marker\":{\"colorbar\":{\"outlinewidth\":0,\"ticks\":\"\"}},\"type\":\"scattermapbox\"}],\"scatterpolargl\":[{\"marker\":{\"colorbar\":{\"outlinewidth\":0,\"ticks\":\"\"}},\"type\":\"scatterpolargl\"}],\"scatterpolar\":[{\"marker\":{\"colorbar\":{\"outlinewidth\":0,\"ticks\":\"\"}},\"type\":\"scatterpolar\"}],\"scatter\":[{\"marker\":{\"line\":{\"color\":\"#283442\"}},\"type\":\"scatter\"}],\"scatterternary\":[{\"marker\":{\"colorbar\":{\"outlinewidth\":0,\"ticks\":\"\"}},\"type\":\"scatterternary\"}],\"surface\":[{\"colorbar\":{\"outlinewidth\":0,\"ticks\":\"\"},\"colorscale\":[[0.0,\"#0d0887\"],[0.1111111111111111,\"#46039f\"],[0.2222222222222222,\"#7201a8\"],[0.3333333333333333,\"#9c179e\"],[0.4444444444444444,\"#bd3786\"],[0.5555555555555556,\"#d8576b\"],[0.6666666666666666,\"#ed7953\"],[0.7777777777777778,\"#fb9f3a\"],[0.8888888888888888,\"#fdca26\"],[1.0,\"#f0f921\"]],\"type\":\"surface\"}],\"table\":[{\"cells\":{\"fill\":{\"color\":\"#506784\"},\"line\":{\"color\":\"rgb(17,17,17)\"}},\"header\":{\"fill\":{\"color\":\"#2a3f5f\"},\"line\":{\"color\":\"rgb(17,17,17)\"}},\"type\":\"table\"}]},\"layout\":{\"annotationdefaults\":{\"arrowcolor\":\"#f2f5fa\",\"arrowhead\":0,\"arrowwidth\":1},\"autotypenumbers\":\"strict\",\"coloraxis\":{\"colorbar\":{\"outlinewidth\":0,\"ticks\":\"\"}},\"colorscale\":{\"diverging\":[[0,\"#8e0152\"],[0.1,\"#c51b7d\"],[0.2,\"#de77ae\"],[0.3,\"#f1b6da\"],[0.4,\"#fde0ef\"],[0.5,\"#f7f7f7\"],[0.6,\"#e6f5d0\"],[0.7,\"#b8e186\"],[0.8,\"#7fbc41\"],[0.9,\"#4d9221\"],[1,\"#276419\"]],\"sequential\":[[0.0,\"#0d0887\"],[0.1111111111111111,\"#46039f\"],[0.2222222222222222,\"#7201a8\"],[0.3333333333333333,\"#9c179e\"],[0.4444444444444444,\"#bd3786\"],[0.5555555555555556,\"#d8576b\"],[0.6666666666666666,\"#ed7953\"],[0.7777777777777778,\"#fb9f3a\"],[0.8888888888888888,\"#fdca26\"],[1.0,\"#f0f921\"]],\"sequentialminus\":[[0.0,\"#0d0887\"],[0.1111111111111111,\"#46039f\"],[0.2222222222222222,\"#7201a8\"],[0.3333333333333333,\"#9c179e\"],[0.4444444444444444,\"#bd3786\"],[0.5555555555555556,\"#d8576b\"],[0.6666666666666666,\"#ed7953\"],[0.7777777777777778,\"#fb9f3a\"],[0.8888888888888888,\"#fdca26\"],[1.0,\"#f0f921\"]]},\"colorway\":[\"#636efa\",\"#EF553B\",\"#00cc96\",\"#ab63fa\",\"#FFA15A\",\"#19d3f3\",\"#FF6692\",\"#B6E880\",\"#FF97FF\",\"#FECB52\"],\"font\":{\"color\":\"#f2f5fa\"},\"geo\":{\"bgcolor\":\"rgb(17,17,17)\",\"lakecolor\":\"rgb(17,17,17)\",\"landcolor\":\"rgb(17,17,17)\",\"showlakes\":true,\"showland\":true,\"subunitcolor\":\"#506784\"},\"hoverlabel\":{\"align\":\"left\"},\"hovermode\":\"closest\",\"mapbox\":{\"style\":\"dark\"},\"paper_bgcolor\":\"rgb(17,17,17)\",\"plot_bgcolor\":\"rgb(17,17,17)\",\"polar\":{\"angularaxis\":{\"gridcolor\":\"#506784\",\"linecolor\":\"#506784\",\"ticks\":\"\"},\"bgcolor\":\"rgb(17,17,17)\",\"radialaxis\":{\"gridcolor\":\"#506784\",\"linecolor\":\"#506784\",\"ticks\":\"\"}},\"scene\":{\"xaxis\":{\"backgroundcolor\":\"rgb(17,17,17)\",\"gridcolor\":\"#506784\",\"gridwidth\":2,\"linecolor\":\"#506784\",\"showbackground\":true,\"ticks\":\"\",\"zerolinecolor\":\"#C8D4E3\"},\"yaxis\":{\"backgroundcolor\":\"rgb(17,17,17)\",\"gridcolor\":\"#506784\",\"gridwidth\":2,\"linecolor\":\"#506784\",\"showbackground\":true,\"ticks\":\"\",\"zerolinecolor\":\"#C8D4E3\"},\"zaxis\":{\"backgroundcolor\":\"rgb(17,17,17)\",\"gridcolor\":\"#506784\",\"gridwidth\":2,\"linecolor\":\"#506784\",\"showbackground\":true,\"ticks\":\"\",\"zerolinecolor\":\"#C8D4E3\"}},\"shapedefaults\":{\"line\":{\"color\":\"#f2f5fa\"}},\"sliderdefaults\":{\"bgcolor\":\"#C8D4E3\",\"bordercolor\":\"rgb(17,17,17)\",\"borderwidth\":1,\"tickwidth\":0},\"ternary\":{\"aaxis\":{\"gridcolor\":\"#506784\",\"linecolor\":\"#506784\",\"ticks\":\"\"},\"baxis\":{\"gridcolor\":\"#506784\",\"linecolor\":\"#506784\",\"ticks\":\"\"},\"bgcolor\":\"rgb(17,17,17)\",\"caxis\":{\"gridcolor\":\"#506784\",\"linecolor\":\"#506784\",\"ticks\":\"\"}},\"title\":{\"x\":0.05},\"updatemenudefaults\":{\"bgcolor\":\"#506784\",\"borderwidth\":0},\"xaxis\":{\"automargin\":true,\"gridcolor\":\"#283442\",\"linecolor\":\"#506784\",\"ticks\":\"\",\"title\":{\"standoff\":15},\"zerolinecolor\":\"#283442\",\"zerolinewidth\":2},\"yaxis\":{\"automargin\":true,\"gridcolor\":\"#283442\",\"linecolor\":\"#506784\",\"ticks\":\"\",\"title\":{\"standoff\":15},\"zerolinecolor\":\"#283442\",\"zerolinewidth\":2}}},\"xaxis\":{\"tickmode\":\"array\",\"tickvals\":[0,1],\"ticktext\":[\"w0\",\"w1\"]},\"title\":{\"text\":\"\\u0412\\u0435\\u0441\\u0430 \\u043c\\u043e\\u0434\\u0435\\u043b\\u0438\"},\"width\":1200,\"height\":600},                        {\"responsive\": true}                    ).then(function(){\n",
              "                            \n",
              "var gd = document.getElementById('f25e55a4-033f-4a68-97d7-a815a7a4d843');\n",
              "var x = new MutationObserver(function (mutations, observer) {{\n",
              "        var display = window.getComputedStyle(gd).display;\n",
              "        if (!display || display === 'none') {{\n",
              "            console.log([gd, 'removed!']);\n",
              "            Plotly.purge(gd);\n",
              "            observer.disconnect();\n",
              "        }}\n",
              "}});\n",
              "\n",
              "// Listen for the removal of the full notebook cells\n",
              "var notebookContainer = gd.closest('#notebook-container');\n",
              "if (notebookContainer) {{\n",
              "    x.observe(notebookContainer, {childList: true});\n",
              "}}\n",
              "\n",
              "// Listen for the clearing of the current output cell\n",
              "var outputEl = gd.closest('.output');\n",
              "if (outputEl) {{\n",
              "    x.observe(outputEl, {childList: true});\n",
              "}}\n",
              "\n",
              "                        })                };                            </script>        </div>\n",
              "</body>\n",
              "</html>"
            ]
          },
          "metadata": {}
        }
      ]
    },
    {
      "cell_type": "markdown",
      "source": [
        "Эволюция функции потерь"
      ],
      "metadata": {
        "id": "Kz8wfLTS6wja"
      }
    },
    {
      "cell_type": "code",
      "source": [
        "plot_cost(cost);"
      ],
      "metadata": {
        "colab": {
          "base_uri": "https://localhost:8080/",
          "height": 617
        },
        "id": "GeLI8nhoIjqg",
        "outputId": "1dc2f986-9a36-4266-e8a8-408cfa5657b0"
      },
      "execution_count": null,
      "outputs": [
        {
          "output_type": "display_data",
          "data": {
            "text/html": [
              "<html>\n",
              "<head><meta charset=\"utf-8\" /></head>\n",
              "<body>\n",
              "    <div>            <script src=\"https://cdnjs.cloudflare.com/ajax/libs/mathjax/2.7.5/MathJax.js?config=TeX-AMS-MML_SVG\"></script><script type=\"text/javascript\">if (window.MathJax && window.MathJax.Hub && window.MathJax.Hub.Config) {window.MathJax.Hub.Config({SVG: {font: \"STIX-Web\"}});}</script>                <script type=\"text/javascript\">window.PlotlyConfig = {MathJaxConfig: 'local'};</script>\n",
              "        <script charset=\"utf-8\" src=\"https://cdn.plot.ly/plotly-2.24.1.min.js\"></script>                <div id=\"f614682d-af4c-484d-8462-7693c07205c3\" class=\"plotly-graph-div\" style=\"height:600px; width:1200px;\"></div>            <script type=\"text/javascript\">                                    window.PLOTLYENV=window.PLOTLYENV || {};                                    if (document.getElementById(\"f614682d-af4c-484d-8462-7693c07205c3\")) {                    Plotly.newPlot(                        \"f614682d-af4c-484d-8462-7693c07205c3\",                        [{\"mode\":\"lines+markers\",\"name\":\"\\u0420\\u0435\\u0430\\u043b\\u044c\\u043d\\u044b\\u0435 \\u0434\\u0430\\u043d\\u043d\\u044b\\u0435\",\"y\":[2.378701699902166,0.0728254961347172,0.027814605002670332,0.02368887459963236,0.020614377072119168,0.019034001582406927,0.01640613879645318,0.014948131424631972,0.013952946528825097,0.012787624375393497],\"type\":\"scatter\"}],                        {\"template\":{\"data\":{\"barpolar\":[{\"marker\":{\"line\":{\"color\":\"rgb(17,17,17)\",\"width\":0.5},\"pattern\":{\"fillmode\":\"overlay\",\"size\":10,\"solidity\":0.2}},\"type\":\"barpolar\"}],\"bar\":[{\"error_x\":{\"color\":\"#f2f5fa\"},\"error_y\":{\"color\":\"#f2f5fa\"},\"marker\":{\"line\":{\"color\":\"rgb(17,17,17)\",\"width\":0.5},\"pattern\":{\"fillmode\":\"overlay\",\"size\":10,\"solidity\":0.2}},\"type\":\"bar\"}],\"carpet\":[{\"aaxis\":{\"endlinecolor\":\"#A2B1C6\",\"gridcolor\":\"#506784\",\"linecolor\":\"#506784\",\"minorgridcolor\":\"#506784\",\"startlinecolor\":\"#A2B1C6\"},\"baxis\":{\"endlinecolor\":\"#A2B1C6\",\"gridcolor\":\"#506784\",\"linecolor\":\"#506784\",\"minorgridcolor\":\"#506784\",\"startlinecolor\":\"#A2B1C6\"},\"type\":\"carpet\"}],\"choropleth\":[{\"colorbar\":{\"outlinewidth\":0,\"ticks\":\"\"},\"type\":\"choropleth\"}],\"contourcarpet\":[{\"colorbar\":{\"outlinewidth\":0,\"ticks\":\"\"},\"type\":\"contourcarpet\"}],\"contour\":[{\"colorbar\":{\"outlinewidth\":0,\"ticks\":\"\"},\"colorscale\":[[0.0,\"#0d0887\"],[0.1111111111111111,\"#46039f\"],[0.2222222222222222,\"#7201a8\"],[0.3333333333333333,\"#9c179e\"],[0.4444444444444444,\"#bd3786\"],[0.5555555555555556,\"#d8576b\"],[0.6666666666666666,\"#ed7953\"],[0.7777777777777778,\"#fb9f3a\"],[0.8888888888888888,\"#fdca26\"],[1.0,\"#f0f921\"]],\"type\":\"contour\"}],\"heatmapgl\":[{\"colorbar\":{\"outlinewidth\":0,\"ticks\":\"\"},\"colorscale\":[[0.0,\"#0d0887\"],[0.1111111111111111,\"#46039f\"],[0.2222222222222222,\"#7201a8\"],[0.3333333333333333,\"#9c179e\"],[0.4444444444444444,\"#bd3786\"],[0.5555555555555556,\"#d8576b\"],[0.6666666666666666,\"#ed7953\"],[0.7777777777777778,\"#fb9f3a\"],[0.8888888888888888,\"#fdca26\"],[1.0,\"#f0f921\"]],\"type\":\"heatmapgl\"}],\"heatmap\":[{\"colorbar\":{\"outlinewidth\":0,\"ticks\":\"\"},\"colorscale\":[[0.0,\"#0d0887\"],[0.1111111111111111,\"#46039f\"],[0.2222222222222222,\"#7201a8\"],[0.3333333333333333,\"#9c179e\"],[0.4444444444444444,\"#bd3786\"],[0.5555555555555556,\"#d8576b\"],[0.6666666666666666,\"#ed7953\"],[0.7777777777777778,\"#fb9f3a\"],[0.8888888888888888,\"#fdca26\"],[1.0,\"#f0f921\"]],\"type\":\"heatmap\"}],\"histogram2dcontour\":[{\"colorbar\":{\"outlinewidth\":0,\"ticks\":\"\"},\"colorscale\":[[0.0,\"#0d0887\"],[0.1111111111111111,\"#46039f\"],[0.2222222222222222,\"#7201a8\"],[0.3333333333333333,\"#9c179e\"],[0.4444444444444444,\"#bd3786\"],[0.5555555555555556,\"#d8576b\"],[0.6666666666666666,\"#ed7953\"],[0.7777777777777778,\"#fb9f3a\"],[0.8888888888888888,\"#fdca26\"],[1.0,\"#f0f921\"]],\"type\":\"histogram2dcontour\"}],\"histogram2d\":[{\"colorbar\":{\"outlinewidth\":0,\"ticks\":\"\"},\"colorscale\":[[0.0,\"#0d0887\"],[0.1111111111111111,\"#46039f\"],[0.2222222222222222,\"#7201a8\"],[0.3333333333333333,\"#9c179e\"],[0.4444444444444444,\"#bd3786\"],[0.5555555555555556,\"#d8576b\"],[0.6666666666666666,\"#ed7953\"],[0.7777777777777778,\"#fb9f3a\"],[0.8888888888888888,\"#fdca26\"],[1.0,\"#f0f921\"]],\"type\":\"histogram2d\"}],\"histogram\":[{\"marker\":{\"pattern\":{\"fillmode\":\"overlay\",\"size\":10,\"solidity\":0.2}},\"type\":\"histogram\"}],\"mesh3d\":[{\"colorbar\":{\"outlinewidth\":0,\"ticks\":\"\"},\"type\":\"mesh3d\"}],\"parcoords\":[{\"line\":{\"colorbar\":{\"outlinewidth\":0,\"ticks\":\"\"}},\"type\":\"parcoords\"}],\"pie\":[{\"automargin\":true,\"type\":\"pie\"}],\"scatter3d\":[{\"line\":{\"colorbar\":{\"outlinewidth\":0,\"ticks\":\"\"}},\"marker\":{\"colorbar\":{\"outlinewidth\":0,\"ticks\":\"\"}},\"type\":\"scatter3d\"}],\"scattercarpet\":[{\"marker\":{\"colorbar\":{\"outlinewidth\":0,\"ticks\":\"\"}},\"type\":\"scattercarpet\"}],\"scattergeo\":[{\"marker\":{\"colorbar\":{\"outlinewidth\":0,\"ticks\":\"\"}},\"type\":\"scattergeo\"}],\"scattergl\":[{\"marker\":{\"line\":{\"color\":\"#283442\"}},\"type\":\"scattergl\"}],\"scattermapbox\":[{\"marker\":{\"colorbar\":{\"outlinewidth\":0,\"ticks\":\"\"}},\"type\":\"scattermapbox\"}],\"scatterpolargl\":[{\"marker\":{\"colorbar\":{\"outlinewidth\":0,\"ticks\":\"\"}},\"type\":\"scatterpolargl\"}],\"scatterpolar\":[{\"marker\":{\"colorbar\":{\"outlinewidth\":0,\"ticks\":\"\"}},\"type\":\"scatterpolar\"}],\"scatter\":[{\"marker\":{\"line\":{\"color\":\"#283442\"}},\"type\":\"scatter\"}],\"scatterternary\":[{\"marker\":{\"colorbar\":{\"outlinewidth\":0,\"ticks\":\"\"}},\"type\":\"scatterternary\"}],\"surface\":[{\"colorbar\":{\"outlinewidth\":0,\"ticks\":\"\"},\"colorscale\":[[0.0,\"#0d0887\"],[0.1111111111111111,\"#46039f\"],[0.2222222222222222,\"#7201a8\"],[0.3333333333333333,\"#9c179e\"],[0.4444444444444444,\"#bd3786\"],[0.5555555555555556,\"#d8576b\"],[0.6666666666666666,\"#ed7953\"],[0.7777777777777778,\"#fb9f3a\"],[0.8888888888888888,\"#fdca26\"],[1.0,\"#f0f921\"]],\"type\":\"surface\"}],\"table\":[{\"cells\":{\"fill\":{\"color\":\"#506784\"},\"line\":{\"color\":\"rgb(17,17,17)\"}},\"header\":{\"fill\":{\"color\":\"#2a3f5f\"},\"line\":{\"color\":\"rgb(17,17,17)\"}},\"type\":\"table\"}]},\"layout\":{\"annotationdefaults\":{\"arrowcolor\":\"#f2f5fa\",\"arrowhead\":0,\"arrowwidth\":1},\"autotypenumbers\":\"strict\",\"coloraxis\":{\"colorbar\":{\"outlinewidth\":0,\"ticks\":\"\"}},\"colorscale\":{\"diverging\":[[0,\"#8e0152\"],[0.1,\"#c51b7d\"],[0.2,\"#de77ae\"],[0.3,\"#f1b6da\"],[0.4,\"#fde0ef\"],[0.5,\"#f7f7f7\"],[0.6,\"#e6f5d0\"],[0.7,\"#b8e186\"],[0.8,\"#7fbc41\"],[0.9,\"#4d9221\"],[1,\"#276419\"]],\"sequential\":[[0.0,\"#0d0887\"],[0.1111111111111111,\"#46039f\"],[0.2222222222222222,\"#7201a8\"],[0.3333333333333333,\"#9c179e\"],[0.4444444444444444,\"#bd3786\"],[0.5555555555555556,\"#d8576b\"],[0.6666666666666666,\"#ed7953\"],[0.7777777777777778,\"#fb9f3a\"],[0.8888888888888888,\"#fdca26\"],[1.0,\"#f0f921\"]],\"sequentialminus\":[[0.0,\"#0d0887\"],[0.1111111111111111,\"#46039f\"],[0.2222222222222222,\"#7201a8\"],[0.3333333333333333,\"#9c179e\"],[0.4444444444444444,\"#bd3786\"],[0.5555555555555556,\"#d8576b\"],[0.6666666666666666,\"#ed7953\"],[0.7777777777777778,\"#fb9f3a\"],[0.8888888888888888,\"#fdca26\"],[1.0,\"#f0f921\"]]},\"colorway\":[\"#636efa\",\"#EF553B\",\"#00cc96\",\"#ab63fa\",\"#FFA15A\",\"#19d3f3\",\"#FF6692\",\"#B6E880\",\"#FF97FF\",\"#FECB52\"],\"font\":{\"color\":\"#f2f5fa\"},\"geo\":{\"bgcolor\":\"rgb(17,17,17)\",\"lakecolor\":\"rgb(17,17,17)\",\"landcolor\":\"rgb(17,17,17)\",\"showlakes\":true,\"showland\":true,\"subunitcolor\":\"#506784\"},\"hoverlabel\":{\"align\":\"left\"},\"hovermode\":\"closest\",\"mapbox\":{\"style\":\"dark\"},\"paper_bgcolor\":\"rgb(17,17,17)\",\"plot_bgcolor\":\"rgb(17,17,17)\",\"polar\":{\"angularaxis\":{\"gridcolor\":\"#506784\",\"linecolor\":\"#506784\",\"ticks\":\"\"},\"bgcolor\":\"rgb(17,17,17)\",\"radialaxis\":{\"gridcolor\":\"#506784\",\"linecolor\":\"#506784\",\"ticks\":\"\"}},\"scene\":{\"xaxis\":{\"backgroundcolor\":\"rgb(17,17,17)\",\"gridcolor\":\"#506784\",\"gridwidth\":2,\"linecolor\":\"#506784\",\"showbackground\":true,\"ticks\":\"\",\"zerolinecolor\":\"#C8D4E3\"},\"yaxis\":{\"backgroundcolor\":\"rgb(17,17,17)\",\"gridcolor\":\"#506784\",\"gridwidth\":2,\"linecolor\":\"#506784\",\"showbackground\":true,\"ticks\":\"\",\"zerolinecolor\":\"#C8D4E3\"},\"zaxis\":{\"backgroundcolor\":\"rgb(17,17,17)\",\"gridcolor\":\"#506784\",\"gridwidth\":2,\"linecolor\":\"#506784\",\"showbackground\":true,\"ticks\":\"\",\"zerolinecolor\":\"#C8D4E3\"}},\"shapedefaults\":{\"line\":{\"color\":\"#f2f5fa\"}},\"sliderdefaults\":{\"bgcolor\":\"#C8D4E3\",\"bordercolor\":\"rgb(17,17,17)\",\"borderwidth\":1,\"tickwidth\":0},\"ternary\":{\"aaxis\":{\"gridcolor\":\"#506784\",\"linecolor\":\"#506784\",\"ticks\":\"\"},\"baxis\":{\"gridcolor\":\"#506784\",\"linecolor\":\"#506784\",\"ticks\":\"\"},\"bgcolor\":\"rgb(17,17,17)\",\"caxis\":{\"gridcolor\":\"#506784\",\"linecolor\":\"#506784\",\"ticks\":\"\"}},\"title\":{\"x\":0.05},\"updatemenudefaults\":{\"bgcolor\":\"#506784\",\"borderwidth\":0},\"xaxis\":{\"automargin\":true,\"gridcolor\":\"#283442\",\"linecolor\":\"#506784\",\"ticks\":\"\",\"title\":{\"standoff\":15},\"zerolinecolor\":\"#283442\",\"zerolinewidth\":2},\"yaxis\":{\"automargin\":true,\"gridcolor\":\"#283442\",\"linecolor\":\"#506784\",\"ticks\":\"\",\"title\":{\"standoff\":15},\"zerolinecolor\":\"#283442\",\"zerolinewidth\":2}}},\"title\":{\"text\":\"\\u041a\\u0440\\u0438\\u0432\\u0430\\u044f \\u043e\\u0431\\u0443\\u0447\\u0435\\u043d\\u0438\\u044f\"},\"width\":1200,\"height\":600},                        {\"responsive\": true}                    ).then(function(){\n",
              "                            \n",
              "var gd = document.getElementById('f614682d-af4c-484d-8462-7693c07205c3');\n",
              "var x = new MutationObserver(function (mutations, observer) {{\n",
              "        var display = window.getComputedStyle(gd).display;\n",
              "        if (!display || display === 'none') {{\n",
              "            console.log([gd, 'removed!']);\n",
              "            Plotly.purge(gd);\n",
              "            observer.disconnect();\n",
              "        }}\n",
              "}});\n",
              "\n",
              "// Listen for the removal of the full notebook cells\n",
              "var notebookContainer = gd.closest('#notebook-container');\n",
              "if (notebookContainer) {{\n",
              "    x.observe(notebookContainer, {childList: true});\n",
              "}}\n",
              "\n",
              "// Listen for the clearing of the current output cell\n",
              "var outputEl = gd.closest('.output');\n",
              "if (outputEl) {{\n",
              "    x.observe(outputEl, {childList: true});\n",
              "}}\n",
              "\n",
              "                        })                };                            </script>        </div>\n",
              "</body>\n",
              "</html>"
            ]
          },
          "metadata": {}
        }
      ]
    },
    {
      "cell_type": "markdown",
      "source": [
        "Визуализация модели"
      ],
      "metadata": {
        "id": "EYuPbDQl60Uq"
      }
    },
    {
      "cell_type": "code",
      "source": [
        "plot_model_weights(x_train, y_train, x_test, x, y_true, weights);"
      ],
      "metadata": {
        "colab": {
          "base_uri": "https://localhost:8080/",
          "height": 617
        },
        "id": "UmB3TS3MPt6J",
        "outputId": "498e10bb-5a86-4e0c-8e93-49988160f400"
      },
      "execution_count": null,
      "outputs": [
        {
          "output_type": "display_data",
          "data": {
            "text/html": [
              "<html>\n",
              "<head><meta charset=\"utf-8\" /></head>\n",
              "<body>\n",
              "    <div>            <script src=\"https://cdnjs.cloudflare.com/ajax/libs/mathjax/2.7.5/MathJax.js?config=TeX-AMS-MML_SVG\"></script><script type=\"text/javascript\">if (window.MathJax && window.MathJax.Hub && window.MathJax.Hub.Config) {window.MathJax.Hub.Config({SVG: {font: \"STIX-Web\"}});}</script>                <script type=\"text/javascript\">window.PlotlyConfig = {MathJaxConfig: 'local'};</script>\n",
              "        <script charset=\"utf-8\" src=\"https://cdn.plot.ly/plotly-2.24.1.min.js\"></script>                <div id=\"4e9d1ca3-13c5-4752-ac42-0c88f1dca780\" class=\"plotly-graph-div\" style=\"height:600px; width:1200px;\"></div>            <script type=\"text/javascript\">                                    window.PLOTLYENV=window.PLOTLYENV || {};                                    if (document.getElementById(\"4e9d1ca3-13c5-4752-ac42-0c88f1dca780\")) {                    Plotly.newPlot(                        \"4e9d1ca3-13c5-4752-ac42-0c88f1dca780\",                        [{\"marker\":{\"color\":\"Blue\",\"size\":10},\"mode\":\"markers\",\"name\":\"\\u041f\\u0440\\u0435\\u0434\\u0441\\u043a\\u0430\\u0437\\u0430\\u043d\\u0438\\u0435 \\u043d\\u0430 x_test\",\"x\":[0.7722447692966574,0.3567533266935893,0.5467102793432796,0.4401524937396013,0.9699098521619943,0.5426960831582485,0.7319939418114051,0.2912291401980419,0.9488855372533332,0.5612771975694962,0.6011150117432088,0.8154614284548342,0.31171107608941095,0.2587799816000169,0.020584494295802447,0.4951769101112702,0.17052412368729153,0.02541912674409519,0.18340450985343382,0.8631034258755935,0.9093204020787821,0.7296061783380641,0.8324426408004217,0.8021969807540397,0.15601864044243652,0.5924145688620425,0.7080725777960455,0.11586905952512971,0.9218742350231168,0.49379559636439074],\"y\":[3.506016266487104,2.7393085945626563,3.0898367595218623,2.8932053410411935,3.8707682684897473,3.082429350617382,3.4317412873421484,2.6183966061760793,3.8319720337551963,3.116717139753919,3.190229984130032,3.5857641041896784,2.656191987196187,2.558518071280797,2.1189751858972534,2.9947420704405205,2.3956592577995184,2.1278965484307824,2.4194274750919385,3.6736780325715848,3.75896236479786,3.427335139859827,3.6170995889890087,3.5612871769337895,2.368892243732693,3.1741750293893554,3.387599118736777,2.294804095199491,3.7821279923982205,2.992193127818665],\"type\":\"scatter\"},{\"marker\":{\"color\":\"LightSkyBlue\",\"size\":15},\"mode\":\"markers\",\"name\":\"\\u041f\\u0440\\u0435\\u0434\\u0441\\u043a\\u0430\\u0437\\u0430\\u043d\\u0438\\u0435 \\u043d\\u0430 x_train\",\"x\":[0.8083973481164611,0.5142344384136116,0.7068573438476171,0.388677289689482,0.3745401188473625,0.32533033076326434,0.18182496720710062,0.7751328233611146,0.07455064367977082,0.005522117123602399,0.14092422497476265,0.2713490317738959,0.7290071680409873,0.29214464853521815,0.8948273504276488,0.045227288910538066,0.7607850486168974,0.770967179954561,0.09767211400638387,0.28093450968738076,0.5227328293819941,0.8661761457749352,0.1987156815341724,0.3584657285442726,0.6842330265121569,0.1195942459383017,0.3308980248526492,0.9656320330745594,0.07404465173409036,0.713244787222995,0.0884925020519195,0.43194501864211576,0.8287375091519293,0.21233911067827616,0.9394989415641891,0.046450412719997725,0.6232981268275579,0.6118528947223795,0.3046137691733707,0.12203823484477883,0.45606998421703593,0.3042422429595377,0.06355835028602363,0.9507143064099162,0.19967378215835974,0.15599452033620265,0.7851759613930136,0.1959828624191452,0.5986584841970366,0.10789142699330445,0.18485445552552704,0.034388521115218396,0.13949386065204183,0.32518332202674705,0.06505159298527952,0.7712703466859457,0.05808361216819946,0.6075448519014384,0.3109823217156622,0.8872127425763265,0.5247564316322378,0.9868869366005173,0.5200680211778108,0.3663618432936917,0.4722149251619493,0.6375574713552131,0.42754101835854963,0.662522284353982,0.5978999788110851,0.9695846277645586],\"y\":[3.572728734419872,3.0299089876356873,3.3853566436917903,2.7982179843537867,2.7721306183275396,2.6813236408805974,2.416512740055548,3.511345601778053,2.218559091880216,2.0911805337065994,2.3410384711741647,2.58171177928292,3.4262297842658516,2.620085996603536,3.732218290790211,2.164448612667263,3.4848696077057895,3.503658726837148,2.2612252141342024,2.5993998919653083,3.0455910953432506,3.6793481323111616,2.4476812285753513,2.742468495108649,3.343607919423305,2.301678193458733,2.6915977243767957,3.862874395410454,2.217625383343995,3.397143413135713,2.2442860471884685,2.8780600613094456,3.6102624978503997,2.472820585422905,3.8146509190698206,2.166705646897742,3.231164556490411,3.210044633521553,2.6430953043176206,2.306188093910484,2.9225779365160234,2.642409725821269,2.1982749781467787,3.8353466672584675,2.4494492146846145,2.3688477348244437,3.5298782361230865,2.4426383488271037,3.185696946086831,2.280082944680423,2.422103064422257,2.1444478002057217,2.338399015369717,2.681052365194577,2.201030463618133,3.5042181613645322,2.188172426598628,3.202094988491318,2.6548472144475572,3.718167030861177,3.0493252549698973,3.9020961360491278,3.0406737163436874,2.7570392206062593,2.9523702470572006,3.2574773700046267,2.869933345670218,3.303545018316221,3.184297273701375,3.8701681308815],\"type\":\"scatter\"},{\"marker\":{\"color\":\"Red\",\"size\":5},\"mode\":\"markers\",\"name\":\"\\u0422\\u0440\\u0435\\u043d\\u0438\\u0440\\u043e\\u0432\\u043e\\u0447\\u043d\\u044b\\u0435 \\u0434\\u0430\\u043d\\u043d\\u044b\\u0435\",\"x\":[0.8083973481164611,0.5142344384136116,0.7068573438476171,0.388677289689482,0.3745401188473625,0.32533033076326434,0.18182496720710062,0.7751328233611146,0.07455064367977082,0.005522117123602399,0.14092422497476265,0.2713490317738959,0.7290071680409873,0.29214464853521815,0.8948273504276488,0.045227288910538066,0.7607850486168974,0.770967179954561,0.09767211400638387,0.28093450968738076,0.5227328293819941,0.8661761457749352,0.1987156815341724,0.3584657285442726,0.6842330265121569,0.1195942459383017,0.3308980248526492,0.9656320330745594,0.07404465173409036,0.713244787222995,0.0884925020519195,0.43194501864211576,0.8287375091519293,0.21233911067827616,0.9394989415641891,0.046450412719997725,0.6232981268275579,0.6118528947223795,0.3046137691733707,0.12203823484477883,0.45606998421703593,0.3042422429595377,0.06355835028602363,0.9507143064099162,0.19967378215835974,0.15599452033620265,0.7851759613930136,0.1959828624191452,0.5986584841970366,0.10789142699330445,0.18485445552552704,0.034388521115218396,0.13949386065204183,0.32518332202674705,0.06505159298527952,0.7712703466859457,0.05808361216819946,0.6075448519014384,0.3109823217156622,0.8872127425763265,0.5247564316322378,0.9868869366005173,0.5200680211778108,0.3663618432936917,0.4722149251619493,0.6375574713552131,0.42754101835854963,0.662522284353982,0.5978999788110851,0.9695846277645586],\"y\":[3.6824500570963057,2.9781213114156033,3.290019616607426,2.68641583389949,2.8281834323990296,2.68081539575989,2.3641612800784473,3.736843097836705,2.2406414991297487,2.019748941071022,2.2426376346363095,2.7313166536688445,3.487712803405293,2.5768447054938197,3.871860716854747,2.0684873890373248,3.4535676250759457,3.5651597296252224,2.1423682076360637,2.5793268006579453,3.052321956244591,3.8286899044743024,2.363159911415668,2.8312137385400473,3.4466483402020445,2.3360529909298924,2.658324872734774,3.9235538952077085,2.0979135991097273,3.47868373100768,2.209860115069808,2.7237049310050034,3.736183478678104,2.4085496501899515,3.8036242666926294,2.1286120825911703,3.085847930198993,3.354420064873002,2.6065761508018195,2.1738711603018226,3.1311855310150696,2.4166073643891712,2.075289678744683,3.8198475843232886,2.3191198373945574,2.1656375458591937,3.617735214877206,2.3499011925617546,3.27866869013104,2.2671095972979445,2.228171836846013,1.8700201507703476,2.246221506644307,2.6311305475753817,2.04925382568124,3.5718479407017596,2.2639566288105506,3.23783569726329,2.627987664425427,3.815703577846303,2.9432824918918654,4.056492198104637,2.8850696992490086,2.8079169898560608,2.84537621781083,3.293578328563657,2.9953614678107088,3.351032848132806,3.1635938060016024,3.9732844530107814],\"type\":\"scatter\"},{\"marker\":{\"color\":\"green\",\"size\":15},\"mode\":\"lines+markers\",\"name\":\"\\u0418\\u0441\\u0442\\u0438\\u043d\\u043d\\u044b\\u0435 \\u0437\\u043d\\u0430\\u0447\\u0435\\u043d\\u0438\\u044f\",\"opacity\":0.7,\"x\":[0.005522117123602399,0.020584494295802447,0.02541912674409519,0.034388521115218396,0.045227288910538066,0.046450412719997725,0.05808361216819946,0.06355835028602363,0.06505159298527952,0.07404465173409036,0.07455064367977082,0.0884925020519195,0.09767211400638387,0.10789142699330445,0.11586905952512971,0.1195942459383017,0.12203823484477883,0.13949386065204183,0.14092422497476265,0.15599452033620265,0.15601864044243652,0.17052412368729153,0.18182496720710062,0.18340450985343382,0.18485445552552704,0.1959828624191452,0.1987156815341724,0.19967378215835974,0.21233911067827616,0.2587799816000169,0.2713490317738959,0.28093450968738076,0.2912291401980419,0.29214464853521815,0.3042422429595377,0.3046137691733707,0.3109823217156622,0.31171107608941095,0.32518332202674705,0.32533033076326434,0.3308980248526492,0.3567533266935893,0.3584657285442726,0.3663618432936917,0.3745401188473625,0.388677289689482,0.42754101835854963,0.43194501864211576,0.4401524937396013,0.45606998421703593,0.4722149251619493,0.49379559636439074,0.4951769101112702,0.5142344384136116,0.5200680211778108,0.5227328293819941,0.5247564316322378,0.5426960831582485,0.5467102793432796,0.5612771975694962,0.5924145688620425,0.5978999788110851,0.5986584841970366,0.6011150117432088,0.6075448519014384,0.6118528947223795,0.6232981268275579,0.6375574713552131,0.662522284353982,0.6842330265121569,0.7068573438476171,0.7080725777960455,0.713244787222995,0.7290071680409873,0.7296061783380641,0.7319939418114051,0.7607850486168974,0.770967179954561,0.7712703466859457,0.7722447692966574,0.7751328233611146,0.7851759613930136,0.8021969807540397,0.8083973481164611,0.8154614284548342,0.8287375091519293,0.8324426408004217,0.8631034258755935,0.8661761457749352,0.8872127425763265,0.8948273504276488,0.9093204020787821,0.9218742350231168,0.9394989415641891,0.9488855372533332,0.9507143064099162,0.9656320330745594,0.9695846277645586,0.9699098521619943,0.9868869366005173],\"y\":[2.011044234247205,2.041168988591605,2.05083825348819,2.068777042230437,2.090454577821076,2.0929008254399957,2.116167224336399,2.1271167005720475,2.130103185970559,2.148089303468181,2.1491012873595414,2.176985004103839,2.1953442280127677,2.215782853986609,2.2317381190502594,2.2391884918766034,2.2440764696895577,2.278987721304084,2.2818484499495253,2.3119890406724055,2.312037280884873,2.341048247374583,2.3636499344142012,2.3668090197068676,2.3697089110510543,2.3919657248382906,2.397431363068345,2.3993475643167193,2.4246782213565523,2.517559963200034,2.5426980635477916,2.5618690193747615,2.582458280396084,2.5842892970704363,2.6084844859190754,2.609227538346741,2.6219646434313244,2.623422152178822,2.650366644053494,2.650660661526529,2.6617960497052984,2.713506653387179,2.7169314570885454,2.7327236865873834,2.749080237694725,2.7773545793789642,2.855082036717099,2.8638900372842313,2.8803049874792026,2.912139968434072,2.944429850323899,2.9875911927287815,2.9903538202225404,3.0284688768272234,3.0401360423556216,3.0454656587639883,3.049512863264476,3.085392166316497,3.0934205586865593,3.1225543951389927,3.184829137724085,3.19579995762217,3.197316968394073,3.2022300234864174,3.2150897038028767,3.223705789444759,3.246596253655116,3.2751149427104265,3.325044568707964,3.3684660530243136,3.4137146876952342,3.416145155592091,3.42648957444599,3.4580143360819746,3.459212356676128,3.46398788362281,3.521570097233795,3.541934359909122,3.5425406933718913,3.544489538593315,3.550265646722229,3.570351922786027,3.6043939615080793,3.6167946962329225,3.6309228569096685,3.6574750183038587,3.6648852816008435,3.7262068517511873,3.73235229154987,3.774425485152653,3.789654700855298,3.818640804157564,3.8437484700462337,3.8789978831283785,3.8977710745066663,3.9014286128198323,3.9312640661491187,3.939169255529117,3.9398197043239884,3.9737738732010346],\"type\":\"scatter\"}],                        {\"template\":{\"data\":{\"barpolar\":[{\"marker\":{\"line\":{\"color\":\"rgb(17,17,17)\",\"width\":0.5},\"pattern\":{\"fillmode\":\"overlay\",\"size\":10,\"solidity\":0.2}},\"type\":\"barpolar\"}],\"bar\":[{\"error_x\":{\"color\":\"#f2f5fa\"},\"error_y\":{\"color\":\"#f2f5fa\"},\"marker\":{\"line\":{\"color\":\"rgb(17,17,17)\",\"width\":0.5},\"pattern\":{\"fillmode\":\"overlay\",\"size\":10,\"solidity\":0.2}},\"type\":\"bar\"}],\"carpet\":[{\"aaxis\":{\"endlinecolor\":\"#A2B1C6\",\"gridcolor\":\"#506784\",\"linecolor\":\"#506784\",\"minorgridcolor\":\"#506784\",\"startlinecolor\":\"#A2B1C6\"},\"baxis\":{\"endlinecolor\":\"#A2B1C6\",\"gridcolor\":\"#506784\",\"linecolor\":\"#506784\",\"minorgridcolor\":\"#506784\",\"startlinecolor\":\"#A2B1C6\"},\"type\":\"carpet\"}],\"choropleth\":[{\"colorbar\":{\"outlinewidth\":0,\"ticks\":\"\"},\"type\":\"choropleth\"}],\"contourcarpet\":[{\"colorbar\":{\"outlinewidth\":0,\"ticks\":\"\"},\"type\":\"contourcarpet\"}],\"contour\":[{\"colorbar\":{\"outlinewidth\":0,\"ticks\":\"\"},\"colorscale\":[[0.0,\"#0d0887\"],[0.1111111111111111,\"#46039f\"],[0.2222222222222222,\"#7201a8\"],[0.3333333333333333,\"#9c179e\"],[0.4444444444444444,\"#bd3786\"],[0.5555555555555556,\"#d8576b\"],[0.6666666666666666,\"#ed7953\"],[0.7777777777777778,\"#fb9f3a\"],[0.8888888888888888,\"#fdca26\"],[1.0,\"#f0f921\"]],\"type\":\"contour\"}],\"heatmapgl\":[{\"colorbar\":{\"outlinewidth\":0,\"ticks\":\"\"},\"colorscale\":[[0.0,\"#0d0887\"],[0.1111111111111111,\"#46039f\"],[0.2222222222222222,\"#7201a8\"],[0.3333333333333333,\"#9c179e\"],[0.4444444444444444,\"#bd3786\"],[0.5555555555555556,\"#d8576b\"],[0.6666666666666666,\"#ed7953\"],[0.7777777777777778,\"#fb9f3a\"],[0.8888888888888888,\"#fdca26\"],[1.0,\"#f0f921\"]],\"type\":\"heatmapgl\"}],\"heatmap\":[{\"colorbar\":{\"outlinewidth\":0,\"ticks\":\"\"},\"colorscale\":[[0.0,\"#0d0887\"],[0.1111111111111111,\"#46039f\"],[0.2222222222222222,\"#7201a8\"],[0.3333333333333333,\"#9c179e\"],[0.4444444444444444,\"#bd3786\"],[0.5555555555555556,\"#d8576b\"],[0.6666666666666666,\"#ed7953\"],[0.7777777777777778,\"#fb9f3a\"],[0.8888888888888888,\"#fdca26\"],[1.0,\"#f0f921\"]],\"type\":\"heatmap\"}],\"histogram2dcontour\":[{\"colorbar\":{\"outlinewidth\":0,\"ticks\":\"\"},\"colorscale\":[[0.0,\"#0d0887\"],[0.1111111111111111,\"#46039f\"],[0.2222222222222222,\"#7201a8\"],[0.3333333333333333,\"#9c179e\"],[0.4444444444444444,\"#bd3786\"],[0.5555555555555556,\"#d8576b\"],[0.6666666666666666,\"#ed7953\"],[0.7777777777777778,\"#fb9f3a\"],[0.8888888888888888,\"#fdca26\"],[1.0,\"#f0f921\"]],\"type\":\"histogram2dcontour\"}],\"histogram2d\":[{\"colorbar\":{\"outlinewidth\":0,\"ticks\":\"\"},\"colorscale\":[[0.0,\"#0d0887\"],[0.1111111111111111,\"#46039f\"],[0.2222222222222222,\"#7201a8\"],[0.3333333333333333,\"#9c179e\"],[0.4444444444444444,\"#bd3786\"],[0.5555555555555556,\"#d8576b\"],[0.6666666666666666,\"#ed7953\"],[0.7777777777777778,\"#fb9f3a\"],[0.8888888888888888,\"#fdca26\"],[1.0,\"#f0f921\"]],\"type\":\"histogram2d\"}],\"histogram\":[{\"marker\":{\"pattern\":{\"fillmode\":\"overlay\",\"size\":10,\"solidity\":0.2}},\"type\":\"histogram\"}],\"mesh3d\":[{\"colorbar\":{\"outlinewidth\":0,\"ticks\":\"\"},\"type\":\"mesh3d\"}],\"parcoords\":[{\"line\":{\"colorbar\":{\"outlinewidth\":0,\"ticks\":\"\"}},\"type\":\"parcoords\"}],\"pie\":[{\"automargin\":true,\"type\":\"pie\"}],\"scatter3d\":[{\"line\":{\"colorbar\":{\"outlinewidth\":0,\"ticks\":\"\"}},\"marker\":{\"colorbar\":{\"outlinewidth\":0,\"ticks\":\"\"}},\"type\":\"scatter3d\"}],\"scattercarpet\":[{\"marker\":{\"colorbar\":{\"outlinewidth\":0,\"ticks\":\"\"}},\"type\":\"scattercarpet\"}],\"scattergeo\":[{\"marker\":{\"colorbar\":{\"outlinewidth\":0,\"ticks\":\"\"}},\"type\":\"scattergeo\"}],\"scattergl\":[{\"marker\":{\"line\":{\"color\":\"#283442\"}},\"type\":\"scattergl\"}],\"scattermapbox\":[{\"marker\":{\"colorbar\":{\"outlinewidth\":0,\"ticks\":\"\"}},\"type\":\"scattermapbox\"}],\"scatterpolargl\":[{\"marker\":{\"colorbar\":{\"outlinewidth\":0,\"ticks\":\"\"}},\"type\":\"scatterpolargl\"}],\"scatterpolar\":[{\"marker\":{\"colorbar\":{\"outlinewidth\":0,\"ticks\":\"\"}},\"type\":\"scatterpolar\"}],\"scatter\":[{\"marker\":{\"line\":{\"color\":\"#283442\"}},\"type\":\"scatter\"}],\"scatterternary\":[{\"marker\":{\"colorbar\":{\"outlinewidth\":0,\"ticks\":\"\"}},\"type\":\"scatterternary\"}],\"surface\":[{\"colorbar\":{\"outlinewidth\":0,\"ticks\":\"\"},\"colorscale\":[[0.0,\"#0d0887\"],[0.1111111111111111,\"#46039f\"],[0.2222222222222222,\"#7201a8\"],[0.3333333333333333,\"#9c179e\"],[0.4444444444444444,\"#bd3786\"],[0.5555555555555556,\"#d8576b\"],[0.6666666666666666,\"#ed7953\"],[0.7777777777777778,\"#fb9f3a\"],[0.8888888888888888,\"#fdca26\"],[1.0,\"#f0f921\"]],\"type\":\"surface\"}],\"table\":[{\"cells\":{\"fill\":{\"color\":\"#506784\"},\"line\":{\"color\":\"rgb(17,17,17)\"}},\"header\":{\"fill\":{\"color\":\"#2a3f5f\"},\"line\":{\"color\":\"rgb(17,17,17)\"}},\"type\":\"table\"}]},\"layout\":{\"annotationdefaults\":{\"arrowcolor\":\"#f2f5fa\",\"arrowhead\":0,\"arrowwidth\":1},\"autotypenumbers\":\"strict\",\"coloraxis\":{\"colorbar\":{\"outlinewidth\":0,\"ticks\":\"\"}},\"colorscale\":{\"diverging\":[[0,\"#8e0152\"],[0.1,\"#c51b7d\"],[0.2,\"#de77ae\"],[0.3,\"#f1b6da\"],[0.4,\"#fde0ef\"],[0.5,\"#f7f7f7\"],[0.6,\"#e6f5d0\"],[0.7,\"#b8e186\"],[0.8,\"#7fbc41\"],[0.9,\"#4d9221\"],[1,\"#276419\"]],\"sequential\":[[0.0,\"#0d0887\"],[0.1111111111111111,\"#46039f\"],[0.2222222222222222,\"#7201a8\"],[0.3333333333333333,\"#9c179e\"],[0.4444444444444444,\"#bd3786\"],[0.5555555555555556,\"#d8576b\"],[0.6666666666666666,\"#ed7953\"],[0.7777777777777778,\"#fb9f3a\"],[0.8888888888888888,\"#fdca26\"],[1.0,\"#f0f921\"]],\"sequentialminus\":[[0.0,\"#0d0887\"],[0.1111111111111111,\"#46039f\"],[0.2222222222222222,\"#7201a8\"],[0.3333333333333333,\"#9c179e\"],[0.4444444444444444,\"#bd3786\"],[0.5555555555555556,\"#d8576b\"],[0.6666666666666666,\"#ed7953\"],[0.7777777777777778,\"#fb9f3a\"],[0.8888888888888888,\"#fdca26\"],[1.0,\"#f0f921\"]]},\"colorway\":[\"#636efa\",\"#EF553B\",\"#00cc96\",\"#ab63fa\",\"#FFA15A\",\"#19d3f3\",\"#FF6692\",\"#B6E880\",\"#FF97FF\",\"#FECB52\"],\"font\":{\"color\":\"#f2f5fa\"},\"geo\":{\"bgcolor\":\"rgb(17,17,17)\",\"lakecolor\":\"rgb(17,17,17)\",\"landcolor\":\"rgb(17,17,17)\",\"showlakes\":true,\"showland\":true,\"subunitcolor\":\"#506784\"},\"hoverlabel\":{\"align\":\"left\"},\"hovermode\":\"closest\",\"mapbox\":{\"style\":\"dark\"},\"paper_bgcolor\":\"rgb(17,17,17)\",\"plot_bgcolor\":\"rgb(17,17,17)\",\"polar\":{\"angularaxis\":{\"gridcolor\":\"#506784\",\"linecolor\":\"#506784\",\"ticks\":\"\"},\"bgcolor\":\"rgb(17,17,17)\",\"radialaxis\":{\"gridcolor\":\"#506784\",\"linecolor\":\"#506784\",\"ticks\":\"\"}},\"scene\":{\"xaxis\":{\"backgroundcolor\":\"rgb(17,17,17)\",\"gridcolor\":\"#506784\",\"gridwidth\":2,\"linecolor\":\"#506784\",\"showbackground\":true,\"ticks\":\"\",\"zerolinecolor\":\"#C8D4E3\"},\"yaxis\":{\"backgroundcolor\":\"rgb(17,17,17)\",\"gridcolor\":\"#506784\",\"gridwidth\":2,\"linecolor\":\"#506784\",\"showbackground\":true,\"ticks\":\"\",\"zerolinecolor\":\"#C8D4E3\"},\"zaxis\":{\"backgroundcolor\":\"rgb(17,17,17)\",\"gridcolor\":\"#506784\",\"gridwidth\":2,\"linecolor\":\"#506784\",\"showbackground\":true,\"ticks\":\"\",\"zerolinecolor\":\"#C8D4E3\"}},\"shapedefaults\":{\"line\":{\"color\":\"#f2f5fa\"}},\"sliderdefaults\":{\"bgcolor\":\"#C8D4E3\",\"bordercolor\":\"rgb(17,17,17)\",\"borderwidth\":1,\"tickwidth\":0},\"ternary\":{\"aaxis\":{\"gridcolor\":\"#506784\",\"linecolor\":\"#506784\",\"ticks\":\"\"},\"baxis\":{\"gridcolor\":\"#506784\",\"linecolor\":\"#506784\",\"ticks\":\"\"},\"bgcolor\":\"rgb(17,17,17)\",\"caxis\":{\"gridcolor\":\"#506784\",\"linecolor\":\"#506784\",\"ticks\":\"\"}},\"title\":{\"x\":0.05},\"updatemenudefaults\":{\"bgcolor\":\"#506784\",\"borderwidth\":0},\"xaxis\":{\"automargin\":true,\"gridcolor\":\"#283442\",\"linecolor\":\"#506784\",\"ticks\":\"\",\"title\":{\"standoff\":15},\"zerolinecolor\":\"#283442\",\"zerolinewidth\":2},\"yaxis\":{\"automargin\":true,\"gridcolor\":\"#283442\",\"linecolor\":\"#506784\",\"ticks\":\"\",\"title\":{\"standoff\":15},\"zerolinecolor\":\"#283442\",\"zerolinewidth\":2}}},\"title\":{\"text\":\"\\u0422\\u0440\\u0435\\u043d\\u0438\\u0440\\u043e\\u0432\\u043e\\u0447\\u043d\\u044b\\u0435 \\u0438 \\u0442\\u0435\\u0441\\u0442\\u043e\\u0432\\u044b\\u0435 \\u0434\\u0430\\u043d\\u043d\\u044b\\u0435\"},\"width\":1200,\"height\":600},                        {\"responsive\": true}                    ).then(function(){\n",
              "                            \n",
              "var gd = document.getElementById('4e9d1ca3-13c5-4752-ac42-0c88f1dca780');\n",
              "var x = new MutationObserver(function (mutations, observer) {{\n",
              "        var display = window.getComputedStyle(gd).display;\n",
              "        if (!display || display === 'none') {{\n",
              "            console.log([gd, 'removed!']);\n",
              "            Plotly.purge(gd);\n",
              "            observer.disconnect();\n",
              "        }}\n",
              "}});\n",
              "\n",
              "// Listen for the removal of the full notebook cells\n",
              "var notebookContainer = gd.closest('#notebook-container');\n",
              "if (notebookContainer) {{\n",
              "    x.observe(notebookContainer, {childList: true});\n",
              "}}\n",
              "\n",
              "// Listen for the clearing of the current output cell\n",
              "var outputEl = gd.closest('.output');\n",
              "if (outputEl) {{\n",
              "    x.observe(outputEl, {childList: true});\n",
              "}}\n",
              "\n",
              "                        })                };                            </script>        </div>\n",
              "</body>\n",
              "</html>"
            ]
          },
          "metadata": {}
        }
      ]
    },
    {
      "cell_type": "markdown",
      "source": [
        "Уже почти идеально, хотя мы формально использовали столько же данных для обновления\n",
        "\n",
        "Просто обновляли чаще на меньших группах\n",
        "\n",
        "Мораль - не делайте домашку за последний день, лучше понемногу в течении семестра"
      ],
      "metadata": {
        "id": "B4uQXaoPgTMk"
      }
    },
    {
      "cell_type": "markdown",
      "source": [
        "## ООП edition"
      ],
      "metadata": {
        "id": "uWwWKmcmggNa"
      }
    },
    {
      "cell_type": "markdown",
      "metadata": {
        "id": "jbP579qwbNaa"
      },
      "source": [
        "Теперь давайте объеденим все наши части в один класс линейной регресии.\n",
        "\n",
        "методы, в этом классе это функции, которые мы обсуждали с вами ранее"
      ]
    },
    {
      "cell_type": "code",
      "execution_count": null,
      "metadata": {
        "id": "OD-cB5BvbNaa"
      },
      "outputs": [],
      "source": [
        "class LinearRegression():\n",
        "    def __init__(self,\n",
        "                 learning_rate = 0.5,\n",
        "                 epochs = 100,\n",
        "                 weights = None,\n",
        "                 bias    = None,\n",
        "                 batch_size   = 1000,\n",
        "                 n_batches    = None,\n",
        "                 random_state = 42):\n",
        "        self.lr      = learning_rate\n",
        "        self.epochs  = epochs\n",
        "        self.weights = weights\n",
        "        self.bias    = bias\n",
        "        self.seed    = random_state\n",
        "        self.batch_size = batch_size\n",
        "        self.cost    = np.zeros(epochs)\n",
        "        self.n_batches = n_batches\n",
        "\n",
        "\n",
        "    #---------------------------------\n",
        "    def forward(self, X):\n",
        "        # умножаем признаки на веса\n",
        "        return np.dot(X, self.weights)\n",
        "\n",
        "    #---------------------------------\n",
        "    def loss(self,yhat, y):\n",
        "        # расчет функции потерь\n",
        "        return np.square(yhat - y).sum()/y.size\n",
        "\n",
        "    #---------------------------------\n",
        "    def grad_step(self,yhat, y, X):\n",
        "        # расчет градиента\n",
        "        return 2*np.dot(X.T, (yhat - y)) / y.size\n",
        "\n",
        "    #---------------------------------\n",
        "    def update(self):\n",
        "        # обновление весов\n",
        "        return self.weights - self.lr*self.grad\n",
        "\n",
        "    #---------------------------------\n",
        "    def init(self, weights_size):\n",
        "        # инициализируем веса\n",
        "        np.random.seed(self.seed)\n",
        "        return np.random.randn(weights_size)/np.sqrt(weights_size)\n",
        "\n",
        "    #---------------------------------\n",
        "    def predict(self, X):\n",
        "        # делем предсказание модели\n",
        "        yhat = self.forward(self.add_bias(X))\n",
        "        return yhat.squeeze()\n",
        "\n",
        "    #---------------------------------\n",
        "    def score(self, X, y):\n",
        "        # оценка по коэффициенту детерминации\n",
        "        yhat = self.predict(X)\n",
        "        return 1-np.sum(np.square(y-yhat))/np.sum(np.square(y-np.mean(y)))\n",
        "\n",
        "    #---------------------------------\n",
        "    def fit(self, X, y):\n",
        "        # обучение модели с учетом разбиения на батчи\n",
        "        np.random.seed(self.seed)\n",
        "\n",
        "        if self.weights is None: # если веса не заданы - задаем\n",
        "            self.weights = self.init(X.shape[1])\n",
        "\n",
        "        if self.bias is None: # если смещение не задано - задаем\n",
        "            self.bias    = self.init(1)\n",
        "\n",
        "        if self.weights.size == X.shape[1]: # если веса заданы, но не добавлено смещение - объединяем\n",
        "            self.weights = np.append(self.bias,self.weights)\n",
        "\n",
        "        self.grad    = np.zeros(self.weights.shape)\n",
        "        self.cost    = np.zeros(self.epochs)\n",
        "\n",
        "        if self.batch_size is None:   # проверка на согласование размерности батча и размерности данных\n",
        "            self.batch_size = y.size\n",
        "\n",
        "        if self.n_batches is None:\n",
        "            self.n_batches = y.size//self.batch_size\n",
        "\n",
        "        for i in range(self.epochs): #циклы обучения, как раньше\n",
        "            loss = 0\n",
        "            for cnt,(x_batch, y_batch) in enumerate(self.load_batch(X,y)):\n",
        "\n",
        "                yhat         = self.forward(x_batch)\n",
        "                self.grad    = self.grad_step(yhat,  y_batch, x_batch)\n",
        "                self.weights = self.update()\n",
        "                loss += self.loss(yhat,  y_batch)\n",
        "\n",
        "                if cnt>= self.n_batches:\n",
        "                    break\n",
        "            self.cost[i] = loss/self.n_batches\n",
        "\n",
        "        self.bias = self.weights[0]\n",
        "    #---------------------------------\n",
        "    def load_batch(self,X,y):\n",
        "        # загрузка батча\n",
        "        idxs = np.arange(y.size)\n",
        "        np.random.shuffle(idxs)\n",
        "\n",
        "        for i_batch in range(0,y.size,self.batch_size):\n",
        "            idx_batch = idxs[i_batch:i_batch+self.batch_size]\n",
        "            x_batch   = np.take(X, idx_batch,axis=0)\n",
        "            x_batch   = self.add_bias(x_batch) # тут мы всегда добавляем смещение\n",
        "            y_batch   = np.take(y, idx_batch)\n",
        "            yield  x_batch, y_batch\n",
        "\n",
        "    #---------------------------------\n",
        "    def add_bias(self, X):\n",
        "        # добавление смещения\n",
        "        return np.column_stack((np.ones(X.shape[0]), X))\n",
        "\n",
        "    #---------------------------------\n",
        "    def plot_cost(self, figsize = (12,6), title = 'Кривая обучения'):\n",
        "        # отрисовка сразу в методе\n",
        "        fig = go.Figure()\n",
        "            # рисуем с помощью библиотеки plotly\n",
        "        fig.add_trace(\n",
        "                go.Scatter(\n",
        "                y=self.cost,\n",
        "                mode='lines+markers',\n",
        "                name='Реальные данные',\n",
        "\n",
        "                )\n",
        "            )\n",
        "        fig.update_layout(\n",
        "                    title=title,\n",
        "                    width=1200,\n",
        "                    height=600,\n",
        "                template = \"plotly_dark\"\n",
        "                    )\n",
        "\n",
        "        fig.show()\n",
        "\n",
        "    #---------------------------------\n",
        "    def get_w_and_b(self):\n",
        "        # \"новый\" метод - который возвращает веса модели и смещение\n",
        "        return (self.weights[1:], self.bias)"
      ]
    },
    {
      "cell_type": "markdown",
      "source": [
        "# Полиномиальная Зависимость"
      ],
      "metadata": {
        "id": "EIgxJWcvWf_8"
      }
    },
    {
      "cell_type": "markdown",
      "source": [
        "Приминяем описанные в начале блокнота функции для генерации полиномиальной зависимости вида\n",
        "\n",
        "`y = -2*x^3+2x^2+1*x-1`, где `х` изменяется в диапазоне от `0` до `1.25`, в `х` - `250` точек, \"мощность\" шума `0.05`\n",
        "\n",
        "для этого запускаем функцию `dataset` с нужными параметрами\n",
        "\n",
        "*   `a = [1,2,-2]` (на первое число умножится `х`, на второе число умножится `х^2` и т.д.)\n",
        "*  ` b = -1 `(это число добавится к `a*х`)\n",
        "*   `f = None` (чтобы не было никаких других зависимостей)\n",
        "*   `N = 250` (число точек)\n",
        "*   `x_max =1` (максимальное значение `х`)\n",
        "*   `noise_power = 0.05` (мощность шума)\n",
        "*   `seed = 42` (фиксированный сид случайных чисел)\n",
        "                       \n",
        "\n",
        "а потом визуализируем данные с помощью функции `vis_data`"
      ],
      "metadata": {
        "id": "8C7ZUQb09WF7"
      }
    },
    {
      "cell_type": "code",
      "source": [
        "y, y_true, x = dataset(a = [1,2,-2], b = -1,\n",
        "                       f = None,  N = 250,\n",
        "                       x_max =1.25,\n",
        "                       noise_power = 0.05,\n",
        "                       seed = 42)\n",
        "vis_data_plotly(y, y_true,x, 'Полиномиальная зависимость')"
      ],
      "metadata": {
        "colab": {
          "base_uri": "https://localhost:8080/",
          "height": 617
        },
        "id": "UnbSf3bITcqs",
        "outputId": "bb725f30-f188-48ec-fe9d-e1635892dd2c"
      },
      "execution_count": null,
      "outputs": [
        {
          "output_type": "display_data",
          "data": {
            "text/html": [
              "<html>\n",
              "<head><meta charset=\"utf-8\" /></head>\n",
              "<body>\n",
              "    <div>            <script src=\"https://cdnjs.cloudflare.com/ajax/libs/mathjax/2.7.5/MathJax.js?config=TeX-AMS-MML_SVG\"></script><script type=\"text/javascript\">if (window.MathJax && window.MathJax.Hub && window.MathJax.Hub.Config) {window.MathJax.Hub.Config({SVG: {font: \"STIX-Web\"}});}</script>                <script type=\"text/javascript\">window.PlotlyConfig = {MathJaxConfig: 'local'};</script>\n",
              "        <script charset=\"utf-8\" src=\"https://cdn.plot.ly/plotly-2.24.1.min.js\"></script>                <div id=\"a1ce1df5-3c50-4d9d-aec8-5f921f87a890\" class=\"plotly-graph-div\" style=\"height:600px; width:1200px;\"></div>            <script type=\"text/javascript\">                                    window.PLOTLYENV=window.PLOTLYENV || {};                                    if (document.getElementById(\"a1ce1df5-3c50-4d9d-aec8-5f921f87a890\")) {                    Plotly.newPlot(                        \"a1ce1df5-3c50-4d9d-aec8-5f921f87a890\",                        [{\"marker\":{\"color\":\"Green\",\"size\":10},\"mode\":\"lines+markers\",\"name\":\"\\u0420\\u0435\\u0430\\u043b\\u044c\\u043d\\u044b\\u0435 \\u0434\\u0430\\u043d\\u043d\\u044b\\u0435\",\"x\":[0.0063269798077733586,0.006902646404502999,0.00869016316398838,0.01149631452078706,0.019320770661084286,0.02073478615982019,0.02573061786975306,0.0303949580393173,0.031773908430118986,0.039286482108417814,0.042985651394022995,0.046108684193165994,0.050968926943454895,0.05653411113817258,0.058063015899997156,0.06434843906248669,0.07260451521024933,0.07944793785752954,0.0813144912315994,0.09255581466761295,0.09318830459971353,0.09622488728599124,0.10517495624381104,0.11061562756489937,0.11286221256801038,0.11637845975737401,0.1170934597851156,0.12209014250797984,0.12683942858254013,0.13486428374163056,0.13756490565959595,0.14184190155073634,0.14483632440641214,0.14949280742287713,0.1498317091671035,0.15254779355597353,0.17190118018249156,0.1743673258150523,0.1761552812184533,0.18111859011402887,0.1949931504202533,0.19502330055304565,0.20101006427187332,0.20152660906750552,0.2020358926182672,0.2131551546091144,0.2179580362562393,0.22138834925881118,0.22728120900887577,0.22925563731679227,0.2310680694069088,0.2331481379998178,0.2332125736075448,0.24405373474755562,0.2449785780239315,0.2483946019177155,0.24959222769794967,0.2654238883478452,0.27763476308841284,0.28033663682569976,0.28311971899742244,0.2849189531774271,0.2859977068645281,0.2965613593710001,0.2970469299904996,0.2994523633337155,0.3023153636255646,0.30256908938937555,0.30498705422385447,0.3116152864360937,0.3147278697817052,0.3224270346439445,0.32347497700002115,0.3315029596021568,0.33918628971736986,0.3483080802957643,0.35096545305106974,0.35116813710922595,0.3560506179718345,0.36218931614221006,0.3640364252475524,0.3651808106690227,0.37609788727096205,0.38030280369942215,0.38076721146671333,0.38872790214457775,0.3896388451117637,0.39294497634540837,0.39750434371482984,0.4009750812146698,0.40400366502594404,0.4064791525334338,0.40666291345408045,0.40674962269908466,0.4136225310658115,0.42201896425453495,0.4237872388108759,0.42633293881282314,0.4365119682658261,0.4459416583669866,0.4480821606803408,0.4545370029741175,0.45795230411711463,0.45964475382429193,0.4597289158990665,0.46269837531930547,0.4681751485592031,0.48341918287567176,0.48584661211185254,0.4913721558334505,0.5129786537945371,0.5217637539359737,0.5338847357828204,0.534426272948187,0.5352301853966429,0.5399312733026447,0.5501906171745017,0.570087480271295,0.5902686564524366,0.6118159503469538,0.6156471172735799,0.6172444954554884,0.6189711376390877,0.6215606323654819,0.6282963663814901,0.6283487790360769,0.6357133639558785,0.6384341282219572,0.6401163228741013,0.6427930480170145,0.6484882771792077,0.6500850264722635,0.6534160367274926,0.6559455395402973,0.6620632229450081,0.6697183550934481,0.6741778023945634,0.6783701039478106,0.6833878491790996,0.6859172367082327,0.6940010144993279,0.7015964969618703,0.7103857541693395,0.7211298557829489,0.7386161789853023,0.7405182110775531,0.7473749735138564,0.7483231052462957,0.751393764679011,0.7580363245744874,0.7594310648767979,0.761955417474871,0.7648161184029744,0.7791226585344474,0.7889232824965786,0.7903822882419743,0.791376821591585,0.7917546956380294,0.7919121384511184,0.7955130140797255,0.7969468391940164,0.8025395576928597,0.8064659880118124,0.8068403698839598,0.8120411238090184,0.8149515743782507,0.8220161153754292,0.8249800575427237,0.8281528554424775,0.8293772113850697,0.8401694342573482,0.8469554523028531,0.8552912831401961,0.8636721726280825,0.8648689971158665,0.8787736986189723,0.8835716798095214,0.8850907222450568,0.8902240266844198,0.8915559840287437,0.9030651440768817,0.9074445985877992,0.9102704357648245,0.9112589600512342,0.91200772292258,0.9149924272642563,0.9331142563975302,0.9444389231788108,0.9509813107711218,0.9520245191608969,0.9637089749432013,0.9640879333574321,0.9653059616208217,0.9689160292013932,0.9748444323220298,0.981469951741267,0.9935141294270605,1.0027462259425497,1.0045900961238932,1.009300193955078,1.0101504744555212,1.0104966851455763,1.0193267855685426,1.0215277502515199,1.0225184574031163,1.0359218864399118,1.0405533010005272,1.0441281194865475,1.0615292631177224,1.0662618193342002,1.0759132290704292,1.078879282344492,1.082720182218669,1.0893257377346472,1.0966741917262262,1.1088580303313966,1.1090159282204082,1.1150581939713917,1.1156987481124723,1.118534188034561,1.1201141249043665,1.1213878249407214,1.1215196974416584,1.1231927356588491,1.125522571454163,1.1344580924076162,1.1353323574583172,1.1366505025984777,1.1435804877755607,1.152342793778896,1.1558670228482035,1.1603982032346567,1.1621220654282163,1.1709124859209181,1.1743736769552364,1.1755732304411428,1.178637129890649,1.1861069215666666,1.188392883012395,1.1924107212532342,1.203059118677639,1.204524971361566,1.2070400413431992,1.208318523804587,1.2119807847056983,1.2123873152024929,1.214727603401201,1.216263193440557,1.232063067638251,1.2336086707506466],\"y\":[-0.9935934653917764,-0.9930027183149877,-0.9911601115081266,-0.9882423938106005,-0.9799470695661969,-0.9784231801954983,-0.972979323405722,-0.9678134959874253,-0.9662710857408505,-0.9577479342262655,-0.9534776710241172,-0.9498353494080499,-0.9441002273982838,-0.9374350554096754,-0.9355858537645315,-0.9279030156623194,-0.9176181106843383,-0.9089310592509174,-0.9065367261916265,-0.8918968010396412,-0.8910620808501113,-0.8870385913685104,-0.8750283435647556,-0.8676196834780188,-0.8645372798010349,-0.8596860955763392,-0.8586956919253923,-0.8517376037327717,-0.8450653366313192,-0.8336648905415425,-0.8297934727639587,-0.823627318283359,-0.8192851794806071,-0.8124927538957989,-0.8119965149066759,-0.8080103751400346,-0.7791581534842723,-0.7754276614636445,-0.7727157899954104,-0.7651563305769598,-0.7437903794813884,-0.7437435905861614,-0.7344234856130063,-0.7336166325421278,-0.7328207085054754,-0.7153440655474838,-0.70773905319984,-0.7022877746610263,-0.6928865113175631,-0.6897265712842434,-0.6868216071265358,-0.6834827117632765,-0.6833791970580165,-0.6658945815030644,-0.6643969501446974,-0.6588574749570164,-0.6569125467160993,-0.6310745718417872,-0.6110038781548413,-0.6065486477048312,-0.6019546578211777,-0.59898219012537,-0.597199103065104,-0.5797056972755761,-0.5789003005860571,-0.5749090165563697,-0.5701554490247251,-0.5697340254826904,-0.5657167639095924,-0.5546947756902139,-0.5495147433815453,-0.5366930884501544,-0.5349471961954801,-0.5215691291393277,-0.5087639922223969,-0.4935673228802284,-0.48914261567972517,-0.48880519135551914,-0.4806798251006593,-0.4704732687292623,-0.4674045850338371,-0.4655039929858844,-0.4474006781932751,-0.4404433095313862,-0.43967550483358653,-0.42653420008912557,-0.42503301081583766,-0.41958944583258995,-0.4120953365404031,-0.4064012489754736,-0.40144052944307274,-0.39739152559428836,-0.39709117129388605,-0.3969494567267443,-0.3857383343506474,-0.3721041836569813,-0.3692421806388245,-0.3651278695795416,-0.3487509715244088,-0.3336938669012095,-0.3302923358889801,-0.3200734461461464,-0.31469087116667205,-0.31202997441655045,-0.3118977662820721,-0.30724004442785846,-0.29868563256393044,-0.2751370322705651,-0.2714247298532204,-0.26301492143661065,-0.2307048371529825,-0.21784864736369514,-0.20039888287947916,-0.19962736069946585,-0.1984833408820923,-0.1918249379902659,-0.17748604246254662,-0.15046960961932676,-0.12421654137663896,-0.09757490766951848,-0.09299696806588087,-0.09110287791452676,-0.08906529140788932,-0.08602863864415355,-0.07823891356305457,-0.07817892440990937,-0.06984724049641133,-0.06681872096536423,-0.06495979056379886,-0.06202334149952793,-0.05586431997583097,-0.054159460544320526,-0.050634172293937185,-0.04798558466938285,-0.041682669037350184,-0.034004031054305495,-0.0296395831428774,-0.025610746694286313,-0.020884400830356364,-0.01854190381302523,-0.011237868969154796,-0.004632628116710946,0.0026922075326831774,0.01117057247397879,0.023814083903747507,0.0251008260281389,0.02959216771290407,0.030194920269673187,0.03211624105943178,0.0361102085653211,0.03692037539438031,0.03836138828066993,0.03995477580000273,0.047281938927238976,0.051671557507205534,0.05228040198859585,0.052688732421950046,0.05284245342119043,0.052906270140722356,0.054328493222642216,0.05487481801715943,0.0568961498232492,0.05821014980854122,0.05833087917896207,0.059925344663136704,0.06074994312604565,0.06254727256038684,0.06321443627041012,0.0638711678400814,0.0641086322879072,0.0658133292081795,0.06652342610205042,0.0670068443173013,0.06705410204517914,0.06702454019314508,0.06600607566937011,0.0653626059239254,0.06512726616571629,0.06421868481032278,0.06395422351348623,0.06117106157736907,0.05987514421371598,0.058968881719281496,0.05863881770408996,0.05838429896995834,0.05733100135339453,0.04958938667657309,0.043555981575011504,0.03964292899374344,0.03898973901236302,0.031118464412490887,0.030845990419431146,0.02996285396638565,0.027279185324484923,0.022656194353684045,0.017169322559224653,0.006318150180554483,-0.002776434392996574,-0.004674565470908831,-0.00964777720013954,-0.010564694632250848,-0.010939719799673675,-0.02083532219145212,-0.0234014801897926,-0.024569618458746056,-0.041176120047496045,-0.047264967391146495,-0.052089143777840796,-0.0771385451455604,-0.08440619623167489,-0.09983945076069745,-0.10474861158785842,-0.11122274336423565,-0.12266756316281313,-0.13586480364034514,-0.15883826412802593,-0.15914501226849032,-0.17105811599996068,-0.17234108260845415,-0.1780664975092936,-0.18128960668287908,-0.18390514129882707,-0.18417681661111507,-0.18763779295082017,-0.19250168140195534,-0.2116357368174011,-0.21354892819451132,-0.21644739006040048,-0.2319618395302534,-0.2522473437366086,-0.26061856984916965,-0.27156185400459076,-0.2757786132200555,-0.29774187315697187,-0.30660246835851357,-0.3097014939243721,-0.31768308558896496,-0.3375419856986781,-0.3437332310704777,-0.3547450793073632,-0.38473661697706296,-0.3889575758700148,-0.3962521386013007,-0.3999855876118521,-0.4107752718399933,-0.4119816937377747,-0.4189606745316743,-0.42357142791936697,-0.4724708459375391,-0.4773981720906302],\"type\":\"scatter\"},{\"marker\":{\"color\":\"LightSkyBlue\",\"line\":{\"color\":\"Blue\",\"width\":3},\"size\":15},\"mode\":\"markers\",\"name\":\"\\u0417\\u0430\\u0448\\u0443\\u043c\\u043b\\u0435\\u043d\\u043d\\u044b\\u0435 \\u0434\\u0430\\u043d\\u043d\\u044b\\u0435\",\"opacity\":0.5,\"x\":[0.0063269798077733586,0.006902646404502999,0.00869016316398838,0.01149631452078706,0.019320770661084286,0.02073478615982019,0.02573061786975306,0.0303949580393173,0.031773908430118986,0.039286482108417814,0.042985651394022995,0.046108684193165994,0.050968926943454895,0.05653411113817258,0.058063015899997156,0.06434843906248669,0.07260451521024933,0.07944793785752954,0.0813144912315994,0.09255581466761295,0.09318830459971353,0.09622488728599124,0.10517495624381104,0.11061562756489937,0.11286221256801038,0.11637845975737401,0.1170934597851156,0.12209014250797984,0.12683942858254013,0.13486428374163056,0.13756490565959595,0.14184190155073634,0.14483632440641214,0.14949280742287713,0.1498317091671035,0.15254779355597353,0.17190118018249156,0.1743673258150523,0.1761552812184533,0.18111859011402887,0.1949931504202533,0.19502330055304565,0.20101006427187332,0.20152660906750552,0.2020358926182672,0.2131551546091144,0.2179580362562393,0.22138834925881118,0.22728120900887577,0.22925563731679227,0.2310680694069088,0.2331481379998178,0.2332125736075448,0.24405373474755562,0.2449785780239315,0.2483946019177155,0.24959222769794967,0.2654238883478452,0.27763476308841284,0.28033663682569976,0.28311971899742244,0.2849189531774271,0.2859977068645281,0.2965613593710001,0.2970469299904996,0.2994523633337155,0.3023153636255646,0.30256908938937555,0.30498705422385447,0.3116152864360937,0.3147278697817052,0.3224270346439445,0.32347497700002115,0.3315029596021568,0.33918628971736986,0.3483080802957643,0.35096545305106974,0.35116813710922595,0.3560506179718345,0.36218931614221006,0.3640364252475524,0.3651808106690227,0.37609788727096205,0.38030280369942215,0.38076721146671333,0.38872790214457775,0.3896388451117637,0.39294497634540837,0.39750434371482984,0.4009750812146698,0.40400366502594404,0.4064791525334338,0.40666291345408045,0.40674962269908466,0.4136225310658115,0.42201896425453495,0.4237872388108759,0.42633293881282314,0.4365119682658261,0.4459416583669866,0.4480821606803408,0.4545370029741175,0.45795230411711463,0.45964475382429193,0.4597289158990665,0.46269837531930547,0.4681751485592031,0.48341918287567176,0.48584661211185254,0.4913721558334505,0.5129786537945371,0.5217637539359737,0.5338847357828204,0.534426272948187,0.5352301853966429,0.5399312733026447,0.5501906171745017,0.570087480271295,0.5902686564524366,0.6118159503469538,0.6156471172735799,0.6172444954554884,0.6189711376390877,0.6215606323654819,0.6282963663814901,0.6283487790360769,0.6357133639558785,0.6384341282219572,0.6401163228741013,0.6427930480170145,0.6484882771792077,0.6500850264722635,0.6534160367274926,0.6559455395402973,0.6620632229450081,0.6697183550934481,0.6741778023945634,0.6783701039478106,0.6833878491790996,0.6859172367082327,0.6940010144993279,0.7015964969618703,0.7103857541693395,0.7211298557829489,0.7386161789853023,0.7405182110775531,0.7473749735138564,0.7483231052462957,0.751393764679011,0.7580363245744874,0.7594310648767979,0.761955417474871,0.7648161184029744,0.7791226585344474,0.7889232824965786,0.7903822882419743,0.791376821591585,0.7917546956380294,0.7919121384511184,0.7955130140797255,0.7969468391940164,0.8025395576928597,0.8064659880118124,0.8068403698839598,0.8120411238090184,0.8149515743782507,0.8220161153754292,0.8249800575427237,0.8281528554424775,0.8293772113850697,0.8401694342573482,0.8469554523028531,0.8552912831401961,0.8636721726280825,0.8648689971158665,0.8787736986189723,0.8835716798095214,0.8850907222450568,0.8902240266844198,0.8915559840287437,0.9030651440768817,0.9074445985877992,0.9102704357648245,0.9112589600512342,0.91200772292258,0.9149924272642563,0.9331142563975302,0.9444389231788108,0.9509813107711218,0.9520245191608969,0.9637089749432013,0.9640879333574321,0.9653059616208217,0.9689160292013932,0.9748444323220298,0.981469951741267,0.9935141294270605,1.0027462259425497,1.0045900961238932,1.009300193955078,1.0101504744555212,1.0104966851455763,1.0193267855685426,1.0215277502515199,1.0225184574031163,1.0359218864399118,1.0405533010005272,1.0441281194865475,1.0615292631177224,1.0662618193342002,1.0759132290704292,1.078879282344492,1.082720182218669,1.0893257377346472,1.0966741917262262,1.1088580303313966,1.1090159282204082,1.1150581939713917,1.1156987481124723,1.118534188034561,1.1201141249043665,1.1213878249407214,1.1215196974416584,1.1231927356588491,1.125522571454163,1.1344580924076162,1.1353323574583172,1.1366505025984777,1.1435804877755607,1.152342793778896,1.1558670228482035,1.1603982032346567,1.1621220654282163,1.1709124859209181,1.1743736769552364,1.1755732304411428,1.178637129890649,1.1861069215666666,1.188392883012395,1.1924107212532342,1.203059118677639,1.204524971361566,1.2070400413431992,1.208318523804587,1.2119807847056983,1.2123873152024929,1.214727603401201,1.216263193440557,1.232063067638251,1.2336086707506466],\"y\":[-1.0359331512951966,-1.0687450795492808,-1.0134858591114777,-0.9454224540944269,-0.9692423823596867,-1.0407101191310977,-0.9643202771131629,-0.9485476270009834,-1.0104639575509071,-0.9500616789289891,-0.9505672351018172,-1.006983864299581,-0.9262108593808697,-0.9093958290912637,-0.8814332916057677,-0.8752129130605742,-0.9865015790821928,-0.9558223112466736,-0.8807849628311936,-0.8662075034940308,-0.8653096965348089,-0.6944020168357743,-0.8464838180300972,-0.8108414014689889,-0.8168371916263748,-0.8271165330110494,-0.8744591541574096,-0.8137891427081083,-0.8837065973581978,-0.8455058208785429,-0.8540616501554138,-0.8195336113140429,-0.7035522511469317,-0.9058560135253864,-0.7776835053879503,-0.8886461686995172,-0.802754746773744,-0.7209801316152762,-0.7695017890406373,-0.819043569473425,-0.7795555649443868,-0.7097637031394276,-0.7709418171988631,-0.722793703063029,-0.7305421165102848,-0.7479240829277746,-0.6005418487335736,-0.6705918235451258,-0.7941436406504434,-0.680403855545772,-0.7199109303649552,-0.6408610450234653,-0.7230052339796516,-0.6716314035764093,-0.6391475861956745,-0.6155697152485103,-0.7169273670688882,-0.6477996336338346,-0.6347511437128891,-0.6392151093335168,-0.5136819458071229,-0.5787331045773222,-0.6602433007818563,-0.5338125999228372,-0.47279249073542545,-0.5232857535288123,-0.6461239473224258,-0.593945729126003,-0.5023712064502612,-0.5900782489711529,-0.5273237719742339,-0.49796138577868754,-0.5812937197743843,-0.5245453969424178,-0.6708273592258505,-0.5447867049469429,-0.5017710232493832,-0.5511943504537616,-0.39905925990407753,-0.5419803376272939,-0.4894068093686863,-0.45896696412157983,-0.3753370137399693,-0.5122364170903582,-0.38151731722583854,-0.42602254703814624,-0.4741084433682352,-0.3964842721194264,-0.4021423517617296,-0.4364120928334133,-0.39795042519357177,-0.4166572054373764,-0.39141530403132363,-0.363842923000692,-0.3064374935433798,-0.4339949585983237,-0.2625905119060112,-0.46273225955566666,-0.356340226276188,-0.3042780065769807,-0.31624274250222845,-0.3512084221371761,-0.3250969836845358,-0.3366800211494921,-0.3413660041292827,-0.2647599395768072,-0.28083485826567806,-0.3097825120335978,-0.22644473608155788,-0.24764994539278018,-0.1900617312110345,-0.18636720526751452,-0.24184863342558277,-0.22763641270931434,-0.1611186606259292,-0.16130642471859266,-0.17853112216075404,-0.14460324045388767,-0.060333296587217713,-0.12715347711130998,-0.06564209900737897,-0.10121251053622146,-0.09994935156925033,-0.031089796044794046,-0.03696809611365307,-0.03750344260987744,-0.004573300138694877,-0.06576852888372628,-0.030862141999050664,-0.07753667932920073,-0.039656002351408856,-0.060666613262704755,-0.045784374044301274,-0.01822773339753717,-0.08259370319902382,0.07061533272996752,-0.0799404522178625,-0.08632017733367292,0.037021142844647026,0.021041230885121567,0.019968121883452962,0.02678464734650305,0.002079868890337446,-0.03369214610031279,0.027604311813433823,-0.008757259547466686,0.07834815438379164,0.022842051194566254,-0.009158618780193799,0.020040916482671426,0.05756694810816153,0.010175160640471193,-0.0011562439783188438,0.05946629950183459,0.06391988606264168,0.026933243220039357,0.029136817141033906,0.06444495028907224,-0.019497946934143848,-0.01604469549618555,0.018952606954537633,0.04622379223765684,0.07375552808844145,0.13209869002643967,0.10280832582323768,0.052753016627874294,0.06159646216525239,0.013087968038519679,0.06294551104046191,0.04967570034190028,0.08194925722508398,0.02516187892443427,0.09297417002935993,0.14369104769530805,0.061586532770302196,0.08609166177431718,0.09986980550948102,0.04506624257142448,0.07542330890084362,0.06458384355257597,0.06605486650481066,0.021224655020942652,0.060194390432228635,0.08353873226636245,0.13094147935971043,0.10529454265765487,0.15724850955215092,0.005188603430609028,0.08325896082977735,0.04815683929928061,0.14060861107337452,-0.00956892384832643,-0.012023238142653159,-0.002690446947716186,-0.0835385918618063,-0.009118428524813399,-0.03163848289713042,0.004743254930813808,0.012413233317949142,0.08416076476065477,0.036956497277051664,-0.03978490258279383,-0.06575605575887003,0.001194478385532688,-0.09058127880977816,0.050396818245221645,0.011707038644917858,-0.07554792638307603,-0.16279527160010426,-0.016712577523404243,-0.10556644302332834,-0.04285779598918533,-0.19094412630395402,-0.15263631431050179,-0.13560261865443599,-0.15648923443978882,-0.1816482858424525,-0.13991561938258573,-0.22572210407758386,-0.18518547176035827,-0.17527482509728415,-0.1581831995958896,-0.14859607270667058,-0.24386989754271363,-0.26920738993873644,-0.14775189572247566,-0.19693322759553175,-0.2538717168882282,-0.15440424075412723,-0.24646361202196568,-0.2016537106459783,-0.2681859299340853,-0.17274121697595612,-0.20997483103481163,-0.31905067578246726,-0.2611229463766543,-0.2854142881097076,-0.26911040782206064,-0.39197940409948295,-0.32044250630744125,-0.3318153926345836,-0.4768945501911705,-0.45541506423458944,-0.5019471964998572,-0.4242456135622212,-0.3761045809479766,-0.3438428219268729,-0.4198666888983782,-0.39104006865897445,-0.5464032450013747],\"type\":\"scatter\"}],                        {\"template\":{\"data\":{\"barpolar\":[{\"marker\":{\"line\":{\"color\":\"rgb(17,17,17)\",\"width\":0.5},\"pattern\":{\"fillmode\":\"overlay\",\"size\":10,\"solidity\":0.2}},\"type\":\"barpolar\"}],\"bar\":[{\"error_x\":{\"color\":\"#f2f5fa\"},\"error_y\":{\"color\":\"#f2f5fa\"},\"marker\":{\"line\":{\"color\":\"rgb(17,17,17)\",\"width\":0.5},\"pattern\":{\"fillmode\":\"overlay\",\"size\":10,\"solidity\":0.2}},\"type\":\"bar\"}],\"carpet\":[{\"aaxis\":{\"endlinecolor\":\"#A2B1C6\",\"gridcolor\":\"#506784\",\"linecolor\":\"#506784\",\"minorgridcolor\":\"#506784\",\"startlinecolor\":\"#A2B1C6\"},\"baxis\":{\"endlinecolor\":\"#A2B1C6\",\"gridcolor\":\"#506784\",\"linecolor\":\"#506784\",\"minorgridcolor\":\"#506784\",\"startlinecolor\":\"#A2B1C6\"},\"type\":\"carpet\"}],\"choropleth\":[{\"colorbar\":{\"outlinewidth\":0,\"ticks\":\"\"},\"type\":\"choropleth\"}],\"contourcarpet\":[{\"colorbar\":{\"outlinewidth\":0,\"ticks\":\"\"},\"type\":\"contourcarpet\"}],\"contour\":[{\"colorbar\":{\"outlinewidth\":0,\"ticks\":\"\"},\"colorscale\":[[0.0,\"#0d0887\"],[0.1111111111111111,\"#46039f\"],[0.2222222222222222,\"#7201a8\"],[0.3333333333333333,\"#9c179e\"],[0.4444444444444444,\"#bd3786\"],[0.5555555555555556,\"#d8576b\"],[0.6666666666666666,\"#ed7953\"],[0.7777777777777778,\"#fb9f3a\"],[0.8888888888888888,\"#fdca26\"],[1.0,\"#f0f921\"]],\"type\":\"contour\"}],\"heatmapgl\":[{\"colorbar\":{\"outlinewidth\":0,\"ticks\":\"\"},\"colorscale\":[[0.0,\"#0d0887\"],[0.1111111111111111,\"#46039f\"],[0.2222222222222222,\"#7201a8\"],[0.3333333333333333,\"#9c179e\"],[0.4444444444444444,\"#bd3786\"],[0.5555555555555556,\"#d8576b\"],[0.6666666666666666,\"#ed7953\"],[0.7777777777777778,\"#fb9f3a\"],[0.8888888888888888,\"#fdca26\"],[1.0,\"#f0f921\"]],\"type\":\"heatmapgl\"}],\"heatmap\":[{\"colorbar\":{\"outlinewidth\":0,\"ticks\":\"\"},\"colorscale\":[[0.0,\"#0d0887\"],[0.1111111111111111,\"#46039f\"],[0.2222222222222222,\"#7201a8\"],[0.3333333333333333,\"#9c179e\"],[0.4444444444444444,\"#bd3786\"],[0.5555555555555556,\"#d8576b\"],[0.6666666666666666,\"#ed7953\"],[0.7777777777777778,\"#fb9f3a\"],[0.8888888888888888,\"#fdca26\"],[1.0,\"#f0f921\"]],\"type\":\"heatmap\"}],\"histogram2dcontour\":[{\"colorbar\":{\"outlinewidth\":0,\"ticks\":\"\"},\"colorscale\":[[0.0,\"#0d0887\"],[0.1111111111111111,\"#46039f\"],[0.2222222222222222,\"#7201a8\"],[0.3333333333333333,\"#9c179e\"],[0.4444444444444444,\"#bd3786\"],[0.5555555555555556,\"#d8576b\"],[0.6666666666666666,\"#ed7953\"],[0.7777777777777778,\"#fb9f3a\"],[0.8888888888888888,\"#fdca26\"],[1.0,\"#f0f921\"]],\"type\":\"histogram2dcontour\"}],\"histogram2d\":[{\"colorbar\":{\"outlinewidth\":0,\"ticks\":\"\"},\"colorscale\":[[0.0,\"#0d0887\"],[0.1111111111111111,\"#46039f\"],[0.2222222222222222,\"#7201a8\"],[0.3333333333333333,\"#9c179e\"],[0.4444444444444444,\"#bd3786\"],[0.5555555555555556,\"#d8576b\"],[0.6666666666666666,\"#ed7953\"],[0.7777777777777778,\"#fb9f3a\"],[0.8888888888888888,\"#fdca26\"],[1.0,\"#f0f921\"]],\"type\":\"histogram2d\"}],\"histogram\":[{\"marker\":{\"pattern\":{\"fillmode\":\"overlay\",\"size\":10,\"solidity\":0.2}},\"type\":\"histogram\"}],\"mesh3d\":[{\"colorbar\":{\"outlinewidth\":0,\"ticks\":\"\"},\"type\":\"mesh3d\"}],\"parcoords\":[{\"line\":{\"colorbar\":{\"outlinewidth\":0,\"ticks\":\"\"}},\"type\":\"parcoords\"}],\"pie\":[{\"automargin\":true,\"type\":\"pie\"}],\"scatter3d\":[{\"line\":{\"colorbar\":{\"outlinewidth\":0,\"ticks\":\"\"}},\"marker\":{\"colorbar\":{\"outlinewidth\":0,\"ticks\":\"\"}},\"type\":\"scatter3d\"}],\"scattercarpet\":[{\"marker\":{\"colorbar\":{\"outlinewidth\":0,\"ticks\":\"\"}},\"type\":\"scattercarpet\"}],\"scattergeo\":[{\"marker\":{\"colorbar\":{\"outlinewidth\":0,\"ticks\":\"\"}},\"type\":\"scattergeo\"}],\"scattergl\":[{\"marker\":{\"line\":{\"color\":\"#283442\"}},\"type\":\"scattergl\"}],\"scattermapbox\":[{\"marker\":{\"colorbar\":{\"outlinewidth\":0,\"ticks\":\"\"}},\"type\":\"scattermapbox\"}],\"scatterpolargl\":[{\"marker\":{\"colorbar\":{\"outlinewidth\":0,\"ticks\":\"\"}},\"type\":\"scatterpolargl\"}],\"scatterpolar\":[{\"marker\":{\"colorbar\":{\"outlinewidth\":0,\"ticks\":\"\"}},\"type\":\"scatterpolar\"}],\"scatter\":[{\"marker\":{\"line\":{\"color\":\"#283442\"}},\"type\":\"scatter\"}],\"scatterternary\":[{\"marker\":{\"colorbar\":{\"outlinewidth\":0,\"ticks\":\"\"}},\"type\":\"scatterternary\"}],\"surface\":[{\"colorbar\":{\"outlinewidth\":0,\"ticks\":\"\"},\"colorscale\":[[0.0,\"#0d0887\"],[0.1111111111111111,\"#46039f\"],[0.2222222222222222,\"#7201a8\"],[0.3333333333333333,\"#9c179e\"],[0.4444444444444444,\"#bd3786\"],[0.5555555555555556,\"#d8576b\"],[0.6666666666666666,\"#ed7953\"],[0.7777777777777778,\"#fb9f3a\"],[0.8888888888888888,\"#fdca26\"],[1.0,\"#f0f921\"]],\"type\":\"surface\"}],\"table\":[{\"cells\":{\"fill\":{\"color\":\"#506784\"},\"line\":{\"color\":\"rgb(17,17,17)\"}},\"header\":{\"fill\":{\"color\":\"#2a3f5f\"},\"line\":{\"color\":\"rgb(17,17,17)\"}},\"type\":\"table\"}]},\"layout\":{\"annotationdefaults\":{\"arrowcolor\":\"#f2f5fa\",\"arrowhead\":0,\"arrowwidth\":1},\"autotypenumbers\":\"strict\",\"coloraxis\":{\"colorbar\":{\"outlinewidth\":0,\"ticks\":\"\"}},\"colorscale\":{\"diverging\":[[0,\"#8e0152\"],[0.1,\"#c51b7d\"],[0.2,\"#de77ae\"],[0.3,\"#f1b6da\"],[0.4,\"#fde0ef\"],[0.5,\"#f7f7f7\"],[0.6,\"#e6f5d0\"],[0.7,\"#b8e186\"],[0.8,\"#7fbc41\"],[0.9,\"#4d9221\"],[1,\"#276419\"]],\"sequential\":[[0.0,\"#0d0887\"],[0.1111111111111111,\"#46039f\"],[0.2222222222222222,\"#7201a8\"],[0.3333333333333333,\"#9c179e\"],[0.4444444444444444,\"#bd3786\"],[0.5555555555555556,\"#d8576b\"],[0.6666666666666666,\"#ed7953\"],[0.7777777777777778,\"#fb9f3a\"],[0.8888888888888888,\"#fdca26\"],[1.0,\"#f0f921\"]],\"sequentialminus\":[[0.0,\"#0d0887\"],[0.1111111111111111,\"#46039f\"],[0.2222222222222222,\"#7201a8\"],[0.3333333333333333,\"#9c179e\"],[0.4444444444444444,\"#bd3786\"],[0.5555555555555556,\"#d8576b\"],[0.6666666666666666,\"#ed7953\"],[0.7777777777777778,\"#fb9f3a\"],[0.8888888888888888,\"#fdca26\"],[1.0,\"#f0f921\"]]},\"colorway\":[\"#636efa\",\"#EF553B\",\"#00cc96\",\"#ab63fa\",\"#FFA15A\",\"#19d3f3\",\"#FF6692\",\"#B6E880\",\"#FF97FF\",\"#FECB52\"],\"font\":{\"color\":\"#f2f5fa\"},\"geo\":{\"bgcolor\":\"rgb(17,17,17)\",\"lakecolor\":\"rgb(17,17,17)\",\"landcolor\":\"rgb(17,17,17)\",\"showlakes\":true,\"showland\":true,\"subunitcolor\":\"#506784\"},\"hoverlabel\":{\"align\":\"left\"},\"hovermode\":\"closest\",\"mapbox\":{\"style\":\"dark\"},\"paper_bgcolor\":\"rgb(17,17,17)\",\"plot_bgcolor\":\"rgb(17,17,17)\",\"polar\":{\"angularaxis\":{\"gridcolor\":\"#506784\",\"linecolor\":\"#506784\",\"ticks\":\"\"},\"bgcolor\":\"rgb(17,17,17)\",\"radialaxis\":{\"gridcolor\":\"#506784\",\"linecolor\":\"#506784\",\"ticks\":\"\"}},\"scene\":{\"xaxis\":{\"backgroundcolor\":\"rgb(17,17,17)\",\"gridcolor\":\"#506784\",\"gridwidth\":2,\"linecolor\":\"#506784\",\"showbackground\":true,\"ticks\":\"\",\"zerolinecolor\":\"#C8D4E3\"},\"yaxis\":{\"backgroundcolor\":\"rgb(17,17,17)\",\"gridcolor\":\"#506784\",\"gridwidth\":2,\"linecolor\":\"#506784\",\"showbackground\":true,\"ticks\":\"\",\"zerolinecolor\":\"#C8D4E3\"},\"zaxis\":{\"backgroundcolor\":\"rgb(17,17,17)\",\"gridcolor\":\"#506784\",\"gridwidth\":2,\"linecolor\":\"#506784\",\"showbackground\":true,\"ticks\":\"\",\"zerolinecolor\":\"#C8D4E3\"}},\"shapedefaults\":{\"line\":{\"color\":\"#f2f5fa\"}},\"sliderdefaults\":{\"bgcolor\":\"#C8D4E3\",\"bordercolor\":\"rgb(17,17,17)\",\"borderwidth\":1,\"tickwidth\":0},\"ternary\":{\"aaxis\":{\"gridcolor\":\"#506784\",\"linecolor\":\"#506784\",\"ticks\":\"\"},\"baxis\":{\"gridcolor\":\"#506784\",\"linecolor\":\"#506784\",\"ticks\":\"\"},\"bgcolor\":\"rgb(17,17,17)\",\"caxis\":{\"gridcolor\":\"#506784\",\"linecolor\":\"#506784\",\"ticks\":\"\"}},\"title\":{\"x\":0.05},\"updatemenudefaults\":{\"bgcolor\":\"#506784\",\"borderwidth\":0},\"xaxis\":{\"automargin\":true,\"gridcolor\":\"#283442\",\"linecolor\":\"#506784\",\"ticks\":\"\",\"title\":{\"standoff\":15},\"zerolinecolor\":\"#283442\",\"zerolinewidth\":2},\"yaxis\":{\"automargin\":true,\"gridcolor\":\"#283442\",\"linecolor\":\"#506784\",\"ticks\":\"\",\"title\":{\"standoff\":15},\"zerolinecolor\":\"#283442\",\"zerolinewidth\":2}}},\"title\":{\"text\":\"\\u041f\\u043e\\u043b\\u0438\\u043d\\u043e\\u043c\\u0438\\u0430\\u043b\\u044c\\u043d\\u0430\\u044f \\u0437\\u0430\\u0432\\u0438\\u0441\\u0438\\u043c\\u043e\\u0441\\u0442\\u044c\"},\"width\":1200,\"height\":600},                        {\"responsive\": true}                    ).then(function(){\n",
              "                            \n",
              "var gd = document.getElementById('a1ce1df5-3c50-4d9d-aec8-5f921f87a890');\n",
              "var x = new MutationObserver(function (mutations, observer) {{\n",
              "        var display = window.getComputedStyle(gd).display;\n",
              "        if (!display || display === 'none') {{\n",
              "            console.log([gd, 'removed!']);\n",
              "            Plotly.purge(gd);\n",
              "            observer.disconnect();\n",
              "        }}\n",
              "}});\n",
              "\n",
              "// Listen for the removal of the full notebook cells\n",
              "var notebookContainer = gd.closest('#notebook-container');\n",
              "if (notebookContainer) {{\n",
              "    x.observe(notebookContainer, {childList: true});\n",
              "}}\n",
              "\n",
              "// Listen for the clearing of the current output cell\n",
              "var outputEl = gd.closest('.output');\n",
              "if (outputEl) {{\n",
              "    x.observe(outputEl, {childList: true});\n",
              "}}\n",
              "\n",
              "                        })                };                            </script>        </div>\n",
              "</body>\n",
              "</html>"
            ]
          },
          "metadata": {}
        }
      ]
    },
    {
      "cell_type": "markdown",
      "source": [
        "Не забываем про разбиение данных на тренировочную и валидационную"
      ],
      "metadata": {
        "id": "ZJNpyzxd-G9T"
      }
    },
    {
      "cell_type": "code",
      "source": [
        "x_train, x_test, y_train, y_test = train_test_split(x, y,  test_size=0.3, )"
      ],
      "metadata": {
        "id": "sgXlhNTpWyuk"
      },
      "execution_count": null,
      "outputs": []
    },
    {
      "cell_type": "markdown",
      "source": [
        "Используем написанный ранее класс для этих данных"
      ],
      "metadata": {
        "id": "LuBpysKq-L-C"
      }
    },
    {
      "cell_type": "code",
      "source": [
        "# Создаем экземпляр класса\n",
        "regr_poly_lin = LinearRegression(learning_rate=0.1,\n",
        "                        epochs=10,batch_size=10,\n",
        "                        n_batches=None)\n",
        "# Применяем метод fit\n",
        "regr_poly_lin.fit(x_train, y_train)\n",
        "\n",
        "print(f'Коэффициент детерминации на тренировочных данных = {regr_poly_lin.score(x_train, y_train):.2f}')\n",
        "regr_poly_lin.plot_cost()"
      ],
      "metadata": {
        "id": "AI-wIA__W-KA",
        "colab": {
          "base_uri": "https://localhost:8080/",
          "height": 634
        },
        "outputId": "f63e8ed5-60d4-480c-c5b8-faed981e879b"
      },
      "execution_count": null,
      "outputs": [
        {
          "output_type": "stream",
          "name": "stdout",
          "text": [
            "Коэффициент детерминации на тренировочных данных = 0.51\n"
          ]
        },
        {
          "output_type": "display_data",
          "data": {
            "text/html": [
              "<html>\n",
              "<head><meta charset=\"utf-8\" /></head>\n",
              "<body>\n",
              "    <div>            <script src=\"https://cdnjs.cloudflare.com/ajax/libs/mathjax/2.7.5/MathJax.js?config=TeX-AMS-MML_SVG\"></script><script type=\"text/javascript\">if (window.MathJax && window.MathJax.Hub && window.MathJax.Hub.Config) {window.MathJax.Hub.Config({SVG: {font: \"STIX-Web\"}});}</script>                <script type=\"text/javascript\">window.PlotlyConfig = {MathJaxConfig: 'local'};</script>\n",
              "        <script charset=\"utf-8\" src=\"https://cdn.plot.ly/plotly-2.24.1.min.js\"></script>                <div id=\"f35720c1-dcec-450f-99ba-e8d315f98624\" class=\"plotly-graph-div\" style=\"height:600px; width:1200px;\"></div>            <script type=\"text/javascript\">                                    window.PLOTLYENV=window.PLOTLYENV || {};                                    if (document.getElementById(\"f35720c1-dcec-450f-99ba-e8d315f98624\")) {                    Plotly.newPlot(                        \"f35720c1-dcec-450f-99ba-e8d315f98624\",                        [{\"mode\":\"lines+markers\",\"name\":\"\\u0420\\u0435\\u0430\\u043b\\u044c\\u043d\\u044b\\u0435 \\u0434\\u0430\\u043d\\u043d\\u044b\\u0435\",\"y\":[0.25977013451383035,0.08637786251080813,0.0688204404250879,0.060896257880782005,0.0559664810578867,0.05646307196478826,0.05278907040879131,0.05550999156225502,0.0548231217446193,0.05402076475054637],\"type\":\"scatter\"}],                        {\"template\":{\"data\":{\"barpolar\":[{\"marker\":{\"line\":{\"color\":\"rgb(17,17,17)\",\"width\":0.5},\"pattern\":{\"fillmode\":\"overlay\",\"size\":10,\"solidity\":0.2}},\"type\":\"barpolar\"}],\"bar\":[{\"error_x\":{\"color\":\"#f2f5fa\"},\"error_y\":{\"color\":\"#f2f5fa\"},\"marker\":{\"line\":{\"color\":\"rgb(17,17,17)\",\"width\":0.5},\"pattern\":{\"fillmode\":\"overlay\",\"size\":10,\"solidity\":0.2}},\"type\":\"bar\"}],\"carpet\":[{\"aaxis\":{\"endlinecolor\":\"#A2B1C6\",\"gridcolor\":\"#506784\",\"linecolor\":\"#506784\",\"minorgridcolor\":\"#506784\",\"startlinecolor\":\"#A2B1C6\"},\"baxis\":{\"endlinecolor\":\"#A2B1C6\",\"gridcolor\":\"#506784\",\"linecolor\":\"#506784\",\"minorgridcolor\":\"#506784\",\"startlinecolor\":\"#A2B1C6\"},\"type\":\"carpet\"}],\"choropleth\":[{\"colorbar\":{\"outlinewidth\":0,\"ticks\":\"\"},\"type\":\"choropleth\"}],\"contourcarpet\":[{\"colorbar\":{\"outlinewidth\":0,\"ticks\":\"\"},\"type\":\"contourcarpet\"}],\"contour\":[{\"colorbar\":{\"outlinewidth\":0,\"ticks\":\"\"},\"colorscale\":[[0.0,\"#0d0887\"],[0.1111111111111111,\"#46039f\"],[0.2222222222222222,\"#7201a8\"],[0.3333333333333333,\"#9c179e\"],[0.4444444444444444,\"#bd3786\"],[0.5555555555555556,\"#d8576b\"],[0.6666666666666666,\"#ed7953\"],[0.7777777777777778,\"#fb9f3a\"],[0.8888888888888888,\"#fdca26\"],[1.0,\"#f0f921\"]],\"type\":\"contour\"}],\"heatmapgl\":[{\"colorbar\":{\"outlinewidth\":0,\"ticks\":\"\"},\"colorscale\":[[0.0,\"#0d0887\"],[0.1111111111111111,\"#46039f\"],[0.2222222222222222,\"#7201a8\"],[0.3333333333333333,\"#9c179e\"],[0.4444444444444444,\"#bd3786\"],[0.5555555555555556,\"#d8576b\"],[0.6666666666666666,\"#ed7953\"],[0.7777777777777778,\"#fb9f3a\"],[0.8888888888888888,\"#fdca26\"],[1.0,\"#f0f921\"]],\"type\":\"heatmapgl\"}],\"heatmap\":[{\"colorbar\":{\"outlinewidth\":0,\"ticks\":\"\"},\"colorscale\":[[0.0,\"#0d0887\"],[0.1111111111111111,\"#46039f\"],[0.2222222222222222,\"#7201a8\"],[0.3333333333333333,\"#9c179e\"],[0.4444444444444444,\"#bd3786\"],[0.5555555555555556,\"#d8576b\"],[0.6666666666666666,\"#ed7953\"],[0.7777777777777778,\"#fb9f3a\"],[0.8888888888888888,\"#fdca26\"],[1.0,\"#f0f921\"]],\"type\":\"heatmap\"}],\"histogram2dcontour\":[{\"colorbar\":{\"outlinewidth\":0,\"ticks\":\"\"},\"colorscale\":[[0.0,\"#0d0887\"],[0.1111111111111111,\"#46039f\"],[0.2222222222222222,\"#7201a8\"],[0.3333333333333333,\"#9c179e\"],[0.4444444444444444,\"#bd3786\"],[0.5555555555555556,\"#d8576b\"],[0.6666666666666666,\"#ed7953\"],[0.7777777777777778,\"#fb9f3a\"],[0.8888888888888888,\"#fdca26\"],[1.0,\"#f0f921\"]],\"type\":\"histogram2dcontour\"}],\"histogram2d\":[{\"colorbar\":{\"outlinewidth\":0,\"ticks\":\"\"},\"colorscale\":[[0.0,\"#0d0887\"],[0.1111111111111111,\"#46039f\"],[0.2222222222222222,\"#7201a8\"],[0.3333333333333333,\"#9c179e\"],[0.4444444444444444,\"#bd3786\"],[0.5555555555555556,\"#d8576b\"],[0.6666666666666666,\"#ed7953\"],[0.7777777777777778,\"#fb9f3a\"],[0.8888888888888888,\"#fdca26\"],[1.0,\"#f0f921\"]],\"type\":\"histogram2d\"}],\"histogram\":[{\"marker\":{\"pattern\":{\"fillmode\":\"overlay\",\"size\":10,\"solidity\":0.2}},\"type\":\"histogram\"}],\"mesh3d\":[{\"colorbar\":{\"outlinewidth\":0,\"ticks\":\"\"},\"type\":\"mesh3d\"}],\"parcoords\":[{\"line\":{\"colorbar\":{\"outlinewidth\":0,\"ticks\":\"\"}},\"type\":\"parcoords\"}],\"pie\":[{\"automargin\":true,\"type\":\"pie\"}],\"scatter3d\":[{\"line\":{\"colorbar\":{\"outlinewidth\":0,\"ticks\":\"\"}},\"marker\":{\"colorbar\":{\"outlinewidth\":0,\"ticks\":\"\"}},\"type\":\"scatter3d\"}],\"scattercarpet\":[{\"marker\":{\"colorbar\":{\"outlinewidth\":0,\"ticks\":\"\"}},\"type\":\"scattercarpet\"}],\"scattergeo\":[{\"marker\":{\"colorbar\":{\"outlinewidth\":0,\"ticks\":\"\"}},\"type\":\"scattergeo\"}],\"scattergl\":[{\"marker\":{\"line\":{\"color\":\"#283442\"}},\"type\":\"scattergl\"}],\"scattermapbox\":[{\"marker\":{\"colorbar\":{\"outlinewidth\":0,\"ticks\":\"\"}},\"type\":\"scattermapbox\"}],\"scatterpolargl\":[{\"marker\":{\"colorbar\":{\"outlinewidth\":0,\"ticks\":\"\"}},\"type\":\"scatterpolargl\"}],\"scatterpolar\":[{\"marker\":{\"colorbar\":{\"outlinewidth\":0,\"ticks\":\"\"}},\"type\":\"scatterpolar\"}],\"scatter\":[{\"marker\":{\"line\":{\"color\":\"#283442\"}},\"type\":\"scatter\"}],\"scatterternary\":[{\"marker\":{\"colorbar\":{\"outlinewidth\":0,\"ticks\":\"\"}},\"type\":\"scatterternary\"}],\"surface\":[{\"colorbar\":{\"outlinewidth\":0,\"ticks\":\"\"},\"colorscale\":[[0.0,\"#0d0887\"],[0.1111111111111111,\"#46039f\"],[0.2222222222222222,\"#7201a8\"],[0.3333333333333333,\"#9c179e\"],[0.4444444444444444,\"#bd3786\"],[0.5555555555555556,\"#d8576b\"],[0.6666666666666666,\"#ed7953\"],[0.7777777777777778,\"#fb9f3a\"],[0.8888888888888888,\"#fdca26\"],[1.0,\"#f0f921\"]],\"type\":\"surface\"}],\"table\":[{\"cells\":{\"fill\":{\"color\":\"#506784\"},\"line\":{\"color\":\"rgb(17,17,17)\"}},\"header\":{\"fill\":{\"color\":\"#2a3f5f\"},\"line\":{\"color\":\"rgb(17,17,17)\"}},\"type\":\"table\"}]},\"layout\":{\"annotationdefaults\":{\"arrowcolor\":\"#f2f5fa\",\"arrowhead\":0,\"arrowwidth\":1},\"autotypenumbers\":\"strict\",\"coloraxis\":{\"colorbar\":{\"outlinewidth\":0,\"ticks\":\"\"}},\"colorscale\":{\"diverging\":[[0,\"#8e0152\"],[0.1,\"#c51b7d\"],[0.2,\"#de77ae\"],[0.3,\"#f1b6da\"],[0.4,\"#fde0ef\"],[0.5,\"#f7f7f7\"],[0.6,\"#e6f5d0\"],[0.7,\"#b8e186\"],[0.8,\"#7fbc41\"],[0.9,\"#4d9221\"],[1,\"#276419\"]],\"sequential\":[[0.0,\"#0d0887\"],[0.1111111111111111,\"#46039f\"],[0.2222222222222222,\"#7201a8\"],[0.3333333333333333,\"#9c179e\"],[0.4444444444444444,\"#bd3786\"],[0.5555555555555556,\"#d8576b\"],[0.6666666666666666,\"#ed7953\"],[0.7777777777777778,\"#fb9f3a\"],[0.8888888888888888,\"#fdca26\"],[1.0,\"#f0f921\"]],\"sequentialminus\":[[0.0,\"#0d0887\"],[0.1111111111111111,\"#46039f\"],[0.2222222222222222,\"#7201a8\"],[0.3333333333333333,\"#9c179e\"],[0.4444444444444444,\"#bd3786\"],[0.5555555555555556,\"#d8576b\"],[0.6666666666666666,\"#ed7953\"],[0.7777777777777778,\"#fb9f3a\"],[0.8888888888888888,\"#fdca26\"],[1.0,\"#f0f921\"]]},\"colorway\":[\"#636efa\",\"#EF553B\",\"#00cc96\",\"#ab63fa\",\"#FFA15A\",\"#19d3f3\",\"#FF6692\",\"#B6E880\",\"#FF97FF\",\"#FECB52\"],\"font\":{\"color\":\"#f2f5fa\"},\"geo\":{\"bgcolor\":\"rgb(17,17,17)\",\"lakecolor\":\"rgb(17,17,17)\",\"landcolor\":\"rgb(17,17,17)\",\"showlakes\":true,\"showland\":true,\"subunitcolor\":\"#506784\"},\"hoverlabel\":{\"align\":\"left\"},\"hovermode\":\"closest\",\"mapbox\":{\"style\":\"dark\"},\"paper_bgcolor\":\"rgb(17,17,17)\",\"plot_bgcolor\":\"rgb(17,17,17)\",\"polar\":{\"angularaxis\":{\"gridcolor\":\"#506784\",\"linecolor\":\"#506784\",\"ticks\":\"\"},\"bgcolor\":\"rgb(17,17,17)\",\"radialaxis\":{\"gridcolor\":\"#506784\",\"linecolor\":\"#506784\",\"ticks\":\"\"}},\"scene\":{\"xaxis\":{\"backgroundcolor\":\"rgb(17,17,17)\",\"gridcolor\":\"#506784\",\"gridwidth\":2,\"linecolor\":\"#506784\",\"showbackground\":true,\"ticks\":\"\",\"zerolinecolor\":\"#C8D4E3\"},\"yaxis\":{\"backgroundcolor\":\"rgb(17,17,17)\",\"gridcolor\":\"#506784\",\"gridwidth\":2,\"linecolor\":\"#506784\",\"showbackground\":true,\"ticks\":\"\",\"zerolinecolor\":\"#C8D4E3\"},\"zaxis\":{\"backgroundcolor\":\"rgb(17,17,17)\",\"gridcolor\":\"#506784\",\"gridwidth\":2,\"linecolor\":\"#506784\",\"showbackground\":true,\"ticks\":\"\",\"zerolinecolor\":\"#C8D4E3\"}},\"shapedefaults\":{\"line\":{\"color\":\"#f2f5fa\"}},\"sliderdefaults\":{\"bgcolor\":\"#C8D4E3\",\"bordercolor\":\"rgb(17,17,17)\",\"borderwidth\":1,\"tickwidth\":0},\"ternary\":{\"aaxis\":{\"gridcolor\":\"#506784\",\"linecolor\":\"#506784\",\"ticks\":\"\"},\"baxis\":{\"gridcolor\":\"#506784\",\"linecolor\":\"#506784\",\"ticks\":\"\"},\"bgcolor\":\"rgb(17,17,17)\",\"caxis\":{\"gridcolor\":\"#506784\",\"linecolor\":\"#506784\",\"ticks\":\"\"}},\"title\":{\"x\":0.05},\"updatemenudefaults\":{\"bgcolor\":\"#506784\",\"borderwidth\":0},\"xaxis\":{\"automargin\":true,\"gridcolor\":\"#283442\",\"linecolor\":\"#506784\",\"ticks\":\"\",\"title\":{\"standoff\":15},\"zerolinecolor\":\"#283442\",\"zerolinewidth\":2},\"yaxis\":{\"automargin\":true,\"gridcolor\":\"#283442\",\"linecolor\":\"#506784\",\"ticks\":\"\",\"title\":{\"standoff\":15},\"zerolinecolor\":\"#283442\",\"zerolinewidth\":2}}},\"title\":{\"text\":\"\\u041a\\u0440\\u0438\\u0432\\u0430\\u044f \\u043e\\u0431\\u0443\\u0447\\u0435\\u043d\\u0438\\u044f\"},\"width\":1200,\"height\":600},                        {\"responsive\": true}                    ).then(function(){\n",
              "                            \n",
              "var gd = document.getElementById('f35720c1-dcec-450f-99ba-e8d315f98624');\n",
              "var x = new MutationObserver(function (mutations, observer) {{\n",
              "        var display = window.getComputedStyle(gd).display;\n",
              "        if (!display || display === 'none') {{\n",
              "            console.log([gd, 'removed!']);\n",
              "            Plotly.purge(gd);\n",
              "            observer.disconnect();\n",
              "        }}\n",
              "}});\n",
              "\n",
              "// Listen for the removal of the full notebook cells\n",
              "var notebookContainer = gd.closest('#notebook-container');\n",
              "if (notebookContainer) {{\n",
              "    x.observe(notebookContainer, {childList: true});\n",
              "}}\n",
              "\n",
              "// Listen for the clearing of the current output cell\n",
              "var outputEl = gd.closest('.output');\n",
              "if (outputEl) {{\n",
              "    x.observe(outputEl, {childList: true});\n",
              "}}\n",
              "\n",
              "                        })                };                            </script>        </div>\n",
              "</body>\n",
              "</html>"
            ]
          },
          "metadata": {}
        }
      ]
    },
    {
      "cell_type": "code",
      "source": [
        "def plot_model_class(x_train, y_train, x_test, x, y, model):\n",
        "    \"\"\"Отрисовка модели которая реализована через классы.\n",
        "    Входные переменные:\n",
        "    ===========\n",
        "    x_train: признаки на которых тренировались\n",
        "    y_train: тренировочные целевые значения\n",
        "    x_test: тестовые признаки\n",
        "    x: полные признаки\n",
        "    y: реальные целевые значения (без шума)\n",
        "    model: обученная модель\n",
        "    \"\"\"\n",
        "\n",
        "    fig = go.Figure()\n",
        "    # рисуем с помощью библиотеки plotly\n",
        "    fig.add_trace(\n",
        "        go.Scatter(\n",
        "        x=x_test[:,0],\n",
        "        y=model.predict(x_test, ),\n",
        "        mode='markers',\n",
        "        name='Предсказание на x_test',\n",
        "        marker=dict(size = 5,\n",
        "                    color='Blue')\n",
        "        )\n",
        "    )\n",
        "    fig.add_trace(\n",
        "        go.Scatter(\n",
        "        x=x_train[:,0],\n",
        "        y=model.predict(x_train, ),\n",
        "        mode='markers',\n",
        "        name='Предсказание на x_train',\n",
        "        marker=dict(size = 10,\n",
        "                    color='LightSkyBlue',\n",
        "                    ),\n",
        "\n",
        "        )\n",
        "    )\n",
        "\n",
        "    fig.add_trace(\n",
        "        go.Scatter(\n",
        "        x=x_train[:,0],\n",
        "        y=y_train,\n",
        "        mode='markers',\n",
        "        name='Тренировочные данные',\n",
        "        marker=dict(size = 5,\n",
        "                    color='Red')\n",
        "        )\n",
        "    )\n",
        "\n",
        "    fig.add_trace(\n",
        "        go.Scatter(\n",
        "        x=x[:,0],\n",
        "        y=y[:,0],\n",
        "        mode='lines+markers',\n",
        "        name='Истинные значения',\n",
        "        opacity = 0.7,\n",
        "        marker=dict(size = 10,\n",
        "                    color='green',),\n",
        "\n",
        "        )\n",
        "    )\n",
        "\n",
        "    fig.update_layout(\n",
        "            title='Предсказание модели',\n",
        "            width=1200,\n",
        "            height=600,\n",
        "        template = \"plotly_dark\"\n",
        "            )\n",
        "\n",
        "    fig.show()"
      ],
      "metadata": {
        "id": "8c4nDPfaF2DQ"
      },
      "execution_count": null,
      "outputs": []
    },
    {
      "cell_type": "markdown",
      "source": [
        "Пытаемся визуализировать"
      ],
      "metadata": {
        "id": "hduxeNq0-1TO"
      }
    },
    {
      "cell_type": "code",
      "source": [
        "plot_model_class(x_train, y_train, x_test, x, y_true, regr_poly_lin);"
      ],
      "metadata": {
        "colab": {
          "base_uri": "https://localhost:8080/",
          "height": 617
        },
        "id": "6kgsEj9lXNFR",
        "outputId": "d38da3a1-43fa-47b3-cd8b-b94e3e9c9d3a"
      },
      "execution_count": null,
      "outputs": [
        {
          "output_type": "display_data",
          "data": {
            "text/html": [
              "<html>\n",
              "<head><meta charset=\"utf-8\" /></head>\n",
              "<body>\n",
              "    <div>            <script src=\"https://cdnjs.cloudflare.com/ajax/libs/mathjax/2.7.5/MathJax.js?config=TeX-AMS-MML_SVG\"></script><script type=\"text/javascript\">if (window.MathJax && window.MathJax.Hub && window.MathJax.Hub.Config) {window.MathJax.Hub.Config({SVG: {font: \"STIX-Web\"}});}</script>                <script type=\"text/javascript\">window.PlotlyConfig = {MathJaxConfig: 'local'};</script>\n",
              "        <script charset=\"utf-8\" src=\"https://cdn.plot.ly/plotly-2.24.1.min.js\"></script>                <div id=\"ddb589d7-587e-4207-9356-5ced237e6ddd\" class=\"plotly-graph-div\" style=\"height:600px; width:1200px;\"></div>            <script type=\"text/javascript\">                                    window.PLOTLYENV=window.PLOTLYENV || {};                                    if (document.getElementById(\"ddb589d7-587e-4207-9356-5ced237e6ddd\")) {                    Plotly.newPlot(                        \"ddb589d7-587e-4207-9356-5ced237e6ddd\",                        [{\"marker\":{\"color\":\"Blue\",\"size\":5},\"mode\":\"markers\",\"name\":\"\\u041f\\u0440\\u0435\\u0434\\u0441\\u043a\\u0430\\u0437\\u0430\\u043d\\u0438\\u0435 \\u043d\\u0430 x_test\",\"x\":[1.1621220654282163,0.22925563731679227,0.8068403698839598,0.3640364252475524,0.1498317091671035,1.0405533010005272,0.0303949580393173,0.8469554523028531,0.5129786537945371,0.4064791525334338,0.38030280369942215,1.1231927356588491,1.1435804877755607,0.4009750812146698,0.031773908430118986,0.05653411113817258,0.28033663682569976,1.1088580303313966,0.6500850264722635,0.07944793785752954,0.8220161153754292,0.32347497700002115,1.1201141249043665,0.6620632229450081,1.0225184574031163,1.1558670228482035,0.2965613593710001,0.2449785780239315,0.48341918287567176,0.2310680694069088,1.1924107212532342,0.8648689971158665,1.0615292631177224,0.9520245191608969,1.214727603401201,1.0441281194865475,1.1213878249407214,0.8293772113850697,0.27763476308841284,0.22728120900887577,0.39750434371482984,0.09622488728599124,0.2654238883478452,1.0215277502515199,0.7969468391940164,1.2070400413431992,0.9444389231788108,0.9640879333574321,0.6427930480170145,0.1743673258150523,0.7917546956380294,1.1755732304411428,0.006902646404502999,0.2332125736075448,0.7580363245744874,0.6484882771792077,0.761955417474871,0.45964475382429193,0.4459416583669866,0.5501906171745017,0.39294497634540837,1.0193267855685426,0.33918628971736986,1.0966741917262262,1.0759132290704292,0.6172444954554884,1.2336086707506466,0.09318830459971353,0.9509813107711218,0.3224270346439445,0.4681751485592031,0.058063015899997156,0.40666291345408045,0.8915559840287437,0.45795230411711463],\"y\":[-0.051844071923599966,-0.6663843057194954,-0.28589140138445934,-0.5775953704226716,-0.7187060507231309,-0.13192938174112379,-0.7973868636992035,-0.2594649684187489,-0.47947736639218147,-0.5496355652852896,-0.5668796412297346,-0.07748937193339611,-0.06405862389185535,-0.5532614576672358,-0.7964784587335839,-0.7801672910224188,-0.6327339047244855,-0.08693258148394467,-0.3891564160597152,-0.765072452142023,-0.2758941435763558,-0.6043158538037723,-0.07951745453537862,-0.38126559328059983,-0.1438101147880434,-0.055964678275901014,-0.6220456170063305,-0.6560265745728342,-0.4989501265022631,-0.6651903379585864,-0.03189094994261832,-0.2476641428281129,-0.1181111412351471,-0.19024909038315674,-0.017189357560767893,-0.12957441459687324,-0.07867838487380652,-0.27104490736585496,-0.6345138059709702,-0.6676849910023999,-0.5555478598469281,-0.7540203763962794,-0.6425579091692306,-0.14446275849588686,-0.29240891823365445,-0.022253658346046645,-0.19524621943382892,-0.1823021291062632,-0.3939601200088384,-0.7025428325637183,-0.29582932336202616,-0.04298290826418305,-0.8128627884933805,-0.6637776125424696,-0.3180418234715604,-0.3902082994315442,-0.31546006021511497,-0.5146119005219127,-0.5236390272704959,-0.4549634081379176,-0.5585514138442975,-0.14591267813078213,-0.5939657827758044,-0.09495887420852178,-0.10863548048338856,-0.410790625417949,-0.004751161487258293,-0.7560207723562279,-0.19093632009625516,-0.6050062020906237,-0.5089923706333986,-0.7791601012882085,-0.5495145099275947,-0.2300836761261975,-0.515726828026424],\"type\":\"scatter\"},{\"marker\":{\"color\":\"LightSkyBlue\",\"size\":10},\"mode\":\"markers\",\"name\":\"\\u041f\\u0440\\u0435\\u0434\\u0441\\u043a\\u0430\\u0437\\u0430\\u043d\\u0438\\u0435 \\u043d\\u0430 x_train\",\"x\":[0.7103857541693395,0.02573061786975306,0.42633293881282314,0.28311971899742244,0.5338847357828204,0.9074445985877992,1.0027462259425497,0.91200772292258,0.039286482108417814,0.4597289158990665,1.0101504744555212,1.1090159282204082,1.178637129890649,1.203059118677639,0.30256908938937555,1.125522571454163,0.9748444323220298,0.06434843906248669,0.8850907222450568,0.11286221256801038,1.216263193440557,0.09255581466761295,0.5352301853966429,0.30498705422385447,0.8835716798095214,0.2131551546091144,0.2483946019177155,0.042985651394022995,0.13756490565959595,0.6156471172735799,1.0104966851455763,0.14949280742287713,0.7015964969618703,1.118534188034561,0.11637845975737401,0.5217637539359737,0.0813144912315994,0.9935141294270605,0.9030651440768817,0.7955130140797255,0.5902686564524366,0.4237872388108759,0.48584661211185254,0.9149924272642563,1.1215196974416584,0.07260451521024933,0.7473749735138564,0.3116152864360937,0.8636721726280825,0.1761552812184533,0.6534160367274926,1.1344580924076162,1.188392883012395,0.6118159503469538,0.6741778023945634,0.3023153636255646,1.1150581939713917,0.7889232824965786,0.8281528554424775,1.152342793778896,1.1709124859209181,0.791376821591585,0.570087480271295,0.38076721146671333,0.6283487790360769,0.8249800575427237,1.2123873152024929,0.4913721558334505,0.8552912831401961,1.1743736769552364,0.3315029596021568,0.7919121384511184,0.5399312733026447,0.3483080802957643,1.1861069215666666,0.37609788727096205,0.13486428374163056,0.6357133639558785,0.36218931614221006,0.3896388451117637,0.02073478615982019,0.24959222769794967,0.9331142563975302,1.1603982032346567,0.8401694342573482,0.2994523633337155,0.6940010144993279,0.6282963663814901,1.0893257377346472,0.751393764679011,0.14184190155073634,0.050968926943454895,0.15254779355597353,0.12683942858254013,0.20101006427187332,1.1156987481124723,0.10517495624381104,0.40674962269908466,1.082720182218669,0.4545370029741175,0.2331481379998178,0.42201896425453495,0.7211298557829489,1.009300193955078,0.35096545305106974,0.19502330055304565,0.534426272948187,0.7648161184029744,0.3560506179718345,0.7483231052462957,0.1170934597851156,1.204524971361566,0.8120411238090184,1.208318523804587,0.6783701039478106,0.0063269798077733586,0.00869016316398838,0.35116813710922595,0.2179580362562393,0.4480821606803408,0.6384341282219572,0.7594310648767979,1.232063067638251,0.40400366502594404,0.38872790214457775,0.8787736986189723,0.981469951741267,0.4365119682658261,0.17190118018249156,0.2849189531774271,0.8064659880118124,0.6859172367082327,0.046108684193165994,1.2119807847056983,1.0045900961238932,0.12209014250797984,0.7903822882419743,0.019320770661084286,0.6189711376390877,0.14483632440641214,0.7386161789853023,0.8902240266844198,0.6833878491790996,0.2859977068645281,0.6697183550934481,0.6401163228741013,1.1353323574583172,1.0359218864399118,0.3147278697817052,0.9653059616208217,0.2970469299904996,0.2020358926182672,0.8149515743782507,0.1949931504202533,0.6215606323654819,0.7791226585344474,0.11061562756489937,1.078879282344492,0.9112589600512342,0.3651808106690227,0.18111859011402887,1.0662618193342002,0.22138834925881118,0.4136225310658115,0.9637089749432013,0.8025395576928597,0.20152660906750552,0.7405182110775531,0.9102704357648245,0.01149631452078706,0.46269837531930547,0.24405373474755562,0.6559455395402973,1.1366505025984777,0.9689160292013932],\"y\":[-0.34943237606821764,-0.800459570157416,-0.5365565755240541,-0.6309005061617929,-0.46570516050537986,-0.2196168047590048,-0.15683537904698175,-0.21661077580241228,-0.7915294342585396,-0.5145564574493033,-0.15195771545536096,-0.08682856379962789,-0.04096451696261316,-0.02487615291964762,-0.6180879316412891,-0.07595455645369575,-0.17521611851639596,-0.7750194812558182,-0.23434276764066253,-0.7430602802234014,-0.016177763796255462,-0.75643743491266,-0.4648188246963905,-0.6164950597896359,-0.2353434604144068,-0.6769907485169216,-0.6537762158300628,-0.7890925490956459,-0.7267869978643989,-0.41184292308006754,-0.151729643791511,-0.7189293075055111,-0.35522243562701783,-0.0805582624625314,-0.7407438978296107,-0.4736900453651309,-0.7638428311455685,-0.1629171658709978,-0.2225018383693217,-0.29335347277480417,-0.4285613779160717,-0.5382335948992052,-0.49735101982914,-0.21464455550691008,-0.07859151181769164,-0.7695806629928924,-0.3250651539033827,-0.6121286089767266,-0.2484525695292692,-0.7013649891999614,-0.38696206137040645,-0.07006814338281253,-0.0345377632242132,-0.41436676373704817,-0.3732849260994035,-0.6182550774249873,-0.08284812748487735,-0.29769456070092637,-0.2718514708400419,-0.0582863188569509,-0.0460532460326033,-0.29607825375318353,-0.44185604085484087,-0.5665737054073194,-0.4034755063161008,-0.27394160068537166,-0.018731058723382765,-0.49371098216866294,-0.25397361051659495,-0.04377313273519545,-0.5990272957031086,-0.2957256054660342,-0.461721910096625,-0.5879566616993471,-0.03604367579537349,-0.5696496951701143,-0.7285660744554825,-0.3986239717318977,-0.5788121822054063,-0.5607293790921166,-0.8037506518112414,-0.6529872612650721,-0.2027065193885803,-0.05297969289090898,-0.26393536309751375,-0.620141123289316,-0.3602260775500884,-0.4035100339655402,-0.09979978229347208,-0.32241771286810944,-0.7239694604595996,-0.7838334424596217,-0.7169167879894245,-0.733852572304515,-0.6849915152187853,-0.08242615250565599,-0.748124379601794,-0.5494573888670746,-0.1041512944808698,-0.5179767106459003,-0.6638200604988372,-0.539398473199595,-0.3423545324256702,-0.15251785092790904,-0.5862060761652162,-0.6889353887086883,-0.4653484144952492,-0.31357552909233055,-0.5828561448726688,-0.3244405574135056,-0.7402728804674553,-0.023910499720062983,-0.282465324041864,-0.02141143818778035,-0.37052318240380155,-0.8132420177959708,-0.8116852340931089,-0.5860725548970769,-0.6738267757107681,-0.5222289381597189,-0.3968316260564675,-0.3171230166567395,-0.005769351518997601,-0.5512663310903057,-0.5613294769058652,-0.23850420496875613,-0.17085145479796815,-0.5298509819349186,-0.7041674442636771,-0.6297152327289477,-0.2861380312516143,-0.36555139159719263,-0.7870352027824946,-0.018998866995839414,-0.15562070095568614,-0.7369812381956572,-0.29673341802833586,-0.8046821564607799,-0.4096531730890672,-0.7219968379422085,-0.3308351456997912,-0.23096112369330968,-0.3672176648777745,-0.629004586999718,-0.3762226562014246,-0.395723454228576,-0.0694922077156398,-0.1349803979435702,-0.6100781464032221,-0.1814997340889306,-0.6217257398266621,-0.6843157348789315,-0.28054801957107445,-0.6889552505764722,-0.40794730325967143,-0.3041508738016422,-0.7445402529520259,-0.10668154686806519,-0.21710403496165342,-0.5768414887700896,-0.6980953324547151,-0.11499349639759593,-0.6715670037958741,-0.5449297538410218,-0.18255177384152477,-0.2887246281463889,-0.6846512333199968,-0.3295821525472501,-0.21775524067318608,-0.8098366383468079,-0.5126002799823368,-0.6566358294309377,-0.3852957121449172,-0.06862385915232927,-0.17912154605672237],\"type\":\"scatter\"},{\"marker\":{\"color\":\"Red\",\"size\":5},\"mode\":\"markers\",\"name\":\"\\u0422\\u0440\\u0435\\u043d\\u0438\\u0440\\u043e\\u0432\\u043e\\u0447\\u043d\\u044b\\u0435 \\u0434\\u0430\\u043d\\u043d\\u044b\\u0435\",\"x\":[0.7103857541693395,0.02573061786975306,0.42633293881282314,0.28311971899742244,0.5338847357828204,0.9074445985877992,1.0027462259425497,0.91200772292258,0.039286482108417814,0.4597289158990665,1.0101504744555212,1.1090159282204082,1.178637129890649,1.203059118677639,0.30256908938937555,1.125522571454163,0.9748444323220298,0.06434843906248669,0.8850907222450568,0.11286221256801038,1.216263193440557,0.09255581466761295,0.5352301853966429,0.30498705422385447,0.8835716798095214,0.2131551546091144,0.2483946019177155,0.042985651394022995,0.13756490565959595,0.6156471172735799,1.0104966851455763,0.14949280742287713,0.7015964969618703,1.118534188034561,0.11637845975737401,0.5217637539359737,0.0813144912315994,0.9935141294270605,0.9030651440768817,0.7955130140797255,0.5902686564524366,0.4237872388108759,0.48584661211185254,0.9149924272642563,1.1215196974416584,0.07260451521024933,0.7473749735138564,0.3116152864360937,0.8636721726280825,0.1761552812184533,0.6534160367274926,1.1344580924076162,1.188392883012395,0.6118159503469538,0.6741778023945634,0.3023153636255646,1.1150581939713917,0.7889232824965786,0.8281528554424775,1.152342793778896,1.1709124859209181,0.791376821591585,0.570087480271295,0.38076721146671333,0.6283487790360769,0.8249800575427237,1.2123873152024929,0.4913721558334505,0.8552912831401961,1.1743736769552364,0.3315029596021568,0.7919121384511184,0.5399312733026447,0.3483080802957643,1.1861069215666666,0.37609788727096205,0.13486428374163056,0.6357133639558785,0.36218931614221006,0.3896388451117637,0.02073478615982019,0.24959222769794967,0.9331142563975302,1.1603982032346567,0.8401694342573482,0.2994523633337155,0.6940010144993279,0.6282963663814901,1.0893257377346472,0.751393764679011,0.14184190155073634,0.050968926943454895,0.15254779355597353,0.12683942858254013,0.20101006427187332,1.1156987481124723,0.10517495624381104,0.40674962269908466,1.082720182218669,0.4545370029741175,0.2331481379998178,0.42201896425453495,0.7211298557829489,1.009300193955078,0.35096545305106974,0.19502330055304565,0.534426272948187,0.7648161184029744,0.3560506179718345,0.7483231052462957,0.1170934597851156,1.204524971361566,0.8120411238090184,1.208318523804587,0.6783701039478106,0.0063269798077733586,0.00869016316398838,0.35116813710922595,0.2179580362562393,0.4480821606803408,0.6384341282219572,0.7594310648767979,1.232063067638251,0.40400366502594404,0.38872790214457775,0.8787736986189723,0.981469951741267,0.4365119682658261,0.17190118018249156,0.2849189531774271,0.8064659880118124,0.6859172367082327,0.046108684193165994,1.2119807847056983,1.0045900961238932,0.12209014250797984,0.7903822882419743,0.019320770661084286,0.6189711376390877,0.14483632440641214,0.7386161789853023,0.8902240266844198,0.6833878491790996,0.2859977068645281,0.6697183550934481,0.6401163228741013,1.1353323574583172,1.0359218864399118,0.3147278697817052,0.9653059616208217,0.2970469299904996,0.2020358926182672,0.8149515743782507,0.1949931504202533,0.6215606323654819,0.7791226585344474,0.11061562756489937,1.078879282344492,0.9112589600512342,0.3651808106690227,0.18111859011402887,1.0662618193342002,0.22138834925881118,0.4136225310658115,0.9637089749432013,0.8025395576928597,0.20152660906750552,0.7405182110775531,0.9102704357648245,0.01149631452078706,0.46269837531930547,0.24405373474755562,0.6559455395402973,1.1366505025984777,0.9689160292013932],\"y\":[0.002079868890337446,-0.9643202771131629,-0.46273225955566666,-0.5136819458071229,-0.24184863342558277,0.021224655020942652,0.004743254930813808,0.13094147935971043,-0.9500616789289891,-0.3413660041292827,0.036956497277051664,-0.1816482858424525,-0.2854142881097076,-0.3318153926345836,-0.593945729126003,-0.26920738993873644,-0.0835385918618063,-0.8752129130605742,0.04506624257142448,-0.8168371916263748,-0.4198666888983782,-0.8662075034940308,-0.1611186606259292,-0.5023712064502612,0.09986980550948102,-0.7479240829277746,-0.6155697152485103,-0.9505672351018172,-0.8540616501554138,-0.06564209900737897,-0.03978490258279383,-0.9058560135253864,0.02678464734650305,-0.18518547176035827,-0.8271165330110494,-0.18636720526751452,-0.8807849628311936,-0.03163848289713042,0.06605486650481066,-0.01604469549618555,-0.060333296587217713,-0.2625905119060112,-0.22644473608155788,0.10529454265765487,-0.14859607270667058,-0.9865015790821928,0.07834815438379164,-0.5900782489711529,0.14369104769530805,-0.7695017890406373,-0.045784374044301274,-0.14775189572247566,-0.39197940409948295,-0.12715347711130998,-0.0799404522178625,-0.6461239473224258,-0.13991561938258573,0.06391988606264168,0.06294551104046191,-0.24646361202196568,-0.20997483103481163,0.029136817141033906,-0.14460324045388767,-0.38151731722583854,-0.03750344260987744,0.013087968038519679,-0.3761045809479766,-0.24764994539278018,0.09297417002935993,-0.31905067578246726,-0.5245453969424178,-0.019497946934143848,-0.16130642471859266,-0.5447867049469429,-0.26911040782206064,-0.3753370137399693,-0.8455058208785429,-0.004573300138694877,-0.5419803376272939,-0.4741084433682352,-1.0407101191310977,-0.7169273670688882,0.15724850955215092,-0.2681859299340853,0.08194925722508398,-0.5232857535288123,0.019968121883452962,-0.03696809611365307,-0.15263631431050179,-0.009158618780193799,-0.8195336113140429,-0.9262108593808697,-0.8886461686995172,-0.8837065973581978,-0.7709418171988631,-0.22572210407758386,-0.8464838180300972,-0.363842923000692,-0.19094412630395402,-0.3512084221371761,-0.6408610450234653,-0.4339949585983237,-0.03369214610031279,0.08416076476065477,-0.5017710232493832,-0.7097637031394276,-0.22763641270931434,-0.0011562439783188438,-0.39905925990407753,0.022842051194566254,-0.8744591541574096,-0.4768945501911705,0.10280832582323768,-0.5019471964998572,-0.08632017733367292,-1.0359331512951966,-1.0134858591114777,-0.5511943504537616,-0.6005418487335736,-0.31624274250222845,-0.06576852888372628,0.05756694810816153,-0.39104006865897445,-0.39795042519357177,-0.42602254703814624,0.08609166177431718,-0.009118428524813399,-0.356340226276188,-0.802754746773744,-0.5787331045773222,0.07375552808844145,0.021041230885121567,-1.006983864299581,-0.4242456135622212,0.012413233317949142,-0.8137891427081083,0.026933243220039357,-0.9692423823596867,-0.09994935156925033,-0.7035522511469317,0.027604311813433823,0.07542330890084362,0.037021142844647026,-0.6602433007818563,0.07061533272996752,-0.030862141999050664,-0.19693322759553175,0.050396818245221645,-0.5273237719742339,-0.012023238142653159,-0.47279249073542545,-0.7305421165102848,0.052753016627874294,-0.7795555649443868,-0.031089796044794046,0.05946629950183459,-0.8108414014689889,-0.04285779598918533,0.08353873226636245,-0.45896696412157983,-0.819043569473425,-0.016712577523404243,-0.6705918235451258,-0.3064374935433798,0.14060861107337452,0.04622379223765684,-0.722793703063029,-0.008757259547466686,0.060194390432228635,-0.9454224540944269,-0.2647599395768072,-0.6716314035764093,-0.01822773339753717,-0.2538717168882282,-0.002690446947716186],\"type\":\"scatter\"},{\"marker\":{\"color\":\"green\",\"size\":10},\"mode\":\"lines+markers\",\"name\":\"\\u0418\\u0441\\u0442\\u0438\\u043d\\u043d\\u044b\\u0435 \\u0437\\u043d\\u0430\\u0447\\u0435\\u043d\\u0438\\u044f\",\"opacity\":0.7,\"x\":[0.0063269798077733586,0.006902646404502999,0.00869016316398838,0.01149631452078706,0.019320770661084286,0.02073478615982019,0.02573061786975306,0.0303949580393173,0.031773908430118986,0.039286482108417814,0.042985651394022995,0.046108684193165994,0.050968926943454895,0.05653411113817258,0.058063015899997156,0.06434843906248669,0.07260451521024933,0.07944793785752954,0.0813144912315994,0.09255581466761295,0.09318830459971353,0.09622488728599124,0.10517495624381104,0.11061562756489937,0.11286221256801038,0.11637845975737401,0.1170934597851156,0.12209014250797984,0.12683942858254013,0.13486428374163056,0.13756490565959595,0.14184190155073634,0.14483632440641214,0.14949280742287713,0.1498317091671035,0.15254779355597353,0.17190118018249156,0.1743673258150523,0.1761552812184533,0.18111859011402887,0.1949931504202533,0.19502330055304565,0.20101006427187332,0.20152660906750552,0.2020358926182672,0.2131551546091144,0.2179580362562393,0.22138834925881118,0.22728120900887577,0.22925563731679227,0.2310680694069088,0.2331481379998178,0.2332125736075448,0.24405373474755562,0.2449785780239315,0.2483946019177155,0.24959222769794967,0.2654238883478452,0.27763476308841284,0.28033663682569976,0.28311971899742244,0.2849189531774271,0.2859977068645281,0.2965613593710001,0.2970469299904996,0.2994523633337155,0.3023153636255646,0.30256908938937555,0.30498705422385447,0.3116152864360937,0.3147278697817052,0.3224270346439445,0.32347497700002115,0.3315029596021568,0.33918628971736986,0.3483080802957643,0.35096545305106974,0.35116813710922595,0.3560506179718345,0.36218931614221006,0.3640364252475524,0.3651808106690227,0.37609788727096205,0.38030280369942215,0.38076721146671333,0.38872790214457775,0.3896388451117637,0.39294497634540837,0.39750434371482984,0.4009750812146698,0.40400366502594404,0.4064791525334338,0.40666291345408045,0.40674962269908466,0.4136225310658115,0.42201896425453495,0.4237872388108759,0.42633293881282314,0.4365119682658261,0.4459416583669866,0.4480821606803408,0.4545370029741175,0.45795230411711463,0.45964475382429193,0.4597289158990665,0.46269837531930547,0.4681751485592031,0.48341918287567176,0.48584661211185254,0.4913721558334505,0.5129786537945371,0.5217637539359737,0.5338847357828204,0.534426272948187,0.5352301853966429,0.5399312733026447,0.5501906171745017,0.570087480271295,0.5902686564524366,0.6118159503469538,0.6156471172735799,0.6172444954554884,0.6189711376390877,0.6215606323654819,0.6282963663814901,0.6283487790360769,0.6357133639558785,0.6384341282219572,0.6401163228741013,0.6427930480170145,0.6484882771792077,0.6500850264722635,0.6534160367274926,0.6559455395402973,0.6620632229450081,0.6697183550934481,0.6741778023945634,0.6783701039478106,0.6833878491790996,0.6859172367082327,0.6940010144993279,0.7015964969618703,0.7103857541693395,0.7211298557829489,0.7386161789853023,0.7405182110775531,0.7473749735138564,0.7483231052462957,0.751393764679011,0.7580363245744874,0.7594310648767979,0.761955417474871,0.7648161184029744,0.7791226585344474,0.7889232824965786,0.7903822882419743,0.791376821591585,0.7917546956380294,0.7919121384511184,0.7955130140797255,0.7969468391940164,0.8025395576928597,0.8064659880118124,0.8068403698839598,0.8120411238090184,0.8149515743782507,0.8220161153754292,0.8249800575427237,0.8281528554424775,0.8293772113850697,0.8401694342573482,0.8469554523028531,0.8552912831401961,0.8636721726280825,0.8648689971158665,0.8787736986189723,0.8835716798095214,0.8850907222450568,0.8902240266844198,0.8915559840287437,0.9030651440768817,0.9074445985877992,0.9102704357648245,0.9112589600512342,0.91200772292258,0.9149924272642563,0.9331142563975302,0.9444389231788108,0.9509813107711218,0.9520245191608969,0.9637089749432013,0.9640879333574321,0.9653059616208217,0.9689160292013932,0.9748444323220298,0.981469951741267,0.9935141294270605,1.0027462259425497,1.0045900961238932,1.009300193955078,1.0101504744555212,1.0104966851455763,1.0193267855685426,1.0215277502515199,1.0225184574031163,1.0359218864399118,1.0405533010005272,1.0441281194865475,1.0615292631177224,1.0662618193342002,1.0759132290704292,1.078879282344492,1.082720182218669,1.0893257377346472,1.0966741917262262,1.1088580303313966,1.1090159282204082,1.1150581939713917,1.1156987481124723,1.118534188034561,1.1201141249043665,1.1213878249407214,1.1215196974416584,1.1231927356588491,1.125522571454163,1.1344580924076162,1.1353323574583172,1.1366505025984777,1.1435804877755607,1.152342793778896,1.1558670228482035,1.1603982032346567,1.1621220654282163,1.1709124859209181,1.1743736769552364,1.1755732304411428,1.178637129890649,1.1861069215666666,1.188392883012395,1.1924107212532342,1.203059118677639,1.204524971361566,1.2070400413431992,1.208318523804587,1.2119807847056983,1.2123873152024929,1.214727603401201,1.216263193440557,1.232063067638251,1.2336086707506466],\"y\":[-0.9935934653917764,-0.9930027183149877,-0.9911601115081266,-0.9882423938106005,-0.9799470695661969,-0.9784231801954983,-0.972979323405722,-0.9678134959874253,-0.9662710857408505,-0.9577479342262655,-0.9534776710241172,-0.9498353494080499,-0.9441002273982838,-0.9374350554096754,-0.9355858537645315,-0.9279030156623194,-0.9176181106843383,-0.9089310592509174,-0.9065367261916265,-0.8918968010396412,-0.8910620808501113,-0.8870385913685104,-0.8750283435647556,-0.8676196834780188,-0.8645372798010349,-0.8596860955763392,-0.8586956919253923,-0.8517376037327717,-0.8450653366313192,-0.8336648905415425,-0.8297934727639587,-0.823627318283359,-0.8192851794806071,-0.8124927538957989,-0.8119965149066759,-0.8080103751400346,-0.7791581534842723,-0.7754276614636445,-0.7727157899954104,-0.7651563305769598,-0.7437903794813884,-0.7437435905861614,-0.7344234856130063,-0.7336166325421278,-0.7328207085054754,-0.7153440655474838,-0.70773905319984,-0.7022877746610263,-0.6928865113175631,-0.6897265712842434,-0.6868216071265358,-0.6834827117632765,-0.6833791970580165,-0.6658945815030644,-0.6643969501446974,-0.6588574749570164,-0.6569125467160993,-0.6310745718417872,-0.6110038781548413,-0.6065486477048312,-0.6019546578211777,-0.59898219012537,-0.597199103065104,-0.5797056972755761,-0.5789003005860571,-0.5749090165563697,-0.5701554490247251,-0.5697340254826904,-0.5657167639095924,-0.5546947756902139,-0.5495147433815453,-0.5366930884501544,-0.5349471961954801,-0.5215691291393277,-0.5087639922223969,-0.4935673228802284,-0.48914261567972517,-0.48880519135551914,-0.4806798251006593,-0.4704732687292623,-0.4674045850338371,-0.4655039929858844,-0.4474006781932751,-0.4404433095313862,-0.43967550483358653,-0.42653420008912557,-0.42503301081583766,-0.41958944583258995,-0.4120953365404031,-0.4064012489754736,-0.40144052944307274,-0.39739152559428836,-0.39709117129388605,-0.3969494567267443,-0.3857383343506474,-0.3721041836569813,-0.3692421806388245,-0.3651278695795416,-0.3487509715244088,-0.3336938669012095,-0.3302923358889801,-0.3200734461461464,-0.31469087116667205,-0.31202997441655045,-0.3118977662820721,-0.30724004442785846,-0.29868563256393044,-0.2751370322705651,-0.2714247298532204,-0.26301492143661065,-0.2307048371529825,-0.21784864736369514,-0.20039888287947916,-0.19962736069946585,-0.1984833408820923,-0.1918249379902659,-0.17748604246254662,-0.15046960961932676,-0.12421654137663896,-0.09757490766951848,-0.09299696806588087,-0.09110287791452676,-0.08906529140788932,-0.08602863864415355,-0.07823891356305457,-0.07817892440990937,-0.06984724049641133,-0.06681872096536423,-0.06495979056379886,-0.06202334149952793,-0.05586431997583097,-0.054159460544320526,-0.050634172293937185,-0.04798558466938285,-0.041682669037350184,-0.034004031054305495,-0.0296395831428774,-0.025610746694286313,-0.020884400830356364,-0.01854190381302523,-0.011237868969154796,-0.004632628116710946,0.0026922075326831774,0.01117057247397879,0.023814083903747507,0.0251008260281389,0.02959216771290407,0.030194920269673187,0.03211624105943178,0.0361102085653211,0.03692037539438031,0.03836138828066993,0.03995477580000273,0.047281938927238976,0.051671557507205534,0.05228040198859585,0.052688732421950046,0.05284245342119043,0.052906270140722356,0.054328493222642216,0.05487481801715943,0.0568961498232492,0.05821014980854122,0.05833087917896207,0.059925344663136704,0.06074994312604565,0.06254727256038684,0.06321443627041012,0.0638711678400814,0.0641086322879072,0.0658133292081795,0.06652342610205042,0.0670068443173013,0.06705410204517914,0.06702454019314508,0.06600607566937011,0.0653626059239254,0.06512726616571629,0.06421868481032278,0.06395422351348623,0.06117106157736907,0.05987514421371598,0.058968881719281496,0.05863881770408996,0.05838429896995834,0.05733100135339453,0.04958938667657309,0.043555981575011504,0.03964292899374344,0.03898973901236302,0.031118464412490887,0.030845990419431146,0.02996285396638565,0.027279185324484923,0.022656194353684045,0.017169322559224653,0.006318150180554483,-0.002776434392996574,-0.004674565470908831,-0.00964777720013954,-0.010564694632250848,-0.010939719799673675,-0.02083532219145212,-0.0234014801897926,-0.024569618458746056,-0.041176120047496045,-0.047264967391146495,-0.052089143777840796,-0.0771385451455604,-0.08440619623167489,-0.09983945076069745,-0.10474861158785842,-0.11122274336423565,-0.12266756316281313,-0.13586480364034514,-0.15883826412802593,-0.15914501226849032,-0.17105811599996068,-0.17234108260845415,-0.1780664975092936,-0.18128960668287908,-0.18390514129882707,-0.18417681661111507,-0.18763779295082017,-0.19250168140195534,-0.2116357368174011,-0.21354892819451132,-0.21644739006040048,-0.2319618395302534,-0.2522473437366086,-0.26061856984916965,-0.27156185400459076,-0.2757786132200555,-0.29774187315697187,-0.30660246835851357,-0.3097014939243721,-0.31768308558896496,-0.3375419856986781,-0.3437332310704777,-0.3547450793073632,-0.38473661697706296,-0.3889575758700148,-0.3962521386013007,-0.3999855876118521,-0.4107752718399933,-0.4119816937377747,-0.4189606745316743,-0.42357142791936697,-0.4724708459375391,-0.4773981720906302],\"type\":\"scatter\"}],                        {\"template\":{\"data\":{\"barpolar\":[{\"marker\":{\"line\":{\"color\":\"rgb(17,17,17)\",\"width\":0.5},\"pattern\":{\"fillmode\":\"overlay\",\"size\":10,\"solidity\":0.2}},\"type\":\"barpolar\"}],\"bar\":[{\"error_x\":{\"color\":\"#f2f5fa\"},\"error_y\":{\"color\":\"#f2f5fa\"},\"marker\":{\"line\":{\"color\":\"rgb(17,17,17)\",\"width\":0.5},\"pattern\":{\"fillmode\":\"overlay\",\"size\":10,\"solidity\":0.2}},\"type\":\"bar\"}],\"carpet\":[{\"aaxis\":{\"endlinecolor\":\"#A2B1C6\",\"gridcolor\":\"#506784\",\"linecolor\":\"#506784\",\"minorgridcolor\":\"#506784\",\"startlinecolor\":\"#A2B1C6\"},\"baxis\":{\"endlinecolor\":\"#A2B1C6\",\"gridcolor\":\"#506784\",\"linecolor\":\"#506784\",\"minorgridcolor\":\"#506784\",\"startlinecolor\":\"#A2B1C6\"},\"type\":\"carpet\"}],\"choropleth\":[{\"colorbar\":{\"outlinewidth\":0,\"ticks\":\"\"},\"type\":\"choropleth\"}],\"contourcarpet\":[{\"colorbar\":{\"outlinewidth\":0,\"ticks\":\"\"},\"type\":\"contourcarpet\"}],\"contour\":[{\"colorbar\":{\"outlinewidth\":0,\"ticks\":\"\"},\"colorscale\":[[0.0,\"#0d0887\"],[0.1111111111111111,\"#46039f\"],[0.2222222222222222,\"#7201a8\"],[0.3333333333333333,\"#9c179e\"],[0.4444444444444444,\"#bd3786\"],[0.5555555555555556,\"#d8576b\"],[0.6666666666666666,\"#ed7953\"],[0.7777777777777778,\"#fb9f3a\"],[0.8888888888888888,\"#fdca26\"],[1.0,\"#f0f921\"]],\"type\":\"contour\"}],\"heatmapgl\":[{\"colorbar\":{\"outlinewidth\":0,\"ticks\":\"\"},\"colorscale\":[[0.0,\"#0d0887\"],[0.1111111111111111,\"#46039f\"],[0.2222222222222222,\"#7201a8\"],[0.3333333333333333,\"#9c179e\"],[0.4444444444444444,\"#bd3786\"],[0.5555555555555556,\"#d8576b\"],[0.6666666666666666,\"#ed7953\"],[0.7777777777777778,\"#fb9f3a\"],[0.8888888888888888,\"#fdca26\"],[1.0,\"#f0f921\"]],\"type\":\"heatmapgl\"}],\"heatmap\":[{\"colorbar\":{\"outlinewidth\":0,\"ticks\":\"\"},\"colorscale\":[[0.0,\"#0d0887\"],[0.1111111111111111,\"#46039f\"],[0.2222222222222222,\"#7201a8\"],[0.3333333333333333,\"#9c179e\"],[0.4444444444444444,\"#bd3786\"],[0.5555555555555556,\"#d8576b\"],[0.6666666666666666,\"#ed7953\"],[0.7777777777777778,\"#fb9f3a\"],[0.8888888888888888,\"#fdca26\"],[1.0,\"#f0f921\"]],\"type\":\"heatmap\"}],\"histogram2dcontour\":[{\"colorbar\":{\"outlinewidth\":0,\"ticks\":\"\"},\"colorscale\":[[0.0,\"#0d0887\"],[0.1111111111111111,\"#46039f\"],[0.2222222222222222,\"#7201a8\"],[0.3333333333333333,\"#9c179e\"],[0.4444444444444444,\"#bd3786\"],[0.5555555555555556,\"#d8576b\"],[0.6666666666666666,\"#ed7953\"],[0.7777777777777778,\"#fb9f3a\"],[0.8888888888888888,\"#fdca26\"],[1.0,\"#f0f921\"]],\"type\":\"histogram2dcontour\"}],\"histogram2d\":[{\"colorbar\":{\"outlinewidth\":0,\"ticks\":\"\"},\"colorscale\":[[0.0,\"#0d0887\"],[0.1111111111111111,\"#46039f\"],[0.2222222222222222,\"#7201a8\"],[0.3333333333333333,\"#9c179e\"],[0.4444444444444444,\"#bd3786\"],[0.5555555555555556,\"#d8576b\"],[0.6666666666666666,\"#ed7953\"],[0.7777777777777778,\"#fb9f3a\"],[0.8888888888888888,\"#fdca26\"],[1.0,\"#f0f921\"]],\"type\":\"histogram2d\"}],\"histogram\":[{\"marker\":{\"pattern\":{\"fillmode\":\"overlay\",\"size\":10,\"solidity\":0.2}},\"type\":\"histogram\"}],\"mesh3d\":[{\"colorbar\":{\"outlinewidth\":0,\"ticks\":\"\"},\"type\":\"mesh3d\"}],\"parcoords\":[{\"line\":{\"colorbar\":{\"outlinewidth\":0,\"ticks\":\"\"}},\"type\":\"parcoords\"}],\"pie\":[{\"automargin\":true,\"type\":\"pie\"}],\"scatter3d\":[{\"line\":{\"colorbar\":{\"outlinewidth\":0,\"ticks\":\"\"}},\"marker\":{\"colorbar\":{\"outlinewidth\":0,\"ticks\":\"\"}},\"type\":\"scatter3d\"}],\"scattercarpet\":[{\"marker\":{\"colorbar\":{\"outlinewidth\":0,\"ticks\":\"\"}},\"type\":\"scattercarpet\"}],\"scattergeo\":[{\"marker\":{\"colorbar\":{\"outlinewidth\":0,\"ticks\":\"\"}},\"type\":\"scattergeo\"}],\"scattergl\":[{\"marker\":{\"line\":{\"color\":\"#283442\"}},\"type\":\"scattergl\"}],\"scattermapbox\":[{\"marker\":{\"colorbar\":{\"outlinewidth\":0,\"ticks\":\"\"}},\"type\":\"scattermapbox\"}],\"scatterpolargl\":[{\"marker\":{\"colorbar\":{\"outlinewidth\":0,\"ticks\":\"\"}},\"type\":\"scatterpolargl\"}],\"scatterpolar\":[{\"marker\":{\"colorbar\":{\"outlinewidth\":0,\"ticks\":\"\"}},\"type\":\"scatterpolar\"}],\"scatter\":[{\"marker\":{\"line\":{\"color\":\"#283442\"}},\"type\":\"scatter\"}],\"scatterternary\":[{\"marker\":{\"colorbar\":{\"outlinewidth\":0,\"ticks\":\"\"}},\"type\":\"scatterternary\"}],\"surface\":[{\"colorbar\":{\"outlinewidth\":0,\"ticks\":\"\"},\"colorscale\":[[0.0,\"#0d0887\"],[0.1111111111111111,\"#46039f\"],[0.2222222222222222,\"#7201a8\"],[0.3333333333333333,\"#9c179e\"],[0.4444444444444444,\"#bd3786\"],[0.5555555555555556,\"#d8576b\"],[0.6666666666666666,\"#ed7953\"],[0.7777777777777778,\"#fb9f3a\"],[0.8888888888888888,\"#fdca26\"],[1.0,\"#f0f921\"]],\"type\":\"surface\"}],\"table\":[{\"cells\":{\"fill\":{\"color\":\"#506784\"},\"line\":{\"color\":\"rgb(17,17,17)\"}},\"header\":{\"fill\":{\"color\":\"#2a3f5f\"},\"line\":{\"color\":\"rgb(17,17,17)\"}},\"type\":\"table\"}]},\"layout\":{\"annotationdefaults\":{\"arrowcolor\":\"#f2f5fa\",\"arrowhead\":0,\"arrowwidth\":1},\"autotypenumbers\":\"strict\",\"coloraxis\":{\"colorbar\":{\"outlinewidth\":0,\"ticks\":\"\"}},\"colorscale\":{\"diverging\":[[0,\"#8e0152\"],[0.1,\"#c51b7d\"],[0.2,\"#de77ae\"],[0.3,\"#f1b6da\"],[0.4,\"#fde0ef\"],[0.5,\"#f7f7f7\"],[0.6,\"#e6f5d0\"],[0.7,\"#b8e186\"],[0.8,\"#7fbc41\"],[0.9,\"#4d9221\"],[1,\"#276419\"]],\"sequential\":[[0.0,\"#0d0887\"],[0.1111111111111111,\"#46039f\"],[0.2222222222222222,\"#7201a8\"],[0.3333333333333333,\"#9c179e\"],[0.4444444444444444,\"#bd3786\"],[0.5555555555555556,\"#d8576b\"],[0.6666666666666666,\"#ed7953\"],[0.7777777777777778,\"#fb9f3a\"],[0.8888888888888888,\"#fdca26\"],[1.0,\"#f0f921\"]],\"sequentialminus\":[[0.0,\"#0d0887\"],[0.1111111111111111,\"#46039f\"],[0.2222222222222222,\"#7201a8\"],[0.3333333333333333,\"#9c179e\"],[0.4444444444444444,\"#bd3786\"],[0.5555555555555556,\"#d8576b\"],[0.6666666666666666,\"#ed7953\"],[0.7777777777777778,\"#fb9f3a\"],[0.8888888888888888,\"#fdca26\"],[1.0,\"#f0f921\"]]},\"colorway\":[\"#636efa\",\"#EF553B\",\"#00cc96\",\"#ab63fa\",\"#FFA15A\",\"#19d3f3\",\"#FF6692\",\"#B6E880\",\"#FF97FF\",\"#FECB52\"],\"font\":{\"color\":\"#f2f5fa\"},\"geo\":{\"bgcolor\":\"rgb(17,17,17)\",\"lakecolor\":\"rgb(17,17,17)\",\"landcolor\":\"rgb(17,17,17)\",\"showlakes\":true,\"showland\":true,\"subunitcolor\":\"#506784\"},\"hoverlabel\":{\"align\":\"left\"},\"hovermode\":\"closest\",\"mapbox\":{\"style\":\"dark\"},\"paper_bgcolor\":\"rgb(17,17,17)\",\"plot_bgcolor\":\"rgb(17,17,17)\",\"polar\":{\"angularaxis\":{\"gridcolor\":\"#506784\",\"linecolor\":\"#506784\",\"ticks\":\"\"},\"bgcolor\":\"rgb(17,17,17)\",\"radialaxis\":{\"gridcolor\":\"#506784\",\"linecolor\":\"#506784\",\"ticks\":\"\"}},\"scene\":{\"xaxis\":{\"backgroundcolor\":\"rgb(17,17,17)\",\"gridcolor\":\"#506784\",\"gridwidth\":2,\"linecolor\":\"#506784\",\"showbackground\":true,\"ticks\":\"\",\"zerolinecolor\":\"#C8D4E3\"},\"yaxis\":{\"backgroundcolor\":\"rgb(17,17,17)\",\"gridcolor\":\"#506784\",\"gridwidth\":2,\"linecolor\":\"#506784\",\"showbackground\":true,\"ticks\":\"\",\"zerolinecolor\":\"#C8D4E3\"},\"zaxis\":{\"backgroundcolor\":\"rgb(17,17,17)\",\"gridcolor\":\"#506784\",\"gridwidth\":2,\"linecolor\":\"#506784\",\"showbackground\":true,\"ticks\":\"\",\"zerolinecolor\":\"#C8D4E3\"}},\"shapedefaults\":{\"line\":{\"color\":\"#f2f5fa\"}},\"sliderdefaults\":{\"bgcolor\":\"#C8D4E3\",\"bordercolor\":\"rgb(17,17,17)\",\"borderwidth\":1,\"tickwidth\":0},\"ternary\":{\"aaxis\":{\"gridcolor\":\"#506784\",\"linecolor\":\"#506784\",\"ticks\":\"\"},\"baxis\":{\"gridcolor\":\"#506784\",\"linecolor\":\"#506784\",\"ticks\":\"\"},\"bgcolor\":\"rgb(17,17,17)\",\"caxis\":{\"gridcolor\":\"#506784\",\"linecolor\":\"#506784\",\"ticks\":\"\"}},\"title\":{\"x\":0.05},\"updatemenudefaults\":{\"bgcolor\":\"#506784\",\"borderwidth\":0},\"xaxis\":{\"automargin\":true,\"gridcolor\":\"#283442\",\"linecolor\":\"#506784\",\"ticks\":\"\",\"title\":{\"standoff\":15},\"zerolinecolor\":\"#283442\",\"zerolinewidth\":2},\"yaxis\":{\"automargin\":true,\"gridcolor\":\"#283442\",\"linecolor\":\"#506784\",\"ticks\":\"\",\"title\":{\"standoff\":15},\"zerolinecolor\":\"#283442\",\"zerolinewidth\":2}}},\"title\":{\"text\":\"\\u041f\\u0440\\u0435\\u0434\\u0441\\u043a\\u0430\\u0437\\u0430\\u043d\\u0438\\u0435 \\u043c\\u043e\\u0434\\u0435\\u043b\\u0438\"},\"width\":1200,\"height\":600},                        {\"responsive\": true}                    ).then(function(){\n",
              "                            \n",
              "var gd = document.getElementById('ddb589d7-587e-4207-9356-5ced237e6ddd');\n",
              "var x = new MutationObserver(function (mutations, observer) {{\n",
              "        var display = window.getComputedStyle(gd).display;\n",
              "        if (!display || display === 'none') {{\n",
              "            console.log([gd, 'removed!']);\n",
              "            Plotly.purge(gd);\n",
              "            observer.disconnect();\n",
              "        }}\n",
              "}});\n",
              "\n",
              "// Listen for the removal of the full notebook cells\n",
              "var notebookContainer = gd.closest('#notebook-container');\n",
              "if (notebookContainer) {{\n",
              "    x.observe(notebookContainer, {childList: true});\n",
              "}}\n",
              "\n",
              "// Listen for the clearing of the current output cell\n",
              "var outputEl = gd.closest('.output');\n",
              "if (outputEl) {{\n",
              "    x.observe(outputEl, {childList: true});\n",
              "}}\n",
              "\n",
              "                        })                };                            </script>        </div>\n",
              "</body>\n",
              "</html>"
            ]
          },
          "metadata": {}
        }
      ]
    },
    {
      "cell_type": "markdown",
      "source": [
        "Модель старалась, но у неё ничего не получилось, а жаль"
      ],
      "metadata": {
        "id": "GVWcgv81-4JH"
      }
    },
    {
      "cell_type": "markdown",
      "source": [
        "## Полиномиальные данные"
      ],
      "metadata": {
        "id": "NVHxR2MmgsNb"
      }
    },
    {
      "cell_type": "markdown",
      "metadata": {
        "id": "2oqLqaTJbNad"
      },
      "source": [
        "Теперь попробуем реализовать полиномиальную регрессию.\n",
        "Как известно члены полиномов различных целых степеней можно считать независимыми функциями. Поэтому\n",
        "регрессия может быть представлена как многопеременная линейная регрессия.\n",
        "\n",
        "Для реализации давайте запишем функцию `to_polynom` создающую полином из входных данных `x`. Выход функуции будет массив, имеющий число столбцов, равное степени искомого полинома."
      ]
    },
    {
      "cell_type": "code",
      "execution_count": null,
      "metadata": {
        "id": "GA-Kro-BbNae"
      },
      "outputs": [],
      "source": [
        "def to_polynom(x, order = 1, add_bias = False):\n",
        "    \"\"\"Генерация полиномиальных признаков .\n",
        "    Входные переменные:\n",
        "    ===========\n",
        "    x: признаки\n",
        "    order: порядок полинома\n",
        "    add_bias: добавляем ли константу (так вроде делает и scikit-learn)\n",
        "    \"\"\"\n",
        "    order_range = range( 0 if add_bias else 1, order+1,1)\n",
        "    x = np.atleast_1d(x)[:]\n",
        "    out = np.array([])\n",
        "    for i in order_range:\n",
        "        out = np.append(out, np.power(x,i))# складываем в выходную переменную все степени от 0/1 до order\n",
        "    return out.reshape(-1, x.size).T"
      ]
    },
    {
      "cell_type": "markdown",
      "source": [
        "Сделаем, например полиномы до 3 степени"
      ],
      "metadata": {
        "id": "WJmh3x_dAYj7"
      }
    },
    {
      "cell_type": "code",
      "source": [
        "x_ = to_polynom(x, order = 3)\n",
        "x_train, x_test, y_train, y_test = train_test_split(x_, y,  test_size=0.3, )"
      ],
      "metadata": {
        "id": "rW_M7hPZYXuL"
      },
      "execution_count": null,
      "outputs": []
    },
    {
      "cell_type": "markdown",
      "source": [
        "Создадим новую модель"
      ],
      "metadata": {
        "id": "NyR0JweqAdPJ"
      }
    },
    {
      "cell_type": "code",
      "source": [
        "regr_poly = LinearRegression(learning_rate=0.1,\n",
        "                        epochs=100,batch_size=10,\n",
        "                        n_batches=None)"
      ],
      "metadata": {
        "id": "5ZoDtZiEYRyY"
      },
      "execution_count": null,
      "outputs": []
    },
    {
      "cell_type": "markdown",
      "source": [
        "Обучим её методом `.fit`"
      ],
      "metadata": {
        "id": "r9RSn4bDAgG8"
      }
    },
    {
      "cell_type": "code",
      "source": [
        "regr_poly.fit(x_train, y_train)\n",
        "\n",
        "print(f'Коэффициент детерминации на тренировочных данных = {regr_poly.score(x_train, y_train):.2f}')\n",
        "regr_poly.plot_cost()"
      ],
      "metadata": {
        "id": "bVNSVZ9gY5lg",
        "colab": {
          "base_uri": "https://localhost:8080/",
          "height": 634
        },
        "outputId": "98b37f4d-6240-4473-dcea-fd4e34e82372"
      },
      "execution_count": null,
      "outputs": [
        {
          "output_type": "stream",
          "name": "stdout",
          "text": [
            "Коэффициент детерминации на тренировочных данных = 0.97\n"
          ]
        },
        {
          "output_type": "display_data",
          "data": {
            "text/html": [
              "<html>\n",
              "<head><meta charset=\"utf-8\" /></head>\n",
              "<body>\n",
              "    <div>            <script src=\"https://cdnjs.cloudflare.com/ajax/libs/mathjax/2.7.5/MathJax.js?config=TeX-AMS-MML_SVG\"></script><script type=\"text/javascript\">if (window.MathJax && window.MathJax.Hub && window.MathJax.Hub.Config) {window.MathJax.Hub.Config({SVG: {font: \"STIX-Web\"}});}</script>                <script type=\"text/javascript\">window.PlotlyConfig = {MathJaxConfig: 'local'};</script>\n",
              "        <script charset=\"utf-8\" src=\"https://cdn.plot.ly/plotly-2.24.1.min.js\"></script>                <div id=\"7bb8bb1e-6eb9-4192-a348-acf89b9a47a4\" class=\"plotly-graph-div\" style=\"height:600px; width:1200px;\"></div>            <script type=\"text/javascript\">                                    window.PLOTLYENV=window.PLOTLYENV || {};                                    if (document.getElementById(\"7bb8bb1e-6eb9-4192-a348-acf89b9a47a4\")) {                    Plotly.newPlot(                        \"7bb8bb1e-6eb9-4192-a348-acf89b9a47a4\",                        [{\"mode\":\"lines+markers\",\"name\":\"\\u0420\\u0435\\u0430\\u043b\\u044c\\u043d\\u044b\\u0435 \\u0434\\u0430\\u043d\\u043d\\u044b\\u0435\",\"y\":[0.27095084067570224,0.10365717799184976,0.08682669886778711,0.07814415551413456,0.06778049998696818,0.0667357623690422,0.054602524908628734,0.05300556055717195,0.048806841850520886,0.041851525586956984,0.03956776114295312,0.0340580136137946,0.03258169806110267,0.029005619453600067,0.02608358564922939,0.02369949619165458,0.021383082296128297,0.020526945103924565,0.01936727644303782,0.01665013334857999,0.015002501424224386,0.014034599619799137,0.01343973403917502,0.01230888795334802,0.011530204060895551,0.010665538915826271,0.009820303620816222,0.009507872530369211,0.008625489185200565,0.008344709164656936,0.007820834468927684,0.007630451184579965,0.007276997407611326,0.006978901848804684,0.006449656457063682,0.006669236247297241,0.006368199247945937,0.005951234295367147,0.005654619546329356,0.005330540643954019,0.005115195780820048,0.004841826395130667,0.004780080554427878,0.004837966667004282,0.005003367646903392,0.004466190712961015,0.004590757450778587,0.004690358317696811,0.004604306259575334,0.004320306759337202,0.004220885811068401,0.004418901907546666,0.004058727642351034,0.004078889228714373,0.004114848767306768,0.004216131341273219,0.0039785442115880506,0.004005461478909492,0.003946958607218597,0.0038936582230199375,0.004007917804338255,0.0038461038917137515,0.004033582682257494,0.003926275474757371,0.004132087911304463,0.004141219663869947,0.0038003844257922296,0.0038490787831531896,0.003810233525649915,0.00385332190754822,0.0039674787054123015,0.003779440116239478,0.003741908825954878,0.003754961575325936,0.003772104487458545,0.003865549352752908,0.0038335331504393334,0.0036507199511957296,0.0036433035088752476,0.0037037850977403586,0.003801253019056633,0.003868214714957362,0.0038033197628620907,0.004059011756156955,0.003867561164785347,0.003856571640794667,0.0036922398010368527,0.0037479768564170394,0.0037707988149399047,0.0037923918386824646,0.0036756271901454106,0.0036962571128377835,0.0036943383872007278,0.0038949349432940484,0.0036702308832811227,0.0036832922103887723,0.0036735405335274604,0.0037296885480817554,0.0037535646119764934,0.003936012392154975],\"type\":\"scatter\"}],                        {\"template\":{\"data\":{\"barpolar\":[{\"marker\":{\"line\":{\"color\":\"rgb(17,17,17)\",\"width\":0.5},\"pattern\":{\"fillmode\":\"overlay\",\"size\":10,\"solidity\":0.2}},\"type\":\"barpolar\"}],\"bar\":[{\"error_x\":{\"color\":\"#f2f5fa\"},\"error_y\":{\"color\":\"#f2f5fa\"},\"marker\":{\"line\":{\"color\":\"rgb(17,17,17)\",\"width\":0.5},\"pattern\":{\"fillmode\":\"overlay\",\"size\":10,\"solidity\":0.2}},\"type\":\"bar\"}],\"carpet\":[{\"aaxis\":{\"endlinecolor\":\"#A2B1C6\",\"gridcolor\":\"#506784\",\"linecolor\":\"#506784\",\"minorgridcolor\":\"#506784\",\"startlinecolor\":\"#A2B1C6\"},\"baxis\":{\"endlinecolor\":\"#A2B1C6\",\"gridcolor\":\"#506784\",\"linecolor\":\"#506784\",\"minorgridcolor\":\"#506784\",\"startlinecolor\":\"#A2B1C6\"},\"type\":\"carpet\"}],\"choropleth\":[{\"colorbar\":{\"outlinewidth\":0,\"ticks\":\"\"},\"type\":\"choropleth\"}],\"contourcarpet\":[{\"colorbar\":{\"outlinewidth\":0,\"ticks\":\"\"},\"type\":\"contourcarpet\"}],\"contour\":[{\"colorbar\":{\"outlinewidth\":0,\"ticks\":\"\"},\"colorscale\":[[0.0,\"#0d0887\"],[0.1111111111111111,\"#46039f\"],[0.2222222222222222,\"#7201a8\"],[0.3333333333333333,\"#9c179e\"],[0.4444444444444444,\"#bd3786\"],[0.5555555555555556,\"#d8576b\"],[0.6666666666666666,\"#ed7953\"],[0.7777777777777778,\"#fb9f3a\"],[0.8888888888888888,\"#fdca26\"],[1.0,\"#f0f921\"]],\"type\":\"contour\"}],\"heatmapgl\":[{\"colorbar\":{\"outlinewidth\":0,\"ticks\":\"\"},\"colorscale\":[[0.0,\"#0d0887\"],[0.1111111111111111,\"#46039f\"],[0.2222222222222222,\"#7201a8\"],[0.3333333333333333,\"#9c179e\"],[0.4444444444444444,\"#bd3786\"],[0.5555555555555556,\"#d8576b\"],[0.6666666666666666,\"#ed7953\"],[0.7777777777777778,\"#fb9f3a\"],[0.8888888888888888,\"#fdca26\"],[1.0,\"#f0f921\"]],\"type\":\"heatmapgl\"}],\"heatmap\":[{\"colorbar\":{\"outlinewidth\":0,\"ticks\":\"\"},\"colorscale\":[[0.0,\"#0d0887\"],[0.1111111111111111,\"#46039f\"],[0.2222222222222222,\"#7201a8\"],[0.3333333333333333,\"#9c179e\"],[0.4444444444444444,\"#bd3786\"],[0.5555555555555556,\"#d8576b\"],[0.6666666666666666,\"#ed7953\"],[0.7777777777777778,\"#fb9f3a\"],[0.8888888888888888,\"#fdca26\"],[1.0,\"#f0f921\"]],\"type\":\"heatmap\"}],\"histogram2dcontour\":[{\"colorbar\":{\"outlinewidth\":0,\"ticks\":\"\"},\"colorscale\":[[0.0,\"#0d0887\"],[0.1111111111111111,\"#46039f\"],[0.2222222222222222,\"#7201a8\"],[0.3333333333333333,\"#9c179e\"],[0.4444444444444444,\"#bd3786\"],[0.5555555555555556,\"#d8576b\"],[0.6666666666666666,\"#ed7953\"],[0.7777777777777778,\"#fb9f3a\"],[0.8888888888888888,\"#fdca26\"],[1.0,\"#f0f921\"]],\"type\":\"histogram2dcontour\"}],\"histogram2d\":[{\"colorbar\":{\"outlinewidth\":0,\"ticks\":\"\"},\"colorscale\":[[0.0,\"#0d0887\"],[0.1111111111111111,\"#46039f\"],[0.2222222222222222,\"#7201a8\"],[0.3333333333333333,\"#9c179e\"],[0.4444444444444444,\"#bd3786\"],[0.5555555555555556,\"#d8576b\"],[0.6666666666666666,\"#ed7953\"],[0.7777777777777778,\"#fb9f3a\"],[0.8888888888888888,\"#fdca26\"],[1.0,\"#f0f921\"]],\"type\":\"histogram2d\"}],\"histogram\":[{\"marker\":{\"pattern\":{\"fillmode\":\"overlay\",\"size\":10,\"solidity\":0.2}},\"type\":\"histogram\"}],\"mesh3d\":[{\"colorbar\":{\"outlinewidth\":0,\"ticks\":\"\"},\"type\":\"mesh3d\"}],\"parcoords\":[{\"line\":{\"colorbar\":{\"outlinewidth\":0,\"ticks\":\"\"}},\"type\":\"parcoords\"}],\"pie\":[{\"automargin\":true,\"type\":\"pie\"}],\"scatter3d\":[{\"line\":{\"colorbar\":{\"outlinewidth\":0,\"ticks\":\"\"}},\"marker\":{\"colorbar\":{\"outlinewidth\":0,\"ticks\":\"\"}},\"type\":\"scatter3d\"}],\"scattercarpet\":[{\"marker\":{\"colorbar\":{\"outlinewidth\":0,\"ticks\":\"\"}},\"type\":\"scattercarpet\"}],\"scattergeo\":[{\"marker\":{\"colorbar\":{\"outlinewidth\":0,\"ticks\":\"\"}},\"type\":\"scattergeo\"}],\"scattergl\":[{\"marker\":{\"line\":{\"color\":\"#283442\"}},\"type\":\"scattergl\"}],\"scattermapbox\":[{\"marker\":{\"colorbar\":{\"outlinewidth\":0,\"ticks\":\"\"}},\"type\":\"scattermapbox\"}],\"scatterpolargl\":[{\"marker\":{\"colorbar\":{\"outlinewidth\":0,\"ticks\":\"\"}},\"type\":\"scatterpolargl\"}],\"scatterpolar\":[{\"marker\":{\"colorbar\":{\"outlinewidth\":0,\"ticks\":\"\"}},\"type\":\"scatterpolar\"}],\"scatter\":[{\"marker\":{\"line\":{\"color\":\"#283442\"}},\"type\":\"scatter\"}],\"scatterternary\":[{\"marker\":{\"colorbar\":{\"outlinewidth\":0,\"ticks\":\"\"}},\"type\":\"scatterternary\"}],\"surface\":[{\"colorbar\":{\"outlinewidth\":0,\"ticks\":\"\"},\"colorscale\":[[0.0,\"#0d0887\"],[0.1111111111111111,\"#46039f\"],[0.2222222222222222,\"#7201a8\"],[0.3333333333333333,\"#9c179e\"],[0.4444444444444444,\"#bd3786\"],[0.5555555555555556,\"#d8576b\"],[0.6666666666666666,\"#ed7953\"],[0.7777777777777778,\"#fb9f3a\"],[0.8888888888888888,\"#fdca26\"],[1.0,\"#f0f921\"]],\"type\":\"surface\"}],\"table\":[{\"cells\":{\"fill\":{\"color\":\"#506784\"},\"line\":{\"color\":\"rgb(17,17,17)\"}},\"header\":{\"fill\":{\"color\":\"#2a3f5f\"},\"line\":{\"color\":\"rgb(17,17,17)\"}},\"type\":\"table\"}]},\"layout\":{\"annotationdefaults\":{\"arrowcolor\":\"#f2f5fa\",\"arrowhead\":0,\"arrowwidth\":1},\"autotypenumbers\":\"strict\",\"coloraxis\":{\"colorbar\":{\"outlinewidth\":0,\"ticks\":\"\"}},\"colorscale\":{\"diverging\":[[0,\"#8e0152\"],[0.1,\"#c51b7d\"],[0.2,\"#de77ae\"],[0.3,\"#f1b6da\"],[0.4,\"#fde0ef\"],[0.5,\"#f7f7f7\"],[0.6,\"#e6f5d0\"],[0.7,\"#b8e186\"],[0.8,\"#7fbc41\"],[0.9,\"#4d9221\"],[1,\"#276419\"]],\"sequential\":[[0.0,\"#0d0887\"],[0.1111111111111111,\"#46039f\"],[0.2222222222222222,\"#7201a8\"],[0.3333333333333333,\"#9c179e\"],[0.4444444444444444,\"#bd3786\"],[0.5555555555555556,\"#d8576b\"],[0.6666666666666666,\"#ed7953\"],[0.7777777777777778,\"#fb9f3a\"],[0.8888888888888888,\"#fdca26\"],[1.0,\"#f0f921\"]],\"sequentialminus\":[[0.0,\"#0d0887\"],[0.1111111111111111,\"#46039f\"],[0.2222222222222222,\"#7201a8\"],[0.3333333333333333,\"#9c179e\"],[0.4444444444444444,\"#bd3786\"],[0.5555555555555556,\"#d8576b\"],[0.6666666666666666,\"#ed7953\"],[0.7777777777777778,\"#fb9f3a\"],[0.8888888888888888,\"#fdca26\"],[1.0,\"#f0f921\"]]},\"colorway\":[\"#636efa\",\"#EF553B\",\"#00cc96\",\"#ab63fa\",\"#FFA15A\",\"#19d3f3\",\"#FF6692\",\"#B6E880\",\"#FF97FF\",\"#FECB52\"],\"font\":{\"color\":\"#f2f5fa\"},\"geo\":{\"bgcolor\":\"rgb(17,17,17)\",\"lakecolor\":\"rgb(17,17,17)\",\"landcolor\":\"rgb(17,17,17)\",\"showlakes\":true,\"showland\":true,\"subunitcolor\":\"#506784\"},\"hoverlabel\":{\"align\":\"left\"},\"hovermode\":\"closest\",\"mapbox\":{\"style\":\"dark\"},\"paper_bgcolor\":\"rgb(17,17,17)\",\"plot_bgcolor\":\"rgb(17,17,17)\",\"polar\":{\"angularaxis\":{\"gridcolor\":\"#506784\",\"linecolor\":\"#506784\",\"ticks\":\"\"},\"bgcolor\":\"rgb(17,17,17)\",\"radialaxis\":{\"gridcolor\":\"#506784\",\"linecolor\":\"#506784\",\"ticks\":\"\"}},\"scene\":{\"xaxis\":{\"backgroundcolor\":\"rgb(17,17,17)\",\"gridcolor\":\"#506784\",\"gridwidth\":2,\"linecolor\":\"#506784\",\"showbackground\":true,\"ticks\":\"\",\"zerolinecolor\":\"#C8D4E3\"},\"yaxis\":{\"backgroundcolor\":\"rgb(17,17,17)\",\"gridcolor\":\"#506784\",\"gridwidth\":2,\"linecolor\":\"#506784\",\"showbackground\":true,\"ticks\":\"\",\"zerolinecolor\":\"#C8D4E3\"},\"zaxis\":{\"backgroundcolor\":\"rgb(17,17,17)\",\"gridcolor\":\"#506784\",\"gridwidth\":2,\"linecolor\":\"#506784\",\"showbackground\":true,\"ticks\":\"\",\"zerolinecolor\":\"#C8D4E3\"}},\"shapedefaults\":{\"line\":{\"color\":\"#f2f5fa\"}},\"sliderdefaults\":{\"bgcolor\":\"#C8D4E3\",\"bordercolor\":\"rgb(17,17,17)\",\"borderwidth\":1,\"tickwidth\":0},\"ternary\":{\"aaxis\":{\"gridcolor\":\"#506784\",\"linecolor\":\"#506784\",\"ticks\":\"\"},\"baxis\":{\"gridcolor\":\"#506784\",\"linecolor\":\"#506784\",\"ticks\":\"\"},\"bgcolor\":\"rgb(17,17,17)\",\"caxis\":{\"gridcolor\":\"#506784\",\"linecolor\":\"#506784\",\"ticks\":\"\"}},\"title\":{\"x\":0.05},\"updatemenudefaults\":{\"bgcolor\":\"#506784\",\"borderwidth\":0},\"xaxis\":{\"automargin\":true,\"gridcolor\":\"#283442\",\"linecolor\":\"#506784\",\"ticks\":\"\",\"title\":{\"standoff\":15},\"zerolinecolor\":\"#283442\",\"zerolinewidth\":2},\"yaxis\":{\"automargin\":true,\"gridcolor\":\"#283442\",\"linecolor\":\"#506784\",\"ticks\":\"\",\"title\":{\"standoff\":15},\"zerolinecolor\":\"#283442\",\"zerolinewidth\":2}}},\"title\":{\"text\":\"\\u041a\\u0440\\u0438\\u0432\\u0430\\u044f \\u043e\\u0431\\u0443\\u0447\\u0435\\u043d\\u0438\\u044f\"},\"width\":1200,\"height\":600},                        {\"responsive\": true}                    ).then(function(){\n",
              "                            \n",
              "var gd = document.getElementById('7bb8bb1e-6eb9-4192-a348-acf89b9a47a4');\n",
              "var x = new MutationObserver(function (mutations, observer) {{\n",
              "        var display = window.getComputedStyle(gd).display;\n",
              "        if (!display || display === 'none') {{\n",
              "            console.log([gd, 'removed!']);\n",
              "            Plotly.purge(gd);\n",
              "            observer.disconnect();\n",
              "        }}\n",
              "}});\n",
              "\n",
              "// Listen for the removal of the full notebook cells\n",
              "var notebookContainer = gd.closest('#notebook-container');\n",
              "if (notebookContainer) {{\n",
              "    x.observe(notebookContainer, {childList: true});\n",
              "}}\n",
              "\n",
              "// Listen for the clearing of the current output cell\n",
              "var outputEl = gd.closest('.output');\n",
              "if (outputEl) {{\n",
              "    x.observe(outputEl, {childList: true});\n",
              "}}\n",
              "\n",
              "                        })                };                            </script>        </div>\n",
              "</body>\n",
              "</html>"
            ]
          },
          "metadata": {}
        }
      ]
    },
    {
      "cell_type": "markdown",
      "source": [
        "Рисуем результат"
      ],
      "metadata": {
        "id": "o4WpzIiPAkC2"
      }
    },
    {
      "cell_type": "code",
      "source": [
        "plot_model_class(x_train, y_train, x_test, x, y_true, regr_poly);"
      ],
      "metadata": {
        "colab": {
          "base_uri": "https://localhost:8080/",
          "height": 617
        },
        "id": "XEHWvk3PYhHc",
        "outputId": "dca6046e-f868-4b9b-a4cf-712112acf072"
      },
      "execution_count": null,
      "outputs": [
        {
          "output_type": "display_data",
          "data": {
            "text/html": [
              "<html>\n",
              "<head><meta charset=\"utf-8\" /></head>\n",
              "<body>\n",
              "    <div>            <script src=\"https://cdnjs.cloudflare.com/ajax/libs/mathjax/2.7.5/MathJax.js?config=TeX-AMS-MML_SVG\"></script><script type=\"text/javascript\">if (window.MathJax && window.MathJax.Hub && window.MathJax.Hub.Config) {window.MathJax.Hub.Config({SVG: {font: \"STIX-Web\"}});}</script>                <script type=\"text/javascript\">window.PlotlyConfig = {MathJaxConfig: 'local'};</script>\n",
              "        <script charset=\"utf-8\" src=\"https://cdn.plot.ly/plotly-2.24.1.min.js\"></script>                <div id=\"04752ecf-472e-4682-9b46-58baa7e2a7cf\" class=\"plotly-graph-div\" style=\"height:600px; width:1200px;\"></div>            <script type=\"text/javascript\">                                    window.PLOTLYENV=window.PLOTLYENV || {};                                    if (document.getElementById(\"04752ecf-472e-4682-9b46-58baa7e2a7cf\")) {                    Plotly.newPlot(                        \"04752ecf-472e-4682-9b46-58baa7e2a7cf\",                        [{\"marker\":{\"color\":\"Blue\",\"size\":5},\"mode\":\"markers\",\"name\":\"\\u041f\\u0440\\u0435\\u0434\\u0441\\u043a\\u0430\\u0437\\u0430\\u043d\\u0438\\u0435 \\u043d\\u0430 x_test\",\"x\":[1.1621220654282163,0.22925563731679227,0.8068403698839598,0.3640364252475524,0.1498317091671035,1.0405533010005272,0.0303949580393173,0.8469554523028531,0.5129786537945371,0.4064791525334338,0.38030280369942215,1.1231927356588491,1.1435804877755607,0.4009750812146698,0.031773908430118986,0.05653411113817258,0.28033663682569976,1.1088580303313966,0.6500850264722635,0.07944793785752954,0.8220161153754292,0.32347497700002115,1.1201141249043665,0.6620632229450081,1.0225184574031163,1.1558670228482035,0.2965613593710001,0.2449785780239315,0.48341918287567176,0.2310680694069088,1.1924107212532342,0.8648689971158665,1.0615292631177224,0.9520245191608969,1.214727603401201,1.0441281194865475,1.1213878249407214,0.8293772113850697,0.27763476308841284,0.22728120900887577,0.39750434371482984,0.09622488728599124,0.2654238883478452,1.0215277502515199,0.7969468391940164,1.2070400413431992,0.9444389231788108,0.9640879333574321,0.6427930480170145,0.1743673258150523,0.7917546956380294,1.1755732304411428,0.006902646404502999,0.2332125736075448,0.7580363245744874,0.6484882771792077,0.761955417474871,0.45964475382429193,0.4459416583669866,0.5501906171745017,0.39294497634540837,1.0193267855685426,0.33918628971736986,1.0966741917262262,1.0759132290704292,0.6172444954554884,1.2336086707506466,0.09318830459971353,0.9509813107711218,0.3224270346439445,0.4681751485592031,0.058063015899997156,0.40666291345408045,0.8915559840287437,0.45795230411711463],\"y\":[-0.25476689013474607,-0.656874858060269,0.03813652619302943,-0.4184782769367309,-0.8065254760385183,-0.06688669727593399,-1.0354640391991157,0.041319998473375974,-0.1950460961206434,-0.34962888281771154,-0.39166693829416765,-0.18353436089198716,-0.21949531939287192,-0.3583500251998436,-1.0328302588762033,-0.9854332606025041,-0.5635933928498479,-0.15999039748081423,-0.04504697887837472,-0.9414531786083895,0.040281557520787103,-0.4874173256367921,-0.1783576622142261,-0.035075526104025756,-0.04739213021094413,-0.24259181296810706,-0.5346304301073812,-0.6278557176052209,-0.23503999245354223,-0.6535172172915602,-0.31775969761354417,0.040107836321273016,-0.09219077870331172,0.009514792785423332,-0.3685334386733722,-0.07099766575033772,-0.18049138505431794,0.04091295590073507,-0.5684504996447401,-0.6605361693608015,-0.36388231944462324,-0.9092286242995514,-0.5905163047870157,-0.04638097729496227,0.03613557908355225,-0.3506198908344791,0.013871313200355728,0.001894980113581024,-0.051384341058545835,-0.7598567233397726,0.03489785773524101,-0.28191073797703403,-1.0802064771971476,-0.6495484926269398,0.02378919578751859,-0.04641754990612035,0.025349106726718085,-0.26890561914405964,-0.2890744752343871,-0.14828022230105076,-0.3711880398026651,-0.044156687559034236,-0.4603792872669571,-0.14109178998221172,-0.11120811924450802,-0.07514043910200519,-0.4144417275876091,-0.9150609300421265,0.010133736453888043,-0.4892349973457233,-0.2565867653132229,-0.9825012795290219,-0.3493388318980791,0.03517299361262771,-0.2713715230402277],\"type\":\"scatter\"},{\"marker\":{\"color\":\"LightSkyBlue\",\"size\":10},\"mode\":\"markers\",\"name\":\"\\u041f\\u0440\\u0435\\u0434\\u0441\\u043a\\u0430\\u0437\\u0430\\u043d\\u0438\\u0435 \\u043d\\u0430 x_train\",\"x\":[0.7103857541693395,0.02573061786975306,0.42633293881282314,0.28311971899742244,0.5338847357828204,0.9074445985877992,1.0027462259425497,0.91200772292258,0.039286482108417814,0.4597289158990665,1.0101504744555212,1.1090159282204082,1.178637129890649,1.203059118677639,0.30256908938937555,1.125522571454163,0.9748444323220298,0.06434843906248669,0.8850907222450568,0.11286221256801038,1.216263193440557,0.09255581466761295,0.5352301853966429,0.30498705422385447,0.8835716798095214,0.2131551546091144,0.2483946019177155,0.042985651394022995,0.13756490565959595,0.6156471172735799,1.0104966851455763,0.14949280742287713,0.7015964969618703,1.118534188034561,0.11637845975737401,0.5217637539359737,0.0813144912315994,0.9935141294270605,0.9030651440768817,0.7955130140797255,0.5902686564524366,0.4237872388108759,0.48584661211185254,0.9149924272642563,1.1215196974416584,0.07260451521024933,0.7473749735138564,0.3116152864360937,0.8636721726280825,0.1761552812184533,0.6534160367274926,1.1344580924076162,1.188392883012395,0.6118159503469538,0.6741778023945634,0.3023153636255646,1.1150581939713917,0.7889232824965786,0.8281528554424775,1.152342793778896,1.1709124859209181,0.791376821591585,0.570087480271295,0.38076721146671333,0.6283487790360769,0.8249800575427237,1.2123873152024929,0.4913721558334505,0.8552912831401961,1.1743736769552364,0.3315029596021568,0.7919121384511184,0.5399312733026447,0.3483080802957643,1.1861069215666666,0.37609788727096205,0.13486428374163056,0.6357133639558785,0.36218931614221006,0.3896388451117637,0.02073478615982019,0.24959222769794967,0.9331142563975302,1.1603982032346567,0.8401694342573482,0.2994523633337155,0.6940010144993279,0.6282963663814901,1.0893257377346472,0.751393764679011,0.14184190155073634,0.050968926943454895,0.15254779355597353,0.12683942858254013,0.20101006427187332,1.1156987481124723,0.10517495624381104,0.40674962269908466,1.082720182218669,0.4545370029741175,0.2331481379998178,0.42201896425453495,0.7211298557829489,1.009300193955078,0.35096545305106974,0.19502330055304565,0.534426272948187,0.7648161184029744,0.3560506179718345,0.7483231052462957,0.1170934597851156,1.204524971361566,0.8120411238090184,1.208318523804587,0.6783701039478106,0.0063269798077733586,0.00869016316398838,0.35116813710922595,0.2179580362562393,0.4480821606803408,0.6384341282219572,0.7594310648767979,1.232063067638251,0.40400366502594404,0.38872790214457775,0.8787736986189723,0.981469951741267,0.4365119682658261,0.17190118018249156,0.2849189531774271,0.8064659880118124,0.6859172367082327,0.046108684193165994,1.2119807847056983,1.0045900961238932,0.12209014250797984,0.7903822882419743,0.019320770661084286,0.6189711376390877,0.14483632440641214,0.7386161789853023,0.8902240266844198,0.6833878491790996,0.2859977068645281,0.6697183550934481,0.6401163228741013,1.1353323574583172,1.0359218864399118,0.3147278697817052,0.9653059616208217,0.2970469299904996,0.2020358926182672,0.8149515743782507,0.1949931504202533,0.6215606323654819,0.7791226585344474,0.11061562756489937,1.078879282344492,0.9112589600512342,0.3651808106690227,0.18111859011402887,1.0662618193342002,0.22138834925881118,0.4136225310658115,0.9637089749432013,0.8025395576928597,0.20152660906750552,0.7405182110775531,0.9102704357648245,0.01149631452078706,0.46269837531930547,0.24405373474755562,0.6559455395402973,1.1366505025984777,0.9689160292013932],\"y\":[-0.0006072587256292783,-1.0443673177092272,-0.31871959276629314,-0.5586002052226168,-0.16826178163571792,0.030410632572757335,-0.028373077835645133,0.028786288704059415,-1.0184691642752963,-0.2687831818807469,-0.0352100891999374,-0.16024199617154788,-0.288278471808988,-0.34151897052457425,-0.523998387823196,-0.18749595296050436,-0.005623915808579905,-0.9704430565884482,0.03671781669254692,-0.8772878984212507,-0.37216536454382987,-0.9162757894269791,-0.16658237945954069,-0.5197339134126885,0.03704812129380286,-0.6868348286435223,-0.6215846377592096,-1.0113908399182456,-0.8299585062683846,-0.0767042890959918,-0.03553809698134147,-0.8071720857683344,-0.0061697981740512775,-0.17572661158515568,-0.870542259275457,-0.18363472097268074,-0.937868174053488,-0.020321556015159947,0.03186139763004381,0.035806618249709654,-0.10274969012198287,-0.3226336944584075,-0.23166550493183724,0.027661277738248224,-0.18071294546233863,-0.954595013483686,0.0191957080191959,-0.5080881175407648,0.04024079095591482,-0.7564684106120085,-0.04221894206756727,-0.20304249442816358,-0.3090147033140134,-0.08049198855100448,-0.02555548948369979,-0.5244463667703705,-0.16999909429884175,0.03416893530434284,0.04082664341566222,-0.23585627646730667,-0.27235619345508066,0.034802773715682744,-0.12502364096239693,-0.39090899163442405,-0.06452241011626703,0.04056819175394033,-0.3630327117469164,-0.2240432826178499,0.04096256508630425,-0.27943645424222985,-0.4735511103183859,0.03493727494909704,-0.16075741099925078,-0.4448715735281683,-0.3040926936927423,-0.398548934696099,-0.8351246608405556,-0.05772754220027321,-0.4215544957302799,-0.3765124114321382,-1.0538932271995134,-0.6193890327605572,0.01975783893081251,-0.2513832792929751,0.04134824014825755,-0.5295077130198353,-0.011234437759885973,-0.06457147959239751,-0.13018228016740252,0.020987004077910543,-0.8217818827208774,-0.9961012724322886,-0.8013450617933526,-0.8504889370182103,-0.7095809872192025,-0.1710482610814258,-0.8920421480675269,-0.3492019939597836,-0.12068688953585371,-0.27636935436172494,-0.6496676749794621,-0.325361122152802,0.00575163043558069,-0.034407676398066744,-0.44038109829946637,-0.7208355695005986,-0.1675851746935696,0.026443702612847675,-0.4318231234610419,0.019624807067593952,-0.8691708704671794,-0.3448562248784117,0.03899854031509398,-0.353568016915335,-0.022395536927179105,-1.0812994443948698,-1.076811530931551,-0.4400391117362362,-0.6778733744902732,-0.2858936701512761,-0.05526778175508873,0.02435231653831238,-0.41058081965805215,-0.353543281580758,-0.3779833610923946,0.03801022895161288,-0.010598987814313787,-0.30321787227925867,-0.7645333106355512,-0.5553775781592947,0.03806940363882649,-0.01688355828561383,-1.005411713018114,-0.36208141767032864,-0.03004396706973389,-0.8595900541745278,0.0345492847665827,-1.056587418453908,-0.07346028041139929,-0.8160611736392732,0.01504345760293746,0.03550971636537714,-0.018705432027973812,-0.5534474710619458,-0.028993040653848667,-0.0537606972099155,-0.2045937684922634,-0.06168266377194709,-0.5026420613323808,0.0010780361193429844,-0.5337691966528092,-0.7076552254586026,0.03942337820241437,-0.7208923158202195,-0.07096051756132105,0.03135427334028673,-0.8815989029680312,-0.11530032165876647,0.029060743939862466,-0.416575574970371,-0.7470726543552101,-0.09829690798644397,-0.6714852702731541,-0.33840747338338595,0.002147363440053063,0.037324602743779356,-0.708611189853572,0.015973910062316965,0.029418316712586212,-1.0714785163833866,-0.2644746685710445,-0.6295556671629319,-0.04009963325527366,-0.2069428568446392,-0.0013948687435925144],\"type\":\"scatter\"},{\"marker\":{\"color\":\"Red\",\"size\":5},\"mode\":\"markers\",\"name\":\"\\u0422\\u0440\\u0435\\u043d\\u0438\\u0440\\u043e\\u0432\\u043e\\u0447\\u043d\\u044b\\u0435 \\u0434\\u0430\\u043d\\u043d\\u044b\\u0435\",\"x\":[0.7103857541693395,0.02573061786975306,0.42633293881282314,0.28311971899742244,0.5338847357828204,0.9074445985877992,1.0027462259425497,0.91200772292258,0.039286482108417814,0.4597289158990665,1.0101504744555212,1.1090159282204082,1.178637129890649,1.203059118677639,0.30256908938937555,1.125522571454163,0.9748444323220298,0.06434843906248669,0.8850907222450568,0.11286221256801038,1.216263193440557,0.09255581466761295,0.5352301853966429,0.30498705422385447,0.8835716798095214,0.2131551546091144,0.2483946019177155,0.042985651394022995,0.13756490565959595,0.6156471172735799,1.0104966851455763,0.14949280742287713,0.7015964969618703,1.118534188034561,0.11637845975737401,0.5217637539359737,0.0813144912315994,0.9935141294270605,0.9030651440768817,0.7955130140797255,0.5902686564524366,0.4237872388108759,0.48584661211185254,0.9149924272642563,1.1215196974416584,0.07260451521024933,0.7473749735138564,0.3116152864360937,0.8636721726280825,0.1761552812184533,0.6534160367274926,1.1344580924076162,1.188392883012395,0.6118159503469538,0.6741778023945634,0.3023153636255646,1.1150581939713917,0.7889232824965786,0.8281528554424775,1.152342793778896,1.1709124859209181,0.791376821591585,0.570087480271295,0.38076721146671333,0.6283487790360769,0.8249800575427237,1.2123873152024929,0.4913721558334505,0.8552912831401961,1.1743736769552364,0.3315029596021568,0.7919121384511184,0.5399312733026447,0.3483080802957643,1.1861069215666666,0.37609788727096205,0.13486428374163056,0.6357133639558785,0.36218931614221006,0.3896388451117637,0.02073478615982019,0.24959222769794967,0.9331142563975302,1.1603982032346567,0.8401694342573482,0.2994523633337155,0.6940010144993279,0.6282963663814901,1.0893257377346472,0.751393764679011,0.14184190155073634,0.050968926943454895,0.15254779355597353,0.12683942858254013,0.20101006427187332,1.1156987481124723,0.10517495624381104,0.40674962269908466,1.082720182218669,0.4545370029741175,0.2331481379998178,0.42201896425453495,0.7211298557829489,1.009300193955078,0.35096545305106974,0.19502330055304565,0.534426272948187,0.7648161184029744,0.3560506179718345,0.7483231052462957,0.1170934597851156,1.204524971361566,0.8120411238090184,1.208318523804587,0.6783701039478106,0.0063269798077733586,0.00869016316398838,0.35116813710922595,0.2179580362562393,0.4480821606803408,0.6384341282219572,0.7594310648767979,1.232063067638251,0.40400366502594404,0.38872790214457775,0.8787736986189723,0.981469951741267,0.4365119682658261,0.17190118018249156,0.2849189531774271,0.8064659880118124,0.6859172367082327,0.046108684193165994,1.2119807847056983,1.0045900961238932,0.12209014250797984,0.7903822882419743,0.019320770661084286,0.6189711376390877,0.14483632440641214,0.7386161789853023,0.8902240266844198,0.6833878491790996,0.2859977068645281,0.6697183550934481,0.6401163228741013,1.1353323574583172,1.0359218864399118,0.3147278697817052,0.9653059616208217,0.2970469299904996,0.2020358926182672,0.8149515743782507,0.1949931504202533,0.6215606323654819,0.7791226585344474,0.11061562756489937,1.078879282344492,0.9112589600512342,0.3651808106690227,0.18111859011402887,1.0662618193342002,0.22138834925881118,0.4136225310658115,0.9637089749432013,0.8025395576928597,0.20152660906750552,0.7405182110775531,0.9102704357648245,0.01149631452078706,0.46269837531930547,0.24405373474755562,0.6559455395402973,1.1366505025984777,0.9689160292013932],\"y\":[0.002079868890337446,-0.9643202771131629,-0.46273225955566666,-0.5136819458071229,-0.24184863342558277,0.021224655020942652,0.004743254930813808,0.13094147935971043,-0.9500616789289891,-0.3413660041292827,0.036956497277051664,-0.1816482858424525,-0.2854142881097076,-0.3318153926345836,-0.593945729126003,-0.26920738993873644,-0.0835385918618063,-0.8752129130605742,0.04506624257142448,-0.8168371916263748,-0.4198666888983782,-0.8662075034940308,-0.1611186606259292,-0.5023712064502612,0.09986980550948102,-0.7479240829277746,-0.6155697152485103,-0.9505672351018172,-0.8540616501554138,-0.06564209900737897,-0.03978490258279383,-0.9058560135253864,0.02678464734650305,-0.18518547176035827,-0.8271165330110494,-0.18636720526751452,-0.8807849628311936,-0.03163848289713042,0.06605486650481066,-0.01604469549618555,-0.060333296587217713,-0.2625905119060112,-0.22644473608155788,0.10529454265765487,-0.14859607270667058,-0.9865015790821928,0.07834815438379164,-0.5900782489711529,0.14369104769530805,-0.7695017890406373,-0.045784374044301274,-0.14775189572247566,-0.39197940409948295,-0.12715347711130998,-0.0799404522178625,-0.6461239473224258,-0.13991561938258573,0.06391988606264168,0.06294551104046191,-0.24646361202196568,-0.20997483103481163,0.029136817141033906,-0.14460324045388767,-0.38151731722583854,-0.03750344260987744,0.013087968038519679,-0.3761045809479766,-0.24764994539278018,0.09297417002935993,-0.31905067578246726,-0.5245453969424178,-0.019497946934143848,-0.16130642471859266,-0.5447867049469429,-0.26911040782206064,-0.3753370137399693,-0.8455058208785429,-0.004573300138694877,-0.5419803376272939,-0.4741084433682352,-1.0407101191310977,-0.7169273670688882,0.15724850955215092,-0.2681859299340853,0.08194925722508398,-0.5232857535288123,0.019968121883452962,-0.03696809611365307,-0.15263631431050179,-0.009158618780193799,-0.8195336113140429,-0.9262108593808697,-0.8886461686995172,-0.8837065973581978,-0.7709418171988631,-0.22572210407758386,-0.8464838180300972,-0.363842923000692,-0.19094412630395402,-0.3512084221371761,-0.6408610450234653,-0.4339949585983237,-0.03369214610031279,0.08416076476065477,-0.5017710232493832,-0.7097637031394276,-0.22763641270931434,-0.0011562439783188438,-0.39905925990407753,0.022842051194566254,-0.8744591541574096,-0.4768945501911705,0.10280832582323768,-0.5019471964998572,-0.08632017733367292,-1.0359331512951966,-1.0134858591114777,-0.5511943504537616,-0.6005418487335736,-0.31624274250222845,-0.06576852888372628,0.05756694810816153,-0.39104006865897445,-0.39795042519357177,-0.42602254703814624,0.08609166177431718,-0.009118428524813399,-0.356340226276188,-0.802754746773744,-0.5787331045773222,0.07375552808844145,0.021041230885121567,-1.006983864299581,-0.4242456135622212,0.012413233317949142,-0.8137891427081083,0.026933243220039357,-0.9692423823596867,-0.09994935156925033,-0.7035522511469317,0.027604311813433823,0.07542330890084362,0.037021142844647026,-0.6602433007818563,0.07061533272996752,-0.030862141999050664,-0.19693322759553175,0.050396818245221645,-0.5273237719742339,-0.012023238142653159,-0.47279249073542545,-0.7305421165102848,0.052753016627874294,-0.7795555649443868,-0.031089796044794046,0.05946629950183459,-0.8108414014689889,-0.04285779598918533,0.08353873226636245,-0.45896696412157983,-0.819043569473425,-0.016712577523404243,-0.6705918235451258,-0.3064374935433798,0.14060861107337452,0.04622379223765684,-0.722793703063029,-0.008757259547466686,0.060194390432228635,-0.9454224540944269,-0.2647599395768072,-0.6716314035764093,-0.01822773339753717,-0.2538717168882282,-0.002690446947716186],\"type\":\"scatter\"},{\"marker\":{\"color\":\"green\",\"size\":10},\"mode\":\"lines+markers\",\"name\":\"\\u0418\\u0441\\u0442\\u0438\\u043d\\u043d\\u044b\\u0435 \\u0437\\u043d\\u0430\\u0447\\u0435\\u043d\\u0438\\u044f\",\"opacity\":0.7,\"x\":[0.0063269798077733586,0.006902646404502999,0.00869016316398838,0.01149631452078706,0.019320770661084286,0.02073478615982019,0.02573061786975306,0.0303949580393173,0.031773908430118986,0.039286482108417814,0.042985651394022995,0.046108684193165994,0.050968926943454895,0.05653411113817258,0.058063015899997156,0.06434843906248669,0.07260451521024933,0.07944793785752954,0.0813144912315994,0.09255581466761295,0.09318830459971353,0.09622488728599124,0.10517495624381104,0.11061562756489937,0.11286221256801038,0.11637845975737401,0.1170934597851156,0.12209014250797984,0.12683942858254013,0.13486428374163056,0.13756490565959595,0.14184190155073634,0.14483632440641214,0.14949280742287713,0.1498317091671035,0.15254779355597353,0.17190118018249156,0.1743673258150523,0.1761552812184533,0.18111859011402887,0.1949931504202533,0.19502330055304565,0.20101006427187332,0.20152660906750552,0.2020358926182672,0.2131551546091144,0.2179580362562393,0.22138834925881118,0.22728120900887577,0.22925563731679227,0.2310680694069088,0.2331481379998178,0.2332125736075448,0.24405373474755562,0.2449785780239315,0.2483946019177155,0.24959222769794967,0.2654238883478452,0.27763476308841284,0.28033663682569976,0.28311971899742244,0.2849189531774271,0.2859977068645281,0.2965613593710001,0.2970469299904996,0.2994523633337155,0.3023153636255646,0.30256908938937555,0.30498705422385447,0.3116152864360937,0.3147278697817052,0.3224270346439445,0.32347497700002115,0.3315029596021568,0.33918628971736986,0.3483080802957643,0.35096545305106974,0.35116813710922595,0.3560506179718345,0.36218931614221006,0.3640364252475524,0.3651808106690227,0.37609788727096205,0.38030280369942215,0.38076721146671333,0.38872790214457775,0.3896388451117637,0.39294497634540837,0.39750434371482984,0.4009750812146698,0.40400366502594404,0.4064791525334338,0.40666291345408045,0.40674962269908466,0.4136225310658115,0.42201896425453495,0.4237872388108759,0.42633293881282314,0.4365119682658261,0.4459416583669866,0.4480821606803408,0.4545370029741175,0.45795230411711463,0.45964475382429193,0.4597289158990665,0.46269837531930547,0.4681751485592031,0.48341918287567176,0.48584661211185254,0.4913721558334505,0.5129786537945371,0.5217637539359737,0.5338847357828204,0.534426272948187,0.5352301853966429,0.5399312733026447,0.5501906171745017,0.570087480271295,0.5902686564524366,0.6118159503469538,0.6156471172735799,0.6172444954554884,0.6189711376390877,0.6215606323654819,0.6282963663814901,0.6283487790360769,0.6357133639558785,0.6384341282219572,0.6401163228741013,0.6427930480170145,0.6484882771792077,0.6500850264722635,0.6534160367274926,0.6559455395402973,0.6620632229450081,0.6697183550934481,0.6741778023945634,0.6783701039478106,0.6833878491790996,0.6859172367082327,0.6940010144993279,0.7015964969618703,0.7103857541693395,0.7211298557829489,0.7386161789853023,0.7405182110775531,0.7473749735138564,0.7483231052462957,0.751393764679011,0.7580363245744874,0.7594310648767979,0.761955417474871,0.7648161184029744,0.7791226585344474,0.7889232824965786,0.7903822882419743,0.791376821591585,0.7917546956380294,0.7919121384511184,0.7955130140797255,0.7969468391940164,0.8025395576928597,0.8064659880118124,0.8068403698839598,0.8120411238090184,0.8149515743782507,0.8220161153754292,0.8249800575427237,0.8281528554424775,0.8293772113850697,0.8401694342573482,0.8469554523028531,0.8552912831401961,0.8636721726280825,0.8648689971158665,0.8787736986189723,0.8835716798095214,0.8850907222450568,0.8902240266844198,0.8915559840287437,0.9030651440768817,0.9074445985877992,0.9102704357648245,0.9112589600512342,0.91200772292258,0.9149924272642563,0.9331142563975302,0.9444389231788108,0.9509813107711218,0.9520245191608969,0.9637089749432013,0.9640879333574321,0.9653059616208217,0.9689160292013932,0.9748444323220298,0.981469951741267,0.9935141294270605,1.0027462259425497,1.0045900961238932,1.009300193955078,1.0101504744555212,1.0104966851455763,1.0193267855685426,1.0215277502515199,1.0225184574031163,1.0359218864399118,1.0405533010005272,1.0441281194865475,1.0615292631177224,1.0662618193342002,1.0759132290704292,1.078879282344492,1.082720182218669,1.0893257377346472,1.0966741917262262,1.1088580303313966,1.1090159282204082,1.1150581939713917,1.1156987481124723,1.118534188034561,1.1201141249043665,1.1213878249407214,1.1215196974416584,1.1231927356588491,1.125522571454163,1.1344580924076162,1.1353323574583172,1.1366505025984777,1.1435804877755607,1.152342793778896,1.1558670228482035,1.1603982032346567,1.1621220654282163,1.1709124859209181,1.1743736769552364,1.1755732304411428,1.178637129890649,1.1861069215666666,1.188392883012395,1.1924107212532342,1.203059118677639,1.204524971361566,1.2070400413431992,1.208318523804587,1.2119807847056983,1.2123873152024929,1.214727603401201,1.216263193440557,1.232063067638251,1.2336086707506466],\"y\":[-0.9935934653917764,-0.9930027183149877,-0.9911601115081266,-0.9882423938106005,-0.9799470695661969,-0.9784231801954983,-0.972979323405722,-0.9678134959874253,-0.9662710857408505,-0.9577479342262655,-0.9534776710241172,-0.9498353494080499,-0.9441002273982838,-0.9374350554096754,-0.9355858537645315,-0.9279030156623194,-0.9176181106843383,-0.9089310592509174,-0.9065367261916265,-0.8918968010396412,-0.8910620808501113,-0.8870385913685104,-0.8750283435647556,-0.8676196834780188,-0.8645372798010349,-0.8596860955763392,-0.8586956919253923,-0.8517376037327717,-0.8450653366313192,-0.8336648905415425,-0.8297934727639587,-0.823627318283359,-0.8192851794806071,-0.8124927538957989,-0.8119965149066759,-0.8080103751400346,-0.7791581534842723,-0.7754276614636445,-0.7727157899954104,-0.7651563305769598,-0.7437903794813884,-0.7437435905861614,-0.7344234856130063,-0.7336166325421278,-0.7328207085054754,-0.7153440655474838,-0.70773905319984,-0.7022877746610263,-0.6928865113175631,-0.6897265712842434,-0.6868216071265358,-0.6834827117632765,-0.6833791970580165,-0.6658945815030644,-0.6643969501446974,-0.6588574749570164,-0.6569125467160993,-0.6310745718417872,-0.6110038781548413,-0.6065486477048312,-0.6019546578211777,-0.59898219012537,-0.597199103065104,-0.5797056972755761,-0.5789003005860571,-0.5749090165563697,-0.5701554490247251,-0.5697340254826904,-0.5657167639095924,-0.5546947756902139,-0.5495147433815453,-0.5366930884501544,-0.5349471961954801,-0.5215691291393277,-0.5087639922223969,-0.4935673228802284,-0.48914261567972517,-0.48880519135551914,-0.4806798251006593,-0.4704732687292623,-0.4674045850338371,-0.4655039929858844,-0.4474006781932751,-0.4404433095313862,-0.43967550483358653,-0.42653420008912557,-0.42503301081583766,-0.41958944583258995,-0.4120953365404031,-0.4064012489754736,-0.40144052944307274,-0.39739152559428836,-0.39709117129388605,-0.3969494567267443,-0.3857383343506474,-0.3721041836569813,-0.3692421806388245,-0.3651278695795416,-0.3487509715244088,-0.3336938669012095,-0.3302923358889801,-0.3200734461461464,-0.31469087116667205,-0.31202997441655045,-0.3118977662820721,-0.30724004442785846,-0.29868563256393044,-0.2751370322705651,-0.2714247298532204,-0.26301492143661065,-0.2307048371529825,-0.21784864736369514,-0.20039888287947916,-0.19962736069946585,-0.1984833408820923,-0.1918249379902659,-0.17748604246254662,-0.15046960961932676,-0.12421654137663896,-0.09757490766951848,-0.09299696806588087,-0.09110287791452676,-0.08906529140788932,-0.08602863864415355,-0.07823891356305457,-0.07817892440990937,-0.06984724049641133,-0.06681872096536423,-0.06495979056379886,-0.06202334149952793,-0.05586431997583097,-0.054159460544320526,-0.050634172293937185,-0.04798558466938285,-0.041682669037350184,-0.034004031054305495,-0.0296395831428774,-0.025610746694286313,-0.020884400830356364,-0.01854190381302523,-0.011237868969154796,-0.004632628116710946,0.0026922075326831774,0.01117057247397879,0.023814083903747507,0.0251008260281389,0.02959216771290407,0.030194920269673187,0.03211624105943178,0.0361102085653211,0.03692037539438031,0.03836138828066993,0.03995477580000273,0.047281938927238976,0.051671557507205534,0.05228040198859585,0.052688732421950046,0.05284245342119043,0.052906270140722356,0.054328493222642216,0.05487481801715943,0.0568961498232492,0.05821014980854122,0.05833087917896207,0.059925344663136704,0.06074994312604565,0.06254727256038684,0.06321443627041012,0.0638711678400814,0.0641086322879072,0.0658133292081795,0.06652342610205042,0.0670068443173013,0.06705410204517914,0.06702454019314508,0.06600607566937011,0.0653626059239254,0.06512726616571629,0.06421868481032278,0.06395422351348623,0.06117106157736907,0.05987514421371598,0.058968881719281496,0.05863881770408996,0.05838429896995834,0.05733100135339453,0.04958938667657309,0.043555981575011504,0.03964292899374344,0.03898973901236302,0.031118464412490887,0.030845990419431146,0.02996285396638565,0.027279185324484923,0.022656194353684045,0.017169322559224653,0.006318150180554483,-0.002776434392996574,-0.004674565470908831,-0.00964777720013954,-0.010564694632250848,-0.010939719799673675,-0.02083532219145212,-0.0234014801897926,-0.024569618458746056,-0.041176120047496045,-0.047264967391146495,-0.052089143777840796,-0.0771385451455604,-0.08440619623167489,-0.09983945076069745,-0.10474861158785842,-0.11122274336423565,-0.12266756316281313,-0.13586480364034514,-0.15883826412802593,-0.15914501226849032,-0.17105811599996068,-0.17234108260845415,-0.1780664975092936,-0.18128960668287908,-0.18390514129882707,-0.18417681661111507,-0.18763779295082017,-0.19250168140195534,-0.2116357368174011,-0.21354892819451132,-0.21644739006040048,-0.2319618395302534,-0.2522473437366086,-0.26061856984916965,-0.27156185400459076,-0.2757786132200555,-0.29774187315697187,-0.30660246835851357,-0.3097014939243721,-0.31768308558896496,-0.3375419856986781,-0.3437332310704777,-0.3547450793073632,-0.38473661697706296,-0.3889575758700148,-0.3962521386013007,-0.3999855876118521,-0.4107752718399933,-0.4119816937377747,-0.4189606745316743,-0.42357142791936697,-0.4724708459375391,-0.4773981720906302],\"type\":\"scatter\"}],                        {\"template\":{\"data\":{\"barpolar\":[{\"marker\":{\"line\":{\"color\":\"rgb(17,17,17)\",\"width\":0.5},\"pattern\":{\"fillmode\":\"overlay\",\"size\":10,\"solidity\":0.2}},\"type\":\"barpolar\"}],\"bar\":[{\"error_x\":{\"color\":\"#f2f5fa\"},\"error_y\":{\"color\":\"#f2f5fa\"},\"marker\":{\"line\":{\"color\":\"rgb(17,17,17)\",\"width\":0.5},\"pattern\":{\"fillmode\":\"overlay\",\"size\":10,\"solidity\":0.2}},\"type\":\"bar\"}],\"carpet\":[{\"aaxis\":{\"endlinecolor\":\"#A2B1C6\",\"gridcolor\":\"#506784\",\"linecolor\":\"#506784\",\"minorgridcolor\":\"#506784\",\"startlinecolor\":\"#A2B1C6\"},\"baxis\":{\"endlinecolor\":\"#A2B1C6\",\"gridcolor\":\"#506784\",\"linecolor\":\"#506784\",\"minorgridcolor\":\"#506784\",\"startlinecolor\":\"#A2B1C6\"},\"type\":\"carpet\"}],\"choropleth\":[{\"colorbar\":{\"outlinewidth\":0,\"ticks\":\"\"},\"type\":\"choropleth\"}],\"contourcarpet\":[{\"colorbar\":{\"outlinewidth\":0,\"ticks\":\"\"},\"type\":\"contourcarpet\"}],\"contour\":[{\"colorbar\":{\"outlinewidth\":0,\"ticks\":\"\"},\"colorscale\":[[0.0,\"#0d0887\"],[0.1111111111111111,\"#46039f\"],[0.2222222222222222,\"#7201a8\"],[0.3333333333333333,\"#9c179e\"],[0.4444444444444444,\"#bd3786\"],[0.5555555555555556,\"#d8576b\"],[0.6666666666666666,\"#ed7953\"],[0.7777777777777778,\"#fb9f3a\"],[0.8888888888888888,\"#fdca26\"],[1.0,\"#f0f921\"]],\"type\":\"contour\"}],\"heatmapgl\":[{\"colorbar\":{\"outlinewidth\":0,\"ticks\":\"\"},\"colorscale\":[[0.0,\"#0d0887\"],[0.1111111111111111,\"#46039f\"],[0.2222222222222222,\"#7201a8\"],[0.3333333333333333,\"#9c179e\"],[0.4444444444444444,\"#bd3786\"],[0.5555555555555556,\"#d8576b\"],[0.6666666666666666,\"#ed7953\"],[0.7777777777777778,\"#fb9f3a\"],[0.8888888888888888,\"#fdca26\"],[1.0,\"#f0f921\"]],\"type\":\"heatmapgl\"}],\"heatmap\":[{\"colorbar\":{\"outlinewidth\":0,\"ticks\":\"\"},\"colorscale\":[[0.0,\"#0d0887\"],[0.1111111111111111,\"#46039f\"],[0.2222222222222222,\"#7201a8\"],[0.3333333333333333,\"#9c179e\"],[0.4444444444444444,\"#bd3786\"],[0.5555555555555556,\"#d8576b\"],[0.6666666666666666,\"#ed7953\"],[0.7777777777777778,\"#fb9f3a\"],[0.8888888888888888,\"#fdca26\"],[1.0,\"#f0f921\"]],\"type\":\"heatmap\"}],\"histogram2dcontour\":[{\"colorbar\":{\"outlinewidth\":0,\"ticks\":\"\"},\"colorscale\":[[0.0,\"#0d0887\"],[0.1111111111111111,\"#46039f\"],[0.2222222222222222,\"#7201a8\"],[0.3333333333333333,\"#9c179e\"],[0.4444444444444444,\"#bd3786\"],[0.5555555555555556,\"#d8576b\"],[0.6666666666666666,\"#ed7953\"],[0.7777777777777778,\"#fb9f3a\"],[0.8888888888888888,\"#fdca26\"],[1.0,\"#f0f921\"]],\"type\":\"histogram2dcontour\"}],\"histogram2d\":[{\"colorbar\":{\"outlinewidth\":0,\"ticks\":\"\"},\"colorscale\":[[0.0,\"#0d0887\"],[0.1111111111111111,\"#46039f\"],[0.2222222222222222,\"#7201a8\"],[0.3333333333333333,\"#9c179e\"],[0.4444444444444444,\"#bd3786\"],[0.5555555555555556,\"#d8576b\"],[0.6666666666666666,\"#ed7953\"],[0.7777777777777778,\"#fb9f3a\"],[0.8888888888888888,\"#fdca26\"],[1.0,\"#f0f921\"]],\"type\":\"histogram2d\"}],\"histogram\":[{\"marker\":{\"pattern\":{\"fillmode\":\"overlay\",\"size\":10,\"solidity\":0.2}},\"type\":\"histogram\"}],\"mesh3d\":[{\"colorbar\":{\"outlinewidth\":0,\"ticks\":\"\"},\"type\":\"mesh3d\"}],\"parcoords\":[{\"line\":{\"colorbar\":{\"outlinewidth\":0,\"ticks\":\"\"}},\"type\":\"parcoords\"}],\"pie\":[{\"automargin\":true,\"type\":\"pie\"}],\"scatter3d\":[{\"line\":{\"colorbar\":{\"outlinewidth\":0,\"ticks\":\"\"}},\"marker\":{\"colorbar\":{\"outlinewidth\":0,\"ticks\":\"\"}},\"type\":\"scatter3d\"}],\"scattercarpet\":[{\"marker\":{\"colorbar\":{\"outlinewidth\":0,\"ticks\":\"\"}},\"type\":\"scattercarpet\"}],\"scattergeo\":[{\"marker\":{\"colorbar\":{\"outlinewidth\":0,\"ticks\":\"\"}},\"type\":\"scattergeo\"}],\"scattergl\":[{\"marker\":{\"line\":{\"color\":\"#283442\"}},\"type\":\"scattergl\"}],\"scattermapbox\":[{\"marker\":{\"colorbar\":{\"outlinewidth\":0,\"ticks\":\"\"}},\"type\":\"scattermapbox\"}],\"scatterpolargl\":[{\"marker\":{\"colorbar\":{\"outlinewidth\":0,\"ticks\":\"\"}},\"type\":\"scatterpolargl\"}],\"scatterpolar\":[{\"marker\":{\"colorbar\":{\"outlinewidth\":0,\"ticks\":\"\"}},\"type\":\"scatterpolar\"}],\"scatter\":[{\"marker\":{\"line\":{\"color\":\"#283442\"}},\"type\":\"scatter\"}],\"scatterternary\":[{\"marker\":{\"colorbar\":{\"outlinewidth\":0,\"ticks\":\"\"}},\"type\":\"scatterternary\"}],\"surface\":[{\"colorbar\":{\"outlinewidth\":0,\"ticks\":\"\"},\"colorscale\":[[0.0,\"#0d0887\"],[0.1111111111111111,\"#46039f\"],[0.2222222222222222,\"#7201a8\"],[0.3333333333333333,\"#9c179e\"],[0.4444444444444444,\"#bd3786\"],[0.5555555555555556,\"#d8576b\"],[0.6666666666666666,\"#ed7953\"],[0.7777777777777778,\"#fb9f3a\"],[0.8888888888888888,\"#fdca26\"],[1.0,\"#f0f921\"]],\"type\":\"surface\"}],\"table\":[{\"cells\":{\"fill\":{\"color\":\"#506784\"},\"line\":{\"color\":\"rgb(17,17,17)\"}},\"header\":{\"fill\":{\"color\":\"#2a3f5f\"},\"line\":{\"color\":\"rgb(17,17,17)\"}},\"type\":\"table\"}]},\"layout\":{\"annotationdefaults\":{\"arrowcolor\":\"#f2f5fa\",\"arrowhead\":0,\"arrowwidth\":1},\"autotypenumbers\":\"strict\",\"coloraxis\":{\"colorbar\":{\"outlinewidth\":0,\"ticks\":\"\"}},\"colorscale\":{\"diverging\":[[0,\"#8e0152\"],[0.1,\"#c51b7d\"],[0.2,\"#de77ae\"],[0.3,\"#f1b6da\"],[0.4,\"#fde0ef\"],[0.5,\"#f7f7f7\"],[0.6,\"#e6f5d0\"],[0.7,\"#b8e186\"],[0.8,\"#7fbc41\"],[0.9,\"#4d9221\"],[1,\"#276419\"]],\"sequential\":[[0.0,\"#0d0887\"],[0.1111111111111111,\"#46039f\"],[0.2222222222222222,\"#7201a8\"],[0.3333333333333333,\"#9c179e\"],[0.4444444444444444,\"#bd3786\"],[0.5555555555555556,\"#d8576b\"],[0.6666666666666666,\"#ed7953\"],[0.7777777777777778,\"#fb9f3a\"],[0.8888888888888888,\"#fdca26\"],[1.0,\"#f0f921\"]],\"sequentialminus\":[[0.0,\"#0d0887\"],[0.1111111111111111,\"#46039f\"],[0.2222222222222222,\"#7201a8\"],[0.3333333333333333,\"#9c179e\"],[0.4444444444444444,\"#bd3786\"],[0.5555555555555556,\"#d8576b\"],[0.6666666666666666,\"#ed7953\"],[0.7777777777777778,\"#fb9f3a\"],[0.8888888888888888,\"#fdca26\"],[1.0,\"#f0f921\"]]},\"colorway\":[\"#636efa\",\"#EF553B\",\"#00cc96\",\"#ab63fa\",\"#FFA15A\",\"#19d3f3\",\"#FF6692\",\"#B6E880\",\"#FF97FF\",\"#FECB52\"],\"font\":{\"color\":\"#f2f5fa\"},\"geo\":{\"bgcolor\":\"rgb(17,17,17)\",\"lakecolor\":\"rgb(17,17,17)\",\"landcolor\":\"rgb(17,17,17)\",\"showlakes\":true,\"showland\":true,\"subunitcolor\":\"#506784\"},\"hoverlabel\":{\"align\":\"left\"},\"hovermode\":\"closest\",\"mapbox\":{\"style\":\"dark\"},\"paper_bgcolor\":\"rgb(17,17,17)\",\"plot_bgcolor\":\"rgb(17,17,17)\",\"polar\":{\"angularaxis\":{\"gridcolor\":\"#506784\",\"linecolor\":\"#506784\",\"ticks\":\"\"},\"bgcolor\":\"rgb(17,17,17)\",\"radialaxis\":{\"gridcolor\":\"#506784\",\"linecolor\":\"#506784\",\"ticks\":\"\"}},\"scene\":{\"xaxis\":{\"backgroundcolor\":\"rgb(17,17,17)\",\"gridcolor\":\"#506784\",\"gridwidth\":2,\"linecolor\":\"#506784\",\"showbackground\":true,\"ticks\":\"\",\"zerolinecolor\":\"#C8D4E3\"},\"yaxis\":{\"backgroundcolor\":\"rgb(17,17,17)\",\"gridcolor\":\"#506784\",\"gridwidth\":2,\"linecolor\":\"#506784\",\"showbackground\":true,\"ticks\":\"\",\"zerolinecolor\":\"#C8D4E3\"},\"zaxis\":{\"backgroundcolor\":\"rgb(17,17,17)\",\"gridcolor\":\"#506784\",\"gridwidth\":2,\"linecolor\":\"#506784\",\"showbackground\":true,\"ticks\":\"\",\"zerolinecolor\":\"#C8D4E3\"}},\"shapedefaults\":{\"line\":{\"color\":\"#f2f5fa\"}},\"sliderdefaults\":{\"bgcolor\":\"#C8D4E3\",\"bordercolor\":\"rgb(17,17,17)\",\"borderwidth\":1,\"tickwidth\":0},\"ternary\":{\"aaxis\":{\"gridcolor\":\"#506784\",\"linecolor\":\"#506784\",\"ticks\":\"\"},\"baxis\":{\"gridcolor\":\"#506784\",\"linecolor\":\"#506784\",\"ticks\":\"\"},\"bgcolor\":\"rgb(17,17,17)\",\"caxis\":{\"gridcolor\":\"#506784\",\"linecolor\":\"#506784\",\"ticks\":\"\"}},\"title\":{\"x\":0.05},\"updatemenudefaults\":{\"bgcolor\":\"#506784\",\"borderwidth\":0},\"xaxis\":{\"automargin\":true,\"gridcolor\":\"#283442\",\"linecolor\":\"#506784\",\"ticks\":\"\",\"title\":{\"standoff\":15},\"zerolinecolor\":\"#283442\",\"zerolinewidth\":2},\"yaxis\":{\"automargin\":true,\"gridcolor\":\"#283442\",\"linecolor\":\"#506784\",\"ticks\":\"\",\"title\":{\"standoff\":15},\"zerolinecolor\":\"#283442\",\"zerolinewidth\":2}}},\"title\":{\"text\":\"\\u041f\\u0440\\u0435\\u0434\\u0441\\u043a\\u0430\\u0437\\u0430\\u043d\\u0438\\u0435 \\u043c\\u043e\\u0434\\u0435\\u043b\\u0438\"},\"width\":1200,\"height\":600},                        {\"responsive\": true}                    ).then(function(){\n",
              "                            \n",
              "var gd = document.getElementById('04752ecf-472e-4682-9b46-58baa7e2a7cf');\n",
              "var x = new MutationObserver(function (mutations, observer) {{\n",
              "        var display = window.getComputedStyle(gd).display;\n",
              "        if (!display || display === 'none') {{\n",
              "            console.log([gd, 'removed!']);\n",
              "            Plotly.purge(gd);\n",
              "            observer.disconnect();\n",
              "        }}\n",
              "}});\n",
              "\n",
              "// Listen for the removal of the full notebook cells\n",
              "var notebookContainer = gd.closest('#notebook-container');\n",
              "if (notebookContainer) {{\n",
              "    x.observe(notebookContainer, {childList: true});\n",
              "}}\n",
              "\n",
              "// Listen for the clearing of the current output cell\n",
              "var outputEl = gd.closest('.output');\n",
              "if (outputEl) {{\n",
              "    x.observe(outputEl, {childList: true});\n",
              "}}\n",
              "\n",
              "                        })                };                            </script>        </div>\n",
              "</body>\n",
              "</html>"
            ]
          },
          "metadata": {}
        }
      ]
    },
    {
      "cell_type": "markdown",
      "source": [
        "Вроде выглядит неплохо"
      ],
      "metadata": {
        "id": "_ruFaDv8AnQ8"
      }
    },
    {
      "cell_type": "markdown",
      "source": [
        "Смотрим на веса\n",
        "\n",
        "В цифрах"
      ],
      "metadata": {
        "id": "E9gg2MSjD3Qe"
      }
    },
    {
      "cell_type": "code",
      "execution_count": null,
      "metadata": {
        "colab": {
          "base_uri": "https://localhost:8080/"
        },
        "outputId": "ef627882-37d5-427c-c4c1-9c7b10efc997",
        "id": "SbpGgV4KD3Qf"
      },
      "outputs": [
        {
          "output_type": "stream",
          "name": "stdout",
          "text": [
            "[ 1.89484269  0.29602795 -1.12349434] -1.093299641493549\n"
          ]
        }
      ],
      "source": [
        "w, b = regr_poly.get_w_and_b()\n",
        "print(w,b)"
      ]
    },
    {
      "cell_type": "markdown",
      "source": [
        "И в картинке"
      ],
      "metadata": {
        "id": "ZNB9Y3ucD3Qg"
      }
    },
    {
      "cell_type": "code",
      "source": [
        "vis_weigths(np.hstack([b,w]))"
      ],
      "metadata": {
        "colab": {
          "base_uri": "https://localhost:8080/",
          "height": 617
        },
        "outputId": "346d68d7-4905-452b-9c3b-7975f6f079e6",
        "id": "ZsSIK5XGD3Qg"
      },
      "execution_count": null,
      "outputs": [
        {
          "output_type": "display_data",
          "data": {
            "text/html": [
              "<html>\n",
              "<head><meta charset=\"utf-8\" /></head>\n",
              "<body>\n",
              "    <div>            <script src=\"https://cdnjs.cloudflare.com/ajax/libs/mathjax/2.7.5/MathJax.js?config=TeX-AMS-MML_SVG\"></script><script type=\"text/javascript\">if (window.MathJax && window.MathJax.Hub && window.MathJax.Hub.Config) {window.MathJax.Hub.Config({SVG: {font: \"STIX-Web\"}});}</script>                <script type=\"text/javascript\">window.PlotlyConfig = {MathJaxConfig: 'local'};</script>\n",
              "        <script charset=\"utf-8\" src=\"https://cdn.plot.ly/plotly-2.24.1.min.js\"></script>                <div id=\"2113081c-dcd0-4076-91f2-8a8f7f483d24\" class=\"plotly-graph-div\" style=\"height:600px; width:1200px;\"></div>            <script type=\"text/javascript\">                                    window.PLOTLYENV=window.PLOTLYENV || {};                                    if (document.getElementById(\"2113081c-dcd0-4076-91f2-8a8f7f483d24\")) {                    Plotly.newPlot(                        \"2113081c-dcd0-4076-91f2-8a8f7f483d24\",                        [{\"marker\":{\"color\":\"red\"},\"name\":\"\\u043e\\u0442\\u0440\\u0438\\u0446\\u0430\\u0442\\u0435\\u043b\\u044c\\u043d\\u044b\\u0435 \\u0432\\u0435\\u0441\\u0430\",\"x\":[0,3],\"y\":[-1.093299641493549,-1.1234943419103518],\"type\":\"bar\"},{\"marker\":{\"color\":\"blue\"},\"name\":\"\\u043f\\u043e\\u043b\\u043e\\u0436\\u0438\\u0442\\u0435\\u043b\\u044c\\u043d\\u044b\\u0435 \\u0432\\u0435\\u0441\\u0430\",\"x\":[1,2],\"y\":[1.8948426920812065,0.29602794606478605],\"type\":\"bar\"}],                        {\"template\":{\"data\":{\"barpolar\":[{\"marker\":{\"line\":{\"color\":\"rgb(17,17,17)\",\"width\":0.5},\"pattern\":{\"fillmode\":\"overlay\",\"size\":10,\"solidity\":0.2}},\"type\":\"barpolar\"}],\"bar\":[{\"error_x\":{\"color\":\"#f2f5fa\"},\"error_y\":{\"color\":\"#f2f5fa\"},\"marker\":{\"line\":{\"color\":\"rgb(17,17,17)\",\"width\":0.5},\"pattern\":{\"fillmode\":\"overlay\",\"size\":10,\"solidity\":0.2}},\"type\":\"bar\"}],\"carpet\":[{\"aaxis\":{\"endlinecolor\":\"#A2B1C6\",\"gridcolor\":\"#506784\",\"linecolor\":\"#506784\",\"minorgridcolor\":\"#506784\",\"startlinecolor\":\"#A2B1C6\"},\"baxis\":{\"endlinecolor\":\"#A2B1C6\",\"gridcolor\":\"#506784\",\"linecolor\":\"#506784\",\"minorgridcolor\":\"#506784\",\"startlinecolor\":\"#A2B1C6\"},\"type\":\"carpet\"}],\"choropleth\":[{\"colorbar\":{\"outlinewidth\":0,\"ticks\":\"\"},\"type\":\"choropleth\"}],\"contourcarpet\":[{\"colorbar\":{\"outlinewidth\":0,\"ticks\":\"\"},\"type\":\"contourcarpet\"}],\"contour\":[{\"colorbar\":{\"outlinewidth\":0,\"ticks\":\"\"},\"colorscale\":[[0.0,\"#0d0887\"],[0.1111111111111111,\"#46039f\"],[0.2222222222222222,\"#7201a8\"],[0.3333333333333333,\"#9c179e\"],[0.4444444444444444,\"#bd3786\"],[0.5555555555555556,\"#d8576b\"],[0.6666666666666666,\"#ed7953\"],[0.7777777777777778,\"#fb9f3a\"],[0.8888888888888888,\"#fdca26\"],[1.0,\"#f0f921\"]],\"type\":\"contour\"}],\"heatmapgl\":[{\"colorbar\":{\"outlinewidth\":0,\"ticks\":\"\"},\"colorscale\":[[0.0,\"#0d0887\"],[0.1111111111111111,\"#46039f\"],[0.2222222222222222,\"#7201a8\"],[0.3333333333333333,\"#9c179e\"],[0.4444444444444444,\"#bd3786\"],[0.5555555555555556,\"#d8576b\"],[0.6666666666666666,\"#ed7953\"],[0.7777777777777778,\"#fb9f3a\"],[0.8888888888888888,\"#fdca26\"],[1.0,\"#f0f921\"]],\"type\":\"heatmapgl\"}],\"heatmap\":[{\"colorbar\":{\"outlinewidth\":0,\"ticks\":\"\"},\"colorscale\":[[0.0,\"#0d0887\"],[0.1111111111111111,\"#46039f\"],[0.2222222222222222,\"#7201a8\"],[0.3333333333333333,\"#9c179e\"],[0.4444444444444444,\"#bd3786\"],[0.5555555555555556,\"#d8576b\"],[0.6666666666666666,\"#ed7953\"],[0.7777777777777778,\"#fb9f3a\"],[0.8888888888888888,\"#fdca26\"],[1.0,\"#f0f921\"]],\"type\":\"heatmap\"}],\"histogram2dcontour\":[{\"colorbar\":{\"outlinewidth\":0,\"ticks\":\"\"},\"colorscale\":[[0.0,\"#0d0887\"],[0.1111111111111111,\"#46039f\"],[0.2222222222222222,\"#7201a8\"],[0.3333333333333333,\"#9c179e\"],[0.4444444444444444,\"#bd3786\"],[0.5555555555555556,\"#d8576b\"],[0.6666666666666666,\"#ed7953\"],[0.7777777777777778,\"#fb9f3a\"],[0.8888888888888888,\"#fdca26\"],[1.0,\"#f0f921\"]],\"type\":\"histogram2dcontour\"}],\"histogram2d\":[{\"colorbar\":{\"outlinewidth\":0,\"ticks\":\"\"},\"colorscale\":[[0.0,\"#0d0887\"],[0.1111111111111111,\"#46039f\"],[0.2222222222222222,\"#7201a8\"],[0.3333333333333333,\"#9c179e\"],[0.4444444444444444,\"#bd3786\"],[0.5555555555555556,\"#d8576b\"],[0.6666666666666666,\"#ed7953\"],[0.7777777777777778,\"#fb9f3a\"],[0.8888888888888888,\"#fdca26\"],[1.0,\"#f0f921\"]],\"type\":\"histogram2d\"}],\"histogram\":[{\"marker\":{\"pattern\":{\"fillmode\":\"overlay\",\"size\":10,\"solidity\":0.2}},\"type\":\"histogram\"}],\"mesh3d\":[{\"colorbar\":{\"outlinewidth\":0,\"ticks\":\"\"},\"type\":\"mesh3d\"}],\"parcoords\":[{\"line\":{\"colorbar\":{\"outlinewidth\":0,\"ticks\":\"\"}},\"type\":\"parcoords\"}],\"pie\":[{\"automargin\":true,\"type\":\"pie\"}],\"scatter3d\":[{\"line\":{\"colorbar\":{\"outlinewidth\":0,\"ticks\":\"\"}},\"marker\":{\"colorbar\":{\"outlinewidth\":0,\"ticks\":\"\"}},\"type\":\"scatter3d\"}],\"scattercarpet\":[{\"marker\":{\"colorbar\":{\"outlinewidth\":0,\"ticks\":\"\"}},\"type\":\"scattercarpet\"}],\"scattergeo\":[{\"marker\":{\"colorbar\":{\"outlinewidth\":0,\"ticks\":\"\"}},\"type\":\"scattergeo\"}],\"scattergl\":[{\"marker\":{\"line\":{\"color\":\"#283442\"}},\"type\":\"scattergl\"}],\"scattermapbox\":[{\"marker\":{\"colorbar\":{\"outlinewidth\":0,\"ticks\":\"\"}},\"type\":\"scattermapbox\"}],\"scatterpolargl\":[{\"marker\":{\"colorbar\":{\"outlinewidth\":0,\"ticks\":\"\"}},\"type\":\"scatterpolargl\"}],\"scatterpolar\":[{\"marker\":{\"colorbar\":{\"outlinewidth\":0,\"ticks\":\"\"}},\"type\":\"scatterpolar\"}],\"scatter\":[{\"marker\":{\"line\":{\"color\":\"#283442\"}},\"type\":\"scatter\"}],\"scatterternary\":[{\"marker\":{\"colorbar\":{\"outlinewidth\":0,\"ticks\":\"\"}},\"type\":\"scatterternary\"}],\"surface\":[{\"colorbar\":{\"outlinewidth\":0,\"ticks\":\"\"},\"colorscale\":[[0.0,\"#0d0887\"],[0.1111111111111111,\"#46039f\"],[0.2222222222222222,\"#7201a8\"],[0.3333333333333333,\"#9c179e\"],[0.4444444444444444,\"#bd3786\"],[0.5555555555555556,\"#d8576b\"],[0.6666666666666666,\"#ed7953\"],[0.7777777777777778,\"#fb9f3a\"],[0.8888888888888888,\"#fdca26\"],[1.0,\"#f0f921\"]],\"type\":\"surface\"}],\"table\":[{\"cells\":{\"fill\":{\"color\":\"#506784\"},\"line\":{\"color\":\"rgb(17,17,17)\"}},\"header\":{\"fill\":{\"color\":\"#2a3f5f\"},\"line\":{\"color\":\"rgb(17,17,17)\"}},\"type\":\"table\"}]},\"layout\":{\"annotationdefaults\":{\"arrowcolor\":\"#f2f5fa\",\"arrowhead\":0,\"arrowwidth\":1},\"autotypenumbers\":\"strict\",\"coloraxis\":{\"colorbar\":{\"outlinewidth\":0,\"ticks\":\"\"}},\"colorscale\":{\"diverging\":[[0,\"#8e0152\"],[0.1,\"#c51b7d\"],[0.2,\"#de77ae\"],[0.3,\"#f1b6da\"],[0.4,\"#fde0ef\"],[0.5,\"#f7f7f7\"],[0.6,\"#e6f5d0\"],[0.7,\"#b8e186\"],[0.8,\"#7fbc41\"],[0.9,\"#4d9221\"],[1,\"#276419\"]],\"sequential\":[[0.0,\"#0d0887\"],[0.1111111111111111,\"#46039f\"],[0.2222222222222222,\"#7201a8\"],[0.3333333333333333,\"#9c179e\"],[0.4444444444444444,\"#bd3786\"],[0.5555555555555556,\"#d8576b\"],[0.6666666666666666,\"#ed7953\"],[0.7777777777777778,\"#fb9f3a\"],[0.8888888888888888,\"#fdca26\"],[1.0,\"#f0f921\"]],\"sequentialminus\":[[0.0,\"#0d0887\"],[0.1111111111111111,\"#46039f\"],[0.2222222222222222,\"#7201a8\"],[0.3333333333333333,\"#9c179e\"],[0.4444444444444444,\"#bd3786\"],[0.5555555555555556,\"#d8576b\"],[0.6666666666666666,\"#ed7953\"],[0.7777777777777778,\"#fb9f3a\"],[0.8888888888888888,\"#fdca26\"],[1.0,\"#f0f921\"]]},\"colorway\":[\"#636efa\",\"#EF553B\",\"#00cc96\",\"#ab63fa\",\"#FFA15A\",\"#19d3f3\",\"#FF6692\",\"#B6E880\",\"#FF97FF\",\"#FECB52\"],\"font\":{\"color\":\"#f2f5fa\"},\"geo\":{\"bgcolor\":\"rgb(17,17,17)\",\"lakecolor\":\"rgb(17,17,17)\",\"landcolor\":\"rgb(17,17,17)\",\"showlakes\":true,\"showland\":true,\"subunitcolor\":\"#506784\"},\"hoverlabel\":{\"align\":\"left\"},\"hovermode\":\"closest\",\"mapbox\":{\"style\":\"dark\"},\"paper_bgcolor\":\"rgb(17,17,17)\",\"plot_bgcolor\":\"rgb(17,17,17)\",\"polar\":{\"angularaxis\":{\"gridcolor\":\"#506784\",\"linecolor\":\"#506784\",\"ticks\":\"\"},\"bgcolor\":\"rgb(17,17,17)\",\"radialaxis\":{\"gridcolor\":\"#506784\",\"linecolor\":\"#506784\",\"ticks\":\"\"}},\"scene\":{\"xaxis\":{\"backgroundcolor\":\"rgb(17,17,17)\",\"gridcolor\":\"#506784\",\"gridwidth\":2,\"linecolor\":\"#506784\",\"showbackground\":true,\"ticks\":\"\",\"zerolinecolor\":\"#C8D4E3\"},\"yaxis\":{\"backgroundcolor\":\"rgb(17,17,17)\",\"gridcolor\":\"#506784\",\"gridwidth\":2,\"linecolor\":\"#506784\",\"showbackground\":true,\"ticks\":\"\",\"zerolinecolor\":\"#C8D4E3\"},\"zaxis\":{\"backgroundcolor\":\"rgb(17,17,17)\",\"gridcolor\":\"#506784\",\"gridwidth\":2,\"linecolor\":\"#506784\",\"showbackground\":true,\"ticks\":\"\",\"zerolinecolor\":\"#C8D4E3\"}},\"shapedefaults\":{\"line\":{\"color\":\"#f2f5fa\"}},\"sliderdefaults\":{\"bgcolor\":\"#C8D4E3\",\"bordercolor\":\"rgb(17,17,17)\",\"borderwidth\":1,\"tickwidth\":0},\"ternary\":{\"aaxis\":{\"gridcolor\":\"#506784\",\"linecolor\":\"#506784\",\"ticks\":\"\"},\"baxis\":{\"gridcolor\":\"#506784\",\"linecolor\":\"#506784\",\"ticks\":\"\"},\"bgcolor\":\"rgb(17,17,17)\",\"caxis\":{\"gridcolor\":\"#506784\",\"linecolor\":\"#506784\",\"ticks\":\"\"}},\"title\":{\"x\":0.05},\"updatemenudefaults\":{\"bgcolor\":\"#506784\",\"borderwidth\":0},\"xaxis\":{\"automargin\":true,\"gridcolor\":\"#283442\",\"linecolor\":\"#506784\",\"ticks\":\"\",\"title\":{\"standoff\":15},\"zerolinecolor\":\"#283442\",\"zerolinewidth\":2},\"yaxis\":{\"automargin\":true,\"gridcolor\":\"#283442\",\"linecolor\":\"#506784\",\"ticks\":\"\",\"title\":{\"standoff\":15},\"zerolinecolor\":\"#283442\",\"zerolinewidth\":2}}},\"xaxis\":{\"tickmode\":\"array\",\"tickvals\":[0,1,2,3],\"ticktext\":[\"w0\",\"w1\",\"w2\",\"w3\"]},\"title\":{\"text\":\"\\u0412\\u0435\\u0441\\u0430 \\u043c\\u043e\\u0434\\u0435\\u043b\\u0438\"},\"width\":1200,\"height\":600},                        {\"responsive\": true}                    ).then(function(){\n",
              "                            \n",
              "var gd = document.getElementById('2113081c-dcd0-4076-91f2-8a8f7f483d24');\n",
              "var x = new MutationObserver(function (mutations, observer) {{\n",
              "        var display = window.getComputedStyle(gd).display;\n",
              "        if (!display || display === 'none') {{\n",
              "            console.log([gd, 'removed!']);\n",
              "            Plotly.purge(gd);\n",
              "            observer.disconnect();\n",
              "        }}\n",
              "}});\n",
              "\n",
              "// Listen for the removal of the full notebook cells\n",
              "var notebookContainer = gd.closest('#notebook-container');\n",
              "if (notebookContainer) {{\n",
              "    x.observe(notebookContainer, {childList: true});\n",
              "}}\n",
              "\n",
              "// Listen for the clearing of the current output cell\n",
              "var outputEl = gd.closest('.output');\n",
              "if (outputEl) {{\n",
              "    x.observe(outputEl, {childList: true});\n",
              "}}\n",
              "\n",
              "                        })                };                            </script>        </div>\n",
              "</body>\n",
              "</html>"
            ]
          },
          "metadata": {}
        }
      ]
    },
    {
      "cell_type": "markdown",
      "source": [
        "# Посмотрим, как это все будет выглядеть на гармонических данных"
      ],
      "metadata": {
        "id": "UhV7hCZLy5Oz"
      }
    },
    {
      "cell_type": "markdown",
      "source": [
        "Приминяем описанные в начале блокнота функции для генерации полиноминальной зависимости вида\n",
        "\n",
        "`y = cos(2*pi*x+pi)`, где `х` изменяется в диапазоне от `0` до `pi/3`, в `х` - `50` точек, \"мощность\" шума `0.1`\n",
        "\n",
        "для этого запускаем функцию `dataset` с нужными параметрами\n",
        "\n",
        "*   `a = 2*np.pi` (на это число умножится `х`)\n",
        "*  ` b = np.pi `(это число добавится к `a*х`)\n",
        "*   `f = np.cos` (эта функция применится `a*х+b`)\n",
        "*   `N = 50` (число точек)\n",
        "*   `x_max =np.pi/3` (максимальное значение `х`)\n",
        "*   `noise_power = 0.1` (мощность шума)\n",
        "*   `seed = 42` (фиксированный сид случайных чисел)\n",
        "                       \n",
        "\n",
        "а потом визуализируем данные с помощью функции `vis_data`"
      ],
      "metadata": {
        "id": "pJuyzgESAw7w"
      }
    },
    {
      "cell_type": "code",
      "source": [
        "y, y_true, x = dataset(a = 2*np.pi,\n",
        "                       b = np.pi, f = np.cos,\n",
        "                       N = 50, x_max =np.pi/3,\n",
        "                       noise_power = 0.1, seed = 42)\n",
        "vis_data_plotly(y, y_true,x, 'Гармоническая зависимость')"
      ],
      "metadata": {
        "colab": {
          "base_uri": "https://localhost:8080/",
          "height": 617
        },
        "id": "TIHsrOv1pisS",
        "outputId": "e2224edd-0915-4ed7-fb80-33562cfdf1fc"
      },
      "execution_count": null,
      "outputs": [
        {
          "output_type": "display_data",
          "data": {
            "text/html": [
              "<html>\n",
              "<head><meta charset=\"utf-8\" /></head>\n",
              "<body>\n",
              "    <div>            <script src=\"https://cdnjs.cloudflare.com/ajax/libs/mathjax/2.7.5/MathJax.js?config=TeX-AMS-MML_SVG\"></script><script type=\"text/javascript\">if (window.MathJax && window.MathJax.Hub && window.MathJax.Hub.Config) {window.MathJax.Hub.Config({SVG: {font: \"STIX-Web\"}});}</script>                <script type=\"text/javascript\">window.PlotlyConfig = {MathJaxConfig: 'local'};</script>\n",
              "        <script charset=\"utf-8\" src=\"https://cdn.plot.ly/plotly-2.24.1.min.js\"></script>                <div id=\"d64e4037-418d-4add-826e-ecd302e48116\" class=\"plotly-graph-div\" style=\"height:600px; width:1200px;\"></div>            <script type=\"text/javascript\">                                    window.PLOTLYENV=window.PLOTLYENV || {};                                    if (document.getElementById(\"d64e4037-418d-4add-826e-ecd302e48116\")) {                    Plotly.newPlot(                        \"d64e4037-418d-4add-826e-ecd302e48116\",                        [{\"marker\":{\"color\":\"Green\",\"size\":10},\"mode\":\"lines+markers\",\"name\":\"\\u0420\\u0435\\u0430\\u043b\\u044c\\u043d\\u044b\\u0435 \\u0434\\u0430\\u043d\\u043d\\u044b\\u0435\",\"x\":[0.021556032019184653,0.03601157510112919,0.04864275845245291,0.060825016427191375,0.06812186887562248,0.1022819986076801,0.12779814068180767,0.14607762928177764,0.16335707969615926,0.16338233821234197,0.17857244474527742,0.19040666040567744,0.19206075359692815,0.1935791331541123,0.20909789571439721,0.2223609967255541,0.2709937630302383,0.3049744424524801,0.3059331605412711,0.3186017317977882,0.31899079313911943,0.3264230755616875,0.3836532251490256,0.39221749528184063,0.45233176577359235,0.46092661359718623,0.47759537064635094,0.5185480476776199,0.5385050446476917,0.5446139582330638,0.5495236501799443,0.5725136657422902,0.620375085805519,0.6269136986542038,0.6294861682850023,0.6362194811532859,0.6407308530458254,0.6937917137886659,0.7165271498113673,0.7414918695374813,0.7665422633556482,0.8222343440291981,0.8465517233413815,0.8717318949578305,0.9070575387604193,0.9522380983100062,0.9936706109775585,0.995585693560036,1.0112075003926706,1.0156872220654944],\"y\":[-0.9908419421412819,-0.9745105593320068,-0.953657137715219,-0.9278557437287231,-0.9097884062734731,-0.800506329535206,-0.6945663296345366,-0.6075429493019043,-0.5178993808666505,-0.5177636124038756,-0.43387798659494153,-0.3657476605998366,-0.3560551950042657,-0.3471240884303492,-0.2541758778940944,-0.17278941266172132,0.13152551159137585,0.3385868266034592,0.3442486577060824,0.41781353290458245,0.42003323117514924,0.4619391335727142,0.7444882355469523,0.7793193543026911,0.9554816664889644,0.9700146307684685,0.9901079124121519,0.9932168010946837,0.970876362435546,0.960967573122488,0.9519771411974917,0.8979897973412496,0.727353309318916,0.6985535309920792,0.6868970093813378,0.6555449883551803,0.6338790190413717,0.34587114949866166,0.20876906504156134,0.053432702053475195,-0.1037510643140196,-0.4384396008713527,-0.5701203765525372,-0.6924389229841701,-0.8342778138090549,-0.9553078549576611,-0.9992093285069047,-0.9996153844341773,-0.9975216205812526,-0.9951463305468402],\"type\":\"scatter\"},{\"marker\":{\"color\":\"LightSkyBlue\",\"line\":{\"color\":\"Blue\",\"width\":3},\"size\":15},\"mode\":\"markers\",\"name\":\"\\u0417\\u0430\\u0448\\u0443\\u043c\\u043b\\u0435\\u043d\\u043d\\u044b\\u0435 \\u0434\\u0430\\u043d\\u043d\\u044b\\u0435\",\"opacity\":0.5,\"x\":[0.021556032019184653,0.03601157510112919,0.04864275845245291,0.060825016427191375,0.06812186887562248,0.1022819986076801,0.12779814068180767,0.14607762928177764,0.16335707969615926,0.16338233821234197,0.17857244474527742,0.19040666040567744,0.19206075359692815,0.1935791331541123,0.20909789571439721,0.2223609967255541,0.2709937630302383,0.3049744424524801,0.3059331605412711,0.3186017317977882,0.31899079313911943,0.3264230755616875,0.3836532251490256,0.39221749528184063,0.45233176577359235,0.46092661359718623,0.47759537064635094,0.5185480476776199,0.5385050446476917,0.5446139582330638,0.5495236501799443,0.5725136657422902,0.620375085805519,0.6269136986542038,0.6294861682850023,0.6362194811532859,0.6407308530458254,0.6937917137886659,0.7165271498113673,0.7414918695374813,0.7665422633556482,0.8222343440291981,0.8465517233413815,0.8717318949578305,0.9070575387604193,0.9522380983100062,0.9936706109775585,0.995585693560036,1.0112075003926706,1.0156872220654944],\"y\":[-0.9169952841417408,-0.9573737312130097,-0.9652219659540431,-0.957966113287652,-1.0576406053102159,-0.8724907503746768,-0.7406302067305153,-0.5018307266800127,-0.4835375519098044,-0.694067627940149,-0.40146958965546203,-0.4042558886414683,-0.4237473950348616,-0.2859564595462624,-0.1510759256444993,-0.07966140075010146,0.04760375926911199,0.30766558901833774,0.37737500084643877,0.5153680456168184,0.3721158073906202,0.4433732359063325,0.6338547381463495,0.6596986918946239,1.0367342487283842,1.1056386336255508,0.9829069002541185,1.0935700908838861,1.0070399649403095,0.8964555976619756,0.9881167017483331,1.0517934539878466,0.7237707054079208,0.8550178965734798,0.42492249897236334,0.7377352387927026,0.6425837258651887,0.3159704144520749,0.21794514269511156,-0.1453241894066141,-0.1257182530977708,-0.4027283437201781,-0.4223309720783856,-0.7442659448115349,-0.9151271740983736,-1.0054835593161149,-0.9076691167366973,-0.9667402734682089,-1.0504976409579565,-0.9438195872355046],\"type\":\"scatter\"}],                        {\"template\":{\"data\":{\"barpolar\":[{\"marker\":{\"line\":{\"color\":\"rgb(17,17,17)\",\"width\":0.5},\"pattern\":{\"fillmode\":\"overlay\",\"size\":10,\"solidity\":0.2}},\"type\":\"barpolar\"}],\"bar\":[{\"error_x\":{\"color\":\"#f2f5fa\"},\"error_y\":{\"color\":\"#f2f5fa\"},\"marker\":{\"line\":{\"color\":\"rgb(17,17,17)\",\"width\":0.5},\"pattern\":{\"fillmode\":\"overlay\",\"size\":10,\"solidity\":0.2}},\"type\":\"bar\"}],\"carpet\":[{\"aaxis\":{\"endlinecolor\":\"#A2B1C6\",\"gridcolor\":\"#506784\",\"linecolor\":\"#506784\",\"minorgridcolor\":\"#506784\",\"startlinecolor\":\"#A2B1C6\"},\"baxis\":{\"endlinecolor\":\"#A2B1C6\",\"gridcolor\":\"#506784\",\"linecolor\":\"#506784\",\"minorgridcolor\":\"#506784\",\"startlinecolor\":\"#A2B1C6\"},\"type\":\"carpet\"}],\"choropleth\":[{\"colorbar\":{\"outlinewidth\":0,\"ticks\":\"\"},\"type\":\"choropleth\"}],\"contourcarpet\":[{\"colorbar\":{\"outlinewidth\":0,\"ticks\":\"\"},\"type\":\"contourcarpet\"}],\"contour\":[{\"colorbar\":{\"outlinewidth\":0,\"ticks\":\"\"},\"colorscale\":[[0.0,\"#0d0887\"],[0.1111111111111111,\"#46039f\"],[0.2222222222222222,\"#7201a8\"],[0.3333333333333333,\"#9c179e\"],[0.4444444444444444,\"#bd3786\"],[0.5555555555555556,\"#d8576b\"],[0.6666666666666666,\"#ed7953\"],[0.7777777777777778,\"#fb9f3a\"],[0.8888888888888888,\"#fdca26\"],[1.0,\"#f0f921\"]],\"type\":\"contour\"}],\"heatmapgl\":[{\"colorbar\":{\"outlinewidth\":0,\"ticks\":\"\"},\"colorscale\":[[0.0,\"#0d0887\"],[0.1111111111111111,\"#46039f\"],[0.2222222222222222,\"#7201a8\"],[0.3333333333333333,\"#9c179e\"],[0.4444444444444444,\"#bd3786\"],[0.5555555555555556,\"#d8576b\"],[0.6666666666666666,\"#ed7953\"],[0.7777777777777778,\"#fb9f3a\"],[0.8888888888888888,\"#fdca26\"],[1.0,\"#f0f921\"]],\"type\":\"heatmapgl\"}],\"heatmap\":[{\"colorbar\":{\"outlinewidth\":0,\"ticks\":\"\"},\"colorscale\":[[0.0,\"#0d0887\"],[0.1111111111111111,\"#46039f\"],[0.2222222222222222,\"#7201a8\"],[0.3333333333333333,\"#9c179e\"],[0.4444444444444444,\"#bd3786\"],[0.5555555555555556,\"#d8576b\"],[0.6666666666666666,\"#ed7953\"],[0.7777777777777778,\"#fb9f3a\"],[0.8888888888888888,\"#fdca26\"],[1.0,\"#f0f921\"]],\"type\":\"heatmap\"}],\"histogram2dcontour\":[{\"colorbar\":{\"outlinewidth\":0,\"ticks\":\"\"},\"colorscale\":[[0.0,\"#0d0887\"],[0.1111111111111111,\"#46039f\"],[0.2222222222222222,\"#7201a8\"],[0.3333333333333333,\"#9c179e\"],[0.4444444444444444,\"#bd3786\"],[0.5555555555555556,\"#d8576b\"],[0.6666666666666666,\"#ed7953\"],[0.7777777777777778,\"#fb9f3a\"],[0.8888888888888888,\"#fdca26\"],[1.0,\"#f0f921\"]],\"type\":\"histogram2dcontour\"}],\"histogram2d\":[{\"colorbar\":{\"outlinewidth\":0,\"ticks\":\"\"},\"colorscale\":[[0.0,\"#0d0887\"],[0.1111111111111111,\"#46039f\"],[0.2222222222222222,\"#7201a8\"],[0.3333333333333333,\"#9c179e\"],[0.4444444444444444,\"#bd3786\"],[0.5555555555555556,\"#d8576b\"],[0.6666666666666666,\"#ed7953\"],[0.7777777777777778,\"#fb9f3a\"],[0.8888888888888888,\"#fdca26\"],[1.0,\"#f0f921\"]],\"type\":\"histogram2d\"}],\"histogram\":[{\"marker\":{\"pattern\":{\"fillmode\":\"overlay\",\"size\":10,\"solidity\":0.2}},\"type\":\"histogram\"}],\"mesh3d\":[{\"colorbar\":{\"outlinewidth\":0,\"ticks\":\"\"},\"type\":\"mesh3d\"}],\"parcoords\":[{\"line\":{\"colorbar\":{\"outlinewidth\":0,\"ticks\":\"\"}},\"type\":\"parcoords\"}],\"pie\":[{\"automargin\":true,\"type\":\"pie\"}],\"scatter3d\":[{\"line\":{\"colorbar\":{\"outlinewidth\":0,\"ticks\":\"\"}},\"marker\":{\"colorbar\":{\"outlinewidth\":0,\"ticks\":\"\"}},\"type\":\"scatter3d\"}],\"scattercarpet\":[{\"marker\":{\"colorbar\":{\"outlinewidth\":0,\"ticks\":\"\"}},\"type\":\"scattercarpet\"}],\"scattergeo\":[{\"marker\":{\"colorbar\":{\"outlinewidth\":0,\"ticks\":\"\"}},\"type\":\"scattergeo\"}],\"scattergl\":[{\"marker\":{\"line\":{\"color\":\"#283442\"}},\"type\":\"scattergl\"}],\"scattermapbox\":[{\"marker\":{\"colorbar\":{\"outlinewidth\":0,\"ticks\":\"\"}},\"type\":\"scattermapbox\"}],\"scatterpolargl\":[{\"marker\":{\"colorbar\":{\"outlinewidth\":0,\"ticks\":\"\"}},\"type\":\"scatterpolargl\"}],\"scatterpolar\":[{\"marker\":{\"colorbar\":{\"outlinewidth\":0,\"ticks\":\"\"}},\"type\":\"scatterpolar\"}],\"scatter\":[{\"marker\":{\"line\":{\"color\":\"#283442\"}},\"type\":\"scatter\"}],\"scatterternary\":[{\"marker\":{\"colorbar\":{\"outlinewidth\":0,\"ticks\":\"\"}},\"type\":\"scatterternary\"}],\"surface\":[{\"colorbar\":{\"outlinewidth\":0,\"ticks\":\"\"},\"colorscale\":[[0.0,\"#0d0887\"],[0.1111111111111111,\"#46039f\"],[0.2222222222222222,\"#7201a8\"],[0.3333333333333333,\"#9c179e\"],[0.4444444444444444,\"#bd3786\"],[0.5555555555555556,\"#d8576b\"],[0.6666666666666666,\"#ed7953\"],[0.7777777777777778,\"#fb9f3a\"],[0.8888888888888888,\"#fdca26\"],[1.0,\"#f0f921\"]],\"type\":\"surface\"}],\"table\":[{\"cells\":{\"fill\":{\"color\":\"#506784\"},\"line\":{\"color\":\"rgb(17,17,17)\"}},\"header\":{\"fill\":{\"color\":\"#2a3f5f\"},\"line\":{\"color\":\"rgb(17,17,17)\"}},\"type\":\"table\"}]},\"layout\":{\"annotationdefaults\":{\"arrowcolor\":\"#f2f5fa\",\"arrowhead\":0,\"arrowwidth\":1},\"autotypenumbers\":\"strict\",\"coloraxis\":{\"colorbar\":{\"outlinewidth\":0,\"ticks\":\"\"}},\"colorscale\":{\"diverging\":[[0,\"#8e0152\"],[0.1,\"#c51b7d\"],[0.2,\"#de77ae\"],[0.3,\"#f1b6da\"],[0.4,\"#fde0ef\"],[0.5,\"#f7f7f7\"],[0.6,\"#e6f5d0\"],[0.7,\"#b8e186\"],[0.8,\"#7fbc41\"],[0.9,\"#4d9221\"],[1,\"#276419\"]],\"sequential\":[[0.0,\"#0d0887\"],[0.1111111111111111,\"#46039f\"],[0.2222222222222222,\"#7201a8\"],[0.3333333333333333,\"#9c179e\"],[0.4444444444444444,\"#bd3786\"],[0.5555555555555556,\"#d8576b\"],[0.6666666666666666,\"#ed7953\"],[0.7777777777777778,\"#fb9f3a\"],[0.8888888888888888,\"#fdca26\"],[1.0,\"#f0f921\"]],\"sequentialminus\":[[0.0,\"#0d0887\"],[0.1111111111111111,\"#46039f\"],[0.2222222222222222,\"#7201a8\"],[0.3333333333333333,\"#9c179e\"],[0.4444444444444444,\"#bd3786\"],[0.5555555555555556,\"#d8576b\"],[0.6666666666666666,\"#ed7953\"],[0.7777777777777778,\"#fb9f3a\"],[0.8888888888888888,\"#fdca26\"],[1.0,\"#f0f921\"]]},\"colorway\":[\"#636efa\",\"#EF553B\",\"#00cc96\",\"#ab63fa\",\"#FFA15A\",\"#19d3f3\",\"#FF6692\",\"#B6E880\",\"#FF97FF\",\"#FECB52\"],\"font\":{\"color\":\"#f2f5fa\"},\"geo\":{\"bgcolor\":\"rgb(17,17,17)\",\"lakecolor\":\"rgb(17,17,17)\",\"landcolor\":\"rgb(17,17,17)\",\"showlakes\":true,\"showland\":true,\"subunitcolor\":\"#506784\"},\"hoverlabel\":{\"align\":\"left\"},\"hovermode\":\"closest\",\"mapbox\":{\"style\":\"dark\"},\"paper_bgcolor\":\"rgb(17,17,17)\",\"plot_bgcolor\":\"rgb(17,17,17)\",\"polar\":{\"angularaxis\":{\"gridcolor\":\"#506784\",\"linecolor\":\"#506784\",\"ticks\":\"\"},\"bgcolor\":\"rgb(17,17,17)\",\"radialaxis\":{\"gridcolor\":\"#506784\",\"linecolor\":\"#506784\",\"ticks\":\"\"}},\"scene\":{\"xaxis\":{\"backgroundcolor\":\"rgb(17,17,17)\",\"gridcolor\":\"#506784\",\"gridwidth\":2,\"linecolor\":\"#506784\",\"showbackground\":true,\"ticks\":\"\",\"zerolinecolor\":\"#C8D4E3\"},\"yaxis\":{\"backgroundcolor\":\"rgb(17,17,17)\",\"gridcolor\":\"#506784\",\"gridwidth\":2,\"linecolor\":\"#506784\",\"showbackground\":true,\"ticks\":\"\",\"zerolinecolor\":\"#C8D4E3\"},\"zaxis\":{\"backgroundcolor\":\"rgb(17,17,17)\",\"gridcolor\":\"#506784\",\"gridwidth\":2,\"linecolor\":\"#506784\",\"showbackground\":true,\"ticks\":\"\",\"zerolinecolor\":\"#C8D4E3\"}},\"shapedefaults\":{\"line\":{\"color\":\"#f2f5fa\"}},\"sliderdefaults\":{\"bgcolor\":\"#C8D4E3\",\"bordercolor\":\"rgb(17,17,17)\",\"borderwidth\":1,\"tickwidth\":0},\"ternary\":{\"aaxis\":{\"gridcolor\":\"#506784\",\"linecolor\":\"#506784\",\"ticks\":\"\"},\"baxis\":{\"gridcolor\":\"#506784\",\"linecolor\":\"#506784\",\"ticks\":\"\"},\"bgcolor\":\"rgb(17,17,17)\",\"caxis\":{\"gridcolor\":\"#506784\",\"linecolor\":\"#506784\",\"ticks\":\"\"}},\"title\":{\"x\":0.05},\"updatemenudefaults\":{\"bgcolor\":\"#506784\",\"borderwidth\":0},\"xaxis\":{\"automargin\":true,\"gridcolor\":\"#283442\",\"linecolor\":\"#506784\",\"ticks\":\"\",\"title\":{\"standoff\":15},\"zerolinecolor\":\"#283442\",\"zerolinewidth\":2},\"yaxis\":{\"automargin\":true,\"gridcolor\":\"#283442\",\"linecolor\":\"#506784\",\"ticks\":\"\",\"title\":{\"standoff\":15},\"zerolinecolor\":\"#283442\",\"zerolinewidth\":2}}},\"title\":{\"text\":\"\\u0413\\u0430\\u0440\\u043c\\u043e\\u043d\\u0438\\u0447\\u0435\\u0441\\u043a\\u0430\\u044f \\u0437\\u0430\\u0432\\u0438\\u0441\\u0438\\u043c\\u043e\\u0441\\u0442\\u044c\"},\"width\":1200,\"height\":600},                        {\"responsive\": true}                    ).then(function(){\n",
              "                            \n",
              "var gd = document.getElementById('d64e4037-418d-4add-826e-ecd302e48116');\n",
              "var x = new MutationObserver(function (mutations, observer) {{\n",
              "        var display = window.getComputedStyle(gd).display;\n",
              "        if (!display || display === 'none') {{\n",
              "            console.log([gd, 'removed!']);\n",
              "            Plotly.purge(gd);\n",
              "            observer.disconnect();\n",
              "        }}\n",
              "}});\n",
              "\n",
              "// Listen for the removal of the full notebook cells\n",
              "var notebookContainer = gd.closest('#notebook-container');\n",
              "if (notebookContainer) {{\n",
              "    x.observe(notebookContainer, {childList: true});\n",
              "}}\n",
              "\n",
              "// Listen for the clearing of the current output cell\n",
              "var outputEl = gd.closest('.output');\n",
              "if (outputEl) {{\n",
              "    x.observe(outputEl, {childList: true});\n",
              "}}\n",
              "\n",
              "                        })                };                            </script>        </div>\n",
              "</body>\n",
              "</html>"
            ]
          },
          "metadata": {}
        }
      ]
    },
    {
      "cell_type": "markdown",
      "source": [
        "не забываем разбивать на тренировочную и валидационную выборку"
      ],
      "metadata": {
        "id": "ox3-UEraCY9u"
      }
    },
    {
      "cell_type": "code",
      "source": [
        "x_train, x_test, y_train, y_test = train_test_split(x, y,  test_size=0.3, )\n",
        "print(x_train.shape, y_train.shape,  x_test.shape, y_test.shape )"
      ],
      "metadata": {
        "colab": {
          "base_uri": "https://localhost:8080/"
        },
        "id": "UwXhc6TjzdYw",
        "outputId": "da912371-be64-40d6-e508-ebe35430fd37"
      },
      "execution_count": null,
      "outputs": [
        {
          "output_type": "stream",
          "name": "stdout",
          "text": [
            "(35, 1) (35,) (15, 1) (15,)\n"
          ]
        }
      ]
    },
    {
      "cell_type": "markdown",
      "source": [
        "Запоминаем, эту процедуру мы будем использовать очень много раз (с небольшими вариациями)\n",
        "\n",
        "* Создаем модель-объект\n",
        "\n",
        "* Обучаем через `.fit()`\n",
        "\n",
        "* Оцениваем через `.score()`\n",
        "\n",
        "* Рисуем функцию потерь через `.plot_cost()`"
      ],
      "metadata": {
        "id": "qEsHQbAIChxn"
      }
    },
    {
      "cell_type": "code",
      "execution_count": null,
      "metadata": {
        "scrolled": false,
        "id": "eeAMqOAMbNaa",
        "outputId": "b2e66787-2ad2-47d9-a68c-6ae78374c79d",
        "colab": {
          "base_uri": "https://localhost:8080/",
          "height": 634
        }
      },
      "outputs": [
        {
          "output_type": "stream",
          "name": "stdout",
          "text": [
            "Коэффициент детерминации на тренировочных данных = 0.00\n"
          ]
        },
        {
          "output_type": "display_data",
          "data": {
            "text/html": [
              "<html>\n",
              "<head><meta charset=\"utf-8\" /></head>\n",
              "<body>\n",
              "    <div>            <script src=\"https://cdnjs.cloudflare.com/ajax/libs/mathjax/2.7.5/MathJax.js?config=TeX-AMS-MML_SVG\"></script><script type=\"text/javascript\">if (window.MathJax && window.MathJax.Hub && window.MathJax.Hub.Config) {window.MathJax.Hub.Config({SVG: {font: \"STIX-Web\"}});}</script>                <script type=\"text/javascript\">window.PlotlyConfig = {MathJaxConfig: 'local'};</script>\n",
              "        <script charset=\"utf-8\" src=\"https://cdn.plot.ly/plotly-2.24.1.min.js\"></script>                <div id=\"d1a70f64-d8a2-4ee6-9b73-430c233db66f\" class=\"plotly-graph-div\" style=\"height:600px; width:1200px;\"></div>            <script type=\"text/javascript\">                                    window.PLOTLYENV=window.PLOTLYENV || {};                                    if (document.getElementById(\"d1a70f64-d8a2-4ee6-9b73-430c233db66f\")) {                    Plotly.newPlot(                        \"d1a70f64-d8a2-4ee6-9b73-430c233db66f\",                        [{\"mode\":\"lines+markers\",\"name\":\"\\u0420\\u0435\\u0430\\u043b\\u044c\\u043d\\u044b\\u0435 \\u0434\\u0430\\u043d\\u043d\\u044b\\u0435\",\"y\":[1.1756102292190729,0.8118817237800071,0.8516031006879629,0.8948210918705272,0.882169702906114,0.924222089810573,0.7826695556466801,0.875627986990568,0.7874469003372978,0.9037465896142393,0.9353635533912915,0.8732440639901068,0.8874521125849991,0.9019023885082502,0.782696597614207,0.8351739716726927,0.794495453193624,0.8358111900146792,0.8439634866690122,0.9076755358362908,0.8914704715268185,0.7823493492322454,0.7961258144321222,0.8460922235405904,0.8608847312659099,0.937908747733581,0.9074351933278172,0.8977310694311985,0.8936094029714927,0.7431861883441666,0.7393050256162894,0.9007652850386972,0.8773325333103998,0.8525726227048045,0.8391274718804133,0.7872594982340307,0.8409805867636093,0.8141843704212469,0.7726994408694609,0.8526581779825451,0.7423205695699581,0.800415038698632,0.7898458209662526,0.7825133357597354,0.819654422783702,0.7699288768586189,0.8606712810523437,0.8019808505319425,0.8544455800222556,0.8453226903250989,0.8789097457754663,0.8375866887408087,0.8323613078902742,0.91886163397398,0.8384809713285796,0.7800036240215902,0.8401467888471883,0.8502281677500155,0.7798623216246825,0.803210526726763,0.7925543819039177,0.7699295487649754,0.8752878115505753,0.9106472576997787,0.8656735329809347,1.008618517342363,0.9129925911431763,0.7627816698297973,0.9022270095731132,0.8439085829930532,0.845963780869103,0.8315956752864823,0.8358392095868133,0.8005252763521011,0.8263671847905623,0.8533945861626907,0.8846914975553813,0.8216320807598075,0.8438300868946355,0.8219505980257172,0.7999951540956736,0.7773916138373117,0.8946204324116828,0.9232067403081508,0.7844347208612601,0.8281229548791024,0.8490643886178035,1.0247755675081356,0.8469711212193816,0.8247139514276217,0.8850011357491058,0.9649730939165075,0.7945297683389138,0.9564195509810337,0.8383046704863929,0.7745340104094818,0.8470202838752279,0.9478064042609202,0.8577807941819179,1.0159798736132768],\"type\":\"scatter\"}],                        {\"template\":{\"data\":{\"barpolar\":[{\"marker\":{\"line\":{\"color\":\"rgb(17,17,17)\",\"width\":0.5},\"pattern\":{\"fillmode\":\"overlay\",\"size\":10,\"solidity\":0.2}},\"type\":\"barpolar\"}],\"bar\":[{\"error_x\":{\"color\":\"#f2f5fa\"},\"error_y\":{\"color\":\"#f2f5fa\"},\"marker\":{\"line\":{\"color\":\"rgb(17,17,17)\",\"width\":0.5},\"pattern\":{\"fillmode\":\"overlay\",\"size\":10,\"solidity\":0.2}},\"type\":\"bar\"}],\"carpet\":[{\"aaxis\":{\"endlinecolor\":\"#A2B1C6\",\"gridcolor\":\"#506784\",\"linecolor\":\"#506784\",\"minorgridcolor\":\"#506784\",\"startlinecolor\":\"#A2B1C6\"},\"baxis\":{\"endlinecolor\":\"#A2B1C6\",\"gridcolor\":\"#506784\",\"linecolor\":\"#506784\",\"minorgridcolor\":\"#506784\",\"startlinecolor\":\"#A2B1C6\"},\"type\":\"carpet\"}],\"choropleth\":[{\"colorbar\":{\"outlinewidth\":0,\"ticks\":\"\"},\"type\":\"choropleth\"}],\"contourcarpet\":[{\"colorbar\":{\"outlinewidth\":0,\"ticks\":\"\"},\"type\":\"contourcarpet\"}],\"contour\":[{\"colorbar\":{\"outlinewidth\":0,\"ticks\":\"\"},\"colorscale\":[[0.0,\"#0d0887\"],[0.1111111111111111,\"#46039f\"],[0.2222222222222222,\"#7201a8\"],[0.3333333333333333,\"#9c179e\"],[0.4444444444444444,\"#bd3786\"],[0.5555555555555556,\"#d8576b\"],[0.6666666666666666,\"#ed7953\"],[0.7777777777777778,\"#fb9f3a\"],[0.8888888888888888,\"#fdca26\"],[1.0,\"#f0f921\"]],\"type\":\"contour\"}],\"heatmapgl\":[{\"colorbar\":{\"outlinewidth\":0,\"ticks\":\"\"},\"colorscale\":[[0.0,\"#0d0887\"],[0.1111111111111111,\"#46039f\"],[0.2222222222222222,\"#7201a8\"],[0.3333333333333333,\"#9c179e\"],[0.4444444444444444,\"#bd3786\"],[0.5555555555555556,\"#d8576b\"],[0.6666666666666666,\"#ed7953\"],[0.7777777777777778,\"#fb9f3a\"],[0.8888888888888888,\"#fdca26\"],[1.0,\"#f0f921\"]],\"type\":\"heatmapgl\"}],\"heatmap\":[{\"colorbar\":{\"outlinewidth\":0,\"ticks\":\"\"},\"colorscale\":[[0.0,\"#0d0887\"],[0.1111111111111111,\"#46039f\"],[0.2222222222222222,\"#7201a8\"],[0.3333333333333333,\"#9c179e\"],[0.4444444444444444,\"#bd3786\"],[0.5555555555555556,\"#d8576b\"],[0.6666666666666666,\"#ed7953\"],[0.7777777777777778,\"#fb9f3a\"],[0.8888888888888888,\"#fdca26\"],[1.0,\"#f0f921\"]],\"type\":\"heatmap\"}],\"histogram2dcontour\":[{\"colorbar\":{\"outlinewidth\":0,\"ticks\":\"\"},\"colorscale\":[[0.0,\"#0d0887\"],[0.1111111111111111,\"#46039f\"],[0.2222222222222222,\"#7201a8\"],[0.3333333333333333,\"#9c179e\"],[0.4444444444444444,\"#bd3786\"],[0.5555555555555556,\"#d8576b\"],[0.6666666666666666,\"#ed7953\"],[0.7777777777777778,\"#fb9f3a\"],[0.8888888888888888,\"#fdca26\"],[1.0,\"#f0f921\"]],\"type\":\"histogram2dcontour\"}],\"histogram2d\":[{\"colorbar\":{\"outlinewidth\":0,\"ticks\":\"\"},\"colorscale\":[[0.0,\"#0d0887\"],[0.1111111111111111,\"#46039f\"],[0.2222222222222222,\"#7201a8\"],[0.3333333333333333,\"#9c179e\"],[0.4444444444444444,\"#bd3786\"],[0.5555555555555556,\"#d8576b\"],[0.6666666666666666,\"#ed7953\"],[0.7777777777777778,\"#fb9f3a\"],[0.8888888888888888,\"#fdca26\"],[1.0,\"#f0f921\"]],\"type\":\"histogram2d\"}],\"histogram\":[{\"marker\":{\"pattern\":{\"fillmode\":\"overlay\",\"size\":10,\"solidity\":0.2}},\"type\":\"histogram\"}],\"mesh3d\":[{\"colorbar\":{\"outlinewidth\":0,\"ticks\":\"\"},\"type\":\"mesh3d\"}],\"parcoords\":[{\"line\":{\"colorbar\":{\"outlinewidth\":0,\"ticks\":\"\"}},\"type\":\"parcoords\"}],\"pie\":[{\"automargin\":true,\"type\":\"pie\"}],\"scatter3d\":[{\"line\":{\"colorbar\":{\"outlinewidth\":0,\"ticks\":\"\"}},\"marker\":{\"colorbar\":{\"outlinewidth\":0,\"ticks\":\"\"}},\"type\":\"scatter3d\"}],\"scattercarpet\":[{\"marker\":{\"colorbar\":{\"outlinewidth\":0,\"ticks\":\"\"}},\"type\":\"scattercarpet\"}],\"scattergeo\":[{\"marker\":{\"colorbar\":{\"outlinewidth\":0,\"ticks\":\"\"}},\"type\":\"scattergeo\"}],\"scattergl\":[{\"marker\":{\"line\":{\"color\":\"#283442\"}},\"type\":\"scattergl\"}],\"scattermapbox\":[{\"marker\":{\"colorbar\":{\"outlinewidth\":0,\"ticks\":\"\"}},\"type\":\"scattermapbox\"}],\"scatterpolargl\":[{\"marker\":{\"colorbar\":{\"outlinewidth\":0,\"ticks\":\"\"}},\"type\":\"scatterpolargl\"}],\"scatterpolar\":[{\"marker\":{\"colorbar\":{\"outlinewidth\":0,\"ticks\":\"\"}},\"type\":\"scatterpolar\"}],\"scatter\":[{\"marker\":{\"line\":{\"color\":\"#283442\"}},\"type\":\"scatter\"}],\"scatterternary\":[{\"marker\":{\"colorbar\":{\"outlinewidth\":0,\"ticks\":\"\"}},\"type\":\"scatterternary\"}],\"surface\":[{\"colorbar\":{\"outlinewidth\":0,\"ticks\":\"\"},\"colorscale\":[[0.0,\"#0d0887\"],[0.1111111111111111,\"#46039f\"],[0.2222222222222222,\"#7201a8\"],[0.3333333333333333,\"#9c179e\"],[0.4444444444444444,\"#bd3786\"],[0.5555555555555556,\"#d8576b\"],[0.6666666666666666,\"#ed7953\"],[0.7777777777777778,\"#fb9f3a\"],[0.8888888888888888,\"#fdca26\"],[1.0,\"#f0f921\"]],\"type\":\"surface\"}],\"table\":[{\"cells\":{\"fill\":{\"color\":\"#506784\"},\"line\":{\"color\":\"rgb(17,17,17)\"}},\"header\":{\"fill\":{\"color\":\"#2a3f5f\"},\"line\":{\"color\":\"rgb(17,17,17)\"}},\"type\":\"table\"}]},\"layout\":{\"annotationdefaults\":{\"arrowcolor\":\"#f2f5fa\",\"arrowhead\":0,\"arrowwidth\":1},\"autotypenumbers\":\"strict\",\"coloraxis\":{\"colorbar\":{\"outlinewidth\":0,\"ticks\":\"\"}},\"colorscale\":{\"diverging\":[[0,\"#8e0152\"],[0.1,\"#c51b7d\"],[0.2,\"#de77ae\"],[0.3,\"#f1b6da\"],[0.4,\"#fde0ef\"],[0.5,\"#f7f7f7\"],[0.6,\"#e6f5d0\"],[0.7,\"#b8e186\"],[0.8,\"#7fbc41\"],[0.9,\"#4d9221\"],[1,\"#276419\"]],\"sequential\":[[0.0,\"#0d0887\"],[0.1111111111111111,\"#46039f\"],[0.2222222222222222,\"#7201a8\"],[0.3333333333333333,\"#9c179e\"],[0.4444444444444444,\"#bd3786\"],[0.5555555555555556,\"#d8576b\"],[0.6666666666666666,\"#ed7953\"],[0.7777777777777778,\"#fb9f3a\"],[0.8888888888888888,\"#fdca26\"],[1.0,\"#f0f921\"]],\"sequentialminus\":[[0.0,\"#0d0887\"],[0.1111111111111111,\"#46039f\"],[0.2222222222222222,\"#7201a8\"],[0.3333333333333333,\"#9c179e\"],[0.4444444444444444,\"#bd3786\"],[0.5555555555555556,\"#d8576b\"],[0.6666666666666666,\"#ed7953\"],[0.7777777777777778,\"#fb9f3a\"],[0.8888888888888888,\"#fdca26\"],[1.0,\"#f0f921\"]]},\"colorway\":[\"#636efa\",\"#EF553B\",\"#00cc96\",\"#ab63fa\",\"#FFA15A\",\"#19d3f3\",\"#FF6692\",\"#B6E880\",\"#FF97FF\",\"#FECB52\"],\"font\":{\"color\":\"#f2f5fa\"},\"geo\":{\"bgcolor\":\"rgb(17,17,17)\",\"lakecolor\":\"rgb(17,17,17)\",\"landcolor\":\"rgb(17,17,17)\",\"showlakes\":true,\"showland\":true,\"subunitcolor\":\"#506784\"},\"hoverlabel\":{\"align\":\"left\"},\"hovermode\":\"closest\",\"mapbox\":{\"style\":\"dark\"},\"paper_bgcolor\":\"rgb(17,17,17)\",\"plot_bgcolor\":\"rgb(17,17,17)\",\"polar\":{\"angularaxis\":{\"gridcolor\":\"#506784\",\"linecolor\":\"#506784\",\"ticks\":\"\"},\"bgcolor\":\"rgb(17,17,17)\",\"radialaxis\":{\"gridcolor\":\"#506784\",\"linecolor\":\"#506784\",\"ticks\":\"\"}},\"scene\":{\"xaxis\":{\"backgroundcolor\":\"rgb(17,17,17)\",\"gridcolor\":\"#506784\",\"gridwidth\":2,\"linecolor\":\"#506784\",\"showbackground\":true,\"ticks\":\"\",\"zerolinecolor\":\"#C8D4E3\"},\"yaxis\":{\"backgroundcolor\":\"rgb(17,17,17)\",\"gridcolor\":\"#506784\",\"gridwidth\":2,\"linecolor\":\"#506784\",\"showbackground\":true,\"ticks\":\"\",\"zerolinecolor\":\"#C8D4E3\"},\"zaxis\":{\"backgroundcolor\":\"rgb(17,17,17)\",\"gridcolor\":\"#506784\",\"gridwidth\":2,\"linecolor\":\"#506784\",\"showbackground\":true,\"ticks\":\"\",\"zerolinecolor\":\"#C8D4E3\"}},\"shapedefaults\":{\"line\":{\"color\":\"#f2f5fa\"}},\"sliderdefaults\":{\"bgcolor\":\"#C8D4E3\",\"bordercolor\":\"rgb(17,17,17)\",\"borderwidth\":1,\"tickwidth\":0},\"ternary\":{\"aaxis\":{\"gridcolor\":\"#506784\",\"linecolor\":\"#506784\",\"ticks\":\"\"},\"baxis\":{\"gridcolor\":\"#506784\",\"linecolor\":\"#506784\",\"ticks\":\"\"},\"bgcolor\":\"rgb(17,17,17)\",\"caxis\":{\"gridcolor\":\"#506784\",\"linecolor\":\"#506784\",\"ticks\":\"\"}},\"title\":{\"x\":0.05},\"updatemenudefaults\":{\"bgcolor\":\"#506784\",\"borderwidth\":0},\"xaxis\":{\"automargin\":true,\"gridcolor\":\"#283442\",\"linecolor\":\"#506784\",\"ticks\":\"\",\"title\":{\"standoff\":15},\"zerolinecolor\":\"#283442\",\"zerolinewidth\":2},\"yaxis\":{\"automargin\":true,\"gridcolor\":\"#283442\",\"linecolor\":\"#506784\",\"ticks\":\"\",\"title\":{\"standoff\":15},\"zerolinecolor\":\"#283442\",\"zerolinewidth\":2}}},\"title\":{\"text\":\"\\u041a\\u0440\\u0438\\u0432\\u0430\\u044f \\u043e\\u0431\\u0443\\u0447\\u0435\\u043d\\u0438\\u044f\"},\"width\":1200,\"height\":600},                        {\"responsive\": true}                    ).then(function(){\n",
              "                            \n",
              "var gd = document.getElementById('d1a70f64-d8a2-4ee6-9b73-430c233db66f');\n",
              "var x = new MutationObserver(function (mutations, observer) {{\n",
              "        var display = window.getComputedStyle(gd).display;\n",
              "        if (!display || display === 'none') {{\n",
              "            console.log([gd, 'removed!']);\n",
              "            Plotly.purge(gd);\n",
              "            observer.disconnect();\n",
              "        }}\n",
              "}});\n",
              "\n",
              "// Listen for the removal of the full notebook cells\n",
              "var notebookContainer = gd.closest('#notebook-container');\n",
              "if (notebookContainer) {{\n",
              "    x.observe(notebookContainer, {childList: true});\n",
              "}}\n",
              "\n",
              "// Listen for the clearing of the current output cell\n",
              "var outputEl = gd.closest('.output');\n",
              "if (outputEl) {{\n",
              "    x.observe(outputEl, {childList: true});\n",
              "}}\n",
              "\n",
              "                        })                };                            </script>        </div>\n",
              "</body>\n",
              "</html>"
            ]
          },
          "metadata": {}
        }
      ],
      "source": [
        "regr_harm = LinearRegression(learning_rate=0.25,\n",
        "                        epochs=100,batch_size=10,\n",
        "                        n_batches=None)\n",
        "regr_harm.fit(x_train, y_train)\n",
        "\n",
        "print(f'Коэффициент детерминации на тренировочных данных = {regr_harm.score(x_train, y_train):.2f}')\n",
        "regr_harm.plot_cost()"
      ]
    },
    {
      "cell_type": "markdown",
      "source": [
        "Визуализируем модель\n",
        "\n",
        "Опять \"просто\" не получается"
      ],
      "metadata": {
        "id": "wAnclYxFDjlN"
      }
    },
    {
      "cell_type": "code",
      "source": [
        "plot_model_class(x_train, y_train, x_test, x, y_true, regr_harm);"
      ],
      "metadata": {
        "colab": {
          "base_uri": "https://localhost:8080/",
          "height": 617
        },
        "id": "cyavdpCkmApG",
        "outputId": "56ef7d26-b8ca-4e8f-86d0-e1792c4e833c"
      },
      "execution_count": null,
      "outputs": [
        {
          "output_type": "display_data",
          "data": {
            "text/html": [
              "<html>\n",
              "<head><meta charset=\"utf-8\" /></head>\n",
              "<body>\n",
              "    <div>            <script src=\"https://cdnjs.cloudflare.com/ajax/libs/mathjax/2.7.5/MathJax.js?config=TeX-AMS-MML_SVG\"></script><script type=\"text/javascript\">if (window.MathJax && window.MathJax.Hub && window.MathJax.Hub.Config) {window.MathJax.Hub.Config({SVG: {font: \"STIX-Web\"}});}</script>                <script type=\"text/javascript\">window.PlotlyConfig = {MathJaxConfig: 'local'};</script>\n",
              "        <script charset=\"utf-8\" src=\"https://cdn.plot.ly/plotly-2.24.1.min.js\"></script>                <div id=\"d1020b15-3886-433a-9161-16006122b577\" class=\"plotly-graph-div\" style=\"height:600px; width:1200px;\"></div>            <script type=\"text/javascript\">                                    window.PLOTLYENV=window.PLOTLYENV || {};                                    if (document.getElementById(\"d1020b15-3886-433a-9161-16006122b577\")) {                    Plotly.newPlot(                        \"d1020b15-3886-433a-9161-16006122b577\",                        [{\"marker\":{\"color\":\"Blue\",\"size\":5},\"mode\":\"markers\",\"name\":\"\\u041f\\u0440\\u0435\\u0434\\u0441\\u043a\\u0430\\u0437\\u0430\\u043d\\u0438\\u0435 \\u043d\\u0430 x_test\",\"x\":[0.04864275845245291,0.8717318949578305,0.6362194811532859,0.39221749528184063,0.7665422633556482,0.17857244474527742,0.3836532251490256,0.3059331605412711,1.0156872220654944,0.31899079313911943,0.14607762928177764,0.8465517233413815,0.20909789571439721,0.5385050446476917,0.7165271498113673],\"y\":[-0.2288341025654948,-0.011548823236415262,-0.07372116684947169,-0.13813465173888223,-0.03931757569771546,-0.1945342838373058,-0.14039551237417047,-0.16091264132021593,0.026453589958225887,-0.1574655889651744,-0.2031125103520076,-0.018196074889454822,-0.18647594501797432,-0.09951656091911865,-0.052520942666310716],\"type\":\"scatter\"},{\"marker\":{\"color\":\"LightSkyBlue\",\"size\":10},\"mode\":\"markers\",\"name\":\"\\u041f\\u0440\\u0435\\u0434\\u0441\\u043a\\u0430\\u0437\\u0430\\u043d\\u0438\\u0435 \\u043d\\u0430 x_train\",\"x\":[0.1935791331541123,0.7414918695374813,0.5495236501799443,0.9522380983100062,0.3049744424524801,1.0112075003926706,0.47759537064635094,0.46092661359718623,0.620375085805519,0.3186017317977882,0.19206075359692815,0.06812186887562248,0.6937917137886659,0.16335707969615926,0.060825016427191375,0.12779814068180767,0.8222343440291981,0.9936706109775585,0.995585693560036,0.2223609967255541,0.16338233821234197,0.2709937630302383,0.45233176577359235,0.6294861682850023,0.5725136657422902,0.021556032019184653,0.9070575387604193,0.5185480476776199,0.6269136986542038,0.1022819986076801,0.5446139582330638,0.19040666040567744,0.6407308530458254,0.03601157510112919,0.3264230755616875],\"y\":[-0.19057270502633722,-0.0459305676285697,-0.09660778631050515,0.009703811632963633,-0.16116573095350312,0.025270999237701097,-0.11559595614162871,-0.1199963003702913,-0.07790388985752514,-0.1575682963129912,-0.1909735383159261,-0.2236918600529152,-0.05852281457514841,-0.19855095068195436,-0.2256181382069582,-0.20793806764620384,-0.024615560121434232,0.02064147887821216,0.021147036824996135,-0.1829746515612113,-0.19854428274831173,-0.17013620704483162,-0.12226523313505792,-0.07549867757401707,-0.09053870857433996,-0.23598466094140966,-0.002223293302058116,-0.1047849595273456,-0.07617777751289709,-0.21467401131509598,-0.09790388382750922,-0.1914101983144084,-0.07253022086518898,-0.2321685776314663,-0.15550355898492602],\"type\":\"scatter\"},{\"marker\":{\"color\":\"Red\",\"size\":5},\"mode\":\"markers\",\"name\":\"\\u0422\\u0440\\u0435\\u043d\\u0438\\u0440\\u043e\\u0432\\u043e\\u0447\\u043d\\u044b\\u0435 \\u0434\\u0430\\u043d\\u043d\\u044b\\u0435\",\"x\":[0.1935791331541123,0.7414918695374813,0.5495236501799443,0.9522380983100062,0.3049744424524801,1.0112075003926706,0.47759537064635094,0.46092661359718623,0.620375085805519,0.3186017317977882,0.19206075359692815,0.06812186887562248,0.6937917137886659,0.16335707969615926,0.060825016427191375,0.12779814068180767,0.8222343440291981,0.9936706109775585,0.995585693560036,0.2223609967255541,0.16338233821234197,0.2709937630302383,0.45233176577359235,0.6294861682850023,0.5725136657422902,0.021556032019184653,0.9070575387604193,0.5185480476776199,0.6269136986542038,0.1022819986076801,0.5446139582330638,0.19040666040567744,0.6407308530458254,0.03601157510112919,0.3264230755616875],\"y\":[-0.2859564595462624,-0.1453241894066141,0.9881167017483331,-1.0054835593161149,0.30766558901833774,-1.0504976409579565,0.9829069002541185,1.1056386336255508,0.7237707054079208,0.5153680456168184,-0.4237473950348616,-1.0576406053102159,0.3159704144520749,-0.4835375519098044,-0.957966113287652,-0.7406302067305153,-0.4027283437201781,-0.9076691167366973,-0.9667402734682089,-0.07966140075010146,-0.694067627940149,0.04760375926911199,1.0367342487283842,0.42492249897236334,1.0517934539878466,-0.9169952841417408,-0.9151271740983736,1.0935700908838861,0.8550178965734798,-0.8724907503746768,0.8964555976619756,-0.4042558886414683,0.6425837258651887,-0.9573737312130097,0.4433732359063325],\"type\":\"scatter\"},{\"marker\":{\"color\":\"green\",\"size\":10},\"mode\":\"lines+markers\",\"name\":\"\\u0418\\u0441\\u0442\\u0438\\u043d\\u043d\\u044b\\u0435 \\u0437\\u043d\\u0430\\u0447\\u0435\\u043d\\u0438\\u044f\",\"opacity\":0.7,\"x\":[0.021556032019184653,0.03601157510112919,0.04864275845245291,0.060825016427191375,0.06812186887562248,0.1022819986076801,0.12779814068180767,0.14607762928177764,0.16335707969615926,0.16338233821234197,0.17857244474527742,0.19040666040567744,0.19206075359692815,0.1935791331541123,0.20909789571439721,0.2223609967255541,0.2709937630302383,0.3049744424524801,0.3059331605412711,0.3186017317977882,0.31899079313911943,0.3264230755616875,0.3836532251490256,0.39221749528184063,0.45233176577359235,0.46092661359718623,0.47759537064635094,0.5185480476776199,0.5385050446476917,0.5446139582330638,0.5495236501799443,0.5725136657422902,0.620375085805519,0.6269136986542038,0.6294861682850023,0.6362194811532859,0.6407308530458254,0.6937917137886659,0.7165271498113673,0.7414918695374813,0.7665422633556482,0.8222343440291981,0.8465517233413815,0.8717318949578305,0.9070575387604193,0.9522380983100062,0.9936706109775585,0.995585693560036,1.0112075003926706,1.0156872220654944],\"y\":[-0.9908419421412819,-0.9745105593320068,-0.953657137715219,-0.9278557437287231,-0.9097884062734731,-0.800506329535206,-0.6945663296345366,-0.6075429493019043,-0.5178993808666505,-0.5177636124038756,-0.43387798659494153,-0.3657476605998366,-0.3560551950042657,-0.3471240884303492,-0.2541758778940944,-0.17278941266172132,0.13152551159137585,0.3385868266034592,0.3442486577060824,0.41781353290458245,0.42003323117514924,0.4619391335727142,0.7444882355469523,0.7793193543026911,0.9554816664889644,0.9700146307684685,0.9901079124121519,0.9932168010946837,0.970876362435546,0.960967573122488,0.9519771411974917,0.8979897973412496,0.727353309318916,0.6985535309920792,0.6868970093813378,0.6555449883551803,0.6338790190413717,0.34587114949866166,0.20876906504156134,0.053432702053475195,-0.1037510643140196,-0.4384396008713527,-0.5701203765525372,-0.6924389229841701,-0.8342778138090549,-0.9553078549576611,-0.9992093285069047,-0.9996153844341773,-0.9975216205812526,-0.9951463305468402],\"type\":\"scatter\"}],                        {\"template\":{\"data\":{\"barpolar\":[{\"marker\":{\"line\":{\"color\":\"rgb(17,17,17)\",\"width\":0.5},\"pattern\":{\"fillmode\":\"overlay\",\"size\":10,\"solidity\":0.2}},\"type\":\"barpolar\"}],\"bar\":[{\"error_x\":{\"color\":\"#f2f5fa\"},\"error_y\":{\"color\":\"#f2f5fa\"},\"marker\":{\"line\":{\"color\":\"rgb(17,17,17)\",\"width\":0.5},\"pattern\":{\"fillmode\":\"overlay\",\"size\":10,\"solidity\":0.2}},\"type\":\"bar\"}],\"carpet\":[{\"aaxis\":{\"endlinecolor\":\"#A2B1C6\",\"gridcolor\":\"#506784\",\"linecolor\":\"#506784\",\"minorgridcolor\":\"#506784\",\"startlinecolor\":\"#A2B1C6\"},\"baxis\":{\"endlinecolor\":\"#A2B1C6\",\"gridcolor\":\"#506784\",\"linecolor\":\"#506784\",\"minorgridcolor\":\"#506784\",\"startlinecolor\":\"#A2B1C6\"},\"type\":\"carpet\"}],\"choropleth\":[{\"colorbar\":{\"outlinewidth\":0,\"ticks\":\"\"},\"type\":\"choropleth\"}],\"contourcarpet\":[{\"colorbar\":{\"outlinewidth\":0,\"ticks\":\"\"},\"type\":\"contourcarpet\"}],\"contour\":[{\"colorbar\":{\"outlinewidth\":0,\"ticks\":\"\"},\"colorscale\":[[0.0,\"#0d0887\"],[0.1111111111111111,\"#46039f\"],[0.2222222222222222,\"#7201a8\"],[0.3333333333333333,\"#9c179e\"],[0.4444444444444444,\"#bd3786\"],[0.5555555555555556,\"#d8576b\"],[0.6666666666666666,\"#ed7953\"],[0.7777777777777778,\"#fb9f3a\"],[0.8888888888888888,\"#fdca26\"],[1.0,\"#f0f921\"]],\"type\":\"contour\"}],\"heatmapgl\":[{\"colorbar\":{\"outlinewidth\":0,\"ticks\":\"\"},\"colorscale\":[[0.0,\"#0d0887\"],[0.1111111111111111,\"#46039f\"],[0.2222222222222222,\"#7201a8\"],[0.3333333333333333,\"#9c179e\"],[0.4444444444444444,\"#bd3786\"],[0.5555555555555556,\"#d8576b\"],[0.6666666666666666,\"#ed7953\"],[0.7777777777777778,\"#fb9f3a\"],[0.8888888888888888,\"#fdca26\"],[1.0,\"#f0f921\"]],\"type\":\"heatmapgl\"}],\"heatmap\":[{\"colorbar\":{\"outlinewidth\":0,\"ticks\":\"\"},\"colorscale\":[[0.0,\"#0d0887\"],[0.1111111111111111,\"#46039f\"],[0.2222222222222222,\"#7201a8\"],[0.3333333333333333,\"#9c179e\"],[0.4444444444444444,\"#bd3786\"],[0.5555555555555556,\"#d8576b\"],[0.6666666666666666,\"#ed7953\"],[0.7777777777777778,\"#fb9f3a\"],[0.8888888888888888,\"#fdca26\"],[1.0,\"#f0f921\"]],\"type\":\"heatmap\"}],\"histogram2dcontour\":[{\"colorbar\":{\"outlinewidth\":0,\"ticks\":\"\"},\"colorscale\":[[0.0,\"#0d0887\"],[0.1111111111111111,\"#46039f\"],[0.2222222222222222,\"#7201a8\"],[0.3333333333333333,\"#9c179e\"],[0.4444444444444444,\"#bd3786\"],[0.5555555555555556,\"#d8576b\"],[0.6666666666666666,\"#ed7953\"],[0.7777777777777778,\"#fb9f3a\"],[0.8888888888888888,\"#fdca26\"],[1.0,\"#f0f921\"]],\"type\":\"histogram2dcontour\"}],\"histogram2d\":[{\"colorbar\":{\"outlinewidth\":0,\"ticks\":\"\"},\"colorscale\":[[0.0,\"#0d0887\"],[0.1111111111111111,\"#46039f\"],[0.2222222222222222,\"#7201a8\"],[0.3333333333333333,\"#9c179e\"],[0.4444444444444444,\"#bd3786\"],[0.5555555555555556,\"#d8576b\"],[0.6666666666666666,\"#ed7953\"],[0.7777777777777778,\"#fb9f3a\"],[0.8888888888888888,\"#fdca26\"],[1.0,\"#f0f921\"]],\"type\":\"histogram2d\"}],\"histogram\":[{\"marker\":{\"pattern\":{\"fillmode\":\"overlay\",\"size\":10,\"solidity\":0.2}},\"type\":\"histogram\"}],\"mesh3d\":[{\"colorbar\":{\"outlinewidth\":0,\"ticks\":\"\"},\"type\":\"mesh3d\"}],\"parcoords\":[{\"line\":{\"colorbar\":{\"outlinewidth\":0,\"ticks\":\"\"}},\"type\":\"parcoords\"}],\"pie\":[{\"automargin\":true,\"type\":\"pie\"}],\"scatter3d\":[{\"line\":{\"colorbar\":{\"outlinewidth\":0,\"ticks\":\"\"}},\"marker\":{\"colorbar\":{\"outlinewidth\":0,\"ticks\":\"\"}},\"type\":\"scatter3d\"}],\"scattercarpet\":[{\"marker\":{\"colorbar\":{\"outlinewidth\":0,\"ticks\":\"\"}},\"type\":\"scattercarpet\"}],\"scattergeo\":[{\"marker\":{\"colorbar\":{\"outlinewidth\":0,\"ticks\":\"\"}},\"type\":\"scattergeo\"}],\"scattergl\":[{\"marker\":{\"line\":{\"color\":\"#283442\"}},\"type\":\"scattergl\"}],\"scattermapbox\":[{\"marker\":{\"colorbar\":{\"outlinewidth\":0,\"ticks\":\"\"}},\"type\":\"scattermapbox\"}],\"scatterpolargl\":[{\"marker\":{\"colorbar\":{\"outlinewidth\":0,\"ticks\":\"\"}},\"type\":\"scatterpolargl\"}],\"scatterpolar\":[{\"marker\":{\"colorbar\":{\"outlinewidth\":0,\"ticks\":\"\"}},\"type\":\"scatterpolar\"}],\"scatter\":[{\"marker\":{\"line\":{\"color\":\"#283442\"}},\"type\":\"scatter\"}],\"scatterternary\":[{\"marker\":{\"colorbar\":{\"outlinewidth\":0,\"ticks\":\"\"}},\"type\":\"scatterternary\"}],\"surface\":[{\"colorbar\":{\"outlinewidth\":0,\"ticks\":\"\"},\"colorscale\":[[0.0,\"#0d0887\"],[0.1111111111111111,\"#46039f\"],[0.2222222222222222,\"#7201a8\"],[0.3333333333333333,\"#9c179e\"],[0.4444444444444444,\"#bd3786\"],[0.5555555555555556,\"#d8576b\"],[0.6666666666666666,\"#ed7953\"],[0.7777777777777778,\"#fb9f3a\"],[0.8888888888888888,\"#fdca26\"],[1.0,\"#f0f921\"]],\"type\":\"surface\"}],\"table\":[{\"cells\":{\"fill\":{\"color\":\"#506784\"},\"line\":{\"color\":\"rgb(17,17,17)\"}},\"header\":{\"fill\":{\"color\":\"#2a3f5f\"},\"line\":{\"color\":\"rgb(17,17,17)\"}},\"type\":\"table\"}]},\"layout\":{\"annotationdefaults\":{\"arrowcolor\":\"#f2f5fa\",\"arrowhead\":0,\"arrowwidth\":1},\"autotypenumbers\":\"strict\",\"coloraxis\":{\"colorbar\":{\"outlinewidth\":0,\"ticks\":\"\"}},\"colorscale\":{\"diverging\":[[0,\"#8e0152\"],[0.1,\"#c51b7d\"],[0.2,\"#de77ae\"],[0.3,\"#f1b6da\"],[0.4,\"#fde0ef\"],[0.5,\"#f7f7f7\"],[0.6,\"#e6f5d0\"],[0.7,\"#b8e186\"],[0.8,\"#7fbc41\"],[0.9,\"#4d9221\"],[1,\"#276419\"]],\"sequential\":[[0.0,\"#0d0887\"],[0.1111111111111111,\"#46039f\"],[0.2222222222222222,\"#7201a8\"],[0.3333333333333333,\"#9c179e\"],[0.4444444444444444,\"#bd3786\"],[0.5555555555555556,\"#d8576b\"],[0.6666666666666666,\"#ed7953\"],[0.7777777777777778,\"#fb9f3a\"],[0.8888888888888888,\"#fdca26\"],[1.0,\"#f0f921\"]],\"sequentialminus\":[[0.0,\"#0d0887\"],[0.1111111111111111,\"#46039f\"],[0.2222222222222222,\"#7201a8\"],[0.3333333333333333,\"#9c179e\"],[0.4444444444444444,\"#bd3786\"],[0.5555555555555556,\"#d8576b\"],[0.6666666666666666,\"#ed7953\"],[0.7777777777777778,\"#fb9f3a\"],[0.8888888888888888,\"#fdca26\"],[1.0,\"#f0f921\"]]},\"colorway\":[\"#636efa\",\"#EF553B\",\"#00cc96\",\"#ab63fa\",\"#FFA15A\",\"#19d3f3\",\"#FF6692\",\"#B6E880\",\"#FF97FF\",\"#FECB52\"],\"font\":{\"color\":\"#f2f5fa\"},\"geo\":{\"bgcolor\":\"rgb(17,17,17)\",\"lakecolor\":\"rgb(17,17,17)\",\"landcolor\":\"rgb(17,17,17)\",\"showlakes\":true,\"showland\":true,\"subunitcolor\":\"#506784\"},\"hoverlabel\":{\"align\":\"left\"},\"hovermode\":\"closest\",\"mapbox\":{\"style\":\"dark\"},\"paper_bgcolor\":\"rgb(17,17,17)\",\"plot_bgcolor\":\"rgb(17,17,17)\",\"polar\":{\"angularaxis\":{\"gridcolor\":\"#506784\",\"linecolor\":\"#506784\",\"ticks\":\"\"},\"bgcolor\":\"rgb(17,17,17)\",\"radialaxis\":{\"gridcolor\":\"#506784\",\"linecolor\":\"#506784\",\"ticks\":\"\"}},\"scene\":{\"xaxis\":{\"backgroundcolor\":\"rgb(17,17,17)\",\"gridcolor\":\"#506784\",\"gridwidth\":2,\"linecolor\":\"#506784\",\"showbackground\":true,\"ticks\":\"\",\"zerolinecolor\":\"#C8D4E3\"},\"yaxis\":{\"backgroundcolor\":\"rgb(17,17,17)\",\"gridcolor\":\"#506784\",\"gridwidth\":2,\"linecolor\":\"#506784\",\"showbackground\":true,\"ticks\":\"\",\"zerolinecolor\":\"#C8D4E3\"},\"zaxis\":{\"backgroundcolor\":\"rgb(17,17,17)\",\"gridcolor\":\"#506784\",\"gridwidth\":2,\"linecolor\":\"#506784\",\"showbackground\":true,\"ticks\":\"\",\"zerolinecolor\":\"#C8D4E3\"}},\"shapedefaults\":{\"line\":{\"color\":\"#f2f5fa\"}},\"sliderdefaults\":{\"bgcolor\":\"#C8D4E3\",\"bordercolor\":\"rgb(17,17,17)\",\"borderwidth\":1,\"tickwidth\":0},\"ternary\":{\"aaxis\":{\"gridcolor\":\"#506784\",\"linecolor\":\"#506784\",\"ticks\":\"\"},\"baxis\":{\"gridcolor\":\"#506784\",\"linecolor\":\"#506784\",\"ticks\":\"\"},\"bgcolor\":\"rgb(17,17,17)\",\"caxis\":{\"gridcolor\":\"#506784\",\"linecolor\":\"#506784\",\"ticks\":\"\"}},\"title\":{\"x\":0.05},\"updatemenudefaults\":{\"bgcolor\":\"#506784\",\"borderwidth\":0},\"xaxis\":{\"automargin\":true,\"gridcolor\":\"#283442\",\"linecolor\":\"#506784\",\"ticks\":\"\",\"title\":{\"standoff\":15},\"zerolinecolor\":\"#283442\",\"zerolinewidth\":2},\"yaxis\":{\"automargin\":true,\"gridcolor\":\"#283442\",\"linecolor\":\"#506784\",\"ticks\":\"\",\"title\":{\"standoff\":15},\"zerolinecolor\":\"#283442\",\"zerolinewidth\":2}}},\"title\":{\"text\":\"\\u041f\\u0440\\u0435\\u0434\\u0441\\u043a\\u0430\\u0437\\u0430\\u043d\\u0438\\u0435 \\u043c\\u043e\\u0434\\u0435\\u043b\\u0438\"},\"width\":1200,\"height\":600},                        {\"responsive\": true}                    ).then(function(){\n",
              "                            \n",
              "var gd = document.getElementById('d1020b15-3886-433a-9161-16006122b577');\n",
              "var x = new MutationObserver(function (mutations, observer) {{\n",
              "        var display = window.getComputedStyle(gd).display;\n",
              "        if (!display || display === 'none') {{\n",
              "            console.log([gd, 'removed!']);\n",
              "            Plotly.purge(gd);\n",
              "            observer.disconnect();\n",
              "        }}\n",
              "}});\n",
              "\n",
              "// Listen for the removal of the full notebook cells\n",
              "var notebookContainer = gd.closest('#notebook-container');\n",
              "if (notebookContainer) {{\n",
              "    x.observe(notebookContainer, {childList: true});\n",
              "}}\n",
              "\n",
              "// Listen for the clearing of the current output cell\n",
              "var outputEl = gd.closest('.output');\n",
              "if (outputEl) {{\n",
              "    x.observe(outputEl, {childList: true});\n",
              "}}\n",
              "\n",
              "                        })                };                            </script>        </div>\n",
              "</body>\n",
              "</html>"
            ]
          },
          "metadata": {}
        }
      ]
    },
    {
      "cell_type": "markdown",
      "metadata": {
        "id": "TvS8_7lzbNad"
      },
      "source": [
        "## Полиномиальная регрессия\n"
      ]
    },
    {
      "cell_type": "markdown",
      "metadata": {
        "id": "itL7DtjLbNae"
      },
      "source": [
        "Создадим наш набор данных\n",
        "\n",
        "10 степень полиномов, для надежности"
      ]
    },
    {
      "cell_type": "code",
      "execution_count": null,
      "metadata": {
        "id": "diILDAYkbNae",
        "outputId": "3f0744ab-059c-4d5c-af66-7143560c6936",
        "colab": {
          "base_uri": "https://localhost:8080/",
          "height": 175
        }
      },
      "outputs": [
        {
          "output_type": "execute_result",
          "data": {
            "text/plain": [
              "           0         1         2         3             4             5  \\\n",
              "31  0.190407  0.036255  0.006903  0.001314  2.502711e-04  4.765328e-05   \n",
              "32  0.640731  0.410536  0.263043  0.168540  1.079887e-01  6.919167e-02   \n",
              "33  0.036012  0.001297  0.000047  0.000002  6.056345e-08  2.180985e-09   \n",
              "34  0.326423  0.106552  0.034781  0.011353  3.705990e-03  1.209721e-03   \n",
              "\n",
              "               6             7             8             9  \n",
              "31  9.073502e-06  1.727655e-06  3.289571e-07  6.263562e-08  \n",
              "32  4.433324e-02  2.840567e-02  1.820039e-02  1.166155e-02  \n",
              "33  7.854071e-11  2.828375e-12  1.018542e-13  3.667931e-15  \n",
              "34  3.948808e-04  1.288982e-04  4.207534e-05  1.373436e-05  "
            ],
            "text/html": [
              "\n",
              "  <div id=\"df-0a5b54bf-94c3-407d-b48e-d3518d1ee511\" class=\"colab-df-container\">\n",
              "    <div>\n",
              "<style scoped>\n",
              "    .dataframe tbody tr th:only-of-type {\n",
              "        vertical-align: middle;\n",
              "    }\n",
              "\n",
              "    .dataframe tbody tr th {\n",
              "        vertical-align: top;\n",
              "    }\n",
              "\n",
              "    .dataframe thead th {\n",
              "        text-align: right;\n",
              "    }\n",
              "</style>\n",
              "<table border=\"1\" class=\"dataframe\">\n",
              "  <thead>\n",
              "    <tr style=\"text-align: right;\">\n",
              "      <th></th>\n",
              "      <th>0</th>\n",
              "      <th>1</th>\n",
              "      <th>2</th>\n",
              "      <th>3</th>\n",
              "      <th>4</th>\n",
              "      <th>5</th>\n",
              "      <th>6</th>\n",
              "      <th>7</th>\n",
              "      <th>8</th>\n",
              "      <th>9</th>\n",
              "    </tr>\n",
              "  </thead>\n",
              "  <tbody>\n",
              "    <tr>\n",
              "      <th>31</th>\n",
              "      <td>0.190407</td>\n",
              "      <td>0.036255</td>\n",
              "      <td>0.006903</td>\n",
              "      <td>0.001314</td>\n",
              "      <td>2.502711e-04</td>\n",
              "      <td>4.765328e-05</td>\n",
              "      <td>9.073502e-06</td>\n",
              "      <td>1.727655e-06</td>\n",
              "      <td>3.289571e-07</td>\n",
              "      <td>6.263562e-08</td>\n",
              "    </tr>\n",
              "    <tr>\n",
              "      <th>32</th>\n",
              "      <td>0.640731</td>\n",
              "      <td>0.410536</td>\n",
              "      <td>0.263043</td>\n",
              "      <td>0.168540</td>\n",
              "      <td>1.079887e-01</td>\n",
              "      <td>6.919167e-02</td>\n",
              "      <td>4.433324e-02</td>\n",
              "      <td>2.840567e-02</td>\n",
              "      <td>1.820039e-02</td>\n",
              "      <td>1.166155e-02</td>\n",
              "    </tr>\n",
              "    <tr>\n",
              "      <th>33</th>\n",
              "      <td>0.036012</td>\n",
              "      <td>0.001297</td>\n",
              "      <td>0.000047</td>\n",
              "      <td>0.000002</td>\n",
              "      <td>6.056345e-08</td>\n",
              "      <td>2.180985e-09</td>\n",
              "      <td>7.854071e-11</td>\n",
              "      <td>2.828375e-12</td>\n",
              "      <td>1.018542e-13</td>\n",
              "      <td>3.667931e-15</td>\n",
              "    </tr>\n",
              "    <tr>\n",
              "      <th>34</th>\n",
              "      <td>0.326423</td>\n",
              "      <td>0.106552</td>\n",
              "      <td>0.034781</td>\n",
              "      <td>0.011353</td>\n",
              "      <td>3.705990e-03</td>\n",
              "      <td>1.209721e-03</td>\n",
              "      <td>3.948808e-04</td>\n",
              "      <td>1.288982e-04</td>\n",
              "      <td>4.207534e-05</td>\n",
              "      <td>1.373436e-05</td>\n",
              "    </tr>\n",
              "  </tbody>\n",
              "</table>\n",
              "</div>\n",
              "    <div class=\"colab-df-buttons\">\n",
              "\n",
              "  <div class=\"colab-df-container\">\n",
              "    <button class=\"colab-df-convert\" onclick=\"convertToInteractive('df-0a5b54bf-94c3-407d-b48e-d3518d1ee511')\"\n",
              "            title=\"Convert this dataframe to an interactive table.\"\n",
              "            style=\"display:none;\">\n",
              "\n",
              "  <svg xmlns=\"http://www.w3.org/2000/svg\" height=\"24px\" viewBox=\"0 -960 960 960\">\n",
              "    <path d=\"M120-120v-720h720v720H120Zm60-500h600v-160H180v160Zm220 220h160v-160H400v160Zm0 220h160v-160H400v160ZM180-400h160v-160H180v160Zm440 0h160v-160H620v160ZM180-180h160v-160H180v160Zm440 0h160v-160H620v160Z\"/>\n",
              "  </svg>\n",
              "    </button>\n",
              "\n",
              "  <style>\n",
              "    .colab-df-container {\n",
              "      display:flex;\n",
              "      gap: 12px;\n",
              "    }\n",
              "\n",
              "    .colab-df-convert {\n",
              "      background-color: #E8F0FE;\n",
              "      border: none;\n",
              "      border-radius: 50%;\n",
              "      cursor: pointer;\n",
              "      display: none;\n",
              "      fill: #1967D2;\n",
              "      height: 32px;\n",
              "      padding: 0 0 0 0;\n",
              "      width: 32px;\n",
              "    }\n",
              "\n",
              "    .colab-df-convert:hover {\n",
              "      background-color: #E2EBFA;\n",
              "      box-shadow: 0px 1px 2px rgba(60, 64, 67, 0.3), 0px 1px 3px 1px rgba(60, 64, 67, 0.15);\n",
              "      fill: #174EA6;\n",
              "    }\n",
              "\n",
              "    .colab-df-buttons div {\n",
              "      margin-bottom: 4px;\n",
              "    }\n",
              "\n",
              "    [theme=dark] .colab-df-convert {\n",
              "      background-color: #3B4455;\n",
              "      fill: #D2E3FC;\n",
              "    }\n",
              "\n",
              "    [theme=dark] .colab-df-convert:hover {\n",
              "      background-color: #434B5C;\n",
              "      box-shadow: 0px 1px 3px 1px rgba(0, 0, 0, 0.15);\n",
              "      filter: drop-shadow(0px 1px 2px rgba(0, 0, 0, 0.3));\n",
              "      fill: #FFFFFF;\n",
              "    }\n",
              "  </style>\n",
              "\n",
              "    <script>\n",
              "      const buttonEl =\n",
              "        document.querySelector('#df-0a5b54bf-94c3-407d-b48e-d3518d1ee511 button.colab-df-convert');\n",
              "      buttonEl.style.display =\n",
              "        google.colab.kernel.accessAllowed ? 'block' : 'none';\n",
              "\n",
              "      async function convertToInteractive(key) {\n",
              "        const element = document.querySelector('#df-0a5b54bf-94c3-407d-b48e-d3518d1ee511');\n",
              "        const dataTable =\n",
              "          await google.colab.kernel.invokeFunction('convertToInteractive',\n",
              "                                                    [key], {});\n",
              "        if (!dataTable) return;\n",
              "\n",
              "        const docLinkHtml = 'Like what you see? Visit the ' +\n",
              "          '<a target=\"_blank\" href=https://colab.research.google.com/notebooks/data_table.ipynb>data table notebook</a>'\n",
              "          + ' to learn more about interactive tables.';\n",
              "        element.innerHTML = '';\n",
              "        dataTable['output_type'] = 'display_data';\n",
              "        await google.colab.output.renderOutput(dataTable, element);\n",
              "        const docLink = document.createElement('div');\n",
              "        docLink.innerHTML = docLinkHtml;\n",
              "        element.appendChild(docLink);\n",
              "      }\n",
              "    </script>\n",
              "  </div>\n",
              "\n",
              "\n",
              "<div id=\"df-a0d9e711-894d-4d9e-82f7-8537135022aa\">\n",
              "  <button class=\"colab-df-quickchart\" onclick=\"quickchart('df-a0d9e711-894d-4d9e-82f7-8537135022aa')\"\n",
              "            title=\"Suggest charts.\"\n",
              "            style=\"display:none;\">\n",
              "\n",
              "<svg xmlns=\"http://www.w3.org/2000/svg\" height=\"24px\"viewBox=\"0 0 24 24\"\n",
              "     width=\"24px\">\n",
              "    <g>\n",
              "        <path d=\"M19 3H5c-1.1 0-2 .9-2 2v14c0 1.1.9 2 2 2h14c1.1 0 2-.9 2-2V5c0-1.1-.9-2-2-2zM9 17H7v-7h2v7zm4 0h-2V7h2v10zm4 0h-2v-4h2v4z\"/>\n",
              "    </g>\n",
              "</svg>\n",
              "  </button>\n",
              "\n",
              "<style>\n",
              "  .colab-df-quickchart {\n",
              "      --bg-color: #E8F0FE;\n",
              "      --fill-color: #1967D2;\n",
              "      --hover-bg-color: #E2EBFA;\n",
              "      --hover-fill-color: #174EA6;\n",
              "      --disabled-fill-color: #AAA;\n",
              "      --disabled-bg-color: #DDD;\n",
              "  }\n",
              "\n",
              "  [theme=dark] .colab-df-quickchart {\n",
              "      --bg-color: #3B4455;\n",
              "      --fill-color: #D2E3FC;\n",
              "      --hover-bg-color: #434B5C;\n",
              "      --hover-fill-color: #FFFFFF;\n",
              "      --disabled-bg-color: #3B4455;\n",
              "      --disabled-fill-color: #666;\n",
              "  }\n",
              "\n",
              "  .colab-df-quickchart {\n",
              "    background-color: var(--bg-color);\n",
              "    border: none;\n",
              "    border-radius: 50%;\n",
              "    cursor: pointer;\n",
              "    display: none;\n",
              "    fill: var(--fill-color);\n",
              "    height: 32px;\n",
              "    padding: 0;\n",
              "    width: 32px;\n",
              "  }\n",
              "\n",
              "  .colab-df-quickchart:hover {\n",
              "    background-color: var(--hover-bg-color);\n",
              "    box-shadow: 0 1px 2px rgba(60, 64, 67, 0.3), 0 1px 3px 1px rgba(60, 64, 67, 0.15);\n",
              "    fill: var(--button-hover-fill-color);\n",
              "  }\n",
              "\n",
              "  .colab-df-quickchart-complete:disabled,\n",
              "  .colab-df-quickchart-complete:disabled:hover {\n",
              "    background-color: var(--disabled-bg-color);\n",
              "    fill: var(--disabled-fill-color);\n",
              "    box-shadow: none;\n",
              "  }\n",
              "\n",
              "  .colab-df-spinner {\n",
              "    border: 2px solid var(--fill-color);\n",
              "    border-color: transparent;\n",
              "    border-bottom-color: var(--fill-color);\n",
              "    animation:\n",
              "      spin 1s steps(1) infinite;\n",
              "  }\n",
              "\n",
              "  @keyframes spin {\n",
              "    0% {\n",
              "      border-color: transparent;\n",
              "      border-bottom-color: var(--fill-color);\n",
              "      border-left-color: var(--fill-color);\n",
              "    }\n",
              "    20% {\n",
              "      border-color: transparent;\n",
              "      border-left-color: var(--fill-color);\n",
              "      border-top-color: var(--fill-color);\n",
              "    }\n",
              "    30% {\n",
              "      border-color: transparent;\n",
              "      border-left-color: var(--fill-color);\n",
              "      border-top-color: var(--fill-color);\n",
              "      border-right-color: var(--fill-color);\n",
              "    }\n",
              "    40% {\n",
              "      border-color: transparent;\n",
              "      border-right-color: var(--fill-color);\n",
              "      border-top-color: var(--fill-color);\n",
              "    }\n",
              "    60% {\n",
              "      border-color: transparent;\n",
              "      border-right-color: var(--fill-color);\n",
              "    }\n",
              "    80% {\n",
              "      border-color: transparent;\n",
              "      border-right-color: var(--fill-color);\n",
              "      border-bottom-color: var(--fill-color);\n",
              "    }\n",
              "    90% {\n",
              "      border-color: transparent;\n",
              "      border-bottom-color: var(--fill-color);\n",
              "    }\n",
              "  }\n",
              "</style>\n",
              "\n",
              "  <script>\n",
              "    async function quickchart(key) {\n",
              "      const quickchartButtonEl =\n",
              "        document.querySelector('#' + key + ' button');\n",
              "      quickchartButtonEl.disabled = true;  // To prevent multiple clicks.\n",
              "      quickchartButtonEl.classList.add('colab-df-spinner');\n",
              "      try {\n",
              "        const charts = await google.colab.kernel.invokeFunction(\n",
              "            'suggestCharts', [key], {});\n",
              "      } catch (error) {\n",
              "        console.error('Error during call to suggestCharts:', error);\n",
              "      }\n",
              "      quickchartButtonEl.classList.remove('colab-df-spinner');\n",
              "      quickchartButtonEl.classList.add('colab-df-quickchart-complete');\n",
              "    }\n",
              "    (() => {\n",
              "      let quickchartButtonEl =\n",
              "        document.querySelector('#df-a0d9e711-894d-4d9e-82f7-8537135022aa button');\n",
              "      quickchartButtonEl.style.display =\n",
              "        google.colab.kernel.accessAllowed ? 'block' : 'none';\n",
              "    })();\n",
              "  </script>\n",
              "</div>\n",
              "    </div>\n",
              "  </div>\n"
            ]
          },
          "metadata": {},
          "execution_count": 67
        }
      ],
      "source": [
        "order  = 10\n",
        "\n",
        "x_train_ = to_polynom(x_train, order=order) # для тренировочных\n",
        "x_test_  = to_polynom(x_test,  order=order) # для тестовых\n",
        "\n",
        "\n",
        "pd.DataFrame(x_train_).tail(4)"
      ]
    },
    {
      "cell_type": "markdown",
      "source": [
        "Опять идем по стандартному маршрушу\n",
        "\n",
        "* Создаем модель-объект\n",
        "\n",
        "* Обучаем через `.fit()`\n",
        "\n",
        "* Оцениваем через `.score()`\n",
        "\n",
        "* Рисуем функцию потерь через `.plot_cost()`"
      ],
      "metadata": {
        "id": "pqwYJehLE0-6"
      }
    },
    {
      "cell_type": "code",
      "source": [
        "regr_harm_poly = LinearRegression(learning_rate=0.05,\n",
        "                        epochs=300,batch_size=25,\n",
        "                        n_batches=None\n",
        "                        )\n",
        "\n",
        "regr_harm_poly.fit(x_train_, y_train)\n",
        "print(f'Коэффициент детерминации на тестовых данных = {regr_harm_poly.score(x_test_, y_test):.2f}, \\n Коэффициент детерминации на тренировочных данных = {regr_harm_poly.score(x_train_, y_train):.2f}')\n",
        "regr_harm_poly.plot_cost()\n",
        "\n"
      ],
      "metadata": {
        "colab": {
          "base_uri": "https://localhost:8080/",
          "height": 652
        },
        "id": "MX928Lsh7uJG",
        "outputId": "79911c08-8735-408a-fd60-26bb7cef90dc"
      },
      "execution_count": null,
      "outputs": [
        {
          "output_type": "stream",
          "name": "stdout",
          "text": [
            "Коэффициент детерминации на тестовых данных = 0.41, \n",
            " Коэффициент детерминации на тренировочных данных = 0.68\n"
          ]
        },
        {
          "output_type": "display_data",
          "data": {
            "text/html": [
              "<html>\n",
              "<head><meta charset=\"utf-8\" /></head>\n",
              "<body>\n",
              "    <div>            <script src=\"https://cdnjs.cloudflare.com/ajax/libs/mathjax/2.7.5/MathJax.js?config=TeX-AMS-MML_SVG\"></script><script type=\"text/javascript\">if (window.MathJax && window.MathJax.Hub && window.MathJax.Hub.Config) {window.MathJax.Hub.Config({SVG: {font: \"STIX-Web\"}});}</script>                <script type=\"text/javascript\">window.PlotlyConfig = {MathJaxConfig: 'local'};</script>\n",
              "        <script charset=\"utf-8\" src=\"https://cdn.plot.ly/plotly-2.24.1.min.js\"></script>                <div id=\"7e7b2ff6-56c3-4f54-9a52-2f9e8a434bf1\" class=\"plotly-graph-div\" style=\"height:600px; width:1200px;\"></div>            <script type=\"text/javascript\">                                    window.PLOTLYENV=window.PLOTLYENV || {};                                    if (document.getElementById(\"7e7b2ff6-56c3-4f54-9a52-2f9e8a434bf1\")) {                    Plotly.newPlot(                        \"7e7b2ff6-56c3-4f54-9a52-2f9e8a434bf1\",                        [{\"mode\":\"lines+markers\",\"name\":\"\\u0420\\u0435\\u0430\\u043b\\u044c\\u043d\\u044b\\u0435 \\u0434\\u0430\\u043d\\u043d\\u044b\\u0435\",\"y\":[3.1633308484222287,1.9398907891103379,1.647650846597814,1.2425715823668482,1.202871527730129,1.0360697075340892,1.0878842185072317,1.0086477603207888,0.9457261714662997,1.0403971917321826,0.9472685828414436,1.098514731401349,1.1349227256542072,1.0277135953423873,0.892612895118613,0.9865314013807678,0.9403555948557394,1.006507880759971,0.8383035823248195,1.0543259063608947,1.068944266394492,0.8763602817755181,0.752645527172479,0.8666038318775381,0.9205409705019767,0.8500507166354074,0.8538020670409223,0.7956052048035596,0.775077243175367,0.7773568349489546,0.7904545209631878,0.8277930695941406,0.8198250956261354,0.8175902389262782,0.7902420931299179,0.7907931043071903,0.7564546462027317,0.7926126701978713,0.7721292595690432,0.8492185517772195,0.649288870032103,0.7162819793297148,0.7803362580526327,0.8919377694248458,0.8407901106054503,0.6744566401013692,0.6601766464555135,0.7103770263729174,0.7214612710290411,0.7132775636995978,0.7067017564612739,0.7025622808746587,0.8172335424712026,0.6358925329380487,0.6267741558415634,0.6648288297509033,0.6129600797744248,0.7149749174201696,0.7021571802824338,0.6911948693508663,0.6928949925719354,0.65000365807689,0.5918562048760732,0.6593763425669722,0.6846372601744187,0.6731762002719406,0.6749457625787174,0.6344512268556732,0.6585661899670863,0.7061686998893703,0.636055311182306,0.6376878240014403,0.599515678452578,0.5411354060664691,0.6281529974022974,0.6349320292105736,0.6715498940901574,0.6253555506782338,0.6635861438226777,0.6739605954609642,0.5655077598961921,0.5904859162617584,0.6122025715474078,0.5581382376208801,0.5682080726973466,0.5314788127855045,0.5597117390947154,0.620540556403179,0.6442348543992413,0.622877857200435,0.5986749614788459,0.6148631013001192,0.5768770758881288,0.6526361325389433,0.5917370821186494,0.5419918926026378,0.5580531461884358,0.5572158996053915,0.5670245687625416,0.5443160399774516,0.5373681136228559,0.5930984969847468,0.5418843193561496,0.5270865772193579,0.49400558965194813,0.5381431544679092,0.5747115732230341,0.5337037724624283,0.5544977781954138,0.5670305589372922,0.5648497169671083,0.5510810426230626,0.5159057099663394,0.5498434679332469,0.526867544639448,0.547291724676508,0.5727157634126703,0.5723879744900746,0.4070053411226718,0.5597788035783007,0.5236422286515815,0.5442256043969746,0.4405939676774198,0.5874411573024598,0.4908193859220279,0.5709217925504712,0.5174166313400264,0.4741386720593851,0.5366109640010011,0.517544263262842,0.5755627110068652,0.4661512817363002,0.4678795946408627,0.5007156258802629,0.47193391656782535,0.46594065161855125,0.4939095422037473,0.4644775693094,0.48773313849984423,0.5263878957911912,0.5049724084645173,0.5074272630427171,0.5306304223344511,0.427068548719035,0.45139165640614126,0.5066101283440392,0.44811355517798646,0.5130403178752515,0.46363078403210733,0.46061127492115694,0.44262973342343775,0.4838985263310288,0.4615053063330245,0.4635768034043076,0.462993914992917,0.5242731369443736,0.4564806405666188,0.5032915408442694,0.48554026792335403,0.4981463858930809,0.4536067727597046,0.4664275060345826,0.4945335702685281,0.47722891274062684,0.4532739839060811,0.46480966657760836,0.41059767490719606,0.4906524555339219,0.4733253977470124,0.48220105420543036,0.40472736542245213,0.4492799142746944,0.4782881241662379,0.48351269510185885,0.45412639618716655,0.40578954905154874,0.46411815843946624,0.37650621994087163,0.4611000478932413,0.46005439853509145,0.394776339036776,0.4134695839397622,0.4798020100850141,0.43940808056055314,0.4329537345782013,0.4777760140175684,0.47254315068868535,0.4897291695149689,0.4594146663052744,0.38820152099303584,0.4431395322216165,0.4805429753852031,0.45018627841440056,0.4213596509332432,0.4242114925032954,0.4598886946313528,0.45455013259980315,0.4466797460510954,0.4664977350983433,0.49178559178743164,0.4697486851442245,0.4009419818659289,0.40880662838003357,0.43012637985940627,0.45433965394643266,0.4693908582616175,0.41043722297627816,0.4157274673249902,0.5246161151791858,0.42740775890871097,0.4405787453382691,0.42600704447955473,0.43750413427127366,0.4105024386047226,0.476531478920034,0.39793039784421014,0.4196848309538924,0.4064778507547079,0.47094482397292314,0.46199994022127727,0.4486385906853889,0.40540596292457376,0.3933160005223416,0.44236240640236985,0.4252591868066075,0.3867945092777202,0.4151309627851836,0.43317891126351327,0.4664770198200274,0.37876682979485077,0.4031032118958634,0.4117547247169828,0.4422987173735584,0.4470341056443035,0.45703238093916937,0.4270200977502546,0.45386479495396354,0.43106732296655575,0.3662597615576527,0.41301776847427685,0.444470014833539,0.44870826777126305,0.41625601007172663,0.3697156633856872,0.4494001503323275,0.36389902804083357,0.40884308570200223,0.4024429185120084,0.39017936790851515,0.438116301429642,0.40943041117314094,0.36675838873831945,0.38262790238717204,0.3791850716538281,0.4495338373721404,0.4045656960053744,0.3579024931567405,0.3517005869205566,0.38202976082752915,0.3840784920201481,0.4426672917264886,0.3974756030852503,0.39192775422251697,0.40126119938270327,0.395435095309536,0.45931714651005706,0.46423445428363885,0.3606312901449229,0.43752857735628464,0.3858507382771853,0.39086695116832376,0.3403940925028972,0.42692161339934814,0.39195299893394775,0.43648290189722494,0.4254967629740162,0.48117605932780283,0.37139743085275284,0.381689885480587,0.4452486622136554,0.39136204518740864,0.3716423939936152,0.39956360805633034,0.40038573487257334,0.3448960200929569,0.3879705137005859,0.3571207857573648,0.3476321012322433,0.3749136535477915,0.35642109804198674,0.3697196126348672,0.3884738795487322,0.4055707579604113,0.38607087870291296,0.3580612620907439,0.41153016422282124,0.4087082319008809,0.3419060999835988,0.3681104359354792,0.3749047031320486],\"type\":\"scatter\"}],                        {\"template\":{\"data\":{\"barpolar\":[{\"marker\":{\"line\":{\"color\":\"rgb(17,17,17)\",\"width\":0.5},\"pattern\":{\"fillmode\":\"overlay\",\"size\":10,\"solidity\":0.2}},\"type\":\"barpolar\"}],\"bar\":[{\"error_x\":{\"color\":\"#f2f5fa\"},\"error_y\":{\"color\":\"#f2f5fa\"},\"marker\":{\"line\":{\"color\":\"rgb(17,17,17)\",\"width\":0.5},\"pattern\":{\"fillmode\":\"overlay\",\"size\":10,\"solidity\":0.2}},\"type\":\"bar\"}],\"carpet\":[{\"aaxis\":{\"endlinecolor\":\"#A2B1C6\",\"gridcolor\":\"#506784\",\"linecolor\":\"#506784\",\"minorgridcolor\":\"#506784\",\"startlinecolor\":\"#A2B1C6\"},\"baxis\":{\"endlinecolor\":\"#A2B1C6\",\"gridcolor\":\"#506784\",\"linecolor\":\"#506784\",\"minorgridcolor\":\"#506784\",\"startlinecolor\":\"#A2B1C6\"},\"type\":\"carpet\"}],\"choropleth\":[{\"colorbar\":{\"outlinewidth\":0,\"ticks\":\"\"},\"type\":\"choropleth\"}],\"contourcarpet\":[{\"colorbar\":{\"outlinewidth\":0,\"ticks\":\"\"},\"type\":\"contourcarpet\"}],\"contour\":[{\"colorbar\":{\"outlinewidth\":0,\"ticks\":\"\"},\"colorscale\":[[0.0,\"#0d0887\"],[0.1111111111111111,\"#46039f\"],[0.2222222222222222,\"#7201a8\"],[0.3333333333333333,\"#9c179e\"],[0.4444444444444444,\"#bd3786\"],[0.5555555555555556,\"#d8576b\"],[0.6666666666666666,\"#ed7953\"],[0.7777777777777778,\"#fb9f3a\"],[0.8888888888888888,\"#fdca26\"],[1.0,\"#f0f921\"]],\"type\":\"contour\"}],\"heatmapgl\":[{\"colorbar\":{\"outlinewidth\":0,\"ticks\":\"\"},\"colorscale\":[[0.0,\"#0d0887\"],[0.1111111111111111,\"#46039f\"],[0.2222222222222222,\"#7201a8\"],[0.3333333333333333,\"#9c179e\"],[0.4444444444444444,\"#bd3786\"],[0.5555555555555556,\"#d8576b\"],[0.6666666666666666,\"#ed7953\"],[0.7777777777777778,\"#fb9f3a\"],[0.8888888888888888,\"#fdca26\"],[1.0,\"#f0f921\"]],\"type\":\"heatmapgl\"}],\"heatmap\":[{\"colorbar\":{\"outlinewidth\":0,\"ticks\":\"\"},\"colorscale\":[[0.0,\"#0d0887\"],[0.1111111111111111,\"#46039f\"],[0.2222222222222222,\"#7201a8\"],[0.3333333333333333,\"#9c179e\"],[0.4444444444444444,\"#bd3786\"],[0.5555555555555556,\"#d8576b\"],[0.6666666666666666,\"#ed7953\"],[0.7777777777777778,\"#fb9f3a\"],[0.8888888888888888,\"#fdca26\"],[1.0,\"#f0f921\"]],\"type\":\"heatmap\"}],\"histogram2dcontour\":[{\"colorbar\":{\"outlinewidth\":0,\"ticks\":\"\"},\"colorscale\":[[0.0,\"#0d0887\"],[0.1111111111111111,\"#46039f\"],[0.2222222222222222,\"#7201a8\"],[0.3333333333333333,\"#9c179e\"],[0.4444444444444444,\"#bd3786\"],[0.5555555555555556,\"#d8576b\"],[0.6666666666666666,\"#ed7953\"],[0.7777777777777778,\"#fb9f3a\"],[0.8888888888888888,\"#fdca26\"],[1.0,\"#f0f921\"]],\"type\":\"histogram2dcontour\"}],\"histogram2d\":[{\"colorbar\":{\"outlinewidth\":0,\"ticks\":\"\"},\"colorscale\":[[0.0,\"#0d0887\"],[0.1111111111111111,\"#46039f\"],[0.2222222222222222,\"#7201a8\"],[0.3333333333333333,\"#9c179e\"],[0.4444444444444444,\"#bd3786\"],[0.5555555555555556,\"#d8576b\"],[0.6666666666666666,\"#ed7953\"],[0.7777777777777778,\"#fb9f3a\"],[0.8888888888888888,\"#fdca26\"],[1.0,\"#f0f921\"]],\"type\":\"histogram2d\"}],\"histogram\":[{\"marker\":{\"pattern\":{\"fillmode\":\"overlay\",\"size\":10,\"solidity\":0.2}},\"type\":\"histogram\"}],\"mesh3d\":[{\"colorbar\":{\"outlinewidth\":0,\"ticks\":\"\"},\"type\":\"mesh3d\"}],\"parcoords\":[{\"line\":{\"colorbar\":{\"outlinewidth\":0,\"ticks\":\"\"}},\"type\":\"parcoords\"}],\"pie\":[{\"automargin\":true,\"type\":\"pie\"}],\"scatter3d\":[{\"line\":{\"colorbar\":{\"outlinewidth\":0,\"ticks\":\"\"}},\"marker\":{\"colorbar\":{\"outlinewidth\":0,\"ticks\":\"\"}},\"type\":\"scatter3d\"}],\"scattercarpet\":[{\"marker\":{\"colorbar\":{\"outlinewidth\":0,\"ticks\":\"\"}},\"type\":\"scattercarpet\"}],\"scattergeo\":[{\"marker\":{\"colorbar\":{\"outlinewidth\":0,\"ticks\":\"\"}},\"type\":\"scattergeo\"}],\"scattergl\":[{\"marker\":{\"line\":{\"color\":\"#283442\"}},\"type\":\"scattergl\"}],\"scattermapbox\":[{\"marker\":{\"colorbar\":{\"outlinewidth\":0,\"ticks\":\"\"}},\"type\":\"scattermapbox\"}],\"scatterpolargl\":[{\"marker\":{\"colorbar\":{\"outlinewidth\":0,\"ticks\":\"\"}},\"type\":\"scatterpolargl\"}],\"scatterpolar\":[{\"marker\":{\"colorbar\":{\"outlinewidth\":0,\"ticks\":\"\"}},\"type\":\"scatterpolar\"}],\"scatter\":[{\"marker\":{\"line\":{\"color\":\"#283442\"}},\"type\":\"scatter\"}],\"scatterternary\":[{\"marker\":{\"colorbar\":{\"outlinewidth\":0,\"ticks\":\"\"}},\"type\":\"scatterternary\"}],\"surface\":[{\"colorbar\":{\"outlinewidth\":0,\"ticks\":\"\"},\"colorscale\":[[0.0,\"#0d0887\"],[0.1111111111111111,\"#46039f\"],[0.2222222222222222,\"#7201a8\"],[0.3333333333333333,\"#9c179e\"],[0.4444444444444444,\"#bd3786\"],[0.5555555555555556,\"#d8576b\"],[0.6666666666666666,\"#ed7953\"],[0.7777777777777778,\"#fb9f3a\"],[0.8888888888888888,\"#fdca26\"],[1.0,\"#f0f921\"]],\"type\":\"surface\"}],\"table\":[{\"cells\":{\"fill\":{\"color\":\"#506784\"},\"line\":{\"color\":\"rgb(17,17,17)\"}},\"header\":{\"fill\":{\"color\":\"#2a3f5f\"},\"line\":{\"color\":\"rgb(17,17,17)\"}},\"type\":\"table\"}]},\"layout\":{\"annotationdefaults\":{\"arrowcolor\":\"#f2f5fa\",\"arrowhead\":0,\"arrowwidth\":1},\"autotypenumbers\":\"strict\",\"coloraxis\":{\"colorbar\":{\"outlinewidth\":0,\"ticks\":\"\"}},\"colorscale\":{\"diverging\":[[0,\"#8e0152\"],[0.1,\"#c51b7d\"],[0.2,\"#de77ae\"],[0.3,\"#f1b6da\"],[0.4,\"#fde0ef\"],[0.5,\"#f7f7f7\"],[0.6,\"#e6f5d0\"],[0.7,\"#b8e186\"],[0.8,\"#7fbc41\"],[0.9,\"#4d9221\"],[1,\"#276419\"]],\"sequential\":[[0.0,\"#0d0887\"],[0.1111111111111111,\"#46039f\"],[0.2222222222222222,\"#7201a8\"],[0.3333333333333333,\"#9c179e\"],[0.4444444444444444,\"#bd3786\"],[0.5555555555555556,\"#d8576b\"],[0.6666666666666666,\"#ed7953\"],[0.7777777777777778,\"#fb9f3a\"],[0.8888888888888888,\"#fdca26\"],[1.0,\"#f0f921\"]],\"sequentialminus\":[[0.0,\"#0d0887\"],[0.1111111111111111,\"#46039f\"],[0.2222222222222222,\"#7201a8\"],[0.3333333333333333,\"#9c179e\"],[0.4444444444444444,\"#bd3786\"],[0.5555555555555556,\"#d8576b\"],[0.6666666666666666,\"#ed7953\"],[0.7777777777777778,\"#fb9f3a\"],[0.8888888888888888,\"#fdca26\"],[1.0,\"#f0f921\"]]},\"colorway\":[\"#636efa\",\"#EF553B\",\"#00cc96\",\"#ab63fa\",\"#FFA15A\",\"#19d3f3\",\"#FF6692\",\"#B6E880\",\"#FF97FF\",\"#FECB52\"],\"font\":{\"color\":\"#f2f5fa\"},\"geo\":{\"bgcolor\":\"rgb(17,17,17)\",\"lakecolor\":\"rgb(17,17,17)\",\"landcolor\":\"rgb(17,17,17)\",\"showlakes\":true,\"showland\":true,\"subunitcolor\":\"#506784\"},\"hoverlabel\":{\"align\":\"left\"},\"hovermode\":\"closest\",\"mapbox\":{\"style\":\"dark\"},\"paper_bgcolor\":\"rgb(17,17,17)\",\"plot_bgcolor\":\"rgb(17,17,17)\",\"polar\":{\"angularaxis\":{\"gridcolor\":\"#506784\",\"linecolor\":\"#506784\",\"ticks\":\"\"},\"bgcolor\":\"rgb(17,17,17)\",\"radialaxis\":{\"gridcolor\":\"#506784\",\"linecolor\":\"#506784\",\"ticks\":\"\"}},\"scene\":{\"xaxis\":{\"backgroundcolor\":\"rgb(17,17,17)\",\"gridcolor\":\"#506784\",\"gridwidth\":2,\"linecolor\":\"#506784\",\"showbackground\":true,\"ticks\":\"\",\"zerolinecolor\":\"#C8D4E3\"},\"yaxis\":{\"backgroundcolor\":\"rgb(17,17,17)\",\"gridcolor\":\"#506784\",\"gridwidth\":2,\"linecolor\":\"#506784\",\"showbackground\":true,\"ticks\":\"\",\"zerolinecolor\":\"#C8D4E3\"},\"zaxis\":{\"backgroundcolor\":\"rgb(17,17,17)\",\"gridcolor\":\"#506784\",\"gridwidth\":2,\"linecolor\":\"#506784\",\"showbackground\":true,\"ticks\":\"\",\"zerolinecolor\":\"#C8D4E3\"}},\"shapedefaults\":{\"line\":{\"color\":\"#f2f5fa\"}},\"sliderdefaults\":{\"bgcolor\":\"#C8D4E3\",\"bordercolor\":\"rgb(17,17,17)\",\"borderwidth\":1,\"tickwidth\":0},\"ternary\":{\"aaxis\":{\"gridcolor\":\"#506784\",\"linecolor\":\"#506784\",\"ticks\":\"\"},\"baxis\":{\"gridcolor\":\"#506784\",\"linecolor\":\"#506784\",\"ticks\":\"\"},\"bgcolor\":\"rgb(17,17,17)\",\"caxis\":{\"gridcolor\":\"#506784\",\"linecolor\":\"#506784\",\"ticks\":\"\"}},\"title\":{\"x\":0.05},\"updatemenudefaults\":{\"bgcolor\":\"#506784\",\"borderwidth\":0},\"xaxis\":{\"automargin\":true,\"gridcolor\":\"#283442\",\"linecolor\":\"#506784\",\"ticks\":\"\",\"title\":{\"standoff\":15},\"zerolinecolor\":\"#283442\",\"zerolinewidth\":2},\"yaxis\":{\"automargin\":true,\"gridcolor\":\"#283442\",\"linecolor\":\"#506784\",\"ticks\":\"\",\"title\":{\"standoff\":15},\"zerolinecolor\":\"#283442\",\"zerolinewidth\":2}}},\"title\":{\"text\":\"\\u041a\\u0440\\u0438\\u0432\\u0430\\u044f \\u043e\\u0431\\u0443\\u0447\\u0435\\u043d\\u0438\\u044f\"},\"width\":1200,\"height\":600},                        {\"responsive\": true}                    ).then(function(){\n",
              "                            \n",
              "var gd = document.getElementById('7e7b2ff6-56c3-4f54-9a52-2f9e8a434bf1');\n",
              "var x = new MutationObserver(function (mutations, observer) {{\n",
              "        var display = window.getComputedStyle(gd).display;\n",
              "        if (!display || display === 'none') {{\n",
              "            console.log([gd, 'removed!']);\n",
              "            Plotly.purge(gd);\n",
              "            observer.disconnect();\n",
              "        }}\n",
              "}});\n",
              "\n",
              "// Listen for the removal of the full notebook cells\n",
              "var notebookContainer = gd.closest('#notebook-container');\n",
              "if (notebookContainer) {{\n",
              "    x.observe(notebookContainer, {childList: true});\n",
              "}}\n",
              "\n",
              "// Listen for the clearing of the current output cell\n",
              "var outputEl = gd.closest('.output');\n",
              "if (outputEl) {{\n",
              "    x.observe(outputEl, {childList: true});\n",
              "}}\n",
              "\n",
              "                        })                };                            </script>        </div>\n",
              "</body>\n",
              "</html>"
            ]
          },
          "metadata": {}
        }
      ]
    },
    {
      "cell_type": "code",
      "source": [
        "w, b = regr_harm_poly.get_w_and_b()\n",
        "print(w,b)"
      ],
      "metadata": {
        "colab": {
          "base_uri": "https://localhost:8080/"
        },
        "id": "20Xm-vnpbFk0",
        "outputId": "03434fe6-c74a-4d3d-91dc-6130c3e771bb"
      },
      "execution_count": null,
      "outputs": [
        {
          "output_type": "stream",
          "name": "stdout",
          "text": [
            "[ 2.10780575  0.42714302 -0.17405947 -0.2311899  -0.85745282 -0.80629031\n",
            " -0.13060886 -0.26815298 -0.53928071 -0.10548005] -0.6665371994488514\n"
          ]
        }
      ]
    },
    {
      "cell_type": "code",
      "source": [
        "vis_weigths(np.hstack([b,w]))"
      ],
      "metadata": {
        "colab": {
          "base_uri": "https://localhost:8080/",
          "height": 617
        },
        "id": "HqMGUZ-oQHVz",
        "outputId": "940ae616-64d2-47e9-97ac-df0f4c47bc3c"
      },
      "execution_count": null,
      "outputs": [
        {
          "output_type": "display_data",
          "data": {
            "text/html": [
              "<html>\n",
              "<head><meta charset=\"utf-8\" /></head>\n",
              "<body>\n",
              "    <div>            <script src=\"https://cdnjs.cloudflare.com/ajax/libs/mathjax/2.7.5/MathJax.js?config=TeX-AMS-MML_SVG\"></script><script type=\"text/javascript\">if (window.MathJax && window.MathJax.Hub && window.MathJax.Hub.Config) {window.MathJax.Hub.Config({SVG: {font: \"STIX-Web\"}});}</script>                <script type=\"text/javascript\">window.PlotlyConfig = {MathJaxConfig: 'local'};</script>\n",
              "        <script charset=\"utf-8\" src=\"https://cdn.plot.ly/plotly-2.24.1.min.js\"></script>                <div id=\"3fc5ff9b-b72e-4bff-80eb-55fc527ab62b\" class=\"plotly-graph-div\" style=\"height:600px; width:1200px;\"></div>            <script type=\"text/javascript\">                                    window.PLOTLYENV=window.PLOTLYENV || {};                                    if (document.getElementById(\"3fc5ff9b-b72e-4bff-80eb-55fc527ab62b\")) {                    Plotly.newPlot(                        \"3fc5ff9b-b72e-4bff-80eb-55fc527ab62b\",                        [{\"marker\":{\"color\":\"red\"},\"name\":\"\\u043e\\u0442\\u0440\\u0438\\u0446\\u0430\\u0442\\u0435\\u043b\\u044c\\u043d\\u044b\\u0435 \\u0432\\u0435\\u0441\\u0430\",\"x\":[0,3,4,5,6,7,8,9,10],\"y\":[-0.6665371994488514,-0.1740594723315755,-0.23118990366673173,-0.8574528155246858,-0.8062903084619987,-0.1306088589295595,-0.2681529795063627,-0.5392807080445988,-0.10548005486930456],\"type\":\"bar\"},{\"marker\":{\"color\":\"blue\"},\"name\":\"\\u043f\\u043e\\u043b\\u043e\\u0436\\u0438\\u0442\\u0435\\u043b\\u044c\\u043d\\u044b\\u0435 \\u0432\\u0435\\u0441\\u0430\",\"x\":[1,2],\"y\":[2.107805754029877,0.42714302456928],\"type\":\"bar\"}],                        {\"template\":{\"data\":{\"barpolar\":[{\"marker\":{\"line\":{\"color\":\"rgb(17,17,17)\",\"width\":0.5},\"pattern\":{\"fillmode\":\"overlay\",\"size\":10,\"solidity\":0.2}},\"type\":\"barpolar\"}],\"bar\":[{\"error_x\":{\"color\":\"#f2f5fa\"},\"error_y\":{\"color\":\"#f2f5fa\"},\"marker\":{\"line\":{\"color\":\"rgb(17,17,17)\",\"width\":0.5},\"pattern\":{\"fillmode\":\"overlay\",\"size\":10,\"solidity\":0.2}},\"type\":\"bar\"}],\"carpet\":[{\"aaxis\":{\"endlinecolor\":\"#A2B1C6\",\"gridcolor\":\"#506784\",\"linecolor\":\"#506784\",\"minorgridcolor\":\"#506784\",\"startlinecolor\":\"#A2B1C6\"},\"baxis\":{\"endlinecolor\":\"#A2B1C6\",\"gridcolor\":\"#506784\",\"linecolor\":\"#506784\",\"minorgridcolor\":\"#506784\",\"startlinecolor\":\"#A2B1C6\"},\"type\":\"carpet\"}],\"choropleth\":[{\"colorbar\":{\"outlinewidth\":0,\"ticks\":\"\"},\"type\":\"choropleth\"}],\"contourcarpet\":[{\"colorbar\":{\"outlinewidth\":0,\"ticks\":\"\"},\"type\":\"contourcarpet\"}],\"contour\":[{\"colorbar\":{\"outlinewidth\":0,\"ticks\":\"\"},\"colorscale\":[[0.0,\"#0d0887\"],[0.1111111111111111,\"#46039f\"],[0.2222222222222222,\"#7201a8\"],[0.3333333333333333,\"#9c179e\"],[0.4444444444444444,\"#bd3786\"],[0.5555555555555556,\"#d8576b\"],[0.6666666666666666,\"#ed7953\"],[0.7777777777777778,\"#fb9f3a\"],[0.8888888888888888,\"#fdca26\"],[1.0,\"#f0f921\"]],\"type\":\"contour\"}],\"heatmapgl\":[{\"colorbar\":{\"outlinewidth\":0,\"ticks\":\"\"},\"colorscale\":[[0.0,\"#0d0887\"],[0.1111111111111111,\"#46039f\"],[0.2222222222222222,\"#7201a8\"],[0.3333333333333333,\"#9c179e\"],[0.4444444444444444,\"#bd3786\"],[0.5555555555555556,\"#d8576b\"],[0.6666666666666666,\"#ed7953\"],[0.7777777777777778,\"#fb9f3a\"],[0.8888888888888888,\"#fdca26\"],[1.0,\"#f0f921\"]],\"type\":\"heatmapgl\"}],\"heatmap\":[{\"colorbar\":{\"outlinewidth\":0,\"ticks\":\"\"},\"colorscale\":[[0.0,\"#0d0887\"],[0.1111111111111111,\"#46039f\"],[0.2222222222222222,\"#7201a8\"],[0.3333333333333333,\"#9c179e\"],[0.4444444444444444,\"#bd3786\"],[0.5555555555555556,\"#d8576b\"],[0.6666666666666666,\"#ed7953\"],[0.7777777777777778,\"#fb9f3a\"],[0.8888888888888888,\"#fdca26\"],[1.0,\"#f0f921\"]],\"type\":\"heatmap\"}],\"histogram2dcontour\":[{\"colorbar\":{\"outlinewidth\":0,\"ticks\":\"\"},\"colorscale\":[[0.0,\"#0d0887\"],[0.1111111111111111,\"#46039f\"],[0.2222222222222222,\"#7201a8\"],[0.3333333333333333,\"#9c179e\"],[0.4444444444444444,\"#bd3786\"],[0.5555555555555556,\"#d8576b\"],[0.6666666666666666,\"#ed7953\"],[0.7777777777777778,\"#fb9f3a\"],[0.8888888888888888,\"#fdca26\"],[1.0,\"#f0f921\"]],\"type\":\"histogram2dcontour\"}],\"histogram2d\":[{\"colorbar\":{\"outlinewidth\":0,\"ticks\":\"\"},\"colorscale\":[[0.0,\"#0d0887\"],[0.1111111111111111,\"#46039f\"],[0.2222222222222222,\"#7201a8\"],[0.3333333333333333,\"#9c179e\"],[0.4444444444444444,\"#bd3786\"],[0.5555555555555556,\"#d8576b\"],[0.6666666666666666,\"#ed7953\"],[0.7777777777777778,\"#fb9f3a\"],[0.8888888888888888,\"#fdca26\"],[1.0,\"#f0f921\"]],\"type\":\"histogram2d\"}],\"histogram\":[{\"marker\":{\"pattern\":{\"fillmode\":\"overlay\",\"size\":10,\"solidity\":0.2}},\"type\":\"histogram\"}],\"mesh3d\":[{\"colorbar\":{\"outlinewidth\":0,\"ticks\":\"\"},\"type\":\"mesh3d\"}],\"parcoords\":[{\"line\":{\"colorbar\":{\"outlinewidth\":0,\"ticks\":\"\"}},\"type\":\"parcoords\"}],\"pie\":[{\"automargin\":true,\"type\":\"pie\"}],\"scatter3d\":[{\"line\":{\"colorbar\":{\"outlinewidth\":0,\"ticks\":\"\"}},\"marker\":{\"colorbar\":{\"outlinewidth\":0,\"ticks\":\"\"}},\"type\":\"scatter3d\"}],\"scattercarpet\":[{\"marker\":{\"colorbar\":{\"outlinewidth\":0,\"ticks\":\"\"}},\"type\":\"scattercarpet\"}],\"scattergeo\":[{\"marker\":{\"colorbar\":{\"outlinewidth\":0,\"ticks\":\"\"}},\"type\":\"scattergeo\"}],\"scattergl\":[{\"marker\":{\"line\":{\"color\":\"#283442\"}},\"type\":\"scattergl\"}],\"scattermapbox\":[{\"marker\":{\"colorbar\":{\"outlinewidth\":0,\"ticks\":\"\"}},\"type\":\"scattermapbox\"}],\"scatterpolargl\":[{\"marker\":{\"colorbar\":{\"outlinewidth\":0,\"ticks\":\"\"}},\"type\":\"scatterpolargl\"}],\"scatterpolar\":[{\"marker\":{\"colorbar\":{\"outlinewidth\":0,\"ticks\":\"\"}},\"type\":\"scatterpolar\"}],\"scatter\":[{\"marker\":{\"line\":{\"color\":\"#283442\"}},\"type\":\"scatter\"}],\"scatterternary\":[{\"marker\":{\"colorbar\":{\"outlinewidth\":0,\"ticks\":\"\"}},\"type\":\"scatterternary\"}],\"surface\":[{\"colorbar\":{\"outlinewidth\":0,\"ticks\":\"\"},\"colorscale\":[[0.0,\"#0d0887\"],[0.1111111111111111,\"#46039f\"],[0.2222222222222222,\"#7201a8\"],[0.3333333333333333,\"#9c179e\"],[0.4444444444444444,\"#bd3786\"],[0.5555555555555556,\"#d8576b\"],[0.6666666666666666,\"#ed7953\"],[0.7777777777777778,\"#fb9f3a\"],[0.8888888888888888,\"#fdca26\"],[1.0,\"#f0f921\"]],\"type\":\"surface\"}],\"table\":[{\"cells\":{\"fill\":{\"color\":\"#506784\"},\"line\":{\"color\":\"rgb(17,17,17)\"}},\"header\":{\"fill\":{\"color\":\"#2a3f5f\"},\"line\":{\"color\":\"rgb(17,17,17)\"}},\"type\":\"table\"}]},\"layout\":{\"annotationdefaults\":{\"arrowcolor\":\"#f2f5fa\",\"arrowhead\":0,\"arrowwidth\":1},\"autotypenumbers\":\"strict\",\"coloraxis\":{\"colorbar\":{\"outlinewidth\":0,\"ticks\":\"\"}},\"colorscale\":{\"diverging\":[[0,\"#8e0152\"],[0.1,\"#c51b7d\"],[0.2,\"#de77ae\"],[0.3,\"#f1b6da\"],[0.4,\"#fde0ef\"],[0.5,\"#f7f7f7\"],[0.6,\"#e6f5d0\"],[0.7,\"#b8e186\"],[0.8,\"#7fbc41\"],[0.9,\"#4d9221\"],[1,\"#276419\"]],\"sequential\":[[0.0,\"#0d0887\"],[0.1111111111111111,\"#46039f\"],[0.2222222222222222,\"#7201a8\"],[0.3333333333333333,\"#9c179e\"],[0.4444444444444444,\"#bd3786\"],[0.5555555555555556,\"#d8576b\"],[0.6666666666666666,\"#ed7953\"],[0.7777777777777778,\"#fb9f3a\"],[0.8888888888888888,\"#fdca26\"],[1.0,\"#f0f921\"]],\"sequentialminus\":[[0.0,\"#0d0887\"],[0.1111111111111111,\"#46039f\"],[0.2222222222222222,\"#7201a8\"],[0.3333333333333333,\"#9c179e\"],[0.4444444444444444,\"#bd3786\"],[0.5555555555555556,\"#d8576b\"],[0.6666666666666666,\"#ed7953\"],[0.7777777777777778,\"#fb9f3a\"],[0.8888888888888888,\"#fdca26\"],[1.0,\"#f0f921\"]]},\"colorway\":[\"#636efa\",\"#EF553B\",\"#00cc96\",\"#ab63fa\",\"#FFA15A\",\"#19d3f3\",\"#FF6692\",\"#B6E880\",\"#FF97FF\",\"#FECB52\"],\"font\":{\"color\":\"#f2f5fa\"},\"geo\":{\"bgcolor\":\"rgb(17,17,17)\",\"lakecolor\":\"rgb(17,17,17)\",\"landcolor\":\"rgb(17,17,17)\",\"showlakes\":true,\"showland\":true,\"subunitcolor\":\"#506784\"},\"hoverlabel\":{\"align\":\"left\"},\"hovermode\":\"closest\",\"mapbox\":{\"style\":\"dark\"},\"paper_bgcolor\":\"rgb(17,17,17)\",\"plot_bgcolor\":\"rgb(17,17,17)\",\"polar\":{\"angularaxis\":{\"gridcolor\":\"#506784\",\"linecolor\":\"#506784\",\"ticks\":\"\"},\"bgcolor\":\"rgb(17,17,17)\",\"radialaxis\":{\"gridcolor\":\"#506784\",\"linecolor\":\"#506784\",\"ticks\":\"\"}},\"scene\":{\"xaxis\":{\"backgroundcolor\":\"rgb(17,17,17)\",\"gridcolor\":\"#506784\",\"gridwidth\":2,\"linecolor\":\"#506784\",\"showbackground\":true,\"ticks\":\"\",\"zerolinecolor\":\"#C8D4E3\"},\"yaxis\":{\"backgroundcolor\":\"rgb(17,17,17)\",\"gridcolor\":\"#506784\",\"gridwidth\":2,\"linecolor\":\"#506784\",\"showbackground\":true,\"ticks\":\"\",\"zerolinecolor\":\"#C8D4E3\"},\"zaxis\":{\"backgroundcolor\":\"rgb(17,17,17)\",\"gridcolor\":\"#506784\",\"gridwidth\":2,\"linecolor\":\"#506784\",\"showbackground\":true,\"ticks\":\"\",\"zerolinecolor\":\"#C8D4E3\"}},\"shapedefaults\":{\"line\":{\"color\":\"#f2f5fa\"}},\"sliderdefaults\":{\"bgcolor\":\"#C8D4E3\",\"bordercolor\":\"rgb(17,17,17)\",\"borderwidth\":1,\"tickwidth\":0},\"ternary\":{\"aaxis\":{\"gridcolor\":\"#506784\",\"linecolor\":\"#506784\",\"ticks\":\"\"},\"baxis\":{\"gridcolor\":\"#506784\",\"linecolor\":\"#506784\",\"ticks\":\"\"},\"bgcolor\":\"rgb(17,17,17)\",\"caxis\":{\"gridcolor\":\"#506784\",\"linecolor\":\"#506784\",\"ticks\":\"\"}},\"title\":{\"x\":0.05},\"updatemenudefaults\":{\"bgcolor\":\"#506784\",\"borderwidth\":0},\"xaxis\":{\"automargin\":true,\"gridcolor\":\"#283442\",\"linecolor\":\"#506784\",\"ticks\":\"\",\"title\":{\"standoff\":15},\"zerolinecolor\":\"#283442\",\"zerolinewidth\":2},\"yaxis\":{\"automargin\":true,\"gridcolor\":\"#283442\",\"linecolor\":\"#506784\",\"ticks\":\"\",\"title\":{\"standoff\":15},\"zerolinecolor\":\"#283442\",\"zerolinewidth\":2}}},\"xaxis\":{\"tickmode\":\"array\",\"tickvals\":[0,1,2,3,4,5,6,7,8,9,10],\"ticktext\":[\"w0\",\"w1\",\"w2\",\"w3\",\"w4\",\"w5\",\"w6\",\"w7\",\"w8\",\"w9\",\"w10\"]},\"title\":{\"text\":\"\\u0412\\u0435\\u0441\\u0430 \\u043c\\u043e\\u0434\\u0435\\u043b\\u0438\"},\"width\":1200,\"height\":600},                        {\"responsive\": true}                    ).then(function(){\n",
              "                            \n",
              "var gd = document.getElementById('3fc5ff9b-b72e-4bff-80eb-55fc527ab62b');\n",
              "var x = new MutationObserver(function (mutations, observer) {{\n",
              "        var display = window.getComputedStyle(gd).display;\n",
              "        if (!display || display === 'none') {{\n",
              "            console.log([gd, 'removed!']);\n",
              "            Plotly.purge(gd);\n",
              "            observer.disconnect();\n",
              "        }}\n",
              "}});\n",
              "\n",
              "// Listen for the removal of the full notebook cells\n",
              "var notebookContainer = gd.closest('#notebook-container');\n",
              "if (notebookContainer) {{\n",
              "    x.observe(notebookContainer, {childList: true});\n",
              "}}\n",
              "\n",
              "// Listen for the clearing of the current output cell\n",
              "var outputEl = gd.closest('.output');\n",
              "if (outputEl) {{\n",
              "    x.observe(outputEl, {childList: true});\n",
              "}}\n",
              "\n",
              "                        })                };                            </script>        </div>\n",
              "</body>\n",
              "</html>"
            ]
          },
          "metadata": {}
        }
      ]
    },
    {
      "cell_type": "code",
      "source": [
        "np.sum(np.abs(w))"
      ],
      "metadata": {
        "colab": {
          "base_uri": "https://localhost:8080/"
        },
        "id": "nWvcr5zObDgh",
        "outputId": "9326decc-1add-4ae0-a3a8-ce6be40539c1"
      },
      "execution_count": null,
      "outputs": [
        {
          "output_type": "execute_result",
          "data": {
            "text/plain": [
              "5.647463879933974"
            ]
          },
          "metadata": {},
          "execution_count": 71
        }
      ]
    },
    {
      "cell_type": "markdown",
      "source": [
        "\"Ну почти\" получилось нужное"
      ],
      "metadata": {
        "id": "47Mtue_kE4r1"
      }
    },
    {
      "cell_type": "code",
      "source": [
        "plot_model_class(x_train_, y_train, x_test_, x, y_true, regr_harm_poly);"
      ],
      "metadata": {
        "colab": {
          "base_uri": "https://localhost:8080/",
          "height": 617
        },
        "id": "8OBJL5ICBqhp",
        "outputId": "acffe761-43e8-454d-f5d5-410780408648"
      },
      "execution_count": null,
      "outputs": [
        {
          "output_type": "display_data",
          "data": {
            "text/html": [
              "<html>\n",
              "<head><meta charset=\"utf-8\" /></head>\n",
              "<body>\n",
              "    <div>            <script src=\"https://cdnjs.cloudflare.com/ajax/libs/mathjax/2.7.5/MathJax.js?config=TeX-AMS-MML_SVG\"></script><script type=\"text/javascript\">if (window.MathJax && window.MathJax.Hub && window.MathJax.Hub.Config) {window.MathJax.Hub.Config({SVG: {font: \"STIX-Web\"}});}</script>                <script type=\"text/javascript\">window.PlotlyConfig = {MathJaxConfig: 'local'};</script>\n",
              "        <script charset=\"utf-8\" src=\"https://cdn.plot.ly/plotly-2.24.1.min.js\"></script>                <div id=\"4301cc34-9656-4b4c-9415-55c787562acc\" class=\"plotly-graph-div\" style=\"height:600px; width:1200px;\"></div>            <script type=\"text/javascript\">                                    window.PLOTLYENV=window.PLOTLYENV || {};                                    if (document.getElementById(\"4301cc34-9656-4b4c-9415-55c787562acc\")) {                    Plotly.newPlot(                        \"4301cc34-9656-4b4c-9415-55c787562acc\",                        [{\"marker\":{\"color\":\"Blue\",\"size\":5},\"mode\":\"markers\",\"name\":\"\\u041f\\u0440\\u0435\\u0434\\u0441\\u043a\\u0430\\u0437\\u0430\\u043d\\u0438\\u0435 \\u043d\\u0430 x_test\",\"x\":[0.04864275845245291,0.8717318949578305,0.6362194811532859,0.39221749528184063,0.7665422633556482,0.17857244474527742,0.3836532251490256,0.3059331605412711,1.0156872220654944,0.31899079313911943,0.14607762928177764,0.8465517233413815,0.20909789571439721,0.5385050446476917,0.7165271498113673],\"y\":[-0.5630186144036746,0.13833283462250776,0.5987634820652041,0.19855890139597232,0.5425091200226237,-0.2779296040715988,0.1800744260296883,0.008253950259850595,-1.5184874658128258,0.03748008903834076,-0.3502322226137944,0.27825509116831026,-0.20957097421940973,0.4813978049639054,0.6051218449259248],\"type\":\"scatter\"},{\"marker\":{\"color\":\"LightSkyBlue\",\"size\":10},\"mode\":\"markers\",\"name\":\"\\u041f\\u0440\\u0435\\u0434\\u0441\\u043a\\u0430\\u0437\\u0430\\u043d\\u0438\\u0435 \\u043d\\u0430 x_train\",\"x\":[0.1935791331541123,0.7414918695374813,0.5495236501799443,0.9522380983100062,0.3049744424524801,1.0112075003926706,0.47759537064635094,0.46092661359718623,0.620375085805519,0.3186017317977882,0.19206075359692815,0.06812186887562248,0.6937917137886659,0.16335707969615926,0.060825016427191375,0.12779814068180767,0.8222343440291981,0.9936706109775585,0.995585693560036,0.2223609967255541,0.16338233821234197,0.2709937630302383,0.45233176577359235,0.6294861682850023,0.5725136657422902,0.021556032019184653,0.9070575387604193,0.5185480476776199,0.6269136986542038,0.1022819986076801,0.5446139582330638,0.19040666040567744,0.6407308530458254,0.03601157510112919,0.3264230755616875],\"y\":[-0.24436855034760915,0.5817416245175006,0.49866683968974274,-0.5707423637793532,0.0061046748016144155,-1.4371500126349448,0.37347749176093836,0.3410281697797239,0.58619371534117,0.036610663838476595,-0.247768492276842,-0.521028679871316,0.6146837623438481,-0.31185273015854326,-0.5367926749886622,-0.39064510118881685,0.38478642176407113,-1.141417008162518,-1.1720179780372524,-0.17977192584967608,-0.31179651082235077,-0.07027621672737003,0.3239141950158103,0.5937943627649825,0.5318917287347772,-0.6209045911889608,-0.11790378036517385,0.4481788449219432,0.5917483863653229,-0.4467001048195041,0.49107248930056163,-0.25147128763946813,0.6017704067898503,-0.590086432102259,0.05407006958298993],\"type\":\"scatter\"},{\"marker\":{\"color\":\"Red\",\"size\":5},\"mode\":\"markers\",\"name\":\"\\u0422\\u0440\\u0435\\u043d\\u0438\\u0440\\u043e\\u0432\\u043e\\u0447\\u043d\\u044b\\u0435 \\u0434\\u0430\\u043d\\u043d\\u044b\\u0435\",\"x\":[0.1935791331541123,0.7414918695374813,0.5495236501799443,0.9522380983100062,0.3049744424524801,1.0112075003926706,0.47759537064635094,0.46092661359718623,0.620375085805519,0.3186017317977882,0.19206075359692815,0.06812186887562248,0.6937917137886659,0.16335707969615926,0.060825016427191375,0.12779814068180767,0.8222343440291981,0.9936706109775585,0.995585693560036,0.2223609967255541,0.16338233821234197,0.2709937630302383,0.45233176577359235,0.6294861682850023,0.5725136657422902,0.021556032019184653,0.9070575387604193,0.5185480476776199,0.6269136986542038,0.1022819986076801,0.5446139582330638,0.19040666040567744,0.6407308530458254,0.03601157510112919,0.3264230755616875],\"y\":[-0.2859564595462624,-0.1453241894066141,0.9881167017483331,-1.0054835593161149,0.30766558901833774,-1.0504976409579565,0.9829069002541185,1.1056386336255508,0.7237707054079208,0.5153680456168184,-0.4237473950348616,-1.0576406053102159,0.3159704144520749,-0.4835375519098044,-0.957966113287652,-0.7406302067305153,-0.4027283437201781,-0.9076691167366973,-0.9667402734682089,-0.07966140075010146,-0.694067627940149,0.04760375926911199,1.0367342487283842,0.42492249897236334,1.0517934539878466,-0.9169952841417408,-0.9151271740983736,1.0935700908838861,0.8550178965734798,-0.8724907503746768,0.8964555976619756,-0.4042558886414683,0.6425837258651887,-0.9573737312130097,0.4433732359063325],\"type\":\"scatter\"},{\"marker\":{\"color\":\"green\",\"size\":10},\"mode\":\"lines+markers\",\"name\":\"\\u0418\\u0441\\u0442\\u0438\\u043d\\u043d\\u044b\\u0435 \\u0437\\u043d\\u0430\\u0447\\u0435\\u043d\\u0438\\u044f\",\"opacity\":0.7,\"x\":[0.021556032019184653,0.03601157510112919,0.04864275845245291,0.060825016427191375,0.06812186887562248,0.1022819986076801,0.12779814068180767,0.14607762928177764,0.16335707969615926,0.16338233821234197,0.17857244474527742,0.19040666040567744,0.19206075359692815,0.1935791331541123,0.20909789571439721,0.2223609967255541,0.2709937630302383,0.3049744424524801,0.3059331605412711,0.3186017317977882,0.31899079313911943,0.3264230755616875,0.3836532251490256,0.39221749528184063,0.45233176577359235,0.46092661359718623,0.47759537064635094,0.5185480476776199,0.5385050446476917,0.5446139582330638,0.5495236501799443,0.5725136657422902,0.620375085805519,0.6269136986542038,0.6294861682850023,0.6362194811532859,0.6407308530458254,0.6937917137886659,0.7165271498113673,0.7414918695374813,0.7665422633556482,0.8222343440291981,0.8465517233413815,0.8717318949578305,0.9070575387604193,0.9522380983100062,0.9936706109775585,0.995585693560036,1.0112075003926706,1.0156872220654944],\"y\":[-0.9908419421412819,-0.9745105593320068,-0.953657137715219,-0.9278557437287231,-0.9097884062734731,-0.800506329535206,-0.6945663296345366,-0.6075429493019043,-0.5178993808666505,-0.5177636124038756,-0.43387798659494153,-0.3657476605998366,-0.3560551950042657,-0.3471240884303492,-0.2541758778940944,-0.17278941266172132,0.13152551159137585,0.3385868266034592,0.3442486577060824,0.41781353290458245,0.42003323117514924,0.4619391335727142,0.7444882355469523,0.7793193543026911,0.9554816664889644,0.9700146307684685,0.9901079124121519,0.9932168010946837,0.970876362435546,0.960967573122488,0.9519771411974917,0.8979897973412496,0.727353309318916,0.6985535309920792,0.6868970093813378,0.6555449883551803,0.6338790190413717,0.34587114949866166,0.20876906504156134,0.053432702053475195,-0.1037510643140196,-0.4384396008713527,-0.5701203765525372,-0.6924389229841701,-0.8342778138090549,-0.9553078549576611,-0.9992093285069047,-0.9996153844341773,-0.9975216205812526,-0.9951463305468402],\"type\":\"scatter\"}],                        {\"template\":{\"data\":{\"barpolar\":[{\"marker\":{\"line\":{\"color\":\"rgb(17,17,17)\",\"width\":0.5},\"pattern\":{\"fillmode\":\"overlay\",\"size\":10,\"solidity\":0.2}},\"type\":\"barpolar\"}],\"bar\":[{\"error_x\":{\"color\":\"#f2f5fa\"},\"error_y\":{\"color\":\"#f2f5fa\"},\"marker\":{\"line\":{\"color\":\"rgb(17,17,17)\",\"width\":0.5},\"pattern\":{\"fillmode\":\"overlay\",\"size\":10,\"solidity\":0.2}},\"type\":\"bar\"}],\"carpet\":[{\"aaxis\":{\"endlinecolor\":\"#A2B1C6\",\"gridcolor\":\"#506784\",\"linecolor\":\"#506784\",\"minorgridcolor\":\"#506784\",\"startlinecolor\":\"#A2B1C6\"},\"baxis\":{\"endlinecolor\":\"#A2B1C6\",\"gridcolor\":\"#506784\",\"linecolor\":\"#506784\",\"minorgridcolor\":\"#506784\",\"startlinecolor\":\"#A2B1C6\"},\"type\":\"carpet\"}],\"choropleth\":[{\"colorbar\":{\"outlinewidth\":0,\"ticks\":\"\"},\"type\":\"choropleth\"}],\"contourcarpet\":[{\"colorbar\":{\"outlinewidth\":0,\"ticks\":\"\"},\"type\":\"contourcarpet\"}],\"contour\":[{\"colorbar\":{\"outlinewidth\":0,\"ticks\":\"\"},\"colorscale\":[[0.0,\"#0d0887\"],[0.1111111111111111,\"#46039f\"],[0.2222222222222222,\"#7201a8\"],[0.3333333333333333,\"#9c179e\"],[0.4444444444444444,\"#bd3786\"],[0.5555555555555556,\"#d8576b\"],[0.6666666666666666,\"#ed7953\"],[0.7777777777777778,\"#fb9f3a\"],[0.8888888888888888,\"#fdca26\"],[1.0,\"#f0f921\"]],\"type\":\"contour\"}],\"heatmapgl\":[{\"colorbar\":{\"outlinewidth\":0,\"ticks\":\"\"},\"colorscale\":[[0.0,\"#0d0887\"],[0.1111111111111111,\"#46039f\"],[0.2222222222222222,\"#7201a8\"],[0.3333333333333333,\"#9c179e\"],[0.4444444444444444,\"#bd3786\"],[0.5555555555555556,\"#d8576b\"],[0.6666666666666666,\"#ed7953\"],[0.7777777777777778,\"#fb9f3a\"],[0.8888888888888888,\"#fdca26\"],[1.0,\"#f0f921\"]],\"type\":\"heatmapgl\"}],\"heatmap\":[{\"colorbar\":{\"outlinewidth\":0,\"ticks\":\"\"},\"colorscale\":[[0.0,\"#0d0887\"],[0.1111111111111111,\"#46039f\"],[0.2222222222222222,\"#7201a8\"],[0.3333333333333333,\"#9c179e\"],[0.4444444444444444,\"#bd3786\"],[0.5555555555555556,\"#d8576b\"],[0.6666666666666666,\"#ed7953\"],[0.7777777777777778,\"#fb9f3a\"],[0.8888888888888888,\"#fdca26\"],[1.0,\"#f0f921\"]],\"type\":\"heatmap\"}],\"histogram2dcontour\":[{\"colorbar\":{\"outlinewidth\":0,\"ticks\":\"\"},\"colorscale\":[[0.0,\"#0d0887\"],[0.1111111111111111,\"#46039f\"],[0.2222222222222222,\"#7201a8\"],[0.3333333333333333,\"#9c179e\"],[0.4444444444444444,\"#bd3786\"],[0.5555555555555556,\"#d8576b\"],[0.6666666666666666,\"#ed7953\"],[0.7777777777777778,\"#fb9f3a\"],[0.8888888888888888,\"#fdca26\"],[1.0,\"#f0f921\"]],\"type\":\"histogram2dcontour\"}],\"histogram2d\":[{\"colorbar\":{\"outlinewidth\":0,\"ticks\":\"\"},\"colorscale\":[[0.0,\"#0d0887\"],[0.1111111111111111,\"#46039f\"],[0.2222222222222222,\"#7201a8\"],[0.3333333333333333,\"#9c179e\"],[0.4444444444444444,\"#bd3786\"],[0.5555555555555556,\"#d8576b\"],[0.6666666666666666,\"#ed7953\"],[0.7777777777777778,\"#fb9f3a\"],[0.8888888888888888,\"#fdca26\"],[1.0,\"#f0f921\"]],\"type\":\"histogram2d\"}],\"histogram\":[{\"marker\":{\"pattern\":{\"fillmode\":\"overlay\",\"size\":10,\"solidity\":0.2}},\"type\":\"histogram\"}],\"mesh3d\":[{\"colorbar\":{\"outlinewidth\":0,\"ticks\":\"\"},\"type\":\"mesh3d\"}],\"parcoords\":[{\"line\":{\"colorbar\":{\"outlinewidth\":0,\"ticks\":\"\"}},\"type\":\"parcoords\"}],\"pie\":[{\"automargin\":true,\"type\":\"pie\"}],\"scatter3d\":[{\"line\":{\"colorbar\":{\"outlinewidth\":0,\"ticks\":\"\"}},\"marker\":{\"colorbar\":{\"outlinewidth\":0,\"ticks\":\"\"}},\"type\":\"scatter3d\"}],\"scattercarpet\":[{\"marker\":{\"colorbar\":{\"outlinewidth\":0,\"ticks\":\"\"}},\"type\":\"scattercarpet\"}],\"scattergeo\":[{\"marker\":{\"colorbar\":{\"outlinewidth\":0,\"ticks\":\"\"}},\"type\":\"scattergeo\"}],\"scattergl\":[{\"marker\":{\"line\":{\"color\":\"#283442\"}},\"type\":\"scattergl\"}],\"scattermapbox\":[{\"marker\":{\"colorbar\":{\"outlinewidth\":0,\"ticks\":\"\"}},\"type\":\"scattermapbox\"}],\"scatterpolargl\":[{\"marker\":{\"colorbar\":{\"outlinewidth\":0,\"ticks\":\"\"}},\"type\":\"scatterpolargl\"}],\"scatterpolar\":[{\"marker\":{\"colorbar\":{\"outlinewidth\":0,\"ticks\":\"\"}},\"type\":\"scatterpolar\"}],\"scatter\":[{\"marker\":{\"line\":{\"color\":\"#283442\"}},\"type\":\"scatter\"}],\"scatterternary\":[{\"marker\":{\"colorbar\":{\"outlinewidth\":0,\"ticks\":\"\"}},\"type\":\"scatterternary\"}],\"surface\":[{\"colorbar\":{\"outlinewidth\":0,\"ticks\":\"\"},\"colorscale\":[[0.0,\"#0d0887\"],[0.1111111111111111,\"#46039f\"],[0.2222222222222222,\"#7201a8\"],[0.3333333333333333,\"#9c179e\"],[0.4444444444444444,\"#bd3786\"],[0.5555555555555556,\"#d8576b\"],[0.6666666666666666,\"#ed7953\"],[0.7777777777777778,\"#fb9f3a\"],[0.8888888888888888,\"#fdca26\"],[1.0,\"#f0f921\"]],\"type\":\"surface\"}],\"table\":[{\"cells\":{\"fill\":{\"color\":\"#506784\"},\"line\":{\"color\":\"rgb(17,17,17)\"}},\"header\":{\"fill\":{\"color\":\"#2a3f5f\"},\"line\":{\"color\":\"rgb(17,17,17)\"}},\"type\":\"table\"}]},\"layout\":{\"annotationdefaults\":{\"arrowcolor\":\"#f2f5fa\",\"arrowhead\":0,\"arrowwidth\":1},\"autotypenumbers\":\"strict\",\"coloraxis\":{\"colorbar\":{\"outlinewidth\":0,\"ticks\":\"\"}},\"colorscale\":{\"diverging\":[[0,\"#8e0152\"],[0.1,\"#c51b7d\"],[0.2,\"#de77ae\"],[0.3,\"#f1b6da\"],[0.4,\"#fde0ef\"],[0.5,\"#f7f7f7\"],[0.6,\"#e6f5d0\"],[0.7,\"#b8e186\"],[0.8,\"#7fbc41\"],[0.9,\"#4d9221\"],[1,\"#276419\"]],\"sequential\":[[0.0,\"#0d0887\"],[0.1111111111111111,\"#46039f\"],[0.2222222222222222,\"#7201a8\"],[0.3333333333333333,\"#9c179e\"],[0.4444444444444444,\"#bd3786\"],[0.5555555555555556,\"#d8576b\"],[0.6666666666666666,\"#ed7953\"],[0.7777777777777778,\"#fb9f3a\"],[0.8888888888888888,\"#fdca26\"],[1.0,\"#f0f921\"]],\"sequentialminus\":[[0.0,\"#0d0887\"],[0.1111111111111111,\"#46039f\"],[0.2222222222222222,\"#7201a8\"],[0.3333333333333333,\"#9c179e\"],[0.4444444444444444,\"#bd3786\"],[0.5555555555555556,\"#d8576b\"],[0.6666666666666666,\"#ed7953\"],[0.7777777777777778,\"#fb9f3a\"],[0.8888888888888888,\"#fdca26\"],[1.0,\"#f0f921\"]]},\"colorway\":[\"#636efa\",\"#EF553B\",\"#00cc96\",\"#ab63fa\",\"#FFA15A\",\"#19d3f3\",\"#FF6692\",\"#B6E880\",\"#FF97FF\",\"#FECB52\"],\"font\":{\"color\":\"#f2f5fa\"},\"geo\":{\"bgcolor\":\"rgb(17,17,17)\",\"lakecolor\":\"rgb(17,17,17)\",\"landcolor\":\"rgb(17,17,17)\",\"showlakes\":true,\"showland\":true,\"subunitcolor\":\"#506784\"},\"hoverlabel\":{\"align\":\"left\"},\"hovermode\":\"closest\",\"mapbox\":{\"style\":\"dark\"},\"paper_bgcolor\":\"rgb(17,17,17)\",\"plot_bgcolor\":\"rgb(17,17,17)\",\"polar\":{\"angularaxis\":{\"gridcolor\":\"#506784\",\"linecolor\":\"#506784\",\"ticks\":\"\"},\"bgcolor\":\"rgb(17,17,17)\",\"radialaxis\":{\"gridcolor\":\"#506784\",\"linecolor\":\"#506784\",\"ticks\":\"\"}},\"scene\":{\"xaxis\":{\"backgroundcolor\":\"rgb(17,17,17)\",\"gridcolor\":\"#506784\",\"gridwidth\":2,\"linecolor\":\"#506784\",\"showbackground\":true,\"ticks\":\"\",\"zerolinecolor\":\"#C8D4E3\"},\"yaxis\":{\"backgroundcolor\":\"rgb(17,17,17)\",\"gridcolor\":\"#506784\",\"gridwidth\":2,\"linecolor\":\"#506784\",\"showbackground\":true,\"ticks\":\"\",\"zerolinecolor\":\"#C8D4E3\"},\"zaxis\":{\"backgroundcolor\":\"rgb(17,17,17)\",\"gridcolor\":\"#506784\",\"gridwidth\":2,\"linecolor\":\"#506784\",\"showbackground\":true,\"ticks\":\"\",\"zerolinecolor\":\"#C8D4E3\"}},\"shapedefaults\":{\"line\":{\"color\":\"#f2f5fa\"}},\"sliderdefaults\":{\"bgcolor\":\"#C8D4E3\",\"bordercolor\":\"rgb(17,17,17)\",\"borderwidth\":1,\"tickwidth\":0},\"ternary\":{\"aaxis\":{\"gridcolor\":\"#506784\",\"linecolor\":\"#506784\",\"ticks\":\"\"},\"baxis\":{\"gridcolor\":\"#506784\",\"linecolor\":\"#506784\",\"ticks\":\"\"},\"bgcolor\":\"rgb(17,17,17)\",\"caxis\":{\"gridcolor\":\"#506784\",\"linecolor\":\"#506784\",\"ticks\":\"\"}},\"title\":{\"x\":0.05},\"updatemenudefaults\":{\"bgcolor\":\"#506784\",\"borderwidth\":0},\"xaxis\":{\"automargin\":true,\"gridcolor\":\"#283442\",\"linecolor\":\"#506784\",\"ticks\":\"\",\"title\":{\"standoff\":15},\"zerolinecolor\":\"#283442\",\"zerolinewidth\":2},\"yaxis\":{\"automargin\":true,\"gridcolor\":\"#283442\",\"linecolor\":\"#506784\",\"ticks\":\"\",\"title\":{\"standoff\":15},\"zerolinecolor\":\"#283442\",\"zerolinewidth\":2}}},\"title\":{\"text\":\"\\u041f\\u0440\\u0435\\u0434\\u0441\\u043a\\u0430\\u0437\\u0430\\u043d\\u0438\\u0435 \\u043c\\u043e\\u0434\\u0435\\u043b\\u0438\"},\"width\":1200,\"height\":600},                        {\"responsive\": true}                    ).then(function(){\n",
              "                            \n",
              "var gd = document.getElementById('4301cc34-9656-4b4c-9415-55c787562acc');\n",
              "var x = new MutationObserver(function (mutations, observer) {{\n",
              "        var display = window.getComputedStyle(gd).display;\n",
              "        if (!display || display === 'none') {{\n",
              "            console.log([gd, 'removed!']);\n",
              "            Plotly.purge(gd);\n",
              "            observer.disconnect();\n",
              "        }}\n",
              "}});\n",
              "\n",
              "// Listen for the removal of the full notebook cells\n",
              "var notebookContainer = gd.closest('#notebook-container');\n",
              "if (notebookContainer) {{\n",
              "    x.observe(notebookContainer, {childList: true});\n",
              "}}\n",
              "\n",
              "// Listen for the clearing of the current output cell\n",
              "var outputEl = gd.closest('.output');\n",
              "if (outputEl) {{\n",
              "    x.observe(outputEl, {childList: true});\n",
              "}}\n",
              "\n",
              "                        })                };                            </script>        </div>\n",
              "</body>\n",
              "</html>"
            ]
          },
          "metadata": {}
        }
      ]
    },
    {
      "cell_type": "markdown",
      "metadata": {
        "id": "eO3KFkjvbNaf"
      },
      "source": [
        "Как видно из таблицы наши данные имеют слегка  разный масштаб. Чтобы было, если бы мы взяли более высокие порядки? Для компенсации этого эффекта часто для данных применяют перемасштабирование - нормализацию. Этот процесс можно описать следующим выражением:\n",
        "$$ x' =\\frac{x - \\min(x)}{\\max(x) - \\min(x)}$$\n",
        "\n",
        "Давайте попробуем посмотреть к чему это приводит"
      ]
    },
    {
      "cell_type": "code",
      "execution_count": null,
      "metadata": {
        "id": "s7QO0fSPbNaf"
      },
      "outputs": [],
      "source": [
        "class MinMaxScaler:\n",
        "    # Класс нормализации. Класс чтобы \"запомнить\" параметры которые вычитали / делили\n",
        "    def __init__(self):\n",
        "        self.min = 0\n",
        "        self.max = 0\n",
        "    def fit(self,X):\n",
        "        # обучаем - ищем максимальное и минимальное значение\n",
        "        self.min = X.min(axis = 0)\n",
        "        self.max = X.max(axis = 0)\n",
        "        return self\n",
        "    def transform(self,X):\n",
        "        # трансформируем по формуле\n",
        "        return (X- self.min)/(self.max-self.min)\n",
        "    def fit_transform(self,X):\n",
        "        # питоновское \"объединяем\" два метода в один\n",
        "        return self.fit(X).transform(X)"
      ]
    },
    {
      "cell_type": "markdown",
      "source": [
        "$$ x' =\\frac{x - mean(x)}{std(x)}$$"
      ],
      "metadata": {
        "id": "dvLx8Q0iuFDU"
      }
    },
    {
      "cell_type": "code",
      "source": [
        "class StandardScaler:\n",
        "    # Класс стандартизации. Класс чтобы \"запомнить\" параметры которые вычитали / делили\n",
        "    def __init__(self):\n",
        "        self.mean = 0\n",
        "        self.std = 1\n",
        "    def fit(self,X):\n",
        "        # обучаем - ищем среднее и стандартное отклонение\n",
        "        self.mean = X.mean(axis = 0)\n",
        "        self.std = X.std(axis = 0)\n",
        "        return self\n",
        "    def transform(self,X):\n",
        "        # трансформируем по формуле\n",
        "        return (X- self.mean)/(self.std)\n",
        "    def fit_transform(self,X):\n",
        "        # питоновское \"объединяем\" два метода в один\n",
        "        return self.fit(X).transform(X)"
      ],
      "metadata": {
        "id": "24DbLXliB-Ej"
      },
      "execution_count": null,
      "outputs": []
    },
    {
      "cell_type": "markdown",
      "source": [
        "Допустим воспользуемся стандартизацией"
      ],
      "metadata": {
        "id": "Gneh-p2QFyvH"
      }
    },
    {
      "cell_type": "code",
      "source": [
        "scaler = StandardScaler() # создаем экземпляр класса\n",
        "x_train_scaled = scaler.fit_transform(x_train_) # обучаем на тренировочных и сразу трансформируем\n",
        "x_test_scaled = scaler.transform(x_test_) # обучаем трансформируем тестовые данные"
      ],
      "metadata": {
        "id": "NIx5KbiGCJIT"
      },
      "execution_count": null,
      "outputs": []
    },
    {
      "cell_type": "markdown",
      "source": [
        "Выглядит более однородно"
      ],
      "metadata": {
        "id": "mtrgvlk7GCQV"
      }
    },
    {
      "cell_type": "code",
      "source": [
        "pd.DataFrame(x_test_scaled).tail(4)"
      ],
      "metadata": {
        "colab": {
          "base_uri": "https://localhost:8080/",
          "height": 175
        },
        "id": "K3yG1cOkCLwS",
        "outputId": "7cc3e838-8806-4953-bd75-b0602e8b5997"
      },
      "execution_count": null,
      "outputs": [
        {
          "output_type": "execute_result",
          "data": {
            "text/plain": [
              "           0         1         2         3         4         5         6  \\\n",
              "11  1.290826  1.314799  1.202790  1.042037  0.873383  0.713301  0.567758   \n",
              "12 -0.818138 -0.806942 -0.701026 -0.607631 -0.541376 -0.496097 -0.464670   \n",
              "13  0.271678 -0.030467 -0.232614 -0.342675 -0.395187 -0.416225 -0.421213   \n",
              "14  0.860650  0.673987  0.441925  0.236037  0.072468 -0.051594 -0.143407   \n",
              "\n",
              "           7         8         9  \n",
              "11  0.438375  0.324924  0.226372  \n",
              "12 -0.442123 -0.425319 -0.412306  \n",
              "13 -0.418529 -0.412527 -0.405378  \n",
              "14 -0.210200 -0.258052 -0.291783  "
            ],
            "text/html": [
              "\n",
              "  <div id=\"df-fccd3ee1-2d06-40e7-bb52-622f3097d9c4\" class=\"colab-df-container\">\n",
              "    <div>\n",
              "<style scoped>\n",
              "    .dataframe tbody tr th:only-of-type {\n",
              "        vertical-align: middle;\n",
              "    }\n",
              "\n",
              "    .dataframe tbody tr th {\n",
              "        vertical-align: top;\n",
              "    }\n",
              "\n",
              "    .dataframe thead th {\n",
              "        text-align: right;\n",
              "    }\n",
              "</style>\n",
              "<table border=\"1\" class=\"dataframe\">\n",
              "  <thead>\n",
              "    <tr style=\"text-align: right;\">\n",
              "      <th></th>\n",
              "      <th>0</th>\n",
              "      <th>1</th>\n",
              "      <th>2</th>\n",
              "      <th>3</th>\n",
              "      <th>4</th>\n",
              "      <th>5</th>\n",
              "      <th>6</th>\n",
              "      <th>7</th>\n",
              "      <th>8</th>\n",
              "      <th>9</th>\n",
              "    </tr>\n",
              "  </thead>\n",
              "  <tbody>\n",
              "    <tr>\n",
              "      <th>11</th>\n",
              "      <td>1.290826</td>\n",
              "      <td>1.314799</td>\n",
              "      <td>1.202790</td>\n",
              "      <td>1.042037</td>\n",
              "      <td>0.873383</td>\n",
              "      <td>0.713301</td>\n",
              "      <td>0.567758</td>\n",
              "      <td>0.438375</td>\n",
              "      <td>0.324924</td>\n",
              "      <td>0.226372</td>\n",
              "    </tr>\n",
              "    <tr>\n",
              "      <th>12</th>\n",
              "      <td>-0.818138</td>\n",
              "      <td>-0.806942</td>\n",
              "      <td>-0.701026</td>\n",
              "      <td>-0.607631</td>\n",
              "      <td>-0.541376</td>\n",
              "      <td>-0.496097</td>\n",
              "      <td>-0.464670</td>\n",
              "      <td>-0.442123</td>\n",
              "      <td>-0.425319</td>\n",
              "      <td>-0.412306</td>\n",
              "    </tr>\n",
              "    <tr>\n",
              "      <th>13</th>\n",
              "      <td>0.271678</td>\n",
              "      <td>-0.030467</td>\n",
              "      <td>-0.232614</td>\n",
              "      <td>-0.342675</td>\n",
              "      <td>-0.395187</td>\n",
              "      <td>-0.416225</td>\n",
              "      <td>-0.421213</td>\n",
              "      <td>-0.418529</td>\n",
              "      <td>-0.412527</td>\n",
              "      <td>-0.405378</td>\n",
              "    </tr>\n",
              "    <tr>\n",
              "      <th>14</th>\n",
              "      <td>0.860650</td>\n",
              "      <td>0.673987</td>\n",
              "      <td>0.441925</td>\n",
              "      <td>0.236037</td>\n",
              "      <td>0.072468</td>\n",
              "      <td>-0.051594</td>\n",
              "      <td>-0.143407</td>\n",
              "      <td>-0.210200</td>\n",
              "      <td>-0.258052</td>\n",
              "      <td>-0.291783</td>\n",
              "    </tr>\n",
              "  </tbody>\n",
              "</table>\n",
              "</div>\n",
              "    <div class=\"colab-df-buttons\">\n",
              "\n",
              "  <div class=\"colab-df-container\">\n",
              "    <button class=\"colab-df-convert\" onclick=\"convertToInteractive('df-fccd3ee1-2d06-40e7-bb52-622f3097d9c4')\"\n",
              "            title=\"Convert this dataframe to an interactive table.\"\n",
              "            style=\"display:none;\">\n",
              "\n",
              "  <svg xmlns=\"http://www.w3.org/2000/svg\" height=\"24px\" viewBox=\"0 -960 960 960\">\n",
              "    <path d=\"M120-120v-720h720v720H120Zm60-500h600v-160H180v160Zm220 220h160v-160H400v160Zm0 220h160v-160H400v160ZM180-400h160v-160H180v160Zm440 0h160v-160H620v160ZM180-180h160v-160H180v160Zm440 0h160v-160H620v160Z\"/>\n",
              "  </svg>\n",
              "    </button>\n",
              "\n",
              "  <style>\n",
              "    .colab-df-container {\n",
              "      display:flex;\n",
              "      gap: 12px;\n",
              "    }\n",
              "\n",
              "    .colab-df-convert {\n",
              "      background-color: #E8F0FE;\n",
              "      border: none;\n",
              "      border-radius: 50%;\n",
              "      cursor: pointer;\n",
              "      display: none;\n",
              "      fill: #1967D2;\n",
              "      height: 32px;\n",
              "      padding: 0 0 0 0;\n",
              "      width: 32px;\n",
              "    }\n",
              "\n",
              "    .colab-df-convert:hover {\n",
              "      background-color: #E2EBFA;\n",
              "      box-shadow: 0px 1px 2px rgba(60, 64, 67, 0.3), 0px 1px 3px 1px rgba(60, 64, 67, 0.15);\n",
              "      fill: #174EA6;\n",
              "    }\n",
              "\n",
              "    .colab-df-buttons div {\n",
              "      margin-bottom: 4px;\n",
              "    }\n",
              "\n",
              "    [theme=dark] .colab-df-convert {\n",
              "      background-color: #3B4455;\n",
              "      fill: #D2E3FC;\n",
              "    }\n",
              "\n",
              "    [theme=dark] .colab-df-convert:hover {\n",
              "      background-color: #434B5C;\n",
              "      box-shadow: 0px 1px 3px 1px rgba(0, 0, 0, 0.15);\n",
              "      filter: drop-shadow(0px 1px 2px rgba(0, 0, 0, 0.3));\n",
              "      fill: #FFFFFF;\n",
              "    }\n",
              "  </style>\n",
              "\n",
              "    <script>\n",
              "      const buttonEl =\n",
              "        document.querySelector('#df-fccd3ee1-2d06-40e7-bb52-622f3097d9c4 button.colab-df-convert');\n",
              "      buttonEl.style.display =\n",
              "        google.colab.kernel.accessAllowed ? 'block' : 'none';\n",
              "\n",
              "      async function convertToInteractive(key) {\n",
              "        const element = document.querySelector('#df-fccd3ee1-2d06-40e7-bb52-622f3097d9c4');\n",
              "        const dataTable =\n",
              "          await google.colab.kernel.invokeFunction('convertToInteractive',\n",
              "                                                    [key], {});\n",
              "        if (!dataTable) return;\n",
              "\n",
              "        const docLinkHtml = 'Like what you see? Visit the ' +\n",
              "          '<a target=\"_blank\" href=https://colab.research.google.com/notebooks/data_table.ipynb>data table notebook</a>'\n",
              "          + ' to learn more about interactive tables.';\n",
              "        element.innerHTML = '';\n",
              "        dataTable['output_type'] = 'display_data';\n",
              "        await google.colab.output.renderOutput(dataTable, element);\n",
              "        const docLink = document.createElement('div');\n",
              "        docLink.innerHTML = docLinkHtml;\n",
              "        element.appendChild(docLink);\n",
              "      }\n",
              "    </script>\n",
              "  </div>\n",
              "\n",
              "\n",
              "<div id=\"df-49b221e1-844b-4e9a-b55d-f7c54590ab50\">\n",
              "  <button class=\"colab-df-quickchart\" onclick=\"quickchart('df-49b221e1-844b-4e9a-b55d-f7c54590ab50')\"\n",
              "            title=\"Suggest charts.\"\n",
              "            style=\"display:none;\">\n",
              "\n",
              "<svg xmlns=\"http://www.w3.org/2000/svg\" height=\"24px\"viewBox=\"0 0 24 24\"\n",
              "     width=\"24px\">\n",
              "    <g>\n",
              "        <path d=\"M19 3H5c-1.1 0-2 .9-2 2v14c0 1.1.9 2 2 2h14c1.1 0 2-.9 2-2V5c0-1.1-.9-2-2-2zM9 17H7v-7h2v7zm4 0h-2V7h2v10zm4 0h-2v-4h2v4z\"/>\n",
              "    </g>\n",
              "</svg>\n",
              "  </button>\n",
              "\n",
              "<style>\n",
              "  .colab-df-quickchart {\n",
              "      --bg-color: #E8F0FE;\n",
              "      --fill-color: #1967D2;\n",
              "      --hover-bg-color: #E2EBFA;\n",
              "      --hover-fill-color: #174EA6;\n",
              "      --disabled-fill-color: #AAA;\n",
              "      --disabled-bg-color: #DDD;\n",
              "  }\n",
              "\n",
              "  [theme=dark] .colab-df-quickchart {\n",
              "      --bg-color: #3B4455;\n",
              "      --fill-color: #D2E3FC;\n",
              "      --hover-bg-color: #434B5C;\n",
              "      --hover-fill-color: #FFFFFF;\n",
              "      --disabled-bg-color: #3B4455;\n",
              "      --disabled-fill-color: #666;\n",
              "  }\n",
              "\n",
              "  .colab-df-quickchart {\n",
              "    background-color: var(--bg-color);\n",
              "    border: none;\n",
              "    border-radius: 50%;\n",
              "    cursor: pointer;\n",
              "    display: none;\n",
              "    fill: var(--fill-color);\n",
              "    height: 32px;\n",
              "    padding: 0;\n",
              "    width: 32px;\n",
              "  }\n",
              "\n",
              "  .colab-df-quickchart:hover {\n",
              "    background-color: var(--hover-bg-color);\n",
              "    box-shadow: 0 1px 2px rgba(60, 64, 67, 0.3), 0 1px 3px 1px rgba(60, 64, 67, 0.15);\n",
              "    fill: var(--button-hover-fill-color);\n",
              "  }\n",
              "\n",
              "  .colab-df-quickchart-complete:disabled,\n",
              "  .colab-df-quickchart-complete:disabled:hover {\n",
              "    background-color: var(--disabled-bg-color);\n",
              "    fill: var(--disabled-fill-color);\n",
              "    box-shadow: none;\n",
              "  }\n",
              "\n",
              "  .colab-df-spinner {\n",
              "    border: 2px solid var(--fill-color);\n",
              "    border-color: transparent;\n",
              "    border-bottom-color: var(--fill-color);\n",
              "    animation:\n",
              "      spin 1s steps(1) infinite;\n",
              "  }\n",
              "\n",
              "  @keyframes spin {\n",
              "    0% {\n",
              "      border-color: transparent;\n",
              "      border-bottom-color: var(--fill-color);\n",
              "      border-left-color: var(--fill-color);\n",
              "    }\n",
              "    20% {\n",
              "      border-color: transparent;\n",
              "      border-left-color: var(--fill-color);\n",
              "      border-top-color: var(--fill-color);\n",
              "    }\n",
              "    30% {\n",
              "      border-color: transparent;\n",
              "      border-left-color: var(--fill-color);\n",
              "      border-top-color: var(--fill-color);\n",
              "      border-right-color: var(--fill-color);\n",
              "    }\n",
              "    40% {\n",
              "      border-color: transparent;\n",
              "      border-right-color: var(--fill-color);\n",
              "      border-top-color: var(--fill-color);\n",
              "    }\n",
              "    60% {\n",
              "      border-color: transparent;\n",
              "      border-right-color: var(--fill-color);\n",
              "    }\n",
              "    80% {\n",
              "      border-color: transparent;\n",
              "      border-right-color: var(--fill-color);\n",
              "      border-bottom-color: var(--fill-color);\n",
              "    }\n",
              "    90% {\n",
              "      border-color: transparent;\n",
              "      border-bottom-color: var(--fill-color);\n",
              "    }\n",
              "  }\n",
              "</style>\n",
              "\n",
              "  <script>\n",
              "    async function quickchart(key) {\n",
              "      const quickchartButtonEl =\n",
              "        document.querySelector('#' + key + ' button');\n",
              "      quickchartButtonEl.disabled = true;  // To prevent multiple clicks.\n",
              "      quickchartButtonEl.classList.add('colab-df-spinner');\n",
              "      try {\n",
              "        const charts = await google.colab.kernel.invokeFunction(\n",
              "            'suggestCharts', [key], {});\n",
              "      } catch (error) {\n",
              "        console.error('Error during call to suggestCharts:', error);\n",
              "      }\n",
              "      quickchartButtonEl.classList.remove('colab-df-spinner');\n",
              "      quickchartButtonEl.classList.add('colab-df-quickchart-complete');\n",
              "    }\n",
              "    (() => {\n",
              "      let quickchartButtonEl =\n",
              "        document.querySelector('#df-49b221e1-844b-4e9a-b55d-f7c54590ab50 button');\n",
              "      quickchartButtonEl.style.display =\n",
              "        google.colab.kernel.accessAllowed ? 'block' : 'none';\n",
              "    })();\n",
              "  </script>\n",
              "</div>\n",
              "    </div>\n",
              "  </div>\n"
            ]
          },
          "metadata": {},
          "execution_count": 76
        }
      ]
    },
    {
      "cell_type": "markdown",
      "source": [
        "И вновь\n",
        "\n",
        "* Создаем модель-объект\n",
        "\n",
        "* Обучаем через `.fit()`\n",
        "\n",
        "* Оцениваем через `.score()`\n",
        "\n",
        "* Рисуем функцию потерь через `.plot_cost()`"
      ],
      "metadata": {
        "id": "zNLk4P1FGHPU"
      }
    },
    {
      "cell_type": "code",
      "execution_count": null,
      "metadata": {
        "scrolled": false,
        "id": "jskr3zndbNae",
        "outputId": "f0d1052e-0fb6-41dc-a173-7e251069f6be",
        "colab": {
          "base_uri": "https://localhost:8080/",
          "height": 652
        }
      },
      "outputs": [
        {
          "output_type": "stream",
          "name": "stdout",
          "text": [
            "Коэффициент детерминации на тестовых данных = 0.97, \n",
            " Коэффициент детерминации на тренировочных данных = 0.95\n"
          ]
        },
        {
          "output_type": "display_data",
          "data": {
            "text/html": [
              "<html>\n",
              "<head><meta charset=\"utf-8\" /></head>\n",
              "<body>\n",
              "    <div>            <script src=\"https://cdnjs.cloudflare.com/ajax/libs/mathjax/2.7.5/MathJax.js?config=TeX-AMS-MML_SVG\"></script><script type=\"text/javascript\">if (window.MathJax && window.MathJax.Hub && window.MathJax.Hub.Config) {window.MathJax.Hub.Config({SVG: {font: \"STIX-Web\"}});}</script>                <script type=\"text/javascript\">window.PlotlyConfig = {MathJaxConfig: 'local'};</script>\n",
              "        <script charset=\"utf-8\" src=\"https://cdn.plot.ly/plotly-2.24.1.min.js\"></script>                <div id=\"189e6af1-8007-4c92-be38-73bdfb778f82\" class=\"plotly-graph-div\" style=\"height:600px; width:1200px;\"></div>            <script type=\"text/javascript\">                                    window.PLOTLYENV=window.PLOTLYENV || {};                                    if (document.getElementById(\"189e6af1-8007-4c92-be38-73bdfb778f82\")) {                    Plotly.newPlot(                        \"189e6af1-8007-4c92-be38-73bdfb778f82\",                        [{\"mode\":\"lines+markers\",\"name\":\"\\u0420\\u0435\\u0430\\u043b\\u044c\\u043d\\u044b\\u0435 \\u0434\\u0430\\u043d\\u043d\\u044b\\u0435\",\"y\":[4.064009154153197,1.2905339375121196,1.342051386717055,0.949001237294229,0.842985672000386,0.6658927675043205,0.8231853507702392,0.662534157327783,0.516145534335384,0.6247426509790228,0.5061349490177212,0.5061113016415614,0.5597171499465573,0.47031432116634797,0.4035435672976899,0.5069991002343976,0.4734275614809192,0.46081295315362186,0.4803329974245921,0.49445334010938613,0.5212090702677504,0.39435274884205385,0.42338506973018486,0.437715425024483,0.4415003363640668,0.4578145610356342,0.40026042452383126,0.36376642254876357,0.35711492193133987,0.3948052683099321,0.36215670562734603,0.4248062320943815,0.4325316981394074,0.48362448479570547,0.4279976461475137,0.3911130291266266,0.36089842429110347,0.33257934324220106,0.3708060790436949,0.3730839519104666,0.26845970508024586,0.37782651743168943,0.3617419012174895,0.3596880505602984,0.30644256976046325,0.3217750349016628,0.3208191372200717,0.32891744803214207,0.35336748670410745,0.3410279914162549,0.31582123704171483,0.32780558219707556,0.2866957526938868,0.2822549886821786,0.3375461422076883,0.26259935409808066,0.2559578311593508,0.3134181103651411,0.3690049700673079,0.2763325685974747,0.293652819009279,0.23984696297867597,0.2459821100329289,0.25833218123750623,0.2447445219844765,0.27134393715452293,0.28363645305379365,0.2866471900843679,0.2617091993326418,0.2523243551452441,0.2622929402189408,0.2620575544667937,0.2254220215207961,0.23200452517459785,0.23150258587090164,0.24351809835238436,0.2554729509131753,0.21095202350675019,0.25916323321819623,0.2357882057513649,0.19904392384319114,0.2276775772994144,0.2084927797867341,0.20467392633804074,0.2258596421909736,0.17736391262402437,0.196865670051687,0.20799439619141397,0.22610872396929949,0.21656472082795836,0.2322795808046168,0.23412542413183446,0.2174804765131969,0.18641818319897785,0.20942660643111677,0.18551650889039784,0.21531215673920567,0.20564493408538423,0.18813686589442255,0.17594695795938536,0.18085503924679053,0.18742759375510232,0.17253554464786997,0.17920792039696715,0.15754050980717493,0.17157067150035335,0.1597318850030588,0.16314357824152012,0.14720949779733195,0.1931118799184502,0.17406386529748064,0.1491515572171928,0.15512979380174002,0.17144993030304995,0.14978718188242257,0.15326769279068467,0.14836399783615684,0.1629454258798943,0.1199490416664403,0.1486856263048694,0.15240973087306653,0.1517831925683242,0.15921126045157596,0.1603772473349503,0.13921418883538253,0.160685382768942,0.15712548662996245,0.13874569055313293,0.1513113854054199,0.1383267338880602,0.1604021521679074,0.13046953617862156,0.12346095648870029,0.12305261578915544,0.12946306332104893,0.12176980827969035,0.1216295975998124,0.11439487489473735,0.12345624925836315,0.12921066520098656,0.1421506635770468,0.13802545724534623,0.13252587226155643,0.11898209299209099,0.13312865852179984,0.1148739154711004,0.11819002413274886,0.11931098955970496,0.12446483672105546,0.11113979961702714,0.10607688416637845,0.11746701921434193,0.1365208524497527,0.18191659179707978,0.10722149187011412,0.1405892654845597,0.0975258649150124,0.13637525822362104,0.11563311666464737,0.10099346543072452,0.10078684050679651,0.11302374003265389,0.10769176925991625,0.10364638381840299,0.09458106533631945,0.11790589288607223,0.09098239301303465,0.12234130145642809,0.0996819996091787,0.10225416545086657,0.10113259302846814,0.11328818683773087,0.10085024944285116,0.11006033163916118,0.10171036951980286,0.08919957169870205,0.10232966370320268,0.08410861594280908,0.09241149946084326,0.09436774732569808,0.0878871648529323,0.08693853228122153,0.09481713629886866,0.10419419256638418,0.1096811747654002,0.10662175219600184,0.09926436344947046,0.09893947125542271,0.09497150920034964,0.09045802149357367,0.099016886222853,0.10041061230970694,0.10588349553288319,0.08709143453974891,0.09130461190862776,0.08522901490375961,0.07957201438922301,0.09746258496500054,0.08079480301037753,0.08405015305813497,0.10003852173112908,0.08396754779721297,0.08073272765174416,0.0807382329872139,0.08205983690487653,0.08948703364831026,0.07501708159528,0.0821037390751248,0.08521370301011497,0.08870103516285908,0.07794068050841516,0.08211115046389598,0.08431704421638331,0.07847100801564721,0.08770701438775069,0.08861605135278583,0.09788013703935527,0.08444883375668072,0.09436066464053983,0.08319800012427589,0.09144568970637397,0.07218406692518167,0.06484402600908568,0.08200740105006057,0.07210536421049742,0.06615583913516365,0.07679996546695307,0.08164942446161941,0.08287471286772684,0.0719007811024322,0.0740807293192417,0.0723559440840606,0.0666228274920495,0.08390747963771014,0.0710479251292171,0.0825088225547041,0.0696597920557015,0.08265673415249652,0.060452570563881716,0.07459779502448237,0.0816278504387286,0.08070208024926787,0.072288842566361,0.07108710180245581,0.06994451132038823,0.08381681257932957,0.07244734134280814,0.06053095625551186,0.07167545161255928,0.08063702655275108,0.07686168965753486,0.061949219018195945,0.062011769498003286,0.058636103028692974,0.08286594130127667,0.07752487297739465,0.062141346903922895,0.0664993851033444,0.06476045944297369,0.05241214475483597,0.07714775471380539,0.07122976304475484,0.06511104047802901,0.0700266128399526,0.05619497149833513,0.07924149660681128,0.07938135701942947,0.061574340637677624,0.07396490597250616,0.06523216680649271,0.06626446438699987,0.0613883896816093,0.07360140425571815,0.06326470457211256,0.06394456352627548,0.06935650763562975,0.08452620477077265,0.07230562821694943,0.07866074525470099,0.07458762441485982,0.059806916771629574,0.06265140173569178,0.05637846295376147,0.07148149035068574,0.0602844271488788,0.0794031670845636,0.07538122962312208,0.07063494698781222,0.057823290669796565,0.0708010624709586,0.06913714025111557,0.07207893493950805,0.06288928479229944,0.06302525435317298,0.05969755285810674,0.07493002681940769,0.06357354922684717,0.0584346017971317,0.06715604947396236,0.060487515481615683],\"type\":\"scatter\"}],                        {\"template\":{\"data\":{\"barpolar\":[{\"marker\":{\"line\":{\"color\":\"rgb(17,17,17)\",\"width\":0.5},\"pattern\":{\"fillmode\":\"overlay\",\"size\":10,\"solidity\":0.2}},\"type\":\"barpolar\"}],\"bar\":[{\"error_x\":{\"color\":\"#f2f5fa\"},\"error_y\":{\"color\":\"#f2f5fa\"},\"marker\":{\"line\":{\"color\":\"rgb(17,17,17)\",\"width\":0.5},\"pattern\":{\"fillmode\":\"overlay\",\"size\":10,\"solidity\":0.2}},\"type\":\"bar\"}],\"carpet\":[{\"aaxis\":{\"endlinecolor\":\"#A2B1C6\",\"gridcolor\":\"#506784\",\"linecolor\":\"#506784\",\"minorgridcolor\":\"#506784\",\"startlinecolor\":\"#A2B1C6\"},\"baxis\":{\"endlinecolor\":\"#A2B1C6\",\"gridcolor\":\"#506784\",\"linecolor\":\"#506784\",\"minorgridcolor\":\"#506784\",\"startlinecolor\":\"#A2B1C6\"},\"type\":\"carpet\"}],\"choropleth\":[{\"colorbar\":{\"outlinewidth\":0,\"ticks\":\"\"},\"type\":\"choropleth\"}],\"contourcarpet\":[{\"colorbar\":{\"outlinewidth\":0,\"ticks\":\"\"},\"type\":\"contourcarpet\"}],\"contour\":[{\"colorbar\":{\"outlinewidth\":0,\"ticks\":\"\"},\"colorscale\":[[0.0,\"#0d0887\"],[0.1111111111111111,\"#46039f\"],[0.2222222222222222,\"#7201a8\"],[0.3333333333333333,\"#9c179e\"],[0.4444444444444444,\"#bd3786\"],[0.5555555555555556,\"#d8576b\"],[0.6666666666666666,\"#ed7953\"],[0.7777777777777778,\"#fb9f3a\"],[0.8888888888888888,\"#fdca26\"],[1.0,\"#f0f921\"]],\"type\":\"contour\"}],\"heatmapgl\":[{\"colorbar\":{\"outlinewidth\":0,\"ticks\":\"\"},\"colorscale\":[[0.0,\"#0d0887\"],[0.1111111111111111,\"#46039f\"],[0.2222222222222222,\"#7201a8\"],[0.3333333333333333,\"#9c179e\"],[0.4444444444444444,\"#bd3786\"],[0.5555555555555556,\"#d8576b\"],[0.6666666666666666,\"#ed7953\"],[0.7777777777777778,\"#fb9f3a\"],[0.8888888888888888,\"#fdca26\"],[1.0,\"#f0f921\"]],\"type\":\"heatmapgl\"}],\"heatmap\":[{\"colorbar\":{\"outlinewidth\":0,\"ticks\":\"\"},\"colorscale\":[[0.0,\"#0d0887\"],[0.1111111111111111,\"#46039f\"],[0.2222222222222222,\"#7201a8\"],[0.3333333333333333,\"#9c179e\"],[0.4444444444444444,\"#bd3786\"],[0.5555555555555556,\"#d8576b\"],[0.6666666666666666,\"#ed7953\"],[0.7777777777777778,\"#fb9f3a\"],[0.8888888888888888,\"#fdca26\"],[1.0,\"#f0f921\"]],\"type\":\"heatmap\"}],\"histogram2dcontour\":[{\"colorbar\":{\"outlinewidth\":0,\"ticks\":\"\"},\"colorscale\":[[0.0,\"#0d0887\"],[0.1111111111111111,\"#46039f\"],[0.2222222222222222,\"#7201a8\"],[0.3333333333333333,\"#9c179e\"],[0.4444444444444444,\"#bd3786\"],[0.5555555555555556,\"#d8576b\"],[0.6666666666666666,\"#ed7953\"],[0.7777777777777778,\"#fb9f3a\"],[0.8888888888888888,\"#fdca26\"],[1.0,\"#f0f921\"]],\"type\":\"histogram2dcontour\"}],\"histogram2d\":[{\"colorbar\":{\"outlinewidth\":0,\"ticks\":\"\"},\"colorscale\":[[0.0,\"#0d0887\"],[0.1111111111111111,\"#46039f\"],[0.2222222222222222,\"#7201a8\"],[0.3333333333333333,\"#9c179e\"],[0.4444444444444444,\"#bd3786\"],[0.5555555555555556,\"#d8576b\"],[0.6666666666666666,\"#ed7953\"],[0.7777777777777778,\"#fb9f3a\"],[0.8888888888888888,\"#fdca26\"],[1.0,\"#f0f921\"]],\"type\":\"histogram2d\"}],\"histogram\":[{\"marker\":{\"pattern\":{\"fillmode\":\"overlay\",\"size\":10,\"solidity\":0.2}},\"type\":\"histogram\"}],\"mesh3d\":[{\"colorbar\":{\"outlinewidth\":0,\"ticks\":\"\"},\"type\":\"mesh3d\"}],\"parcoords\":[{\"line\":{\"colorbar\":{\"outlinewidth\":0,\"ticks\":\"\"}},\"type\":\"parcoords\"}],\"pie\":[{\"automargin\":true,\"type\":\"pie\"}],\"scatter3d\":[{\"line\":{\"colorbar\":{\"outlinewidth\":0,\"ticks\":\"\"}},\"marker\":{\"colorbar\":{\"outlinewidth\":0,\"ticks\":\"\"}},\"type\":\"scatter3d\"}],\"scattercarpet\":[{\"marker\":{\"colorbar\":{\"outlinewidth\":0,\"ticks\":\"\"}},\"type\":\"scattercarpet\"}],\"scattergeo\":[{\"marker\":{\"colorbar\":{\"outlinewidth\":0,\"ticks\":\"\"}},\"type\":\"scattergeo\"}],\"scattergl\":[{\"marker\":{\"line\":{\"color\":\"#283442\"}},\"type\":\"scattergl\"}],\"scattermapbox\":[{\"marker\":{\"colorbar\":{\"outlinewidth\":0,\"ticks\":\"\"}},\"type\":\"scattermapbox\"}],\"scatterpolargl\":[{\"marker\":{\"colorbar\":{\"outlinewidth\":0,\"ticks\":\"\"}},\"type\":\"scatterpolargl\"}],\"scatterpolar\":[{\"marker\":{\"colorbar\":{\"outlinewidth\":0,\"ticks\":\"\"}},\"type\":\"scatterpolar\"}],\"scatter\":[{\"marker\":{\"line\":{\"color\":\"#283442\"}},\"type\":\"scatter\"}],\"scatterternary\":[{\"marker\":{\"colorbar\":{\"outlinewidth\":0,\"ticks\":\"\"}},\"type\":\"scatterternary\"}],\"surface\":[{\"colorbar\":{\"outlinewidth\":0,\"ticks\":\"\"},\"colorscale\":[[0.0,\"#0d0887\"],[0.1111111111111111,\"#46039f\"],[0.2222222222222222,\"#7201a8\"],[0.3333333333333333,\"#9c179e\"],[0.4444444444444444,\"#bd3786\"],[0.5555555555555556,\"#d8576b\"],[0.6666666666666666,\"#ed7953\"],[0.7777777777777778,\"#fb9f3a\"],[0.8888888888888888,\"#fdca26\"],[1.0,\"#f0f921\"]],\"type\":\"surface\"}],\"table\":[{\"cells\":{\"fill\":{\"color\":\"#506784\"},\"line\":{\"color\":\"rgb(17,17,17)\"}},\"header\":{\"fill\":{\"color\":\"#2a3f5f\"},\"line\":{\"color\":\"rgb(17,17,17)\"}},\"type\":\"table\"}]},\"layout\":{\"annotationdefaults\":{\"arrowcolor\":\"#f2f5fa\",\"arrowhead\":0,\"arrowwidth\":1},\"autotypenumbers\":\"strict\",\"coloraxis\":{\"colorbar\":{\"outlinewidth\":0,\"ticks\":\"\"}},\"colorscale\":{\"diverging\":[[0,\"#8e0152\"],[0.1,\"#c51b7d\"],[0.2,\"#de77ae\"],[0.3,\"#f1b6da\"],[0.4,\"#fde0ef\"],[0.5,\"#f7f7f7\"],[0.6,\"#e6f5d0\"],[0.7,\"#b8e186\"],[0.8,\"#7fbc41\"],[0.9,\"#4d9221\"],[1,\"#276419\"]],\"sequential\":[[0.0,\"#0d0887\"],[0.1111111111111111,\"#46039f\"],[0.2222222222222222,\"#7201a8\"],[0.3333333333333333,\"#9c179e\"],[0.4444444444444444,\"#bd3786\"],[0.5555555555555556,\"#d8576b\"],[0.6666666666666666,\"#ed7953\"],[0.7777777777777778,\"#fb9f3a\"],[0.8888888888888888,\"#fdca26\"],[1.0,\"#f0f921\"]],\"sequentialminus\":[[0.0,\"#0d0887\"],[0.1111111111111111,\"#46039f\"],[0.2222222222222222,\"#7201a8\"],[0.3333333333333333,\"#9c179e\"],[0.4444444444444444,\"#bd3786\"],[0.5555555555555556,\"#d8576b\"],[0.6666666666666666,\"#ed7953\"],[0.7777777777777778,\"#fb9f3a\"],[0.8888888888888888,\"#fdca26\"],[1.0,\"#f0f921\"]]},\"colorway\":[\"#636efa\",\"#EF553B\",\"#00cc96\",\"#ab63fa\",\"#FFA15A\",\"#19d3f3\",\"#FF6692\",\"#B6E880\",\"#FF97FF\",\"#FECB52\"],\"font\":{\"color\":\"#f2f5fa\"},\"geo\":{\"bgcolor\":\"rgb(17,17,17)\",\"lakecolor\":\"rgb(17,17,17)\",\"landcolor\":\"rgb(17,17,17)\",\"showlakes\":true,\"showland\":true,\"subunitcolor\":\"#506784\"},\"hoverlabel\":{\"align\":\"left\"},\"hovermode\":\"closest\",\"mapbox\":{\"style\":\"dark\"},\"paper_bgcolor\":\"rgb(17,17,17)\",\"plot_bgcolor\":\"rgb(17,17,17)\",\"polar\":{\"angularaxis\":{\"gridcolor\":\"#506784\",\"linecolor\":\"#506784\",\"ticks\":\"\"},\"bgcolor\":\"rgb(17,17,17)\",\"radialaxis\":{\"gridcolor\":\"#506784\",\"linecolor\":\"#506784\",\"ticks\":\"\"}},\"scene\":{\"xaxis\":{\"backgroundcolor\":\"rgb(17,17,17)\",\"gridcolor\":\"#506784\",\"gridwidth\":2,\"linecolor\":\"#506784\",\"showbackground\":true,\"ticks\":\"\",\"zerolinecolor\":\"#C8D4E3\"},\"yaxis\":{\"backgroundcolor\":\"rgb(17,17,17)\",\"gridcolor\":\"#506784\",\"gridwidth\":2,\"linecolor\":\"#506784\",\"showbackground\":true,\"ticks\":\"\",\"zerolinecolor\":\"#C8D4E3\"},\"zaxis\":{\"backgroundcolor\":\"rgb(17,17,17)\",\"gridcolor\":\"#506784\",\"gridwidth\":2,\"linecolor\":\"#506784\",\"showbackground\":true,\"ticks\":\"\",\"zerolinecolor\":\"#C8D4E3\"}},\"shapedefaults\":{\"line\":{\"color\":\"#f2f5fa\"}},\"sliderdefaults\":{\"bgcolor\":\"#C8D4E3\",\"bordercolor\":\"rgb(17,17,17)\",\"borderwidth\":1,\"tickwidth\":0},\"ternary\":{\"aaxis\":{\"gridcolor\":\"#506784\",\"linecolor\":\"#506784\",\"ticks\":\"\"},\"baxis\":{\"gridcolor\":\"#506784\",\"linecolor\":\"#506784\",\"ticks\":\"\"},\"bgcolor\":\"rgb(17,17,17)\",\"caxis\":{\"gridcolor\":\"#506784\",\"linecolor\":\"#506784\",\"ticks\":\"\"}},\"title\":{\"x\":0.05},\"updatemenudefaults\":{\"bgcolor\":\"#506784\",\"borderwidth\":0},\"xaxis\":{\"automargin\":true,\"gridcolor\":\"#283442\",\"linecolor\":\"#506784\",\"ticks\":\"\",\"title\":{\"standoff\":15},\"zerolinecolor\":\"#283442\",\"zerolinewidth\":2},\"yaxis\":{\"automargin\":true,\"gridcolor\":\"#283442\",\"linecolor\":\"#506784\",\"ticks\":\"\",\"title\":{\"standoff\":15},\"zerolinecolor\":\"#283442\",\"zerolinewidth\":2}}},\"title\":{\"text\":\"\\u041a\\u0440\\u0438\\u0432\\u0430\\u044f \\u043e\\u0431\\u0443\\u0447\\u0435\\u043d\\u0438\\u044f\"},\"width\":1200,\"height\":600},                        {\"responsive\": true}                    ).then(function(){\n",
              "                            \n",
              "var gd = document.getElementById('189e6af1-8007-4c92-be38-73bdfb778f82');\n",
              "var x = new MutationObserver(function (mutations, observer) {{\n",
              "        var display = window.getComputedStyle(gd).display;\n",
              "        if (!display || display === 'none') {{\n",
              "            console.log([gd, 'removed!']);\n",
              "            Plotly.purge(gd);\n",
              "            observer.disconnect();\n",
              "        }}\n",
              "}});\n",
              "\n",
              "// Listen for the removal of the full notebook cells\n",
              "var notebookContainer = gd.closest('#notebook-container');\n",
              "if (notebookContainer) {{\n",
              "    x.observe(notebookContainer, {childList: true});\n",
              "}}\n",
              "\n",
              "// Listen for the clearing of the current output cell\n",
              "var outputEl = gd.closest('.output');\n",
              "if (outputEl) {{\n",
              "    x.observe(outputEl, {childList: true});\n",
              "}}\n",
              "\n",
              "                        })                };                            </script>        </div>\n",
              "</body>\n",
              "</html>"
            ]
          },
          "metadata": {}
        }
      ],
      "source": [
        "\n",
        "regr_harm_poly_scale = LinearRegression(learning_rate=0.05,\n",
        "                        epochs=300,batch_size=25,\n",
        "                        n_batches=None\n",
        "                        )\n",
        "\n",
        "regr_harm_poly_scale.fit(x_train_scaled, y_train)\n",
        "\n",
        "print(f'Коэффициент детерминации на тестовых данных = {regr_harm_poly_scale.score(x_test_scaled, y_test):.2f}, \\n Коэффициент детерминации на тренировочных данных = {regr_harm_poly_scale.score(x_train_scaled, y_train):.2f}')\n",
        "\n",
        "regr_harm_poly_scale.plot_cost()\n",
        "\n"
      ]
    },
    {
      "cell_type": "code",
      "source": [
        "w, b = regr_harm_poly_scale.get_w_and_b()\n",
        "print(w,b)"
      ],
      "metadata": {
        "colab": {
          "base_uri": "https://localhost:8080/"
        },
        "id": "PZDmRw1E1S89",
        "outputId": "224d1780-4c52-40fb-ba79-de15a07725aa"
      },
      "execution_count": null,
      "outputs": [
        {
          "output_type": "stream",
          "name": "stdout",
          "text": [
            "[ 1.73051734 -0.26424088 -0.76261794 -0.58089313 -0.93862771 -0.63683296\n",
            "  0.2562212   0.30131014  0.18156999  0.74026176] -0.06024795911914328\n"
          ]
        }
      ]
    },
    {
      "cell_type": "code",
      "source": [
        "vis_weigths(np.hstack([b,w]))"
      ],
      "metadata": {
        "colab": {
          "base_uri": "https://localhost:8080/",
          "height": 617
        },
        "id": "gbTPWSgxQJEW",
        "outputId": "d7a903e1-a06d-4123-dea9-928f19d061a0"
      },
      "execution_count": null,
      "outputs": [
        {
          "output_type": "display_data",
          "data": {
            "text/html": [
              "<html>\n",
              "<head><meta charset=\"utf-8\" /></head>\n",
              "<body>\n",
              "    <div>            <script src=\"https://cdnjs.cloudflare.com/ajax/libs/mathjax/2.7.5/MathJax.js?config=TeX-AMS-MML_SVG\"></script><script type=\"text/javascript\">if (window.MathJax && window.MathJax.Hub && window.MathJax.Hub.Config) {window.MathJax.Hub.Config({SVG: {font: \"STIX-Web\"}});}</script>                <script type=\"text/javascript\">window.PlotlyConfig = {MathJaxConfig: 'local'};</script>\n",
              "        <script charset=\"utf-8\" src=\"https://cdn.plot.ly/plotly-2.24.1.min.js\"></script>                <div id=\"7f5a4f4f-fa85-4ea3-baba-22deaef081e3\" class=\"plotly-graph-div\" style=\"height:600px; width:1200px;\"></div>            <script type=\"text/javascript\">                                    window.PLOTLYENV=window.PLOTLYENV || {};                                    if (document.getElementById(\"7f5a4f4f-fa85-4ea3-baba-22deaef081e3\")) {                    Plotly.newPlot(                        \"7f5a4f4f-fa85-4ea3-baba-22deaef081e3\",                        [{\"marker\":{\"color\":\"red\"},\"name\":\"\\u043e\\u0442\\u0440\\u0438\\u0446\\u0430\\u0442\\u0435\\u043b\\u044c\\u043d\\u044b\\u0435 \\u0432\\u0435\\u0441\\u0430\",\"x\":[0,2,3,4,5,6],\"y\":[-0.06024795911914328,-0.264240880628922,-0.762617937641733,-0.5808931288976753,-0.9386277054923865,-0.6368329644856262],\"type\":\"bar\"},{\"marker\":{\"color\":\"blue\"},\"name\":\"\\u043f\\u043e\\u043b\\u043e\\u0436\\u0438\\u0442\\u0435\\u043b\\u044c\\u043d\\u044b\\u0435 \\u0432\\u0435\\u0441\\u0430\",\"x\":[1,7,8,9,10],\"y\":[1.7305173420173572,0.2562212015741061,0.30131014329471606,0.1815699936985594,0.7402617553349174],\"type\":\"bar\"}],                        {\"template\":{\"data\":{\"barpolar\":[{\"marker\":{\"line\":{\"color\":\"rgb(17,17,17)\",\"width\":0.5},\"pattern\":{\"fillmode\":\"overlay\",\"size\":10,\"solidity\":0.2}},\"type\":\"barpolar\"}],\"bar\":[{\"error_x\":{\"color\":\"#f2f5fa\"},\"error_y\":{\"color\":\"#f2f5fa\"},\"marker\":{\"line\":{\"color\":\"rgb(17,17,17)\",\"width\":0.5},\"pattern\":{\"fillmode\":\"overlay\",\"size\":10,\"solidity\":0.2}},\"type\":\"bar\"}],\"carpet\":[{\"aaxis\":{\"endlinecolor\":\"#A2B1C6\",\"gridcolor\":\"#506784\",\"linecolor\":\"#506784\",\"minorgridcolor\":\"#506784\",\"startlinecolor\":\"#A2B1C6\"},\"baxis\":{\"endlinecolor\":\"#A2B1C6\",\"gridcolor\":\"#506784\",\"linecolor\":\"#506784\",\"minorgridcolor\":\"#506784\",\"startlinecolor\":\"#A2B1C6\"},\"type\":\"carpet\"}],\"choropleth\":[{\"colorbar\":{\"outlinewidth\":0,\"ticks\":\"\"},\"type\":\"choropleth\"}],\"contourcarpet\":[{\"colorbar\":{\"outlinewidth\":0,\"ticks\":\"\"},\"type\":\"contourcarpet\"}],\"contour\":[{\"colorbar\":{\"outlinewidth\":0,\"ticks\":\"\"},\"colorscale\":[[0.0,\"#0d0887\"],[0.1111111111111111,\"#46039f\"],[0.2222222222222222,\"#7201a8\"],[0.3333333333333333,\"#9c179e\"],[0.4444444444444444,\"#bd3786\"],[0.5555555555555556,\"#d8576b\"],[0.6666666666666666,\"#ed7953\"],[0.7777777777777778,\"#fb9f3a\"],[0.8888888888888888,\"#fdca26\"],[1.0,\"#f0f921\"]],\"type\":\"contour\"}],\"heatmapgl\":[{\"colorbar\":{\"outlinewidth\":0,\"ticks\":\"\"},\"colorscale\":[[0.0,\"#0d0887\"],[0.1111111111111111,\"#46039f\"],[0.2222222222222222,\"#7201a8\"],[0.3333333333333333,\"#9c179e\"],[0.4444444444444444,\"#bd3786\"],[0.5555555555555556,\"#d8576b\"],[0.6666666666666666,\"#ed7953\"],[0.7777777777777778,\"#fb9f3a\"],[0.8888888888888888,\"#fdca26\"],[1.0,\"#f0f921\"]],\"type\":\"heatmapgl\"}],\"heatmap\":[{\"colorbar\":{\"outlinewidth\":0,\"ticks\":\"\"},\"colorscale\":[[0.0,\"#0d0887\"],[0.1111111111111111,\"#46039f\"],[0.2222222222222222,\"#7201a8\"],[0.3333333333333333,\"#9c179e\"],[0.4444444444444444,\"#bd3786\"],[0.5555555555555556,\"#d8576b\"],[0.6666666666666666,\"#ed7953\"],[0.7777777777777778,\"#fb9f3a\"],[0.8888888888888888,\"#fdca26\"],[1.0,\"#f0f921\"]],\"type\":\"heatmap\"}],\"histogram2dcontour\":[{\"colorbar\":{\"outlinewidth\":0,\"ticks\":\"\"},\"colorscale\":[[0.0,\"#0d0887\"],[0.1111111111111111,\"#46039f\"],[0.2222222222222222,\"#7201a8\"],[0.3333333333333333,\"#9c179e\"],[0.4444444444444444,\"#bd3786\"],[0.5555555555555556,\"#d8576b\"],[0.6666666666666666,\"#ed7953\"],[0.7777777777777778,\"#fb9f3a\"],[0.8888888888888888,\"#fdca26\"],[1.0,\"#f0f921\"]],\"type\":\"histogram2dcontour\"}],\"histogram2d\":[{\"colorbar\":{\"outlinewidth\":0,\"ticks\":\"\"},\"colorscale\":[[0.0,\"#0d0887\"],[0.1111111111111111,\"#46039f\"],[0.2222222222222222,\"#7201a8\"],[0.3333333333333333,\"#9c179e\"],[0.4444444444444444,\"#bd3786\"],[0.5555555555555556,\"#d8576b\"],[0.6666666666666666,\"#ed7953\"],[0.7777777777777778,\"#fb9f3a\"],[0.8888888888888888,\"#fdca26\"],[1.0,\"#f0f921\"]],\"type\":\"histogram2d\"}],\"histogram\":[{\"marker\":{\"pattern\":{\"fillmode\":\"overlay\",\"size\":10,\"solidity\":0.2}},\"type\":\"histogram\"}],\"mesh3d\":[{\"colorbar\":{\"outlinewidth\":0,\"ticks\":\"\"},\"type\":\"mesh3d\"}],\"parcoords\":[{\"line\":{\"colorbar\":{\"outlinewidth\":0,\"ticks\":\"\"}},\"type\":\"parcoords\"}],\"pie\":[{\"automargin\":true,\"type\":\"pie\"}],\"scatter3d\":[{\"line\":{\"colorbar\":{\"outlinewidth\":0,\"ticks\":\"\"}},\"marker\":{\"colorbar\":{\"outlinewidth\":0,\"ticks\":\"\"}},\"type\":\"scatter3d\"}],\"scattercarpet\":[{\"marker\":{\"colorbar\":{\"outlinewidth\":0,\"ticks\":\"\"}},\"type\":\"scattercarpet\"}],\"scattergeo\":[{\"marker\":{\"colorbar\":{\"outlinewidth\":0,\"ticks\":\"\"}},\"type\":\"scattergeo\"}],\"scattergl\":[{\"marker\":{\"line\":{\"color\":\"#283442\"}},\"type\":\"scattergl\"}],\"scattermapbox\":[{\"marker\":{\"colorbar\":{\"outlinewidth\":0,\"ticks\":\"\"}},\"type\":\"scattermapbox\"}],\"scatterpolargl\":[{\"marker\":{\"colorbar\":{\"outlinewidth\":0,\"ticks\":\"\"}},\"type\":\"scatterpolargl\"}],\"scatterpolar\":[{\"marker\":{\"colorbar\":{\"outlinewidth\":0,\"ticks\":\"\"}},\"type\":\"scatterpolar\"}],\"scatter\":[{\"marker\":{\"line\":{\"color\":\"#283442\"}},\"type\":\"scatter\"}],\"scatterternary\":[{\"marker\":{\"colorbar\":{\"outlinewidth\":0,\"ticks\":\"\"}},\"type\":\"scatterternary\"}],\"surface\":[{\"colorbar\":{\"outlinewidth\":0,\"ticks\":\"\"},\"colorscale\":[[0.0,\"#0d0887\"],[0.1111111111111111,\"#46039f\"],[0.2222222222222222,\"#7201a8\"],[0.3333333333333333,\"#9c179e\"],[0.4444444444444444,\"#bd3786\"],[0.5555555555555556,\"#d8576b\"],[0.6666666666666666,\"#ed7953\"],[0.7777777777777778,\"#fb9f3a\"],[0.8888888888888888,\"#fdca26\"],[1.0,\"#f0f921\"]],\"type\":\"surface\"}],\"table\":[{\"cells\":{\"fill\":{\"color\":\"#506784\"},\"line\":{\"color\":\"rgb(17,17,17)\"}},\"header\":{\"fill\":{\"color\":\"#2a3f5f\"},\"line\":{\"color\":\"rgb(17,17,17)\"}},\"type\":\"table\"}]},\"layout\":{\"annotationdefaults\":{\"arrowcolor\":\"#f2f5fa\",\"arrowhead\":0,\"arrowwidth\":1},\"autotypenumbers\":\"strict\",\"coloraxis\":{\"colorbar\":{\"outlinewidth\":0,\"ticks\":\"\"}},\"colorscale\":{\"diverging\":[[0,\"#8e0152\"],[0.1,\"#c51b7d\"],[0.2,\"#de77ae\"],[0.3,\"#f1b6da\"],[0.4,\"#fde0ef\"],[0.5,\"#f7f7f7\"],[0.6,\"#e6f5d0\"],[0.7,\"#b8e186\"],[0.8,\"#7fbc41\"],[0.9,\"#4d9221\"],[1,\"#276419\"]],\"sequential\":[[0.0,\"#0d0887\"],[0.1111111111111111,\"#46039f\"],[0.2222222222222222,\"#7201a8\"],[0.3333333333333333,\"#9c179e\"],[0.4444444444444444,\"#bd3786\"],[0.5555555555555556,\"#d8576b\"],[0.6666666666666666,\"#ed7953\"],[0.7777777777777778,\"#fb9f3a\"],[0.8888888888888888,\"#fdca26\"],[1.0,\"#f0f921\"]],\"sequentialminus\":[[0.0,\"#0d0887\"],[0.1111111111111111,\"#46039f\"],[0.2222222222222222,\"#7201a8\"],[0.3333333333333333,\"#9c179e\"],[0.4444444444444444,\"#bd3786\"],[0.5555555555555556,\"#d8576b\"],[0.6666666666666666,\"#ed7953\"],[0.7777777777777778,\"#fb9f3a\"],[0.8888888888888888,\"#fdca26\"],[1.0,\"#f0f921\"]]},\"colorway\":[\"#636efa\",\"#EF553B\",\"#00cc96\",\"#ab63fa\",\"#FFA15A\",\"#19d3f3\",\"#FF6692\",\"#B6E880\",\"#FF97FF\",\"#FECB52\"],\"font\":{\"color\":\"#f2f5fa\"},\"geo\":{\"bgcolor\":\"rgb(17,17,17)\",\"lakecolor\":\"rgb(17,17,17)\",\"landcolor\":\"rgb(17,17,17)\",\"showlakes\":true,\"showland\":true,\"subunitcolor\":\"#506784\"},\"hoverlabel\":{\"align\":\"left\"},\"hovermode\":\"closest\",\"mapbox\":{\"style\":\"dark\"},\"paper_bgcolor\":\"rgb(17,17,17)\",\"plot_bgcolor\":\"rgb(17,17,17)\",\"polar\":{\"angularaxis\":{\"gridcolor\":\"#506784\",\"linecolor\":\"#506784\",\"ticks\":\"\"},\"bgcolor\":\"rgb(17,17,17)\",\"radialaxis\":{\"gridcolor\":\"#506784\",\"linecolor\":\"#506784\",\"ticks\":\"\"}},\"scene\":{\"xaxis\":{\"backgroundcolor\":\"rgb(17,17,17)\",\"gridcolor\":\"#506784\",\"gridwidth\":2,\"linecolor\":\"#506784\",\"showbackground\":true,\"ticks\":\"\",\"zerolinecolor\":\"#C8D4E3\"},\"yaxis\":{\"backgroundcolor\":\"rgb(17,17,17)\",\"gridcolor\":\"#506784\",\"gridwidth\":2,\"linecolor\":\"#506784\",\"showbackground\":true,\"ticks\":\"\",\"zerolinecolor\":\"#C8D4E3\"},\"zaxis\":{\"backgroundcolor\":\"rgb(17,17,17)\",\"gridcolor\":\"#506784\",\"gridwidth\":2,\"linecolor\":\"#506784\",\"showbackground\":true,\"ticks\":\"\",\"zerolinecolor\":\"#C8D4E3\"}},\"shapedefaults\":{\"line\":{\"color\":\"#f2f5fa\"}},\"sliderdefaults\":{\"bgcolor\":\"#C8D4E3\",\"bordercolor\":\"rgb(17,17,17)\",\"borderwidth\":1,\"tickwidth\":0},\"ternary\":{\"aaxis\":{\"gridcolor\":\"#506784\",\"linecolor\":\"#506784\",\"ticks\":\"\"},\"baxis\":{\"gridcolor\":\"#506784\",\"linecolor\":\"#506784\",\"ticks\":\"\"},\"bgcolor\":\"rgb(17,17,17)\",\"caxis\":{\"gridcolor\":\"#506784\",\"linecolor\":\"#506784\",\"ticks\":\"\"}},\"title\":{\"x\":0.05},\"updatemenudefaults\":{\"bgcolor\":\"#506784\",\"borderwidth\":0},\"xaxis\":{\"automargin\":true,\"gridcolor\":\"#283442\",\"linecolor\":\"#506784\",\"ticks\":\"\",\"title\":{\"standoff\":15},\"zerolinecolor\":\"#283442\",\"zerolinewidth\":2},\"yaxis\":{\"automargin\":true,\"gridcolor\":\"#283442\",\"linecolor\":\"#506784\",\"ticks\":\"\",\"title\":{\"standoff\":15},\"zerolinecolor\":\"#283442\",\"zerolinewidth\":2}}},\"xaxis\":{\"tickmode\":\"array\",\"tickvals\":[0,1,2,3,4,5,6,7,8,9,10],\"ticktext\":[\"w0\",\"w1\",\"w2\",\"w3\",\"w4\",\"w5\",\"w6\",\"w7\",\"w8\",\"w9\",\"w10\"]},\"title\":{\"text\":\"\\u0412\\u0435\\u0441\\u0430 \\u043c\\u043e\\u0434\\u0435\\u043b\\u0438\"},\"width\":1200,\"height\":600},                        {\"responsive\": true}                    ).then(function(){\n",
              "                            \n",
              "var gd = document.getElementById('7f5a4f4f-fa85-4ea3-baba-22deaef081e3');\n",
              "var x = new MutationObserver(function (mutations, observer) {{\n",
              "        var display = window.getComputedStyle(gd).display;\n",
              "        if (!display || display === 'none') {{\n",
              "            console.log([gd, 'removed!']);\n",
              "            Plotly.purge(gd);\n",
              "            observer.disconnect();\n",
              "        }}\n",
              "}});\n",
              "\n",
              "// Listen for the removal of the full notebook cells\n",
              "var notebookContainer = gd.closest('#notebook-container');\n",
              "if (notebookContainer) {{\n",
              "    x.observe(notebookContainer, {childList: true});\n",
              "}}\n",
              "\n",
              "// Listen for the clearing of the current output cell\n",
              "var outputEl = gd.closest('.output');\n",
              "if (outputEl) {{\n",
              "    x.observe(outputEl, {childList: true});\n",
              "}}\n",
              "\n",
              "                        })                };                            </script>        </div>\n",
              "</body>\n",
              "</html>"
            ]
          },
          "metadata": {}
        }
      ]
    },
    {
      "cell_type": "code",
      "source": [
        "np.sum(np.abs(w))"
      ],
      "metadata": {
        "colab": {
          "base_uri": "https://localhost:8080/"
        },
        "id": "fy7xEJNEbAM2",
        "outputId": "b80bc4c5-f91b-4ca0-8b5d-6c9dc45dd681"
      },
      "execution_count": null,
      "outputs": [
        {
          "output_type": "execute_result",
          "data": {
            "text/plain": [
              "6.393093053065999"
            ]
          },
          "metadata": {},
          "execution_count": 80
        }
      ]
    },
    {
      "cell_type": "markdown",
      "metadata": {
        "id": "I1qSC8MJbNae"
      },
      "source": [
        "Посмотрим на результат."
      ]
    },
    {
      "cell_type": "code",
      "execution_count": null,
      "metadata": {
        "id": "s7IDq2ZubNae",
        "colab": {
          "base_uri": "https://localhost:8080/",
          "height": 617
        },
        "outputId": "e4df7a7f-b8e9-4231-f5f1-7a1bea2de224"
      },
      "outputs": [
        {
          "output_type": "display_data",
          "data": {
            "text/html": [
              "<html>\n",
              "<head><meta charset=\"utf-8\" /></head>\n",
              "<body>\n",
              "    <div>            <script src=\"https://cdnjs.cloudflare.com/ajax/libs/mathjax/2.7.5/MathJax.js?config=TeX-AMS-MML_SVG\"></script><script type=\"text/javascript\">if (window.MathJax && window.MathJax.Hub && window.MathJax.Hub.Config) {window.MathJax.Hub.Config({SVG: {font: \"STIX-Web\"}});}</script>                <script type=\"text/javascript\">window.PlotlyConfig = {MathJaxConfig: 'local'};</script>\n",
              "        <script charset=\"utf-8\" src=\"https://cdn.plot.ly/plotly-2.24.1.min.js\"></script>                <div id=\"63bbaab0-2b4c-4665-941e-4b3c63f6f2cd\" class=\"plotly-graph-div\" style=\"height:600px; width:1200px;\"></div>            <script type=\"text/javascript\">                                    window.PLOTLYENV=window.PLOTLYENV || {};                                    if (document.getElementById(\"63bbaab0-2b4c-4665-941e-4b3c63f6f2cd\")) {                    Plotly.newPlot(                        \"63bbaab0-2b4c-4665-941e-4b3c63f6f2cd\",                        [{\"marker\":{\"color\":\"Blue\",\"size\":5},\"mode\":\"markers\",\"name\":\"\\u041f\\u0440\\u0435\\u0434\\u0441\\u043a\\u0430\\u0437\\u0430\\u043d\\u0438\\u0435 \\u043d\\u0430 x_test\",\"x\":[0.04864275845245291,0.8717318949578305,0.6362194811532859,0.39221749528184063,0.7665422633556482,0.17857244474527742,0.3836532251490256,0.3059331605412711,1.0156872220654944,0.31899079313911943,0.14607762928177764,0.8465517233413815,0.20909789571439721,0.5385050446476917,0.7165271498113673],\"y\":[-1.0431866700625494,-0.6387926814274137,0.6962373832774864,0.5731731680086538,0.08786614099735138,-0.33996593290477717,0.5463972354223319,0.25858873138149185,-0.7952011805073855,0.3119947779491927,-0.5095100983013949,-0.4663625023405034,-0.185872522691942,0.8213796481616387,0.3788020265283333],\"type\":\"scatter\"},{\"marker\":{\"color\":\"LightSkyBlue\",\"size\":10},\"mode\":\"markers\",\"name\":\"\\u041f\\u0440\\u0435\\u0434\\u0441\\u043a\\u0430\\u0437\\u0430\\u043d\\u0438\\u0435 \\u043d\\u0430 x_train\",\"x\":[0.1935791331541123,0.7414918695374813,0.5495236501799443,0.9522380983100062,0.3049744424524801,1.0112075003926706,0.47759537064635094,0.46092661359718623,0.620375085805519,0.3186017317977882,0.19206075359692815,0.06812186887562248,0.6937917137886659,0.16335707969615926,0.060825016427191375,0.12779814068180767,0.8222343440291981,0.9936706109775585,0.995585693560036,0.2223609967255541,0.16338233821234197,0.2709937630302383,0.45233176577359235,0.6294861682850023,0.5725136657422902,0.021556032019184653,0.9070575387604193,0.5185480476776199,0.6269136986542038,0.1022819986076801,0.5446139582330638,0.19040666040567744,0.6407308530458254,0.03601157510112919,0.3264230755616875],\"y\":[-0.26352973454128326,0.24148296402973402,0.8206290055396779,-1.0062499803157248,0.25459658134637586,-0.8345986611080916,0.7718371465018337,0.74382419266008,0.7354917312324252,0.31043010471210497,-0.27120542511841284,-0.9340805163626063,0.48853071955092836,-0.41870426390585647,-0.9748350169832668,-0.6070292114539608,-0.2936382460312003,-0.9476089029108601,-0.9382417243654242,-0.12071157272065447,-0.41857257532226494,0.10728978527215183,0.7271820564714763,0.7138556918271124,0.8086163317573205,-1.196415189240005,-0.8492705507290977,0.8148595233845638,0.7202205817078848,-0.7453824493322934,0.8213548827834312,-0.2795823899847886,0.6836541708301538,-1.1144386083117328,0.34156097996025225],\"type\":\"scatter\"},{\"marker\":{\"color\":\"Red\",\"size\":5},\"mode\":\"markers\",\"name\":\"\\u0422\\u0440\\u0435\\u043d\\u0438\\u0440\\u043e\\u0432\\u043e\\u0447\\u043d\\u044b\\u0435 \\u0434\\u0430\\u043d\\u043d\\u044b\\u0435\",\"x\":[0.1935791331541123,0.7414918695374813,0.5495236501799443,0.9522380983100062,0.3049744424524801,1.0112075003926706,0.47759537064635094,0.46092661359718623,0.620375085805519,0.3186017317977882,0.19206075359692815,0.06812186887562248,0.6937917137886659,0.16335707969615926,0.060825016427191375,0.12779814068180767,0.8222343440291981,0.9936706109775585,0.995585693560036,0.2223609967255541,0.16338233821234197,0.2709937630302383,0.45233176577359235,0.6294861682850023,0.5725136657422902,0.021556032019184653,0.9070575387604193,0.5185480476776199,0.6269136986542038,0.1022819986076801,0.5446139582330638,0.19040666040567744,0.6407308530458254,0.03601157510112919,0.3264230755616875],\"y\":[-0.2859564595462624,-0.1453241894066141,0.9881167017483331,-1.0054835593161149,0.30766558901833774,-1.0504976409579565,0.9829069002541185,1.1056386336255508,0.7237707054079208,0.5153680456168184,-0.4237473950348616,-1.0576406053102159,0.3159704144520749,-0.4835375519098044,-0.957966113287652,-0.7406302067305153,-0.4027283437201781,-0.9076691167366973,-0.9667402734682089,-0.07966140075010146,-0.694067627940149,0.04760375926911199,1.0367342487283842,0.42492249897236334,1.0517934539878466,-0.9169952841417408,-0.9151271740983736,1.0935700908838861,0.8550178965734798,-0.8724907503746768,0.8964555976619756,-0.4042558886414683,0.6425837258651887,-0.9573737312130097,0.4433732359063325],\"type\":\"scatter\"},{\"marker\":{\"color\":\"green\",\"size\":10},\"mode\":\"lines+markers\",\"name\":\"\\u0418\\u0441\\u0442\\u0438\\u043d\\u043d\\u044b\\u0435 \\u0437\\u043d\\u0430\\u0447\\u0435\\u043d\\u0438\\u044f\",\"opacity\":0.7,\"x\":[0.021556032019184653,0.03601157510112919,0.04864275845245291,0.060825016427191375,0.06812186887562248,0.1022819986076801,0.12779814068180767,0.14607762928177764,0.16335707969615926,0.16338233821234197,0.17857244474527742,0.19040666040567744,0.19206075359692815,0.1935791331541123,0.20909789571439721,0.2223609967255541,0.2709937630302383,0.3049744424524801,0.3059331605412711,0.3186017317977882,0.31899079313911943,0.3264230755616875,0.3836532251490256,0.39221749528184063,0.45233176577359235,0.46092661359718623,0.47759537064635094,0.5185480476776199,0.5385050446476917,0.5446139582330638,0.5495236501799443,0.5725136657422902,0.620375085805519,0.6269136986542038,0.6294861682850023,0.6362194811532859,0.6407308530458254,0.6937917137886659,0.7165271498113673,0.7414918695374813,0.7665422633556482,0.8222343440291981,0.8465517233413815,0.8717318949578305,0.9070575387604193,0.9522380983100062,0.9936706109775585,0.995585693560036,1.0112075003926706,1.0156872220654944],\"y\":[-0.9908419421412819,-0.9745105593320068,-0.953657137715219,-0.9278557437287231,-0.9097884062734731,-0.800506329535206,-0.6945663296345366,-0.6075429493019043,-0.5178993808666505,-0.5177636124038756,-0.43387798659494153,-0.3657476605998366,-0.3560551950042657,-0.3471240884303492,-0.2541758778940944,-0.17278941266172132,0.13152551159137585,0.3385868266034592,0.3442486577060824,0.41781353290458245,0.42003323117514924,0.4619391335727142,0.7444882355469523,0.7793193543026911,0.9554816664889644,0.9700146307684685,0.9901079124121519,0.9932168010946837,0.970876362435546,0.960967573122488,0.9519771411974917,0.8979897973412496,0.727353309318916,0.6985535309920792,0.6868970093813378,0.6555449883551803,0.6338790190413717,0.34587114949866166,0.20876906504156134,0.053432702053475195,-0.1037510643140196,-0.4384396008713527,-0.5701203765525372,-0.6924389229841701,-0.8342778138090549,-0.9553078549576611,-0.9992093285069047,-0.9996153844341773,-0.9975216205812526,-0.9951463305468402],\"type\":\"scatter\"},{\"marker\":{\"color\":\"Purple\",\"size\":5},\"mode\":\"markers\",\"name\":\"\\u041d\\u043e\\u0432\\u044b\\u0435 \\u0434\\u0430\\u043d\\u043d\\u044b\\u0435\",\"x\":[1.05,1.07,1.08,1.09,1.1],\"y\":[-0.3210106490500815,0.12566816376792733,0.40609867774997443,0.7293124573370662,1.099155667647027],\"type\":\"scatter\"}],                        {\"template\":{\"data\":{\"barpolar\":[{\"marker\":{\"line\":{\"color\":\"rgb(17,17,17)\",\"width\":0.5},\"pattern\":{\"fillmode\":\"overlay\",\"size\":10,\"solidity\":0.2}},\"type\":\"barpolar\"}],\"bar\":[{\"error_x\":{\"color\":\"#f2f5fa\"},\"error_y\":{\"color\":\"#f2f5fa\"},\"marker\":{\"line\":{\"color\":\"rgb(17,17,17)\",\"width\":0.5},\"pattern\":{\"fillmode\":\"overlay\",\"size\":10,\"solidity\":0.2}},\"type\":\"bar\"}],\"carpet\":[{\"aaxis\":{\"endlinecolor\":\"#A2B1C6\",\"gridcolor\":\"#506784\",\"linecolor\":\"#506784\",\"minorgridcolor\":\"#506784\",\"startlinecolor\":\"#A2B1C6\"},\"baxis\":{\"endlinecolor\":\"#A2B1C6\",\"gridcolor\":\"#506784\",\"linecolor\":\"#506784\",\"minorgridcolor\":\"#506784\",\"startlinecolor\":\"#A2B1C6\"},\"type\":\"carpet\"}],\"choropleth\":[{\"colorbar\":{\"outlinewidth\":0,\"ticks\":\"\"},\"type\":\"choropleth\"}],\"contourcarpet\":[{\"colorbar\":{\"outlinewidth\":0,\"ticks\":\"\"},\"type\":\"contourcarpet\"}],\"contour\":[{\"colorbar\":{\"outlinewidth\":0,\"ticks\":\"\"},\"colorscale\":[[0.0,\"#0d0887\"],[0.1111111111111111,\"#46039f\"],[0.2222222222222222,\"#7201a8\"],[0.3333333333333333,\"#9c179e\"],[0.4444444444444444,\"#bd3786\"],[0.5555555555555556,\"#d8576b\"],[0.6666666666666666,\"#ed7953\"],[0.7777777777777778,\"#fb9f3a\"],[0.8888888888888888,\"#fdca26\"],[1.0,\"#f0f921\"]],\"type\":\"contour\"}],\"heatmapgl\":[{\"colorbar\":{\"outlinewidth\":0,\"ticks\":\"\"},\"colorscale\":[[0.0,\"#0d0887\"],[0.1111111111111111,\"#46039f\"],[0.2222222222222222,\"#7201a8\"],[0.3333333333333333,\"#9c179e\"],[0.4444444444444444,\"#bd3786\"],[0.5555555555555556,\"#d8576b\"],[0.6666666666666666,\"#ed7953\"],[0.7777777777777778,\"#fb9f3a\"],[0.8888888888888888,\"#fdca26\"],[1.0,\"#f0f921\"]],\"type\":\"heatmapgl\"}],\"heatmap\":[{\"colorbar\":{\"outlinewidth\":0,\"ticks\":\"\"},\"colorscale\":[[0.0,\"#0d0887\"],[0.1111111111111111,\"#46039f\"],[0.2222222222222222,\"#7201a8\"],[0.3333333333333333,\"#9c179e\"],[0.4444444444444444,\"#bd3786\"],[0.5555555555555556,\"#d8576b\"],[0.6666666666666666,\"#ed7953\"],[0.7777777777777778,\"#fb9f3a\"],[0.8888888888888888,\"#fdca26\"],[1.0,\"#f0f921\"]],\"type\":\"heatmap\"}],\"histogram2dcontour\":[{\"colorbar\":{\"outlinewidth\":0,\"ticks\":\"\"},\"colorscale\":[[0.0,\"#0d0887\"],[0.1111111111111111,\"#46039f\"],[0.2222222222222222,\"#7201a8\"],[0.3333333333333333,\"#9c179e\"],[0.4444444444444444,\"#bd3786\"],[0.5555555555555556,\"#d8576b\"],[0.6666666666666666,\"#ed7953\"],[0.7777777777777778,\"#fb9f3a\"],[0.8888888888888888,\"#fdca26\"],[1.0,\"#f0f921\"]],\"type\":\"histogram2dcontour\"}],\"histogram2d\":[{\"colorbar\":{\"outlinewidth\":0,\"ticks\":\"\"},\"colorscale\":[[0.0,\"#0d0887\"],[0.1111111111111111,\"#46039f\"],[0.2222222222222222,\"#7201a8\"],[0.3333333333333333,\"#9c179e\"],[0.4444444444444444,\"#bd3786\"],[0.5555555555555556,\"#d8576b\"],[0.6666666666666666,\"#ed7953\"],[0.7777777777777778,\"#fb9f3a\"],[0.8888888888888888,\"#fdca26\"],[1.0,\"#f0f921\"]],\"type\":\"histogram2d\"}],\"histogram\":[{\"marker\":{\"pattern\":{\"fillmode\":\"overlay\",\"size\":10,\"solidity\":0.2}},\"type\":\"histogram\"}],\"mesh3d\":[{\"colorbar\":{\"outlinewidth\":0,\"ticks\":\"\"},\"type\":\"mesh3d\"}],\"parcoords\":[{\"line\":{\"colorbar\":{\"outlinewidth\":0,\"ticks\":\"\"}},\"type\":\"parcoords\"}],\"pie\":[{\"automargin\":true,\"type\":\"pie\"}],\"scatter3d\":[{\"line\":{\"colorbar\":{\"outlinewidth\":0,\"ticks\":\"\"}},\"marker\":{\"colorbar\":{\"outlinewidth\":0,\"ticks\":\"\"}},\"type\":\"scatter3d\"}],\"scattercarpet\":[{\"marker\":{\"colorbar\":{\"outlinewidth\":0,\"ticks\":\"\"}},\"type\":\"scattercarpet\"}],\"scattergeo\":[{\"marker\":{\"colorbar\":{\"outlinewidth\":0,\"ticks\":\"\"}},\"type\":\"scattergeo\"}],\"scattergl\":[{\"marker\":{\"line\":{\"color\":\"#283442\"}},\"type\":\"scattergl\"}],\"scattermapbox\":[{\"marker\":{\"colorbar\":{\"outlinewidth\":0,\"ticks\":\"\"}},\"type\":\"scattermapbox\"}],\"scatterpolargl\":[{\"marker\":{\"colorbar\":{\"outlinewidth\":0,\"ticks\":\"\"}},\"type\":\"scatterpolargl\"}],\"scatterpolar\":[{\"marker\":{\"colorbar\":{\"outlinewidth\":0,\"ticks\":\"\"}},\"type\":\"scatterpolar\"}],\"scatter\":[{\"marker\":{\"line\":{\"color\":\"#283442\"}},\"type\":\"scatter\"}],\"scatterternary\":[{\"marker\":{\"colorbar\":{\"outlinewidth\":0,\"ticks\":\"\"}},\"type\":\"scatterternary\"}],\"surface\":[{\"colorbar\":{\"outlinewidth\":0,\"ticks\":\"\"},\"colorscale\":[[0.0,\"#0d0887\"],[0.1111111111111111,\"#46039f\"],[0.2222222222222222,\"#7201a8\"],[0.3333333333333333,\"#9c179e\"],[0.4444444444444444,\"#bd3786\"],[0.5555555555555556,\"#d8576b\"],[0.6666666666666666,\"#ed7953\"],[0.7777777777777778,\"#fb9f3a\"],[0.8888888888888888,\"#fdca26\"],[1.0,\"#f0f921\"]],\"type\":\"surface\"}],\"table\":[{\"cells\":{\"fill\":{\"color\":\"#506784\"},\"line\":{\"color\":\"rgb(17,17,17)\"}},\"header\":{\"fill\":{\"color\":\"#2a3f5f\"},\"line\":{\"color\":\"rgb(17,17,17)\"}},\"type\":\"table\"}]},\"layout\":{\"annotationdefaults\":{\"arrowcolor\":\"#f2f5fa\",\"arrowhead\":0,\"arrowwidth\":1},\"autotypenumbers\":\"strict\",\"coloraxis\":{\"colorbar\":{\"outlinewidth\":0,\"ticks\":\"\"}},\"colorscale\":{\"diverging\":[[0,\"#8e0152\"],[0.1,\"#c51b7d\"],[0.2,\"#de77ae\"],[0.3,\"#f1b6da\"],[0.4,\"#fde0ef\"],[0.5,\"#f7f7f7\"],[0.6,\"#e6f5d0\"],[0.7,\"#b8e186\"],[0.8,\"#7fbc41\"],[0.9,\"#4d9221\"],[1,\"#276419\"]],\"sequential\":[[0.0,\"#0d0887\"],[0.1111111111111111,\"#46039f\"],[0.2222222222222222,\"#7201a8\"],[0.3333333333333333,\"#9c179e\"],[0.4444444444444444,\"#bd3786\"],[0.5555555555555556,\"#d8576b\"],[0.6666666666666666,\"#ed7953\"],[0.7777777777777778,\"#fb9f3a\"],[0.8888888888888888,\"#fdca26\"],[1.0,\"#f0f921\"]],\"sequentialminus\":[[0.0,\"#0d0887\"],[0.1111111111111111,\"#46039f\"],[0.2222222222222222,\"#7201a8\"],[0.3333333333333333,\"#9c179e\"],[0.4444444444444444,\"#bd3786\"],[0.5555555555555556,\"#d8576b\"],[0.6666666666666666,\"#ed7953\"],[0.7777777777777778,\"#fb9f3a\"],[0.8888888888888888,\"#fdca26\"],[1.0,\"#f0f921\"]]},\"colorway\":[\"#636efa\",\"#EF553B\",\"#00cc96\",\"#ab63fa\",\"#FFA15A\",\"#19d3f3\",\"#FF6692\",\"#B6E880\",\"#FF97FF\",\"#FECB52\"],\"font\":{\"color\":\"#f2f5fa\"},\"geo\":{\"bgcolor\":\"rgb(17,17,17)\",\"lakecolor\":\"rgb(17,17,17)\",\"landcolor\":\"rgb(17,17,17)\",\"showlakes\":true,\"showland\":true,\"subunitcolor\":\"#506784\"},\"hoverlabel\":{\"align\":\"left\"},\"hovermode\":\"closest\",\"mapbox\":{\"style\":\"dark\"},\"paper_bgcolor\":\"rgb(17,17,17)\",\"plot_bgcolor\":\"rgb(17,17,17)\",\"polar\":{\"angularaxis\":{\"gridcolor\":\"#506784\",\"linecolor\":\"#506784\",\"ticks\":\"\"},\"bgcolor\":\"rgb(17,17,17)\",\"radialaxis\":{\"gridcolor\":\"#506784\",\"linecolor\":\"#506784\",\"ticks\":\"\"}},\"scene\":{\"xaxis\":{\"backgroundcolor\":\"rgb(17,17,17)\",\"gridcolor\":\"#506784\",\"gridwidth\":2,\"linecolor\":\"#506784\",\"showbackground\":true,\"ticks\":\"\",\"zerolinecolor\":\"#C8D4E3\"},\"yaxis\":{\"backgroundcolor\":\"rgb(17,17,17)\",\"gridcolor\":\"#506784\",\"gridwidth\":2,\"linecolor\":\"#506784\",\"showbackground\":true,\"ticks\":\"\",\"zerolinecolor\":\"#C8D4E3\"},\"zaxis\":{\"backgroundcolor\":\"rgb(17,17,17)\",\"gridcolor\":\"#506784\",\"gridwidth\":2,\"linecolor\":\"#506784\",\"showbackground\":true,\"ticks\":\"\",\"zerolinecolor\":\"#C8D4E3\"}},\"shapedefaults\":{\"line\":{\"color\":\"#f2f5fa\"}},\"sliderdefaults\":{\"bgcolor\":\"#C8D4E3\",\"bordercolor\":\"rgb(17,17,17)\",\"borderwidth\":1,\"tickwidth\":0},\"ternary\":{\"aaxis\":{\"gridcolor\":\"#506784\",\"linecolor\":\"#506784\",\"ticks\":\"\"},\"baxis\":{\"gridcolor\":\"#506784\",\"linecolor\":\"#506784\",\"ticks\":\"\"},\"bgcolor\":\"rgb(17,17,17)\",\"caxis\":{\"gridcolor\":\"#506784\",\"linecolor\":\"#506784\",\"ticks\":\"\"}},\"title\":{\"x\":0.05},\"updatemenudefaults\":{\"bgcolor\":\"#506784\",\"borderwidth\":0},\"xaxis\":{\"automargin\":true,\"gridcolor\":\"#283442\",\"linecolor\":\"#506784\",\"ticks\":\"\",\"title\":{\"standoff\":15},\"zerolinecolor\":\"#283442\",\"zerolinewidth\":2},\"yaxis\":{\"automargin\":true,\"gridcolor\":\"#283442\",\"linecolor\":\"#506784\",\"ticks\":\"\",\"title\":{\"standoff\":15},\"zerolinecolor\":\"#283442\",\"zerolinewidth\":2}}},\"title\":{\"text\":\"\\u041f\\u0440\\u0435\\u0434\\u0441\\u043a\\u0430\\u0437\\u0430\\u043d\\u0438\\u0435 \\u043c\\u043e\\u0434\\u0435\\u043b\\u0438\"},\"width\":1200,\"height\":600},                        {\"responsive\": true}                    ).then(function(){\n",
              "                            \n",
              "var gd = document.getElementById('63bbaab0-2b4c-4665-941e-4b3c63f6f2cd');\n",
              "var x = new MutationObserver(function (mutations, observer) {{\n",
              "        var display = window.getComputedStyle(gd).display;\n",
              "        if (!display || display === 'none') {{\n",
              "            console.log([gd, 'removed!']);\n",
              "            Plotly.purge(gd);\n",
              "            observer.disconnect();\n",
              "        }}\n",
              "}});\n",
              "\n",
              "// Listen for the removal of the full notebook cells\n",
              "var notebookContainer = gd.closest('#notebook-container');\n",
              "if (notebookContainer) {{\n",
              "    x.observe(notebookContainer, {childList: true});\n",
              "}}\n",
              "\n",
              "// Listen for the clearing of the current output cell\n",
              "var outputEl = gd.closest('.output');\n",
              "if (outputEl) {{\n",
              "    x.observe(outputEl, {childList: true});\n",
              "}}\n",
              "\n",
              "                        })                };                            </script>        </div>\n",
              "</body>\n",
              "</html>"
            ]
          },
          "metadata": {}
        }
      ],
      "source": [
        "fig = go.Figure()\n",
        "    # рисуем с помощью библиотеки plotly\n",
        "fig.add_trace(\n",
        "    go.Scatter(\n",
        "    x=x_test[:,0],\n",
        "    y=regr_harm_poly_scale.predict(x_test_scaled),\n",
        "    mode='markers',\n",
        "    name='Предсказание на x_test',\n",
        "    marker=dict(size = 5,\n",
        "                color='Blue')\n",
        "    )\n",
        ")\n",
        "fig.add_trace(\n",
        "    go.Scatter(\n",
        "    x=x_train[:,0],\n",
        "    y=regr_harm_poly_scale.predict(x_train_scaled),\n",
        "    mode='markers',\n",
        "    name='Предсказание на x_train',\n",
        "    marker=dict(size = 10,\n",
        "                color='LightSkyBlue',\n",
        "                ),\n",
        "\n",
        "    )\n",
        ")\n",
        "\n",
        "fig.add_trace(\n",
        "    go.Scatter(\n",
        "    x=x_train[:,0],\n",
        "    y=y_train,\n",
        "    mode='markers',\n",
        "    name='Тренировочные данные',\n",
        "    marker=dict(size = 5,\n",
        "                color='Red')\n",
        "    )\n",
        ")\n",
        "\n",
        "fig.add_trace(\n",
        "    go.Scatter(\n",
        "    x=x[:,0],\n",
        "    y=y_true[:,0],\n",
        "    mode='lines+markers',\n",
        "    name='Истинные значения',\n",
        "    opacity = 0.7,\n",
        "    marker=dict(size = 10,\n",
        "                color='green',),\n",
        "\n",
        "    )\n",
        ")\n",
        "\n",
        "# возьмем дополнительную точку \"вне\" тренировочного диапазона\n",
        "x_new = np.array([1.05, 1.07, 1.08, 1.09, 1.1])\n",
        "fig.add_trace(\n",
        "    go.Scatter(\n",
        "    x=x_new,\n",
        "    y=regr_harm_poly_scale.predict(scaler.transform(to_polynom(x_new, order=order))),\n",
        "    mode='markers',\n",
        "    name='Новые данные',\n",
        "    marker=dict(size = 5,\n",
        "                color='Purple')\n",
        "    )\n",
        ")\n",
        "\n",
        "fig.update_layout(\n",
        "        title='Предсказание модели',\n",
        "        width=1200,\n",
        "        height=600,\n",
        "    template = \"plotly_dark\"\n",
        "        )\n",
        "\n",
        "fig.show()\n"
      ]
    },
    {
      "cell_type": "markdown",
      "source": [
        "Мини вывод - стандартизация данных может улучшить результаты"
      ],
      "metadata": {
        "id": "Ik5M2-u_IqFV"
      }
    },
    {
      "cell_type": "markdown",
      "source": [
        "# Метод Наименьших Квадратов"
      ],
      "metadata": {
        "id": "A81DcgGYzDjN"
      }
    },
    {
      "cell_type": "markdown",
      "metadata": {
        "id": "gk23HkppbNah"
      },
      "source": [
        "Для более детального сравнения давайте также посмотрим на аналитическое решение проблемы - методом наименьших квадратов"
      ]
    },
    {
      "cell_type": "code",
      "execution_count": null,
      "metadata": {
        "id": "EPQsz4UhbNah"
      },
      "outputs": [],
      "source": [
        "order = 10\n",
        "x_train_ls = to_polynom(x_train, order=order, add_bias=True)\n",
        "x_test_ls  = to_polynom(x_test,  order=order, add_bias=True)\n",
        "# в библиотеке numpy есть реализация МНК в рамках модуля линейной алгебры linalg.lstsq LeaSTSQuares\n",
        "weights  = np.linalg.lstsq(x_train_ls, y_train, rcond=None)[0] #с учетом смещения"
      ]
    },
    {
      "cell_type": "code",
      "execution_count": null,
      "metadata": {
        "id": "77fuNyuvbNah",
        "colab": {
          "base_uri": "https://localhost:8080/"
        },
        "outputId": "7e4b44e2-e748-4dd7-ec3c-ea37868d1bc0"
      },
      "outputs": [
        {
          "output_type": "execute_result",
          "data": {
            "text/plain": [
              "array([-8.69971720e-01, -1.05350795e+00, -9.49283445e+01,  1.99165390e+03,\n",
              "       -1.41545730e+04,  5.41571702e+04, -1.24039972e+05,  1.74367054e+05,\n",
              "       -1.47329953e+05,  6.86886777e+04, -1.35841838e+04])"
            ]
          },
          "metadata": {},
          "execution_count": 83
        }
      ],
      "source": [
        "weights"
      ]
    },
    {
      "cell_type": "markdown",
      "source": [
        "Видим что веса какие-то неадекватные"
      ],
      "metadata": {
        "id": "juFaCrmBHT31"
      }
    },
    {
      "cell_type": "code",
      "source": [
        "vis_weigths(weights)"
      ],
      "metadata": {
        "colab": {
          "base_uri": "https://localhost:8080/",
          "height": 617
        },
        "id": "v_1jHEBuQLDu",
        "outputId": "1fca6d30-bade-4c07-883e-0a5dc9190518"
      },
      "execution_count": null,
      "outputs": [
        {
          "output_type": "display_data",
          "data": {
            "text/html": [
              "<html>\n",
              "<head><meta charset=\"utf-8\" /></head>\n",
              "<body>\n",
              "    <div>            <script src=\"https://cdnjs.cloudflare.com/ajax/libs/mathjax/2.7.5/MathJax.js?config=TeX-AMS-MML_SVG\"></script><script type=\"text/javascript\">if (window.MathJax && window.MathJax.Hub && window.MathJax.Hub.Config) {window.MathJax.Hub.Config({SVG: {font: \"STIX-Web\"}});}</script>                <script type=\"text/javascript\">window.PlotlyConfig = {MathJaxConfig: 'local'};</script>\n",
              "        <script charset=\"utf-8\" src=\"https://cdn.plot.ly/plotly-2.24.1.min.js\"></script>                <div id=\"263ea13a-1453-43ad-95ea-752cb5f86895\" class=\"plotly-graph-div\" style=\"height:600px; width:1200px;\"></div>            <script type=\"text/javascript\">                                    window.PLOTLYENV=window.PLOTLYENV || {};                                    if (document.getElementById(\"263ea13a-1453-43ad-95ea-752cb5f86895\")) {                    Plotly.newPlot(                        \"263ea13a-1453-43ad-95ea-752cb5f86895\",                        [{\"marker\":{\"color\":\"red\"},\"name\":\"\\u043e\\u0442\\u0440\\u0438\\u0446\\u0430\\u0442\\u0435\\u043b\\u044c\\u043d\\u044b\\u0435 \\u0432\\u0435\\u0441\\u0430\",\"x\":[0,1,2,4,6,8,10],\"y\":[-0.8699717200123377,-1.05350794977192,-94.9283445038661,-14154.572991729163,-124039.9718069355,-147329.95322617475,-13584.183821625094],\"type\":\"bar\"},{\"marker\":{\"color\":\"blue\"},\"name\":\"\\u043f\\u043e\\u043b\\u043e\\u0436\\u0438\\u0442\\u0435\\u043b\\u044c\\u043d\\u044b\\u0435 \\u0432\\u0435\\u0441\\u0430\",\"x\":[3,5,7,9],\"y\":[1991.6538950680676,54157.170186871816,174367.0539212981,68688.67774997723],\"type\":\"bar\"}],                        {\"template\":{\"data\":{\"barpolar\":[{\"marker\":{\"line\":{\"color\":\"rgb(17,17,17)\",\"width\":0.5},\"pattern\":{\"fillmode\":\"overlay\",\"size\":10,\"solidity\":0.2}},\"type\":\"barpolar\"}],\"bar\":[{\"error_x\":{\"color\":\"#f2f5fa\"},\"error_y\":{\"color\":\"#f2f5fa\"},\"marker\":{\"line\":{\"color\":\"rgb(17,17,17)\",\"width\":0.5},\"pattern\":{\"fillmode\":\"overlay\",\"size\":10,\"solidity\":0.2}},\"type\":\"bar\"}],\"carpet\":[{\"aaxis\":{\"endlinecolor\":\"#A2B1C6\",\"gridcolor\":\"#506784\",\"linecolor\":\"#506784\",\"minorgridcolor\":\"#506784\",\"startlinecolor\":\"#A2B1C6\"},\"baxis\":{\"endlinecolor\":\"#A2B1C6\",\"gridcolor\":\"#506784\",\"linecolor\":\"#506784\",\"minorgridcolor\":\"#506784\",\"startlinecolor\":\"#A2B1C6\"},\"type\":\"carpet\"}],\"choropleth\":[{\"colorbar\":{\"outlinewidth\":0,\"ticks\":\"\"},\"type\":\"choropleth\"}],\"contourcarpet\":[{\"colorbar\":{\"outlinewidth\":0,\"ticks\":\"\"},\"type\":\"contourcarpet\"}],\"contour\":[{\"colorbar\":{\"outlinewidth\":0,\"ticks\":\"\"},\"colorscale\":[[0.0,\"#0d0887\"],[0.1111111111111111,\"#46039f\"],[0.2222222222222222,\"#7201a8\"],[0.3333333333333333,\"#9c179e\"],[0.4444444444444444,\"#bd3786\"],[0.5555555555555556,\"#d8576b\"],[0.6666666666666666,\"#ed7953\"],[0.7777777777777778,\"#fb9f3a\"],[0.8888888888888888,\"#fdca26\"],[1.0,\"#f0f921\"]],\"type\":\"contour\"}],\"heatmapgl\":[{\"colorbar\":{\"outlinewidth\":0,\"ticks\":\"\"},\"colorscale\":[[0.0,\"#0d0887\"],[0.1111111111111111,\"#46039f\"],[0.2222222222222222,\"#7201a8\"],[0.3333333333333333,\"#9c179e\"],[0.4444444444444444,\"#bd3786\"],[0.5555555555555556,\"#d8576b\"],[0.6666666666666666,\"#ed7953\"],[0.7777777777777778,\"#fb9f3a\"],[0.8888888888888888,\"#fdca26\"],[1.0,\"#f0f921\"]],\"type\":\"heatmapgl\"}],\"heatmap\":[{\"colorbar\":{\"outlinewidth\":0,\"ticks\":\"\"},\"colorscale\":[[0.0,\"#0d0887\"],[0.1111111111111111,\"#46039f\"],[0.2222222222222222,\"#7201a8\"],[0.3333333333333333,\"#9c179e\"],[0.4444444444444444,\"#bd3786\"],[0.5555555555555556,\"#d8576b\"],[0.6666666666666666,\"#ed7953\"],[0.7777777777777778,\"#fb9f3a\"],[0.8888888888888888,\"#fdca26\"],[1.0,\"#f0f921\"]],\"type\":\"heatmap\"}],\"histogram2dcontour\":[{\"colorbar\":{\"outlinewidth\":0,\"ticks\":\"\"},\"colorscale\":[[0.0,\"#0d0887\"],[0.1111111111111111,\"#46039f\"],[0.2222222222222222,\"#7201a8\"],[0.3333333333333333,\"#9c179e\"],[0.4444444444444444,\"#bd3786\"],[0.5555555555555556,\"#d8576b\"],[0.6666666666666666,\"#ed7953\"],[0.7777777777777778,\"#fb9f3a\"],[0.8888888888888888,\"#fdca26\"],[1.0,\"#f0f921\"]],\"type\":\"histogram2dcontour\"}],\"histogram2d\":[{\"colorbar\":{\"outlinewidth\":0,\"ticks\":\"\"},\"colorscale\":[[0.0,\"#0d0887\"],[0.1111111111111111,\"#46039f\"],[0.2222222222222222,\"#7201a8\"],[0.3333333333333333,\"#9c179e\"],[0.4444444444444444,\"#bd3786\"],[0.5555555555555556,\"#d8576b\"],[0.6666666666666666,\"#ed7953\"],[0.7777777777777778,\"#fb9f3a\"],[0.8888888888888888,\"#fdca26\"],[1.0,\"#f0f921\"]],\"type\":\"histogram2d\"}],\"histogram\":[{\"marker\":{\"pattern\":{\"fillmode\":\"overlay\",\"size\":10,\"solidity\":0.2}},\"type\":\"histogram\"}],\"mesh3d\":[{\"colorbar\":{\"outlinewidth\":0,\"ticks\":\"\"},\"type\":\"mesh3d\"}],\"parcoords\":[{\"line\":{\"colorbar\":{\"outlinewidth\":0,\"ticks\":\"\"}},\"type\":\"parcoords\"}],\"pie\":[{\"automargin\":true,\"type\":\"pie\"}],\"scatter3d\":[{\"line\":{\"colorbar\":{\"outlinewidth\":0,\"ticks\":\"\"}},\"marker\":{\"colorbar\":{\"outlinewidth\":0,\"ticks\":\"\"}},\"type\":\"scatter3d\"}],\"scattercarpet\":[{\"marker\":{\"colorbar\":{\"outlinewidth\":0,\"ticks\":\"\"}},\"type\":\"scattercarpet\"}],\"scattergeo\":[{\"marker\":{\"colorbar\":{\"outlinewidth\":0,\"ticks\":\"\"}},\"type\":\"scattergeo\"}],\"scattergl\":[{\"marker\":{\"line\":{\"color\":\"#283442\"}},\"type\":\"scattergl\"}],\"scattermapbox\":[{\"marker\":{\"colorbar\":{\"outlinewidth\":0,\"ticks\":\"\"}},\"type\":\"scattermapbox\"}],\"scatterpolargl\":[{\"marker\":{\"colorbar\":{\"outlinewidth\":0,\"ticks\":\"\"}},\"type\":\"scatterpolargl\"}],\"scatterpolar\":[{\"marker\":{\"colorbar\":{\"outlinewidth\":0,\"ticks\":\"\"}},\"type\":\"scatterpolar\"}],\"scatter\":[{\"marker\":{\"line\":{\"color\":\"#283442\"}},\"type\":\"scatter\"}],\"scatterternary\":[{\"marker\":{\"colorbar\":{\"outlinewidth\":0,\"ticks\":\"\"}},\"type\":\"scatterternary\"}],\"surface\":[{\"colorbar\":{\"outlinewidth\":0,\"ticks\":\"\"},\"colorscale\":[[0.0,\"#0d0887\"],[0.1111111111111111,\"#46039f\"],[0.2222222222222222,\"#7201a8\"],[0.3333333333333333,\"#9c179e\"],[0.4444444444444444,\"#bd3786\"],[0.5555555555555556,\"#d8576b\"],[0.6666666666666666,\"#ed7953\"],[0.7777777777777778,\"#fb9f3a\"],[0.8888888888888888,\"#fdca26\"],[1.0,\"#f0f921\"]],\"type\":\"surface\"}],\"table\":[{\"cells\":{\"fill\":{\"color\":\"#506784\"},\"line\":{\"color\":\"rgb(17,17,17)\"}},\"header\":{\"fill\":{\"color\":\"#2a3f5f\"},\"line\":{\"color\":\"rgb(17,17,17)\"}},\"type\":\"table\"}]},\"layout\":{\"annotationdefaults\":{\"arrowcolor\":\"#f2f5fa\",\"arrowhead\":0,\"arrowwidth\":1},\"autotypenumbers\":\"strict\",\"coloraxis\":{\"colorbar\":{\"outlinewidth\":0,\"ticks\":\"\"}},\"colorscale\":{\"diverging\":[[0,\"#8e0152\"],[0.1,\"#c51b7d\"],[0.2,\"#de77ae\"],[0.3,\"#f1b6da\"],[0.4,\"#fde0ef\"],[0.5,\"#f7f7f7\"],[0.6,\"#e6f5d0\"],[0.7,\"#b8e186\"],[0.8,\"#7fbc41\"],[0.9,\"#4d9221\"],[1,\"#276419\"]],\"sequential\":[[0.0,\"#0d0887\"],[0.1111111111111111,\"#46039f\"],[0.2222222222222222,\"#7201a8\"],[0.3333333333333333,\"#9c179e\"],[0.4444444444444444,\"#bd3786\"],[0.5555555555555556,\"#d8576b\"],[0.6666666666666666,\"#ed7953\"],[0.7777777777777778,\"#fb9f3a\"],[0.8888888888888888,\"#fdca26\"],[1.0,\"#f0f921\"]],\"sequentialminus\":[[0.0,\"#0d0887\"],[0.1111111111111111,\"#46039f\"],[0.2222222222222222,\"#7201a8\"],[0.3333333333333333,\"#9c179e\"],[0.4444444444444444,\"#bd3786\"],[0.5555555555555556,\"#d8576b\"],[0.6666666666666666,\"#ed7953\"],[0.7777777777777778,\"#fb9f3a\"],[0.8888888888888888,\"#fdca26\"],[1.0,\"#f0f921\"]]},\"colorway\":[\"#636efa\",\"#EF553B\",\"#00cc96\",\"#ab63fa\",\"#FFA15A\",\"#19d3f3\",\"#FF6692\",\"#B6E880\",\"#FF97FF\",\"#FECB52\"],\"font\":{\"color\":\"#f2f5fa\"},\"geo\":{\"bgcolor\":\"rgb(17,17,17)\",\"lakecolor\":\"rgb(17,17,17)\",\"landcolor\":\"rgb(17,17,17)\",\"showlakes\":true,\"showland\":true,\"subunitcolor\":\"#506784\"},\"hoverlabel\":{\"align\":\"left\"},\"hovermode\":\"closest\",\"mapbox\":{\"style\":\"dark\"},\"paper_bgcolor\":\"rgb(17,17,17)\",\"plot_bgcolor\":\"rgb(17,17,17)\",\"polar\":{\"angularaxis\":{\"gridcolor\":\"#506784\",\"linecolor\":\"#506784\",\"ticks\":\"\"},\"bgcolor\":\"rgb(17,17,17)\",\"radialaxis\":{\"gridcolor\":\"#506784\",\"linecolor\":\"#506784\",\"ticks\":\"\"}},\"scene\":{\"xaxis\":{\"backgroundcolor\":\"rgb(17,17,17)\",\"gridcolor\":\"#506784\",\"gridwidth\":2,\"linecolor\":\"#506784\",\"showbackground\":true,\"ticks\":\"\",\"zerolinecolor\":\"#C8D4E3\"},\"yaxis\":{\"backgroundcolor\":\"rgb(17,17,17)\",\"gridcolor\":\"#506784\",\"gridwidth\":2,\"linecolor\":\"#506784\",\"showbackground\":true,\"ticks\":\"\",\"zerolinecolor\":\"#C8D4E3\"},\"zaxis\":{\"backgroundcolor\":\"rgb(17,17,17)\",\"gridcolor\":\"#506784\",\"gridwidth\":2,\"linecolor\":\"#506784\",\"showbackground\":true,\"ticks\":\"\",\"zerolinecolor\":\"#C8D4E3\"}},\"shapedefaults\":{\"line\":{\"color\":\"#f2f5fa\"}},\"sliderdefaults\":{\"bgcolor\":\"#C8D4E3\",\"bordercolor\":\"rgb(17,17,17)\",\"borderwidth\":1,\"tickwidth\":0},\"ternary\":{\"aaxis\":{\"gridcolor\":\"#506784\",\"linecolor\":\"#506784\",\"ticks\":\"\"},\"baxis\":{\"gridcolor\":\"#506784\",\"linecolor\":\"#506784\",\"ticks\":\"\"},\"bgcolor\":\"rgb(17,17,17)\",\"caxis\":{\"gridcolor\":\"#506784\",\"linecolor\":\"#506784\",\"ticks\":\"\"}},\"title\":{\"x\":0.05},\"updatemenudefaults\":{\"bgcolor\":\"#506784\",\"borderwidth\":0},\"xaxis\":{\"automargin\":true,\"gridcolor\":\"#283442\",\"linecolor\":\"#506784\",\"ticks\":\"\",\"title\":{\"standoff\":15},\"zerolinecolor\":\"#283442\",\"zerolinewidth\":2},\"yaxis\":{\"automargin\":true,\"gridcolor\":\"#283442\",\"linecolor\":\"#506784\",\"ticks\":\"\",\"title\":{\"standoff\":15},\"zerolinecolor\":\"#283442\",\"zerolinewidth\":2}}},\"xaxis\":{\"tickmode\":\"array\",\"tickvals\":[0,1,2,3,4,5,6,7,8,9,10],\"ticktext\":[\"w0\",\"w1\",\"w2\",\"w3\",\"w4\",\"w5\",\"w6\",\"w7\",\"w8\",\"w9\",\"w10\"]},\"title\":{\"text\":\"\\u0412\\u0435\\u0441\\u0430 \\u043c\\u043e\\u0434\\u0435\\u043b\\u0438\"},\"width\":1200,\"height\":600},                        {\"responsive\": true}                    ).then(function(){\n",
              "                            \n",
              "var gd = document.getElementById('263ea13a-1453-43ad-95ea-752cb5f86895');\n",
              "var x = new MutationObserver(function (mutations, observer) {{\n",
              "        var display = window.getComputedStyle(gd).display;\n",
              "        if (!display || display === 'none') {{\n",
              "            console.log([gd, 'removed!']);\n",
              "            Plotly.purge(gd);\n",
              "            observer.disconnect();\n",
              "        }}\n",
              "}});\n",
              "\n",
              "// Listen for the removal of the full notebook cells\n",
              "var notebookContainer = gd.closest('#notebook-container');\n",
              "if (notebookContainer) {{\n",
              "    x.observe(notebookContainer, {childList: true});\n",
              "}}\n",
              "\n",
              "// Listen for the clearing of the current output cell\n",
              "var outputEl = gd.closest('.output');\n",
              "if (outputEl) {{\n",
              "    x.observe(outputEl, {childList: true});\n",
              "}}\n",
              "\n",
              "                        })                };                            </script>        </div>\n",
              "</body>\n",
              "</html>"
            ]
          },
          "metadata": {}
        }
      ]
    },
    {
      "cell_type": "code",
      "source": [
        "np.sum(np.abs(weights))"
      ],
      "metadata": {
        "colab": {
          "base_uri": "https://localhost:8080/"
        },
        "id": "tc6YChr9b3D8",
        "outputId": "34e396a6-f57a-49cb-d466-45884970afce"
      },
      "execution_count": null,
      "outputs": [
        {
          "output_type": "execute_result",
          "data": {
            "text/plain": [
              "598410.0894238534"
            ]
          },
          "metadata": {},
          "execution_count": 85
        }
      ]
    },
    {
      "cell_type": "markdown",
      "source": [
        "Предсказание полиномиальной модели"
      ],
      "metadata": {
        "id": "YAX9y0ttHa18"
      }
    },
    {
      "cell_type": "code",
      "execution_count": null,
      "metadata": {
        "id": "wNkQeVQObNah"
      },
      "outputs": [],
      "source": [
        "def polyval(x,weights):\n",
        "    return np.sum([np.power(x,i)*wi for i, wi in enumerate(weights) ],axis = 0) # с учетом смещения"
      ]
    },
    {
      "cell_type": "code",
      "execution_count": null,
      "metadata": {
        "id": "BsledRCRbNah",
        "colab": {
          "base_uri": "https://localhost:8080/"
        },
        "outputId": "42920673-e661-4048-effa-73b598d92046"
      },
      "outputs": [
        {
          "output_type": "stream",
          "name": "stdout",
          "text": [
            "Ошибка на тестовых данных = 0.98, \n",
            " Ошибка на тренировочных данных =  0.99\n"
          ]
        }
      ],
      "source": [
        "print(f\"Ошибка на тестовых данных = {r2_score(y_test, polyval(x_test,weights).squeeze()):.2f}, \\n Ошибка на тренировочных данных =  {r2_score(y_train, polyval(x_train,weights).squeeze()):.2f}\")\n"
      ]
    },
    {
      "cell_type": "markdown",
      "source": [
        "Посмотрим на результат."
      ],
      "metadata": {
        "id": "pp309XQKHsiV"
      }
    },
    {
      "cell_type": "code",
      "execution_count": null,
      "metadata": {
        "id": "wMaSKsdabNai",
        "colab": {
          "base_uri": "https://localhost:8080/",
          "height": 617
        },
        "outputId": "3dcbf601-0e67-463c-9c52-59ff0aa4c386"
      },
      "outputs": [
        {
          "output_type": "display_data",
          "data": {
            "text/html": [
              "<html>\n",
              "<head><meta charset=\"utf-8\" /></head>\n",
              "<body>\n",
              "    <div>            <script src=\"https://cdnjs.cloudflare.com/ajax/libs/mathjax/2.7.5/MathJax.js?config=TeX-AMS-MML_SVG\"></script><script type=\"text/javascript\">if (window.MathJax && window.MathJax.Hub && window.MathJax.Hub.Config) {window.MathJax.Hub.Config({SVG: {font: \"STIX-Web\"}});}</script>                <script type=\"text/javascript\">window.PlotlyConfig = {MathJaxConfig: 'local'};</script>\n",
              "        <script charset=\"utf-8\" src=\"https://cdn.plot.ly/plotly-2.24.1.min.js\"></script>                <div id=\"89bbce33-8f0d-4f8f-80aa-773bdaad09a9\" class=\"plotly-graph-div\" style=\"height:600px; width:1200px;\"></div>            <script type=\"text/javascript\">                                    window.PLOTLYENV=window.PLOTLYENV || {};                                    if (document.getElementById(\"89bbce33-8f0d-4f8f-80aa-773bdaad09a9\")) {                    Plotly.newPlot(                        \"89bbce33-8f0d-4f8f-80aa-773bdaad09a9\",                        [{\"marker\":{\"color\":\"Blue\",\"size\":5},\"mode\":\"markers\",\"name\":\"\\u041f\\u0440\\u0435\\u0434\\u0441\\u043a\\u0430\\u0437\\u0430\\u043d\\u0438\\u0435 \\u043d\\u0430 x_test\",\"x\":[0.04864275845245291,0.8717318949578305,0.6362194811532859,0.39221749528184063,0.7665422633556482,0.17857244474527742,0.3836532251490256,0.3059331605412711,1.0156872220654944,0.31899079313911943,0.14607762928177764,0.8465517233413815,0.20909789571439721,0.5385050446476917,0.7165271498113673],\"y\":[-0.9826318889688903,-0.7541814297728706,0.6165107848377716,0.8059943608077316,-0.16552997615724507,-0.4557080220758318,0.7653336347045162,0.34377656994010675,-1.045062618150041,0.4187451096097351,-0.6704477145757878,-0.6250979330698101,-0.2512820966927059,1.0353932001502066,0.13292757704493852],\"type\":\"scatter\"},{\"marker\":{\"color\":\"LightSkyBlue\",\"size\":10},\"mode\":\"markers\",\"name\":\"\\u041f\\u0440\\u0435\\u0434\\u0441\\u043a\\u0430\\u0437\\u0430\\u043d\\u0438\\u0435 \\u043d\\u0430 x_train\",\"x\":[0.1935791331541123,0.7414918695374813,0.5495236501799443,0.9522380983100062,0.3049744424524801,1.0112075003926706,0.47759537064635094,0.46092661359718623,0.620375085805519,0.3186017317977882,0.19206075359692815,0.06812186887562248,0.6937917137886659,0.16335707969615926,0.060825016427191375,0.12779814068180767,0.8222343440291981,0.9936706109775585,0.995585693560036,0.2223609967255541,0.16338233821234197,0.2709937630302383,0.45233176577359235,0.6294861682850023,0.5725136657422902,0.021556032019184653,0.9070575387604193,0.5185480476776199,0.6269136986542038,0.1022819986076801,0.5446139582330638,0.19040666040567744,0.6407308530458254,0.03601157510112919,0.3264230755616875],\"y\":[-0.3546138266773673,-0.017085078775608054,1.0077157385730757,-0.9677273239994975,0.33823049758308243,-1.0180769836642867,1.0694818889487543,1.0435024616761064,0.7050301758221593,0.41652729942491135,-0.36480992846897425,-0.9892950374686998,0.27119519952759674,-0.55784994151295,-0.9914930935494053,-0.7806039819105431,-0.4894836786752421,-0.9676000617000682,-0.9700110836274689,-0.1646447499948288,-0.5576818383193484,0.13799036291825173,1.024603862414586,0.6547146901199312,0.9309730221441228,-0.9196579992848071,-0.895625421540899,1.0691707146589629,0.6690926099902015,-0.9058767739730736,1.0208152896076292,-0.37592986641531445,0.590499466561198,-0.9587863343806239,0.4609079092169247],\"type\":\"scatter\"},{\"marker\":{\"color\":\"Red\",\"size\":5},\"mode\":\"markers\",\"name\":\"\\u0422\\u0440\\u0435\\u043d\\u0438\\u0440\\u043e\\u0432\\u043e\\u0447\\u043d\\u044b\\u0435 \\u0434\\u0430\\u043d\\u043d\\u044b\\u0435\",\"x\":[0.1935791331541123,0.7414918695374813,0.5495236501799443,0.9522380983100062,0.3049744424524801,1.0112075003926706,0.47759537064635094,0.46092661359718623,0.620375085805519,0.3186017317977882,0.19206075359692815,0.06812186887562248,0.6937917137886659,0.16335707969615926,0.060825016427191375,0.12779814068180767,0.8222343440291981,0.9936706109775585,0.995585693560036,0.2223609967255541,0.16338233821234197,0.2709937630302383,0.45233176577359235,0.6294861682850023,0.5725136657422902,0.021556032019184653,0.9070575387604193,0.5185480476776199,0.6269136986542038,0.1022819986076801,0.5446139582330638,0.19040666040567744,0.6407308530458254,0.03601157510112919,0.3264230755616875],\"y\":[-0.2859564595462624,-0.1453241894066141,0.9881167017483331,-1.0054835593161149,0.30766558901833774,-1.0504976409579565,0.9829069002541185,1.1056386336255508,0.7237707054079208,0.5153680456168184,-0.4237473950348616,-1.0576406053102159,0.3159704144520749,-0.4835375519098044,-0.957966113287652,-0.7406302067305153,-0.4027283437201781,-0.9076691167366973,-0.9667402734682089,-0.07966140075010146,-0.694067627940149,0.04760375926911199,1.0367342487283842,0.42492249897236334,1.0517934539878466,-0.9169952841417408,-0.9151271740983736,1.0935700908838861,0.8550178965734798,-0.8724907503746768,0.8964555976619756,-0.4042558886414683,0.6425837258651887,-0.9573737312130097,0.4433732359063325],\"type\":\"scatter\"},{\"marker\":{\"color\":\"green\",\"size\":10},\"mode\":\"lines+markers\",\"name\":\"\\u0418\\u0441\\u0442\\u0438\\u043d\\u043d\\u044b\\u0435 \\u0437\\u043d\\u0430\\u0447\\u0435\\u043d\\u0438\\u044f\",\"opacity\":0.7,\"x\":[0.021556032019184653,0.03601157510112919,0.04864275845245291,0.060825016427191375,0.06812186887562248,0.1022819986076801,0.12779814068180767,0.14607762928177764,0.16335707969615926,0.16338233821234197,0.17857244474527742,0.19040666040567744,0.19206075359692815,0.1935791331541123,0.20909789571439721,0.2223609967255541,0.2709937630302383,0.3049744424524801,0.3059331605412711,0.3186017317977882,0.31899079313911943,0.3264230755616875,0.3836532251490256,0.39221749528184063,0.45233176577359235,0.46092661359718623,0.47759537064635094,0.5185480476776199,0.5385050446476917,0.5446139582330638,0.5495236501799443,0.5725136657422902,0.620375085805519,0.6269136986542038,0.6294861682850023,0.6362194811532859,0.6407308530458254,0.6937917137886659,0.7165271498113673,0.7414918695374813,0.7665422633556482,0.8222343440291981,0.8465517233413815,0.8717318949578305,0.9070575387604193,0.9522380983100062,0.9936706109775585,0.995585693560036,1.0112075003926706,1.0156872220654944],\"y\":[-0.9908419421412819,-0.9745105593320068,-0.953657137715219,-0.9278557437287231,-0.9097884062734731,-0.800506329535206,-0.6945663296345366,-0.6075429493019043,-0.5178993808666505,-0.5177636124038756,-0.43387798659494153,-0.3657476605998366,-0.3560551950042657,-0.3471240884303492,-0.2541758778940944,-0.17278941266172132,0.13152551159137585,0.3385868266034592,0.3442486577060824,0.41781353290458245,0.42003323117514924,0.4619391335727142,0.7444882355469523,0.7793193543026911,0.9554816664889644,0.9700146307684685,0.9901079124121519,0.9932168010946837,0.970876362435546,0.960967573122488,0.9519771411974917,0.8979897973412496,0.727353309318916,0.6985535309920792,0.6868970093813378,0.6555449883551803,0.6338790190413717,0.34587114949866166,0.20876906504156134,0.053432702053475195,-0.1037510643140196,-0.4384396008713527,-0.5701203765525372,-0.6924389229841701,-0.8342778138090549,-0.9553078549576611,-0.9992093285069047,-0.9996153844341773,-0.9975216205812526,-0.9951463305468402],\"type\":\"scatter\"},{\"marker\":{\"color\":\"Purple\",\"size\":5},\"mode\":\"markers\",\"name\":\"\\u041d\\u043e\\u0432\\u044b\\u0435 \\u0434\\u0430\\u043d\\u043d\\u044b\\u0435\",\"x\":[1.05,1.07,1.08,1.09,1.1],\"y\":[-1.652228798608121,-2.612040372514457,-3.3797101505333558,-4.4097290469107975,-5.768172723590396],\"type\":\"scatter\"}],                        {\"template\":{\"data\":{\"barpolar\":[{\"marker\":{\"line\":{\"color\":\"rgb(17,17,17)\",\"width\":0.5},\"pattern\":{\"fillmode\":\"overlay\",\"size\":10,\"solidity\":0.2}},\"type\":\"barpolar\"}],\"bar\":[{\"error_x\":{\"color\":\"#f2f5fa\"},\"error_y\":{\"color\":\"#f2f5fa\"},\"marker\":{\"line\":{\"color\":\"rgb(17,17,17)\",\"width\":0.5},\"pattern\":{\"fillmode\":\"overlay\",\"size\":10,\"solidity\":0.2}},\"type\":\"bar\"}],\"carpet\":[{\"aaxis\":{\"endlinecolor\":\"#A2B1C6\",\"gridcolor\":\"#506784\",\"linecolor\":\"#506784\",\"minorgridcolor\":\"#506784\",\"startlinecolor\":\"#A2B1C6\"},\"baxis\":{\"endlinecolor\":\"#A2B1C6\",\"gridcolor\":\"#506784\",\"linecolor\":\"#506784\",\"minorgridcolor\":\"#506784\",\"startlinecolor\":\"#A2B1C6\"},\"type\":\"carpet\"}],\"choropleth\":[{\"colorbar\":{\"outlinewidth\":0,\"ticks\":\"\"},\"type\":\"choropleth\"}],\"contourcarpet\":[{\"colorbar\":{\"outlinewidth\":0,\"ticks\":\"\"},\"type\":\"contourcarpet\"}],\"contour\":[{\"colorbar\":{\"outlinewidth\":0,\"ticks\":\"\"},\"colorscale\":[[0.0,\"#0d0887\"],[0.1111111111111111,\"#46039f\"],[0.2222222222222222,\"#7201a8\"],[0.3333333333333333,\"#9c179e\"],[0.4444444444444444,\"#bd3786\"],[0.5555555555555556,\"#d8576b\"],[0.6666666666666666,\"#ed7953\"],[0.7777777777777778,\"#fb9f3a\"],[0.8888888888888888,\"#fdca26\"],[1.0,\"#f0f921\"]],\"type\":\"contour\"}],\"heatmapgl\":[{\"colorbar\":{\"outlinewidth\":0,\"ticks\":\"\"},\"colorscale\":[[0.0,\"#0d0887\"],[0.1111111111111111,\"#46039f\"],[0.2222222222222222,\"#7201a8\"],[0.3333333333333333,\"#9c179e\"],[0.4444444444444444,\"#bd3786\"],[0.5555555555555556,\"#d8576b\"],[0.6666666666666666,\"#ed7953\"],[0.7777777777777778,\"#fb9f3a\"],[0.8888888888888888,\"#fdca26\"],[1.0,\"#f0f921\"]],\"type\":\"heatmapgl\"}],\"heatmap\":[{\"colorbar\":{\"outlinewidth\":0,\"ticks\":\"\"},\"colorscale\":[[0.0,\"#0d0887\"],[0.1111111111111111,\"#46039f\"],[0.2222222222222222,\"#7201a8\"],[0.3333333333333333,\"#9c179e\"],[0.4444444444444444,\"#bd3786\"],[0.5555555555555556,\"#d8576b\"],[0.6666666666666666,\"#ed7953\"],[0.7777777777777778,\"#fb9f3a\"],[0.8888888888888888,\"#fdca26\"],[1.0,\"#f0f921\"]],\"type\":\"heatmap\"}],\"histogram2dcontour\":[{\"colorbar\":{\"outlinewidth\":0,\"ticks\":\"\"},\"colorscale\":[[0.0,\"#0d0887\"],[0.1111111111111111,\"#46039f\"],[0.2222222222222222,\"#7201a8\"],[0.3333333333333333,\"#9c179e\"],[0.4444444444444444,\"#bd3786\"],[0.5555555555555556,\"#d8576b\"],[0.6666666666666666,\"#ed7953\"],[0.7777777777777778,\"#fb9f3a\"],[0.8888888888888888,\"#fdca26\"],[1.0,\"#f0f921\"]],\"type\":\"histogram2dcontour\"}],\"histogram2d\":[{\"colorbar\":{\"outlinewidth\":0,\"ticks\":\"\"},\"colorscale\":[[0.0,\"#0d0887\"],[0.1111111111111111,\"#46039f\"],[0.2222222222222222,\"#7201a8\"],[0.3333333333333333,\"#9c179e\"],[0.4444444444444444,\"#bd3786\"],[0.5555555555555556,\"#d8576b\"],[0.6666666666666666,\"#ed7953\"],[0.7777777777777778,\"#fb9f3a\"],[0.8888888888888888,\"#fdca26\"],[1.0,\"#f0f921\"]],\"type\":\"histogram2d\"}],\"histogram\":[{\"marker\":{\"pattern\":{\"fillmode\":\"overlay\",\"size\":10,\"solidity\":0.2}},\"type\":\"histogram\"}],\"mesh3d\":[{\"colorbar\":{\"outlinewidth\":0,\"ticks\":\"\"},\"type\":\"mesh3d\"}],\"parcoords\":[{\"line\":{\"colorbar\":{\"outlinewidth\":0,\"ticks\":\"\"}},\"type\":\"parcoords\"}],\"pie\":[{\"automargin\":true,\"type\":\"pie\"}],\"scatter3d\":[{\"line\":{\"colorbar\":{\"outlinewidth\":0,\"ticks\":\"\"}},\"marker\":{\"colorbar\":{\"outlinewidth\":0,\"ticks\":\"\"}},\"type\":\"scatter3d\"}],\"scattercarpet\":[{\"marker\":{\"colorbar\":{\"outlinewidth\":0,\"ticks\":\"\"}},\"type\":\"scattercarpet\"}],\"scattergeo\":[{\"marker\":{\"colorbar\":{\"outlinewidth\":0,\"ticks\":\"\"}},\"type\":\"scattergeo\"}],\"scattergl\":[{\"marker\":{\"line\":{\"color\":\"#283442\"}},\"type\":\"scattergl\"}],\"scattermapbox\":[{\"marker\":{\"colorbar\":{\"outlinewidth\":0,\"ticks\":\"\"}},\"type\":\"scattermapbox\"}],\"scatterpolargl\":[{\"marker\":{\"colorbar\":{\"outlinewidth\":0,\"ticks\":\"\"}},\"type\":\"scatterpolargl\"}],\"scatterpolar\":[{\"marker\":{\"colorbar\":{\"outlinewidth\":0,\"ticks\":\"\"}},\"type\":\"scatterpolar\"}],\"scatter\":[{\"marker\":{\"line\":{\"color\":\"#283442\"}},\"type\":\"scatter\"}],\"scatterternary\":[{\"marker\":{\"colorbar\":{\"outlinewidth\":0,\"ticks\":\"\"}},\"type\":\"scatterternary\"}],\"surface\":[{\"colorbar\":{\"outlinewidth\":0,\"ticks\":\"\"},\"colorscale\":[[0.0,\"#0d0887\"],[0.1111111111111111,\"#46039f\"],[0.2222222222222222,\"#7201a8\"],[0.3333333333333333,\"#9c179e\"],[0.4444444444444444,\"#bd3786\"],[0.5555555555555556,\"#d8576b\"],[0.6666666666666666,\"#ed7953\"],[0.7777777777777778,\"#fb9f3a\"],[0.8888888888888888,\"#fdca26\"],[1.0,\"#f0f921\"]],\"type\":\"surface\"}],\"table\":[{\"cells\":{\"fill\":{\"color\":\"#506784\"},\"line\":{\"color\":\"rgb(17,17,17)\"}},\"header\":{\"fill\":{\"color\":\"#2a3f5f\"},\"line\":{\"color\":\"rgb(17,17,17)\"}},\"type\":\"table\"}]},\"layout\":{\"annotationdefaults\":{\"arrowcolor\":\"#f2f5fa\",\"arrowhead\":0,\"arrowwidth\":1},\"autotypenumbers\":\"strict\",\"coloraxis\":{\"colorbar\":{\"outlinewidth\":0,\"ticks\":\"\"}},\"colorscale\":{\"diverging\":[[0,\"#8e0152\"],[0.1,\"#c51b7d\"],[0.2,\"#de77ae\"],[0.3,\"#f1b6da\"],[0.4,\"#fde0ef\"],[0.5,\"#f7f7f7\"],[0.6,\"#e6f5d0\"],[0.7,\"#b8e186\"],[0.8,\"#7fbc41\"],[0.9,\"#4d9221\"],[1,\"#276419\"]],\"sequential\":[[0.0,\"#0d0887\"],[0.1111111111111111,\"#46039f\"],[0.2222222222222222,\"#7201a8\"],[0.3333333333333333,\"#9c179e\"],[0.4444444444444444,\"#bd3786\"],[0.5555555555555556,\"#d8576b\"],[0.6666666666666666,\"#ed7953\"],[0.7777777777777778,\"#fb9f3a\"],[0.8888888888888888,\"#fdca26\"],[1.0,\"#f0f921\"]],\"sequentialminus\":[[0.0,\"#0d0887\"],[0.1111111111111111,\"#46039f\"],[0.2222222222222222,\"#7201a8\"],[0.3333333333333333,\"#9c179e\"],[0.4444444444444444,\"#bd3786\"],[0.5555555555555556,\"#d8576b\"],[0.6666666666666666,\"#ed7953\"],[0.7777777777777778,\"#fb9f3a\"],[0.8888888888888888,\"#fdca26\"],[1.0,\"#f0f921\"]]},\"colorway\":[\"#636efa\",\"#EF553B\",\"#00cc96\",\"#ab63fa\",\"#FFA15A\",\"#19d3f3\",\"#FF6692\",\"#B6E880\",\"#FF97FF\",\"#FECB52\"],\"font\":{\"color\":\"#f2f5fa\"},\"geo\":{\"bgcolor\":\"rgb(17,17,17)\",\"lakecolor\":\"rgb(17,17,17)\",\"landcolor\":\"rgb(17,17,17)\",\"showlakes\":true,\"showland\":true,\"subunitcolor\":\"#506784\"},\"hoverlabel\":{\"align\":\"left\"},\"hovermode\":\"closest\",\"mapbox\":{\"style\":\"dark\"},\"paper_bgcolor\":\"rgb(17,17,17)\",\"plot_bgcolor\":\"rgb(17,17,17)\",\"polar\":{\"angularaxis\":{\"gridcolor\":\"#506784\",\"linecolor\":\"#506784\",\"ticks\":\"\"},\"bgcolor\":\"rgb(17,17,17)\",\"radialaxis\":{\"gridcolor\":\"#506784\",\"linecolor\":\"#506784\",\"ticks\":\"\"}},\"scene\":{\"xaxis\":{\"backgroundcolor\":\"rgb(17,17,17)\",\"gridcolor\":\"#506784\",\"gridwidth\":2,\"linecolor\":\"#506784\",\"showbackground\":true,\"ticks\":\"\",\"zerolinecolor\":\"#C8D4E3\"},\"yaxis\":{\"backgroundcolor\":\"rgb(17,17,17)\",\"gridcolor\":\"#506784\",\"gridwidth\":2,\"linecolor\":\"#506784\",\"showbackground\":true,\"ticks\":\"\",\"zerolinecolor\":\"#C8D4E3\"},\"zaxis\":{\"backgroundcolor\":\"rgb(17,17,17)\",\"gridcolor\":\"#506784\",\"gridwidth\":2,\"linecolor\":\"#506784\",\"showbackground\":true,\"ticks\":\"\",\"zerolinecolor\":\"#C8D4E3\"}},\"shapedefaults\":{\"line\":{\"color\":\"#f2f5fa\"}},\"sliderdefaults\":{\"bgcolor\":\"#C8D4E3\",\"bordercolor\":\"rgb(17,17,17)\",\"borderwidth\":1,\"tickwidth\":0},\"ternary\":{\"aaxis\":{\"gridcolor\":\"#506784\",\"linecolor\":\"#506784\",\"ticks\":\"\"},\"baxis\":{\"gridcolor\":\"#506784\",\"linecolor\":\"#506784\",\"ticks\":\"\"},\"bgcolor\":\"rgb(17,17,17)\",\"caxis\":{\"gridcolor\":\"#506784\",\"linecolor\":\"#506784\",\"ticks\":\"\"}},\"title\":{\"x\":0.05},\"updatemenudefaults\":{\"bgcolor\":\"#506784\",\"borderwidth\":0},\"xaxis\":{\"automargin\":true,\"gridcolor\":\"#283442\",\"linecolor\":\"#506784\",\"ticks\":\"\",\"title\":{\"standoff\":15},\"zerolinecolor\":\"#283442\",\"zerolinewidth\":2},\"yaxis\":{\"automargin\":true,\"gridcolor\":\"#283442\",\"linecolor\":\"#506784\",\"ticks\":\"\",\"title\":{\"standoff\":15},\"zerolinecolor\":\"#283442\",\"zerolinewidth\":2}}},\"title\":{\"text\":\"\\u041f\\u0440\\u0435\\u0434\\u0441\\u043a\\u0430\\u0437\\u0430\\u043d\\u0438\\u0435 \\u043c\\u043e\\u0434\\u0435\\u043b\\u0438\"},\"width\":1200,\"height\":600},                        {\"responsive\": true}                    ).then(function(){\n",
              "                            \n",
              "var gd = document.getElementById('89bbce33-8f0d-4f8f-80aa-773bdaad09a9');\n",
              "var x = new MutationObserver(function (mutations, observer) {{\n",
              "        var display = window.getComputedStyle(gd).display;\n",
              "        if (!display || display === 'none') {{\n",
              "            console.log([gd, 'removed!']);\n",
              "            Plotly.purge(gd);\n",
              "            observer.disconnect();\n",
              "        }}\n",
              "}});\n",
              "\n",
              "// Listen for the removal of the full notebook cells\n",
              "var notebookContainer = gd.closest('#notebook-container');\n",
              "if (notebookContainer) {{\n",
              "    x.observe(notebookContainer, {childList: true});\n",
              "}}\n",
              "\n",
              "// Listen for the clearing of the current output cell\n",
              "var outputEl = gd.closest('.output');\n",
              "if (outputEl) {{\n",
              "    x.observe(outputEl, {childList: true});\n",
              "}}\n",
              "\n",
              "                        })                };                            </script>        </div>\n",
              "</body>\n",
              "</html>"
            ]
          },
          "metadata": {}
        }
      ],
      "source": [
        "fig = go.Figure()\n",
        "    # рисуем с помощью библиотеки plotly\n",
        "fig.add_trace(\n",
        "    go.Scatter(\n",
        "    x=x_test[:,0],\n",
        "    y=polyval(x_test, weights)[:,0],\n",
        "    mode='markers',\n",
        "    name='Предсказание на x_test',\n",
        "    marker=dict(size = 5,\n",
        "                color='Blue')\n",
        "    )\n",
        ")\n",
        "fig.add_trace(\n",
        "    go.Scatter(\n",
        "    x=x_train[:,0],\n",
        "    y=polyval(x_train, weights)[:,0],\n",
        "    mode='markers',\n",
        "    name='Предсказание на x_train',\n",
        "    marker=dict(size = 10,\n",
        "                color='LightSkyBlue',\n",
        "                ),\n",
        "\n",
        "    )\n",
        ")\n",
        "\n",
        "fig.add_trace(\n",
        "    go.Scatter(\n",
        "    x=x_train[:,0],\n",
        "    y=y_train,\n",
        "    mode='markers',\n",
        "    name='Тренировочные данные',\n",
        "    marker=dict(size = 5,\n",
        "                color='Red')\n",
        "    )\n",
        ")\n",
        "\n",
        "fig.add_trace(\n",
        "    go.Scatter(\n",
        "    x=x[:,0],\n",
        "    y=y_true[:,0],\n",
        "    mode='lines+markers',\n",
        "    name='Истинные значения',\n",
        "    opacity = 0.7,\n",
        "    marker=dict(size = 10,\n",
        "                color='green',),\n",
        "\n",
        "    )\n",
        ")\n",
        "\n",
        "# возьмем дополнительную точку \"вне\" тренировочного диапазона\n",
        "x_new = np.array([1.05, 1.07, 1.08, 1.09, 1.1])\n",
        "fig.add_trace(\n",
        "    go.Scatter(\n",
        "    x=x_new,\n",
        "    y=polyval(x_new, weights),\n",
        "    mode='markers',\n",
        "    name='Новые данные',\n",
        "    marker=dict(size = 5,\n",
        "                color='Purple')\n",
        "    )\n",
        ")\n",
        "\n",
        "fig.update_layout(\n",
        "        title='Предсказание модели',\n",
        "        width=1200,\n",
        "        height=600,\n",
        "    template = \"plotly_dark\"\n",
        "        )\n"
      ]
    },
    {
      "cell_type": "markdown",
      "metadata": {
        "id": "qenim9ZobNai"
      },
      "source": [
        "Аналитическое решение методом наименьших квадратов дало результаты лучше чем численное на тренировочных данных\n",
        "\n",
        "Однако, градиентный спуск позволяет поднять точность на тестовых данных."
      ]
    },
    {
      "cell_type": "markdown",
      "metadata": {
        "id": "MSiSg5s9bNab"
      },
      "source": [
        "# Регуляризация линейной регрессии"
      ]
    },
    {
      "cell_type": "markdown",
      "metadata": {
        "id": "iCncLRLLbNab"
      },
      "source": [
        "## Регуляризация Тихонова"
      ]
    },
    {
      "cell_type": "markdown",
      "metadata": {
        "id": "GUBGgZ2RbNac"
      },
      "source": [
        "Часто бывает так, что обычный градиентный спуск приводит к переобучению модели. Переобучение это ситуация, когда точность на обучающих данных значительно выше, чем на тестовых.\n",
        "\n",
        "В таких случаях также можно сказать, что данные плохо обусловлены - то есть любые небольшие изменения по отношению к тренировочной выборке приведут к большим изменениям в ответе модели. В целом это будет означать, что модель дает очень большой разброс результатов.\n",
        "\n",
        "Такой разброс может быть снижен при помощи различных техник регуляризации. Смысл использования таких техник сводится к тому, что при обучении модели к выражению обновления весовых параметров добавляется дополнительное условие.\n",
        "\n",
        "Например, можно добавить условие ограничение суммы квадратов весовых параметров. Такое предположение называется регрессией Тихонова или гребневой регрессией (а также L2 регуляризацией).\n",
        "\n",
        "Технически такая регуляризация соответствует предположению, что распределение результатов работы модели имеет вид нормального распределения. Такое предположение часто допустимо и оправдано.<br>\n",
        "Регрессия Тихонова может быть записана в следующей форме:\n",
        "\n",
        "$$ \\begin{cases}\n",
        "L(\\hat{y}_i,y_i)\\to \\min \\\\\n",
        "\\| W \\|_2^2< \\mathrm{const}\n",
        "\\end{cases}\n",
        "\\to L(\\hat{y}_i,y_i) + \\frac{\\lambda}{2}\\sum_{j=1}^{p} W_j^2\\to \\min,\n",
        "$$\n",
        "где  \n",
        "<ul>\n",
        "     <li> $ \\| W \\|_2^2 = \\sum_{j=1}^{p} W_j^2$ - норма Фробениуса для вектора или матрицы;\n",
        "     <li> $ \\lambda $   - регуляризационный множитель;  \n",
        "     <li> $p$ - размер вектора весовых параметров;\n",
        "</ul>\n",
        "Закон изменения весовых параметров для данной модели можно зписать как:\n",
        "$$ W^t = W^{t-1}-\\eta\\left(\\frac{1}{N}\\sum_{i=0}^{N-1}\\nabla_{W}L(\\hat{y}_i,y_i) + \\lambda\\sum_{j=1}^{p} W_j\\right). $$\n",
        "Запишем новую версию регрессии. Для этого запишем новый класс, наследующий от уже созданного и перепишем в нем методы `loss`     и `update`. Также отметим, что смещение не регуляризуется !"
      ]
    },
    {
      "cell_type": "code",
      "execution_count": null,
      "metadata": {
        "id": "zx1LEOGmbNac"
      },
      "outputs": [],
      "source": [
        "class RidgeRegression(LinearRegression): #унаследуем всё что можно от \"базовой\" модели\n",
        "    def __init__(self,\n",
        "                 learning_rate = 0.5,\n",
        "                 l2_penalty = 0.001,\n",
        "                 epochs = 100,\n",
        "                 weights = None,\n",
        "                 bias    = None,\n",
        "                 batch_size   = 1000,\n",
        "                 n_batches    = None,\n",
        "                 random_state = 42):\n",
        "\n",
        "        super().__init__(learning_rate = learning_rate,\n",
        "                         epochs = epochs,\n",
        "                         weights = weights,\n",
        "                         bias    = bias,\n",
        "                         batch_size   = batch_size,\n",
        "                         n_batches    = n_batches,\n",
        "                         random_state = random_state)\n",
        "        self.l2_penalty = l2_penalty\n",
        "\n",
        "    #---------------------------------\n",
        "    def loss(self,yhat, y):\n",
        "        # изменяем функцию потерь\n",
        "        l2_term = (self.l2_penalty/2)*np.sum(np.square(self.weights[1:]))\n",
        "        return np.square(yhat - y).mean() + l2_term\n",
        "\n",
        "    #---------------------------------\n",
        "    def update(self):\n",
        "        # изменяем правило обновление весов\n",
        "        l2_term = self.l2_penalty*np.mean(self.weights[1:])\n",
        "        return self.weights - self.lr*(self.grad + l2_term)\n"
      ]
    },
    {
      "cell_type": "markdown",
      "source": [
        "И снова\n",
        "* Создаем модель-объект\n",
        "\n",
        "* Обучаем через `.fit()`\n",
        "\n",
        "* Оцениваем через `.score()`\n",
        "\n",
        "* Рисуем функцию потерь через `.plot_cost()`"
      ],
      "metadata": {
        "id": "5VVPYqOlJNz_"
      }
    },
    {
      "cell_type": "code",
      "execution_count": null,
      "metadata": {
        "scrolled": false,
        "id": "TnFqAJy5bNac",
        "outputId": "712979a8-ceaf-43c7-b8db-32c5ebfa1baf",
        "colab": {
          "base_uri": "https://localhost:8080/"
        }
      },
      "outputs": [
        {
          "output_type": "stream",
          "name": "stdout",
          "text": [
            "Ошибка на тестовых данных = 0.97, \n",
            " Ошибка на тренировочных данных = 0.95\n"
          ]
        },
        {
          "output_type": "display_data",
          "data": {
            "text/html": [
              "<html>\n",
              "<head><meta charset=\"utf-8\" /></head>\n",
              "<body>\n",
              "    <div>            <script src=\"https://cdnjs.cloudflare.com/ajax/libs/mathjax/2.7.5/MathJax.js?config=TeX-AMS-MML_SVG\"></script><script type=\"text/javascript\">if (window.MathJax && window.MathJax.Hub && window.MathJax.Hub.Config) {window.MathJax.Hub.Config({SVG: {font: \"STIX-Web\"}});}</script>                <script type=\"text/javascript\">window.PlotlyConfig = {MathJaxConfig: 'local'};</script>\n",
              "        <script charset=\"utf-8\" src=\"https://cdn.plot.ly/plotly-2.24.1.min.js\"></script>                <div id=\"4697d658-8e8d-450d-9686-1b173d9eca76\" class=\"plotly-graph-div\" style=\"height:600px; width:1200px;\"></div>            <script type=\"text/javascript\">                                    window.PLOTLYENV=window.PLOTLYENV || {};                                    if (document.getElementById(\"4697d658-8e8d-450d-9686-1b173d9eca76\")) {                    Plotly.newPlot(                        \"4697d658-8e8d-450d-9686-1b173d9eca76\",                        [{\"mode\":\"lines+markers\",\"name\":\"\\u0420\\u0435\\u0430\\u043b\\u044c\\u043d\\u044b\\u0435 \\u0434\\u0430\\u043d\\u043d\\u044b\\u0435\",\"y\":[1.322138682744698,0.6261106058289565,0.6005279239194145,0.5984837930409176,0.5782177909298709,0.5174570576844172,0.43131867126282897,0.49510691999429346,0.4046915223232184,0.4212305600512522,0.412113777342831,0.3777338787106592,0.37872044882936845,0.38488090503560596,0.3322967609425828,0.3571497359147937,0.3400324300081233,0.3572090768579234,0.3307436414185209,0.383338506346601,0.349655430164819,0.3229345350781722,0.29785358610853113,0.29298266740975454,0.31319297175877264,0.3691862389086409,0.4604011761552096,0.313795308968115,0.3636836363580351,0.29796589952375013,0.2716544200271567,0.311991585662096,0.3634935872104356,0.309451737284464,0.26957919765261656,0.28612736827885926,0.2371451759266365,0.3103365933049553,0.24415630987412243,0.2519230392284451,0.24643812868284667,0.2489631580089875,0.27898523952265714,0.24610117648809307,0.22208425192726924,0.2510497202270273,0.2754278422018296,0.224322539275886,0.2573864438271654,0.2232489078228738,0.24742946942360897,0.2203146999504315,0.21616090937395527,0.23512153185682683,0.20432607264504474,0.19774061852788746,0.205476297996714,0.24719982350436653,0.20936865915768307,0.2336730673320535,0.20641231097692783,0.210945016970397,0.20704739539032946,0.17887352681220917,0.19574063149778728,0.20888816567030055,0.20148732025613095,0.1922243513781953,0.2069010382269804,0.2329459760548432,0.2521474588524249,0.3068021556166783,0.2295179959961032,0.21021808533940736,0.19111458281690727,0.24464292814651625,0.19444777243276,0.1636125130677521,0.1917762408143441,0.1853222981896517,0.17534650969564533,0.1749920779462922,0.21679093741204938,0.15819145600178067,0.15056993546454056,0.15836751907305016,0.18311944026565952,0.21241181860785174,0.15559887458749588,0.17766718037491383,0.19572886176888446,0.1924800004071768,0.17929120670406984,0.16842367802429778,0.17403783297478567,0.1402147687266636,0.15273715342490968,0.14359937526809202,0.1450756290059477,0.1639309571121387,0.14779928938563108,0.1752269158120796,0.16305405677671703,0.14487008258324285,0.15206697093360577,0.14366131508122884,0.15869229040288835,0.15951403767965835,0.13323086030548117,0.1493189839940711,0.12805957859405606,0.1288472111294251,0.1286711765428174,0.15608581341441216,0.12725661455813705,0.13839232272814714,0.1591059002045962,0.13418731700234457,0.1259272025329818,0.12337529235909316,0.12964791378880924,0.2058576692264669,0.13444852560068746,0.15464551944074392,0.1393223844170789,0.11871697725981394,0.13120438353670533,0.14348926673487736,0.12642122320836927,0.12535384000476912,0.1288163011292186,0.12514471595475252,0.11054195699466889,0.11466771810218342,0.1314491184350535,0.10656434864461654,0.10238723397628885,0.13031364976271095,0.11350967569149854,0.11933875185287296,0.12311940371456627,0.10852888176468294,0.130942760600798,0.11479698165978625,0.13327558215928445,0.11044037812118009,0.11661537408235119,0.11366717646500157,0.1270863152117263,0.1179972203948525,0.12623320362660698,0.09992319494603036,0.11712749296219038,0.10330198121620149,0.0971726639455215,0.12256061641236897,0.0944426099110841,0.11250672998470736,0.11464707015912645,0.10971865123044189,0.11198471198593705,0.09792994917250365,0.10409334739376593,0.10242130537315823,0.10102060704403759,0.10372996804295999,0.1060604326223052,0.1226654787328838,0.09781410726386408,0.11634037160956173,0.10485958696452798,0.09686030147391372,0.0963912591225204,0.11768191821383168,0.1248815759245235,0.09803144417661099,0.09334946138447354,0.09453426780731904,0.10432503197785177,0.09092803698250777,0.09721233460940625,0.09487854283954335,0.10148479972745937,0.11241249863356356,0.09906081233436125,0.10424447984052887,0.09186641990938656,0.10531571546377207,0.1016902952825414,0.09751078554160664,0.09145335935644894,0.09608449783829047,0.09581772206581236,0.08864240957654869,0.099882832579189,0.09466702335507922,0.10400839918903236,0.08833560982070617,0.09582020243557038,0.0993489376127455,0.10385489693221071,0.10756794509321606,0.08984232563124932,0.0880421401289322,0.08976348404260166,0.0894642358723476,0.08519280595332679,0.112360811381527,0.08845738678416533,0.09759029471882674,0.09678488337403969,0.08957658303310856,0.09221712525877762,0.10872230534769371,0.08536209834655535,0.08965916138919035,0.08806540198071566,0.08907468441677215,0.09485644246259047,0.08597684549075506,0.08830906045943948,0.09514719587845544,0.09590083845199722,0.08525656711004607,0.09540560257233895,0.08485245602419467,0.0942296909799459,0.10165780732405388,0.0905821007411657,0.08708503504631442,0.0843879268692429,0.08930411459336607,0.08814532264949741,0.0898385285236214,0.08471953466501647,0.09272221821453462,0.08326451852807847,0.08652554435471031,0.08441217528103555,0.08698554694153726,0.08876460206206566,0.08516629904175553,0.08520847835295804,0.08838884638440882,0.09503234425481037,0.08770811761832044,0.08791275927862378,0.08016724603002343,0.08638969499442396,0.08968882783725585,0.09325265586643011,0.08750498548644643,0.08601154213734756,0.08202948252743089,0.09991242411393832,0.089763752863801,0.08882330835236542,0.0856096935976634,0.0830204149885898,0.08973727657007764,0.08187679161156851,0.08907626073334318,0.08935724646057354,0.09645123837282699,0.07918363929256325,0.08201176155952196,0.09604651846156437,0.08444474005557297,0.09599769344140545,0.10543205701964543,0.09555066890527081,0.08327876787442197,0.08870674429329241,0.08251650333143301,0.08498934755200394,0.08406479880813979,0.09392519350075786,0.09414633165221475,0.08224488111104537,0.08932833917127327,0.084508072277364,0.08754215217578563,0.07927757337308292,0.08687696693045838,0.08183729065579591,0.0906836061701164,0.08408942008291936,0.08600890549558667,0.07833857483454708,0.09542663597831806,0.09731309209751758,0.08258927128751431,0.08237817166368729,0.08548649193564094,0.08502126045825975,0.08946628488607326,0.08432023289816089,0.09160183929454511,0.08536863749013136,0.08074096025572582],\"type\":\"scatter\"}],                        {\"template\":{\"data\":{\"barpolar\":[{\"marker\":{\"line\":{\"color\":\"rgb(17,17,17)\",\"width\":0.5},\"pattern\":{\"fillmode\":\"overlay\",\"size\":10,\"solidity\":0.2}},\"type\":\"barpolar\"}],\"bar\":[{\"error_x\":{\"color\":\"#f2f5fa\"},\"error_y\":{\"color\":\"#f2f5fa\"},\"marker\":{\"line\":{\"color\":\"rgb(17,17,17)\",\"width\":0.5},\"pattern\":{\"fillmode\":\"overlay\",\"size\":10,\"solidity\":0.2}},\"type\":\"bar\"}],\"carpet\":[{\"aaxis\":{\"endlinecolor\":\"#A2B1C6\",\"gridcolor\":\"#506784\",\"linecolor\":\"#506784\",\"minorgridcolor\":\"#506784\",\"startlinecolor\":\"#A2B1C6\"},\"baxis\":{\"endlinecolor\":\"#A2B1C6\",\"gridcolor\":\"#506784\",\"linecolor\":\"#506784\",\"minorgridcolor\":\"#506784\",\"startlinecolor\":\"#A2B1C6\"},\"type\":\"carpet\"}],\"choropleth\":[{\"colorbar\":{\"outlinewidth\":0,\"ticks\":\"\"},\"type\":\"choropleth\"}],\"contourcarpet\":[{\"colorbar\":{\"outlinewidth\":0,\"ticks\":\"\"},\"type\":\"contourcarpet\"}],\"contour\":[{\"colorbar\":{\"outlinewidth\":0,\"ticks\":\"\"},\"colorscale\":[[0.0,\"#0d0887\"],[0.1111111111111111,\"#46039f\"],[0.2222222222222222,\"#7201a8\"],[0.3333333333333333,\"#9c179e\"],[0.4444444444444444,\"#bd3786\"],[0.5555555555555556,\"#d8576b\"],[0.6666666666666666,\"#ed7953\"],[0.7777777777777778,\"#fb9f3a\"],[0.8888888888888888,\"#fdca26\"],[1.0,\"#f0f921\"]],\"type\":\"contour\"}],\"heatmapgl\":[{\"colorbar\":{\"outlinewidth\":0,\"ticks\":\"\"},\"colorscale\":[[0.0,\"#0d0887\"],[0.1111111111111111,\"#46039f\"],[0.2222222222222222,\"#7201a8\"],[0.3333333333333333,\"#9c179e\"],[0.4444444444444444,\"#bd3786\"],[0.5555555555555556,\"#d8576b\"],[0.6666666666666666,\"#ed7953\"],[0.7777777777777778,\"#fb9f3a\"],[0.8888888888888888,\"#fdca26\"],[1.0,\"#f0f921\"]],\"type\":\"heatmapgl\"}],\"heatmap\":[{\"colorbar\":{\"outlinewidth\":0,\"ticks\":\"\"},\"colorscale\":[[0.0,\"#0d0887\"],[0.1111111111111111,\"#46039f\"],[0.2222222222222222,\"#7201a8\"],[0.3333333333333333,\"#9c179e\"],[0.4444444444444444,\"#bd3786\"],[0.5555555555555556,\"#d8576b\"],[0.6666666666666666,\"#ed7953\"],[0.7777777777777778,\"#fb9f3a\"],[0.8888888888888888,\"#fdca26\"],[1.0,\"#f0f921\"]],\"type\":\"heatmap\"}],\"histogram2dcontour\":[{\"colorbar\":{\"outlinewidth\":0,\"ticks\":\"\"},\"colorscale\":[[0.0,\"#0d0887\"],[0.1111111111111111,\"#46039f\"],[0.2222222222222222,\"#7201a8\"],[0.3333333333333333,\"#9c179e\"],[0.4444444444444444,\"#bd3786\"],[0.5555555555555556,\"#d8576b\"],[0.6666666666666666,\"#ed7953\"],[0.7777777777777778,\"#fb9f3a\"],[0.8888888888888888,\"#fdca26\"],[1.0,\"#f0f921\"]],\"type\":\"histogram2dcontour\"}],\"histogram2d\":[{\"colorbar\":{\"outlinewidth\":0,\"ticks\":\"\"},\"colorscale\":[[0.0,\"#0d0887\"],[0.1111111111111111,\"#46039f\"],[0.2222222222222222,\"#7201a8\"],[0.3333333333333333,\"#9c179e\"],[0.4444444444444444,\"#bd3786\"],[0.5555555555555556,\"#d8576b\"],[0.6666666666666666,\"#ed7953\"],[0.7777777777777778,\"#fb9f3a\"],[0.8888888888888888,\"#fdca26\"],[1.0,\"#f0f921\"]],\"type\":\"histogram2d\"}],\"histogram\":[{\"marker\":{\"pattern\":{\"fillmode\":\"overlay\",\"size\":10,\"solidity\":0.2}},\"type\":\"histogram\"}],\"mesh3d\":[{\"colorbar\":{\"outlinewidth\":0,\"ticks\":\"\"},\"type\":\"mesh3d\"}],\"parcoords\":[{\"line\":{\"colorbar\":{\"outlinewidth\":0,\"ticks\":\"\"}},\"type\":\"parcoords\"}],\"pie\":[{\"automargin\":true,\"type\":\"pie\"}],\"scatter3d\":[{\"line\":{\"colorbar\":{\"outlinewidth\":0,\"ticks\":\"\"}},\"marker\":{\"colorbar\":{\"outlinewidth\":0,\"ticks\":\"\"}},\"type\":\"scatter3d\"}],\"scattercarpet\":[{\"marker\":{\"colorbar\":{\"outlinewidth\":0,\"ticks\":\"\"}},\"type\":\"scattercarpet\"}],\"scattergeo\":[{\"marker\":{\"colorbar\":{\"outlinewidth\":0,\"ticks\":\"\"}},\"type\":\"scattergeo\"}],\"scattergl\":[{\"marker\":{\"line\":{\"color\":\"#283442\"}},\"type\":\"scattergl\"}],\"scattermapbox\":[{\"marker\":{\"colorbar\":{\"outlinewidth\":0,\"ticks\":\"\"}},\"type\":\"scattermapbox\"}],\"scatterpolargl\":[{\"marker\":{\"colorbar\":{\"outlinewidth\":0,\"ticks\":\"\"}},\"type\":\"scatterpolargl\"}],\"scatterpolar\":[{\"marker\":{\"colorbar\":{\"outlinewidth\":0,\"ticks\":\"\"}},\"type\":\"scatterpolar\"}],\"scatter\":[{\"marker\":{\"line\":{\"color\":\"#283442\"}},\"type\":\"scatter\"}],\"scatterternary\":[{\"marker\":{\"colorbar\":{\"outlinewidth\":0,\"ticks\":\"\"}},\"type\":\"scatterternary\"}],\"surface\":[{\"colorbar\":{\"outlinewidth\":0,\"ticks\":\"\"},\"colorscale\":[[0.0,\"#0d0887\"],[0.1111111111111111,\"#46039f\"],[0.2222222222222222,\"#7201a8\"],[0.3333333333333333,\"#9c179e\"],[0.4444444444444444,\"#bd3786\"],[0.5555555555555556,\"#d8576b\"],[0.6666666666666666,\"#ed7953\"],[0.7777777777777778,\"#fb9f3a\"],[0.8888888888888888,\"#fdca26\"],[1.0,\"#f0f921\"]],\"type\":\"surface\"}],\"table\":[{\"cells\":{\"fill\":{\"color\":\"#506784\"},\"line\":{\"color\":\"rgb(17,17,17)\"}},\"header\":{\"fill\":{\"color\":\"#2a3f5f\"},\"line\":{\"color\":\"rgb(17,17,17)\"}},\"type\":\"table\"}]},\"layout\":{\"annotationdefaults\":{\"arrowcolor\":\"#f2f5fa\",\"arrowhead\":0,\"arrowwidth\":1},\"autotypenumbers\":\"strict\",\"coloraxis\":{\"colorbar\":{\"outlinewidth\":0,\"ticks\":\"\"}},\"colorscale\":{\"diverging\":[[0,\"#8e0152\"],[0.1,\"#c51b7d\"],[0.2,\"#de77ae\"],[0.3,\"#f1b6da\"],[0.4,\"#fde0ef\"],[0.5,\"#f7f7f7\"],[0.6,\"#e6f5d0\"],[0.7,\"#b8e186\"],[0.8,\"#7fbc41\"],[0.9,\"#4d9221\"],[1,\"#276419\"]],\"sequential\":[[0.0,\"#0d0887\"],[0.1111111111111111,\"#46039f\"],[0.2222222222222222,\"#7201a8\"],[0.3333333333333333,\"#9c179e\"],[0.4444444444444444,\"#bd3786\"],[0.5555555555555556,\"#d8576b\"],[0.6666666666666666,\"#ed7953\"],[0.7777777777777778,\"#fb9f3a\"],[0.8888888888888888,\"#fdca26\"],[1.0,\"#f0f921\"]],\"sequentialminus\":[[0.0,\"#0d0887\"],[0.1111111111111111,\"#46039f\"],[0.2222222222222222,\"#7201a8\"],[0.3333333333333333,\"#9c179e\"],[0.4444444444444444,\"#bd3786\"],[0.5555555555555556,\"#d8576b\"],[0.6666666666666666,\"#ed7953\"],[0.7777777777777778,\"#fb9f3a\"],[0.8888888888888888,\"#fdca26\"],[1.0,\"#f0f921\"]]},\"colorway\":[\"#636efa\",\"#EF553B\",\"#00cc96\",\"#ab63fa\",\"#FFA15A\",\"#19d3f3\",\"#FF6692\",\"#B6E880\",\"#FF97FF\",\"#FECB52\"],\"font\":{\"color\":\"#f2f5fa\"},\"geo\":{\"bgcolor\":\"rgb(17,17,17)\",\"lakecolor\":\"rgb(17,17,17)\",\"landcolor\":\"rgb(17,17,17)\",\"showlakes\":true,\"showland\":true,\"subunitcolor\":\"#506784\"},\"hoverlabel\":{\"align\":\"left\"},\"hovermode\":\"closest\",\"mapbox\":{\"style\":\"dark\"},\"paper_bgcolor\":\"rgb(17,17,17)\",\"plot_bgcolor\":\"rgb(17,17,17)\",\"polar\":{\"angularaxis\":{\"gridcolor\":\"#506784\",\"linecolor\":\"#506784\",\"ticks\":\"\"},\"bgcolor\":\"rgb(17,17,17)\",\"radialaxis\":{\"gridcolor\":\"#506784\",\"linecolor\":\"#506784\",\"ticks\":\"\"}},\"scene\":{\"xaxis\":{\"backgroundcolor\":\"rgb(17,17,17)\",\"gridcolor\":\"#506784\",\"gridwidth\":2,\"linecolor\":\"#506784\",\"showbackground\":true,\"ticks\":\"\",\"zerolinecolor\":\"#C8D4E3\"},\"yaxis\":{\"backgroundcolor\":\"rgb(17,17,17)\",\"gridcolor\":\"#506784\",\"gridwidth\":2,\"linecolor\":\"#506784\",\"showbackground\":true,\"ticks\":\"\",\"zerolinecolor\":\"#C8D4E3\"},\"zaxis\":{\"backgroundcolor\":\"rgb(17,17,17)\",\"gridcolor\":\"#506784\",\"gridwidth\":2,\"linecolor\":\"#506784\",\"showbackground\":true,\"ticks\":\"\",\"zerolinecolor\":\"#C8D4E3\"}},\"shapedefaults\":{\"line\":{\"color\":\"#f2f5fa\"}},\"sliderdefaults\":{\"bgcolor\":\"#C8D4E3\",\"bordercolor\":\"rgb(17,17,17)\",\"borderwidth\":1,\"tickwidth\":0},\"ternary\":{\"aaxis\":{\"gridcolor\":\"#506784\",\"linecolor\":\"#506784\",\"ticks\":\"\"},\"baxis\":{\"gridcolor\":\"#506784\",\"linecolor\":\"#506784\",\"ticks\":\"\"},\"bgcolor\":\"rgb(17,17,17)\",\"caxis\":{\"gridcolor\":\"#506784\",\"linecolor\":\"#506784\",\"ticks\":\"\"}},\"title\":{\"x\":0.05},\"updatemenudefaults\":{\"bgcolor\":\"#506784\",\"borderwidth\":0},\"xaxis\":{\"automargin\":true,\"gridcolor\":\"#283442\",\"linecolor\":\"#506784\",\"ticks\":\"\",\"title\":{\"standoff\":15},\"zerolinecolor\":\"#283442\",\"zerolinewidth\":2},\"yaxis\":{\"automargin\":true,\"gridcolor\":\"#283442\",\"linecolor\":\"#506784\",\"ticks\":\"\",\"title\":{\"standoff\":15},\"zerolinecolor\":\"#283442\",\"zerolinewidth\":2}}},\"title\":{\"text\":\"\\u041a\\u0440\\u0438\\u0432\\u0430\\u044f \\u043e\\u0431\\u0443\\u0447\\u0435\\u043d\\u0438\\u044f\"},\"width\":1200,\"height\":600},                        {\"responsive\": true}                    ).then(function(){\n",
              "                            \n",
              "var gd = document.getElementById('4697d658-8e8d-450d-9686-1b173d9eca76');\n",
              "var x = new MutationObserver(function (mutations, observer) {{\n",
              "        var display = window.getComputedStyle(gd).display;\n",
              "        if (!display || display === 'none') {{\n",
              "            console.log([gd, 'removed!']);\n",
              "            Plotly.purge(gd);\n",
              "            observer.disconnect();\n",
              "        }}\n",
              "}});\n",
              "\n",
              "// Listen for the removal of the full notebook cells\n",
              "var notebookContainer = gd.closest('#notebook-container');\n",
              "if (notebookContainer) {{\n",
              "    x.observe(notebookContainer, {childList: true});\n",
              "}}\n",
              "\n",
              "// Listen for the clearing of the current output cell\n",
              "var outputEl = gd.closest('.output');\n",
              "if (outputEl) {{\n",
              "    x.observe(outputEl, {childList: true});\n",
              "}}\n",
              "\n",
              "                        })                };                            </script>        </div>\n",
              "</body>\n",
              "</html>"
            ]
          },
          "metadata": {}
        }
      ],
      "source": [
        "regr_l2 = RidgeRegression(learning_rate=0.25,\n",
        "                       epochs=300, batch_size=10,\n",
        "                       l2_penalty = 0.001)\n",
        "regr_l2.fit(x_train_, y_train)\n",
        "\n",
        "print(f'Ошибка на тестовых данных = {regr_l2.score(x_test_, y_test):.2f}, \\n Ошибка на тренировочных данных = {regr_l2.score(x_train_, y_train):.2f}')\n",
        "regr_l2.plot_cost()"
      ]
    },
    {
      "cell_type": "code",
      "source": [
        "w, b = regr_l2.get_w_and_b()\n",
        "print(w,b)"
      ],
      "metadata": {
        "id": "XP6RQum8HL8b",
        "colab": {
          "base_uri": "https://localhost:8080/"
        },
        "outputId": "106c4bd5-3298-467c-a3d1-4701bef6ab2c"
      },
      "execution_count": null,
      "outputs": [
        {
          "output_type": "stream",
          "name": "stdout",
          "text": [
            "[ 5.4568901  -0.31919438 -2.5264715  -2.55100074 -2.46637139 -1.50659708\n",
            "  0.0698673   0.74870062  1.18956599  2.23422861] -1.2891362141228053\n"
          ]
        }
      ]
    },
    {
      "cell_type": "code",
      "source": [
        "vis_weigths(np.hstack([b,w]))"
      ],
      "metadata": {
        "colab": {
          "base_uri": "https://localhost:8080/"
        },
        "id": "uyGkPyFlQP7G",
        "outputId": "a7613ad9-250c-4423-a9d2-2e9c01542354"
      },
      "execution_count": null,
      "outputs": [
        {
          "output_type": "display_data",
          "data": {
            "text/html": [
              "<html>\n",
              "<head><meta charset=\"utf-8\" /></head>\n",
              "<body>\n",
              "    <div>            <script src=\"https://cdnjs.cloudflare.com/ajax/libs/mathjax/2.7.5/MathJax.js?config=TeX-AMS-MML_SVG\"></script><script type=\"text/javascript\">if (window.MathJax && window.MathJax.Hub && window.MathJax.Hub.Config) {window.MathJax.Hub.Config({SVG: {font: \"STIX-Web\"}});}</script>                <script type=\"text/javascript\">window.PlotlyConfig = {MathJaxConfig: 'local'};</script>\n",
              "        <script charset=\"utf-8\" src=\"https://cdn.plot.ly/plotly-2.24.1.min.js\"></script>                <div id=\"5caa5bb6-5d72-4f21-b28c-808cf7ea5145\" class=\"plotly-graph-div\" style=\"height:600px; width:1200px;\"></div>            <script type=\"text/javascript\">                                    window.PLOTLYENV=window.PLOTLYENV || {};                                    if (document.getElementById(\"5caa5bb6-5d72-4f21-b28c-808cf7ea5145\")) {                    Plotly.newPlot(                        \"5caa5bb6-5d72-4f21-b28c-808cf7ea5145\",                        [{\"marker\":{\"color\":\"red\"},\"name\":\"\\u043e\\u0442\\u0440\\u0438\\u0446\\u0430\\u0442\\u0435\\u043b\\u044c\\u043d\\u044b\\u0435 \\u0432\\u0435\\u0441\\u0430\",\"x\":[0,2,3,4,5,6],\"y\":[-1.2891362141228053,-0.31919437778847376,-2.5264714972905113,-2.5510007381302313,-2.466371388796993,-1.506597080928397],\"type\":\"bar\"},{\"marker\":{\"color\":\"blue\"},\"name\":\"\\u043f\\u043e\\u043b\\u043e\\u0436\\u0438\\u0442\\u0435\\u043b\\u044c\\u043d\\u044b\\u0435 \\u0432\\u0435\\u0441\\u0430\",\"x\":[1,7,8,9,10],\"y\":[5.456890097132459,0.0698672954272307,0.7487006216868967,1.1895659885157637,2.2342286079765428],\"type\":\"bar\"}],                        {\"template\":{\"data\":{\"barpolar\":[{\"marker\":{\"line\":{\"color\":\"rgb(17,17,17)\",\"width\":0.5},\"pattern\":{\"fillmode\":\"overlay\",\"size\":10,\"solidity\":0.2}},\"type\":\"barpolar\"}],\"bar\":[{\"error_x\":{\"color\":\"#f2f5fa\"},\"error_y\":{\"color\":\"#f2f5fa\"},\"marker\":{\"line\":{\"color\":\"rgb(17,17,17)\",\"width\":0.5},\"pattern\":{\"fillmode\":\"overlay\",\"size\":10,\"solidity\":0.2}},\"type\":\"bar\"}],\"carpet\":[{\"aaxis\":{\"endlinecolor\":\"#A2B1C6\",\"gridcolor\":\"#506784\",\"linecolor\":\"#506784\",\"minorgridcolor\":\"#506784\",\"startlinecolor\":\"#A2B1C6\"},\"baxis\":{\"endlinecolor\":\"#A2B1C6\",\"gridcolor\":\"#506784\",\"linecolor\":\"#506784\",\"minorgridcolor\":\"#506784\",\"startlinecolor\":\"#A2B1C6\"},\"type\":\"carpet\"}],\"choropleth\":[{\"colorbar\":{\"outlinewidth\":0,\"ticks\":\"\"},\"type\":\"choropleth\"}],\"contourcarpet\":[{\"colorbar\":{\"outlinewidth\":0,\"ticks\":\"\"},\"type\":\"contourcarpet\"}],\"contour\":[{\"colorbar\":{\"outlinewidth\":0,\"ticks\":\"\"},\"colorscale\":[[0.0,\"#0d0887\"],[0.1111111111111111,\"#46039f\"],[0.2222222222222222,\"#7201a8\"],[0.3333333333333333,\"#9c179e\"],[0.4444444444444444,\"#bd3786\"],[0.5555555555555556,\"#d8576b\"],[0.6666666666666666,\"#ed7953\"],[0.7777777777777778,\"#fb9f3a\"],[0.8888888888888888,\"#fdca26\"],[1.0,\"#f0f921\"]],\"type\":\"contour\"}],\"heatmapgl\":[{\"colorbar\":{\"outlinewidth\":0,\"ticks\":\"\"},\"colorscale\":[[0.0,\"#0d0887\"],[0.1111111111111111,\"#46039f\"],[0.2222222222222222,\"#7201a8\"],[0.3333333333333333,\"#9c179e\"],[0.4444444444444444,\"#bd3786\"],[0.5555555555555556,\"#d8576b\"],[0.6666666666666666,\"#ed7953\"],[0.7777777777777778,\"#fb9f3a\"],[0.8888888888888888,\"#fdca26\"],[1.0,\"#f0f921\"]],\"type\":\"heatmapgl\"}],\"heatmap\":[{\"colorbar\":{\"outlinewidth\":0,\"ticks\":\"\"},\"colorscale\":[[0.0,\"#0d0887\"],[0.1111111111111111,\"#46039f\"],[0.2222222222222222,\"#7201a8\"],[0.3333333333333333,\"#9c179e\"],[0.4444444444444444,\"#bd3786\"],[0.5555555555555556,\"#d8576b\"],[0.6666666666666666,\"#ed7953\"],[0.7777777777777778,\"#fb9f3a\"],[0.8888888888888888,\"#fdca26\"],[1.0,\"#f0f921\"]],\"type\":\"heatmap\"}],\"histogram2dcontour\":[{\"colorbar\":{\"outlinewidth\":0,\"ticks\":\"\"},\"colorscale\":[[0.0,\"#0d0887\"],[0.1111111111111111,\"#46039f\"],[0.2222222222222222,\"#7201a8\"],[0.3333333333333333,\"#9c179e\"],[0.4444444444444444,\"#bd3786\"],[0.5555555555555556,\"#d8576b\"],[0.6666666666666666,\"#ed7953\"],[0.7777777777777778,\"#fb9f3a\"],[0.8888888888888888,\"#fdca26\"],[1.0,\"#f0f921\"]],\"type\":\"histogram2dcontour\"}],\"histogram2d\":[{\"colorbar\":{\"outlinewidth\":0,\"ticks\":\"\"},\"colorscale\":[[0.0,\"#0d0887\"],[0.1111111111111111,\"#46039f\"],[0.2222222222222222,\"#7201a8\"],[0.3333333333333333,\"#9c179e\"],[0.4444444444444444,\"#bd3786\"],[0.5555555555555556,\"#d8576b\"],[0.6666666666666666,\"#ed7953\"],[0.7777777777777778,\"#fb9f3a\"],[0.8888888888888888,\"#fdca26\"],[1.0,\"#f0f921\"]],\"type\":\"histogram2d\"}],\"histogram\":[{\"marker\":{\"pattern\":{\"fillmode\":\"overlay\",\"size\":10,\"solidity\":0.2}},\"type\":\"histogram\"}],\"mesh3d\":[{\"colorbar\":{\"outlinewidth\":0,\"ticks\":\"\"},\"type\":\"mesh3d\"}],\"parcoords\":[{\"line\":{\"colorbar\":{\"outlinewidth\":0,\"ticks\":\"\"}},\"type\":\"parcoords\"}],\"pie\":[{\"automargin\":true,\"type\":\"pie\"}],\"scatter3d\":[{\"line\":{\"colorbar\":{\"outlinewidth\":0,\"ticks\":\"\"}},\"marker\":{\"colorbar\":{\"outlinewidth\":0,\"ticks\":\"\"}},\"type\":\"scatter3d\"}],\"scattercarpet\":[{\"marker\":{\"colorbar\":{\"outlinewidth\":0,\"ticks\":\"\"}},\"type\":\"scattercarpet\"}],\"scattergeo\":[{\"marker\":{\"colorbar\":{\"outlinewidth\":0,\"ticks\":\"\"}},\"type\":\"scattergeo\"}],\"scattergl\":[{\"marker\":{\"line\":{\"color\":\"#283442\"}},\"type\":\"scattergl\"}],\"scattermapbox\":[{\"marker\":{\"colorbar\":{\"outlinewidth\":0,\"ticks\":\"\"}},\"type\":\"scattermapbox\"}],\"scatterpolargl\":[{\"marker\":{\"colorbar\":{\"outlinewidth\":0,\"ticks\":\"\"}},\"type\":\"scatterpolargl\"}],\"scatterpolar\":[{\"marker\":{\"colorbar\":{\"outlinewidth\":0,\"ticks\":\"\"}},\"type\":\"scatterpolar\"}],\"scatter\":[{\"marker\":{\"line\":{\"color\":\"#283442\"}},\"type\":\"scatter\"}],\"scatterternary\":[{\"marker\":{\"colorbar\":{\"outlinewidth\":0,\"ticks\":\"\"}},\"type\":\"scatterternary\"}],\"surface\":[{\"colorbar\":{\"outlinewidth\":0,\"ticks\":\"\"},\"colorscale\":[[0.0,\"#0d0887\"],[0.1111111111111111,\"#46039f\"],[0.2222222222222222,\"#7201a8\"],[0.3333333333333333,\"#9c179e\"],[0.4444444444444444,\"#bd3786\"],[0.5555555555555556,\"#d8576b\"],[0.6666666666666666,\"#ed7953\"],[0.7777777777777778,\"#fb9f3a\"],[0.8888888888888888,\"#fdca26\"],[1.0,\"#f0f921\"]],\"type\":\"surface\"}],\"table\":[{\"cells\":{\"fill\":{\"color\":\"#506784\"},\"line\":{\"color\":\"rgb(17,17,17)\"}},\"header\":{\"fill\":{\"color\":\"#2a3f5f\"},\"line\":{\"color\":\"rgb(17,17,17)\"}},\"type\":\"table\"}]},\"layout\":{\"annotationdefaults\":{\"arrowcolor\":\"#f2f5fa\",\"arrowhead\":0,\"arrowwidth\":1},\"autotypenumbers\":\"strict\",\"coloraxis\":{\"colorbar\":{\"outlinewidth\":0,\"ticks\":\"\"}},\"colorscale\":{\"diverging\":[[0,\"#8e0152\"],[0.1,\"#c51b7d\"],[0.2,\"#de77ae\"],[0.3,\"#f1b6da\"],[0.4,\"#fde0ef\"],[0.5,\"#f7f7f7\"],[0.6,\"#e6f5d0\"],[0.7,\"#b8e186\"],[0.8,\"#7fbc41\"],[0.9,\"#4d9221\"],[1,\"#276419\"]],\"sequential\":[[0.0,\"#0d0887\"],[0.1111111111111111,\"#46039f\"],[0.2222222222222222,\"#7201a8\"],[0.3333333333333333,\"#9c179e\"],[0.4444444444444444,\"#bd3786\"],[0.5555555555555556,\"#d8576b\"],[0.6666666666666666,\"#ed7953\"],[0.7777777777777778,\"#fb9f3a\"],[0.8888888888888888,\"#fdca26\"],[1.0,\"#f0f921\"]],\"sequentialminus\":[[0.0,\"#0d0887\"],[0.1111111111111111,\"#46039f\"],[0.2222222222222222,\"#7201a8\"],[0.3333333333333333,\"#9c179e\"],[0.4444444444444444,\"#bd3786\"],[0.5555555555555556,\"#d8576b\"],[0.6666666666666666,\"#ed7953\"],[0.7777777777777778,\"#fb9f3a\"],[0.8888888888888888,\"#fdca26\"],[1.0,\"#f0f921\"]]},\"colorway\":[\"#636efa\",\"#EF553B\",\"#00cc96\",\"#ab63fa\",\"#FFA15A\",\"#19d3f3\",\"#FF6692\",\"#B6E880\",\"#FF97FF\",\"#FECB52\"],\"font\":{\"color\":\"#f2f5fa\"},\"geo\":{\"bgcolor\":\"rgb(17,17,17)\",\"lakecolor\":\"rgb(17,17,17)\",\"landcolor\":\"rgb(17,17,17)\",\"showlakes\":true,\"showland\":true,\"subunitcolor\":\"#506784\"},\"hoverlabel\":{\"align\":\"left\"},\"hovermode\":\"closest\",\"mapbox\":{\"style\":\"dark\"},\"paper_bgcolor\":\"rgb(17,17,17)\",\"plot_bgcolor\":\"rgb(17,17,17)\",\"polar\":{\"angularaxis\":{\"gridcolor\":\"#506784\",\"linecolor\":\"#506784\",\"ticks\":\"\"},\"bgcolor\":\"rgb(17,17,17)\",\"radialaxis\":{\"gridcolor\":\"#506784\",\"linecolor\":\"#506784\",\"ticks\":\"\"}},\"scene\":{\"xaxis\":{\"backgroundcolor\":\"rgb(17,17,17)\",\"gridcolor\":\"#506784\",\"gridwidth\":2,\"linecolor\":\"#506784\",\"showbackground\":true,\"ticks\":\"\",\"zerolinecolor\":\"#C8D4E3\"},\"yaxis\":{\"backgroundcolor\":\"rgb(17,17,17)\",\"gridcolor\":\"#506784\",\"gridwidth\":2,\"linecolor\":\"#506784\",\"showbackground\":true,\"ticks\":\"\",\"zerolinecolor\":\"#C8D4E3\"},\"zaxis\":{\"backgroundcolor\":\"rgb(17,17,17)\",\"gridcolor\":\"#506784\",\"gridwidth\":2,\"linecolor\":\"#506784\",\"showbackground\":true,\"ticks\":\"\",\"zerolinecolor\":\"#C8D4E3\"}},\"shapedefaults\":{\"line\":{\"color\":\"#f2f5fa\"}},\"sliderdefaults\":{\"bgcolor\":\"#C8D4E3\",\"bordercolor\":\"rgb(17,17,17)\",\"borderwidth\":1,\"tickwidth\":0},\"ternary\":{\"aaxis\":{\"gridcolor\":\"#506784\",\"linecolor\":\"#506784\",\"ticks\":\"\"},\"baxis\":{\"gridcolor\":\"#506784\",\"linecolor\":\"#506784\",\"ticks\":\"\"},\"bgcolor\":\"rgb(17,17,17)\",\"caxis\":{\"gridcolor\":\"#506784\",\"linecolor\":\"#506784\",\"ticks\":\"\"}},\"title\":{\"x\":0.05},\"updatemenudefaults\":{\"bgcolor\":\"#506784\",\"borderwidth\":0},\"xaxis\":{\"automargin\":true,\"gridcolor\":\"#283442\",\"linecolor\":\"#506784\",\"ticks\":\"\",\"title\":{\"standoff\":15},\"zerolinecolor\":\"#283442\",\"zerolinewidth\":2},\"yaxis\":{\"automargin\":true,\"gridcolor\":\"#283442\",\"linecolor\":\"#506784\",\"ticks\":\"\",\"title\":{\"standoff\":15},\"zerolinecolor\":\"#283442\",\"zerolinewidth\":2}}},\"xaxis\":{\"tickmode\":\"array\",\"tickvals\":[0,1,2,3,4,5,6,7,8,9,10],\"ticktext\":[\"w0\",\"w1\",\"w2\",\"w3\",\"w4\",\"w5\",\"w6\",\"w7\",\"w8\",\"w9\",\"w10\"]},\"title\":{\"text\":\"\\u0412\\u0435\\u0441\\u0430 \\u043c\\u043e\\u0434\\u0435\\u043b\\u0438\"},\"width\":1200,\"height\":600},                        {\"responsive\": true}                    ).then(function(){\n",
              "                            \n",
              "var gd = document.getElementById('5caa5bb6-5d72-4f21-b28c-808cf7ea5145');\n",
              "var x = new MutationObserver(function (mutations, observer) {{\n",
              "        var display = window.getComputedStyle(gd).display;\n",
              "        if (!display || display === 'none') {{\n",
              "            console.log([gd, 'removed!']);\n",
              "            Plotly.purge(gd);\n",
              "            observer.disconnect();\n",
              "        }}\n",
              "}});\n",
              "\n",
              "// Listen for the removal of the full notebook cells\n",
              "var notebookContainer = gd.closest('#notebook-container');\n",
              "if (notebookContainer) {{\n",
              "    x.observe(notebookContainer, {childList: true});\n",
              "}}\n",
              "\n",
              "// Listen for the clearing of the current output cell\n",
              "var outputEl = gd.closest('.output');\n",
              "if (outputEl) {{\n",
              "    x.observe(outputEl, {childList: true});\n",
              "}}\n",
              "\n",
              "                        })                };                            </script>        </div>\n",
              "</body>\n",
              "</html>"
            ]
          },
          "metadata": {}
        }
      ]
    },
    {
      "cell_type": "code",
      "source": [
        "np.sum(np.abs(w))"
      ],
      "metadata": {
        "id": "9ifbUclUa4ik",
        "colab": {
          "base_uri": "https://localhost:8080/"
        },
        "outputId": "2e4f1261-749c-489c-b2b3-a71815c18cdb"
      },
      "execution_count": null,
      "outputs": [
        {
          "output_type": "execute_result",
          "data": {
            "text/plain": [
              "19.0688876936735"
            ]
          },
          "metadata": {},
          "execution_count": 93
        }
      ]
    },
    {
      "cell_type": "markdown",
      "source": [
        "Посмотрим на результат."
      ],
      "metadata": {
        "id": "hgdW6eBmJZHA"
      }
    },
    {
      "cell_type": "code",
      "source": [
        "plot_model_class(x_train_, y_train, x_test_, x, y_true, regr_l2);"
      ],
      "metadata": {
        "colab": {
          "base_uri": "https://localhost:8080/"
        },
        "id": "Mp2WIP07JSDa",
        "outputId": "4b5cca3a-1665-4bae-e973-5d0520557954"
      },
      "execution_count": null,
      "outputs": [
        {
          "output_type": "display_data",
          "data": {
            "text/html": [
              "<html>\n",
              "<head><meta charset=\"utf-8\" /></head>\n",
              "<body>\n",
              "    <div>            <script src=\"https://cdnjs.cloudflare.com/ajax/libs/mathjax/2.7.5/MathJax.js?config=TeX-AMS-MML_SVG\"></script><script type=\"text/javascript\">if (window.MathJax && window.MathJax.Hub && window.MathJax.Hub.Config) {window.MathJax.Hub.Config({SVG: {font: \"STIX-Web\"}});}</script>                <script type=\"text/javascript\">window.PlotlyConfig = {MathJaxConfig: 'local'};</script>\n",
              "        <script charset=\"utf-8\" src=\"https://cdn.plot.ly/plotly-2.24.1.min.js\"></script>                <div id=\"ba647d41-134e-413e-893e-87415134417f\" class=\"plotly-graph-div\" style=\"height:600px; width:1200px;\"></div>            <script type=\"text/javascript\">                                    window.PLOTLYENV=window.PLOTLYENV || {};                                    if (document.getElementById(\"ba647d41-134e-413e-893e-87415134417f\")) {                    Plotly.newPlot(                        \"ba647d41-134e-413e-893e-87415134417f\",                        [{\"marker\":{\"color\":\"Blue\",\"size\":5},\"mode\":\"markers\",\"name\":\"\\u041f\\u0440\\u0435\\u0434\\u0441\\u043a\\u0430\\u0437\\u0430\\u043d\\u0438\\u0435 \\u043d\\u0430 x_test\",\"x\":[0.04864275845245291,0.8717318949578305,0.6362194811532859,0.39221749528184063,0.7665422633556482,0.17857244474527742,0.3836532251490256,0.3059331605412711,1.0156872220654944,0.31899079313911943,0.14607762928177764,0.8465517233413815,0.20909789571439721,0.5385050446476917,0.7165271498113673],\"y\":[-1.0247590351175229,-0.63585698142904,0.6954747336417771,0.5618356485420077,0.0944613271547591,-0.3423403210242235,0.5349998638229015,0.24801677852764492,-0.8532611551529441,0.30109726849189766,-0.5080330604641882,-0.4608939609189815,-0.19114823689120938,0.8147056426626351,0.3831575526870378],\"type\":\"scatter\"},{\"marker\":{\"color\":\"LightSkyBlue\",\"size\":10},\"mode\":\"markers\",\"name\":\"\\u041f\\u0440\\u0435\\u0434\\u0441\\u043a\\u0430\\u0437\\u0430\\u043d\\u0438\\u0435 \\u043d\\u0430 x_train\",\"x\":[0.1935791331541123,0.7414918695374813,0.5495236501799443,0.9522380983100062,0.3049744424524801,1.0112075003926706,0.47759537064635094,0.46092661359718623,0.620375085805519,0.3186017317977882,0.19206075359692815,0.06812186887562248,0.6937917137886659,0.16335707969615926,0.060825016427191375,0.12779814068180767,0.8222343440291981,0.9936706109775585,0.995585693560036,0.2223609967255541,0.16338233821234197,0.2709937630302383,0.45233176577359235,0.6294861682850023,0.5725136657422902,0.021556032019184653,0.9070575387604193,0.5185480476776199,0.6269136986542038,0.1022819986076801,0.5446139582330638,0.19040666040567744,0.6407308530458254,0.03601157510112919,0.3264230755616875],\"y\":[-0.2674132897769983,0.24712131579443206,0.814539457834333,-1.0244160095876493,0.24405177990811128,-0.8888742401883083,0.7624628758678568,0.733886047072866,0.7336870365998599,0.2995411225649654,-0.2749436915437694,-0.9197412985478057,0.49153209200232945,-0.4193774604775563,-0.9590072888384935,-0.603013377366885,-0.2869085912064067,-0.9886401239480067,-0.9806038788528793,-0.1270472279081868,-0.4192487427980227,0.09801082141452643,0.7169853766078378,0.7126483420606817,0.80382686115693,-1.171681502392483,-0.8526837943426578,0.8071974496364498,0.718843990044296,-0.7373457958872005,0.8150016397900369,-0.2831605053136132,0.6831905222105302,-1.093161380203706,0.33051408207561456],\"type\":\"scatter\"},{\"marker\":{\"color\":\"Red\",\"size\":5},\"mode\":\"markers\",\"name\":\"\\u0422\\u0440\\u0435\\u043d\\u0438\\u0440\\u043e\\u0432\\u043e\\u0447\\u043d\\u044b\\u0435 \\u0434\\u0430\\u043d\\u043d\\u044b\\u0435\",\"x\":[0.1935791331541123,0.7414918695374813,0.5495236501799443,0.9522380983100062,0.3049744424524801,1.0112075003926706,0.47759537064635094,0.46092661359718623,0.620375085805519,0.3186017317977882,0.19206075359692815,0.06812186887562248,0.6937917137886659,0.16335707969615926,0.060825016427191375,0.12779814068180767,0.8222343440291981,0.9936706109775585,0.995585693560036,0.2223609967255541,0.16338233821234197,0.2709937630302383,0.45233176577359235,0.6294861682850023,0.5725136657422902,0.021556032019184653,0.9070575387604193,0.5185480476776199,0.6269136986542038,0.1022819986076801,0.5446139582330638,0.19040666040567744,0.6407308530458254,0.03601157510112919,0.3264230755616875],\"y\":[-0.2859564595462624,-0.1453241894066141,0.9881167017483331,-1.0054835593161149,0.30766558901833774,-1.0504976409579565,0.9829069002541185,1.1056386336255508,0.7237707054079208,0.5153680456168184,-0.4237473950348616,-1.0576406053102159,0.3159704144520749,-0.4835375519098044,-0.957966113287652,-0.7406302067305153,-0.4027283437201781,-0.9076691167366973,-0.9667402734682089,-0.07966140075010146,-0.694067627940149,0.04760375926911199,1.0367342487283842,0.42492249897236334,1.0517934539878466,-0.9169952841417408,-0.9151271740983736,1.0935700908838861,0.8550178965734798,-0.8724907503746768,0.8964555976619756,-0.4042558886414683,0.6425837258651887,-0.9573737312130097,0.4433732359063325],\"type\":\"scatter\"},{\"marker\":{\"color\":\"green\",\"size\":10},\"mode\":\"lines+markers\",\"name\":\"\\u0418\\u0441\\u0442\\u0438\\u043d\\u043d\\u044b\\u0435 \\u0437\\u043d\\u0430\\u0447\\u0435\\u043d\\u0438\\u044f\",\"opacity\":0.7,\"x\":[0.021556032019184653,0.03601157510112919,0.04864275845245291,0.060825016427191375,0.06812186887562248,0.1022819986076801,0.12779814068180767,0.14607762928177764,0.16335707969615926,0.16338233821234197,0.17857244474527742,0.19040666040567744,0.19206075359692815,0.1935791331541123,0.20909789571439721,0.2223609967255541,0.2709937630302383,0.3049744424524801,0.3059331605412711,0.3186017317977882,0.31899079313911943,0.3264230755616875,0.3836532251490256,0.39221749528184063,0.45233176577359235,0.46092661359718623,0.47759537064635094,0.5185480476776199,0.5385050446476917,0.5446139582330638,0.5495236501799443,0.5725136657422902,0.620375085805519,0.6269136986542038,0.6294861682850023,0.6362194811532859,0.6407308530458254,0.6937917137886659,0.7165271498113673,0.7414918695374813,0.7665422633556482,0.8222343440291981,0.8465517233413815,0.8717318949578305,0.9070575387604193,0.9522380983100062,0.9936706109775585,0.995585693560036,1.0112075003926706,1.0156872220654944],\"y\":[-0.9908419421412819,-0.9745105593320068,-0.953657137715219,-0.9278557437287231,-0.9097884062734731,-0.800506329535206,-0.6945663296345366,-0.6075429493019043,-0.5178993808666505,-0.5177636124038756,-0.43387798659494153,-0.3657476605998366,-0.3560551950042657,-0.3471240884303492,-0.2541758778940944,-0.17278941266172132,0.13152551159137585,0.3385868266034592,0.3442486577060824,0.41781353290458245,0.42003323117514924,0.4619391335727142,0.7444882355469523,0.7793193543026911,0.9554816664889644,0.9700146307684685,0.9901079124121519,0.9932168010946837,0.970876362435546,0.960967573122488,0.9519771411974917,0.8979897973412496,0.727353309318916,0.6985535309920792,0.6868970093813378,0.6555449883551803,0.6338790190413717,0.34587114949866166,0.20876906504156134,0.053432702053475195,-0.1037510643140196,-0.4384396008713527,-0.5701203765525372,-0.6924389229841701,-0.8342778138090549,-0.9553078549576611,-0.9992093285069047,-0.9996153844341773,-0.9975216205812526,-0.9951463305468402],\"type\":\"scatter\"}],                        {\"template\":{\"data\":{\"barpolar\":[{\"marker\":{\"line\":{\"color\":\"rgb(17,17,17)\",\"width\":0.5},\"pattern\":{\"fillmode\":\"overlay\",\"size\":10,\"solidity\":0.2}},\"type\":\"barpolar\"}],\"bar\":[{\"error_x\":{\"color\":\"#f2f5fa\"},\"error_y\":{\"color\":\"#f2f5fa\"},\"marker\":{\"line\":{\"color\":\"rgb(17,17,17)\",\"width\":0.5},\"pattern\":{\"fillmode\":\"overlay\",\"size\":10,\"solidity\":0.2}},\"type\":\"bar\"}],\"carpet\":[{\"aaxis\":{\"endlinecolor\":\"#A2B1C6\",\"gridcolor\":\"#506784\",\"linecolor\":\"#506784\",\"minorgridcolor\":\"#506784\",\"startlinecolor\":\"#A2B1C6\"},\"baxis\":{\"endlinecolor\":\"#A2B1C6\",\"gridcolor\":\"#506784\",\"linecolor\":\"#506784\",\"minorgridcolor\":\"#506784\",\"startlinecolor\":\"#A2B1C6\"},\"type\":\"carpet\"}],\"choropleth\":[{\"colorbar\":{\"outlinewidth\":0,\"ticks\":\"\"},\"type\":\"choropleth\"}],\"contourcarpet\":[{\"colorbar\":{\"outlinewidth\":0,\"ticks\":\"\"},\"type\":\"contourcarpet\"}],\"contour\":[{\"colorbar\":{\"outlinewidth\":0,\"ticks\":\"\"},\"colorscale\":[[0.0,\"#0d0887\"],[0.1111111111111111,\"#46039f\"],[0.2222222222222222,\"#7201a8\"],[0.3333333333333333,\"#9c179e\"],[0.4444444444444444,\"#bd3786\"],[0.5555555555555556,\"#d8576b\"],[0.6666666666666666,\"#ed7953\"],[0.7777777777777778,\"#fb9f3a\"],[0.8888888888888888,\"#fdca26\"],[1.0,\"#f0f921\"]],\"type\":\"contour\"}],\"heatmapgl\":[{\"colorbar\":{\"outlinewidth\":0,\"ticks\":\"\"},\"colorscale\":[[0.0,\"#0d0887\"],[0.1111111111111111,\"#46039f\"],[0.2222222222222222,\"#7201a8\"],[0.3333333333333333,\"#9c179e\"],[0.4444444444444444,\"#bd3786\"],[0.5555555555555556,\"#d8576b\"],[0.6666666666666666,\"#ed7953\"],[0.7777777777777778,\"#fb9f3a\"],[0.8888888888888888,\"#fdca26\"],[1.0,\"#f0f921\"]],\"type\":\"heatmapgl\"}],\"heatmap\":[{\"colorbar\":{\"outlinewidth\":0,\"ticks\":\"\"},\"colorscale\":[[0.0,\"#0d0887\"],[0.1111111111111111,\"#46039f\"],[0.2222222222222222,\"#7201a8\"],[0.3333333333333333,\"#9c179e\"],[0.4444444444444444,\"#bd3786\"],[0.5555555555555556,\"#d8576b\"],[0.6666666666666666,\"#ed7953\"],[0.7777777777777778,\"#fb9f3a\"],[0.8888888888888888,\"#fdca26\"],[1.0,\"#f0f921\"]],\"type\":\"heatmap\"}],\"histogram2dcontour\":[{\"colorbar\":{\"outlinewidth\":0,\"ticks\":\"\"},\"colorscale\":[[0.0,\"#0d0887\"],[0.1111111111111111,\"#46039f\"],[0.2222222222222222,\"#7201a8\"],[0.3333333333333333,\"#9c179e\"],[0.4444444444444444,\"#bd3786\"],[0.5555555555555556,\"#d8576b\"],[0.6666666666666666,\"#ed7953\"],[0.7777777777777778,\"#fb9f3a\"],[0.8888888888888888,\"#fdca26\"],[1.0,\"#f0f921\"]],\"type\":\"histogram2dcontour\"}],\"histogram2d\":[{\"colorbar\":{\"outlinewidth\":0,\"ticks\":\"\"},\"colorscale\":[[0.0,\"#0d0887\"],[0.1111111111111111,\"#46039f\"],[0.2222222222222222,\"#7201a8\"],[0.3333333333333333,\"#9c179e\"],[0.4444444444444444,\"#bd3786\"],[0.5555555555555556,\"#d8576b\"],[0.6666666666666666,\"#ed7953\"],[0.7777777777777778,\"#fb9f3a\"],[0.8888888888888888,\"#fdca26\"],[1.0,\"#f0f921\"]],\"type\":\"histogram2d\"}],\"histogram\":[{\"marker\":{\"pattern\":{\"fillmode\":\"overlay\",\"size\":10,\"solidity\":0.2}},\"type\":\"histogram\"}],\"mesh3d\":[{\"colorbar\":{\"outlinewidth\":0,\"ticks\":\"\"},\"type\":\"mesh3d\"}],\"parcoords\":[{\"line\":{\"colorbar\":{\"outlinewidth\":0,\"ticks\":\"\"}},\"type\":\"parcoords\"}],\"pie\":[{\"automargin\":true,\"type\":\"pie\"}],\"scatter3d\":[{\"line\":{\"colorbar\":{\"outlinewidth\":0,\"ticks\":\"\"}},\"marker\":{\"colorbar\":{\"outlinewidth\":0,\"ticks\":\"\"}},\"type\":\"scatter3d\"}],\"scattercarpet\":[{\"marker\":{\"colorbar\":{\"outlinewidth\":0,\"ticks\":\"\"}},\"type\":\"scattercarpet\"}],\"scattergeo\":[{\"marker\":{\"colorbar\":{\"outlinewidth\":0,\"ticks\":\"\"}},\"type\":\"scattergeo\"}],\"scattergl\":[{\"marker\":{\"line\":{\"color\":\"#283442\"}},\"type\":\"scattergl\"}],\"scattermapbox\":[{\"marker\":{\"colorbar\":{\"outlinewidth\":0,\"ticks\":\"\"}},\"type\":\"scattermapbox\"}],\"scatterpolargl\":[{\"marker\":{\"colorbar\":{\"outlinewidth\":0,\"ticks\":\"\"}},\"type\":\"scatterpolargl\"}],\"scatterpolar\":[{\"marker\":{\"colorbar\":{\"outlinewidth\":0,\"ticks\":\"\"}},\"type\":\"scatterpolar\"}],\"scatter\":[{\"marker\":{\"line\":{\"color\":\"#283442\"}},\"type\":\"scatter\"}],\"scatterternary\":[{\"marker\":{\"colorbar\":{\"outlinewidth\":0,\"ticks\":\"\"}},\"type\":\"scatterternary\"}],\"surface\":[{\"colorbar\":{\"outlinewidth\":0,\"ticks\":\"\"},\"colorscale\":[[0.0,\"#0d0887\"],[0.1111111111111111,\"#46039f\"],[0.2222222222222222,\"#7201a8\"],[0.3333333333333333,\"#9c179e\"],[0.4444444444444444,\"#bd3786\"],[0.5555555555555556,\"#d8576b\"],[0.6666666666666666,\"#ed7953\"],[0.7777777777777778,\"#fb9f3a\"],[0.8888888888888888,\"#fdca26\"],[1.0,\"#f0f921\"]],\"type\":\"surface\"}],\"table\":[{\"cells\":{\"fill\":{\"color\":\"#506784\"},\"line\":{\"color\":\"rgb(17,17,17)\"}},\"header\":{\"fill\":{\"color\":\"#2a3f5f\"},\"line\":{\"color\":\"rgb(17,17,17)\"}},\"type\":\"table\"}]},\"layout\":{\"annotationdefaults\":{\"arrowcolor\":\"#f2f5fa\",\"arrowhead\":0,\"arrowwidth\":1},\"autotypenumbers\":\"strict\",\"coloraxis\":{\"colorbar\":{\"outlinewidth\":0,\"ticks\":\"\"}},\"colorscale\":{\"diverging\":[[0,\"#8e0152\"],[0.1,\"#c51b7d\"],[0.2,\"#de77ae\"],[0.3,\"#f1b6da\"],[0.4,\"#fde0ef\"],[0.5,\"#f7f7f7\"],[0.6,\"#e6f5d0\"],[0.7,\"#b8e186\"],[0.8,\"#7fbc41\"],[0.9,\"#4d9221\"],[1,\"#276419\"]],\"sequential\":[[0.0,\"#0d0887\"],[0.1111111111111111,\"#46039f\"],[0.2222222222222222,\"#7201a8\"],[0.3333333333333333,\"#9c179e\"],[0.4444444444444444,\"#bd3786\"],[0.5555555555555556,\"#d8576b\"],[0.6666666666666666,\"#ed7953\"],[0.7777777777777778,\"#fb9f3a\"],[0.8888888888888888,\"#fdca26\"],[1.0,\"#f0f921\"]],\"sequentialminus\":[[0.0,\"#0d0887\"],[0.1111111111111111,\"#46039f\"],[0.2222222222222222,\"#7201a8\"],[0.3333333333333333,\"#9c179e\"],[0.4444444444444444,\"#bd3786\"],[0.5555555555555556,\"#d8576b\"],[0.6666666666666666,\"#ed7953\"],[0.7777777777777778,\"#fb9f3a\"],[0.8888888888888888,\"#fdca26\"],[1.0,\"#f0f921\"]]},\"colorway\":[\"#636efa\",\"#EF553B\",\"#00cc96\",\"#ab63fa\",\"#FFA15A\",\"#19d3f3\",\"#FF6692\",\"#B6E880\",\"#FF97FF\",\"#FECB52\"],\"font\":{\"color\":\"#f2f5fa\"},\"geo\":{\"bgcolor\":\"rgb(17,17,17)\",\"lakecolor\":\"rgb(17,17,17)\",\"landcolor\":\"rgb(17,17,17)\",\"showlakes\":true,\"showland\":true,\"subunitcolor\":\"#506784\"},\"hoverlabel\":{\"align\":\"left\"},\"hovermode\":\"closest\",\"mapbox\":{\"style\":\"dark\"},\"paper_bgcolor\":\"rgb(17,17,17)\",\"plot_bgcolor\":\"rgb(17,17,17)\",\"polar\":{\"angularaxis\":{\"gridcolor\":\"#506784\",\"linecolor\":\"#506784\",\"ticks\":\"\"},\"bgcolor\":\"rgb(17,17,17)\",\"radialaxis\":{\"gridcolor\":\"#506784\",\"linecolor\":\"#506784\",\"ticks\":\"\"}},\"scene\":{\"xaxis\":{\"backgroundcolor\":\"rgb(17,17,17)\",\"gridcolor\":\"#506784\",\"gridwidth\":2,\"linecolor\":\"#506784\",\"showbackground\":true,\"ticks\":\"\",\"zerolinecolor\":\"#C8D4E3\"},\"yaxis\":{\"backgroundcolor\":\"rgb(17,17,17)\",\"gridcolor\":\"#506784\",\"gridwidth\":2,\"linecolor\":\"#506784\",\"showbackground\":true,\"ticks\":\"\",\"zerolinecolor\":\"#C8D4E3\"},\"zaxis\":{\"backgroundcolor\":\"rgb(17,17,17)\",\"gridcolor\":\"#506784\",\"gridwidth\":2,\"linecolor\":\"#506784\",\"showbackground\":true,\"ticks\":\"\",\"zerolinecolor\":\"#C8D4E3\"}},\"shapedefaults\":{\"line\":{\"color\":\"#f2f5fa\"}},\"sliderdefaults\":{\"bgcolor\":\"#C8D4E3\",\"bordercolor\":\"rgb(17,17,17)\",\"borderwidth\":1,\"tickwidth\":0},\"ternary\":{\"aaxis\":{\"gridcolor\":\"#506784\",\"linecolor\":\"#506784\",\"ticks\":\"\"},\"baxis\":{\"gridcolor\":\"#506784\",\"linecolor\":\"#506784\",\"ticks\":\"\"},\"bgcolor\":\"rgb(17,17,17)\",\"caxis\":{\"gridcolor\":\"#506784\",\"linecolor\":\"#506784\",\"ticks\":\"\"}},\"title\":{\"x\":0.05},\"updatemenudefaults\":{\"bgcolor\":\"#506784\",\"borderwidth\":0},\"xaxis\":{\"automargin\":true,\"gridcolor\":\"#283442\",\"linecolor\":\"#506784\",\"ticks\":\"\",\"title\":{\"standoff\":15},\"zerolinecolor\":\"#283442\",\"zerolinewidth\":2},\"yaxis\":{\"automargin\":true,\"gridcolor\":\"#283442\",\"linecolor\":\"#506784\",\"ticks\":\"\",\"title\":{\"standoff\":15},\"zerolinecolor\":\"#283442\",\"zerolinewidth\":2}}},\"title\":{\"text\":\"\\u041f\\u0440\\u0435\\u0434\\u0441\\u043a\\u0430\\u0437\\u0430\\u043d\\u0438\\u0435 \\u043c\\u043e\\u0434\\u0435\\u043b\\u0438\"},\"width\":1200,\"height\":600},                        {\"responsive\": true}                    ).then(function(){\n",
              "                            \n",
              "var gd = document.getElementById('ba647d41-134e-413e-893e-87415134417f');\n",
              "var x = new MutationObserver(function (mutations, observer) {{\n",
              "        var display = window.getComputedStyle(gd).display;\n",
              "        if (!display || display === 'none') {{\n",
              "            console.log([gd, 'removed!']);\n",
              "            Plotly.purge(gd);\n",
              "            observer.disconnect();\n",
              "        }}\n",
              "}});\n",
              "\n",
              "// Listen for the removal of the full notebook cells\n",
              "var notebookContainer = gd.closest('#notebook-container');\n",
              "if (notebookContainer) {{\n",
              "    x.observe(notebookContainer, {childList: true});\n",
              "}}\n",
              "\n",
              "// Listen for the clearing of the current output cell\n",
              "var outputEl = gd.closest('.output');\n",
              "if (outputEl) {{\n",
              "    x.observe(outputEl, {childList: true});\n",
              "}}\n",
              "\n",
              "                        })                };                            </script>        </div>\n",
              "</body>\n",
              "</html>"
            ]
          },
          "metadata": {}
        }
      ]
    },
    {
      "cell_type": "markdown",
      "source": [
        "Вроде как регуляризация помагает как и стандартизация"
      ],
      "metadata": {
        "id": "cRGhQlgRJZ1N"
      }
    },
    {
      "cell_type": "markdown",
      "metadata": {
        "id": "eY4Y0rdBbNac"
      },
      "source": [
        "## Регуляризация L1\n",
        "В ряде случаев, когда разброс данных оказывается очень большим, регуляризации L2 может оказаться бесполезной или даже вредной. Дело в том, что в функции потерь мы учитываем веса в квадрате и большие колебания весовых параметров приведут к в квадрате большим колебаниям в значениях функции потерь. Часто эта ситуация является недопустимой.\n",
        "\n",
        "В таких случаях следует выбирать более устойчивые (робастные методы). Робастные методы могут быть менее точными, однако более стабильными. Одним из наиболее распространённых робастных методов является L1 регуляризация. В этом случае выражение для функции потерь может быть записано следующим образом:\n",
        "$$ \\begin{cases}\n",
        "L(\\hat{y}_i,y_i)\\to \\min \\\\\n",
        "\\| W \\|_1^1 <\\mathrm{const}\n",
        "\\end{cases}\n",
        "\\to L(\\hat{y}_i,y_i) + \\frac{\\lambda}{2}\\sum_{j=1}^{p} W_j\\to \\min,\n",
        "$$\n",
        "где  \n",
        "<ul>\n",
        "     <li> $ \\| W \\|_1^1 = \\sum_{j=1}^{p} |W_j|$ - норма L1 для вектора или матрицы;\n",
        "     <li> $ \\lambda $   - регуляризационный множитель;  \n",
        "     <li> $p$ - размер вектора весовых параметров;\n",
        "</ul>\n",
        "Закон изменения весовых параметров для данной модели можно зписать как:\n",
        "$$ W^t = W^{t-1}-\\eta\\left(\\frac{1}{N}\\sum_{i=0}^{N-1}\\nabla_{W}L(\\hat{y}_i,y_i) + \\lambda*sign(W^{t-1})\\right). $$\n",
        "Запишем новую версию регрессии. Для этого запишем новый класс, наследующий от уже созданного и перепишем в нем методы `loss`     и `update`."
      ]
    },
    {
      "cell_type": "code",
      "execution_count": null,
      "metadata": {
        "id": "lA_JvqnpbNac"
      },
      "outputs": [],
      "source": [
        "class LassoRegression(LinearRegression): #унаследуем всё что можно от \"базовой\" модели\n",
        "    def __init__(self,\n",
        "                 learning_rate = 0.5,\n",
        "                 l1_penalty = 0.001,\n",
        "                 epochs = 100,\n",
        "                 weights = None,\n",
        "                 bias    = None,\n",
        "                 batch_size   = 1000,\n",
        "                 n_batches    = None,\n",
        "                 random_state = 42):\n",
        "\n",
        "        super().__init__(learning_rate = learning_rate,\n",
        "                         epochs = epochs,\n",
        "                         weights = weights,\n",
        "                         bias    = bias,\n",
        "                         batch_size   = batch_size,\n",
        "                         n_batches    = n_batches,\n",
        "                         random_state = random_state)\n",
        "        self.l1_penalty = l1_penalty\n",
        "\n",
        "    #---------------------------------\n",
        "    def loss(self,yhat, y):\n",
        "        # изменяем функцию потерь\n",
        "        l1_term = self.l1_penalty*np.sum(np.abs(self.weights[1:]))\n",
        "        return np.square(yhat - y).mean() + l1_term\n",
        "\n",
        "    #---------------------------------\n",
        "    def update(self):\n",
        "        # изменяем правило обновление весов\n",
        "        return self.weights - self.lr*(self.grad + np.sign(self.weights)*self.l1_penalty)"
      ]
    },
    {
      "cell_type": "markdown",
      "source": [
        "Вы не поверите, но\n",
        "\n",
        "* Создаем модель-объект\n",
        "\n",
        "* Обучаем через `.fit()`\n",
        "\n",
        "* Оцениваем через `.score()`\n",
        "\n",
        "* Рисуем функцию потерь через `.plot_cost()`"
      ],
      "metadata": {
        "id": "GulMHpDZJPse"
      }
    },
    {
      "cell_type": "code",
      "execution_count": null,
      "metadata": {
        "scrolled": true,
        "id": "tquh7zVDbNac",
        "colab": {
          "base_uri": "https://localhost:8080/"
        },
        "outputId": "70a3c803-631c-46c6-d005-e6593eb9ac4e"
      },
      "outputs": [
        {
          "output_type": "stream",
          "name": "stdout",
          "text": [
            "Ошибка на тестовых данных = 0.79, \n",
            " Ошибка на тренировочных данных = 0.86\n"
          ]
        },
        {
          "output_type": "display_data",
          "data": {
            "text/html": [
              "<html>\n",
              "<head><meta charset=\"utf-8\" /></head>\n",
              "<body>\n",
              "    <div>            <script src=\"https://cdnjs.cloudflare.com/ajax/libs/mathjax/2.7.5/MathJax.js?config=TeX-AMS-MML_SVG\"></script><script type=\"text/javascript\">if (window.MathJax && window.MathJax.Hub && window.MathJax.Hub.Config) {window.MathJax.Hub.Config({SVG: {font: \"STIX-Web\"}});}</script>                <script type=\"text/javascript\">window.PlotlyConfig = {MathJaxConfig: 'local'};</script>\n",
              "        <script charset=\"utf-8\" src=\"https://cdn.plot.ly/plotly-2.24.1.min.js\"></script>                <div id=\"7d3f4e4a-c3a2-42cc-baf5-90027f8f581a\" class=\"plotly-graph-div\" style=\"height:600px; width:1200px;\"></div>            <script type=\"text/javascript\">                                    window.PLOTLYENV=window.PLOTLYENV || {};                                    if (document.getElementById(\"7d3f4e4a-c3a2-42cc-baf5-90027f8f581a\")) {                    Plotly.newPlot(                        \"7d3f4e4a-c3a2-42cc-baf5-90027f8f581a\",                        [{\"mode\":\"lines+markers\",\"name\":\"\\u0420\\u0435\\u0430\\u043b\\u044c\\u043d\\u044b\\u0435 \\u0434\\u0430\\u043d\\u043d\\u044b\\u0435\",\"y\":[1.4652898545010633,0.7193212079200979,0.6872607760023266,0.6909147358916271,0.6538867850794237,0.6099702753151851,0.5648907844809642,0.5703940133125828,0.5237580859293275,0.5514027417203805,0.4954655984479274,0.5131414770101113,0.5303415821188175,0.49523381404410444,0.467767210321189,0.45675367589047916,0.43332333339123,0.4669881154563697,0.40197733445870726,0.45387650550257574,0.4463444929616389,0.3906114406640457,0.3817261991726643,0.39869368164499847,0.3891016808359582,0.4067436003786611,0.4189958948637666,0.3589501778846258,0.398123661992056,0.33598877575348296,0.3457122854763041,0.3659431989269039,0.37132078472369945,0.35961171683742826,0.34441801908513453,0.3357479044318255,0.31655916396127265,0.3520636277395326,0.3201066658735922,0.3343344626216334,0.29877602980378704,0.32317818742287185,0.3363719529458678,0.3050178611158652,0.3035100478745718,0.29793764868858813,0.31456838792644115,0.3159588527104668,0.328898653579438,0.31294942704510503,0.3063458814313532,0.3042201786089609,0.300804629409925,0.30029456512924035,0.2772598512696256,0.2836367547789537,0.26796691896909847,0.30893078084677944,0.2954054920137494,0.3076235850050695,0.2938222247259876,0.2761571654968184,0.2751863398770598,0.2608849082982813,0.2901198564113138,0.2874734661678691,0.295205311889344,0.2681482251367303,0.29545944469727065,0.29685304691147135,0.30872360149639416,0.28257694591807664,0.2915987213802765,0.27680896357284773,0.289780388007713,0.2849717111495991,0.2873003908523311,0.2573966122216316,0.30214620743600473,0.27226752769586615,0.26812101238382446,0.2891133723021316,0.2734972002889288,0.2465065328405298,0.24358066459750796,0.24790899939279684,0.2791523677049693,0.2609342000812463,0.25434704955159626,0.2814826523360568,0.2739183132606462,0.28965777049404934,0.25329077779931114,0.2599475250305084,0.25176144758045965,0.22989226350842937,0.24040755480910062,0.24303819070694768,0.23952891187952083,0.2542208049007431,0.25078790859580774,0.2620375576536995,0.24932666621810803,0.24466786978163713,0.25087080846748905,0.228243876647386,0.252758145053316,0.25762311789508724,0.23363540960782728,0.24944537698272207,0.22005811129818165,0.22479254235983545,0.22137836026136345,0.23977340943115566,0.22551685976980718,0.23417402747833052,0.2295064010689514,0.23357227317611348,0.20715068589906374,0.22511927242679994,0.25228277592233,0.24817614567111942,0.22512301509844704,0.24948357872186933,0.2246696735268361,0.2101173627985777,0.22431691184970418,0.22196520871759265,0.2218670719129868,0.22929152265562316,0.23130585791028038,0.21952091624913503,0.2012736240726196,0.20722677406646606,0.2137608732930217,0.19946727661762745,0.19503576030858527,0.21997951652130332,0.21535495855164563,0.22376300944263802,0.21750687979325792,0.21617827771872752,0.22352417070432162,0.2042116687399073,0.20714123449720967,0.21130483990412566,0.20600100753178588,0.20433159633624634,0.21429518924236926,0.20998356943430807,0.1995196690840322,0.19523305617823583,0.19828068971742385,0.19750996325128914,0.1858937314531067,0.2249982895512527,0.18272845236601354,0.2079703354392546,0.20377147560244266,0.208700641322794,0.19393358538894112,0.18920769836134055,0.1961484898510438,0.19119347424498087,0.2003543445058004,0.1935097860442826,0.20407635122023302,0.21414010878783193,0.18731865187333477,0.20320537222402602,0.18883088834448522,0.1773028102297716,0.18902812817403777,0.1959118822024144,0.195754198661399,0.17743321159353279,0.17445475661491017,0.16474435523819705,0.19667629133712763,0.1795305334877266,0.1760496756539489,0.17034937857793697,0.190181941264313,0.19078545429743898,0.17137099376654572,0.1846755134687641,0.17253895337402472,0.19302082998171308,0.18053547309980947,0.1728039645869993,0.16829486490487544,0.17621055440474642,0.17667892127449916,0.16933863339977892,0.18097017466309148,0.16943881757256932,0.17040509055273187,0.17207485485141974,0.17215275913597874,0.17279589301870124,0.2050244484072101,0.18094669150049744,0.15581525962750123,0.1691551937433411,0.17361030352807758,0.16012941297111694,0.16502425440592636,0.18258695414131595,0.18276606361582284,0.17213026964827896,0.16870711471993682,0.16090603432825154,0.17737906202957734,0.1745555171910754,0.15525589895509714,0.15752982163096949,0.155316525349118,0.15670124525698134,0.1730011992911932,0.1515805846902197,0.15503597903227034,0.15552176877798776,0.15942839922847976,0.15580735760230469,0.15798512956606658,0.15538638571538657,0.16944490279975724,0.17303878220812793,0.16805610748391805,0.1553548620116556,0.14619720153164278,0.15374744544291025,0.15099976791516836,0.16217925297519062,0.1556071047906524,0.16034495006271815,0.15532646527635774,0.14680861573252812,0.14578768412574203,0.15115662730725687,0.14796086906748776,0.14846804975542602,0.15714535756365672,0.13627876695132632,0.16826050105268067,0.14164873365708155,0.1458849823825269,0.13635811583039756,0.1524170712707683,0.1583802426979729,0.1622480938802666,0.13714151293234808,0.13271738366102218,0.14642148803407476,0.16480455738068264,0.15335619073261175,0.1369227170394289,0.14294623154873828,0.13346233804582122,0.13080803042019792,0.15163996662975254,0.1548142482166162,0.15579280573526297,0.14898051642736668,0.13920634615867264,0.1360160542859608,0.148440251680476,0.13037496069646884,0.1475178773461509,0.14157069591127516,0.13697851944318887,0.12337967735999215,0.13446511659138471,0.13583846866301055,0.14857162255797798,0.14266407851851512,0.15248895148803712,0.1404753563566266,0.1409777686191965,0.15840519694142619,0.1451006195962171,0.1275459893970062,0.13054810730319896,0.12719170370361052,0.1277133582330816,0.14244965461738138,0.1264206847401761,0.12170036607214814,0.12608531027827782,0.13952358143752047,0.12757160331777387,0.12932501091791884,0.13239609336625408,0.13297425342736965,0.11830435925939087,0.14498778833656079,0.13664773167417124,0.127859718778706,0.1269990955138007,0.12669147431145736],\"type\":\"scatter\"}],                        {\"template\":{\"data\":{\"barpolar\":[{\"marker\":{\"line\":{\"color\":\"rgb(17,17,17)\",\"width\":0.5},\"pattern\":{\"fillmode\":\"overlay\",\"size\":10,\"solidity\":0.2}},\"type\":\"barpolar\"}],\"bar\":[{\"error_x\":{\"color\":\"#f2f5fa\"},\"error_y\":{\"color\":\"#f2f5fa\"},\"marker\":{\"line\":{\"color\":\"rgb(17,17,17)\",\"width\":0.5},\"pattern\":{\"fillmode\":\"overlay\",\"size\":10,\"solidity\":0.2}},\"type\":\"bar\"}],\"carpet\":[{\"aaxis\":{\"endlinecolor\":\"#A2B1C6\",\"gridcolor\":\"#506784\",\"linecolor\":\"#506784\",\"minorgridcolor\":\"#506784\",\"startlinecolor\":\"#A2B1C6\"},\"baxis\":{\"endlinecolor\":\"#A2B1C6\",\"gridcolor\":\"#506784\",\"linecolor\":\"#506784\",\"minorgridcolor\":\"#506784\",\"startlinecolor\":\"#A2B1C6\"},\"type\":\"carpet\"}],\"choropleth\":[{\"colorbar\":{\"outlinewidth\":0,\"ticks\":\"\"},\"type\":\"choropleth\"}],\"contourcarpet\":[{\"colorbar\":{\"outlinewidth\":0,\"ticks\":\"\"},\"type\":\"contourcarpet\"}],\"contour\":[{\"colorbar\":{\"outlinewidth\":0,\"ticks\":\"\"},\"colorscale\":[[0.0,\"#0d0887\"],[0.1111111111111111,\"#46039f\"],[0.2222222222222222,\"#7201a8\"],[0.3333333333333333,\"#9c179e\"],[0.4444444444444444,\"#bd3786\"],[0.5555555555555556,\"#d8576b\"],[0.6666666666666666,\"#ed7953\"],[0.7777777777777778,\"#fb9f3a\"],[0.8888888888888888,\"#fdca26\"],[1.0,\"#f0f921\"]],\"type\":\"contour\"}],\"heatmapgl\":[{\"colorbar\":{\"outlinewidth\":0,\"ticks\":\"\"},\"colorscale\":[[0.0,\"#0d0887\"],[0.1111111111111111,\"#46039f\"],[0.2222222222222222,\"#7201a8\"],[0.3333333333333333,\"#9c179e\"],[0.4444444444444444,\"#bd3786\"],[0.5555555555555556,\"#d8576b\"],[0.6666666666666666,\"#ed7953\"],[0.7777777777777778,\"#fb9f3a\"],[0.8888888888888888,\"#fdca26\"],[1.0,\"#f0f921\"]],\"type\":\"heatmapgl\"}],\"heatmap\":[{\"colorbar\":{\"outlinewidth\":0,\"ticks\":\"\"},\"colorscale\":[[0.0,\"#0d0887\"],[0.1111111111111111,\"#46039f\"],[0.2222222222222222,\"#7201a8\"],[0.3333333333333333,\"#9c179e\"],[0.4444444444444444,\"#bd3786\"],[0.5555555555555556,\"#d8576b\"],[0.6666666666666666,\"#ed7953\"],[0.7777777777777778,\"#fb9f3a\"],[0.8888888888888888,\"#fdca26\"],[1.0,\"#f0f921\"]],\"type\":\"heatmap\"}],\"histogram2dcontour\":[{\"colorbar\":{\"outlinewidth\":0,\"ticks\":\"\"},\"colorscale\":[[0.0,\"#0d0887\"],[0.1111111111111111,\"#46039f\"],[0.2222222222222222,\"#7201a8\"],[0.3333333333333333,\"#9c179e\"],[0.4444444444444444,\"#bd3786\"],[0.5555555555555556,\"#d8576b\"],[0.6666666666666666,\"#ed7953\"],[0.7777777777777778,\"#fb9f3a\"],[0.8888888888888888,\"#fdca26\"],[1.0,\"#f0f921\"]],\"type\":\"histogram2dcontour\"}],\"histogram2d\":[{\"colorbar\":{\"outlinewidth\":0,\"ticks\":\"\"},\"colorscale\":[[0.0,\"#0d0887\"],[0.1111111111111111,\"#46039f\"],[0.2222222222222222,\"#7201a8\"],[0.3333333333333333,\"#9c179e\"],[0.4444444444444444,\"#bd3786\"],[0.5555555555555556,\"#d8576b\"],[0.6666666666666666,\"#ed7953\"],[0.7777777777777778,\"#fb9f3a\"],[0.8888888888888888,\"#fdca26\"],[1.0,\"#f0f921\"]],\"type\":\"histogram2d\"}],\"histogram\":[{\"marker\":{\"pattern\":{\"fillmode\":\"overlay\",\"size\":10,\"solidity\":0.2}},\"type\":\"histogram\"}],\"mesh3d\":[{\"colorbar\":{\"outlinewidth\":0,\"ticks\":\"\"},\"type\":\"mesh3d\"}],\"parcoords\":[{\"line\":{\"colorbar\":{\"outlinewidth\":0,\"ticks\":\"\"}},\"type\":\"parcoords\"}],\"pie\":[{\"automargin\":true,\"type\":\"pie\"}],\"scatter3d\":[{\"line\":{\"colorbar\":{\"outlinewidth\":0,\"ticks\":\"\"}},\"marker\":{\"colorbar\":{\"outlinewidth\":0,\"ticks\":\"\"}},\"type\":\"scatter3d\"}],\"scattercarpet\":[{\"marker\":{\"colorbar\":{\"outlinewidth\":0,\"ticks\":\"\"}},\"type\":\"scattercarpet\"}],\"scattergeo\":[{\"marker\":{\"colorbar\":{\"outlinewidth\":0,\"ticks\":\"\"}},\"type\":\"scattergeo\"}],\"scattergl\":[{\"marker\":{\"line\":{\"color\":\"#283442\"}},\"type\":\"scattergl\"}],\"scattermapbox\":[{\"marker\":{\"colorbar\":{\"outlinewidth\":0,\"ticks\":\"\"}},\"type\":\"scattermapbox\"}],\"scatterpolargl\":[{\"marker\":{\"colorbar\":{\"outlinewidth\":0,\"ticks\":\"\"}},\"type\":\"scatterpolargl\"}],\"scatterpolar\":[{\"marker\":{\"colorbar\":{\"outlinewidth\":0,\"ticks\":\"\"}},\"type\":\"scatterpolar\"}],\"scatter\":[{\"marker\":{\"line\":{\"color\":\"#283442\"}},\"type\":\"scatter\"}],\"scatterternary\":[{\"marker\":{\"colorbar\":{\"outlinewidth\":0,\"ticks\":\"\"}},\"type\":\"scatterternary\"}],\"surface\":[{\"colorbar\":{\"outlinewidth\":0,\"ticks\":\"\"},\"colorscale\":[[0.0,\"#0d0887\"],[0.1111111111111111,\"#46039f\"],[0.2222222222222222,\"#7201a8\"],[0.3333333333333333,\"#9c179e\"],[0.4444444444444444,\"#bd3786\"],[0.5555555555555556,\"#d8576b\"],[0.6666666666666666,\"#ed7953\"],[0.7777777777777778,\"#fb9f3a\"],[0.8888888888888888,\"#fdca26\"],[1.0,\"#f0f921\"]],\"type\":\"surface\"}],\"table\":[{\"cells\":{\"fill\":{\"color\":\"#506784\"},\"line\":{\"color\":\"rgb(17,17,17)\"}},\"header\":{\"fill\":{\"color\":\"#2a3f5f\"},\"line\":{\"color\":\"rgb(17,17,17)\"}},\"type\":\"table\"}]},\"layout\":{\"annotationdefaults\":{\"arrowcolor\":\"#f2f5fa\",\"arrowhead\":0,\"arrowwidth\":1},\"autotypenumbers\":\"strict\",\"coloraxis\":{\"colorbar\":{\"outlinewidth\":0,\"ticks\":\"\"}},\"colorscale\":{\"diverging\":[[0,\"#8e0152\"],[0.1,\"#c51b7d\"],[0.2,\"#de77ae\"],[0.3,\"#f1b6da\"],[0.4,\"#fde0ef\"],[0.5,\"#f7f7f7\"],[0.6,\"#e6f5d0\"],[0.7,\"#b8e186\"],[0.8,\"#7fbc41\"],[0.9,\"#4d9221\"],[1,\"#276419\"]],\"sequential\":[[0.0,\"#0d0887\"],[0.1111111111111111,\"#46039f\"],[0.2222222222222222,\"#7201a8\"],[0.3333333333333333,\"#9c179e\"],[0.4444444444444444,\"#bd3786\"],[0.5555555555555556,\"#d8576b\"],[0.6666666666666666,\"#ed7953\"],[0.7777777777777778,\"#fb9f3a\"],[0.8888888888888888,\"#fdca26\"],[1.0,\"#f0f921\"]],\"sequentialminus\":[[0.0,\"#0d0887\"],[0.1111111111111111,\"#46039f\"],[0.2222222222222222,\"#7201a8\"],[0.3333333333333333,\"#9c179e\"],[0.4444444444444444,\"#bd3786\"],[0.5555555555555556,\"#d8576b\"],[0.6666666666666666,\"#ed7953\"],[0.7777777777777778,\"#fb9f3a\"],[0.8888888888888888,\"#fdca26\"],[1.0,\"#f0f921\"]]},\"colorway\":[\"#636efa\",\"#EF553B\",\"#00cc96\",\"#ab63fa\",\"#FFA15A\",\"#19d3f3\",\"#FF6692\",\"#B6E880\",\"#FF97FF\",\"#FECB52\"],\"font\":{\"color\":\"#f2f5fa\"},\"geo\":{\"bgcolor\":\"rgb(17,17,17)\",\"lakecolor\":\"rgb(17,17,17)\",\"landcolor\":\"rgb(17,17,17)\",\"showlakes\":true,\"showland\":true,\"subunitcolor\":\"#506784\"},\"hoverlabel\":{\"align\":\"left\"},\"hovermode\":\"closest\",\"mapbox\":{\"style\":\"dark\"},\"paper_bgcolor\":\"rgb(17,17,17)\",\"plot_bgcolor\":\"rgb(17,17,17)\",\"polar\":{\"angularaxis\":{\"gridcolor\":\"#506784\",\"linecolor\":\"#506784\",\"ticks\":\"\"},\"bgcolor\":\"rgb(17,17,17)\",\"radialaxis\":{\"gridcolor\":\"#506784\",\"linecolor\":\"#506784\",\"ticks\":\"\"}},\"scene\":{\"xaxis\":{\"backgroundcolor\":\"rgb(17,17,17)\",\"gridcolor\":\"#506784\",\"gridwidth\":2,\"linecolor\":\"#506784\",\"showbackground\":true,\"ticks\":\"\",\"zerolinecolor\":\"#C8D4E3\"},\"yaxis\":{\"backgroundcolor\":\"rgb(17,17,17)\",\"gridcolor\":\"#506784\",\"gridwidth\":2,\"linecolor\":\"#506784\",\"showbackground\":true,\"ticks\":\"\",\"zerolinecolor\":\"#C8D4E3\"},\"zaxis\":{\"backgroundcolor\":\"rgb(17,17,17)\",\"gridcolor\":\"#506784\",\"gridwidth\":2,\"linecolor\":\"#506784\",\"showbackground\":true,\"ticks\":\"\",\"zerolinecolor\":\"#C8D4E3\"}},\"shapedefaults\":{\"line\":{\"color\":\"#f2f5fa\"}},\"sliderdefaults\":{\"bgcolor\":\"#C8D4E3\",\"bordercolor\":\"rgb(17,17,17)\",\"borderwidth\":1,\"tickwidth\":0},\"ternary\":{\"aaxis\":{\"gridcolor\":\"#506784\",\"linecolor\":\"#506784\",\"ticks\":\"\"},\"baxis\":{\"gridcolor\":\"#506784\",\"linecolor\":\"#506784\",\"ticks\":\"\"},\"bgcolor\":\"rgb(17,17,17)\",\"caxis\":{\"gridcolor\":\"#506784\",\"linecolor\":\"#506784\",\"ticks\":\"\"}},\"title\":{\"x\":0.05},\"updatemenudefaults\":{\"bgcolor\":\"#506784\",\"borderwidth\":0},\"xaxis\":{\"automargin\":true,\"gridcolor\":\"#283442\",\"linecolor\":\"#506784\",\"ticks\":\"\",\"title\":{\"standoff\":15},\"zerolinecolor\":\"#283442\",\"zerolinewidth\":2},\"yaxis\":{\"automargin\":true,\"gridcolor\":\"#283442\",\"linecolor\":\"#506784\",\"ticks\":\"\",\"title\":{\"standoff\":15},\"zerolinecolor\":\"#283442\",\"zerolinewidth\":2}}},\"title\":{\"text\":\"\\u041a\\u0440\\u0438\\u0432\\u0430\\u044f \\u043e\\u0431\\u0443\\u0447\\u0435\\u043d\\u0438\\u044f\"},\"width\":1200,\"height\":600},                        {\"responsive\": true}                    ).then(function(){\n",
              "                            \n",
              "var gd = document.getElementById('7d3f4e4a-c3a2-42cc-baf5-90027f8f581a');\n",
              "var x = new MutationObserver(function (mutations, observer) {{\n",
              "        var display = window.getComputedStyle(gd).display;\n",
              "        if (!display || display === 'none') {{\n",
              "            console.log([gd, 'removed!']);\n",
              "            Plotly.purge(gd);\n",
              "            observer.disconnect();\n",
              "        }}\n",
              "}});\n",
              "\n",
              "// Listen for the removal of the full notebook cells\n",
              "var notebookContainer = gd.closest('#notebook-container');\n",
              "if (notebookContainer) {{\n",
              "    x.observe(notebookContainer, {childList: true});\n",
              "}}\n",
              "\n",
              "// Listen for the clearing of the current output cell\n",
              "var outputEl = gd.closest('.output');\n",
              "if (outputEl) {{\n",
              "    x.observe(outputEl, {childList: true});\n",
              "}}\n",
              "\n",
              "                        })                };                            </script>        </div>\n",
              "</body>\n",
              "</html>"
            ]
          },
          "metadata": {}
        }
      ],
      "source": [
        "regr_l1 = LassoRegression(learning_rate=0.1,\n",
        "                       epochs=300,batch_size=10,\n",
        "                       l1_penalty = 0.001)\n",
        "regr_l1.fit(x_train_, y_train)\n",
        "\n",
        "print(f'Ошибка на тестовых данных = {regr_l1.score(x_test_, y_test):.2f}, \\n Ошибка на тренировочных данных = {regr_l1.score(x_train_, y_train):.2f}')\n",
        "regr_l1.plot_cost()"
      ]
    },
    {
      "cell_type": "code",
      "source": [
        "w, b = regr_l1.get_w_and_b()\n",
        "print(w,b)"
      ],
      "metadata": {
        "colab": {
          "base_uri": "https://localhost:8080/"
        },
        "id": "XyTz9wk9atCH",
        "outputId": "3c53682e-fc19-49e1-a4b3-2fe61843d847"
      },
      "execution_count": null,
      "outputs": [
        {
          "output_type": "stream",
          "name": "stdout",
          "text": [
            "[ 3.88674506 -0.02553245 -1.31063996 -1.38550494 -1.6403498  -1.1334317\n",
            " -0.00955853  0.20494101  0.33425247  1.02204273] -0.9995536602834406\n"
          ]
        }
      ]
    },
    {
      "cell_type": "code",
      "source": [
        "vis_weigths(np.hstack([b,w]))"
      ],
      "metadata": {
        "colab": {
          "base_uri": "https://localhost:8080/"
        },
        "id": "yVYoKuPZQRSm",
        "outputId": "a6da277e-3ca2-4777-eef6-7aaef1c7949e"
      },
      "execution_count": null,
      "outputs": [
        {
          "output_type": "display_data",
          "data": {
            "text/html": [
              "<html>\n",
              "<head><meta charset=\"utf-8\" /></head>\n",
              "<body>\n",
              "    <div>            <script src=\"https://cdnjs.cloudflare.com/ajax/libs/mathjax/2.7.5/MathJax.js?config=TeX-AMS-MML_SVG\"></script><script type=\"text/javascript\">if (window.MathJax && window.MathJax.Hub && window.MathJax.Hub.Config) {window.MathJax.Hub.Config({SVG: {font: \"STIX-Web\"}});}</script>                <script type=\"text/javascript\">window.PlotlyConfig = {MathJaxConfig: 'local'};</script>\n",
              "        <script charset=\"utf-8\" src=\"https://cdn.plot.ly/plotly-2.24.1.min.js\"></script>                <div id=\"3c1f7306-1f68-4a46-9157-dd4c1c9b8235\" class=\"plotly-graph-div\" style=\"height:600px; width:1200px;\"></div>            <script type=\"text/javascript\">                                    window.PLOTLYENV=window.PLOTLYENV || {};                                    if (document.getElementById(\"3c1f7306-1f68-4a46-9157-dd4c1c9b8235\")) {                    Plotly.newPlot(                        \"3c1f7306-1f68-4a46-9157-dd4c1c9b8235\",                        [{\"marker\":{\"color\":\"red\"},\"name\":\"\\u043e\\u0442\\u0440\\u0438\\u0446\\u0430\\u0442\\u0435\\u043b\\u044c\\u043d\\u044b\\u0435 \\u0432\\u0435\\u0441\\u0430\",\"x\":[0,2,3,4,5,6,7],\"y\":[-0.9995536602834406,-0.02553245236599585,-1.3106399596365481,-1.3855049389453218,-1.640349795001165,-1.1334316987936328,-0.009558528145066459],\"type\":\"bar\"},{\"marker\":{\"color\":\"blue\"},\"name\":\"\\u043f\\u043e\\u043b\\u043e\\u0436\\u0438\\u0442\\u0435\\u043b\\u044c\\u043d\\u044b\\u0435 \\u0432\\u0435\\u0441\\u0430\",\"x\":[1,8,9,10],\"y\":[3.8867450580017886,0.20494100673339471,0.33425247126919805,1.0220427334022464],\"type\":\"bar\"}],                        {\"template\":{\"data\":{\"barpolar\":[{\"marker\":{\"line\":{\"color\":\"rgb(17,17,17)\",\"width\":0.5},\"pattern\":{\"fillmode\":\"overlay\",\"size\":10,\"solidity\":0.2}},\"type\":\"barpolar\"}],\"bar\":[{\"error_x\":{\"color\":\"#f2f5fa\"},\"error_y\":{\"color\":\"#f2f5fa\"},\"marker\":{\"line\":{\"color\":\"rgb(17,17,17)\",\"width\":0.5},\"pattern\":{\"fillmode\":\"overlay\",\"size\":10,\"solidity\":0.2}},\"type\":\"bar\"}],\"carpet\":[{\"aaxis\":{\"endlinecolor\":\"#A2B1C6\",\"gridcolor\":\"#506784\",\"linecolor\":\"#506784\",\"minorgridcolor\":\"#506784\",\"startlinecolor\":\"#A2B1C6\"},\"baxis\":{\"endlinecolor\":\"#A2B1C6\",\"gridcolor\":\"#506784\",\"linecolor\":\"#506784\",\"minorgridcolor\":\"#506784\",\"startlinecolor\":\"#A2B1C6\"},\"type\":\"carpet\"}],\"choropleth\":[{\"colorbar\":{\"outlinewidth\":0,\"ticks\":\"\"},\"type\":\"choropleth\"}],\"contourcarpet\":[{\"colorbar\":{\"outlinewidth\":0,\"ticks\":\"\"},\"type\":\"contourcarpet\"}],\"contour\":[{\"colorbar\":{\"outlinewidth\":0,\"ticks\":\"\"},\"colorscale\":[[0.0,\"#0d0887\"],[0.1111111111111111,\"#46039f\"],[0.2222222222222222,\"#7201a8\"],[0.3333333333333333,\"#9c179e\"],[0.4444444444444444,\"#bd3786\"],[0.5555555555555556,\"#d8576b\"],[0.6666666666666666,\"#ed7953\"],[0.7777777777777778,\"#fb9f3a\"],[0.8888888888888888,\"#fdca26\"],[1.0,\"#f0f921\"]],\"type\":\"contour\"}],\"heatmapgl\":[{\"colorbar\":{\"outlinewidth\":0,\"ticks\":\"\"},\"colorscale\":[[0.0,\"#0d0887\"],[0.1111111111111111,\"#46039f\"],[0.2222222222222222,\"#7201a8\"],[0.3333333333333333,\"#9c179e\"],[0.4444444444444444,\"#bd3786\"],[0.5555555555555556,\"#d8576b\"],[0.6666666666666666,\"#ed7953\"],[0.7777777777777778,\"#fb9f3a\"],[0.8888888888888888,\"#fdca26\"],[1.0,\"#f0f921\"]],\"type\":\"heatmapgl\"}],\"heatmap\":[{\"colorbar\":{\"outlinewidth\":0,\"ticks\":\"\"},\"colorscale\":[[0.0,\"#0d0887\"],[0.1111111111111111,\"#46039f\"],[0.2222222222222222,\"#7201a8\"],[0.3333333333333333,\"#9c179e\"],[0.4444444444444444,\"#bd3786\"],[0.5555555555555556,\"#d8576b\"],[0.6666666666666666,\"#ed7953\"],[0.7777777777777778,\"#fb9f3a\"],[0.8888888888888888,\"#fdca26\"],[1.0,\"#f0f921\"]],\"type\":\"heatmap\"}],\"histogram2dcontour\":[{\"colorbar\":{\"outlinewidth\":0,\"ticks\":\"\"},\"colorscale\":[[0.0,\"#0d0887\"],[0.1111111111111111,\"#46039f\"],[0.2222222222222222,\"#7201a8\"],[0.3333333333333333,\"#9c179e\"],[0.4444444444444444,\"#bd3786\"],[0.5555555555555556,\"#d8576b\"],[0.6666666666666666,\"#ed7953\"],[0.7777777777777778,\"#fb9f3a\"],[0.8888888888888888,\"#fdca26\"],[1.0,\"#f0f921\"]],\"type\":\"histogram2dcontour\"}],\"histogram2d\":[{\"colorbar\":{\"outlinewidth\":0,\"ticks\":\"\"},\"colorscale\":[[0.0,\"#0d0887\"],[0.1111111111111111,\"#46039f\"],[0.2222222222222222,\"#7201a8\"],[0.3333333333333333,\"#9c179e\"],[0.4444444444444444,\"#bd3786\"],[0.5555555555555556,\"#d8576b\"],[0.6666666666666666,\"#ed7953\"],[0.7777777777777778,\"#fb9f3a\"],[0.8888888888888888,\"#fdca26\"],[1.0,\"#f0f921\"]],\"type\":\"histogram2d\"}],\"histogram\":[{\"marker\":{\"pattern\":{\"fillmode\":\"overlay\",\"size\":10,\"solidity\":0.2}},\"type\":\"histogram\"}],\"mesh3d\":[{\"colorbar\":{\"outlinewidth\":0,\"ticks\":\"\"},\"type\":\"mesh3d\"}],\"parcoords\":[{\"line\":{\"colorbar\":{\"outlinewidth\":0,\"ticks\":\"\"}},\"type\":\"parcoords\"}],\"pie\":[{\"automargin\":true,\"type\":\"pie\"}],\"scatter3d\":[{\"line\":{\"colorbar\":{\"outlinewidth\":0,\"ticks\":\"\"}},\"marker\":{\"colorbar\":{\"outlinewidth\":0,\"ticks\":\"\"}},\"type\":\"scatter3d\"}],\"scattercarpet\":[{\"marker\":{\"colorbar\":{\"outlinewidth\":0,\"ticks\":\"\"}},\"type\":\"scattercarpet\"}],\"scattergeo\":[{\"marker\":{\"colorbar\":{\"outlinewidth\":0,\"ticks\":\"\"}},\"type\":\"scattergeo\"}],\"scattergl\":[{\"marker\":{\"line\":{\"color\":\"#283442\"}},\"type\":\"scattergl\"}],\"scattermapbox\":[{\"marker\":{\"colorbar\":{\"outlinewidth\":0,\"ticks\":\"\"}},\"type\":\"scattermapbox\"}],\"scatterpolargl\":[{\"marker\":{\"colorbar\":{\"outlinewidth\":0,\"ticks\":\"\"}},\"type\":\"scatterpolargl\"}],\"scatterpolar\":[{\"marker\":{\"colorbar\":{\"outlinewidth\":0,\"ticks\":\"\"}},\"type\":\"scatterpolar\"}],\"scatter\":[{\"marker\":{\"line\":{\"color\":\"#283442\"}},\"type\":\"scatter\"}],\"scatterternary\":[{\"marker\":{\"colorbar\":{\"outlinewidth\":0,\"ticks\":\"\"}},\"type\":\"scatterternary\"}],\"surface\":[{\"colorbar\":{\"outlinewidth\":0,\"ticks\":\"\"},\"colorscale\":[[0.0,\"#0d0887\"],[0.1111111111111111,\"#46039f\"],[0.2222222222222222,\"#7201a8\"],[0.3333333333333333,\"#9c179e\"],[0.4444444444444444,\"#bd3786\"],[0.5555555555555556,\"#d8576b\"],[0.6666666666666666,\"#ed7953\"],[0.7777777777777778,\"#fb9f3a\"],[0.8888888888888888,\"#fdca26\"],[1.0,\"#f0f921\"]],\"type\":\"surface\"}],\"table\":[{\"cells\":{\"fill\":{\"color\":\"#506784\"},\"line\":{\"color\":\"rgb(17,17,17)\"}},\"header\":{\"fill\":{\"color\":\"#2a3f5f\"},\"line\":{\"color\":\"rgb(17,17,17)\"}},\"type\":\"table\"}]},\"layout\":{\"annotationdefaults\":{\"arrowcolor\":\"#f2f5fa\",\"arrowhead\":0,\"arrowwidth\":1},\"autotypenumbers\":\"strict\",\"coloraxis\":{\"colorbar\":{\"outlinewidth\":0,\"ticks\":\"\"}},\"colorscale\":{\"diverging\":[[0,\"#8e0152\"],[0.1,\"#c51b7d\"],[0.2,\"#de77ae\"],[0.3,\"#f1b6da\"],[0.4,\"#fde0ef\"],[0.5,\"#f7f7f7\"],[0.6,\"#e6f5d0\"],[0.7,\"#b8e186\"],[0.8,\"#7fbc41\"],[0.9,\"#4d9221\"],[1,\"#276419\"]],\"sequential\":[[0.0,\"#0d0887\"],[0.1111111111111111,\"#46039f\"],[0.2222222222222222,\"#7201a8\"],[0.3333333333333333,\"#9c179e\"],[0.4444444444444444,\"#bd3786\"],[0.5555555555555556,\"#d8576b\"],[0.6666666666666666,\"#ed7953\"],[0.7777777777777778,\"#fb9f3a\"],[0.8888888888888888,\"#fdca26\"],[1.0,\"#f0f921\"]],\"sequentialminus\":[[0.0,\"#0d0887\"],[0.1111111111111111,\"#46039f\"],[0.2222222222222222,\"#7201a8\"],[0.3333333333333333,\"#9c179e\"],[0.4444444444444444,\"#bd3786\"],[0.5555555555555556,\"#d8576b\"],[0.6666666666666666,\"#ed7953\"],[0.7777777777777778,\"#fb9f3a\"],[0.8888888888888888,\"#fdca26\"],[1.0,\"#f0f921\"]]},\"colorway\":[\"#636efa\",\"#EF553B\",\"#00cc96\",\"#ab63fa\",\"#FFA15A\",\"#19d3f3\",\"#FF6692\",\"#B6E880\",\"#FF97FF\",\"#FECB52\"],\"font\":{\"color\":\"#f2f5fa\"},\"geo\":{\"bgcolor\":\"rgb(17,17,17)\",\"lakecolor\":\"rgb(17,17,17)\",\"landcolor\":\"rgb(17,17,17)\",\"showlakes\":true,\"showland\":true,\"subunitcolor\":\"#506784\"},\"hoverlabel\":{\"align\":\"left\"},\"hovermode\":\"closest\",\"mapbox\":{\"style\":\"dark\"},\"paper_bgcolor\":\"rgb(17,17,17)\",\"plot_bgcolor\":\"rgb(17,17,17)\",\"polar\":{\"angularaxis\":{\"gridcolor\":\"#506784\",\"linecolor\":\"#506784\",\"ticks\":\"\"},\"bgcolor\":\"rgb(17,17,17)\",\"radialaxis\":{\"gridcolor\":\"#506784\",\"linecolor\":\"#506784\",\"ticks\":\"\"}},\"scene\":{\"xaxis\":{\"backgroundcolor\":\"rgb(17,17,17)\",\"gridcolor\":\"#506784\",\"gridwidth\":2,\"linecolor\":\"#506784\",\"showbackground\":true,\"ticks\":\"\",\"zerolinecolor\":\"#C8D4E3\"},\"yaxis\":{\"backgroundcolor\":\"rgb(17,17,17)\",\"gridcolor\":\"#506784\",\"gridwidth\":2,\"linecolor\":\"#506784\",\"showbackground\":true,\"ticks\":\"\",\"zerolinecolor\":\"#C8D4E3\"},\"zaxis\":{\"backgroundcolor\":\"rgb(17,17,17)\",\"gridcolor\":\"#506784\",\"gridwidth\":2,\"linecolor\":\"#506784\",\"showbackground\":true,\"ticks\":\"\",\"zerolinecolor\":\"#C8D4E3\"}},\"shapedefaults\":{\"line\":{\"color\":\"#f2f5fa\"}},\"sliderdefaults\":{\"bgcolor\":\"#C8D4E3\",\"bordercolor\":\"rgb(17,17,17)\",\"borderwidth\":1,\"tickwidth\":0},\"ternary\":{\"aaxis\":{\"gridcolor\":\"#506784\",\"linecolor\":\"#506784\",\"ticks\":\"\"},\"baxis\":{\"gridcolor\":\"#506784\",\"linecolor\":\"#506784\",\"ticks\":\"\"},\"bgcolor\":\"rgb(17,17,17)\",\"caxis\":{\"gridcolor\":\"#506784\",\"linecolor\":\"#506784\",\"ticks\":\"\"}},\"title\":{\"x\":0.05},\"updatemenudefaults\":{\"bgcolor\":\"#506784\",\"borderwidth\":0},\"xaxis\":{\"automargin\":true,\"gridcolor\":\"#283442\",\"linecolor\":\"#506784\",\"ticks\":\"\",\"title\":{\"standoff\":15},\"zerolinecolor\":\"#283442\",\"zerolinewidth\":2},\"yaxis\":{\"automargin\":true,\"gridcolor\":\"#283442\",\"linecolor\":\"#506784\",\"ticks\":\"\",\"title\":{\"standoff\":15},\"zerolinecolor\":\"#283442\",\"zerolinewidth\":2}}},\"xaxis\":{\"tickmode\":\"array\",\"tickvals\":[0,1,2,3,4,5,6,7,8,9,10],\"ticktext\":[\"w0\",\"w1\",\"w2\",\"w3\",\"w4\",\"w5\",\"w6\",\"w7\",\"w8\",\"w9\",\"w10\"]},\"title\":{\"text\":\"\\u0412\\u0435\\u0441\\u0430 \\u043c\\u043e\\u0434\\u0435\\u043b\\u0438\"},\"width\":1200,\"height\":600},                        {\"responsive\": true}                    ).then(function(){\n",
              "                            \n",
              "var gd = document.getElementById('3c1f7306-1f68-4a46-9157-dd4c1c9b8235');\n",
              "var x = new MutationObserver(function (mutations, observer) {{\n",
              "        var display = window.getComputedStyle(gd).display;\n",
              "        if (!display || display === 'none') {{\n",
              "            console.log([gd, 'removed!']);\n",
              "            Plotly.purge(gd);\n",
              "            observer.disconnect();\n",
              "        }}\n",
              "}});\n",
              "\n",
              "// Listen for the removal of the full notebook cells\n",
              "var notebookContainer = gd.closest('#notebook-container');\n",
              "if (notebookContainer) {{\n",
              "    x.observe(notebookContainer, {childList: true});\n",
              "}}\n",
              "\n",
              "// Listen for the clearing of the current output cell\n",
              "var outputEl = gd.closest('.output');\n",
              "if (outputEl) {{\n",
              "    x.observe(outputEl, {childList: true});\n",
              "}}\n",
              "\n",
              "                        })                };                            </script>        </div>\n",
              "</body>\n",
              "</html>"
            ]
          },
          "metadata": {}
        }
      ]
    },
    {
      "cell_type": "code",
      "source": [
        "np.sum(np.abs(w))"
      ],
      "metadata": {
        "colab": {
          "base_uri": "https://localhost:8080/"
        },
        "id": "A77dkFbia1sY",
        "outputId": "79700434-a0cf-4678-d10c-d82e0e166d9e"
      },
      "execution_count": null,
      "outputs": [
        {
          "output_type": "execute_result",
          "data": {
            "text/plain": [
              "10.952998642294355"
            ]
          },
          "metadata": {},
          "execution_count": 99
        }
      ]
    },
    {
      "cell_type": "markdown",
      "source": [
        "Посмотрим на результат."
      ],
      "metadata": {
        "id": "5dho0vzrJibs"
      }
    },
    {
      "cell_type": "code",
      "source": [
        "plot_model_class(x_train_, y_train, x_test_, x, y_true, regr_l1);"
      ],
      "metadata": {
        "colab": {
          "base_uri": "https://localhost:8080/"
        },
        "id": "he-NRSb5Jvl_",
        "outputId": "e2c55e68-ed69-4920-da77-0a62eda73669"
      },
      "execution_count": null,
      "outputs": [
        {
          "output_type": "display_data",
          "data": {
            "text/html": [
              "<html>\n",
              "<head><meta charset=\"utf-8\" /></head>\n",
              "<body>\n",
              "    <div>            <script src=\"https://cdnjs.cloudflare.com/ajax/libs/mathjax/2.7.5/MathJax.js?config=TeX-AMS-MML_SVG\"></script><script type=\"text/javascript\">if (window.MathJax && window.MathJax.Hub && window.MathJax.Hub.Config) {window.MathJax.Hub.Config({SVG: {font: \"STIX-Web\"}});}</script>                <script type=\"text/javascript\">window.PlotlyConfig = {MathJaxConfig: 'local'};</script>\n",
              "        <script charset=\"utf-8\" src=\"https://cdn.plot.ly/plotly-2.24.1.min.js\"></script>                <div id=\"23c81da3-a4a0-4781-a36c-349cb4e476bd\" class=\"plotly-graph-div\" style=\"height:600px; width:1200px;\"></div>            <script type=\"text/javascript\">                                    window.PLOTLYENV=window.PLOTLYENV || {};                                    if (document.getElementById(\"23c81da3-a4a0-4781-a36c-349cb4e476bd\")) {                    Plotly.newPlot(                        \"23c81da3-a4a0-4781-a36c-349cb4e476bd\",                        [{\"marker\":{\"color\":\"Blue\",\"size\":5},\"mode\":\"markers\",\"name\":\"\\u041f\\u0440\\u0435\\u0434\\u0441\\u043a\\u0430\\u0437\\u0430\\u043d\\u0438\\u0435 \\u043d\\u0430 x_test\",\"x\":[0.04864275845245291,0.8717318949578305,0.6362194811532859,0.39221749528184063,0.7665422633556482,0.17857244474527742,0.3836532251490256,0.3059331605412711,1.0156872220654944,0.31899079313911943,0.14607762928177764,0.8465517233413815,0.20909789571439721,0.5385050446476917,0.7165271498113673],\"y\":[-0.8107111380048546,-0.20136054321142138,0.6741588848994996,0.3900111767972724,0.35712089497954735,-0.3155087148022036,0.36678886031682134,0.1321781871915054,-1.1433273636311299,0.17422583251834478,-0.4371683361140491,-0.04568432489025223,-0.2033398015214647,0.6676641261860571,0.5281505698302524],\"type\":\"scatter\"},{\"marker\":{\"color\":\"LightSkyBlue\",\"size\":10},\"mode\":\"markers\",\"name\":\"\\u041f\\u0440\\u0435\\u0434\\u0441\\u043a\\u0430\\u0437\\u0430\\u043d\\u0438\\u0435 \\u043d\\u0430 x_train\",\"x\":[0.1935791331541123,0.7414918695374813,0.5495236501799443,0.9522380983100062,0.3049744424524801,1.0112075003926706,0.47759537064635094,0.46092661359718623,0.620375085805519,0.3186017317977882,0.19206075359692815,0.06812186887562248,0.6937917137886659,0.16335707969615926,0.060825016427191375,0.12779814068180767,0.8222343440291981,0.9936706109775585,0.995585693560036,0.2223609967255541,0.16338233821234197,0.2709937630302383,0.45233176577359235,0.6294861682850023,0.5725136657422902,0.021556032019184653,0.9070575387604193,0.5185480476776199,0.6269136986542038,0.1022819986076801,0.5446139582330638,0.19040666040567744,0.6407308530458254,0.03601157510112919,0.3264230755616875],\"y\":[-0.2600756079141718,0.45073933067331334,0.6770017426447718,-0.7483242540776971,0.12905498981776303,-1.1196196104764788,0.5834019710043147,0.5517802710949964,0.6856990874956952,0.17298653975072814,-0.26565998285626,-0.7353464921226015,0.5850704591080046,-0.3722200070949759,-0.7635521151986749,-0.5064179231837193,0.09259821672169613,-1.0189431125679975,-1.0304747186228653,-0.15537966438715275,-0.3721254728401387,0.015463089285502515,0.5342050550899898,0.6797127925350953,0.6899359324774201,-0.9157961579675669,-0.4361684398072162,0.6459028219703018,0.6815796724161922,-0.6038504429127255,0.6730839872168048,-0.2717499250930393,0.6698908983586243,-0.8596826002178739,0.19773404761600963],\"type\":\"scatter\"},{\"marker\":{\"color\":\"Red\",\"size\":5},\"mode\":\"markers\",\"name\":\"\\u0422\\u0440\\u0435\\u043d\\u0438\\u0440\\u043e\\u0432\\u043e\\u0447\\u043d\\u044b\\u0435 \\u0434\\u0430\\u043d\\u043d\\u044b\\u0435\",\"x\":[0.1935791331541123,0.7414918695374813,0.5495236501799443,0.9522380983100062,0.3049744424524801,1.0112075003926706,0.47759537064635094,0.46092661359718623,0.620375085805519,0.3186017317977882,0.19206075359692815,0.06812186887562248,0.6937917137886659,0.16335707969615926,0.060825016427191375,0.12779814068180767,0.8222343440291981,0.9936706109775585,0.995585693560036,0.2223609967255541,0.16338233821234197,0.2709937630302383,0.45233176577359235,0.6294861682850023,0.5725136657422902,0.021556032019184653,0.9070575387604193,0.5185480476776199,0.6269136986542038,0.1022819986076801,0.5446139582330638,0.19040666040567744,0.6407308530458254,0.03601157510112919,0.3264230755616875],\"y\":[-0.2859564595462624,-0.1453241894066141,0.9881167017483331,-1.0054835593161149,0.30766558901833774,-1.0504976409579565,0.9829069002541185,1.1056386336255508,0.7237707054079208,0.5153680456168184,-0.4237473950348616,-1.0576406053102159,0.3159704144520749,-0.4835375519098044,-0.957966113287652,-0.7406302067305153,-0.4027283437201781,-0.9076691167366973,-0.9667402734682089,-0.07966140075010146,-0.694067627940149,0.04760375926911199,1.0367342487283842,0.42492249897236334,1.0517934539878466,-0.9169952841417408,-0.9151271740983736,1.0935700908838861,0.8550178965734798,-0.8724907503746768,0.8964555976619756,-0.4042558886414683,0.6425837258651887,-0.9573737312130097,0.4433732359063325],\"type\":\"scatter\"},{\"marker\":{\"color\":\"green\",\"size\":10},\"mode\":\"lines+markers\",\"name\":\"\\u0418\\u0441\\u0442\\u0438\\u043d\\u043d\\u044b\\u0435 \\u0437\\u043d\\u0430\\u0447\\u0435\\u043d\\u0438\\u044f\",\"opacity\":0.7,\"x\":[0.021556032019184653,0.03601157510112919,0.04864275845245291,0.060825016427191375,0.06812186887562248,0.1022819986076801,0.12779814068180767,0.14607762928177764,0.16335707969615926,0.16338233821234197,0.17857244474527742,0.19040666040567744,0.19206075359692815,0.1935791331541123,0.20909789571439721,0.2223609967255541,0.2709937630302383,0.3049744424524801,0.3059331605412711,0.3186017317977882,0.31899079313911943,0.3264230755616875,0.3836532251490256,0.39221749528184063,0.45233176577359235,0.46092661359718623,0.47759537064635094,0.5185480476776199,0.5385050446476917,0.5446139582330638,0.5495236501799443,0.5725136657422902,0.620375085805519,0.6269136986542038,0.6294861682850023,0.6362194811532859,0.6407308530458254,0.6937917137886659,0.7165271498113673,0.7414918695374813,0.7665422633556482,0.8222343440291981,0.8465517233413815,0.8717318949578305,0.9070575387604193,0.9522380983100062,0.9936706109775585,0.995585693560036,1.0112075003926706,1.0156872220654944],\"y\":[-0.9908419421412819,-0.9745105593320068,-0.953657137715219,-0.9278557437287231,-0.9097884062734731,-0.800506329535206,-0.6945663296345366,-0.6075429493019043,-0.5178993808666505,-0.5177636124038756,-0.43387798659494153,-0.3657476605998366,-0.3560551950042657,-0.3471240884303492,-0.2541758778940944,-0.17278941266172132,0.13152551159137585,0.3385868266034592,0.3442486577060824,0.41781353290458245,0.42003323117514924,0.4619391335727142,0.7444882355469523,0.7793193543026911,0.9554816664889644,0.9700146307684685,0.9901079124121519,0.9932168010946837,0.970876362435546,0.960967573122488,0.9519771411974917,0.8979897973412496,0.727353309318916,0.6985535309920792,0.6868970093813378,0.6555449883551803,0.6338790190413717,0.34587114949866166,0.20876906504156134,0.053432702053475195,-0.1037510643140196,-0.4384396008713527,-0.5701203765525372,-0.6924389229841701,-0.8342778138090549,-0.9553078549576611,-0.9992093285069047,-0.9996153844341773,-0.9975216205812526,-0.9951463305468402],\"type\":\"scatter\"}],                        {\"template\":{\"data\":{\"barpolar\":[{\"marker\":{\"line\":{\"color\":\"rgb(17,17,17)\",\"width\":0.5},\"pattern\":{\"fillmode\":\"overlay\",\"size\":10,\"solidity\":0.2}},\"type\":\"barpolar\"}],\"bar\":[{\"error_x\":{\"color\":\"#f2f5fa\"},\"error_y\":{\"color\":\"#f2f5fa\"},\"marker\":{\"line\":{\"color\":\"rgb(17,17,17)\",\"width\":0.5},\"pattern\":{\"fillmode\":\"overlay\",\"size\":10,\"solidity\":0.2}},\"type\":\"bar\"}],\"carpet\":[{\"aaxis\":{\"endlinecolor\":\"#A2B1C6\",\"gridcolor\":\"#506784\",\"linecolor\":\"#506784\",\"minorgridcolor\":\"#506784\",\"startlinecolor\":\"#A2B1C6\"},\"baxis\":{\"endlinecolor\":\"#A2B1C6\",\"gridcolor\":\"#506784\",\"linecolor\":\"#506784\",\"minorgridcolor\":\"#506784\",\"startlinecolor\":\"#A2B1C6\"},\"type\":\"carpet\"}],\"choropleth\":[{\"colorbar\":{\"outlinewidth\":0,\"ticks\":\"\"},\"type\":\"choropleth\"}],\"contourcarpet\":[{\"colorbar\":{\"outlinewidth\":0,\"ticks\":\"\"},\"type\":\"contourcarpet\"}],\"contour\":[{\"colorbar\":{\"outlinewidth\":0,\"ticks\":\"\"},\"colorscale\":[[0.0,\"#0d0887\"],[0.1111111111111111,\"#46039f\"],[0.2222222222222222,\"#7201a8\"],[0.3333333333333333,\"#9c179e\"],[0.4444444444444444,\"#bd3786\"],[0.5555555555555556,\"#d8576b\"],[0.6666666666666666,\"#ed7953\"],[0.7777777777777778,\"#fb9f3a\"],[0.8888888888888888,\"#fdca26\"],[1.0,\"#f0f921\"]],\"type\":\"contour\"}],\"heatmapgl\":[{\"colorbar\":{\"outlinewidth\":0,\"ticks\":\"\"},\"colorscale\":[[0.0,\"#0d0887\"],[0.1111111111111111,\"#46039f\"],[0.2222222222222222,\"#7201a8\"],[0.3333333333333333,\"#9c179e\"],[0.4444444444444444,\"#bd3786\"],[0.5555555555555556,\"#d8576b\"],[0.6666666666666666,\"#ed7953\"],[0.7777777777777778,\"#fb9f3a\"],[0.8888888888888888,\"#fdca26\"],[1.0,\"#f0f921\"]],\"type\":\"heatmapgl\"}],\"heatmap\":[{\"colorbar\":{\"outlinewidth\":0,\"ticks\":\"\"},\"colorscale\":[[0.0,\"#0d0887\"],[0.1111111111111111,\"#46039f\"],[0.2222222222222222,\"#7201a8\"],[0.3333333333333333,\"#9c179e\"],[0.4444444444444444,\"#bd3786\"],[0.5555555555555556,\"#d8576b\"],[0.6666666666666666,\"#ed7953\"],[0.7777777777777778,\"#fb9f3a\"],[0.8888888888888888,\"#fdca26\"],[1.0,\"#f0f921\"]],\"type\":\"heatmap\"}],\"histogram2dcontour\":[{\"colorbar\":{\"outlinewidth\":0,\"ticks\":\"\"},\"colorscale\":[[0.0,\"#0d0887\"],[0.1111111111111111,\"#46039f\"],[0.2222222222222222,\"#7201a8\"],[0.3333333333333333,\"#9c179e\"],[0.4444444444444444,\"#bd3786\"],[0.5555555555555556,\"#d8576b\"],[0.6666666666666666,\"#ed7953\"],[0.7777777777777778,\"#fb9f3a\"],[0.8888888888888888,\"#fdca26\"],[1.0,\"#f0f921\"]],\"type\":\"histogram2dcontour\"}],\"histogram2d\":[{\"colorbar\":{\"outlinewidth\":0,\"ticks\":\"\"},\"colorscale\":[[0.0,\"#0d0887\"],[0.1111111111111111,\"#46039f\"],[0.2222222222222222,\"#7201a8\"],[0.3333333333333333,\"#9c179e\"],[0.4444444444444444,\"#bd3786\"],[0.5555555555555556,\"#d8576b\"],[0.6666666666666666,\"#ed7953\"],[0.7777777777777778,\"#fb9f3a\"],[0.8888888888888888,\"#fdca26\"],[1.0,\"#f0f921\"]],\"type\":\"histogram2d\"}],\"histogram\":[{\"marker\":{\"pattern\":{\"fillmode\":\"overlay\",\"size\":10,\"solidity\":0.2}},\"type\":\"histogram\"}],\"mesh3d\":[{\"colorbar\":{\"outlinewidth\":0,\"ticks\":\"\"},\"type\":\"mesh3d\"}],\"parcoords\":[{\"line\":{\"colorbar\":{\"outlinewidth\":0,\"ticks\":\"\"}},\"type\":\"parcoords\"}],\"pie\":[{\"automargin\":true,\"type\":\"pie\"}],\"scatter3d\":[{\"line\":{\"colorbar\":{\"outlinewidth\":0,\"ticks\":\"\"}},\"marker\":{\"colorbar\":{\"outlinewidth\":0,\"ticks\":\"\"}},\"type\":\"scatter3d\"}],\"scattercarpet\":[{\"marker\":{\"colorbar\":{\"outlinewidth\":0,\"ticks\":\"\"}},\"type\":\"scattercarpet\"}],\"scattergeo\":[{\"marker\":{\"colorbar\":{\"outlinewidth\":0,\"ticks\":\"\"}},\"type\":\"scattergeo\"}],\"scattergl\":[{\"marker\":{\"line\":{\"color\":\"#283442\"}},\"type\":\"scattergl\"}],\"scattermapbox\":[{\"marker\":{\"colorbar\":{\"outlinewidth\":0,\"ticks\":\"\"}},\"type\":\"scattermapbox\"}],\"scatterpolargl\":[{\"marker\":{\"colorbar\":{\"outlinewidth\":0,\"ticks\":\"\"}},\"type\":\"scatterpolargl\"}],\"scatterpolar\":[{\"marker\":{\"colorbar\":{\"outlinewidth\":0,\"ticks\":\"\"}},\"type\":\"scatterpolar\"}],\"scatter\":[{\"marker\":{\"line\":{\"color\":\"#283442\"}},\"type\":\"scatter\"}],\"scatterternary\":[{\"marker\":{\"colorbar\":{\"outlinewidth\":0,\"ticks\":\"\"}},\"type\":\"scatterternary\"}],\"surface\":[{\"colorbar\":{\"outlinewidth\":0,\"ticks\":\"\"},\"colorscale\":[[0.0,\"#0d0887\"],[0.1111111111111111,\"#46039f\"],[0.2222222222222222,\"#7201a8\"],[0.3333333333333333,\"#9c179e\"],[0.4444444444444444,\"#bd3786\"],[0.5555555555555556,\"#d8576b\"],[0.6666666666666666,\"#ed7953\"],[0.7777777777777778,\"#fb9f3a\"],[0.8888888888888888,\"#fdca26\"],[1.0,\"#f0f921\"]],\"type\":\"surface\"}],\"table\":[{\"cells\":{\"fill\":{\"color\":\"#506784\"},\"line\":{\"color\":\"rgb(17,17,17)\"}},\"header\":{\"fill\":{\"color\":\"#2a3f5f\"},\"line\":{\"color\":\"rgb(17,17,17)\"}},\"type\":\"table\"}]},\"layout\":{\"annotationdefaults\":{\"arrowcolor\":\"#f2f5fa\",\"arrowhead\":0,\"arrowwidth\":1},\"autotypenumbers\":\"strict\",\"coloraxis\":{\"colorbar\":{\"outlinewidth\":0,\"ticks\":\"\"}},\"colorscale\":{\"diverging\":[[0,\"#8e0152\"],[0.1,\"#c51b7d\"],[0.2,\"#de77ae\"],[0.3,\"#f1b6da\"],[0.4,\"#fde0ef\"],[0.5,\"#f7f7f7\"],[0.6,\"#e6f5d0\"],[0.7,\"#b8e186\"],[0.8,\"#7fbc41\"],[0.9,\"#4d9221\"],[1,\"#276419\"]],\"sequential\":[[0.0,\"#0d0887\"],[0.1111111111111111,\"#46039f\"],[0.2222222222222222,\"#7201a8\"],[0.3333333333333333,\"#9c179e\"],[0.4444444444444444,\"#bd3786\"],[0.5555555555555556,\"#d8576b\"],[0.6666666666666666,\"#ed7953\"],[0.7777777777777778,\"#fb9f3a\"],[0.8888888888888888,\"#fdca26\"],[1.0,\"#f0f921\"]],\"sequentialminus\":[[0.0,\"#0d0887\"],[0.1111111111111111,\"#46039f\"],[0.2222222222222222,\"#7201a8\"],[0.3333333333333333,\"#9c179e\"],[0.4444444444444444,\"#bd3786\"],[0.5555555555555556,\"#d8576b\"],[0.6666666666666666,\"#ed7953\"],[0.7777777777777778,\"#fb9f3a\"],[0.8888888888888888,\"#fdca26\"],[1.0,\"#f0f921\"]]},\"colorway\":[\"#636efa\",\"#EF553B\",\"#00cc96\",\"#ab63fa\",\"#FFA15A\",\"#19d3f3\",\"#FF6692\",\"#B6E880\",\"#FF97FF\",\"#FECB52\"],\"font\":{\"color\":\"#f2f5fa\"},\"geo\":{\"bgcolor\":\"rgb(17,17,17)\",\"lakecolor\":\"rgb(17,17,17)\",\"landcolor\":\"rgb(17,17,17)\",\"showlakes\":true,\"showland\":true,\"subunitcolor\":\"#506784\"},\"hoverlabel\":{\"align\":\"left\"},\"hovermode\":\"closest\",\"mapbox\":{\"style\":\"dark\"},\"paper_bgcolor\":\"rgb(17,17,17)\",\"plot_bgcolor\":\"rgb(17,17,17)\",\"polar\":{\"angularaxis\":{\"gridcolor\":\"#506784\",\"linecolor\":\"#506784\",\"ticks\":\"\"},\"bgcolor\":\"rgb(17,17,17)\",\"radialaxis\":{\"gridcolor\":\"#506784\",\"linecolor\":\"#506784\",\"ticks\":\"\"}},\"scene\":{\"xaxis\":{\"backgroundcolor\":\"rgb(17,17,17)\",\"gridcolor\":\"#506784\",\"gridwidth\":2,\"linecolor\":\"#506784\",\"showbackground\":true,\"ticks\":\"\",\"zerolinecolor\":\"#C8D4E3\"},\"yaxis\":{\"backgroundcolor\":\"rgb(17,17,17)\",\"gridcolor\":\"#506784\",\"gridwidth\":2,\"linecolor\":\"#506784\",\"showbackground\":true,\"ticks\":\"\",\"zerolinecolor\":\"#C8D4E3\"},\"zaxis\":{\"backgroundcolor\":\"rgb(17,17,17)\",\"gridcolor\":\"#506784\",\"gridwidth\":2,\"linecolor\":\"#506784\",\"showbackground\":true,\"ticks\":\"\",\"zerolinecolor\":\"#C8D4E3\"}},\"shapedefaults\":{\"line\":{\"color\":\"#f2f5fa\"}},\"sliderdefaults\":{\"bgcolor\":\"#C8D4E3\",\"bordercolor\":\"rgb(17,17,17)\",\"borderwidth\":1,\"tickwidth\":0},\"ternary\":{\"aaxis\":{\"gridcolor\":\"#506784\",\"linecolor\":\"#506784\",\"ticks\":\"\"},\"baxis\":{\"gridcolor\":\"#506784\",\"linecolor\":\"#506784\",\"ticks\":\"\"},\"bgcolor\":\"rgb(17,17,17)\",\"caxis\":{\"gridcolor\":\"#506784\",\"linecolor\":\"#506784\",\"ticks\":\"\"}},\"title\":{\"x\":0.05},\"updatemenudefaults\":{\"bgcolor\":\"#506784\",\"borderwidth\":0},\"xaxis\":{\"automargin\":true,\"gridcolor\":\"#283442\",\"linecolor\":\"#506784\",\"ticks\":\"\",\"title\":{\"standoff\":15},\"zerolinecolor\":\"#283442\",\"zerolinewidth\":2},\"yaxis\":{\"automargin\":true,\"gridcolor\":\"#283442\",\"linecolor\":\"#506784\",\"ticks\":\"\",\"title\":{\"standoff\":15},\"zerolinecolor\":\"#283442\",\"zerolinewidth\":2}}},\"title\":{\"text\":\"\\u041f\\u0440\\u0435\\u0434\\u0441\\u043a\\u0430\\u0437\\u0430\\u043d\\u0438\\u0435 \\u043c\\u043e\\u0434\\u0435\\u043b\\u0438\"},\"width\":1200,\"height\":600},                        {\"responsive\": true}                    ).then(function(){\n",
              "                            \n",
              "var gd = document.getElementById('23c81da3-a4a0-4781-a36c-349cb4e476bd');\n",
              "var x = new MutationObserver(function (mutations, observer) {{\n",
              "        var display = window.getComputedStyle(gd).display;\n",
              "        if (!display || display === 'none') {{\n",
              "            console.log([gd, 'removed!']);\n",
              "            Plotly.purge(gd);\n",
              "            observer.disconnect();\n",
              "        }}\n",
              "}});\n",
              "\n",
              "// Listen for the removal of the full notebook cells\n",
              "var notebookContainer = gd.closest('#notebook-container');\n",
              "if (notebookContainer) {{\n",
              "    x.observe(notebookContainer, {childList: true});\n",
              "}}\n",
              "\n",
              "// Listen for the clearing of the current output cell\n",
              "var outputEl = gd.closest('.output');\n",
              "if (outputEl) {{\n",
              "    x.observe(outputEl, {childList: true});\n",
              "}}\n",
              "\n",
              "                        })                };                            </script>        </div>\n",
              "</body>\n",
              "</html>"
            ]
          },
          "metadata": {}
        }
      ]
    },
    {
      "cell_type": "markdown",
      "source": [
        "Важное замечание\n",
        "\n",
        "Регуляризация - не панацея. Не всегда помогает"
      ],
      "metadata": {
        "id": "lbDozX00JjOB"
      }
    },
    {
      "cell_type": "markdown",
      "metadata": {
        "id": "XCOcmRMXbNad"
      },
      "source": [
        "## Эластичная регуляризация\n",
        "Отметим, что во многих случаях неизвестно какая модель регуляризации окажется лучше, поэтому целесообразно использовать их обе вместе. Такая модель регуляризации называется эластической регуляризацией. Попробуем ее реализовать"
      ]
    },
    {
      "cell_type": "code",
      "execution_count": null,
      "metadata": {
        "id": "9oymlDq7bNad"
      },
      "outputs": [],
      "source": [
        "class ElasticRegression(LinearRegression): #унаследуем всё что можно от \"базовой\" модели\n",
        "    def __init__(self,\n",
        "                 learning_rate = 0.5,\n",
        "                 l1_penalty = 0.0,\n",
        "                 l2_penalty = 0.0,\n",
        "                 epochs = 100,\n",
        "                 weights = None,\n",
        "                 bias    = None,\n",
        "                 batch_size   = 1000,\n",
        "                 n_batches    = None,\n",
        "                 random_state = 42):\n",
        "\n",
        "        super().__init__(learning_rate = learning_rate,\n",
        "                         epochs = epochs,\n",
        "                         weights = weights,\n",
        "                         bias    = bias,\n",
        "                         batch_size   = batch_size,\n",
        "                         n_batches    = n_batches,\n",
        "                         random_state = random_state)\n",
        "        self.l1_penalty = l1_penalty\n",
        "        self.l2_penalty = l2_penalty\n",
        "\n",
        "    #---------------------------------\n",
        "    def loss(self,yhat, y):\n",
        "        # изменяем функцию потерь\n",
        "        l1_term = self.l1_penalty*np.sum(np.abs(self.weights[1:]))\n",
        "        l2_term = (self.l2_penalty/2)*np.sum(np.square(self.weights[1:]))\n",
        "        return np.square(yhat - y).mean() + l1_term + l2_term\n",
        "\n",
        "    #---------------------------------\n",
        "    def update(self):\n",
        "        # изменяем правило обновление весов\n",
        "        l2_term = self.l2_penalty*np.sum(self.weights[1:])\n",
        "        return self.weights - self.lr*(self.grad +  np.sign(self.weights)*self.l1_penalty + l2_term)"
      ]
    },
    {
      "cell_type": "markdown",
      "source": [
        "И в последний раз в этом блокноте\n",
        "\n",
        "* Создаем модель-объект\n",
        "\n",
        "* Обучаем через `.fit()`\n",
        "\n",
        "* Оцениваем через `.score()`\n",
        "\n",
        "* Рисуем функцию потерь через `.plot_cost()`"
      ],
      "metadata": {
        "id": "1LYiRaNTJRUg"
      }
    },
    {
      "cell_type": "code",
      "execution_count": null,
      "metadata": {
        "id": "kmrCaZPwbNad",
        "colab": {
          "base_uri": "https://localhost:8080/"
        },
        "outputId": "3726b3f4-07f6-4b3e-94ef-ccea88c9c3f6"
      },
      "outputs": [
        {
          "output_type": "stream",
          "name": "stdout",
          "text": [
            "Ошибка на тестовых данных = 0.80, \n",
            " Ошибка на тренировочных данных = 0.87\n"
          ]
        },
        {
          "output_type": "display_data",
          "data": {
            "text/html": [
              "<html>\n",
              "<head><meta charset=\"utf-8\" /></head>\n",
              "<body>\n",
              "    <div>            <script src=\"https://cdnjs.cloudflare.com/ajax/libs/mathjax/2.7.5/MathJax.js?config=TeX-AMS-MML_SVG\"></script><script type=\"text/javascript\">if (window.MathJax && window.MathJax.Hub && window.MathJax.Hub.Config) {window.MathJax.Hub.Config({SVG: {font: \"STIX-Web\"}});}</script>                <script type=\"text/javascript\">window.PlotlyConfig = {MathJaxConfig: 'local'};</script>\n",
              "        <script charset=\"utf-8\" src=\"https://cdn.plot.ly/plotly-2.24.1.min.js\"></script>                <div id=\"effa8d35-c90a-4407-9de8-960b77dc505c\" class=\"plotly-graph-div\" style=\"height:600px; width:1200px;\"></div>            <script type=\"text/javascript\">                                    window.PLOTLYENV=window.PLOTLYENV || {};                                    if (document.getElementById(\"effa8d35-c90a-4407-9de8-960b77dc505c\")) {                    Plotly.newPlot(                        \"effa8d35-c90a-4407-9de8-960b77dc505c\",                        [{\"mode\":\"lines+markers\",\"name\":\"\\u0420\\u0435\\u0430\\u043b\\u044c\\u043d\\u044b\\u0435 \\u0434\\u0430\\u043d\\u043d\\u044b\\u0435\",\"y\":[1.4630438214540666,0.7174600813483775,0.6857284654303907,0.688502798239397,0.6522278449122861,0.6075372771030088,0.5627794741258813,0.5679065427191402,0.5212677710704148,0.5488570331161524,0.49283516427001545,0.5101508994145368,0.5272419181323581,0.4919721589731511,0.46435177087892027,0.45334860559213214,0.42983424138274134,0.46334706941769266,0.3985917090114799,0.4499817808780217,0.44262696909456317,0.3867841715351603,0.3781912368358304,0.3945873955178154,0.38529320891538016,0.4033635516811774,0.4150728671678617,0.3551744382961388,0.39449077277515027,0.3325617317459732,0.341836153745392,0.3623273392506218,0.36787543575646614,0.3562309812674762,0.3408437402297571,0.33227897605560247,0.31302790267023867,0.3483060594008129,0.31644302038224437,0.33103941397177844,0.29557316625698643,0.32010679349103643,0.33350921909684383,0.30154555940584066,0.299878348248586,0.29489347896955276,0.31175905237564133,0.31227631492787356,0.32574777336818966,0.3100359328900373,0.3030529564005463,0.30048634647187034,0.29711258029252413,0.2972891391981794,0.27436680348170583,0.28041210845492487,0.2652078382661552,0.30631283440458934,0.2924927317962079,0.3047980837208022,0.2908035348526276,0.2728116269647988,0.2719349443947172,0.25739753498182655,0.28674132403562935,0.2844737445135013,0.29231631053446466,0.2650690675023514,0.2924722112650761,0.2936998134495609,0.3064082435603847,0.27969589600628225,0.2892745246351707,0.27435177731196564,0.2869906673022947,0.28176288941677274,0.2843043161552396,0.25426602680865074,0.29917930009972876,0.2690740451106343,0.2652479904306931,0.2867968583125426,0.2709059253239862,0.2437905708999916,0.24059823721182153,0.24531649065393848,0.2767665436237128,0.258265765088388,0.2513012253788853,0.2789853852276128,0.2716743212033219,0.28720531886668343,0.2501635425991107,0.256846459822615,0.24887243649185145,0.2271622047310772,0.23781889115048974,0.24030301000101248,0.23691132294247352,0.2512834200710971,0.24806235994785988,0.25920767300474123,0.24631825040465194,0.24203319778347324,0.24845864256628894,0.22545474046298597,0.2503913132775701,0.25515043100563733,0.23046926192049091,0.2466675988621775,0.21708366960086867,0.22158973391799153,0.21903350216162654,0.23669947483920847,0.22265669608911018,0.23160520824673347,0.22632509087383934,0.23081763323046736,0.20434947288767216,0.22215890595135682,0.24967053119626437,0.24517119239768084,0.2225965290842947,0.24624227375963467,0.2219656847166586,0.20710355417387008,0.22169301986499212,0.2194272469084203,0.2188964980675088,0.22684620893820748,0.2280942053224678,0.21694974560455496,0.19847167029855958,0.20412874945932388,0.21080222826735218,0.19660631679884819,0.1923293132726903,0.2170946103676977,0.21237632244562654,0.22090644261309986,0.21496096331283687,0.2132390588978622,0.2206244767894376,0.20152153386898933,0.2044354373023686,0.20821257059198375,0.20340269197914654,0.20128351691801968,0.21140104256871026,0.2071741473308217,0.19679111483942954,0.19242306879098633,0.1957480155473704,0.19453193252606804,0.18335871328580886,0.22211993236864827,0.1797969865797591,0.20533880169759836,0.20095024917060322,0.2056147549640579,0.19113092766267917,0.1865197929019677,0.19354855372617452,0.18837273511771466,0.19768416729460228,0.19103623940122197,0.2015120085345428,0.2114005229198336,0.18494858188799268,0.20060159246309303,0.1865813632379808,0.17459769547995382,0.18642805742290566,0.19323313517890128,0.19344763849148827,0.17512532549248713,0.172007290437303,0.16257009607686487,0.194029636487965,0.17710464761386283,0.17376021170731873,0.168077865920191,0.18755296007420275,0.1885071750612207,0.16886613531855157,0.18261093087431446,0.17028310668135074,0.19046536511666587,0.17810355172470851,0.17084708962572837,0.16605942951143515,0.1738964308732741,0.17481901441088962,0.1671342948645637,0.17856255543052812,0.1671976475991831,0.16817485418374636,0.1700778963952285,0.16990176544256486,0.17038890589501432,0.20261740741670062,0.17885785216539066,0.1540364818335471,0.16671418833875387,0.17110739241746323,0.15795354774380008,0.16269118723061868,0.18011813752800068,0.1800388987978335,0.1698690852725213,0.16641765918350326,0.15869111868345565,0.17494855600152423,0.17220338872603694,0.1528841001226412,0.15538729050776268,0.1531843570303532,0.15475104523617855,0.17060487093057375,0.14957440977426945,0.15320726754551595,0.15337300653298494,0.15731887401088282,0.15362793009634365,0.15585748845601788,0.15327875980953373,0.16681010209699929,0.17055118403038913,0.16574554890375368,0.1530700554405682,0.1443060137097383,0.15176280913189852,0.14892383042104637,0.15992408202053424,0.15332055269007494,0.15808591205815994,0.15300159742104658,0.1449090016276559,0.14375617329452045,0.1495005924199643,0.14614348902043445,0.14660368046722802,0.15481461673760555,0.13493175651382391,0.1655412612283589,0.13997311502407142,0.14389987245231828,0.13459124022261637,0.15047548237162087,0.15638918018015163,0.1602371084084718,0.1355969272723492,0.131133568761336,0.1443333994121149,0.16207383980535972,0.15155798873637208,0.13535418451539774,0.14137347349909954,0.13201003463705568,0.12956342128752418,0.1493942520301777,0.15243895571404678,0.15358702871637195,0.1471115131682922,0.1373425965568337,0.13438705341953897,0.146614389016375,0.12905108339620303,0.1458432166614777,0.14003842912314193,0.13545697634184056,0.12251929914483166,0.13328539414313448,0.1344962608497717,0.14639649381977088,0.14079338291896323,0.15054742148449887,0.13892173046552345,0.13930277865843602,0.15630250834997614,0.14326665030772656,0.12632290863635096,0.1293101827936999,0.1262103430080965,0.12651132909482818,0.14132003941418578,0.12568363053155346,0.12091343934819197,0.12472803298427731,0.13826999293918538,0.1265104370249933,0.12795387252419768,0.13077766527357756,0.13169681673868802,0.11756663182013477,0.14343559838291034,0.1350174021303189,0.12686280654460919,0.12620146592085377,0.12556999246780462],\"type\":\"scatter\"}],                        {\"template\":{\"data\":{\"barpolar\":[{\"marker\":{\"line\":{\"color\":\"rgb(17,17,17)\",\"width\":0.5},\"pattern\":{\"fillmode\":\"overlay\",\"size\":10,\"solidity\":0.2}},\"type\":\"barpolar\"}],\"bar\":[{\"error_x\":{\"color\":\"#f2f5fa\"},\"error_y\":{\"color\":\"#f2f5fa\"},\"marker\":{\"line\":{\"color\":\"rgb(17,17,17)\",\"width\":0.5},\"pattern\":{\"fillmode\":\"overlay\",\"size\":10,\"solidity\":0.2}},\"type\":\"bar\"}],\"carpet\":[{\"aaxis\":{\"endlinecolor\":\"#A2B1C6\",\"gridcolor\":\"#506784\",\"linecolor\":\"#506784\",\"minorgridcolor\":\"#506784\",\"startlinecolor\":\"#A2B1C6\"},\"baxis\":{\"endlinecolor\":\"#A2B1C6\",\"gridcolor\":\"#506784\",\"linecolor\":\"#506784\",\"minorgridcolor\":\"#506784\",\"startlinecolor\":\"#A2B1C6\"},\"type\":\"carpet\"}],\"choropleth\":[{\"colorbar\":{\"outlinewidth\":0,\"ticks\":\"\"},\"type\":\"choropleth\"}],\"contourcarpet\":[{\"colorbar\":{\"outlinewidth\":0,\"ticks\":\"\"},\"type\":\"contourcarpet\"}],\"contour\":[{\"colorbar\":{\"outlinewidth\":0,\"ticks\":\"\"},\"colorscale\":[[0.0,\"#0d0887\"],[0.1111111111111111,\"#46039f\"],[0.2222222222222222,\"#7201a8\"],[0.3333333333333333,\"#9c179e\"],[0.4444444444444444,\"#bd3786\"],[0.5555555555555556,\"#d8576b\"],[0.6666666666666666,\"#ed7953\"],[0.7777777777777778,\"#fb9f3a\"],[0.8888888888888888,\"#fdca26\"],[1.0,\"#f0f921\"]],\"type\":\"contour\"}],\"heatmapgl\":[{\"colorbar\":{\"outlinewidth\":0,\"ticks\":\"\"},\"colorscale\":[[0.0,\"#0d0887\"],[0.1111111111111111,\"#46039f\"],[0.2222222222222222,\"#7201a8\"],[0.3333333333333333,\"#9c179e\"],[0.4444444444444444,\"#bd3786\"],[0.5555555555555556,\"#d8576b\"],[0.6666666666666666,\"#ed7953\"],[0.7777777777777778,\"#fb9f3a\"],[0.8888888888888888,\"#fdca26\"],[1.0,\"#f0f921\"]],\"type\":\"heatmapgl\"}],\"heatmap\":[{\"colorbar\":{\"outlinewidth\":0,\"ticks\":\"\"},\"colorscale\":[[0.0,\"#0d0887\"],[0.1111111111111111,\"#46039f\"],[0.2222222222222222,\"#7201a8\"],[0.3333333333333333,\"#9c179e\"],[0.4444444444444444,\"#bd3786\"],[0.5555555555555556,\"#d8576b\"],[0.6666666666666666,\"#ed7953\"],[0.7777777777777778,\"#fb9f3a\"],[0.8888888888888888,\"#fdca26\"],[1.0,\"#f0f921\"]],\"type\":\"heatmap\"}],\"histogram2dcontour\":[{\"colorbar\":{\"outlinewidth\":0,\"ticks\":\"\"},\"colorscale\":[[0.0,\"#0d0887\"],[0.1111111111111111,\"#46039f\"],[0.2222222222222222,\"#7201a8\"],[0.3333333333333333,\"#9c179e\"],[0.4444444444444444,\"#bd3786\"],[0.5555555555555556,\"#d8576b\"],[0.6666666666666666,\"#ed7953\"],[0.7777777777777778,\"#fb9f3a\"],[0.8888888888888888,\"#fdca26\"],[1.0,\"#f0f921\"]],\"type\":\"histogram2dcontour\"}],\"histogram2d\":[{\"colorbar\":{\"outlinewidth\":0,\"ticks\":\"\"},\"colorscale\":[[0.0,\"#0d0887\"],[0.1111111111111111,\"#46039f\"],[0.2222222222222222,\"#7201a8\"],[0.3333333333333333,\"#9c179e\"],[0.4444444444444444,\"#bd3786\"],[0.5555555555555556,\"#d8576b\"],[0.6666666666666666,\"#ed7953\"],[0.7777777777777778,\"#fb9f3a\"],[0.8888888888888888,\"#fdca26\"],[1.0,\"#f0f921\"]],\"type\":\"histogram2d\"}],\"histogram\":[{\"marker\":{\"pattern\":{\"fillmode\":\"overlay\",\"size\":10,\"solidity\":0.2}},\"type\":\"histogram\"}],\"mesh3d\":[{\"colorbar\":{\"outlinewidth\":0,\"ticks\":\"\"},\"type\":\"mesh3d\"}],\"parcoords\":[{\"line\":{\"colorbar\":{\"outlinewidth\":0,\"ticks\":\"\"}},\"type\":\"parcoords\"}],\"pie\":[{\"automargin\":true,\"type\":\"pie\"}],\"scatter3d\":[{\"line\":{\"colorbar\":{\"outlinewidth\":0,\"ticks\":\"\"}},\"marker\":{\"colorbar\":{\"outlinewidth\":0,\"ticks\":\"\"}},\"type\":\"scatter3d\"}],\"scattercarpet\":[{\"marker\":{\"colorbar\":{\"outlinewidth\":0,\"ticks\":\"\"}},\"type\":\"scattercarpet\"}],\"scattergeo\":[{\"marker\":{\"colorbar\":{\"outlinewidth\":0,\"ticks\":\"\"}},\"type\":\"scattergeo\"}],\"scattergl\":[{\"marker\":{\"line\":{\"color\":\"#283442\"}},\"type\":\"scattergl\"}],\"scattermapbox\":[{\"marker\":{\"colorbar\":{\"outlinewidth\":0,\"ticks\":\"\"}},\"type\":\"scattermapbox\"}],\"scatterpolargl\":[{\"marker\":{\"colorbar\":{\"outlinewidth\":0,\"ticks\":\"\"}},\"type\":\"scatterpolargl\"}],\"scatterpolar\":[{\"marker\":{\"colorbar\":{\"outlinewidth\":0,\"ticks\":\"\"}},\"type\":\"scatterpolar\"}],\"scatter\":[{\"marker\":{\"line\":{\"color\":\"#283442\"}},\"type\":\"scatter\"}],\"scatterternary\":[{\"marker\":{\"colorbar\":{\"outlinewidth\":0,\"ticks\":\"\"}},\"type\":\"scatterternary\"}],\"surface\":[{\"colorbar\":{\"outlinewidth\":0,\"ticks\":\"\"},\"colorscale\":[[0.0,\"#0d0887\"],[0.1111111111111111,\"#46039f\"],[0.2222222222222222,\"#7201a8\"],[0.3333333333333333,\"#9c179e\"],[0.4444444444444444,\"#bd3786\"],[0.5555555555555556,\"#d8576b\"],[0.6666666666666666,\"#ed7953\"],[0.7777777777777778,\"#fb9f3a\"],[0.8888888888888888,\"#fdca26\"],[1.0,\"#f0f921\"]],\"type\":\"surface\"}],\"table\":[{\"cells\":{\"fill\":{\"color\":\"#506784\"},\"line\":{\"color\":\"rgb(17,17,17)\"}},\"header\":{\"fill\":{\"color\":\"#2a3f5f\"},\"line\":{\"color\":\"rgb(17,17,17)\"}},\"type\":\"table\"}]},\"layout\":{\"annotationdefaults\":{\"arrowcolor\":\"#f2f5fa\",\"arrowhead\":0,\"arrowwidth\":1},\"autotypenumbers\":\"strict\",\"coloraxis\":{\"colorbar\":{\"outlinewidth\":0,\"ticks\":\"\"}},\"colorscale\":{\"diverging\":[[0,\"#8e0152\"],[0.1,\"#c51b7d\"],[0.2,\"#de77ae\"],[0.3,\"#f1b6da\"],[0.4,\"#fde0ef\"],[0.5,\"#f7f7f7\"],[0.6,\"#e6f5d0\"],[0.7,\"#b8e186\"],[0.8,\"#7fbc41\"],[0.9,\"#4d9221\"],[1,\"#276419\"]],\"sequential\":[[0.0,\"#0d0887\"],[0.1111111111111111,\"#46039f\"],[0.2222222222222222,\"#7201a8\"],[0.3333333333333333,\"#9c179e\"],[0.4444444444444444,\"#bd3786\"],[0.5555555555555556,\"#d8576b\"],[0.6666666666666666,\"#ed7953\"],[0.7777777777777778,\"#fb9f3a\"],[0.8888888888888888,\"#fdca26\"],[1.0,\"#f0f921\"]],\"sequentialminus\":[[0.0,\"#0d0887\"],[0.1111111111111111,\"#46039f\"],[0.2222222222222222,\"#7201a8\"],[0.3333333333333333,\"#9c179e\"],[0.4444444444444444,\"#bd3786\"],[0.5555555555555556,\"#d8576b\"],[0.6666666666666666,\"#ed7953\"],[0.7777777777777778,\"#fb9f3a\"],[0.8888888888888888,\"#fdca26\"],[1.0,\"#f0f921\"]]},\"colorway\":[\"#636efa\",\"#EF553B\",\"#00cc96\",\"#ab63fa\",\"#FFA15A\",\"#19d3f3\",\"#FF6692\",\"#B6E880\",\"#FF97FF\",\"#FECB52\"],\"font\":{\"color\":\"#f2f5fa\"},\"geo\":{\"bgcolor\":\"rgb(17,17,17)\",\"lakecolor\":\"rgb(17,17,17)\",\"landcolor\":\"rgb(17,17,17)\",\"showlakes\":true,\"showland\":true,\"subunitcolor\":\"#506784\"},\"hoverlabel\":{\"align\":\"left\"},\"hovermode\":\"closest\",\"mapbox\":{\"style\":\"dark\"},\"paper_bgcolor\":\"rgb(17,17,17)\",\"plot_bgcolor\":\"rgb(17,17,17)\",\"polar\":{\"angularaxis\":{\"gridcolor\":\"#506784\",\"linecolor\":\"#506784\",\"ticks\":\"\"},\"bgcolor\":\"rgb(17,17,17)\",\"radialaxis\":{\"gridcolor\":\"#506784\",\"linecolor\":\"#506784\",\"ticks\":\"\"}},\"scene\":{\"xaxis\":{\"backgroundcolor\":\"rgb(17,17,17)\",\"gridcolor\":\"#506784\",\"gridwidth\":2,\"linecolor\":\"#506784\",\"showbackground\":true,\"ticks\":\"\",\"zerolinecolor\":\"#C8D4E3\"},\"yaxis\":{\"backgroundcolor\":\"rgb(17,17,17)\",\"gridcolor\":\"#506784\",\"gridwidth\":2,\"linecolor\":\"#506784\",\"showbackground\":true,\"ticks\":\"\",\"zerolinecolor\":\"#C8D4E3\"},\"zaxis\":{\"backgroundcolor\":\"rgb(17,17,17)\",\"gridcolor\":\"#506784\",\"gridwidth\":2,\"linecolor\":\"#506784\",\"showbackground\":true,\"ticks\":\"\",\"zerolinecolor\":\"#C8D4E3\"}},\"shapedefaults\":{\"line\":{\"color\":\"#f2f5fa\"}},\"sliderdefaults\":{\"bgcolor\":\"#C8D4E3\",\"bordercolor\":\"rgb(17,17,17)\",\"borderwidth\":1,\"tickwidth\":0},\"ternary\":{\"aaxis\":{\"gridcolor\":\"#506784\",\"linecolor\":\"#506784\",\"ticks\":\"\"},\"baxis\":{\"gridcolor\":\"#506784\",\"linecolor\":\"#506784\",\"ticks\":\"\"},\"bgcolor\":\"rgb(17,17,17)\",\"caxis\":{\"gridcolor\":\"#506784\",\"linecolor\":\"#506784\",\"ticks\":\"\"}},\"title\":{\"x\":0.05},\"updatemenudefaults\":{\"bgcolor\":\"#506784\",\"borderwidth\":0},\"xaxis\":{\"automargin\":true,\"gridcolor\":\"#283442\",\"linecolor\":\"#506784\",\"ticks\":\"\",\"title\":{\"standoff\":15},\"zerolinecolor\":\"#283442\",\"zerolinewidth\":2},\"yaxis\":{\"automargin\":true,\"gridcolor\":\"#283442\",\"linecolor\":\"#506784\",\"ticks\":\"\",\"title\":{\"standoff\":15},\"zerolinecolor\":\"#283442\",\"zerolinewidth\":2}}},\"title\":{\"text\":\"\\u041a\\u0440\\u0438\\u0432\\u0430\\u044f \\u043e\\u0431\\u0443\\u0447\\u0435\\u043d\\u0438\\u044f\"},\"width\":1200,\"height\":600},                        {\"responsive\": true}                    ).then(function(){\n",
              "                            \n",
              "var gd = document.getElementById('effa8d35-c90a-4407-9de8-960b77dc505c');\n",
              "var x = new MutationObserver(function (mutations, observer) {{\n",
              "        var display = window.getComputedStyle(gd).display;\n",
              "        if (!display || display === 'none') {{\n",
              "            console.log([gd, 'removed!']);\n",
              "            Plotly.purge(gd);\n",
              "            observer.disconnect();\n",
              "        }}\n",
              "}});\n",
              "\n",
              "// Listen for the removal of the full notebook cells\n",
              "var notebookContainer = gd.closest('#notebook-container');\n",
              "if (notebookContainer) {{\n",
              "    x.observe(notebookContainer, {childList: true});\n",
              "}}\n",
              "\n",
              "// Listen for the clearing of the current output cell\n",
              "var outputEl = gd.closest('.output');\n",
              "if (outputEl) {{\n",
              "    x.observe(outputEl, {childList: true});\n",
              "}}\n",
              "\n",
              "                        })                };                            </script>        </div>\n",
              "</body>\n",
              "</html>"
            ]
          },
          "metadata": {}
        }
      ],
      "source": [
        "regr_l1l2 = ElasticRegression(learning_rate=0.1,\n",
        "                         epochs=300,batch_size=10,\n",
        "                         l1_penalty = 0.0001,l2_penalty = 0.001 )\n",
        "regr_l1l2.fit(x_train_, y_train)\n",
        "\n",
        "print(f'Ошибка на тестовых данных = {regr_l1l2.score(x_test_, y_test):.2f}, \\n Ошибка на тренировочных данных = {regr_l1l2.score(x_train_, y_train):.2f}')\n",
        "regr_l1l2.plot_cost()"
      ]
    },
    {
      "cell_type": "code",
      "source": [
        "w, b = regr_l1l2.get_w_and_b()\n",
        "print(w,b)"
      ],
      "metadata": {
        "colab": {
          "base_uri": "https://localhost:8080/"
        },
        "id": "elnAE3CDat6P",
        "outputId": "550f3d44-c702-4fef-aa02-31733caa22f3"
      },
      "execution_count": null,
      "outputs": [
        {
          "output_type": "stream",
          "name": "stdout",
          "text": [
            "[ 3.92008426  0.03235775 -1.3787937  -1.42837648 -1.69711616 -1.18349794\n",
            " -0.04187663  0.24588499  0.36211507  1.12587409] -1.0090541478031454\n"
          ]
        }
      ]
    },
    {
      "cell_type": "code",
      "source": [
        "vis_weigths(np.hstack([b,w]))"
      ],
      "metadata": {
        "colab": {
          "base_uri": "https://localhost:8080/"
        },
        "id": "xshX0nEaQSUG",
        "outputId": "0fecb33e-9057-42e0-80c4-3b029fe9f681"
      },
      "execution_count": null,
      "outputs": [
        {
          "output_type": "display_data",
          "data": {
            "text/html": [
              "<html>\n",
              "<head><meta charset=\"utf-8\" /></head>\n",
              "<body>\n",
              "    <div>            <script src=\"https://cdnjs.cloudflare.com/ajax/libs/mathjax/2.7.5/MathJax.js?config=TeX-AMS-MML_SVG\"></script><script type=\"text/javascript\">if (window.MathJax && window.MathJax.Hub && window.MathJax.Hub.Config) {window.MathJax.Hub.Config({SVG: {font: \"STIX-Web\"}});}</script>                <script type=\"text/javascript\">window.PlotlyConfig = {MathJaxConfig: 'local'};</script>\n",
              "        <script charset=\"utf-8\" src=\"https://cdn.plot.ly/plotly-2.24.1.min.js\"></script>                <div id=\"bdb6ccaa-73b3-4428-a281-eea316d3d9a4\" class=\"plotly-graph-div\" style=\"height:600px; width:1200px;\"></div>            <script type=\"text/javascript\">                                    window.PLOTLYENV=window.PLOTLYENV || {};                                    if (document.getElementById(\"bdb6ccaa-73b3-4428-a281-eea316d3d9a4\")) {                    Plotly.newPlot(                        \"bdb6ccaa-73b3-4428-a281-eea316d3d9a4\",                        [{\"marker\":{\"color\":\"red\"},\"name\":\"\\u043e\\u0442\\u0440\\u0438\\u0446\\u0430\\u0442\\u0435\\u043b\\u044c\\u043d\\u044b\\u0435 \\u0432\\u0435\\u0441\\u0430\",\"x\":[0,3,4,5,6,7],\"y\":[-1.0090541478031454,-1.3787937037068922,-1.4283764831736823,-1.6971161587561134,-1.1834979406934427,-0.04187662957104817],\"type\":\"bar\"},{\"marker\":{\"color\":\"blue\"},\"name\":\"\\u043f\\u043e\\u043b\\u043e\\u0436\\u0438\\u0442\\u0435\\u043b\\u044c\\u043d\\u044b\\u0435 \\u0432\\u0435\\u0441\\u0430\",\"x\":[1,2,8,9,10],\"y\":[3.920084257381637,0.032357747863492714,0.2458849919821476,0.3621150744620204,1.1258740900210253],\"type\":\"bar\"}],                        {\"template\":{\"data\":{\"barpolar\":[{\"marker\":{\"line\":{\"color\":\"rgb(17,17,17)\",\"width\":0.5},\"pattern\":{\"fillmode\":\"overlay\",\"size\":10,\"solidity\":0.2}},\"type\":\"barpolar\"}],\"bar\":[{\"error_x\":{\"color\":\"#f2f5fa\"},\"error_y\":{\"color\":\"#f2f5fa\"},\"marker\":{\"line\":{\"color\":\"rgb(17,17,17)\",\"width\":0.5},\"pattern\":{\"fillmode\":\"overlay\",\"size\":10,\"solidity\":0.2}},\"type\":\"bar\"}],\"carpet\":[{\"aaxis\":{\"endlinecolor\":\"#A2B1C6\",\"gridcolor\":\"#506784\",\"linecolor\":\"#506784\",\"minorgridcolor\":\"#506784\",\"startlinecolor\":\"#A2B1C6\"},\"baxis\":{\"endlinecolor\":\"#A2B1C6\",\"gridcolor\":\"#506784\",\"linecolor\":\"#506784\",\"minorgridcolor\":\"#506784\",\"startlinecolor\":\"#A2B1C6\"},\"type\":\"carpet\"}],\"choropleth\":[{\"colorbar\":{\"outlinewidth\":0,\"ticks\":\"\"},\"type\":\"choropleth\"}],\"contourcarpet\":[{\"colorbar\":{\"outlinewidth\":0,\"ticks\":\"\"},\"type\":\"contourcarpet\"}],\"contour\":[{\"colorbar\":{\"outlinewidth\":0,\"ticks\":\"\"},\"colorscale\":[[0.0,\"#0d0887\"],[0.1111111111111111,\"#46039f\"],[0.2222222222222222,\"#7201a8\"],[0.3333333333333333,\"#9c179e\"],[0.4444444444444444,\"#bd3786\"],[0.5555555555555556,\"#d8576b\"],[0.6666666666666666,\"#ed7953\"],[0.7777777777777778,\"#fb9f3a\"],[0.8888888888888888,\"#fdca26\"],[1.0,\"#f0f921\"]],\"type\":\"contour\"}],\"heatmapgl\":[{\"colorbar\":{\"outlinewidth\":0,\"ticks\":\"\"},\"colorscale\":[[0.0,\"#0d0887\"],[0.1111111111111111,\"#46039f\"],[0.2222222222222222,\"#7201a8\"],[0.3333333333333333,\"#9c179e\"],[0.4444444444444444,\"#bd3786\"],[0.5555555555555556,\"#d8576b\"],[0.6666666666666666,\"#ed7953\"],[0.7777777777777778,\"#fb9f3a\"],[0.8888888888888888,\"#fdca26\"],[1.0,\"#f0f921\"]],\"type\":\"heatmapgl\"}],\"heatmap\":[{\"colorbar\":{\"outlinewidth\":0,\"ticks\":\"\"},\"colorscale\":[[0.0,\"#0d0887\"],[0.1111111111111111,\"#46039f\"],[0.2222222222222222,\"#7201a8\"],[0.3333333333333333,\"#9c179e\"],[0.4444444444444444,\"#bd3786\"],[0.5555555555555556,\"#d8576b\"],[0.6666666666666666,\"#ed7953\"],[0.7777777777777778,\"#fb9f3a\"],[0.8888888888888888,\"#fdca26\"],[1.0,\"#f0f921\"]],\"type\":\"heatmap\"}],\"histogram2dcontour\":[{\"colorbar\":{\"outlinewidth\":0,\"ticks\":\"\"},\"colorscale\":[[0.0,\"#0d0887\"],[0.1111111111111111,\"#46039f\"],[0.2222222222222222,\"#7201a8\"],[0.3333333333333333,\"#9c179e\"],[0.4444444444444444,\"#bd3786\"],[0.5555555555555556,\"#d8576b\"],[0.6666666666666666,\"#ed7953\"],[0.7777777777777778,\"#fb9f3a\"],[0.8888888888888888,\"#fdca26\"],[1.0,\"#f0f921\"]],\"type\":\"histogram2dcontour\"}],\"histogram2d\":[{\"colorbar\":{\"outlinewidth\":0,\"ticks\":\"\"},\"colorscale\":[[0.0,\"#0d0887\"],[0.1111111111111111,\"#46039f\"],[0.2222222222222222,\"#7201a8\"],[0.3333333333333333,\"#9c179e\"],[0.4444444444444444,\"#bd3786\"],[0.5555555555555556,\"#d8576b\"],[0.6666666666666666,\"#ed7953\"],[0.7777777777777778,\"#fb9f3a\"],[0.8888888888888888,\"#fdca26\"],[1.0,\"#f0f921\"]],\"type\":\"histogram2d\"}],\"histogram\":[{\"marker\":{\"pattern\":{\"fillmode\":\"overlay\",\"size\":10,\"solidity\":0.2}},\"type\":\"histogram\"}],\"mesh3d\":[{\"colorbar\":{\"outlinewidth\":0,\"ticks\":\"\"},\"type\":\"mesh3d\"}],\"parcoords\":[{\"line\":{\"colorbar\":{\"outlinewidth\":0,\"ticks\":\"\"}},\"type\":\"parcoords\"}],\"pie\":[{\"automargin\":true,\"type\":\"pie\"}],\"scatter3d\":[{\"line\":{\"colorbar\":{\"outlinewidth\":0,\"ticks\":\"\"}},\"marker\":{\"colorbar\":{\"outlinewidth\":0,\"ticks\":\"\"}},\"type\":\"scatter3d\"}],\"scattercarpet\":[{\"marker\":{\"colorbar\":{\"outlinewidth\":0,\"ticks\":\"\"}},\"type\":\"scattercarpet\"}],\"scattergeo\":[{\"marker\":{\"colorbar\":{\"outlinewidth\":0,\"ticks\":\"\"}},\"type\":\"scattergeo\"}],\"scattergl\":[{\"marker\":{\"line\":{\"color\":\"#283442\"}},\"type\":\"scattergl\"}],\"scattermapbox\":[{\"marker\":{\"colorbar\":{\"outlinewidth\":0,\"ticks\":\"\"}},\"type\":\"scattermapbox\"}],\"scatterpolargl\":[{\"marker\":{\"colorbar\":{\"outlinewidth\":0,\"ticks\":\"\"}},\"type\":\"scatterpolargl\"}],\"scatterpolar\":[{\"marker\":{\"colorbar\":{\"outlinewidth\":0,\"ticks\":\"\"}},\"type\":\"scatterpolar\"}],\"scatter\":[{\"marker\":{\"line\":{\"color\":\"#283442\"}},\"type\":\"scatter\"}],\"scatterternary\":[{\"marker\":{\"colorbar\":{\"outlinewidth\":0,\"ticks\":\"\"}},\"type\":\"scatterternary\"}],\"surface\":[{\"colorbar\":{\"outlinewidth\":0,\"ticks\":\"\"},\"colorscale\":[[0.0,\"#0d0887\"],[0.1111111111111111,\"#46039f\"],[0.2222222222222222,\"#7201a8\"],[0.3333333333333333,\"#9c179e\"],[0.4444444444444444,\"#bd3786\"],[0.5555555555555556,\"#d8576b\"],[0.6666666666666666,\"#ed7953\"],[0.7777777777777778,\"#fb9f3a\"],[0.8888888888888888,\"#fdca26\"],[1.0,\"#f0f921\"]],\"type\":\"surface\"}],\"table\":[{\"cells\":{\"fill\":{\"color\":\"#506784\"},\"line\":{\"color\":\"rgb(17,17,17)\"}},\"header\":{\"fill\":{\"color\":\"#2a3f5f\"},\"line\":{\"color\":\"rgb(17,17,17)\"}},\"type\":\"table\"}]},\"layout\":{\"annotationdefaults\":{\"arrowcolor\":\"#f2f5fa\",\"arrowhead\":0,\"arrowwidth\":1},\"autotypenumbers\":\"strict\",\"coloraxis\":{\"colorbar\":{\"outlinewidth\":0,\"ticks\":\"\"}},\"colorscale\":{\"diverging\":[[0,\"#8e0152\"],[0.1,\"#c51b7d\"],[0.2,\"#de77ae\"],[0.3,\"#f1b6da\"],[0.4,\"#fde0ef\"],[0.5,\"#f7f7f7\"],[0.6,\"#e6f5d0\"],[0.7,\"#b8e186\"],[0.8,\"#7fbc41\"],[0.9,\"#4d9221\"],[1,\"#276419\"]],\"sequential\":[[0.0,\"#0d0887\"],[0.1111111111111111,\"#46039f\"],[0.2222222222222222,\"#7201a8\"],[0.3333333333333333,\"#9c179e\"],[0.4444444444444444,\"#bd3786\"],[0.5555555555555556,\"#d8576b\"],[0.6666666666666666,\"#ed7953\"],[0.7777777777777778,\"#fb9f3a\"],[0.8888888888888888,\"#fdca26\"],[1.0,\"#f0f921\"]],\"sequentialminus\":[[0.0,\"#0d0887\"],[0.1111111111111111,\"#46039f\"],[0.2222222222222222,\"#7201a8\"],[0.3333333333333333,\"#9c179e\"],[0.4444444444444444,\"#bd3786\"],[0.5555555555555556,\"#d8576b\"],[0.6666666666666666,\"#ed7953\"],[0.7777777777777778,\"#fb9f3a\"],[0.8888888888888888,\"#fdca26\"],[1.0,\"#f0f921\"]]},\"colorway\":[\"#636efa\",\"#EF553B\",\"#00cc96\",\"#ab63fa\",\"#FFA15A\",\"#19d3f3\",\"#FF6692\",\"#B6E880\",\"#FF97FF\",\"#FECB52\"],\"font\":{\"color\":\"#f2f5fa\"},\"geo\":{\"bgcolor\":\"rgb(17,17,17)\",\"lakecolor\":\"rgb(17,17,17)\",\"landcolor\":\"rgb(17,17,17)\",\"showlakes\":true,\"showland\":true,\"subunitcolor\":\"#506784\"},\"hoverlabel\":{\"align\":\"left\"},\"hovermode\":\"closest\",\"mapbox\":{\"style\":\"dark\"},\"paper_bgcolor\":\"rgb(17,17,17)\",\"plot_bgcolor\":\"rgb(17,17,17)\",\"polar\":{\"angularaxis\":{\"gridcolor\":\"#506784\",\"linecolor\":\"#506784\",\"ticks\":\"\"},\"bgcolor\":\"rgb(17,17,17)\",\"radialaxis\":{\"gridcolor\":\"#506784\",\"linecolor\":\"#506784\",\"ticks\":\"\"}},\"scene\":{\"xaxis\":{\"backgroundcolor\":\"rgb(17,17,17)\",\"gridcolor\":\"#506784\",\"gridwidth\":2,\"linecolor\":\"#506784\",\"showbackground\":true,\"ticks\":\"\",\"zerolinecolor\":\"#C8D4E3\"},\"yaxis\":{\"backgroundcolor\":\"rgb(17,17,17)\",\"gridcolor\":\"#506784\",\"gridwidth\":2,\"linecolor\":\"#506784\",\"showbackground\":true,\"ticks\":\"\",\"zerolinecolor\":\"#C8D4E3\"},\"zaxis\":{\"backgroundcolor\":\"rgb(17,17,17)\",\"gridcolor\":\"#506784\",\"gridwidth\":2,\"linecolor\":\"#506784\",\"showbackground\":true,\"ticks\":\"\",\"zerolinecolor\":\"#C8D4E3\"}},\"shapedefaults\":{\"line\":{\"color\":\"#f2f5fa\"}},\"sliderdefaults\":{\"bgcolor\":\"#C8D4E3\",\"bordercolor\":\"rgb(17,17,17)\",\"borderwidth\":1,\"tickwidth\":0},\"ternary\":{\"aaxis\":{\"gridcolor\":\"#506784\",\"linecolor\":\"#506784\",\"ticks\":\"\"},\"baxis\":{\"gridcolor\":\"#506784\",\"linecolor\":\"#506784\",\"ticks\":\"\"},\"bgcolor\":\"rgb(17,17,17)\",\"caxis\":{\"gridcolor\":\"#506784\",\"linecolor\":\"#506784\",\"ticks\":\"\"}},\"title\":{\"x\":0.05},\"updatemenudefaults\":{\"bgcolor\":\"#506784\",\"borderwidth\":0},\"xaxis\":{\"automargin\":true,\"gridcolor\":\"#283442\",\"linecolor\":\"#506784\",\"ticks\":\"\",\"title\":{\"standoff\":15},\"zerolinecolor\":\"#283442\",\"zerolinewidth\":2},\"yaxis\":{\"automargin\":true,\"gridcolor\":\"#283442\",\"linecolor\":\"#506784\",\"ticks\":\"\",\"title\":{\"standoff\":15},\"zerolinecolor\":\"#283442\",\"zerolinewidth\":2}}},\"xaxis\":{\"tickmode\":\"array\",\"tickvals\":[0,1,2,3,4,5,6,7,8,9,10],\"ticktext\":[\"w0\",\"w1\",\"w2\",\"w3\",\"w4\",\"w5\",\"w6\",\"w7\",\"w8\",\"w9\",\"w10\"]},\"title\":{\"text\":\"\\u0412\\u0435\\u0441\\u0430 \\u043c\\u043e\\u0434\\u0435\\u043b\\u0438\"},\"width\":1200,\"height\":600},                        {\"responsive\": true}                    ).then(function(){\n",
              "                            \n",
              "var gd = document.getElementById('bdb6ccaa-73b3-4428-a281-eea316d3d9a4');\n",
              "var x = new MutationObserver(function (mutations, observer) {{\n",
              "        var display = window.getComputedStyle(gd).display;\n",
              "        if (!display || display === 'none') {{\n",
              "            console.log([gd, 'removed!']);\n",
              "            Plotly.purge(gd);\n",
              "            observer.disconnect();\n",
              "        }}\n",
              "}});\n",
              "\n",
              "// Listen for the removal of the full notebook cells\n",
              "var notebookContainer = gd.closest('#notebook-container');\n",
              "if (notebookContainer) {{\n",
              "    x.observe(notebookContainer, {childList: true});\n",
              "}}\n",
              "\n",
              "// Listen for the clearing of the current output cell\n",
              "var outputEl = gd.closest('.output');\n",
              "if (outputEl) {{\n",
              "    x.observe(outputEl, {childList: true});\n",
              "}}\n",
              "\n",
              "                        })                };                            </script>        </div>\n",
              "</body>\n",
              "</html>"
            ]
          },
          "metadata": {}
        }
      ]
    },
    {
      "cell_type": "code",
      "source": [
        "np.sum(np.abs(w))"
      ],
      "metadata": {
        "colab": {
          "base_uri": "https://localhost:8080/"
        },
        "id": "FdlBCgxhausE",
        "outputId": "df9d19dc-e827-4cca-8100-665b7e218bf5"
      },
      "execution_count": null,
      "outputs": [
        {
          "output_type": "execute_result",
          "data": {
            "text/plain": [
              "11.415977077611501"
            ]
          },
          "metadata": {},
          "execution_count": 105
        }
      ]
    },
    {
      "cell_type": "markdown",
      "source": [
        "Посмотрим на результат."
      ],
      "metadata": {
        "id": "s1H7a5ZCJqgZ"
      }
    },
    {
      "cell_type": "code",
      "source": [
        "plot_model_class(x_train_, y_train, x_test_, x, y_true, regr_l1l2);"
      ],
      "metadata": {
        "id": "su4J0g46JzRI",
        "colab": {
          "base_uri": "https://localhost:8080/"
        },
        "outputId": "7902fd59-e3ac-42b8-99ab-f171e852b9a2"
      },
      "execution_count": null,
      "outputs": [
        {
          "output_type": "display_data",
          "data": {
            "text/html": [
              "<html>\n",
              "<head><meta charset=\"utf-8\" /></head>\n",
              "<body>\n",
              "    <div>            <script src=\"https://cdnjs.cloudflare.com/ajax/libs/mathjax/2.7.5/MathJax.js?config=TeX-AMS-MML_SVG\"></script><script type=\"text/javascript\">if (window.MathJax && window.MathJax.Hub && window.MathJax.Hub.Config) {window.MathJax.Hub.Config({SVG: {font: \"STIX-Web\"}});}</script>                <script type=\"text/javascript\">window.PlotlyConfig = {MathJaxConfig: 'local'};</script>\n",
              "        <script charset=\"utf-8\" src=\"https://cdn.plot.ly/plotly-2.24.1.min.js\"></script>                <div id=\"d53a0825-09d6-4c39-8476-7fb0cb0cbc8a\" class=\"plotly-graph-div\" style=\"height:600px; width:1200px;\"></div>            <script type=\"text/javascript\">                                    window.PLOTLYENV=window.PLOTLYENV || {};                                    if (document.getElementById(\"d53a0825-09d6-4c39-8476-7fb0cb0cbc8a\")) {                    Plotly.newPlot(                        \"d53a0825-09d6-4c39-8476-7fb0cb0cbc8a\",                        [{\"marker\":{\"color\":\"Blue\",\"size\":5},\"mode\":\"markers\",\"name\":\"\\u041f\\u0440\\u0435\\u0434\\u0441\\u043a\\u0430\\u0437\\u0430\\u043d\\u0438\\u0435 \\u043d\\u0430 x_test\",\"x\":[0.04864275845245291,0.8717318949578305,0.6362194811532859,0.39221749528184063,0.7665422633556482,0.17857244474527742,0.3836532251490256,0.3059331605412711,1.0156872220654944,0.31899079313911943,0.14607762928177764,0.8465517233413815,0.20909789571439721,0.5385050446476917,0.7165271498113673],\"y\":[-0.8184610401402822,-0.22255589328859327,0.6768283007658985,0.39664838226414545,0.3461859726585343,-0.31765348238705915,0.3731828617773858,0.1357716981360163,-1.1289040461535003,0.1783501448202362,-0.44079967399023895,-0.06536943498371725,-0.2040703396008165,0.6750489699913979,0.5231925208434766],\"type\":\"scatter\"},{\"marker\":{\"color\":\"LightSkyBlue\",\"size\":10},\"mode\":\"markers\",\"name\":\"\\u041f\\u0440\\u0435\\u0434\\u0441\\u043a\\u0430\\u0437\\u0430\\u043d\\u0438\\u0435 \\u043d\\u0430 x_train\",\"x\":[0.1935791331541123,0.7414918695374813,0.5495236501799443,0.9522380983100062,0.3049744424524801,1.0112075003926706,0.47759537064635094,0.46092661359718623,0.620375085805519,0.3186017317977882,0.19206075359692815,0.06812186887562248,0.6937917137886659,0.16335707969615926,0.060825016427191375,0.12779814068180767,0.8222343440291981,0.9936706109775585,0.995585693560036,0.2223609967255541,0.16338233821234197,0.2709937630302383,0.45233176577359235,0.6294861682850023,0.5725136657422902,0.021556032019184653,0.9070575387604193,0.5185480476776199,0.6269136986542038,0.1022819986076801,0.5446139582330638,0.19040666040567744,0.6407308530458254,0.03601157510112919,0.3264230755616875],\"y\":[-0.26152589082914673,0.44286168442895757,0.6841005000856099,-0.7631336924943212,0.1326087985617252,-1.1083601157970404,0.5913967124669123,0.5596871934780442,0.6894796283064027,0.17709531790424854,-0.26718064693512816,-0.7423297633108752,0.5825816541816492,-0.37506473048409933,-0.7708265435580625,-0.5108680965535727,0.07515575486328688,-1.018245597874709,-1.028756327876565,-0.15549606187138354,-0.3749690391551437,0.01755645955416857,0.5420293437507836,0.6828711771258036,0.6962455442504977,-0.9245517774045618,-0.45725982941341425,0.6536619031852724,0.6849183243818026,-0.6094136208959822,0.680317400049466,-0.2733472400281021,0.6722188720400917,-0.8679106752011587,0.2021515415367256],\"type\":\"scatter\"},{\"marker\":{\"color\":\"Red\",\"size\":5},\"mode\":\"markers\",\"name\":\"\\u0422\\u0440\\u0435\\u043d\\u0438\\u0440\\u043e\\u0432\\u043e\\u0447\\u043d\\u044b\\u0435 \\u0434\\u0430\\u043d\\u043d\\u044b\\u0435\",\"x\":[0.1935791331541123,0.7414918695374813,0.5495236501799443,0.9522380983100062,0.3049744424524801,1.0112075003926706,0.47759537064635094,0.46092661359718623,0.620375085805519,0.3186017317977882,0.19206075359692815,0.06812186887562248,0.6937917137886659,0.16335707969615926,0.060825016427191375,0.12779814068180767,0.8222343440291981,0.9936706109775585,0.995585693560036,0.2223609967255541,0.16338233821234197,0.2709937630302383,0.45233176577359235,0.6294861682850023,0.5725136657422902,0.021556032019184653,0.9070575387604193,0.5185480476776199,0.6269136986542038,0.1022819986076801,0.5446139582330638,0.19040666040567744,0.6407308530458254,0.03601157510112919,0.3264230755616875],\"y\":[-0.2859564595462624,-0.1453241894066141,0.9881167017483331,-1.0054835593161149,0.30766558901833774,-1.0504976409579565,0.9829069002541185,1.1056386336255508,0.7237707054079208,0.5153680456168184,-0.4237473950348616,-1.0576406053102159,0.3159704144520749,-0.4835375519098044,-0.957966113287652,-0.7406302067305153,-0.4027283437201781,-0.9076691167366973,-0.9667402734682089,-0.07966140075010146,-0.694067627940149,0.04760375926911199,1.0367342487283842,0.42492249897236334,1.0517934539878466,-0.9169952841417408,-0.9151271740983736,1.0935700908838861,0.8550178965734798,-0.8724907503746768,0.8964555976619756,-0.4042558886414683,0.6425837258651887,-0.9573737312130097,0.4433732359063325],\"type\":\"scatter\"},{\"marker\":{\"color\":\"green\",\"size\":10},\"mode\":\"lines+markers\",\"name\":\"\\u0418\\u0441\\u0442\\u0438\\u043d\\u043d\\u044b\\u0435 \\u0437\\u043d\\u0430\\u0447\\u0435\\u043d\\u0438\\u044f\",\"opacity\":0.7,\"x\":[0.021556032019184653,0.03601157510112919,0.04864275845245291,0.060825016427191375,0.06812186887562248,0.1022819986076801,0.12779814068180767,0.14607762928177764,0.16335707969615926,0.16338233821234197,0.17857244474527742,0.19040666040567744,0.19206075359692815,0.1935791331541123,0.20909789571439721,0.2223609967255541,0.2709937630302383,0.3049744424524801,0.3059331605412711,0.3186017317977882,0.31899079313911943,0.3264230755616875,0.3836532251490256,0.39221749528184063,0.45233176577359235,0.46092661359718623,0.47759537064635094,0.5185480476776199,0.5385050446476917,0.5446139582330638,0.5495236501799443,0.5725136657422902,0.620375085805519,0.6269136986542038,0.6294861682850023,0.6362194811532859,0.6407308530458254,0.6937917137886659,0.7165271498113673,0.7414918695374813,0.7665422633556482,0.8222343440291981,0.8465517233413815,0.8717318949578305,0.9070575387604193,0.9522380983100062,0.9936706109775585,0.995585693560036,1.0112075003926706,1.0156872220654944],\"y\":[-0.9908419421412819,-0.9745105593320068,-0.953657137715219,-0.9278557437287231,-0.9097884062734731,-0.800506329535206,-0.6945663296345366,-0.6075429493019043,-0.5178993808666505,-0.5177636124038756,-0.43387798659494153,-0.3657476605998366,-0.3560551950042657,-0.3471240884303492,-0.2541758778940944,-0.17278941266172132,0.13152551159137585,0.3385868266034592,0.3442486577060824,0.41781353290458245,0.42003323117514924,0.4619391335727142,0.7444882355469523,0.7793193543026911,0.9554816664889644,0.9700146307684685,0.9901079124121519,0.9932168010946837,0.970876362435546,0.960967573122488,0.9519771411974917,0.8979897973412496,0.727353309318916,0.6985535309920792,0.6868970093813378,0.6555449883551803,0.6338790190413717,0.34587114949866166,0.20876906504156134,0.053432702053475195,-0.1037510643140196,-0.4384396008713527,-0.5701203765525372,-0.6924389229841701,-0.8342778138090549,-0.9553078549576611,-0.9992093285069047,-0.9996153844341773,-0.9975216205812526,-0.9951463305468402],\"type\":\"scatter\"}],                        {\"template\":{\"data\":{\"barpolar\":[{\"marker\":{\"line\":{\"color\":\"rgb(17,17,17)\",\"width\":0.5},\"pattern\":{\"fillmode\":\"overlay\",\"size\":10,\"solidity\":0.2}},\"type\":\"barpolar\"}],\"bar\":[{\"error_x\":{\"color\":\"#f2f5fa\"},\"error_y\":{\"color\":\"#f2f5fa\"},\"marker\":{\"line\":{\"color\":\"rgb(17,17,17)\",\"width\":0.5},\"pattern\":{\"fillmode\":\"overlay\",\"size\":10,\"solidity\":0.2}},\"type\":\"bar\"}],\"carpet\":[{\"aaxis\":{\"endlinecolor\":\"#A2B1C6\",\"gridcolor\":\"#506784\",\"linecolor\":\"#506784\",\"minorgridcolor\":\"#506784\",\"startlinecolor\":\"#A2B1C6\"},\"baxis\":{\"endlinecolor\":\"#A2B1C6\",\"gridcolor\":\"#506784\",\"linecolor\":\"#506784\",\"minorgridcolor\":\"#506784\",\"startlinecolor\":\"#A2B1C6\"},\"type\":\"carpet\"}],\"choropleth\":[{\"colorbar\":{\"outlinewidth\":0,\"ticks\":\"\"},\"type\":\"choropleth\"}],\"contourcarpet\":[{\"colorbar\":{\"outlinewidth\":0,\"ticks\":\"\"},\"type\":\"contourcarpet\"}],\"contour\":[{\"colorbar\":{\"outlinewidth\":0,\"ticks\":\"\"},\"colorscale\":[[0.0,\"#0d0887\"],[0.1111111111111111,\"#46039f\"],[0.2222222222222222,\"#7201a8\"],[0.3333333333333333,\"#9c179e\"],[0.4444444444444444,\"#bd3786\"],[0.5555555555555556,\"#d8576b\"],[0.6666666666666666,\"#ed7953\"],[0.7777777777777778,\"#fb9f3a\"],[0.8888888888888888,\"#fdca26\"],[1.0,\"#f0f921\"]],\"type\":\"contour\"}],\"heatmapgl\":[{\"colorbar\":{\"outlinewidth\":0,\"ticks\":\"\"},\"colorscale\":[[0.0,\"#0d0887\"],[0.1111111111111111,\"#46039f\"],[0.2222222222222222,\"#7201a8\"],[0.3333333333333333,\"#9c179e\"],[0.4444444444444444,\"#bd3786\"],[0.5555555555555556,\"#d8576b\"],[0.6666666666666666,\"#ed7953\"],[0.7777777777777778,\"#fb9f3a\"],[0.8888888888888888,\"#fdca26\"],[1.0,\"#f0f921\"]],\"type\":\"heatmapgl\"}],\"heatmap\":[{\"colorbar\":{\"outlinewidth\":0,\"ticks\":\"\"},\"colorscale\":[[0.0,\"#0d0887\"],[0.1111111111111111,\"#46039f\"],[0.2222222222222222,\"#7201a8\"],[0.3333333333333333,\"#9c179e\"],[0.4444444444444444,\"#bd3786\"],[0.5555555555555556,\"#d8576b\"],[0.6666666666666666,\"#ed7953\"],[0.7777777777777778,\"#fb9f3a\"],[0.8888888888888888,\"#fdca26\"],[1.0,\"#f0f921\"]],\"type\":\"heatmap\"}],\"histogram2dcontour\":[{\"colorbar\":{\"outlinewidth\":0,\"ticks\":\"\"},\"colorscale\":[[0.0,\"#0d0887\"],[0.1111111111111111,\"#46039f\"],[0.2222222222222222,\"#7201a8\"],[0.3333333333333333,\"#9c179e\"],[0.4444444444444444,\"#bd3786\"],[0.5555555555555556,\"#d8576b\"],[0.6666666666666666,\"#ed7953\"],[0.7777777777777778,\"#fb9f3a\"],[0.8888888888888888,\"#fdca26\"],[1.0,\"#f0f921\"]],\"type\":\"histogram2dcontour\"}],\"histogram2d\":[{\"colorbar\":{\"outlinewidth\":0,\"ticks\":\"\"},\"colorscale\":[[0.0,\"#0d0887\"],[0.1111111111111111,\"#46039f\"],[0.2222222222222222,\"#7201a8\"],[0.3333333333333333,\"#9c179e\"],[0.4444444444444444,\"#bd3786\"],[0.5555555555555556,\"#d8576b\"],[0.6666666666666666,\"#ed7953\"],[0.7777777777777778,\"#fb9f3a\"],[0.8888888888888888,\"#fdca26\"],[1.0,\"#f0f921\"]],\"type\":\"histogram2d\"}],\"histogram\":[{\"marker\":{\"pattern\":{\"fillmode\":\"overlay\",\"size\":10,\"solidity\":0.2}},\"type\":\"histogram\"}],\"mesh3d\":[{\"colorbar\":{\"outlinewidth\":0,\"ticks\":\"\"},\"type\":\"mesh3d\"}],\"parcoords\":[{\"line\":{\"colorbar\":{\"outlinewidth\":0,\"ticks\":\"\"}},\"type\":\"parcoords\"}],\"pie\":[{\"automargin\":true,\"type\":\"pie\"}],\"scatter3d\":[{\"line\":{\"colorbar\":{\"outlinewidth\":0,\"ticks\":\"\"}},\"marker\":{\"colorbar\":{\"outlinewidth\":0,\"ticks\":\"\"}},\"type\":\"scatter3d\"}],\"scattercarpet\":[{\"marker\":{\"colorbar\":{\"outlinewidth\":0,\"ticks\":\"\"}},\"type\":\"scattercarpet\"}],\"scattergeo\":[{\"marker\":{\"colorbar\":{\"outlinewidth\":0,\"ticks\":\"\"}},\"type\":\"scattergeo\"}],\"scattergl\":[{\"marker\":{\"line\":{\"color\":\"#283442\"}},\"type\":\"scattergl\"}],\"scattermapbox\":[{\"marker\":{\"colorbar\":{\"outlinewidth\":0,\"ticks\":\"\"}},\"type\":\"scattermapbox\"}],\"scatterpolargl\":[{\"marker\":{\"colorbar\":{\"outlinewidth\":0,\"ticks\":\"\"}},\"type\":\"scatterpolargl\"}],\"scatterpolar\":[{\"marker\":{\"colorbar\":{\"outlinewidth\":0,\"ticks\":\"\"}},\"type\":\"scatterpolar\"}],\"scatter\":[{\"marker\":{\"line\":{\"color\":\"#283442\"}},\"type\":\"scatter\"}],\"scatterternary\":[{\"marker\":{\"colorbar\":{\"outlinewidth\":0,\"ticks\":\"\"}},\"type\":\"scatterternary\"}],\"surface\":[{\"colorbar\":{\"outlinewidth\":0,\"ticks\":\"\"},\"colorscale\":[[0.0,\"#0d0887\"],[0.1111111111111111,\"#46039f\"],[0.2222222222222222,\"#7201a8\"],[0.3333333333333333,\"#9c179e\"],[0.4444444444444444,\"#bd3786\"],[0.5555555555555556,\"#d8576b\"],[0.6666666666666666,\"#ed7953\"],[0.7777777777777778,\"#fb9f3a\"],[0.8888888888888888,\"#fdca26\"],[1.0,\"#f0f921\"]],\"type\":\"surface\"}],\"table\":[{\"cells\":{\"fill\":{\"color\":\"#506784\"},\"line\":{\"color\":\"rgb(17,17,17)\"}},\"header\":{\"fill\":{\"color\":\"#2a3f5f\"},\"line\":{\"color\":\"rgb(17,17,17)\"}},\"type\":\"table\"}]},\"layout\":{\"annotationdefaults\":{\"arrowcolor\":\"#f2f5fa\",\"arrowhead\":0,\"arrowwidth\":1},\"autotypenumbers\":\"strict\",\"coloraxis\":{\"colorbar\":{\"outlinewidth\":0,\"ticks\":\"\"}},\"colorscale\":{\"diverging\":[[0,\"#8e0152\"],[0.1,\"#c51b7d\"],[0.2,\"#de77ae\"],[0.3,\"#f1b6da\"],[0.4,\"#fde0ef\"],[0.5,\"#f7f7f7\"],[0.6,\"#e6f5d0\"],[0.7,\"#b8e186\"],[0.8,\"#7fbc41\"],[0.9,\"#4d9221\"],[1,\"#276419\"]],\"sequential\":[[0.0,\"#0d0887\"],[0.1111111111111111,\"#46039f\"],[0.2222222222222222,\"#7201a8\"],[0.3333333333333333,\"#9c179e\"],[0.4444444444444444,\"#bd3786\"],[0.5555555555555556,\"#d8576b\"],[0.6666666666666666,\"#ed7953\"],[0.7777777777777778,\"#fb9f3a\"],[0.8888888888888888,\"#fdca26\"],[1.0,\"#f0f921\"]],\"sequentialminus\":[[0.0,\"#0d0887\"],[0.1111111111111111,\"#46039f\"],[0.2222222222222222,\"#7201a8\"],[0.3333333333333333,\"#9c179e\"],[0.4444444444444444,\"#bd3786\"],[0.5555555555555556,\"#d8576b\"],[0.6666666666666666,\"#ed7953\"],[0.7777777777777778,\"#fb9f3a\"],[0.8888888888888888,\"#fdca26\"],[1.0,\"#f0f921\"]]},\"colorway\":[\"#636efa\",\"#EF553B\",\"#00cc96\",\"#ab63fa\",\"#FFA15A\",\"#19d3f3\",\"#FF6692\",\"#B6E880\",\"#FF97FF\",\"#FECB52\"],\"font\":{\"color\":\"#f2f5fa\"},\"geo\":{\"bgcolor\":\"rgb(17,17,17)\",\"lakecolor\":\"rgb(17,17,17)\",\"landcolor\":\"rgb(17,17,17)\",\"showlakes\":true,\"showland\":true,\"subunitcolor\":\"#506784\"},\"hoverlabel\":{\"align\":\"left\"},\"hovermode\":\"closest\",\"mapbox\":{\"style\":\"dark\"},\"paper_bgcolor\":\"rgb(17,17,17)\",\"plot_bgcolor\":\"rgb(17,17,17)\",\"polar\":{\"angularaxis\":{\"gridcolor\":\"#506784\",\"linecolor\":\"#506784\",\"ticks\":\"\"},\"bgcolor\":\"rgb(17,17,17)\",\"radialaxis\":{\"gridcolor\":\"#506784\",\"linecolor\":\"#506784\",\"ticks\":\"\"}},\"scene\":{\"xaxis\":{\"backgroundcolor\":\"rgb(17,17,17)\",\"gridcolor\":\"#506784\",\"gridwidth\":2,\"linecolor\":\"#506784\",\"showbackground\":true,\"ticks\":\"\",\"zerolinecolor\":\"#C8D4E3\"},\"yaxis\":{\"backgroundcolor\":\"rgb(17,17,17)\",\"gridcolor\":\"#506784\",\"gridwidth\":2,\"linecolor\":\"#506784\",\"showbackground\":true,\"ticks\":\"\",\"zerolinecolor\":\"#C8D4E3\"},\"zaxis\":{\"backgroundcolor\":\"rgb(17,17,17)\",\"gridcolor\":\"#506784\",\"gridwidth\":2,\"linecolor\":\"#506784\",\"showbackground\":true,\"ticks\":\"\",\"zerolinecolor\":\"#C8D4E3\"}},\"shapedefaults\":{\"line\":{\"color\":\"#f2f5fa\"}},\"sliderdefaults\":{\"bgcolor\":\"#C8D4E3\",\"bordercolor\":\"rgb(17,17,17)\",\"borderwidth\":1,\"tickwidth\":0},\"ternary\":{\"aaxis\":{\"gridcolor\":\"#506784\",\"linecolor\":\"#506784\",\"ticks\":\"\"},\"baxis\":{\"gridcolor\":\"#506784\",\"linecolor\":\"#506784\",\"ticks\":\"\"},\"bgcolor\":\"rgb(17,17,17)\",\"caxis\":{\"gridcolor\":\"#506784\",\"linecolor\":\"#506784\",\"ticks\":\"\"}},\"title\":{\"x\":0.05},\"updatemenudefaults\":{\"bgcolor\":\"#506784\",\"borderwidth\":0},\"xaxis\":{\"automargin\":true,\"gridcolor\":\"#283442\",\"linecolor\":\"#506784\",\"ticks\":\"\",\"title\":{\"standoff\":15},\"zerolinecolor\":\"#283442\",\"zerolinewidth\":2},\"yaxis\":{\"automargin\":true,\"gridcolor\":\"#283442\",\"linecolor\":\"#506784\",\"ticks\":\"\",\"title\":{\"standoff\":15},\"zerolinecolor\":\"#283442\",\"zerolinewidth\":2}}},\"title\":{\"text\":\"\\u041f\\u0440\\u0435\\u0434\\u0441\\u043a\\u0430\\u0437\\u0430\\u043d\\u0438\\u0435 \\u043c\\u043e\\u0434\\u0435\\u043b\\u0438\"},\"width\":1200,\"height\":600},                        {\"responsive\": true}                    ).then(function(){\n",
              "                            \n",
              "var gd = document.getElementById('d53a0825-09d6-4c39-8476-7fb0cb0cbc8a');\n",
              "var x = new MutationObserver(function (mutations, observer) {{\n",
              "        var display = window.getComputedStyle(gd).display;\n",
              "        if (!display || display === 'none') {{\n",
              "            console.log([gd, 'removed!']);\n",
              "            Plotly.purge(gd);\n",
              "            observer.disconnect();\n",
              "        }}\n",
              "}});\n",
              "\n",
              "// Listen for the removal of the full notebook cells\n",
              "var notebookContainer = gd.closest('#notebook-container');\n",
              "if (notebookContainer) {{\n",
              "    x.observe(notebookContainer, {childList: true});\n",
              "}}\n",
              "\n",
              "// Listen for the clearing of the current output cell\n",
              "var outputEl = gd.closest('.output');\n",
              "if (outputEl) {{\n",
              "    x.observe(outputEl, {childList: true});\n",
              "}}\n",
              "\n",
              "                        })                };                            </script>        </div>\n",
              "</body>\n",
              "</html>"
            ]
          },
          "metadata": {}
        }
      ]
    }
  ],
  "metadata": {
    "kernelspec": {
      "display_name": "Python 3",
      "language": "python",
      "name": "python3"
    },
    "language_info": {
      "codemirror_mode": {
        "name": "ipython",
        "version": 3
      },
      "file_extension": ".py",
      "mimetype": "text/x-python",
      "name": "python",
      "nbconvert_exporter": "python",
      "pygments_lexer": "ipython3",
      "version": "3.7.0"
    },
    "toc": {
      "base_numbering": 1,
      "nav_menu": {},
      "number_sections": true,
      "sideBar": true,
      "skip_h1_title": false,
      "title_cell": "Table of Contents",
      "title_sidebar": "Contents",
      "toc_cell": false,
      "toc_position": {
        "height": "calc(100% - 180px)",
        "left": "10px",
        "top": "150px",
        "width": "165px"
      },
      "toc_section_display": true,
      "toc_window_display": true
    },
    "colab": {
      "provenance": [],
      "include_colab_link": true
    }
  },
  "nbformat": 4,
  "nbformat_minor": 0
}